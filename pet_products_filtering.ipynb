{
 "cells": [
  {
   "cell_type": "code",
   "execution_count": 1,
   "id": "137e4b00-9311-460f-846d-286d1bbfca57",
   "metadata": {},
   "outputs": [],
   "source": [
    "import json\n",
    "import re\n",
    "import numpy as np\n",
    "import matplotlib.pyplot as plt"
   ]
  },
  {
   "cell_type": "code",
   "execution_count": 2,
   "id": "b5df5d76",
   "metadata": {},
   "outputs": [],
   "source": [
    "import pandas as pd"
   ]
  },
  {
   "cell_type": "code",
   "execution_count": 3,
   "id": "9ec2d1a6-235a-4027-8fce-8b78e7719312",
   "metadata": {},
   "outputs": [],
   "source": [
    "file = 'meta_Pet_Supplies.jsonl'\n",
    "\n",
    "products = []\n",
    "\n",
    "with open(file, 'r') as fp:\n",
    "    for line in fp:\n",
    "        products.append(json.loads(line.strip()))"
   ]
  },
  {
   "cell_type": "code",
   "execution_count": 4,
   "id": "66ee525a-a294-4782-99f9-b137b86e81a0",
   "metadata": {},
   "outputs": [],
   "source": [
    "relevant_fields = ['parent_asin', 'title', 'rating_number', 'features', 'description']\n",
    "products = [{field:product[field] for field in relevant_fields} for product in products]\n",
    "\n",
    "# Combine features and description and remove unusual characters such as emojis.\n",
    "for product in products:\n",
    "    product['combined_description'] = re.sub(r'[^a-zA-Z0-9\\s]', '', ' '.join(product['description'] + product['features'])).strip()"
   ]
  },
  {
   "cell_type": "code",
   "execution_count": 5,
   "id": "9ff8ac64-9367-4b73-86a0-cd671a06c730",
   "metadata": {},
   "outputs": [],
   "source": [
    "# Get the number of ratings for each product\n",
    "num_ratings = []\n",
    "\n",
    "for product in products:\n",
    "    num_ratings.append(product['rating_number'])\n",
    "    \n",
    "num_ratings = np.array(num_ratings)"
   ]
  },
  {
   "cell_type": "code",
   "execution_count": 6,
   "id": "774e6295-51d3-48f8-86f2-1b4559df3fda",
   "metadata": {},
   "outputs": [
    {
     "data": {
      "image/png": "[encoded data removed]",
      "text/plain": [
       "<Figure size 432x288 with 1 Axes>"
      ]
     },
     "metadata": {
      "needs_background": "light"
     },
     "output_type": "display_data"
    }
   ],
   "source": [
    "plt.hist(num_ratings, bins=20)\n",
    "plt.title('Distribution of Product Number of Ratings')\n",
    "plt.xlabel('Number of Ratings')\n",
    "plt.ylabel('Frequency')\n",
    "plt.show()"
   ]
  },
  {
   "cell_type": "markdown",
   "id": "cea6ede7",
   "metadata": {},
   "source": [
    "The threshold for number of ratings should be 1500. This determines the popularity of this product"
   ]
  },
  {
   "cell_type": "code",
   "execution_count": 7,
   "id": "107baad7",
   "metadata": {},
   "outputs": [
    {
     "data": {
      "text/html": [
       "<div>\n",
       "<style scoped>\n",
       "    .dataframe tbody tr th:only-of-type {\n",
       "        vertical-align: middle;\n",
       "    }\n",
       "\n",
       "    .dataframe tbody tr th {\n",
       "        vertical-align: top;\n",
       "    }\n",
       "\n",
       "    .dataframe thead th {\n",
       "        text-align: right;\n",
       "    }\n",
       "</style>\n",
       "<table border=\"1\" class=\"dataframe\">\n",
       "  <thead>\n",
       "    <tr style=\"text-align: right;\">\n",
       "      <th></th>\n",
       "      <th>0</th>\n",
       "    </tr>\n",
       "  </thead>\n",
       "  <tbody>\n",
       "    <tr>\n",
       "      <th>count</th>\n",
       "      <td>492798.000000</td>\n",
       "    </tr>\n",
       "    <tr>\n",
       "      <th>mean</th>\n",
       "      <td>222.468569</td>\n",
       "    </tr>\n",
       "    <tr>\n",
       "      <th>std</th>\n",
       "      <td>1617.772655</td>\n",
       "    </tr>\n",
       "    <tr>\n",
       "      <th>min</th>\n",
       "      <td>1.000000</td>\n",
       "    </tr>\n",
       "    <tr>\n",
       "      <th>25%</th>\n",
       "      <td>5.000000</td>\n",
       "    </tr>\n",
       "    <tr>\n",
       "      <th>50%</th>\n",
       "      <td>19.000000</td>\n",
       "    </tr>\n",
       "    <tr>\n",
       "      <th>75%</th>\n",
       "      <td>77.000000</td>\n",
       "    </tr>\n",
       "    <tr>\n",
       "      <th>max</th>\n",
       "      <td>205050.000000</td>\n",
       "    </tr>\n",
       "  </tbody>\n",
       "</table>\n",
       "</div>"
      ],
      "text/plain": [
       "                   0\n",
       "count  492798.000000\n",
       "mean      222.468569\n",
       "std      1617.772655\n",
       "min         1.000000\n",
       "25%         5.000000\n",
       "50%        19.000000\n",
       "75%        77.000000\n",
       "max    205050.000000"
      ]
     },
     "execution_count": 7,
     "metadata": {},
     "output_type": "execute_result"
    }
   ],
   "source": [
    "df_describe = pd.DataFrame(num_ratings)\n",
    "df_describe.describe()"
   ]
  },
  {
   "cell_type": "code",
   "execution_count": 8,
   "id": "ab93760c-0be1-40dd-a9c4-824562a5d927",
   "metadata": {},
   "outputs": [
    {
     "name": "stdout",
     "output_type": "stream",
     "text": [
      "There are now 12262 remaining products.\n"
     ]
    }
   ],
   "source": [
    "ratings_threshold = 1500\n",
    "filtered_products = [product for product in products if product['rating_number'] > ratings_threshold]\n",
    "\n",
    "print(f\"There are now {len(filtered_products)} remaining products.\")"
   ]
  },
  {
   "cell_type": "code",
   "execution_count": 9,
   "id": "f8acdf68-cd08-4bd8-b152-a92bb3094cdd",
   "metadata": {},
   "outputs": [],
   "source": [
    "lengths = []\n",
    "has_features = 0\n",
    "has_description = 0\n",
    "\n",
    "for product in filtered_products:\n",
    "    lengths.append(len(product['combined_description']))\n",
    "    if len(product['features']) > 0:\n",
    "        has_features += 1\n",
    "    \n",
    "    if len(product['description']) > 0:\n",
    "        has_description += 1\n",
    "        \n",
    "lengths = np.array(lengths)"
   ]
  },
  {
   "cell_type": "code",
   "execution_count": 10,
   "id": "e6893596-5ea6-4fe2-8dbc-6068e83bf6c4",
   "metadata": {},
   "outputs": [
    {
     "name": "stdout",
     "output_type": "stream",
     "text": [
      "Proportion of products with features: 97.76545424889905\n",
      "Proportion of products with descriptions: 50.39960854672974\n"
     ]
    }
   ],
   "source": [
    "print(f\"Proportion of products with features: {has_features / len(filtered_products) * 100}\")\n",
    "print(f\"Proportion of products with descriptions: {has_description / len(filtered_products) * 100}\")"
   ]
  },
  {
   "cell_type": "code",
   "execution_count": 11,
   "id": "57b829bd-df48-4b2d-ae01-025a36463641",
   "metadata": {},
   "outputs": [
    {
     "data": {
      "image/png": "[encoded data removed]",
      "text/plain": [
       "<Figure size 432x288 with 1 Axes>"
      ]
     },
     "metadata": {
      "needs_background": "light"
     },
     "output_type": "display_data"
    }
   ],
   "source": [
    "plt.hist(lengths, bins=100)\n",
    "plt.title('Distribution of Product Description and Features Length')\n",
    "plt.xlabel('Character Count')\n",
    "plt.ylabel('Frequency')\n",
    "plt.show()"
   ]
  },
  {
   "cell_type": "markdown",
   "id": "5534cba4-8664-43c4-b787-a6c67fc58dc4",
   "metadata": {},
   "source": [
    "Threshold: 850"
   ]
  },
  {
   "cell_type": "code",
   "execution_count": 12,
   "id": "57d13529-7dff-490d-964a-bc012a14bf31",
   "metadata": {},
   "outputs": [
    {
     "name": "stdout",
     "output_type": "stream",
     "text": [
      "There are now 8547 remaining products.\n"
     ]
    }
   ],
   "source": [
    "description_threshold = 850 # PLEASE CHANGE THIS NUMBER\n",
    "\n",
    "final_products = [product for product in filtered_products if len(product['combined_description']) > description_threshold]\n",
    "\n",
    "print(f\"There are now {len(final_products)} remaining products.\")"
   ]
  },
  {
   "cell_type": "code",
   "execution_count": 13,
   "id": "e4c3093e",
   "metadata": {},
   "outputs": [],
   "source": [
    "pet_supplies_cleaned = pd.DataFrame(filtered_products)"
   ]
  },
  {
   "cell_type": "code",
   "execution_count": 14,
   "id": "a14d83cc",
   "metadata": {},
   "outputs": [],
   "source": [
    "pet_supplies_cleaned.to_csv(\"pet_supplies_cleaned.csv\")"
   ]
  },
  {
   "cell_type": "code",
   "execution_count": null,
   "id": "49c84806",
   "metadata": {},
   "outputs": [],
   "source": []
  }
 ],
 "metadata": {
  "kernelspec": {
   "display_name": "Python 3 (ipykernel)",
   "language": "python",
   "name": "python3"
  },
  "language_info": {
   "codemirror_mode": {
    "name": "ipython",
    "version": 3
   },
   "file_extension": ".py",
   "mimetype": "text/x-python",
   "name": "python",
   "nbconvert_exporter": "python",
   "pygments_lexer": "ipython3",
   "version": "3.9.12"
  }
 },
 "nbformat": 4,
 "nbformat_minor": 5
}
