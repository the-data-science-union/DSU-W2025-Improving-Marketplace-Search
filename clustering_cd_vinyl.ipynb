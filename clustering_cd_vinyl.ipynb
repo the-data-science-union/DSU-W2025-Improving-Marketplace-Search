{
 "cells": [
  {
   "cell_type": "code",
   "execution_count": 1,
   "metadata": {},
   "outputs": [
    {
     "name": "stderr",
     "output_type": "stream",
     "text": [
      "/Users/songchen/Library/Python/3.9/lib/python/site-packages/urllib3/__init__.py:35: NotOpenSSLWarning: urllib3 v2 only supports OpenSSL 1.1.1+, currently the 'ssl' module is compiled with 'LibreSSL 2.8.3'. See: https://github.com/urllib3/urllib3/issues/3020\n",
      "  warnings.warn(\n",
      "/Users/songchen/Library/Python/3.9/lib/python/site-packages/tqdm/auto.py:21: TqdmWarning: IProgress not found. Please update jupyter and ipywidgets. See https://ipywidgets.readthedocs.io/en/stable/user_install.html\n",
      "  from .autonotebook import tqdm as notebook_tqdm\n"
     ]
    }
   ],
   "source": [
    "import numpy as np\n",
    "import pandas as pd\n",
    "import matplotlib.pyplot as plt\n",
    "from sklearn.feature_extraction.text import TfidfVectorizer # converts text to numerical features (TF-IDF)\n",
    "from sklearn.cluster import KMeans # clusters numerical representations (tries to distribute as even size as possible)\n",
    "from sentence_transformers import SentenceTransformer # converts sentences into dense embeddings\n",
    "from umap import UMAP # reduces dimensionality of embeddings bc clustering algorithms struggle with large data\n",
    "from bertopic import BERTopic # topic modeling using Transformer-based embeddings\n",
    "import hdbscan # identify natural clusters without forcing every product to be one, else labeled as noise (doesn't have to be same size)\n",
    "import re # regular expressions for text preprocessing"
   ]
  },
  {
   "cell_type": "code",
   "execution_count": 2,
   "metadata": {},
   "outputs": [],
   "source": [
    "class ProductGroupGenerator:\n",
    "    def __init__(self, min_cluster_size = 5, max_clusters = 75):\n",
    "        self.sentence_model = SentenceTransformer('all-MiniLM-L6-v2')\n",
    "        self.tfidf = TfidfVectorizer(\n",
    "            max_features = 1000,\n",
    "            stop_words='english',\n",
    "            ngram_range=(1, 2)\n",
    "        )\n",
    "        self.min_cluster_size = min_cluster_size\n",
    "        self.max_clusters = max_clusters\n",
    "        \n",
    "    def preprocess_text(self, text):\n",
    "        # convert to lowercase and remove special characters\n",
    "        text = re.sub(r'[^a-zA-Z0-9\\s]', ' ', str(text).lower())\n",
    "        # remove extra whitespace\n",
    "        text = re.sub(r'\\s+', ' ', text).strip()\n",
    "        return text\n",
    "        \n",
    "    def generate_clusters(self, texts, method = 'combined', n_clusters = None):\n",
    "        \"\"\"\n",
    "        Generate product clusters using different methods\n",
    "        \n",
    "        Args:\n",
    "            texts: List of product titles/descriptions\n",
    "            method: One of 'tfidf_kmeans', 'bert_topic', or 'combined'\n",
    "            n_clusters: Optional target number of clusters\n",
    "        \"\"\"\n",
    "        if n_clusters is None:\n",
    "            n_clusters = min(len(texts) // self.min_cluster_size, self.max_clusters)\n",
    "            \n",
    "        processed_texts = [self.preprocess_text(text) for text in texts]\n",
    "        \n",
    "        if method == 'tfidf_kmeans':\n",
    "            return self._cluster_tfidf_kmeans(processed_texts, n_clusters)\n",
    "        elif method == 'bert_topic':\n",
    "            return self._cluster_bert_topic(processed_texts)\n",
    "        elif method == 'combined':\n",
    "            return self._cluster_combined(processed_texts, n_clusters)\n",
    "        else:\n",
    "            raise ValueError(\"Invalid clustering method\")\n",
    "    \n",
    "    def _cluster_tfidf_kmeans(self, texts, n_clusters):\n",
    "        # transform texts to TF-IDF vectors\n",
    "        tfidf_matrix = self.tfidf.fit_transform(texts)\n",
    "        \n",
    "        kmeans = KMeans(n_clusters = n_clusters, random_state = 42)\n",
    "        labels = kmeans.fit_predict(tfidf_matrix)\n",
    "        \n",
    "        # get top terms for each cluster\n",
    "        cluster_terms = {}\n",
    "        feature_names = self.tfidf.get_feature_names_out()\n",
    "        for i in range(n_clusters):\n",
    "            center_indices = kmeans.cluster_centers_[i].argsort()[::-1][:5]\n",
    "            cluster_terms[i] = [feature_names[idx] for idx in center_indices]\n",
    "            \n",
    "        return labels, cluster_terms\n",
    "    \n",
    "    def _cluster_bert_topic(self, texts):\n",
    "        # create embeddings\n",
    "        embeddings = self.sentence_model.encode(texts)\n",
    "        \n",
    "        # initialize BERTopic\n",
    "        topic_model = BERTopic(\n",
    "            umap_model = UMAP(n_neighbors = 15, n_components = 5, min_dist = 0.0, metric = 'cosine'),\n",
    "            hdbscan_model = hdbscan.HDBSCAN(\n",
    "                min_cluster_size = self.min_cluster_size,\n",
    "                min_samples = 1,\n",
    "                metric = 'euclidean',\n",
    "                cluster_selection_method = 'eom'\n",
    "            ),\n",
    "            verbose=True\n",
    "        )\n",
    "        \n",
    "        # fit the model and get topics\n",
    "        labels, _ = topic_model.fit_transform(texts, embeddings)\n",
    "        \n",
    "        # get topic terms\n",
    "        topic_terms = {}\n",
    "        for topic_idx, words in topic_model.get_topics().items():\n",
    "            topic_terms[topic_idx] = [word[0] for word in words[:5]]\n",
    "            \n",
    "        return labels, topic_terms\n",
    "    \n",
    "    def _cluster_combined(self, texts, n_clusters):\n",
    "        # get clusters from both methods\n",
    "        print(\"CLUSTERING BY KMEANS\")\n",
    "        kmeans_labels, kmeans_terms = self._cluster_tfidf_kmeans(texts, n_clusters)\n",
    "        print(\"CLUSTERING BY BERT\")\n",
    "        bert_labels, bert_terms = self._cluster_bert_topic(texts)\n",
    "        \n",
    "        # create ensemble clustering\n",
    "        # convert labels to one-hot encoding\n",
    "        def one_hot_encode(labels):\n",
    "            n_unique = len(np.unique(labels))\n",
    "            return np.eye(n_unique)[labels]\n",
    "        \n",
    "        kmeans_oh = one_hot_encode(kmeans_labels)\n",
    "        bert_oh = one_hot_encode(bert_labels)\n",
    "        \n",
    "        # concatenate features\n",
    "        combined_features = np.hstack([kmeans_oh, bert_oh])\n",
    "        \n",
    "        # final clustering on combined features\n",
    "        print(\"CREATING FINAL CLUSTERING COMBINATION\")\n",
    "        final_kmeans = KMeans(n_clusters=n_clusters)\n",
    "        final_labels = final_kmeans.fit_predict(combined_features)\n",
    "        \n",
    "        # combine terms from both methods for final clusters\n",
    "        final_terms = {}\n",
    "        for i in range(n_clusters):\n",
    "            terms_set = set()\n",
    "            terms_set.update(kmeans_terms.get(i, []))\n",
    "            terms_set.update(bert_terms.get(i, []))\n",
    "            final_terms[i] = list(terms_set)[:5]\n",
    "            \n",
    "        return final_labels, final_terms\n",
    "\n",
    "    def analyze_clusters(self, texts, labels, cluster_terms):\n",
    "        \"\"\"\n",
    "        Analyze cluster quality and characteristics\n",
    "        \"\"\"\n",
    "        cluster_stats = {}\n",
    "        unique_labels = np.unique(labels)\n",
    "        \n",
    "        for label in unique_labels:\n",
    "            cluster_texts = [texts[i] for i in range(len(texts)) if labels[i] == label]\n",
    "            cluster_stats[label] = {\n",
    "                'size': len(cluster_texts),\n",
    "                'terms': cluster_terms.get(label, []),\n",
    "                'sample_products': cluster_texts[:3]  # Show 3 example products\n",
    "            }\n",
    "            \n",
    "        return cluster_stats"
   ]
  },
  {
   "cell_type": "code",
   "execution_count": 3,
   "metadata": {},
   "outputs": [],
   "source": [
    "# prepare your data\n",
    "products_df = pd.read_csv(\"cds_vinyl_product.csv\")\n",
    "texts = products_df['title'] + ' ' + products_df['description']"
   ]
  },
  {
   "cell_type": "code",
   "execution_count": 4,
   "metadata": {},
   "outputs": [],
   "source": [
    "# initialize clustering class\n",
    "generator = ProductGroupGenerator(min_cluster_size = 50, max_clusters = 200)"
   ]
  },
  {
   "cell_type": "code",
   "execution_count": 5,
   "metadata": {},
   "outputs": [
    {
     "name": "stdout",
     "output_type": "stream",
     "text": [
      "CLUSTERING BY KMEANS\n",
      "CLUSTERING BY BERT\n"
     ]
    },
    {
     "name": "stderr",
     "output_type": "stream",
     "text": [
      "2025-02-27 20:40:32,903 - BERTopic - Dimensionality - Fitting the dimensionality reduction algorithm\n",
      "OMP: Info #276: omp_set_nested routine deprecated, please use omp_set_max_active_levels instead.\n",
      "2025-02-27 20:40:43,350 - BERTopic - Dimensionality - Completed ✓\n",
      "2025-02-27 20:40:43,351 - BERTopic - Cluster - Start clustering the reduced embeddings\n",
      "2025-02-27 20:40:43,411 - BERTopic - Cluster - Completed ✓\n",
      "2025-02-27 20:40:43,415 - BERTopic - Representation - Extracting topics from clusters using representation models.\n",
      "2025-02-27 20:40:43,623 - BERTopic - Representation - Completed ✓\n"
     ]
    },
    {
     "name": "stdout",
     "output_type": "stream",
     "text": [
      "CREATING FINAL CLUSTERING COMBINATION\n"
     ]
    }
   ],
   "source": [
    "# run clustering\n",
    "labels, cluster_terms = generator.generate_clusters(texts, method = 'combined')"
   ]
  },
  {
   "cell_type": "code",
   "execution_count": 6,
   "metadata": {},
   "outputs": [],
   "source": [
    "# analyze the clusters\n",
    "cluster_stats = generator.analyze_clusters(texts, labels, cluster_terms)"
   ]
  },
  {
   "cell_type": "code",
   "execution_count": 7,
   "metadata": {},
   "outputs": [
    {
     "data": {
      "text/plain": [
       "3502"
      ]
     },
     "execution_count": 7,
     "metadata": {},
     "output_type": "execute_result"
    }
   ],
   "source": [
    "# number of total products\n",
    "products_df.shape[0] "
   ]
  },
  {
   "cell_type": "code",
   "execution_count": 8,
   "metadata": {},
   "outputs": [
    {
     "data": {
      "text/plain": [
       "70"
      ]
     },
     "execution_count": 8,
     "metadata": {},
     "output_type": "execute_result"
    }
   ],
   "source": [
    "# number of clusters\n",
    "len(cluster_stats)"
   ]
  },
  {
   "cell_type": "code",
   "execution_count": 9,
   "metadata": {},
   "outputs": [
    {
     "name": "stdout",
     "output_type": "stream",
     "text": [
      "Cluster Size: 36\n",
      "Key Terms: the, her, brian, in, stereo\n",
      "\n",
      "Cluster Size: 40\n",
      "Key Terms: 180 gram, gram vinyl, to, the, vinyl\n",
      "\n",
      "Cluster Size: 28\n",
      "Key Terms: antiskate, the, beatles, player, in\n",
      "\n",
      "Cluster Size: 82\n",
      "Key Terms: gilmour, floyd, the, pink floyd, in\n",
      "\n",
      "Cluster Size: 4\n",
      "Key Terms: to, the, black, his, of\n",
      "\n",
      "Cluster Size: 90\n",
      "Key Terms: certified, floyd, the, released, hits\n",
      "\n",
      "Cluster Size: 102\n",
      "Key Terms: digitally, the, digitally remastered, live, blue\n",
      "\n",
      "Cluster Size: 1\n",
      "Key Terms: companion, the, in, original, companion audio\n",
      "\n",
      "Cluster Size: 59\n",
      "Key Terms: antiskate, adjust, song, try, album\n",
      "\n",
      "Cluster Size: 77\n",
      "Key Terms: the, release, lyrics, holiday, album\n",
      "\n"
     ]
    }
   ],
   "source": [
    "# sample of group sizes and key terms\n",
    "for i in range(10):\n",
    "    print(f\"Cluster Size: {cluster_stats[i]['size']}\")\n",
    "    print(f\"Key Terms: {', '.join(cluster_stats[i]['terms'])}\\n\")"
   ]
  },
  {
   "cell_type": "code",
   "execution_count": 10,
   "metadata": {},
   "outputs": [],
   "source": [
    "# extract the size of each cluster and store it in the list\n",
    "num_items = []\n",
    "\n",
    "for cluster in cluster_stats.keys():\n",
    "    num_items.append(cluster_stats[cluster]['size'])"
   ]
  },
  {
   "cell_type": "code",
   "execution_count": 11,
   "metadata": {},
   "outputs": [
    {
     "data": {
      "image/png": "[encoded data removed]",
      "text/plain": [
       "<Figure size 640x480 with 1 Axes>"
      ]
     },
     "metadata": {},
     "output_type": "display_data"
    }
   ],
   "source": [
    "plt.hist(num_items, bins = 30, density = True)\n",
    "plt.title(\"Cluster Size Distribution\")\n",
    "plt.xlabel(\"Number of Products in Group\")\n",
    "plt.ylabel(\"Relative Frequency\")\n",
    "plt.show()"
   ]
  },
  {
   "cell_type": "code",
   "execution_count": 12,
   "metadata": {},
   "outputs": [
    {
     "data": {
      "text/plain": [
       "label\n",
       "23    221\n",
       "60    212\n",
       "52    162\n",
       "47    156\n",
       "30    145\n",
       "Name: count, dtype: int64"
      ]
     },
     "execution_count": 12,
     "metadata": {},
     "output_type": "execute_result"
    }
   ],
   "source": [
    "products_df['label'] = labels # add a new column label where each row gets assigned a cluster number\n",
    "products_df['label'].value_counts()[:5] # counts the number of products in each cluster and sort in descending order"
   ]
  },
  {
   "cell_type": "code",
   "execution_count": 14,
   "metadata": {},
   "outputs": [
    {
     "data": {
      "text/plain": [
       "{'size': 221,\n",
       " 'terms': ['albums', 'stones', 'album', 'rolling stones', 'rolling'],\n",
       " 'sample_products': ['Thanks for the Dance 2019 posthumous release from the late singersongwriter produced by leonards son adam and engineered and mixed by michael chaves the duo also worked together with leonard on the 2016 album you want it darker thanks for the dance is not a commemorative collection of b sides and outtakes but an unexpected harvest of new songs exciting and vital a continuation of the masters final work this remarkable album was made in many places javier mas the great spanish laud player who accompanied leonard on stage for the last eight years of touring flew from barcelona to los angeles to capture the artists spirit on leonards own guitar in berlin at a musical event called people festival adam invited friends and comrades to lend their ears and talents damien rice and leslie feist sang richard reed parry of arcade fire played bass bryce dessner of the national played guitar the composer dustin ohalloran played piano',\n",
       "  'The Greatest Hits Collection product description no description availableno track information available media type cd artist jacksonalan title greatest hits collection street release date 10241995domestic genre country amazoncom as a superstar whos revered by both the young country audience and traditionalists alan jackson is at his finest when hes steers clear of trifles like chattahoochie and takes those younger fans to school here he does just that by paying respects to hank midnight in montgomery swearing allegiance to george jones dont rock the jukebox and calling out all those newcomers whove decided its time to get twangy now that countrys hot gone country all of it pales next to here in the real world however as perfect a honkytonk weeper as mainstream nashville has produced in 30 years david cantwell',\n",
       "  'Greatest Hits...So Far!!!       Explicit Lyrics dvd track listing1there you go2most girls3just like a pill4get the party started5don t let me get me6family portrait7stupid girls8who knew9u  ur hand10dear mr president  from i m not dead live  wembley arena11so what12sober13please don t leave me14funhouse15i don t believe you16glitter in the air  from funhouse live in australia17leave me alone i m lonely  the funhouse freak show edition 18please don t leave me  the funhouse freak show edition19funhouse  the funhouse freak show edition behind the scenesof the funhouse video of the greatest hitsso far photo shoot']}"
      ]
     },
     "execution_count": 14,
     "metadata": {},
     "output_type": "execute_result"
    }
   ],
   "source": [
    "cluster_stats[23]"
   ]
  },
  {
   "cell_type": "code",
   "execution_count": 16,
   "metadata": {},
   "outputs": [],
   "source": [
    "products_df.to_csv(\"labeled_cds_vinyl_products.csv\", index = False)"
   ]
  }
 ],
 "metadata": {
  "kernelspec": {
   "display_name": "Python 3",
   "language": "python",
   "name": "python3"
  },
  "language_info": {
   "codemirror_mode": {
    "name": "ipython",
    "version": 3
   },
   "file_extension": ".py",
   "mimetype": "text/x-python",
   "name": "python",
   "nbconvert_exporter": "python",
   "pygments_lexer": "ipython3",
   "version": "3.9.6"
  }
 },
 "nbformat": 4,
 "nbformat_minor": 2
}
