{
 "cells": [
  {
   "cell_type": "code",
   "execution_count": 12,
   "metadata": {},
   "outputs": [],
   "source": [
    "import numpy as np\n",
    "import pandas as pd\n",
    "import matplotlib.pyplot as plt\n",
    "from sklearn.feature_extraction.text import TfidfVectorizer # converts text to numerical features (TF-IDF)\n",
    "from sklearn.cluster import KMeans # clusters numerical representations (tries to distribute as even size as possible)\n",
    "from sentence_transformers import SentenceTransformer # converts sentences into dense embeddings\n",
    "from umap import UMAP # reduces dimensionality of embeddings bc clustering algorithms struggle with large data\n",
    "from bertopic import BERTopic # topic modeling using Transformer-based embeddings\n",
    "import hdbscan # identify natural clusters without forcing every product to be one, else labeled as noise (doesn't have to be same size)\n",
    "import re # regular expressions for text preprocessing"
   ]
  },
  {
   "cell_type": "code",
   "execution_count": 13,
   "metadata": {},
   "outputs": [],
   "source": [
    "class ProductGroupGenerator:\n",
    "    def __init__(self, min_cluster_size = 5, max_clusters = 75):\n",
    "        self.sentence_model = SentenceTransformer('all-MiniLM-L6-v2')\n",
    "        self.tfidf = TfidfVectorizer(\n",
    "            max_features = 1000,\n",
    "            stop_words='english',\n",
    "            ngram_range=(1, 2)\n",
    "        )\n",
    "        self.min_cluster_size = min_cluster_size\n",
    "        self.max_clusters = max_clusters\n",
    "        \n",
    "    def preprocess_text(self, text):\n",
    "        # convert to lowercase and remove special characters\n",
    "        text = re.sub(r'[^a-zA-Z0-9\\s]', ' ', str(text).lower())\n",
    "        # remove extra whitespace\n",
    "        text = re.sub(r'\\s+', ' ', text).strip()\n",
    "        return text\n",
    "        \n",
    "    def generate_clusters(self, texts, method = 'combined', n_clusters = None):\n",
    "        \"\"\"\n",
    "        Generate product clusters using different methods\n",
    "        \n",
    "        Args:\n",
    "            texts: List of product titles/descriptions\n",
    "            method: One of 'tfidf_kmeans', 'bert_topic', or 'combined'\n",
    "            n_clusters: Optional target number of clusters\n",
    "        \"\"\"\n",
    "        if n_clusters is None:\n",
    "            n_clusters = min(len(texts) // self.min_cluster_size, self.max_clusters)\n",
    "            \n",
    "        processed_texts = [self.preprocess_text(text) for text in texts]\n",
    "        \n",
    "        if method == 'tfidf_kmeans':\n",
    "            return self._cluster_tfidf_kmeans(processed_texts, n_clusters)\n",
    "        elif method == 'bert_topic':\n",
    "            return self._cluster_bert_topic(processed_texts)\n",
    "        elif method == 'combined':\n",
    "            return self._cluster_combined(processed_texts, n_clusters)\n",
    "        else:\n",
    "            raise ValueError(\"Invalid clustering method\")\n",
    "    \n",
    "    def _cluster_tfidf_kmeans(self, texts, n_clusters):\n",
    "        # transform texts to TF-IDF vectors\n",
    "        tfidf_matrix = self.tfidf.fit_transform(texts)\n",
    "        \n",
    "        kmeans = KMeans(n_clusters = n_clusters, random_state = 42)\n",
    "        labels = kmeans.fit_predict(tfidf_matrix)\n",
    "        \n",
    "        # get top terms for each cluster\n",
    "        cluster_terms = {}\n",
    "        feature_names = self.tfidf.get_feature_names_out()\n",
    "        for i in range(n_clusters):\n",
    "            center_indices = kmeans.cluster_centers_[i].argsort()[::-1][:5]\n",
    "            cluster_terms[i] = [feature_names[idx] for idx in center_indices]\n",
    "            \n",
    "        return labels, cluster_terms\n",
    "    \n",
    "    def _cluster_bert_topic(self, texts):\n",
    "        # create embeddings\n",
    "        embeddings = self.sentence_model.encode(texts)\n",
    "        \n",
    "        # initialize BERTopic\n",
    "        topic_model = BERTopic(\n",
    "            umap_model = UMAP(n_neighbors = 15, n_components = 5, min_dist = 0.0, metric = 'cosine'),\n",
    "            hdbscan_model = hdbscan.HDBSCAN(\n",
    "                min_cluster_size = self.min_cluster_size,\n",
    "                min_samples = 1,\n",
    "                metric = 'euclidean',\n",
    "                cluster_selection_method = 'eom'\n",
    "            ),\n",
    "            verbose=True\n",
    "        )\n",
    "        \n",
    "        # fit the model and get topics\n",
    "        labels, _ = topic_model.fit_transform(texts, embeddings)\n",
    "        \n",
    "        # get topic terms\n",
    "        topic_terms = {}\n",
    "        for topic_idx, words in topic_model.get_topics().items():\n",
    "            topic_terms[topic_idx] = [word[0] for word in words[:5]]\n",
    "            \n",
    "        return labels, topic_terms\n",
    "    \n",
    "    def _cluster_combined(self, texts, n_clusters):\n",
    "        # get clusters from both methods\n",
    "        print(\"CLUSTERING BY KMEANS\")\n",
    "        kmeans_labels, kmeans_terms = self._cluster_tfidf_kmeans(texts, n_clusters)\n",
    "        print(\"CLUSTERING BY BERT\")\n",
    "        bert_labels, bert_terms = self._cluster_bert_topic(texts)\n",
    "        \n",
    "        # create ensemble clustering\n",
    "        # convert labels to one-hot encoding\n",
    "        def one_hot_encode(labels):\n",
    "            n_unique = len(np.unique(labels))\n",
    "            return np.eye(n_unique)[labels]\n",
    "        \n",
    "        kmeans_oh = one_hot_encode(kmeans_labels)\n",
    "        bert_oh = one_hot_encode(bert_labels)\n",
    "        \n",
    "        # concatenate features\n",
    "        combined_features = np.hstack([kmeans_oh, bert_oh])\n",
    "        \n",
    "        # final clustering on combined features\n",
    "        print(\"CREATING FINAL CLUSTERING COMBINATION\")\n",
    "        final_kmeans = KMeans(n_clusters=n_clusters)\n",
    "        final_labels = final_kmeans.fit_predict(combined_features)\n",
    "        \n",
    "        # combine terms from both methods for final clusters\n",
    "        final_terms = {}\n",
    "        for i in range(n_clusters):\n",
    "            terms_set = set()\n",
    "            terms_set.update(kmeans_terms.get(i, []))\n",
    "            terms_set.update(bert_terms.get(i, []))\n",
    "            final_terms[i] = list(terms_set)[:5]\n",
    "            \n",
    "        return final_labels, final_terms\n",
    "\n",
    "    def analyze_clusters(self, texts, labels, cluster_terms):\n",
    "        \"\"\"\n",
    "        Analyze cluster quality and characteristics\n",
    "        \"\"\"\n",
    "        cluster_stats = {}\n",
    "        unique_labels = np.unique(labels)\n",
    "        \n",
    "        for label in unique_labels:\n",
    "            cluster_texts = [texts[i] for i in range(len(texts)) if labels[i] == label]\n",
    "            cluster_stats[label] = {\n",
    "                'size': len(cluster_texts),\n",
    "                'terms': cluster_terms.get(label, []),\n",
    "                'sample_products': cluster_texts[:3]  # Show 3 example products\n",
    "            }\n",
    "            \n",
    "        return cluster_stats"
   ]
  },
  {
   "cell_type": "code",
   "execution_count": 9,
   "metadata": {},
   "outputs": [],
   "source": [
    "# prepare your data\n",
    "products_df = pd.read_csv(\"cds_vinyl_product.csv\")\n",
    "texts = products_df['title'] + ' ' + products_df['description']"
   ]
  },
  {
   "cell_type": "code",
   "execution_count": 10,
   "metadata": {},
   "outputs": [],
   "source": [
    "# initialize clustering class\n",
    "generator = ProductGroupGenerator(min_cluster_size = 50, max_clusters = 200)"
   ]
  },
  {
   "cell_type": "code",
   "execution_count": 11,
   "metadata": {},
   "outputs": [
    {
     "name": "stdout",
     "output_type": "stream",
     "text": [
      "CLUSTERING BY KMEANS\n",
      "CLUSTERING BY BERT\n"
     ]
    },
    {
     "name": "stderr",
     "output_type": "stream",
     "text": [
      "2025-02-08 12:18:20,561 - BERTopic - Dimensionality - Fitting the dimensionality reduction algorithm\n",
      "OMP: Info #276: omp_set_nested routine deprecated, please use omp_set_max_active_levels instead.\n",
      "2025-02-08 12:18:33,226 - BERTopic - Dimensionality - Completed ✓\n",
      "2025-02-08 12:18:33,227 - BERTopic - Cluster - Start clustering the reduced embeddings\n",
      "2025-02-08 12:18:33,304 - BERTopic - Cluster - Completed ✓\n",
      "2025-02-08 12:18:33,310 - BERTopic - Representation - Extracting topics from clusters using representation models.\n",
      "2025-02-08 12:18:33,564 - BERTopic - Representation - Completed ✓\n"
     ]
    },
    {
     "name": "stdout",
     "output_type": "stream",
     "text": [
      "CREATING FINAL CLUSTERING COMBINATION\n"
     ]
    }
   ],
   "source": [
    "# run clustering\n",
    "labels, cluster_terms = generator.generate_clusters(texts, method = 'combined')"
   ]
  },
  {
   "cell_type": "code",
   "execution_count": 14,
   "metadata": {},
   "outputs": [],
   "source": [
    "# analyze the clusters\n",
    "cluster_stats = generator.analyze_clusters(texts, labels, cluster_terms)"
   ]
  },
  {
   "cell_type": "code",
   "execution_count": 15,
   "metadata": {},
   "outputs": [
    {
     "data": {
      "text/plain": [
       "3502"
      ]
     },
     "execution_count": 15,
     "metadata": {},
     "output_type": "execute_result"
    }
   ],
   "source": [
    "# number of total products\n",
    "products_df.shape[0] "
   ]
  },
  {
   "cell_type": "code",
   "execution_count": 16,
   "metadata": {},
   "outputs": [
    {
     "data": {
      "text/plain": [
       "70"
      ]
     },
     "execution_count": 16,
     "metadata": {},
     "output_type": "execute_result"
    }
   ],
   "source": [
    "# number of clusters\n",
    "len(cluster_stats)"
   ]
  },
  {
   "cell_type": "code",
   "execution_count": 17,
   "metadata": {},
   "outputs": [
    {
     "name": "stdout",
     "output_type": "stream",
     "text": [
      "Cluster Size: 170\n",
      "Key Terms: her, stereo, album, in, of\n",
      "\n",
      "Cluster Size: 97\n",
      "Key Terms: vinyl, of, the, to, is\n",
      "\n",
      "Cluster Size: 19\n",
      "Key Terms: antiskate, flat, player, of, the\n",
      "\n",
      "Cluster Size: 32\n",
      "Key Terms: metallica, gilmour, album, pink, the\n",
      "\n",
      "Cluster Size: 149\n",
      "Key Terms: black sabbath, pink, the, floyd, of\n",
      "\n",
      "Cluster Size: 7\n",
      "Key Terms: released, hits, album, charts, of\n",
      "\n",
      "Cluster Size: 83\n",
      "Key Terms: digitally remastered, digitally, album, and, of\n",
      "\n",
      "Cluster Size: 11\n",
      "Key Terms: companion audio, led, in, zeppelin, the\n",
      "\n",
      "Cluster Size: 241\n",
      "Key Terms: antiskate, flat, you, album, like\n",
      "\n",
      "Cluster Size: 70\n",
      "Key Terms: holiday, album, and, of, explicit\n",
      "\n"
     ]
    }
   ],
   "source": [
    "# sample of group sizes and key terms\n",
    "for i in range(10):\n",
    "    print(f\"Cluster Size: {cluster_stats[i]['size']}\")\n",
    "    print(f\"Key Terms: {', '.join(cluster_stats[i]['terms'])}\\n\")"
   ]
  },
  {
   "cell_type": "code",
   "execution_count": 19,
   "metadata": {},
   "outputs": [],
   "source": [
    "# extract the size of each cluster and store it in the list\n",
    "num_items = []\n",
    "\n",
    "for cluster in cluster_stats.keys():\n",
    "    num_items.append(cluster_stats[cluster]['size'])"
   ]
  },
  {
   "cell_type": "code",
   "execution_count": 20,
   "metadata": {},
   "outputs": [
    {
     "data": {
      "image/png": "[encoded data removed]",
      "text/plain": [
       "<Figure size 640x480 with 1 Axes>"
      ]
     },
     "metadata": {},
     "output_type": "display_data"
    }
   ],
   "source": [
    "plt.hist(num_items, bins = 30, density = True)\n",
    "plt.title(\"Cluster Size Distribution\")\n",
    "plt.xlabel(\"Number of Products in Group\")\n",
    "plt.ylabel(\"Relative Frequency\")\n",
    "plt.show()"
   ]
  },
  {
   "cell_type": "code",
   "execution_count": 21,
   "metadata": {},
   "outputs": [
    {
     "data": {
      "text/plain": [
       "label\n",
       "44    291\n",
       "8     241\n",
       "0     170\n",
       "4     149\n",
       "23    104\n",
       "Name: count, dtype: int64"
      ]
     },
     "execution_count": 21,
     "metadata": {},
     "output_type": "execute_result"
    }
   ],
   "source": [
    "products_df['label'] = labels # add a new column label where each row gets assigned a cluster number\n",
    "products_df['label'].value_counts()[:5] # counts the number of products in each cluster and sort in descending order"
   ]
  },
  {
   "cell_type": "code",
   "execution_count": 27,
   "metadata": {},
   "outputs": [
    {
     "data": {
      "text/plain": [
       "{'size': 291,\n",
       " 'terms': ['lp pressing', 'vinyl', 'pressing', 'vinyl lp', 'lp'],\n",
       " 'sample_products': ['In Through the out Door on its release in the summer of 1979 in through the out door topped the us and uk album charts and has since been certified sixtimes platinum sadly it would be the last album that led zeppelin recorded prior to drummer john bonhams passing the following year among the seven album tracks are fool in the rain and all my love two songs that remain rock radio staples to this day the albums companion audio disc features an unreleased rough mix of every track from the original album super deluxe edition box set includes\\xa0 cd1 japanese replica of the original album newly remastered in vinyl replica single wallet replica mini brown bag paintable mini insert\\xa0 cd2 companion audio in a new single wallet sleeve featuring previously unreleased rough mixes of all the tracks\\xa0 vinyl 1 original album newly remastered on 180 gram vinyl in a single sleeve replicating the original album\\xa0 vinyl 2 companion audio on 180 gram vinyl in a new single sleeve featuring negative artwork based on the original album artwork and featuring previously unreleased rough mixes of all the tracks\\xa0 hd download card with the original album and companion audio in 96 24 highdefinition audio\\xa0 the first pressing includes an lp sized individually numbered high quality print of the original album cover one of 30000\\xa0 albumsize hardback book 80 pages\\xa0 replica brown paper bag  replica 12 x 12 paintable insert',\n",
       "  'Destroyer: Resurrected resurrected newly remixed from the original master tapes by the albums original producer bob ezrin ezrin pulled the tapes from the vaults and painstakingly remixed the entire album enhancing the sound and bringing out its rich texture and vibrancy while keeping the integrity of the original recording intact destroyer resurrected will also include rare and unreleased recordings rediscovered during the remixing process plus the originally intended cover artwork',\n",
       "  'ELVIS Soundtrack       Explicit Lyrics elvis  original motion picture soundtrack is the music companion to the warner bros pictures biopic film elvis from baz lurhmann this critically acclaimed film stars austin butler as elvis presley and tom hanks as his enigmatic manager colonel tom parker the soundtrack features a sampling of original songs from elviss extraordinary body of work from the 1950s 60s and 70s and new recordings celebrating his diverse musical influence and enduring impact on popular artists of today elvis  original motion picture soundtrack includes plenty of alist names across the musical spectrum starting with elvis himself additional artists included here are doja cat nardo wick jack white chris isaak eminem swae lee diplo kacey musgraves jazmine sullivan tame impala stevie nicks and many others elvis  ost']}"
      ]
     },
     "execution_count": 27,
     "metadata": {},
     "output_type": "execute_result"
    }
   ],
   "source": [
    "cluster_stats[44]"
   ]
  },
  {
   "cell_type": "code",
   "execution_count": 26,
   "metadata": {},
   "outputs": [],
   "source": [
    "products_df.to_csv(\"labeled_cds_vinyl_products.csv\", index = False)"
   ]
  }
 ],
 "metadata": {
  "kernelspec": {
   "display_name": "Python 3",
   "language": "python",
   "name": "python3"
  },
  "language_info": {
   "codemirror_mode": {
    "name": "ipython",
    "version": 3
   },
   "file_extension": ".py",
   "mimetype": "text/x-python",
   "name": "python",
   "nbconvert_exporter": "python",
   "pygments_lexer": "ipython3",
   "version": "3.9.6"
  }
 },
 "nbformat": 4,
 "nbformat_minor": 2
}
