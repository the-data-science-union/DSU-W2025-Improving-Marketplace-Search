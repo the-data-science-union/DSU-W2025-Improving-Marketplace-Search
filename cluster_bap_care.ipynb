{
 "cells": [
  {
   "cell_type": "code",
   "execution_count": 1,
   "id": "cd411acb-03eb-49aa-816f-9eb6934d6e8c",
   "metadata": {},
   "outputs": [],
   "source": [
    "import numpy as np\n",
    "import pandas as pd\n",
    "import matplotlib.pyplot as plt\n",
    "from sklearn.feature_extraction.text import TfidfVectorizer\n",
    "from sklearn.cluster import KMeans\n",
    "from sentence_transformers import SentenceTransformer\n",
    "from umap import UMAP\n",
    "from bertopic import BERTopic\n",
    "import hdbscan\n",
    "import re"
   ]
  },
  {
   "cell_type": "code",
   "execution_count": 2,
   "id": "7cc242b8-9284-4e3c-86b8-dc00c9a1ee6b",
   "metadata": {},
   "outputs": [],
   "source": [
    "class ProductGroupGenerator:\n",
    "    def __init__(self, min_cluster_size=5, max_clusters=75):\n",
    "        self.sentence_model = SentenceTransformer('all-MiniLM-L6-v2')\n",
    "        self.tfidf = TfidfVectorizer(\n",
    "            max_features=1000,\n",
    "            stop_words='english',\n",
    "            ngram_range=(1, 2)\n",
    "        )\n",
    "        self.min_cluster_size = min_cluster_size\n",
    "        self.max_clusters = max_clusters\n",
    "        \n",
    "    def preprocess_text(self, text):\n",
    "        # Convert to lowercase and remove special characters\n",
    "        text = re.sub(r'[^a-zA-Z0-9\\s]', ' ', str(text).lower())\n",
    "        # Remove extra whitespace\n",
    "        text = re.sub(r'\\s+', ' ', text).strip()\n",
    "        return text\n",
    "        \n",
    "    def generate_clusters(self, texts, method='combined', n_clusters=None):\n",
    "        \"\"\"\n",
    "        Generate product clusters using different methods\n",
    "        \n",
    "        Args:\n",
    "            texts: List of product titles/descriptions\n",
    "            method: One of 'tfidf_kmeans', 'bert_topic', or 'combined'\n",
    "            n_clusters: Optional target number of clusters\n",
    "        \"\"\"\n",
    "        if n_clusters is None:\n",
    "            n_clusters = min(len(texts) // self.min_cluster_size, self.max_clusters)\n",
    "            \n",
    "        processed_texts = [self.preprocess_text(text) for text in texts]\n",
    "        \n",
    "        if method == 'tfidf_kmeans':\n",
    "            return self._cluster_tfidf_kmeans(processed_texts, n_clusters)\n",
    "        elif method == 'bert_topic':\n",
    "            return self._cluster_bert_topic(processed_texts)\n",
    "        elif method == 'combined':\n",
    "            return self._cluster_combined(processed_texts, n_clusters)\n",
    "        else:\n",
    "            raise ValueError(\"Invalid clustering method\")\n",
    "    \n",
    "    def _cluster_tfidf_kmeans(self, texts, n_clusters):\n",
    "        # Transform texts to TF-IDF vectors\n",
    "        tfidf_matrix = self.tfidf.fit_transform(texts)\n",
    "        \n",
    "        kmeans = KMeans(n_clusters=n_clusters, random_state=42)\n",
    "        labels = kmeans.fit_predict(tfidf_matrix)\n",
    "        \n",
    "        # Get top terms for each cluster\n",
    "        cluster_terms = {}\n",
    "        feature_names = self.tfidf.get_feature_names_out()\n",
    "        for i in range(n_clusters):\n",
    "            center_indices = kmeans.cluster_centers_[i].argsort()[::-1][:5]\n",
    "            cluster_terms[i] = [feature_names[idx] for idx in center_indices]\n",
    "            \n",
    "        return labels, cluster_terms\n",
    "    \n",
    "    def _cluster_bert_topic(self, texts):\n",
    "        # Create embeddings\n",
    "        embeddings = self.sentence_model.encode(texts)\n",
    "        \n",
    "        # Initialize BERTopic\n",
    "        topic_model = BERTopic(\n",
    "            umap_model=UMAP(n_neighbors=15, n_components=5, min_dist=0.0, metric='cosine'),\n",
    "            hdbscan_model=hdbscan.HDBSCAN(\n",
    "                min_cluster_size=self.min_cluster_size,\n",
    "                min_samples=1,\n",
    "                metric='euclidean',\n",
    "                cluster_selection_method='eom'\n",
    "            ),\n",
    "            verbose=True\n",
    "        )\n",
    "        \n",
    "        # Fit the model and get topics\n",
    "        labels, _ = topic_model.fit_transform(texts, embeddings)\n",
    "        \n",
    "        # Get topic terms\n",
    "        topic_terms = {}\n",
    "        for topic_idx, words in topic_model.get_topics().items():\n",
    "            topic_terms[topic_idx] = [word[0] for word in words[:5]]\n",
    "            \n",
    "        return labels, topic_terms\n",
    "    \n",
    "    def _cluster_combined(self, texts, n_clusters):\n",
    "        # Get clusters from both methods\n",
    "        print(\"CLUSTERING BY KMEANS\")\n",
    "        kmeans_labels, kmeans_terms = self._cluster_tfidf_kmeans(texts, n_clusters)\n",
    "        print(\"CLUSTERING BY BERT\")\n",
    "        bert_labels, bert_terms = self._cluster_bert_topic(texts)\n",
    "        \n",
    "        # Create ensemble clustering\n",
    "        # Convert labels to one-hot encoding\n",
    "        def one_hot_encode(labels):\n",
    "            n_unique = len(np.unique(labels))\n",
    "            return np.eye(n_unique)[labels]\n",
    "        \n",
    "        kmeans_oh = one_hot_encode(kmeans_labels)\n",
    "        bert_oh = one_hot_encode(bert_labels)\n",
    "        \n",
    "        # Concatenate features\n",
    "        combined_features = np.hstack([kmeans_oh, bert_oh])\n",
    "        \n",
    "        # Final clustering on combined features\n",
    "        print(\"CREATING FINAL CLUSTERING COMBINATION\")\n",
    "        final_kmeans = KMeans(n_clusters=n_clusters)\n",
    "        final_labels = final_kmeans.fit_predict(combined_features)\n",
    "        \n",
    "        # Combine terms from both methods for final clusters\n",
    "        final_terms = {}\n",
    "        for i in range(n_clusters):\n",
    "            terms_set = set()\n",
    "            terms_set.update(kmeans_terms.get(i, []))\n",
    "            terms_set.update(bert_terms.get(i, []))\n",
    "            final_terms[i] = list(terms_set)[:5]\n",
    "            \n",
    "        return final_labels, final_terms\n",
    "\n",
    "    def analyze_clusters(self, texts, labels, cluster_terms):\n",
    "        \"\"\"\n",
    "        Analyze cluster quality and characteristics\n",
    "        \"\"\"\n",
    "        cluster_stats = {}\n",
    "        unique_labels = np.unique(labels)\n",
    "        \n",
    "        for label in unique_labels:\n",
    "            cluster_texts = [texts[i] for i in range(len(texts)) if labels[i] == label]\n",
    "            cluster_stats[label] = {\n",
    "                'size': len(cluster_texts),\n",
    "                'terms': cluster_terms.get(label, []),\n",
    "                'sample_products': cluster_texts[:3]  # Show 3 example products\n",
    "            }\n",
    "            \n",
    "        return cluster_stats"
   ]
  },
  {
   "cell_type": "code",
   "execution_count": 3,
   "id": "be193eef-7148-4aca-a5e9-d715e91ca3bb",
   "metadata": {},
   "outputs": [],
   "source": [
    "# Prepare your data\n",
    "products_df = pd.read_csv('C:/Users/benja/Desktop/Improving_Mp_Search/beauty_and_personal_care_filtered.csv')\n",
    "texts = products_df['title'] + ' ' + products_df['description']"
   ]
  },
  {
   "cell_type": "code",
   "execution_count": 4,
   "id": "fbd354cd-accd-4968-8746-c2a524d4f145",
   "metadata": {},
   "outputs": [
    {
     "data": {
      "application/vnd.jupyter.widget-view+json": {
       "model_id": "b21f037c637f496eb4c4c6c0ff6c16e5",
       "version_major": 2,
       "version_minor": 0
      },
      "text/plain": [
       "modules.json:   0%|          | 0.00/349 [00:00<?, ?B/s]"
      ]
     },
     "metadata": {},
     "output_type": "display_data"
    },
    {
     "data": {
      "application/vnd.jupyter.widget-view+json": {
       "model_id": "ee1a6a9ee444438e86f2897f81e9f304",
       "version_major": 2,
       "version_minor": 0
      },
      "text/plain": [
       "config_sentence_transformers.json:   0%|          | 0.00/116 [00:00<?, ?B/s]"
      ]
     },
     "metadata": {},
     "output_type": "display_data"
    },
    {
     "data": {
      "application/vnd.jupyter.widget-view+json": {
       "model_id": "52726048ce5443949817b9f84781c48e",
       "version_major": 2,
       "version_minor": 0
      },
      "text/plain": [
       "README.md:   0%|          | 0.00/10.7k [00:00<?, ?B/s]"
      ]
     },
     "metadata": {},
     "output_type": "display_data"
    },
    {
     "data": {
      "application/vnd.jupyter.widget-view+json": {
       "model_id": "47e319f301834e13b7b6dde16c79b3b9",
       "version_major": 2,
       "version_minor": 0
      },
      "text/plain": [
       "sentence_bert_config.json:   0%|          | 0.00/53.0 [00:00<?, ?B/s]"
      ]
     },
     "metadata": {},
     "output_type": "display_data"
    },
    {
     "data": {
      "application/vnd.jupyter.widget-view+json": {
       "model_id": "6797f2a82a6e4df09548314565d5a5cd",
       "version_major": 2,
       "version_minor": 0
      },
      "text/plain": [
       "config.json:   0%|          | 0.00/612 [00:00<?, ?B/s]"
      ]
     },
     "metadata": {},
     "output_type": "display_data"
    },
    {
     "data": {
      "application/vnd.jupyter.widget-view+json": {
       "model_id": "0551592721714dc397137871ffc5191e",
       "version_major": 2,
       "version_minor": 0
      },
      "text/plain": [
       "model.safetensors:   0%|          | 0.00/90.9M [00:00<?, ?B/s]"
      ]
     },
     "metadata": {},
     "output_type": "display_data"
    },
    {
     "data": {
      "application/vnd.jupyter.widget-view+json": {
       "model_id": "99d38f18c40743aeb23441cf7bede228",
       "version_major": 2,
       "version_minor": 0
      },
      "text/plain": [
       "tokenizer_config.json:   0%|          | 0.00/350 [00:00<?, ?B/s]"
      ]
     },
     "metadata": {},
     "output_type": "display_data"
    },
    {
     "data": {
      "application/vnd.jupyter.widget-view+json": {
       "model_id": "2350dbb3dd9142f684500967b9353e1d",
       "version_major": 2,
       "version_minor": 0
      },
      "text/plain": [
       "vocab.txt:   0%|          | 0.00/232k [00:00<?, ?B/s]"
      ]
     },
     "metadata": {},
     "output_type": "display_data"
    },
    {
     "data": {
      "application/vnd.jupyter.widget-view+json": {
       "model_id": "4958d9c5047a4fc2b4e8ec28248e431e",
       "version_major": 2,
       "version_minor": 0
      },
      "text/plain": [
       "tokenizer.json:   0%|          | 0.00/466k [00:00<?, ?B/s]"
      ]
     },
     "metadata": {},
     "output_type": "display_data"
    },
    {
     "data": {
      "application/vnd.jupyter.widget-view+json": {
       "model_id": "7bf4d5f7bdff4c5b80d4c0615c96d517",
       "version_major": 2,
       "version_minor": 0
      },
      "text/plain": [
       "special_tokens_map.json:   0%|          | 0.00/112 [00:00<?, ?B/s]"
      ]
     },
     "metadata": {},
     "output_type": "display_data"
    },
    {
     "data": {
      "application/vnd.jupyter.widget-view+json": {
       "model_id": "f6865fcac630496988b6d319a966332b",
       "version_major": 2,
       "version_minor": 0
      },
      "text/plain": [
       "1_Pooling/config.json:   0%|          | 0.00/190 [00:00<?, ?B/s]"
      ]
     },
     "metadata": {},
     "output_type": "display_data"
    }
   ],
   "source": [
    "# Initialize clustering class\n",
    "generator = ProductGroupGenerator(min_cluster_size=50, max_clusters = 200)"
   ]
  },
  {
   "cell_type": "code",
   "execution_count": 5,
   "id": "b81cd68e-dcb3-46ce-a6d6-a8a4fe0f2739",
   "metadata": {},
   "outputs": [
    {
     "name": "stdout",
     "output_type": "stream",
     "text": [
      "CLUSTERING BY KMEANS\n",
      "CLUSTERING BY BERT\n"
     ]
    },
    {
     "name": "stderr",
     "output_type": "stream",
     "text": [
      "2025-02-07 23:55:56,344 - BERTopic - Dimensionality - Fitting the dimensionality reduction algorithm\n",
      "2025-02-07 23:56:15,010 - BERTopic - Dimensionality - Completed ✓\n",
      "2025-02-07 23:56:15,011 - BERTopic - Cluster - Start clustering the reduced embeddings\n",
      "2025-02-07 23:56:16,827 - BERTopic - Cluster - Completed ✓\n",
      "2025-02-07 23:56:16,827 - BERTopic - Representation - Extracting topics from clusters using representation models.\n",
      "2025-02-07 23:56:17,902 - BERTopic - Representation - Completed ✓\n"
     ]
    },
    {
     "name": "stdout",
     "output_type": "stream",
     "text": [
      "CREATING FINAL CLUSTERING COMBINATION\n"
     ]
    }
   ],
   "source": [
    "# Run clustering\n",
    "labels, cluster_terms = generator.generate_clusters(texts, method='combined')"
   ]
  },
  {
   "cell_type": "code",
   "execution_count": 6,
   "id": "54d572f8-35b6-4d9a-abe3-70e7abca4c16",
   "metadata": {},
   "outputs": [],
   "source": [
    "# Analyze the clusters\n",
    "cluster_stats = generator.analyze_clusters(texts, labels, cluster_terms)"
   ]
  },
  {
   "cell_type": "code",
   "execution_count": 7,
   "id": "7d1f9b02-85f8-4821-aeec-6a8aca89155e",
   "metadata": {},
   "outputs": [
    {
     "data": {
      "text/plain": [
       "23269"
      ]
     },
     "execution_count": 7,
     "metadata": {},
     "output_type": "execute_result"
    }
   ],
   "source": [
    "# Number of total products\n",
    "products_df.shape[0] "
   ]
  },
  {
   "cell_type": "code",
   "execution_count": 8,
   "id": "6d8c8de1-2078-461c-96c3-cc48126fa1c6",
   "metadata": {},
   "outputs": [
    {
     "data": {
      "text/plain": [
       "200"
      ]
     },
     "execution_count": 8,
     "metadata": {},
     "output_type": "execute_result"
    }
   ],
   "source": [
    "# Number of clusters\n",
    "len(cluster_stats)"
   ]
  },
  {
   "cell_type": "code",
   "execution_count": 9,
   "id": "21789118-4da2-4143-a1f5-e1e7dde292dd",
   "metadata": {},
   "outputs": [
    {
     "name": "stdout",
     "output_type": "stream",
     "text": [
      "Cluster Size: 131\n",
      "Key Terms: bikini, trimmer, shampoo, conditioner, frizz\n",
      "\n",
      "Cluster Size: 385\n",
      "Key Terms: comb, cosmetic, beard, organizer, bag\n",
      "\n",
      "Cluster Size: 229\n",
      "Key Terms: false, files, nails, tips, file\n",
      "\n",
      "Cluster Size: 38\n",
      "Key Terms: hyaluronic, moisturizing, vitamin, retinol, aging\n",
      "\n",
      "Cluster Size: 78\n",
      "Key Terms: remover, nails, nail polish, vanity, polish\n",
      "\n",
      "Cluster Size: 31\n",
      "Key Terms: shea, eyelashes, sheamoisture, magnetic, butter\n",
      "\n",
      "Cluster Size: 127\n",
      "Key Terms: soak, gel, brushes, foundation, set\n",
      "\n",
      "Cluster Size: 127\n",
      "Key Terms: cream, fragrance, de, notes, cracked\n",
      "\n",
      "Cluster Size: 142\n",
      "Key Terms: green tea, tea, waxing, removal, warmer\n",
      "\n",
      "Cluster Size: 173\n",
      "Key Terms: tea, face, organizer, blackhead, lipstick\n",
      "\n"
     ]
    }
   ],
   "source": [
    "# Sample of group sizes and key terms\n",
    "for i in range(10):\n",
    "    print(f\"Cluster Size: {cluster_stats[i]['size']}\")\n",
    "    print(f\"Key Terms: {', '.join(cluster_stats[i]['terms'])}\\n\")"
   ]
  },
  {
   "cell_type": "code",
   "execution_count": 10,
   "id": "adbf9958-729d-495e-8660-c56dafba11da",
   "metadata": {},
   "outputs": [],
   "source": [
    "num_items = []\n",
    "\n",
    "for cluster in cluster_stats.keys():\n",
    "    num_items.append(cluster_stats[cluster]['size'])"
   ]
  },
  {
   "cell_type": "code",
   "execution_count": 11,
   "id": "78744012-79cf-45a4-bc8f-0183a758520e",
   "metadata": {},
   "outputs": [
    {
     "data": {
      "image/png": "[encoded data removed]",
      "text/plain": [
       "<Figure size 640x480 with 1 Axes>"
      ]
     },
     "metadata": {},
     "output_type": "display_data"
    }
   ],
   "source": [
    "plt.hist(num_items, bins=30, density=True)\n",
    "plt.title(\"Cluster Size Distribution\")\n",
    "plt.xlabel(\"Number of Products in Group\")\n",
    "plt.ylabel(\"Relative Frequency\")\n",
    "plt.show()"
   ]
  },
  {
   "cell_type": "code",
   "execution_count": 12,
   "id": "69d6ce21-66d7-4890-8f01-b047cc41a3c2",
   "metadata": {},
   "outputs": [
    {
     "data": {
      "text/plain": [
       "label\n",
       "145    2452\n",
       "1       385\n",
       "10      316\n",
       "175     312\n",
       "86      302\n",
       "Name: count, dtype: int64"
      ]
     },
     "execution_count": 12,
     "metadata": {},
     "output_type": "execute_result"
    }
   ],
   "source": [
    "products_df['label'] = labels\n",
    "products_df['label'].value_counts()[:5]"
   ]
  },
  {
   "cell_type": "code",
   "execution_count": 13,
   "id": "3f16cc05-4fb4-4dce-a020-04c00f94a0f9",
   "metadata": {},
   "outputs": [
    {
     "data": {
      "text/plain": [
       "{'size': 69,\n",
       " 'terms': ['face', 'barrel', 'cleanser', 'wash', 'face wash'],\n",
       " 'sample_products': ['Spa Gift Basket for Women, Spa Luxetique Spa Kit for Women - Vanilla Scented Gift Set, 12 Pcs Relaxing Home Spa Kit with Essential Oil, Bath Salts, Body Scrub, Mother Day Gift for Mom []',\n",
       "  'Fathers Day Home Spa Gift Basket, Luxury 13 Piece Bath & Body Set For Men & Women, White Rose & Jasmine Scent - Shower Gel, Bubble Bath, Body Scrub, Salts, 6 Bath Bombs, Pouf, Cosmetic Bag & Gold Tub []',\n",
       "  'Mothers Day Gift Baskets - Green Canyon Spa Luxury Wicker Basket Gift Set in Lavender, 8 Pieces Premium Bath and Body Spa Work Set in Handcrafted Basket for Women Mother In Law []']}"
      ]
     },
     "execution_count": 13,
     "metadata": {},
     "output_type": "execute_result"
    }
   ],
   "source": [
    "# Largest Group Info\n",
    "cluster_stats[134]"
   ]
  },
  {
   "cell_type": "code",
   "execution_count": 15,
   "id": "bab169a9-9d95-4974-970c-8afab4b9b8a5",
   "metadata": {},
   "outputs": [],
   "source": [
    "products_df.to_csv(\"C:/Users/benja/Desktop/Improving_Mp_Search/labeled_beauty_and_personal_care_products.csv\", index=False)"
   ]
  }
 ],
 "metadata": {
  "kernelspec": {
   "display_name": "Python 3",
   "language": "python",
   "name": "python3"
  },
  "language_info": {
   "codemirror_mode": {
    "name": "ipython",
    "version": 3
   },
   "file_extension": ".py",
   "mimetype": "text/x-python",
   "name": "python",
   "nbconvert_exporter": "python",
   "pygments_lexer": "ipython3",
   "version": "3.12.6"
  }
 },
 "nbformat": 4,
 "nbformat_minor": 5
}
