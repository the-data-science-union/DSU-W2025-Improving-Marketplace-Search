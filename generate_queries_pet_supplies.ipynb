{
  "cells": [
    {
      "cell_type": "code",
      "execution_count": null,
      "id": "aa9b79e3-3af5-42d6-94d3-1f70e6568747",
      "metadata": {
        "id": "aa9b79e3-3af5-42d6-94d3-1f70e6568747"
      },
      "outputs": [],
      "source": [
        "import os\n",
        "import re\n",
        "import time\n",
        "import numpy as np\n",
        "import pandas as pd\n",
        "from openai import OpenAI"
      ]
    },
    {
      "cell_type": "code",
      "execution_count": null,
      "id": "ceae2ba0-f62c-4f0c-89de-f1fad65cec45",
      "metadata": {
        "id": "ceae2ba0-f62c-4f0c-89de-f1fad65cec45"
      },
      "outputs": [],
      "source": [
        "products_df = pd.read_csv(\"labeled_pet_products.csv\")"
      ]
    },
    {
      "cell_type": "code",
      "execution_count": null,
      "id": "8be12286-777c-41a0-b8ac-a050c3eace27",
      "metadata": {
        "colab": {
          "base_uri": "https://localhost:8080/",
          "height": 501
        },
        "id": "8be12286-777c-41a0-b8ac-a050c3eace27",
        "outputId": "f773018f-0f9f-489a-addd-610d77117785"
      },
      "outputs": [
        {
          "output_type": "execute_result",
          "data": {
            "text/plain": [
              "   Unnamed: 0                                              title  \\\n",
              "0           0  Pawprints Pet Memorial Frame with Pawprints Le...   \n",
              "1           1  PetSafe Exterior / Interior Cat Door: Staywell...   \n",
              "2           2  ASPCA Cat House & Cat Scratcher w/Bonus Catnip...   \n",
              "3           3  BUUOC Dog Training Collar with Remote 2000Ft, ...   \n",
              "4           4  KOOLTAIL Basic Dog Hoodie - Soft and Warm Dog ...   \n",
              "\n",
              "   rating_number                                           features  \\\n",
              "0           2950  ['Beautiful dog memorial frame with a sentimen...   \n",
              "1           2341  ['PET SIZE: The large flap opening is perfect ...   \n",
              "2           9248  ['Cardboard cat house 2 in 1 with scratching b...   \n",
              "3           2208  ['【3 Modes Train Dogs Like A Pro】 3 Safe effec...   \n",
              "4           5164  ['Size:The Size of the dog sweater is L Neck G...   \n",
              "\n",
              "                                         description  \\\n",
              "0                                                 []   \n",
              "1  ['The PetSafe Staywell Big Cat/Small Dog Pet D...   \n",
              "2  ['Give kitty a relaxing place to play and hide...   \n",
              "3                                                 []   \n",
              "4                                                 []   \n",
              "\n",
              "                                combined_description  label  \n",
              "0  Beautiful dog memorial frame with a sentimenta...     38  \n",
              "1  The PetSafe Staywell Big CatSmall Dog Pet Door...    100  \n",
              "2  Give kitty a relaxing place to play and hide w...     67  \n",
              "3  3 Modes Train Dogs Like A Pro 3 Safe effective...     18  \n",
              "4  SizeThe Size of the dog sweater is L Neck Girt...    114  "
            ],
            "text/html": [
              "\n",
              "  <div id=\"df-122413d2-1155-4a6f-ab46-304ae3930c34\" class=\"colab-df-container\">\n",
              "    <div>\n",
              "<style scoped>\n",
              "    .dataframe tbody tr th:only-of-type {\n",
              "        vertical-align: middle;\n",
              "    }\n",
              "\n",
              "    .dataframe tbody tr th {\n",
              "        vertical-align: top;\n",
              "    }\n",
              "\n",
              "    .dataframe thead th {\n",
              "        text-align: right;\n",
              "    }\n",
              "</style>\n",
              "<table border=\"1\" class=\"dataframe\">\n",
              "  <thead>\n",
              "    <tr style=\"text-align: right;\">\n",
              "      <th></th>\n",
              "      <th>Unnamed: 0</th>\n",
              "      <th>title</th>\n",
              "      <th>rating_number</th>\n",
              "      <th>features</th>\n",
              "      <th>description</th>\n",
              "      <th>combined_description</th>\n",
              "      <th>label</th>\n",
              "    </tr>\n",
              "  </thead>\n",
              "  <tbody>\n",
              "    <tr>\n",
              "      <th>0</th>\n",
              "      <td>0</td>\n",
              "      <td>Pawprints Pet Memorial Frame with Pawprints Le...</td>\n",
              "      <td>2950</td>\n",
              "      <td>['Beautiful dog memorial frame with a sentimen...</td>\n",
              "      <td>[]</td>\n",
              "      <td>Beautiful dog memorial frame with a sentimenta...</td>\n",
              "      <td>38</td>\n",
              "    </tr>\n",
              "    <tr>\n",
              "      <th>1</th>\n",
              "      <td>1</td>\n",
              "      <td>PetSafe Exterior / Interior Cat Door: Staywell...</td>\n",
              "      <td>2341</td>\n",
              "      <td>['PET SIZE: The large flap opening is perfect ...</td>\n",
              "      <td>['The PetSafe Staywell Big Cat/Small Dog Pet D...</td>\n",
              "      <td>The PetSafe Staywell Big CatSmall Dog Pet Door...</td>\n",
              "      <td>100</td>\n",
              "    </tr>\n",
              "    <tr>\n",
              "      <th>2</th>\n",
              "      <td>2</td>\n",
              "      <td>ASPCA Cat House &amp; Cat Scratcher w/Bonus Catnip...</td>\n",
              "      <td>9248</td>\n",
              "      <td>['Cardboard cat house 2 in 1 with scratching b...</td>\n",
              "      <td>['Give kitty a relaxing place to play and hide...</td>\n",
              "      <td>Give kitty a relaxing place to play and hide w...</td>\n",
              "      <td>67</td>\n",
              "    </tr>\n",
              "    <tr>\n",
              "      <th>3</th>\n",
              "      <td>3</td>\n",
              "      <td>BUUOC Dog Training Collar with Remote 2000Ft, ...</td>\n",
              "      <td>2208</td>\n",
              "      <td>['【3 Modes Train Dogs Like A Pro】 3 Safe effec...</td>\n",
              "      <td>[]</td>\n",
              "      <td>3 Modes Train Dogs Like A Pro 3 Safe effective...</td>\n",
              "      <td>18</td>\n",
              "    </tr>\n",
              "    <tr>\n",
              "      <th>4</th>\n",
              "      <td>4</td>\n",
              "      <td>KOOLTAIL Basic Dog Hoodie - Soft and Warm Dog ...</td>\n",
              "      <td>5164</td>\n",
              "      <td>['Size:The Size of the dog sweater is L Neck G...</td>\n",
              "      <td>[]</td>\n",
              "      <td>SizeThe Size of the dog sweater is L Neck Girt...</td>\n",
              "      <td>114</td>\n",
              "    </tr>\n",
              "  </tbody>\n",
              "</table>\n",
              "</div>\n",
              "    <div class=\"colab-df-buttons\">\n",
              "\n",
              "  <div class=\"colab-df-container\">\n",
              "    <button class=\"colab-df-convert\" onclick=\"convertToInteractive('df-122413d2-1155-4a6f-ab46-304ae3930c34')\"\n",
              "            title=\"Convert this dataframe to an interactive table.\"\n",
              "            style=\"display:none;\">\n",
              "\n",
              "  <svg xmlns=\"http://www.w3.org/2000/svg\" height=\"24px\" viewBox=\"0 -960 960 960\">\n",
              "    <path d=\"M120-120v-720h720v720H120Zm60-500h600v-160H180v160Zm220 220h160v-160H400v160Zm0 220h160v-160H400v160ZM180-400h160v-160H180v160Zm440 0h160v-160H620v160ZM180-180h160v-160H180v160Zm440 0h160v-160H620v160Z\"/>\n",
              "  </svg>\n",
              "    </button>\n",
              "\n",
              "  <style>\n",
              "    .colab-df-container {\n",
              "      display:flex;\n",
              "      gap: 12px;\n",
              "    }\n",
              "\n",
              "    .colab-df-convert {\n",
              "      background-color: #E8F0FE;\n",
              "      border: none;\n",
              "      border-radius: 50%;\n",
              "      cursor: pointer;\n",
              "      display: none;\n",
              "      fill: #1967D2;\n",
              "      height: 32px;\n",
              "      padding: 0 0 0 0;\n",
              "      width: 32px;\n",
              "    }\n",
              "\n",
              "    .colab-df-convert:hover {\n",
              "      background-color: #E2EBFA;\n",
              "      box-shadow: 0px 1px 2px rgba(60, 64, 67, 0.3), 0px 1px 3px 1px rgba(60, 64, 67, 0.15);\n",
              "      fill: #174EA6;\n",
              "    }\n",
              "\n",
              "    .colab-df-buttons div {\n",
              "      margin-bottom: 4px;\n",
              "    }\n",
              "\n",
              "    [theme=dark] .colab-df-convert {\n",
              "      background-color: #3B4455;\n",
              "      fill: #D2E3FC;\n",
              "    }\n",
              "\n",
              "    [theme=dark] .colab-df-convert:hover {\n",
              "      background-color: #434B5C;\n",
              "      box-shadow: 0px 1px 3px 1px rgba(0, 0, 0, 0.15);\n",
              "      filter: drop-shadow(0px 1px 2px rgba(0, 0, 0, 0.3));\n",
              "      fill: #FFFFFF;\n",
              "    }\n",
              "  </style>\n",
              "\n",
              "    <script>\n",
              "      const buttonEl =\n",
              "        document.querySelector('#df-122413d2-1155-4a6f-ab46-304ae3930c34 button.colab-df-convert');\n",
              "      buttonEl.style.display =\n",
              "        google.colab.kernel.accessAllowed ? 'block' : 'none';\n",
              "\n",
              "      async function convertToInteractive(key) {\n",
              "        const element = document.querySelector('#df-122413d2-1155-4a6f-ab46-304ae3930c34');\n",
              "        const dataTable =\n",
              "          await google.colab.kernel.invokeFunction('convertToInteractive',\n",
              "                                                    [key], {});\n",
              "        if (!dataTable) return;\n",
              "\n",
              "        const docLinkHtml = 'Like what you see? Visit the ' +\n",
              "          '<a target=\"_blank\" href=https://colab.research.google.com/notebooks/data_table.ipynb>data table notebook</a>'\n",
              "          + ' to learn more about interactive tables.';\n",
              "        element.innerHTML = '';\n",
              "        dataTable['output_type'] = 'display_data';\n",
              "        await google.colab.output.renderOutput(dataTable, element);\n",
              "        const docLink = document.createElement('div');\n",
              "        docLink.innerHTML = docLinkHtml;\n",
              "        element.appendChild(docLink);\n",
              "      }\n",
              "    </script>\n",
              "  </div>\n",
              "\n",
              "\n",
              "<div id=\"df-afd3d395-5402-4cfb-bcbc-a5e178d120b2\">\n",
              "  <button class=\"colab-df-quickchart\" onclick=\"quickchart('df-afd3d395-5402-4cfb-bcbc-a5e178d120b2')\"\n",
              "            title=\"Suggest charts\"\n",
              "            style=\"display:none;\">\n",
              "\n",
              "<svg xmlns=\"http://www.w3.org/2000/svg\" height=\"24px\"viewBox=\"0 0 24 24\"\n",
              "     width=\"24px\">\n",
              "    <g>\n",
              "        <path d=\"M19 3H5c-1.1 0-2 .9-2 2v14c0 1.1.9 2 2 2h14c1.1 0 2-.9 2-2V5c0-1.1-.9-2-2-2zM9 17H7v-7h2v7zm4 0h-2V7h2v10zm4 0h-2v-4h2v4z\"/>\n",
              "    </g>\n",
              "</svg>\n",
              "  </button>\n",
              "\n",
              "<style>\n",
              "  .colab-df-quickchart {\n",
              "      --bg-color: #E8F0FE;\n",
              "      --fill-color: #1967D2;\n",
              "      --hover-bg-color: #E2EBFA;\n",
              "      --hover-fill-color: #174EA6;\n",
              "      --disabled-fill-color: #AAA;\n",
              "      --disabled-bg-color: #DDD;\n",
              "  }\n",
              "\n",
              "  [theme=dark] .colab-df-quickchart {\n",
              "      --bg-color: #3B4455;\n",
              "      --fill-color: #D2E3FC;\n",
              "      --hover-bg-color: #434B5C;\n",
              "      --hover-fill-color: #FFFFFF;\n",
              "      --disabled-bg-color: #3B4455;\n",
              "      --disabled-fill-color: #666;\n",
              "  }\n",
              "\n",
              "  .colab-df-quickchart {\n",
              "    background-color: var(--bg-color);\n",
              "    border: none;\n",
              "    border-radius: 50%;\n",
              "    cursor: pointer;\n",
              "    display: none;\n",
              "    fill: var(--fill-color);\n",
              "    height: 32px;\n",
              "    padding: 0;\n",
              "    width: 32px;\n",
              "  }\n",
              "\n",
              "  .colab-df-quickchart:hover {\n",
              "    background-color: var(--hover-bg-color);\n",
              "    box-shadow: 0 1px 2px rgba(60, 64, 67, 0.3), 0 1px 3px 1px rgba(60, 64, 67, 0.15);\n",
              "    fill: var(--button-hover-fill-color);\n",
              "  }\n",
              "\n",
              "  .colab-df-quickchart-complete:disabled,\n",
              "  .colab-df-quickchart-complete:disabled:hover {\n",
              "    background-color: var(--disabled-bg-color);\n",
              "    fill: var(--disabled-fill-color);\n",
              "    box-shadow: none;\n",
              "  }\n",
              "\n",
              "  .colab-df-spinner {\n",
              "    border: 2px solid var(--fill-color);\n",
              "    border-color: transparent;\n",
              "    border-bottom-color: var(--fill-color);\n",
              "    animation:\n",
              "      spin 1s steps(1) infinite;\n",
              "  }\n",
              "\n",
              "  @keyframes spin {\n",
              "    0% {\n",
              "      border-color: transparent;\n",
              "      border-bottom-color: var(--fill-color);\n",
              "      border-left-color: var(--fill-color);\n",
              "    }\n",
              "    20% {\n",
              "      border-color: transparent;\n",
              "      border-left-color: var(--fill-color);\n",
              "      border-top-color: var(--fill-color);\n",
              "    }\n",
              "    30% {\n",
              "      border-color: transparent;\n",
              "      border-left-color: var(--fill-color);\n",
              "      border-top-color: var(--fill-color);\n",
              "      border-right-color: var(--fill-color);\n",
              "    }\n",
              "    40% {\n",
              "      border-color: transparent;\n",
              "      border-right-color: var(--fill-color);\n",
              "      border-top-color: var(--fill-color);\n",
              "    }\n",
              "    60% {\n",
              "      border-color: transparent;\n",
              "      border-right-color: var(--fill-color);\n",
              "    }\n",
              "    80% {\n",
              "      border-color: transparent;\n",
              "      border-right-color: var(--fill-color);\n",
              "      border-bottom-color: var(--fill-color);\n",
              "    }\n",
              "    90% {\n",
              "      border-color: transparent;\n",
              "      border-bottom-color: var(--fill-color);\n",
              "    }\n",
              "  }\n",
              "</style>\n",
              "\n",
              "  <script>\n",
              "    async function quickchart(key) {\n",
              "      const quickchartButtonEl =\n",
              "        document.querySelector('#' + key + ' button');\n",
              "      quickchartButtonEl.disabled = true;  // To prevent multiple clicks.\n",
              "      quickchartButtonEl.classList.add('colab-df-spinner');\n",
              "      try {\n",
              "        const charts = await google.colab.kernel.invokeFunction(\n",
              "            'suggestCharts', [key], {});\n",
              "      } catch (error) {\n",
              "        console.error('Error during call to suggestCharts:', error);\n",
              "      }\n",
              "      quickchartButtonEl.classList.remove('colab-df-spinner');\n",
              "      quickchartButtonEl.classList.add('colab-df-quickchart-complete');\n",
              "    }\n",
              "    (() => {\n",
              "      let quickchartButtonEl =\n",
              "        document.querySelector('#df-afd3d395-5402-4cfb-bcbc-a5e178d120b2 button');\n",
              "      quickchartButtonEl.style.display =\n",
              "        google.colab.kernel.accessAllowed ? 'block' : 'none';\n",
              "    })();\n",
              "  </script>\n",
              "</div>\n",
              "\n",
              "    </div>\n",
              "  </div>\n"
            ],
            "application/vnd.google.colaboratory.intrinsic+json": {
              "type": "dataframe",
              "variable_name": "products_df",
              "summary": "{\n  \"name\": \"products_df\",\n  \"rows\": 12262,\n  \"fields\": [\n    {\n      \"column\": \"Unnamed: 0\",\n      \"properties\": {\n        \"dtype\": \"number\",\n        \"std\": 3539,\n        \"min\": 0,\n        \"max\": 12261,\n        \"num_unique_values\": 12262,\n        \"samples\": [\n          2536,\n          1210,\n          7782\n        ],\n        \"semantic_type\": \"\",\n        \"description\": \"\"\n      }\n    },\n    {\n      \"column\": \"title\",\n      \"properties\": {\n        \"dtype\": \"string\",\n        \"num_unique_values\": 11481,\n        \"samples\": [\n          \"YLONG Cat Carrier Airline Approved Pet Carrier,Soft-Sided Pet Travel Carrier for Cats Dogs Puppy Comfort Portable Foldable Pet Bag,Airline Approved\",\n          \"Nature's Recipe Adult Dry Dog Food, Lamb Meal & Rice Recipe, 30 Pound Bag\",\n          \"Embark Adventure XL Dog Harness No-Pull Dog Harnesses for Extra Large, Medium and Small Dogs. 2 Leash Clips, Front & Back with Control Handle, Adjustable Black Dog Vest, Soft & Padded for Comfort\"\n        ],\n        \"semantic_type\": \"\",\n        \"description\": \"\"\n      }\n    },\n    {\n      \"column\": \"rating_number\",\n      \"properties\": {\n        \"dtype\": \"number\",\n        \"std\": 8658,\n        \"min\": 1501,\n        \"max\": 205050,\n        \"num_unique_values\": 5762,\n        \"samples\": [\n          2768,\n          3446,\n          4612\n        ],\n        \"semantic_type\": \"\",\n        \"description\": \"\"\n      }\n    },\n    {\n      \"column\": \"features\",\n      \"properties\": {\n        \"dtype\": \"string\",\n        \"num_unique_values\": 10832,\n        \"samples\": [\n          \"['\\u3010Premium Ingredients for Optimal Health\\u3011 Our dog treats are made with skinless chicken wrapped sweet potato twists, ensuring the safety and health of your pet. With no artificial ingredients, fillers, or preservatives, you can feel good about giving your dog a healthy snack.', \\\"\\u3010Great for Chewing & Digestion\\u3011 Our chewy and delicious treats cater to your dog's natural instinct to chew and bite. Sweet potato delivers vital dietary fiber and antioxidants to support your pal's healthy digestion and overall good health.\\\", '\\u3010Highly Palatable & Nutritious\\u3011 Our treats are high in protein, dietary fiber, and low in fat, making them a perfect snack for your furry friend. The chicken wrapped in the middle adds maximum flavor and is known to please even the most finicky dog.', \\\"\\u3010Promotes Dental Health & Hygiene\\u3011 Our treats encourage chewing, naturally reducing plaque and tartar buildup to improve your dog's dental hygiene. They also strengthen gums and improve overall dental health, ensuring your dog avoids biting.\\\", '\\u3010Effective Communication & Training Tool\\u3011 Our snacks can be used as a communication tool to help pets become more dependent and harmonious with owners. They also make great behavior training reward treats for dogs, encouraging them to follow your instructions.']\",\n          \"['aquarium HOOD WITH LEDS: Low-profile, hinged hood houses white LED lights that create a natural underwater shimmer effect.', 'ENERGY EFFICIENT: Built-in LEDs \\u2013 no bulbs to replace.', 'FILTER COMPATIBLE: Cutouts in the back of the hood can accommodate a variety of filters.', 'RANGE OF SIZES: Tetra LED Hoods are available in multiple sizes to accommodate most rectangular tanks.', 'SIZE: Measures 24 inches wide by 12 inches deep.']\",\n          \"['6 IN 1 MEGA COMBO BUNDLE (REFER TO COVER IMAGE) : 3.5 Rope Knot with pulling handle, 7.5 diameter Ball Rope, Red Carrot and Bone Toy, Crazy Ball, Rope toy. Take it anywhere.', 'DOES YOUR POOCH LOVE PLAYING TUG OF WAR? Do you find that all your rope toys are chewed up and destroyed in minutes? Then you need strongest pack of 7 most durable dog rope toys for small to large dogs who love to play rough. These chew toys are also suitable for smaller breeds. Great toys to entertain your best friend, relieve boredom and anxiety. Fun interactive play which reduces stress levels in dogs.', 'Super Durable : 100% Non-toxic Cotton and Poly Blend - when chewed helps to maintain dental hygiene by flossing the teeth and massaging the gums. This rope set is machine washable so that it can be cleaned easily. Bob Barker Blue is not just to show off color, but is really easy to find when you want to play or its time to go home from the park.', 'DURABLE & SAFE MATERIAL: Washable cotton poly mix ropes, super safe and durable. The colors and the shapes where carefully designed by our experts to grab the dog\\u2019s attention, keep your dog busy, and never feel bored and anxious again.', \\\"HAND MADE WITH CARE AND LOVE: Made with a mix of Cotton and Polyester fibres for extra shine and strength. Hand picked \\u201cBob Barker Blue \\u201c Colour to make these toys look super attractive. These dog rope toy sets are perfect as dog gifts, whether it's your dog birthday, adoption anniversary or any holiday gift.\\\"]\"\n        ],\n        \"semantic_type\": \"\",\n        \"description\": \"\"\n      }\n    },\n    {\n      \"column\": \"description\",\n      \"properties\": {\n        \"dtype\": \"category\",\n        \"num_unique_values\": 5574,\n        \"samples\": [\n          \"['Product Description', 'Nature\\u2019s Miracle Disposable Litter Box Jumbo size is ideal for household that have multiple cats. This 21 x 15.25 x 7.75 inch litter pan makes cleaning up after your pet easy and painless. Simply fill the Nature\\u2019s Miracle Disposable Litter Box with two to three inches of litter, scoop daily while maintaining two to three inches of litter, and then dispose of the pan after four weeks! No need to scrub or scrap the bottom of your litter box! Made of sturdy materials this litter pan will not leak or shred like plastic liners. The breathable material enhances airflow for reduced moisture and odor buildup which keeps the litter drier and fresher longer. To even further the protection against odors in your home, Nature\\u2019s Miracle built in baking soda to block out litter box and ammonia odors. Nature\\u2019s Miracle Disposable Litter Box is well suited for all types of litter.', 'Amazon.com', 'Disposable Convenience', 'Nature\\u2019s Miracle Disposable Litter Boxes make cleaning up after your cat easier and hassle-free. These sturdy boxes can be used as liners or as stand-alone litter boxes. They also offer greater odor-control than typical litter boxes. Breathable material enhances airflow for reduced moisture and odor buildup\\u2014keeping your litter drier and fresh longer. This durable pan will not leak nor shred and cleans up easily.', 'Product Features', 'Waterproof and Disposable: Nature\\u2019s Miracle Disposable Litter Pans are made with sturdy materials that will not leak or shred like plastic liners. Safe for landfills, disposing of this litter box is easy and guilt-free.', 'Waterproof and Disposable:', 'Nature\\u2019s Miracle Disposable Litter Pans are made with sturdy materials that will not leak or shred like plastic liners. Safe for landfills, disposing of this litter box is easy and guilt-free.', 'Baking Soda: Built-in baking soda provides extra protection against tough litter box and ammonia odors.', 'Baking Soda:', 'Built-in baking soda provides extra protection against tough litter box and ammonia odors.', 'Superior Odor Control: 2-in-1 odor control technology works to reduce tough cat odors. Enhanced air flow draws and filters out odors for exceptional odor control.', 'Superior Odor Control:', '2-in-1 odor control technology works to reduce tough cat odors. Enhanced air flow draws and filters out odors for exceptional odor control.', 'Improves Litter Life: Improved air flow means drier litter and extended litter life.', 'Improves Litter Life:', 'Improved air flow means drier litter and extended litter life.', 'Easy Clean-Up: Nature\\u2019s Miracle Disposable Litter Boxes eliminate the need to scrub and deep-clean plastic litter boxes. When finished with the box, simply throw the disposable box away for hassle-free clean-up.', 'Easy Clean-Up:', 'Nature\\u2019s Miracle Disposable Litter Boxes eliminate the need to scrub and deep-clean plastic litter boxes. When finished with the box, simply throw the disposable box away for hassle-free clean-up.', 'Directions for Use', 'Fill Litter box with 2-3\\u201d high of litter. Scoop clumps and remove waste daily to ensure maximum freshness and odor control. Add more litter to maintain depth of 2-3\\u201d. After four weeks replace with new Nature\\u2019s Miracle disposable litter pan for maximum odor control. Always wash hands thoroughly after handling the litter box.', \\\"Explore All the Nature's Miracle Disposable Litter Boxes\\\", 'Small Animal Medium Jumbo', 'For small animals and kittens', 'For small animals and kittens', '12.5 x 10.13 x 3.13 inches', '12.5 x 10.13 x 3.13 inches', 'For small to medium cats', 'For small to medium cats', '17.1 x 12.6 x 6.4 inches', '17.1 x 12.6 x 6.4 inches', 'For medium to large cats', 'For medium to large cats', '21 x 15.25 x 7.75 inches', '21 x 15.25 x 7.75 inches', 'Recommended for Use With These Other Products', 'Nature\\u2019s Miracle Natural Care Litter', 'Fast-clumping and gentle on your cat or kitten\\u2019s paws.', 'Nature\\u2019s Miracle Natural Pine Litter', 'Maintain a fresh litter without dyes or additives.', 'Nature\\u2019s Miracle Intense Defense Odor Control Litter', 'Keep cat odor in check with this clumping cat litter.', 'Nature\\u2019s Miracle Easy Care Crystal Litter', 'Intense moisture absorption, long-lasting, and easy to maintain.', 'Littermaid Litter Box Carpet', 'Catch litter scatter and other messes before they reach your floors.', 'Nature\\u2019s Miracle Scoop and Caddy', 'Non-stick surface and unique design for easy clean-up.', 'Nature\\u2019s Miracle Litter Box Odor Destroyer', 'Help keep litter box odors contained with this easy-to-use spray.', 'Nature\\u2019s Miracle High Sided Litter Box', 'High sides help to prevent spraying and litter scatter.']\",\n          \"[\\\"Keep your fish healthy and thriving by testing your aquarium water's pH regularly with easy-to-use API pH TEST KIT for freshwater aquariums. Testing water parameters weekly helps prevent invisible water problems that can be harmful to fish. pH is the measure of acidity of water, on a scale ranging from 0 to 14. A pH of 0 is the most acidic, while a pH of 14 is the most alkaline. Different geographies have different tap water conditions with different pH levels, while fish require a specific pH level to thrive. A pH of 7.0 is ideal when keeping a community aquarium containing a variety of tropical fish. Goldfish and livebearers prefer a pH of 7.5. Many Amazonian fish, like angelfish and neon tetras, prefer a pH of 6.5 to 6.8. Mollies and swordtails thrive at pH 7.2 to 7.5. API pH TEST KIT for freshwater aquariums test a wide range of pH levels from 6.0 to 9.0. Just dip a strip directly into your aquarium, and use the color-coded chart to determine if your water is safe or if adjustments are needed. Then follow the recommendations to treat the water \\u2013 it's that simple! With API Aquarium products, it\\u2019s easy to keep a beautiful saltwater, freshwater or reef aquarium. For over 50 years, API has been creating innovative, research-driven solutions that make it easier to care for your fish and aquarium. API Aquarium Treatment Supplies are designed to work in conjunction with each other to provide best results to control algae, promote healthy bacterial growth and help control and cure fish diseases and conditions such as ich and fin rot. They work to provide a safe, hospitable environment for fish such as tropical community fish, cichlids, goldfish and more. With API, you can spend more time admiring your fish, and less time scrubbing your tank. Make sure to use all products as directed in order to ensure the best results.\\\"]\",\n          \"[\\\"Even little dogs need a large amount of nutrition. That's why every bag of PEDIGREE Small Dog Roasted Chicken, Rice & Vegetable Flavor Dry Dog Food has the vitamins and minerals small breed dogs need to be healthy and happy. Made with high quality whole grains, protein and omega-6 fatty acids, PEDIGREE Small Dog Food helps your canine look and feel their best. Best of all, our oral care kibble gently cleans their teeth with every bite. Now with no high fructose corn syrup, no artificial flavors, and no added sugar.\\\"]\"\n        ],\n        \"semantic_type\": \"\",\n        \"description\": \"\"\n      }\n    },\n    {\n      \"column\": \"combined_description\",\n      \"properties\": {\n        \"dtype\": \"string\",\n        \"num_unique_values\": 11028,\n        \"samples\": [\n          \"COLLAPSIBLE  CONVENIENT  The dog travel bowl is lightweight and easy for storage because of the collapsible design it will not take up a lot of space It can be easily folded and restored WIDELY USE  This durable collapsible dog travel bowl is include climbing buckle that can attach to belt loop backpack leash or other locationsIts suitable for walking traveling hiking camping outdoor or indoor use at home SUITABLE SIZE  53521inch each bowl holds up to 12 oz of water or 15 cups of pet food or water suitable for suitable for all small to medium dogs SAFE MATERIAL  Collapsible pet bowls was made of premium soft plastic safe and durableIdeal dog travel bowls for outdoors CLEANING EASILY  easy to rinse or wipe clean after one use dries quickly Remember to clean the collapsible dog bowl and dry it after each use\",\n          \"High Quality Aquarium heater made of high quality quartz glass double seal material  advanced design ensures safe operation Adjustable Temperature The temperature of the fish tank heater can be adjusted automatically Temperature setting range 2034C65 F  93 F and the display is easy to read Fully Submersible Power 50W Suggested water volume 20gal Both suiting for fresh or saltwater aquariums provide a constant warm environment for your tropical fish to stay healthy Convenient and Safe Our aquarium heater thermostat has two suction cups for attachment to the fish tank The polarized plug prevents electrical shock\",\n          \"Keep your playful puppy happy by supporting his dietary needs with Purina Pro Plan Brand Dog Food Puppy Lamb and Rice Formula dry puppy food Real lamb as the first ingredient helps provide protein one of the essential building blocks your puppys body requires and DHA from fish oil nourishes his brain and vision development With no artificial colors or flavors each highquality ingredient is carefully chosen for a specific nutritional or functional purpose so each puppy kibble nibble delivers maximum nutritional impact The highly digestible formula promotes nutrient bioavailability to deliver optimal nutrient absorption This formula is formulated to meet the nutritional needs of puppies under 1 year old and the lamb and rice dog food formula makes each bite one that encourages him to wag his tail Make this formula part of his daily diet and give your puppy what he needs to live an exceptional life One 1 6 lb Bag  Purina Pro Plan High Protein Puppy Food DHA Lamb  Rice Formula DHA from omegarich fish oil nourishes brain and vision development Real lamb is the first ingredient Highquality protein builds lean muscles Used to be known as FOCUS Lamb and Rice Formula\"\n        ],\n        \"semantic_type\": \"\",\n        \"description\": \"\"\n      }\n    },\n    {\n      \"column\": \"label\",\n      \"properties\": {\n        \"dtype\": \"number\",\n        \"std\": 55,\n        \"min\": 0,\n        \"max\": 199,\n        \"num_unique_values\": 200,\n        \"samples\": [\n          126,\n          196,\n          87\n        ],\n        \"semantic_type\": \"\",\n        \"description\": \"\"\n      }\n    }\n  ]\n}"
            }
          },
          "metadata": {},
          "execution_count": 3
        }
      ],
      "source": [
        "products_df.head()"
      ]
    },
    {
      "cell_type": "code",
      "source": [
        "# Select rows with non-empty descriptions\n",
        "non_empty_descriptions_df = products_df[products_df['description'].str.strip().ne('')]\n",
        "\n",
        "products_df = non_empty_descriptions_df\n"
      ],
      "metadata": {
        "colab": {
          "base_uri": "https://localhost:8080/"
        },
        "id": "GG1HlVUnI1_M",
        "outputId": "a20af6cd-42f0-4186-f921-b1354337871a"
      },
      "id": "GG1HlVUnI1_M",
      "execution_count": null,
      "outputs": [
        {
          "output_type": "stream",
          "name": "stdout",
          "text": [
            "Number of items: 12262\n"
          ]
        }
      ]
    },
    {
      "cell_type": "code",
      "execution_count": null,
      "id": "1ef392e8-a353-4d6a-ab20-c2bc605760a7",
      "metadata": {
        "colab": {
          "base_uri": "https://localhost:8080/"
        },
        "id": "1ef392e8-a353-4d6a-ab20-c2bc605760a7",
        "outputId": "0127fe11-5a8f-456f-a5d9-3cc34ec973e8"
      },
      "outputs": [
        {
          "output_type": "stream",
          "name": "stderr",
          "text": [
            "<ipython-input-102-26f2266a0d32>:2: DeprecationWarning: DataFrameGroupBy.apply operated on the grouping columns. This behavior is deprecated, and in a future version of pandas the grouping columns will be excluded from the operation. Either pass `include_groups=False` to exclude the groupings or explicitly select the grouping columns after groupby to silence this warning.\n",
            "  product_samples = products_df.groupby('label', group_keys=False).apply(lambda x: x.sample(n=min(len(x), 3), random_state=234)).reset_index(drop=True)\n"
          ]
        }
      ],
      "source": [
        "# We will sample 3 products per group and create sample queries for each of them\n",
        "product_samples = products_df.groupby('label', group_keys=False).apply(lambda x: x.sample(n=min(len(x), 3), random_state=234)).reset_index(drop=True)\n"
      ]
    },
    {
      "cell_type": "code",
      "execution_count": null,
      "id": "b09b6cb3-d3bb-4e99-aa7e-d6aa0bc33593",
      "metadata": {
        "id": "b09b6cb3-d3bb-4e99-aa7e-d6aa0bc33593"
      },
      "outputs": [],
      "source": [
        "# Shuffle the products so that different groups are passed together\n",
        "product_samples = product_samples.sample(frac=1).reset_index(drop=True)"
      ]
    },
    {
      "cell_type": "code",
      "source": [
        "generator = QueryGenerator(openai_api_key)"
      ],
      "metadata": {
        "id": "3DvltU6w-1YX"
      },
      "id": "3DvltU6w-1YX",
      "execution_count": null,
      "outputs": []
    },
    {
      "cell_type": "code",
      "execution_count": null,
      "id": "acdcc98f-ba50-46f4-a33e-434671935c3e",
      "metadata": {
        "id": "acdcc98f-ba50-46f4-a33e-434671935c3e"
      },
      "outputs": [],
      "source": [
        "class QueryGenerator:\n",
        "    def __init__(self, api_key):\n",
        "        \"\"\"Initialize the generator with API key and standard prompts\"\"\"\n",
        "        self.client = OpenAI(api_key=api_key)\n",
        "\n",
        "        # Store the system and example prompts\n",
        "        self.system_prompt = \"\"\"You are an expert in e-commerce search optimization. Given a product description, generate a list of 5 realistic search queries a customer might use to find the product, even if the customer does not know the exact name of the product they are looking for.\n",
        "\n",
        "        Guidelines:\n",
        "        - Keep queries short (2-10 words)\n",
        "        - Avoid exact repetition of product specs; focus on what a customer would type\n",
        "        - Include a mix of general, descriptive, and feature-focused queries\n",
        "        - Consider different use cases for each product (e.g. baking soda can be used for cooking, cleaning, and removing bad odors).\n",
        "        - Use casual, natural language\n",
        "        - Return ONLY the list of 5 queries enclosed in [] and separated by ',' with no additional text\"\"\"\n",
        "\n",
        "        self.example_prompt = \"\"\"Here are some examples:\n",
        "\n",
        "        Product Description: \"Go ahead turn the bag around and look at our ingredients PureBites are made with only 1 ingredient 100 Pure USA Sourced  Made Turkey Breast Dogs love the taste of PureBites because our treats are freeze dried RAW to lock in the aroma texture and freshness they crave Dog parents love PureBites because our treats are 100 pure and rich in nutrients for a happy and healthy life Go ahead turn the bag around and look at the ingredients Purebites chicken Jerky are made with only 1 ingredient Dogs love the taste of Purebites because our treats are gently dried to lock in the aroma Our products are ideal for dogs with health issues or pets that are overweight\"\n",
        "\n",
        "\n",
        "        Queries:\n",
        "        [healty dog food, weight loss dog food, organic and natural dog food, raw completely natural dog food]\n",
        "\n",
        "        Product Description: \"About the Bird Nest Hammock This bird nest gives your lovely parrots or birds a warm and comfortable hut to rest Your bird or pets will snuggle this soft fleece tent with perch to keep warm in winter Soft comfortable sleeping tests can alleviate a birds stress and provide them with a sense of security Your bird will feel safe and warm in the confined space and soft fabric of the hammock Reduce boredom by adding to your birds environmental stimulation Easy and portable to hang with the bilateral hooks also easy to take it off and wash it  About the sizes  Small Measurements LWH 63 x 394 x 472  161012cm  For A pair of tiger skins a peony 24 pearl birds  Medium Measurements LWH 98x 59 x 7  251518cm  For Parakeets Lovebirds Finches Cockatiels Large Measurements LWH 126 x 67 x984  321725cm  For Cockatiels Conures and Amazons Package Included 1 x Bird Net with hook The bird hammock is made of fleece it is very comfortable to rest in it as a bird bed or bird sleeping hut This bird hut gives your lovely parrots or birds a warm and comfortable hut to rest hide play and sleep Soft comfort sleeping tent can alleviate a birds stress and provide them with a sense of security It is very easy and portable to hang with the bilateral hooks Three size availableSmallLWH 63 x 394 x 472suggest for A pair of tiger skins a peony 24 pearl birds Medium98 x 59 x 7 suggest for Parakeets Lovebirds Finches Cockatiels L126 x 67 x984 suggest for Cockatiels Conures and Amazons The warm nest is a best gift for Parrot Macaw Budgies Eclectus Parakeet Cockatiels Cockatoo Lovebird 90 days warranty please feel free to contact us in case there is any problem\"\n",
        "\n",
        "        Queries:\n",
        "        [I want a bed for my bird, warm and soft bird hut, portable bird home, soft bird cage with hooks, fancy bird hut]\n",
        "        \"\"\"\n",
        "\n",
        "    def generate_single(self, product_description):\n",
        "        \"\"\"Generate queries for a single product description\"\"\"\n",
        "        try:\n",
        "            response = self.client.chat.completions.create(\n",
        "                model=\"gpt-3.5-turbo\",\n",
        "                messages=[\n",
        "                    {\"role\": \"system\", \"content\": self.system_prompt},\n",
        "                    {\"role\": \"user\", \"content\": self.example_prompt},\n",
        "                    {\"role\": \"user\", \"content\": f\"Now generate queries for this product description: {product_description}\"}\n",
        "                ],\n",
        "                temperature=0.7,\n",
        "                max_tokens=50\n",
        "            )\n",
        "\n",
        "            res = response.choices[0].message.content\n",
        "            return res.replace('[', '').replace(']', '').split(', ')\n",
        "\n",
        "        except Exception as e:\n",
        "            print(f\"Error generating queries: {e}\")\n",
        "            return []\n",
        "\n",
        "    def generate_batch(self, product_descriptions, batch_size: int = 5):\n",
        "        \"\"\"\n",
        "        Generate queries for multiple products efficiently.\n",
        "        Uses batching and includes rate limiting.\n",
        "        \"\"\"\n",
        "        batch_results = []\n",
        "\n",
        "        # Process in batches\n",
        "        for i in range(0, len(product_descriptions), batch_size):\n",
        "            batch = product_descriptions[i:i + batch_size]\n",
        "\n",
        "            # Create a single prompt for the batch\n",
        "            batch_prompt = \"Generate queries for each of these products. For each product, start with 'Product X:' where X is the product number:\\n\\n\"\n",
        "            for idx, desc in enumerate(batch, 1):\n",
        "                batch_prompt += f\"Product {idx}: {desc}\\n\\n\"\n",
        "\n",
        "            try:\n",
        "                response = self.client.chat.completions.create(\n",
        "                    model=\"gpt-3.5-turbo\",\n",
        "                    messages=[\n",
        "                        {\"role\": \"system\", \"content\": self.system_prompt},\n",
        "                        {\"role\": \"user\", \"content\": self.example_prompt},\n",
        "                        {\"role\": \"user\", \"content\": batch_prompt}\n",
        "                    ],\n",
        "                    temperature=0.7,\n",
        "                    max_tokens=50 * len(batch)  # Adjust tokens based on batch size\n",
        "                )\n",
        "\n",
        "                # Parse the batch response\n",
        "                response_text = response.choices[0].message.content\n",
        "                response_list = re.sub(\"Product \\d: \", \"\", response_text).replace('[', '').replace(']', '').split('\\n')\n",
        "                batch_results.extend([text.split(', ') for text in response_list])\n",
        "\n",
        "                # Rate limiting - wait 1 second between batches\n",
        "                if i + batch_size < len(product_descriptions):\n",
        "                    time.sleep(5)\n",
        "\n",
        "            except Exception as e:\n",
        "                print(f\"Error processing batch starting at index {i}: {e}\")\n",
        "                continue\n",
        "\n",
        "        return batch_results"
      ]
    },
    {
      "cell_type": "code",
      "execution_count": null,
      "id": "d721981d-fe58-4fbf-aeca-759ec5f7495f",
      "metadata": {
        "id": "d721981d-fe58-4fbf-aeca-759ec5f7495f"
      },
      "outputs": [],
      "source": [
        "generator = QueryGenerator(openai_api_key)"
      ]
    },
    {
      "cell_type": "code",
      "source": [
        "# Define a function to identify non-informative descriptions\n",
        "def is_valid_description(description):\n",
        "    # Strip leading/trailing spaces, check if it's not empty, and ensure it's not a placeholder like 'Description' or '[]'\n",
        "    return bool(description.strip()) and description.strip() not in [\"Description\", \"[]\", \"['']\"]\n",
        "\n",
        "# Filter the dataframe using the is_valid_description function\n",
        "product_samples = product_samples[product_samples['description'].apply(is_valid_description)]\n",
        "\n"
      ],
      "metadata": {
        "id": "EqwCdbfkJGAg"
      },
      "id": "EqwCdbfkJGAg",
      "execution_count": null,
      "outputs": []
    },
    {
      "cell_type": "code",
      "source": [
        "# Number of products for which we are generating queries\n",
        "product_samples['description'].shape"
      ],
      "metadata": {
        "colab": {
          "base_uri": "https://localhost:8080/"
        },
        "id": "25qo2J17JMtX",
        "outputId": "9989b46e-0537-482a-cda2-18bd23a43477"
      },
      "id": "25qo2J17JMtX",
      "execution_count": null,
      "outputs": [
        {
          "output_type": "execute_result",
          "data": {
            "text/plain": [
              "(326,)"
            ]
          },
          "metadata": {},
          "execution_count": 104
        }
      ]
    },
    {
      "cell_type": "code",
      "source": [
        "product_samples.head()"
      ],
      "metadata": {
        "colab": {
          "base_uri": "https://localhost:8080/",
          "height": 484
        },
        "id": "4ZPGWUlwJYQJ",
        "outputId": "46a50fbd-8635-4b45-f400-308a6c80e125"
      },
      "id": "4ZPGWUlwJYQJ",
      "execution_count": null,
      "outputs": [
        {
          "output_type": "execute_result",
          "data": {
            "text/plain": [
              "   Unnamed: 0                                              title  \\\n",
              "0         926  Barkbox Dog Rope Toys - Durable Tug Toys for C...   \n",
              "3        6642  Fiebing's Pure Neatsfoot Oil Leather Condition...   \n",
              "4        1123  Hill's Science Diet Dry Cat Food, Adult 11+, I...   \n",
              "5       12009  Wisdom Panel Breed Discovery Dog DNA Kit: Most...   \n",
              "6        3985  MarineLand LED Aquarium Hood - 30 x 12 inch, b...   \n",
              "\n",
              "   rating_number                                           features  \\\n",
              "0           2224  ['Playtime Has Never Been More Fun: Stuffed wi...   \n",
              "3           1605  ['Naturally replaces evaporated oils', 'Preser...   \n",
              "4           3451  ['Specially formulated to fuel the energy need...   \n",
              "5          19707  ['With the world’s most accurate pet DNA test,...   \n",
              "6           4264  ['SIZE: Fits MOST 30 inches by 12 inches.', 'D...   \n",
              "\n",
              "                                         description  \\\n",
              "0  ['Barkbox Rope Tug and Plush Dog Toy - Black a...   \n",
              "3  [\"Fiebing's 100% Pure Neatsfoot Oil, 32 oz. - ...   \n",
              "4  ['Product Description', \"Your may have an olde...   \n",
              "5  [\"Know every detail of your dog's breed mix. W...   \n",
              "6  ['Marineland brand is the world’s leading bran...   \n",
              "\n",
              "                                combined_description  label  \n",
              "0  Barkbox Rope Tug and Plush Dog Toy  Black and ...      0  \n",
              "3  Fiebings 100 Pure Neatsfoot Oil 32 oz  Natural...      1  \n",
              "4  Product Description Your may have an older cat...      1  \n",
              "5  Know every detail of your dogs breed mix With ...      1  \n",
              "6  Marineland brand is the worlds leading brand o...      2  "
            ],
            "text/html": [
              "\n",
              "  <div id=\"df-2a941d49-1abe-4830-9f47-186c754c07b3\" class=\"colab-df-container\">\n",
              "    <div>\n",
              "<style scoped>\n",
              "    .dataframe tbody tr th:only-of-type {\n",
              "        vertical-align: middle;\n",
              "    }\n",
              "\n",
              "    .dataframe tbody tr th {\n",
              "        vertical-align: top;\n",
              "    }\n",
              "\n",
              "    .dataframe thead th {\n",
              "        text-align: right;\n",
              "    }\n",
              "</style>\n",
              "<table border=\"1\" class=\"dataframe\">\n",
              "  <thead>\n",
              "    <tr style=\"text-align: right;\">\n",
              "      <th></th>\n",
              "      <th>Unnamed: 0</th>\n",
              "      <th>title</th>\n",
              "      <th>rating_number</th>\n",
              "      <th>features</th>\n",
              "      <th>description</th>\n",
              "      <th>combined_description</th>\n",
              "      <th>label</th>\n",
              "    </tr>\n",
              "  </thead>\n",
              "  <tbody>\n",
              "    <tr>\n",
              "      <th>0</th>\n",
              "      <td>926</td>\n",
              "      <td>Barkbox Dog Rope Toys - Durable Tug Toys for C...</td>\n",
              "      <td>2224</td>\n",
              "      <td>['Playtime Has Never Been More Fun: Stuffed wi...</td>\n",
              "      <td>['Barkbox Rope Tug and Plush Dog Toy - Black a...</td>\n",
              "      <td>Barkbox Rope Tug and Plush Dog Toy  Black and ...</td>\n",
              "      <td>0</td>\n",
              "    </tr>\n",
              "    <tr>\n",
              "      <th>3</th>\n",
              "      <td>6642</td>\n",
              "      <td>Fiebing's Pure Neatsfoot Oil Leather Condition...</td>\n",
              "      <td>1605</td>\n",
              "      <td>['Naturally replaces evaporated oils', 'Preser...</td>\n",
              "      <td>[\"Fiebing's 100% Pure Neatsfoot Oil, 32 oz. - ...</td>\n",
              "      <td>Fiebings 100 Pure Neatsfoot Oil 32 oz  Natural...</td>\n",
              "      <td>1</td>\n",
              "    </tr>\n",
              "    <tr>\n",
              "      <th>4</th>\n",
              "      <td>1123</td>\n",
              "      <td>Hill's Science Diet Dry Cat Food, Adult 11+, I...</td>\n",
              "      <td>3451</td>\n",
              "      <td>['Specially formulated to fuel the energy need...</td>\n",
              "      <td>['Product Description', \"Your may have an olde...</td>\n",
              "      <td>Product Description Your may have an older cat...</td>\n",
              "      <td>1</td>\n",
              "    </tr>\n",
              "    <tr>\n",
              "      <th>5</th>\n",
              "      <td>12009</td>\n",
              "      <td>Wisdom Panel Breed Discovery Dog DNA Kit: Most...</td>\n",
              "      <td>19707</td>\n",
              "      <td>['With the world’s most accurate pet DNA test,...</td>\n",
              "      <td>[\"Know every detail of your dog's breed mix. W...</td>\n",
              "      <td>Know every detail of your dogs breed mix With ...</td>\n",
              "      <td>1</td>\n",
              "    </tr>\n",
              "    <tr>\n",
              "      <th>6</th>\n",
              "      <td>3985</td>\n",
              "      <td>MarineLand LED Aquarium Hood - 30 x 12 inch, b...</td>\n",
              "      <td>4264</td>\n",
              "      <td>['SIZE: Fits MOST 30 inches by 12 inches.', 'D...</td>\n",
              "      <td>['Marineland brand is the world’s leading bran...</td>\n",
              "      <td>Marineland brand is the worlds leading brand o...</td>\n",
              "      <td>2</td>\n",
              "    </tr>\n",
              "  </tbody>\n",
              "</table>\n",
              "</div>\n",
              "    <div class=\"colab-df-buttons\">\n",
              "\n",
              "  <div class=\"colab-df-container\">\n",
              "    <button class=\"colab-df-convert\" onclick=\"convertToInteractive('df-2a941d49-1abe-4830-9f47-186c754c07b3')\"\n",
              "            title=\"Convert this dataframe to an interactive table.\"\n",
              "            style=\"display:none;\">\n",
              "\n",
              "  <svg xmlns=\"http://www.w3.org/2000/svg\" height=\"24px\" viewBox=\"0 -960 960 960\">\n",
              "    <path d=\"M120-120v-720h720v720H120Zm60-500h600v-160H180v160Zm220 220h160v-160H400v160Zm0 220h160v-160H400v160ZM180-400h160v-160H180v160Zm440 0h160v-160H620v160ZM180-180h160v-160H180v160Zm440 0h160v-160H620v160Z\"/>\n",
              "  </svg>\n",
              "    </button>\n",
              "\n",
              "  <style>\n",
              "    .colab-df-container {\n",
              "      display:flex;\n",
              "      gap: 12px;\n",
              "    }\n",
              "\n",
              "    .colab-df-convert {\n",
              "      background-color: #E8F0FE;\n",
              "      border: none;\n",
              "      border-radius: 50%;\n",
              "      cursor: pointer;\n",
              "      display: none;\n",
              "      fill: #1967D2;\n",
              "      height: 32px;\n",
              "      padding: 0 0 0 0;\n",
              "      width: 32px;\n",
              "    }\n",
              "\n",
              "    .colab-df-convert:hover {\n",
              "      background-color: #E2EBFA;\n",
              "      box-shadow: 0px 1px 2px rgba(60, 64, 67, 0.3), 0px 1px 3px 1px rgba(60, 64, 67, 0.15);\n",
              "      fill: #174EA6;\n",
              "    }\n",
              "\n",
              "    .colab-df-buttons div {\n",
              "      margin-bottom: 4px;\n",
              "    }\n",
              "\n",
              "    [theme=dark] .colab-df-convert {\n",
              "      background-color: #3B4455;\n",
              "      fill: #D2E3FC;\n",
              "    }\n",
              "\n",
              "    [theme=dark] .colab-df-convert:hover {\n",
              "      background-color: #434B5C;\n",
              "      box-shadow: 0px 1px 3px 1px rgba(0, 0, 0, 0.15);\n",
              "      filter: drop-shadow(0px 1px 2px rgba(0, 0, 0, 0.3));\n",
              "      fill: #FFFFFF;\n",
              "    }\n",
              "  </style>\n",
              "\n",
              "    <script>\n",
              "      const buttonEl =\n",
              "        document.querySelector('#df-2a941d49-1abe-4830-9f47-186c754c07b3 button.colab-df-convert');\n",
              "      buttonEl.style.display =\n",
              "        google.colab.kernel.accessAllowed ? 'block' : 'none';\n",
              "\n",
              "      async function convertToInteractive(key) {\n",
              "        const element = document.querySelector('#df-2a941d49-1abe-4830-9f47-186c754c07b3');\n",
              "        const dataTable =\n",
              "          await google.colab.kernel.invokeFunction('convertToInteractive',\n",
              "                                                    [key], {});\n",
              "        if (!dataTable) return;\n",
              "\n",
              "        const docLinkHtml = 'Like what you see? Visit the ' +\n",
              "          '<a target=\"_blank\" href=https://colab.research.google.com/notebooks/data_table.ipynb>data table notebook</a>'\n",
              "          + ' to learn more about interactive tables.';\n",
              "        element.innerHTML = '';\n",
              "        dataTable['output_type'] = 'display_data';\n",
              "        await google.colab.output.renderOutput(dataTable, element);\n",
              "        const docLink = document.createElement('div');\n",
              "        docLink.innerHTML = docLinkHtml;\n",
              "        element.appendChild(docLink);\n",
              "      }\n",
              "    </script>\n",
              "  </div>\n",
              "\n",
              "\n",
              "<div id=\"df-2d018000-dd44-4722-9686-543c023570e5\">\n",
              "  <button class=\"colab-df-quickchart\" onclick=\"quickchart('df-2d018000-dd44-4722-9686-543c023570e5')\"\n",
              "            title=\"Suggest charts\"\n",
              "            style=\"display:none;\">\n",
              "\n",
              "<svg xmlns=\"http://www.w3.org/2000/svg\" height=\"24px\"viewBox=\"0 0 24 24\"\n",
              "     width=\"24px\">\n",
              "    <g>\n",
              "        <path d=\"M19 3H5c-1.1 0-2 .9-2 2v14c0 1.1.9 2 2 2h14c1.1 0 2-.9 2-2V5c0-1.1-.9-2-2-2zM9 17H7v-7h2v7zm4 0h-2V7h2v10zm4 0h-2v-4h2v4z\"/>\n",
              "    </g>\n",
              "</svg>\n",
              "  </button>\n",
              "\n",
              "<style>\n",
              "  .colab-df-quickchart {\n",
              "      --bg-color: #E8F0FE;\n",
              "      --fill-color: #1967D2;\n",
              "      --hover-bg-color: #E2EBFA;\n",
              "      --hover-fill-color: #174EA6;\n",
              "      --disabled-fill-color: #AAA;\n",
              "      --disabled-bg-color: #DDD;\n",
              "  }\n",
              "\n",
              "  [theme=dark] .colab-df-quickchart {\n",
              "      --bg-color: #3B4455;\n",
              "      --fill-color: #D2E3FC;\n",
              "      --hover-bg-color: #434B5C;\n",
              "      --hover-fill-color: #FFFFFF;\n",
              "      --disabled-bg-color: #3B4455;\n",
              "      --disabled-fill-color: #666;\n",
              "  }\n",
              "\n",
              "  .colab-df-quickchart {\n",
              "    background-color: var(--bg-color);\n",
              "    border: none;\n",
              "    border-radius: 50%;\n",
              "    cursor: pointer;\n",
              "    display: none;\n",
              "    fill: var(--fill-color);\n",
              "    height: 32px;\n",
              "    padding: 0;\n",
              "    width: 32px;\n",
              "  }\n",
              "\n",
              "  .colab-df-quickchart:hover {\n",
              "    background-color: var(--hover-bg-color);\n",
              "    box-shadow: 0 1px 2px rgba(60, 64, 67, 0.3), 0 1px 3px 1px rgba(60, 64, 67, 0.15);\n",
              "    fill: var(--button-hover-fill-color);\n",
              "  }\n",
              "\n",
              "  .colab-df-quickchart-complete:disabled,\n",
              "  .colab-df-quickchart-complete:disabled:hover {\n",
              "    background-color: var(--disabled-bg-color);\n",
              "    fill: var(--disabled-fill-color);\n",
              "    box-shadow: none;\n",
              "  }\n",
              "\n",
              "  .colab-df-spinner {\n",
              "    border: 2px solid var(--fill-color);\n",
              "    border-color: transparent;\n",
              "    border-bottom-color: var(--fill-color);\n",
              "    animation:\n",
              "      spin 1s steps(1) infinite;\n",
              "  }\n",
              "\n",
              "  @keyframes spin {\n",
              "    0% {\n",
              "      border-color: transparent;\n",
              "      border-bottom-color: var(--fill-color);\n",
              "      border-left-color: var(--fill-color);\n",
              "    }\n",
              "    20% {\n",
              "      border-color: transparent;\n",
              "      border-left-color: var(--fill-color);\n",
              "      border-top-color: var(--fill-color);\n",
              "    }\n",
              "    30% {\n",
              "      border-color: transparent;\n",
              "      border-left-color: var(--fill-color);\n",
              "      border-top-color: var(--fill-color);\n",
              "      border-right-color: var(--fill-color);\n",
              "    }\n",
              "    40% {\n",
              "      border-color: transparent;\n",
              "      border-right-color: var(--fill-color);\n",
              "      border-top-color: var(--fill-color);\n",
              "    }\n",
              "    60% {\n",
              "      border-color: transparent;\n",
              "      border-right-color: var(--fill-color);\n",
              "    }\n",
              "    80% {\n",
              "      border-color: transparent;\n",
              "      border-right-color: var(--fill-color);\n",
              "      border-bottom-color: var(--fill-color);\n",
              "    }\n",
              "    90% {\n",
              "      border-color: transparent;\n",
              "      border-bottom-color: var(--fill-color);\n",
              "    }\n",
              "  }\n",
              "</style>\n",
              "\n",
              "  <script>\n",
              "    async function quickchart(key) {\n",
              "      const quickchartButtonEl =\n",
              "        document.querySelector('#' + key + ' button');\n",
              "      quickchartButtonEl.disabled = true;  // To prevent multiple clicks.\n",
              "      quickchartButtonEl.classList.add('colab-df-spinner');\n",
              "      try {\n",
              "        const charts = await google.colab.kernel.invokeFunction(\n",
              "            'suggestCharts', [key], {});\n",
              "      } catch (error) {\n",
              "        console.error('Error during call to suggestCharts:', error);\n",
              "      }\n",
              "      quickchartButtonEl.classList.remove('colab-df-spinner');\n",
              "      quickchartButtonEl.classList.add('colab-df-quickchart-complete');\n",
              "    }\n",
              "    (() => {\n",
              "      let quickchartButtonEl =\n",
              "        document.querySelector('#df-2d018000-dd44-4722-9686-543c023570e5 button');\n",
              "      quickchartButtonEl.style.display =\n",
              "        google.colab.kernel.accessAllowed ? 'block' : 'none';\n",
              "    })();\n",
              "  </script>\n",
              "</div>\n",
              "\n",
              "    </div>\n",
              "  </div>\n"
            ],
            "application/vnd.google.colaboratory.intrinsic+json": {
              "type": "dataframe",
              "variable_name": "product_samples",
              "summary": "{\n  \"name\": \"product_samples\",\n  \"rows\": 326,\n  \"fields\": [\n    {\n      \"column\": \"Unnamed: 0\",\n      \"properties\": {\n        \"dtype\": \"number\",\n        \"std\": 3242,\n        \"min\": 317,\n        \"max\": 12143,\n        \"num_unique_values\": 326,\n        \"samples\": [\n          2390,\n          884,\n          7648\n        ],\n        \"semantic_type\": \"\",\n        \"description\": \"\"\n      }\n    },\n    {\n      \"column\": \"title\",\n      \"properties\": {\n        \"dtype\": \"string\",\n        \"num_unique_values\": 324,\n        \"samples\": [\n          \"Pet MD Otic Clean Dog Ear Cleaner for Cats and Dogs - Effective Against Infections, Itching, and Controls Odor - 8 oz\",\n          \"Self Warming Cat Bed Self Heating Cat Dog Mat 24 x 18 inch Extra Warm Thermal Pet Pad for Indoor Outdoor Pets with Removable Cover Non-Slip Bottom Washable\",\n          \"Python Pro-Clean Aquarium Gravel Washer & Siphon Kit, Small\"\n        ],\n        \"semantic_type\": \"\",\n        \"description\": \"\"\n      }\n    },\n    {\n      \"column\": \"rating_number\",\n      \"properties\": {\n        \"dtype\": \"number\",\n        \"std\": 9986,\n        \"min\": 1510,\n        \"max\": 84140,\n        \"num_unique_values\": 317,\n        \"samples\": [\n          6841,\n          2019,\n          1653\n        ],\n        \"semantic_type\": \"\",\n        \"description\": \"\"\n      }\n    },\n    {\n      \"column\": \"features\",\n      \"properties\": {\n        \"dtype\": \"string\",\n        \"num_unique_values\": 323,\n        \"samples\": [\n          \"['White 2 way locking cat door', 'Recommended for thin doors and screens up to 1/2-inch thick', 'Exterior rain seal included', 'Brush strip to reduce energy loss and silent action', 'Poly carbonate flap']\",\n          \"['Advanced Formulation & Scientifically Designed to Deodorize, Clean, Dry & Acidify Ears.', \\\"Safe & Gentle Cleanser with Aloe Vera for Daily Use. Won't Sting, Burn or Aggravate - Even for Puppies & Kittens.\\\", 'Eliminates Build Up of Wax, Fluid, Dirt & Debris to Stop Your Pet from Scratching and Head Shaking.', \\\"Pleasant Sweet Pea Scented Drops Help Your Pet's Ears Smell as Good as They Feel.\\\", 'Made in the USA in Federally Regulated Manufacturing Facilities to Ensure Quality and Safety.']\",\n          \"['MINIMAL SEAMS & SOFT FAUX FUR: The Hedgehogz stuffed dog toy is an adorable favorite amongst dogs and pet owners alike! Designed with reduced exposure of seams to promote longer-lasting plush enjoyment.', 'SQUEAKER & NOISE MAKER: XL Hedgehogz include a grunter squeaker and rattler for extra excitement!', 'CURL UP & CUDDLE: Our soft and huggable Hedgehogz dog toy has a rounded shape for dogs who love to carry, roll, and snuggle up for naps.', 'MULTIPLE SIZES TO CHOOSE FROM: Hedgehogz are Available in a range of sizes, suitable for all types of dog breeds.', 'PLAY IT SAFE: No toy is indestructible. Do not leave toys with unsupervised pets. Remove and replace toy if damaged.']\"\n        ],\n        \"semantic_type\": \"\",\n        \"description\": \"\"\n      }\n    },\n    {\n      \"column\": \"description\",\n      \"properties\": {\n        \"dtype\": \"string\",\n        \"num_unique_values\": 323,\n        \"samples\": [\n          \"['WHY DID YOU CHOOSE US? VERSATILE COLORS,Brown,Grey and Black,All colors blend with any d\\u00e9corLarge 46x35 Inches little mat,The mat is 46 inch long x 35 inch wide,so it offers a good place for your cat to rest and play on.Your room will be no longer messy all around.Easy to clean,You can use a brush or your vacuum cleaner to clean the mat conveniently.Capture cat litter,the mat is designed with grooves and mesh to capture cat litter from paws,the large size also provides help to capture cat litter,the floor will not be dirty,Soft and durable,Very comfortable for your lovely pet,this mat is designed to be sturdy and durable.']\",\n          \"[\\\"Pet MD Otic-Clean with Aloe Vera for dogs and cats is a veterinarian formulated ear cleanser scientifically developed to deodorize, gently clean, dry and acidify the ear canal. A build up of wax, dirt and other substances can result in odors, excess scratching, itching and ultimately ear infections. Ear Rinse for dogs and cats helps to safely clean your pet's ears and avoid potential problems before they start. Plus, you will love the pleasant Sweet Pea Vanilla scent! Will not sting or burn and gentle enough for daily use. Ideal for dogs of any age especially breeds with long ears. Great for hunting and working dogs.\\\"]\",\n          \"['The new iSqueak Bouncin\\u00e2\\u20ac\\u2122 Baseball Large is a squeaky durable natural rubber ball. This sporty toy is meant to be tossed, passed, carried, and chewed. Available in fun bright colors, this size baseball is suited for large and giant breed canine athletes.']\"\n        ],\n        \"semantic_type\": \"\",\n        \"description\": \"\"\n      }\n    },\n    {\n      \"column\": \"combined_description\",\n      \"properties\": {\n        \"dtype\": \"string\",\n        \"num_unique_values\": 323,\n        \"samples\": [\n          \"An economically priced flap with uncompromised quality and is particularly recommended for thin panel doors and screens This lockable flap features an easy to use tamperproof slide lock and a weatherproof brush sealed flap made from supertough polymer Self lining to 12 13mm White 2 way locking cat door Recommended for thin doors and screens up to 12inch thick Exterior rain seal included Brush strip to reduce energy loss and silent action Poly carbonate flap\",\n          \"Pet MD OticClean with Aloe Vera for dogs and cats is a veterinarian formulated ear cleanser scientifically developed to deodorize gently clean dry and acidify the ear canal A build up of wax dirt and other substances can result in odors excess scratching itching and ultimately ear infections Ear Rinse for dogs and cats helps to safely clean your pets ears and avoid potential problems before they start Plus you will love the pleasant Sweet Pea Vanilla scent Will not sting or burn and gentle enough for daily use Ideal for dogs of any age especially breeds with long ears Great for hunting and working dogs Advanced Formulation  Scientifically Designed to Deodorize Clean Dry  Acidify Ears Safe  Gentle Cleanser with Aloe Vera for Daily Use Wont Sting Burn or Aggravate  Even for Puppies  Kittens Eliminates Build Up of Wax Fluid Dirt  Debris to Stop Your Pet from Scratching and Head Shaking Pleasant Sweet Pea Scented Drops Help Your Pets Ears Smell as Good as They Feel Made in the USA in Federally Regulated Manufacturing Facilities to Ensure Quality and Safety\",\n          \"Outward Hounds plush Hedgehogz are a favorite amongst dogs Made with minimal seams to reduce tearing and soft fauxfur to mimic a natural feel your pet will adore snuggling up and playing games with this cuddly companion Available in a range of sizes Small and medium Hedgehogz feature the classical squeaker while large and XL Hedgehogz feature a grunting squeaker and rattling noisemaker If your dog likes to play rough supervised play will help keep the plush Hedgehogz toy lasting longer SAFETY AND CARE When choosing a toy make sure to choose an appropriate size toy for your dog No toy is indestructible ALWAYS supervise your dog when using a toy of any kind Inspect toys regularly for damage and remove and replace if broken or if parts become separated as serious injury may result Intended for dogs only Keep out of reach of children MINIMAL SEAMS  SOFT FAUX FUR The Hedgehogz stuffed dog toy is an adorable favorite amongst dogs and pet owners alike Designed with reduced exposure of seams to promote longerlasting plush enjoyment SQUEAKER  NOISE MAKER XL Hedgehogz include a grunter squeaker and rattler for extra excitement CURL UP  CUDDLE Our soft and huggable Hedgehogz dog toy has a rounded shape for dogs who love to carry roll and snuggle up for naps MULTIPLE SIZES TO CHOOSE FROM Hedgehogz are Available in a range of sizes suitable for all types of dog breeds PLAY IT SAFE No toy is indestructible Do not leave toys with unsupervised pets Remove and replace toy if damaged\"\n        ],\n        \"semantic_type\": \"\",\n        \"description\": \"\"\n      }\n    },\n    {\n      \"column\": \"label\",\n      \"properties\": {\n        \"dtype\": \"number\",\n        \"std\": 60,\n        \"min\": 0,\n        \"max\": 199,\n        \"num_unique_values\": 160,\n        \"samples\": [\n          127,\n          132,\n          176\n        ],\n        \"semantic_type\": \"\",\n        \"description\": \"\"\n      }\n    }\n  ]\n}"
            }
          },
          "metadata": {},
          "execution_count": 105
        }
      ]
    },
    {
      "cell_type": "code",
      "execution_count": null,
      "id": "d02d5bb8-9bd3-490e-afdd-fc30c19244fa",
      "metadata": {
        "id": "d02d5bb8-9bd3-490e-afdd-fc30c19244fa"
      },
      "outputs": [],
      "source": [
        "# Create example queries for all descriptions\n",
        "results = generator.generate_batch(product_samples['description'])"
      ]
    },
    {
      "cell_type": "code",
      "source": [
        "print(f\"First few entries in results (to check output structure): {results[:10]}\")\n"
      ],
      "metadata": {
        "colab": {
          "base_uri": "https://localhost:8080/"
        },
        "id": "OysRpo6AGoMF",
        "outputId": "87878d94-cd49-4ed0-e100-dbfffdd5190d"
      },
      "id": "OysRpo6AGoMF",
      "execution_count": null,
      "outputs": [
        {
          "output_type": "stream",
          "name": "stdout",
          "text": [
            "First few entries in results (to check output structure): [['dog toy black and blue', 'rope tug plush toy', 'beetle dog toy', 'interactive dog toy', 'durable pet toy'], ['leather preservative', 'natural leather oil', 'neatsfoot oil for leather', 'saddle oil', 'leather conditioner'], ['senior cat food', 'indoor cat diet', 'mature cat nutrition', \"Hill's Science Diet 11+ chicken\", 'easy digestion cat food'], ['dog breed mix test', 'accurate breed reporting', 'personalized dog care', 'DNA test for dogs', 'breed identification for pets'], ['Marineland LED hood', 'aquarium lighting system', 'freshwater tank light', 'underwater LED effects', 'aquarium illumination'], ['aquarium fish net', 'nylon mesh fish net', 'fish net with plastic handle', 'aquarium maintenance tool', 'skimming fish net'], ['fish tank hiding place', 'aquarium decoration with weighted base', 'underwater decor gift', 'fish tank ornament', 'aquatic hideout'], ['Jackson Galaxy Crinkle Flies', 'realistic butterfly cat toy', 'catnip-infused butterfly', 'interactive cat wand attachment', 'ground prey instincts toy'], ['pet care supplies', 'animal accessories', 'pet essentials online', 'top-rated pet products', 'pet grooming items'], ['silver vine and catnip blend', 'natural cat stimulant', 'intense catnip alternative', 'silver vine cat toy', 'catnip blend for picky cats']]\n"
          ]
        }
      ]
    },
    {
      "cell_type": "code",
      "execution_count": null,
      "id": "527427e4-896e-4078-aa13-b743efedede5",
      "metadata": {
        "colab": {
          "base_uri": "https://localhost:8080/"
        },
        "id": "527427e4-896e-4078-aa13-b743efedede5",
        "outputId": "33b7d2e7-2a54-477b-ce58-445dcfc5f2e5"
      },
      "outputs": [
        {
          "output_type": "execute_result",
          "data": {
            "text/plain": [
              "369"
            ]
          },
          "metadata": {},
          "execution_count": 108
        }
      ],
      "source": [
        "len(results)"
      ]
    },
    {
      "cell_type": "markdown",
      "id": "db7cf7bd-348a-4494-887d-e89a0497bdb2",
      "metadata": {
        "id": "db7cf7bd-348a-4494-887d-e89a0497bdb2"
      },
      "source": [
        "We have more results than products, so let's go ahead and parse through the results so that we correctly extract the right information."
      ]
    },
    {
      "cell_type": "code",
      "execution_count": null,
      "id": "f691b77b-b616-4851-8e4f-a058a6949bac",
      "metadata": {
        "colab": {
          "base_uri": "https://localhost:8080/"
        },
        "id": "f691b77b-b616-4851-8e4f-a058a6949bac",
        "outputId": "dff1d908-645d-4732-c5e0-d7447d81ed3d"
      },
      "outputs": [
        {
          "output_type": "execute_result",
          "data": {
            "text/plain": [
              "325"
            ]
          },
          "metadata": {},
          "execution_count": 116
        }
      ],
      "source": [
        "cleaned_results = [result for result in results if len(result[0]) > 0]\n",
        "len(cleaned_results)"
      ]
    },
    {
      "cell_type": "code",
      "execution_count": null,
      "id": "5fd486ca-3356-4127-8176-53e91e2246da",
      "metadata": {
        "colab": {
          "base_uri": "https://localhost:8080/"
        },
        "id": "5fd486ca-3356-4127-8176-53e91e2246da",
        "outputId": "1640f133-bddd-438d-fd9a-2394c9b850c3"
      },
      "outputs": [
        {
          "output_type": "execute_result",
          "data": {
            "text/plain": [
              "array([1, 4, 5, 6])"
            ]
          },
          "metadata": {},
          "execution_count": 117
        }
      ],
      "source": [
        "np.unique([len(result) for result in cleaned_results])"
      ]
    },
    {
      "cell_type": "markdown",
      "id": "45c63211-7f17-4b92-9712-72fe6773f788",
      "metadata": {
        "id": "45c63211-7f17-4b92-9712-72fe6773f788"
      },
      "source": [
        "It looks like we have a variable number of queries in some of the results. Let's examine each of the results that don't have the desired number of queries (5)."
      ]
    },
    {
      "cell_type": "code",
      "execution_count": null,
      "id": "90fcfcd1-316f-4dea-aadd-a98611d4023f",
      "metadata": {
        "colab": {
          "base_uri": "https://localhost:8080/"
        },
        "id": "90fcfcd1-316f-4dea-aadd-a98611d4023f",
        "outputId": "f9735b76-7c51-4bc7-c3d5-91b7612c539d"
      },
      "outputs": [
        {
          "output_type": "execute_result",
          "data": {
            "text/plain": [
              "[71, 110, 281, 318]"
            ]
          },
          "metadata": {},
          "execution_count": 118
        }
      ],
      "source": [
        "# Indices of results that don't have 5 queries\n",
        "inspect_index = [i for i in range(len(cleaned_results)) if len(cleaned_results[i]) != 5]\n",
        "inspect_index"
      ]
    },
    {
      "cell_type": "code",
      "execution_count": null,
      "id": "761dde27-eb7a-48a0-87b5-377820d5e2fd",
      "metadata": {
        "colab": {
          "base_uri": "https://localhost:8080/"
        },
        "id": "761dde27-eb7a-48a0-87b5-377820d5e2fd",
        "outputId": "588aa46c-832e-446b-c50f-f8dda2ad734c"
      },
      "outputs": [
        {
          "output_type": "execute_result",
          "data": {
            "text/plain": [
              "[['Paw prints desk keepsake',\n",
              "  'pet paw print photo frame',\n",
              "  'clay paw print kit',\n",
              "  \"furry buddy's paw impression\",\n",
              "  'pet safe paw print',\n",
              "  'paw print photo frame'],\n",
              " ['Drinkwell Original Fountain Pump replacement',\n",
              "  'PetSafe fountain pump backup',\n",
              "  'compatible PetSafe fountain pump',\n",
              "  'Drinkwell pet fountain pump'],\n",
              " ['No relevant information provided'],\n",
              " [\"'antibacterial antifungal skin wipes for pets'\",\n",
              "  \"'veterinarian recommended skin barrier treatment'\",\n",
              "  \"'non-prescription topical brand for pets'\",\n",
              "  \"'Douxo skin treatment for dogs and cats',\"]]"
            ]
          },
          "metadata": {},
          "execution_count": 119
        }
      ],
      "source": [
        "[cleaned_results[i] for i in inspect_index]"
      ]
    },
    {
      "cell_type": "code",
      "execution_count": null,
      "id": "71fdd21f-b846-4eec-b081-c46283afa52a",
      "metadata": {
        "id": "71fdd21f-b846-4eec-b081-c46283afa52a"
      },
      "outputs": [],
      "source": [
        "cleaned_results[318] = cleaned_results[318][:5]"
      ]
    },
    {
      "cell_type": "code",
      "source": [
        "cleaned_results[71] = cleaned_results[71][:5]"
      ],
      "metadata": {
        "id": "8TdXD6BrNkXK"
      },
      "id": "8TdXD6BrNkXK",
      "execution_count": null,
      "outputs": []
    },
    {
      "cell_type": "code",
      "source": [
        "cleaned_results[281].append(\"Drinkwell pump replacement\")\n"
      ],
      "metadata": {
        "id": "k4mQKAywNJ4S"
      },
      "id": "k4mQKAywNJ4S",
      "execution_count": null,
      "outputs": []
    },
    {
      "cell_type": "code",
      "source": [
        "cleaned_results[318].append(\"antifungal topical skin pet\")"
      ],
      "metadata": {
        "id": "iH0Z749-Nxrv"
      },
      "id": "iH0Z749-Nxrv",
      "execution_count": null,
      "outputs": []
    },
    {
      "cell_type": "code",
      "execution_count": null,
      "id": "fec85681-9a5c-4b90-947f-bbd102443ed1",
      "metadata": {
        "colab": {
          "base_uri": "https://localhost:8080/"
        },
        "id": "fec85681-9a5c-4b90-947f-bbd102443ed1",
        "outputId": "d7fc9c7f-d558-4896-e6d8-29233f8a076a"
      },
      "outputs": [
        {
          "output_type": "stream",
          "name": "stdout",
          "text": [
            "Number of results: 325\n",
            "Number of queries per result: [2 4 5]\n"
          ]
        }
      ],
      "source": [
        "print(f\"Number of results: {len(cleaned_results)}\")\n",
        "print(f\"Number of queries per result: {np.unique([len(result) for result in cleaned_results])}\")"
      ]
    },
    {
      "cell_type": "code",
      "source": [
        "index = [i for i in range(len(cleaned_results)) if len(cleaned_results[i]) != 5]\n",
        "print(index)\n",
        "[cleaned_results[i] for i in index]"
      ],
      "metadata": {
        "colab": {
          "base_uri": "https://localhost:8080/"
        },
        "id": "knu5reIrN_54",
        "outputId": "7e094b73-a134-4c05-c3b5-02783ff02ff9"
      },
      "id": "knu5reIrN_54",
      "execution_count": null,
      "outputs": [
        {
          "output_type": "stream",
          "name": "stdout",
          "text": [
            "[110, 281]\n"
          ]
        },
        {
          "output_type": "execute_result",
          "data": {
            "text/plain": [
              "[['Drinkwell Original Fountain Pump replacement',\n",
              "  'PetSafe fountain pump backup',\n",
              "  'compatible PetSafe fountain pump',\n",
              "  'Drinkwell pet fountain pump'],\n",
              " ['No relevant information provided', 'Drinkwell pump replacement']]"
            ]
          },
          "metadata": {},
          "execution_count": 129
        }
      ]
    },
    {
      "cell_type": "code",
      "source": [
        "# Add \"Drinkwell pump replacement\" to index 110\n",
        "cleaned_results[110].append(\"Drinkwell pump replacement\")\n",
        "\n",
        "# Delete index 281\n",
        "del cleaned_results[281]\n"
      ],
      "metadata": {
        "id": "1YjAljQkOTke"
      },
      "id": "1YjAljQkOTke",
      "execution_count": null,
      "outputs": []
    },
    {
      "cell_type": "code",
      "source": [
        "print(f\"Number of results: {len(cleaned_results)}\")\n",
        "print(f\"Number of queries per result: {np.unique([len(result) for result in cleaned_results])}\")"
      ],
      "metadata": {
        "colab": {
          "base_uri": "https://localhost:8080/"
        },
        "id": "MMpSs0WEHnOp",
        "outputId": "db981458-13b6-4131-b49a-f0fda52de469"
      },
      "id": "MMpSs0WEHnOp",
      "execution_count": null,
      "outputs": [
        {
          "output_type": "stream",
          "name": "stdout",
          "text": [
            "Number of results: 324\n",
            "Number of queries per result: [5]\n"
          ]
        }
      ]
    },
    {
      "cell_type": "code",
      "execution_count": null,
      "id": "54ac8b47-1b01-49c3-bae3-41d27ed10b4c",
      "metadata": {
        "id": "54ac8b47-1b01-49c3-bae3-41d27ed10b4c"
      },
      "outputs": [],
      "source": [
        "product_samples2 = product_samples.iloc[:len(cleaned_results)]\n"
      ]
    },
    {
      "cell_type": "code",
      "execution_count": null,
      "id": "7ac00e4e-b103-4dd7-b5f5-cf74f77b6da1",
      "metadata": {
        "id": "7ac00e4e-b103-4dd7-b5f5-cf74f77b6da1"
      },
      "outputs": [],
      "source": [
        "product_samples2.loc[:, ['query_1', 'query_2', 'query_3', 'query_4', 'query_5']] = cleaned_results\n"
      ]
    },
    {
      "cell_type": "code",
      "source": [
        "product_samples2.head()"
      ],
      "metadata": {
        "colab": {
          "base_uri": "https://localhost:8080/",
          "height": 660
        },
        "id": "5FZupa6GPGBZ",
        "outputId": "e15717ea-882d-4ee0-d4a4-c4430d325ab7"
      },
      "id": "5FZupa6GPGBZ",
      "execution_count": null,
      "outputs": [
        {
          "output_type": "execute_result",
          "data": {
            "text/plain": [
              "   Unnamed: 0                                              title  \\\n",
              "0         926  Barkbox Dog Rope Toys - Durable Tug Toys for C...   \n",
              "3        6642  Fiebing's Pure Neatsfoot Oil Leather Condition...   \n",
              "4        1123  Hill's Science Diet Dry Cat Food, Adult 11+, I...   \n",
              "5       12009  Wisdom Panel Breed Discovery Dog DNA Kit: Most...   \n",
              "6        3985  MarineLand LED Aquarium Hood - 30 x 12 inch, b...   \n",
              "\n",
              "   rating_number                                           features  \\\n",
              "0           2224  ['Playtime Has Never Been More Fun: Stuffed wi...   \n",
              "3           1605  ['Naturally replaces evaporated oils', 'Preser...   \n",
              "4           3451  ['Specially formulated to fuel the energy need...   \n",
              "5          19707  ['With the world’s most accurate pet DNA test,...   \n",
              "6           4264  ['SIZE: Fits MOST 30 inches by 12 inches.', 'D...   \n",
              "\n",
              "                                         description  \\\n",
              "0  ['Barkbox Rope Tug and Plush Dog Toy - Black a...   \n",
              "3  [\"Fiebing's 100% Pure Neatsfoot Oil, 32 oz. - ...   \n",
              "4  ['Product Description', \"Your may have an olde...   \n",
              "5  [\"Know every detail of your dog's breed mix. W...   \n",
              "6  ['Marineland brand is the world’s leading bran...   \n",
              "\n",
              "                                combined_description  label  \\\n",
              "0  Barkbox Rope Tug and Plush Dog Toy  Black and ...      0   \n",
              "3  Fiebings 100 Pure Neatsfoot Oil 32 oz  Natural...      1   \n",
              "4  Product Description Your may have an older cat...      1   \n",
              "5  Know every detail of your dogs breed mix With ...      1   \n",
              "6  Marineland brand is the worlds leading brand o...      2   \n",
              "\n",
              "                  query_1                   query_2  \\\n",
              "0  dog toy black and blue        rope tug plush toy   \n",
              "3    leather preservative       natural leather oil   \n",
              "4         senior cat food           indoor cat diet   \n",
              "5      dog breed mix test  accurate breed reporting   \n",
              "6     Marineland LED hood  aquarium lighting system   \n",
              "\n",
              "                     query_3                          query_4  \\\n",
              "0             beetle dog toy              interactive dog toy   \n",
              "3  neatsfoot oil for leather                       saddle oil   \n",
              "4       mature cat nutrition  Hill's Science Diet 11+ chicken   \n",
              "5      personalized dog care                DNA test for dogs   \n",
              "6      freshwater tank light           underwater LED effects   \n",
              "\n",
              "                         query_5  \n",
              "0                durable pet toy  \n",
              "3            leather conditioner  \n",
              "4        easy digestion cat food  \n",
              "5  breed identification for pets  \n",
              "6          aquarium illumination  "
            ],
            "text/html": [
              "\n",
              "  <div id=\"df-7174be90-fc42-4d48-98bc-82dbfad84151\" class=\"colab-df-container\">\n",
              "    <div>\n",
              "<style scoped>\n",
              "    .dataframe tbody tr th:only-of-type {\n",
              "        vertical-align: middle;\n",
              "    }\n",
              "\n",
              "    .dataframe tbody tr th {\n",
              "        vertical-align: top;\n",
              "    }\n",
              "\n",
              "    .dataframe thead th {\n",
              "        text-align: right;\n",
              "    }\n",
              "</style>\n",
              "<table border=\"1\" class=\"dataframe\">\n",
              "  <thead>\n",
              "    <tr style=\"text-align: right;\">\n",
              "      <th></th>\n",
              "      <th>Unnamed: 0</th>\n",
              "      <th>title</th>\n",
              "      <th>rating_number</th>\n",
              "      <th>features</th>\n",
              "      <th>description</th>\n",
              "      <th>combined_description</th>\n",
              "      <th>label</th>\n",
              "      <th>query_1</th>\n",
              "      <th>query_2</th>\n",
              "      <th>query_3</th>\n",
              "      <th>query_4</th>\n",
              "      <th>query_5</th>\n",
              "    </tr>\n",
              "  </thead>\n",
              "  <tbody>\n",
              "    <tr>\n",
              "      <th>0</th>\n",
              "      <td>926</td>\n",
              "      <td>Barkbox Dog Rope Toys - Durable Tug Toys for C...</td>\n",
              "      <td>2224</td>\n",
              "      <td>['Playtime Has Never Been More Fun: Stuffed wi...</td>\n",
              "      <td>['Barkbox Rope Tug and Plush Dog Toy - Black a...</td>\n",
              "      <td>Barkbox Rope Tug and Plush Dog Toy  Black and ...</td>\n",
              "      <td>0</td>\n",
              "      <td>dog toy black and blue</td>\n",
              "      <td>rope tug plush toy</td>\n",
              "      <td>beetle dog toy</td>\n",
              "      <td>interactive dog toy</td>\n",
              "      <td>durable pet toy</td>\n",
              "    </tr>\n",
              "    <tr>\n",
              "      <th>3</th>\n",
              "      <td>6642</td>\n",
              "      <td>Fiebing's Pure Neatsfoot Oil Leather Condition...</td>\n",
              "      <td>1605</td>\n",
              "      <td>['Naturally replaces evaporated oils', 'Preser...</td>\n",
              "      <td>[\"Fiebing's 100% Pure Neatsfoot Oil, 32 oz. - ...</td>\n",
              "      <td>Fiebings 100 Pure Neatsfoot Oil 32 oz  Natural...</td>\n",
              "      <td>1</td>\n",
              "      <td>leather preservative</td>\n",
              "      <td>natural leather oil</td>\n",
              "      <td>neatsfoot oil for leather</td>\n",
              "      <td>saddle oil</td>\n",
              "      <td>leather conditioner</td>\n",
              "    </tr>\n",
              "    <tr>\n",
              "      <th>4</th>\n",
              "      <td>1123</td>\n",
              "      <td>Hill's Science Diet Dry Cat Food, Adult 11+, I...</td>\n",
              "      <td>3451</td>\n",
              "      <td>['Specially formulated to fuel the energy need...</td>\n",
              "      <td>['Product Description', \"Your may have an olde...</td>\n",
              "      <td>Product Description Your may have an older cat...</td>\n",
              "      <td>1</td>\n",
              "      <td>senior cat food</td>\n",
              "      <td>indoor cat diet</td>\n",
              "      <td>mature cat nutrition</td>\n",
              "      <td>Hill's Science Diet 11+ chicken</td>\n",
              "      <td>easy digestion cat food</td>\n",
              "    </tr>\n",
              "    <tr>\n",
              "      <th>5</th>\n",
              "      <td>12009</td>\n",
              "      <td>Wisdom Panel Breed Discovery Dog DNA Kit: Most...</td>\n",
              "      <td>19707</td>\n",
              "      <td>['With the world’s most accurate pet DNA test,...</td>\n",
              "      <td>[\"Know every detail of your dog's breed mix. W...</td>\n",
              "      <td>Know every detail of your dogs breed mix With ...</td>\n",
              "      <td>1</td>\n",
              "      <td>dog breed mix test</td>\n",
              "      <td>accurate breed reporting</td>\n",
              "      <td>personalized dog care</td>\n",
              "      <td>DNA test for dogs</td>\n",
              "      <td>breed identification for pets</td>\n",
              "    </tr>\n",
              "    <tr>\n",
              "      <th>6</th>\n",
              "      <td>3985</td>\n",
              "      <td>MarineLand LED Aquarium Hood - 30 x 12 inch, b...</td>\n",
              "      <td>4264</td>\n",
              "      <td>['SIZE: Fits MOST 30 inches by 12 inches.', 'D...</td>\n",
              "      <td>['Marineland brand is the world’s leading bran...</td>\n",
              "      <td>Marineland brand is the worlds leading brand o...</td>\n",
              "      <td>2</td>\n",
              "      <td>Marineland LED hood</td>\n",
              "      <td>aquarium lighting system</td>\n",
              "      <td>freshwater tank light</td>\n",
              "      <td>underwater LED effects</td>\n",
              "      <td>aquarium illumination</td>\n",
              "    </tr>\n",
              "  </tbody>\n",
              "</table>\n",
              "</div>\n",
              "    <div class=\"colab-df-buttons\">\n",
              "\n",
              "  <div class=\"colab-df-container\">\n",
              "    <button class=\"colab-df-convert\" onclick=\"convertToInteractive('df-7174be90-fc42-4d48-98bc-82dbfad84151')\"\n",
              "            title=\"Convert this dataframe to an interactive table.\"\n",
              "            style=\"display:none;\">\n",
              "\n",
              "  <svg xmlns=\"http://www.w3.org/2000/svg\" height=\"24px\" viewBox=\"0 -960 960 960\">\n",
              "    <path d=\"M120-120v-720h720v720H120Zm60-500h600v-160H180v160Zm220 220h160v-160H400v160Zm0 220h160v-160H400v160ZM180-400h160v-160H180v160Zm440 0h160v-160H620v160ZM180-180h160v-160H180v160Zm440 0h160v-160H620v160Z\"/>\n",
              "  </svg>\n",
              "    </button>\n",
              "\n",
              "  <style>\n",
              "    .colab-df-container {\n",
              "      display:flex;\n",
              "      gap: 12px;\n",
              "    }\n",
              "\n",
              "    .colab-df-convert {\n",
              "      background-color: #E8F0FE;\n",
              "      border: none;\n",
              "      border-radius: 50%;\n",
              "      cursor: pointer;\n",
              "      display: none;\n",
              "      fill: #1967D2;\n",
              "      height: 32px;\n",
              "      padding: 0 0 0 0;\n",
              "      width: 32px;\n",
              "    }\n",
              "\n",
              "    .colab-df-convert:hover {\n",
              "      background-color: #E2EBFA;\n",
              "      box-shadow: 0px 1px 2px rgba(60, 64, 67, 0.3), 0px 1px 3px 1px rgba(60, 64, 67, 0.15);\n",
              "      fill: #174EA6;\n",
              "    }\n",
              "\n",
              "    .colab-df-buttons div {\n",
              "      margin-bottom: 4px;\n",
              "    }\n",
              "\n",
              "    [theme=dark] .colab-df-convert {\n",
              "      background-color: #3B4455;\n",
              "      fill: #D2E3FC;\n",
              "    }\n",
              "\n",
              "    [theme=dark] .colab-df-convert:hover {\n",
              "      background-color: #434B5C;\n",
              "      box-shadow: 0px 1px 3px 1px rgba(0, 0, 0, 0.15);\n",
              "      filter: drop-shadow(0px 1px 2px rgba(0, 0, 0, 0.3));\n",
              "      fill: #FFFFFF;\n",
              "    }\n",
              "  </style>\n",
              "\n",
              "    <script>\n",
              "      const buttonEl =\n",
              "        document.querySelector('#df-7174be90-fc42-4d48-98bc-82dbfad84151 button.colab-df-convert');\n",
              "      buttonEl.style.display =\n",
              "        google.colab.kernel.accessAllowed ? 'block' : 'none';\n",
              "\n",
              "      async function convertToInteractive(key) {\n",
              "        const element = document.querySelector('#df-7174be90-fc42-4d48-98bc-82dbfad84151');\n",
              "        const dataTable =\n",
              "          await google.colab.kernel.invokeFunction('convertToInteractive',\n",
              "                                                    [key], {});\n",
              "        if (!dataTable) return;\n",
              "\n",
              "        const docLinkHtml = 'Like what you see? Visit the ' +\n",
              "          '<a target=\"_blank\" href=https://colab.research.google.com/notebooks/data_table.ipynb>data table notebook</a>'\n",
              "          + ' to learn more about interactive tables.';\n",
              "        element.innerHTML = '';\n",
              "        dataTable['output_type'] = 'display_data';\n",
              "        await google.colab.output.renderOutput(dataTable, element);\n",
              "        const docLink = document.createElement('div');\n",
              "        docLink.innerHTML = docLinkHtml;\n",
              "        element.appendChild(docLink);\n",
              "      }\n",
              "    </script>\n",
              "  </div>\n",
              "\n",
              "\n",
              "<div id=\"df-51fc8242-10cf-4a59-969e-43faec87b4a1\">\n",
              "  <button class=\"colab-df-quickchart\" onclick=\"quickchart('df-51fc8242-10cf-4a59-969e-43faec87b4a1')\"\n",
              "            title=\"Suggest charts\"\n",
              "            style=\"display:none;\">\n",
              "\n",
              "<svg xmlns=\"http://www.w3.org/2000/svg\" height=\"24px\"viewBox=\"0 0 24 24\"\n",
              "     width=\"24px\">\n",
              "    <g>\n",
              "        <path d=\"M19 3H5c-1.1 0-2 .9-2 2v14c0 1.1.9 2 2 2h14c1.1 0 2-.9 2-2V5c0-1.1-.9-2-2-2zM9 17H7v-7h2v7zm4 0h-2V7h2v10zm4 0h-2v-4h2v4z\"/>\n",
              "    </g>\n",
              "</svg>\n",
              "  </button>\n",
              "\n",
              "<style>\n",
              "  .colab-df-quickchart {\n",
              "      --bg-color: #E8F0FE;\n",
              "      --fill-color: #1967D2;\n",
              "      --hover-bg-color: #E2EBFA;\n",
              "      --hover-fill-color: #174EA6;\n",
              "      --disabled-fill-color: #AAA;\n",
              "      --disabled-bg-color: #DDD;\n",
              "  }\n",
              "\n",
              "  [theme=dark] .colab-df-quickchart {\n",
              "      --bg-color: #3B4455;\n",
              "      --fill-color: #D2E3FC;\n",
              "      --hover-bg-color: #434B5C;\n",
              "      --hover-fill-color: #FFFFFF;\n",
              "      --disabled-bg-color: #3B4455;\n",
              "      --disabled-fill-color: #666;\n",
              "  }\n",
              "\n",
              "  .colab-df-quickchart {\n",
              "    background-color: var(--bg-color);\n",
              "    border: none;\n",
              "    border-radius: 50%;\n",
              "    cursor: pointer;\n",
              "    display: none;\n",
              "    fill: var(--fill-color);\n",
              "    height: 32px;\n",
              "    padding: 0;\n",
              "    width: 32px;\n",
              "  }\n",
              "\n",
              "  .colab-df-quickchart:hover {\n",
              "    background-color: var(--hover-bg-color);\n",
              "    box-shadow: 0 1px 2px rgba(60, 64, 67, 0.3), 0 1px 3px 1px rgba(60, 64, 67, 0.15);\n",
              "    fill: var(--button-hover-fill-color);\n",
              "  }\n",
              "\n",
              "  .colab-df-quickchart-complete:disabled,\n",
              "  .colab-df-quickchart-complete:disabled:hover {\n",
              "    background-color: var(--disabled-bg-color);\n",
              "    fill: var(--disabled-fill-color);\n",
              "    box-shadow: none;\n",
              "  }\n",
              "\n",
              "  .colab-df-spinner {\n",
              "    border: 2px solid var(--fill-color);\n",
              "    border-color: transparent;\n",
              "    border-bottom-color: var(--fill-color);\n",
              "    animation:\n",
              "      spin 1s steps(1) infinite;\n",
              "  }\n",
              "\n",
              "  @keyframes spin {\n",
              "    0% {\n",
              "      border-color: transparent;\n",
              "      border-bottom-color: var(--fill-color);\n",
              "      border-left-color: var(--fill-color);\n",
              "    }\n",
              "    20% {\n",
              "      border-color: transparent;\n",
              "      border-left-color: var(--fill-color);\n",
              "      border-top-color: var(--fill-color);\n",
              "    }\n",
              "    30% {\n",
              "      border-color: transparent;\n",
              "      border-left-color: var(--fill-color);\n",
              "      border-top-color: var(--fill-color);\n",
              "      border-right-color: var(--fill-color);\n",
              "    }\n",
              "    40% {\n",
              "      border-color: transparent;\n",
              "      border-right-color: var(--fill-color);\n",
              "      border-top-color: var(--fill-color);\n",
              "    }\n",
              "    60% {\n",
              "      border-color: transparent;\n",
              "      border-right-color: var(--fill-color);\n",
              "    }\n",
              "    80% {\n",
              "      border-color: transparent;\n",
              "      border-right-color: var(--fill-color);\n",
              "      border-bottom-color: var(--fill-color);\n",
              "    }\n",
              "    90% {\n",
              "      border-color: transparent;\n",
              "      border-bottom-color: var(--fill-color);\n",
              "    }\n",
              "  }\n",
              "</style>\n",
              "\n",
              "  <script>\n",
              "    async function quickchart(key) {\n",
              "      const quickchartButtonEl =\n",
              "        document.querySelector('#' + key + ' button');\n",
              "      quickchartButtonEl.disabled = true;  // To prevent multiple clicks.\n",
              "      quickchartButtonEl.classList.add('colab-df-spinner');\n",
              "      try {\n",
              "        const charts = await google.colab.kernel.invokeFunction(\n",
              "            'suggestCharts', [key], {});\n",
              "      } catch (error) {\n",
              "        console.error('Error during call to suggestCharts:', error);\n",
              "      }\n",
              "      quickchartButtonEl.classList.remove('colab-df-spinner');\n",
              "      quickchartButtonEl.classList.add('colab-df-quickchart-complete');\n",
              "    }\n",
              "    (() => {\n",
              "      let quickchartButtonEl =\n",
              "        document.querySelector('#df-51fc8242-10cf-4a59-969e-43faec87b4a1 button');\n",
              "      quickchartButtonEl.style.display =\n",
              "        google.colab.kernel.accessAllowed ? 'block' : 'none';\n",
              "    })();\n",
              "  </script>\n",
              "</div>\n",
              "\n",
              "    </div>\n",
              "  </div>\n"
            ],
            "application/vnd.google.colaboratory.intrinsic+json": {
              "type": "dataframe",
              "variable_name": "product_samples2",
              "summary": "{\n  \"name\": \"product_samples2\",\n  \"rows\": 324,\n  \"fields\": [\n    {\n      \"column\": \"Unnamed: 0\",\n      \"properties\": {\n        \"dtype\": \"number\",\n        \"std\": 3251,\n        \"min\": 317,\n        \"max\": 12143,\n        \"num_unique_values\": 324,\n        \"samples\": [\n          9843,\n          9606,\n          1949\n        ],\n        \"semantic_type\": \"\",\n        \"description\": \"\"\n      }\n    },\n    {\n      \"column\": \"title\",\n      \"properties\": {\n        \"dtype\": \"string\",\n        \"num_unique_values\": 322,\n        \"samples\": [\n          \"Cat Mate Lockable Cat Flap, White\",\n          \"Pet MD Otic Clean Dog Ear Cleaner for Cats and Dogs - Effective Against Infections, Itching, and Controls Odor - 8 oz\",\n          \"Outward Hound Hedgehogz Plush Dog Toy, XL\"\n        ],\n        \"semantic_type\": \"\",\n        \"description\": \"\"\n      }\n    },\n    {\n      \"column\": \"rating_number\",\n      \"properties\": {\n        \"dtype\": \"number\",\n        \"std\": 10016,\n        \"min\": 1510,\n        \"max\": 84140,\n        \"num_unique_values\": 315,\n        \"samples\": [\n          5695,\n          2978,\n          2661\n        ],\n        \"semantic_type\": \"\",\n        \"description\": \"\"\n      }\n    },\n    {\n      \"column\": \"features\",\n      \"properties\": {\n        \"dtype\": \"string\",\n        \"num_unique_values\": 321,\n        \"samples\": [\n          \"['White 2 way locking cat door', 'Recommended for thin doors and screens up to 1/2-inch thick', 'Exterior rain seal included', 'Brush strip to reduce energy loss and silent action', 'Poly carbonate flap']\",\n          \"['Advanced Formulation & Scientifically Designed to Deodorize, Clean, Dry & Acidify Ears.', \\\"Safe & Gentle Cleanser with Aloe Vera for Daily Use. Won't Sting, Burn or Aggravate - Even for Puppies & Kittens.\\\", 'Eliminates Build Up of Wax, Fluid, Dirt & Debris to Stop Your Pet from Scratching and Head Shaking.', \\\"Pleasant Sweet Pea Scented Drops Help Your Pet's Ears Smell as Good as They Feel.\\\", 'Made in the USA in Federally Regulated Manufacturing Facilities to Ensure Quality and Safety.']\",\n          \"['MINIMAL SEAMS & SOFT FAUX FUR: The Hedgehogz stuffed dog toy is an adorable favorite amongst dogs and pet owners alike! Designed with reduced exposure of seams to promote longer-lasting plush enjoyment.', 'SQUEAKER & NOISE MAKER: XL Hedgehogz include a grunter squeaker and rattler for extra excitement!', 'CURL UP & CUDDLE: Our soft and huggable Hedgehogz dog toy has a rounded shape for dogs who love to carry, roll, and snuggle up for naps.', 'MULTIPLE SIZES TO CHOOSE FROM: Hedgehogz are Available in a range of sizes, suitable for all types of dog breeds.', 'PLAY IT SAFE: No toy is indestructible. Do not leave toys with unsupervised pets. Remove and replace toy if damaged.']\"\n        ],\n        \"semantic_type\": \"\",\n        \"description\": \"\"\n      }\n    },\n    {\n      \"column\": \"description\",\n      \"properties\": {\n        \"dtype\": \"string\",\n        \"num_unique_values\": 321,\n        \"samples\": [\n          \"['WHY DID YOU CHOOSE US? VERSATILE COLORS,Brown,Grey and Black,All colors blend with any d\\u00e9corLarge 46x35 Inches little mat,The mat is 46 inch long x 35 inch wide,so it offers a good place for your cat to rest and play on.Your room will be no longer messy all around.Easy to clean,You can use a brush or your vacuum cleaner to clean the mat conveniently.Capture cat litter,the mat is designed with grooves and mesh to capture cat litter from paws,the large size also provides help to capture cat litter,the floor will not be dirty,Soft and durable,Very comfortable for your lovely pet,this mat is designed to be sturdy and durable.']\",\n          \"[\\\"Pet MD Otic-Clean with Aloe Vera for dogs and cats is a veterinarian formulated ear cleanser scientifically developed to deodorize, gently clean, dry and acidify the ear canal. A build up of wax, dirt and other substances can result in odors, excess scratching, itching and ultimately ear infections. Ear Rinse for dogs and cats helps to safely clean your pet's ears and avoid potential problems before they start. Plus, you will love the pleasant Sweet Pea Vanilla scent! Will not sting or burn and gentle enough for daily use. Ideal for dogs of any age especially breeds with long ears. Great for hunting and working dogs.\\\"]\",\n          \"['The new iSqueak Bouncin\\u00e2\\u20ac\\u2122 Baseball Large is a squeaky durable natural rubber ball. This sporty toy is meant to be tossed, passed, carried, and chewed. Available in fun bright colors, this size baseball is suited for large and giant breed canine athletes.']\"\n        ],\n        \"semantic_type\": \"\",\n        \"description\": \"\"\n      }\n    },\n    {\n      \"column\": \"combined_description\",\n      \"properties\": {\n        \"dtype\": \"string\",\n        \"num_unique_values\": 321,\n        \"samples\": [\n          \"An economically priced flap with uncompromised quality and is particularly recommended for thin panel doors and screens This lockable flap features an easy to use tamperproof slide lock and a weatherproof brush sealed flap made from supertough polymer Self lining to 12 13mm White 2 way locking cat door Recommended for thin doors and screens up to 12inch thick Exterior rain seal included Brush strip to reduce energy loss and silent action Poly carbonate flap\",\n          \"Pet MD OticClean with Aloe Vera for dogs and cats is a veterinarian formulated ear cleanser scientifically developed to deodorize gently clean dry and acidify the ear canal A build up of wax dirt and other substances can result in odors excess scratching itching and ultimately ear infections Ear Rinse for dogs and cats helps to safely clean your pets ears and avoid potential problems before they start Plus you will love the pleasant Sweet Pea Vanilla scent Will not sting or burn and gentle enough for daily use Ideal for dogs of any age especially breeds with long ears Great for hunting and working dogs Advanced Formulation  Scientifically Designed to Deodorize Clean Dry  Acidify Ears Safe  Gentle Cleanser with Aloe Vera for Daily Use Wont Sting Burn or Aggravate  Even for Puppies  Kittens Eliminates Build Up of Wax Fluid Dirt  Debris to Stop Your Pet from Scratching and Head Shaking Pleasant Sweet Pea Scented Drops Help Your Pets Ears Smell as Good as They Feel Made in the USA in Federally Regulated Manufacturing Facilities to Ensure Quality and Safety\",\n          \"Outward Hounds plush Hedgehogz are a favorite amongst dogs Made with minimal seams to reduce tearing and soft fauxfur to mimic a natural feel your pet will adore snuggling up and playing games with this cuddly companion Available in a range of sizes Small and medium Hedgehogz feature the classical squeaker while large and XL Hedgehogz feature a grunting squeaker and rattling noisemaker If your dog likes to play rough supervised play will help keep the plush Hedgehogz toy lasting longer SAFETY AND CARE When choosing a toy make sure to choose an appropriate size toy for your dog No toy is indestructible ALWAYS supervise your dog when using a toy of any kind Inspect toys regularly for damage and remove and replace if broken or if parts become separated as serious injury may result Intended for dogs only Keep out of reach of children MINIMAL SEAMS  SOFT FAUX FUR The Hedgehogz stuffed dog toy is an adorable favorite amongst dogs and pet owners alike Designed with reduced exposure of seams to promote longerlasting plush enjoyment SQUEAKER  NOISE MAKER XL Hedgehogz include a grunter squeaker and rattler for extra excitement CURL UP  CUDDLE Our soft and huggable Hedgehogz dog toy has a rounded shape for dogs who love to carry roll and snuggle up for naps MULTIPLE SIZES TO CHOOSE FROM Hedgehogz are Available in a range of sizes suitable for all types of dog breeds PLAY IT SAFE No toy is indestructible Do not leave toys with unsupervised pets Remove and replace toy if damaged\"\n        ],\n        \"semantic_type\": \"\",\n        \"description\": \"\"\n      }\n    },\n    {\n      \"column\": \"label\",\n      \"properties\": {\n        \"dtype\": \"number\",\n        \"std\": 60,\n        \"min\": 0,\n        \"max\": 199,\n        \"num_unique_values\": 160,\n        \"samples\": [\n          127,\n          132,\n          176\n        ],\n        \"semantic_type\": \"\",\n        \"description\": \"\"\n      }\n    },\n    {\n      \"column\": \"query_1\",\n      \"properties\": {\n        \"dtype\": \"string\",\n        \"num_unique_values\": 324,\n        \"samples\": [\n          \"ear infection treatment for dogs and cats\",\n          \"portable travel dog bed\",\n          \"self-warming pet pad\"\n        ],\n        \"semantic_type\": \"\",\n        \"description\": \"\"\n      }\n    },\n    {\n      \"column\": \"query_2\",\n      \"properties\": {\n        \"dtype\": \"string\",\n        \"num_unique_values\": 321,\n        \"samples\": [\n          \"weather-proof cat door\",\n          \"otic solution for pet ear inflammation\",\n          \"large dog rubber ball toy\"\n        ],\n        \"semantic_type\": \"\",\n        \"description\": \"\"\n      }\n    },\n    {\n      \"column\": \"query_3\",\n      \"properties\": {\n        \"dtype\": \"string\",\n        \"num_unique_values\": 323,\n        \"samples\": [\n          \"tamper-proof cat flap\",\n          \"bacterial and yeast infection ear drops\",\n          \"durable canine toy\"\n        ],\n        \"semantic_type\": \"\",\n        \"description\": \"\"\n      }\n    },\n    {\n      \"column\": \"query_4\",\n      \"properties\": {\n        \"dtype\": \"string\",\n        \"num_unique_values\": 323,\n        \"samples\": [\n          \"durable cat door\",\n          \"chronic ear infection remedy\",\n          \"large breed dog toy\"\n        ],\n        \"semantic_type\": \"\",\n        \"description\": \"\"\n      }\n    },\n    {\n      \"column\": \"query_5\",\n      \"properties\": {\n        \"dtype\": \"string\",\n        \"num_unique_values\": 324,\n        \"samples\": [\n          \"veterinary ear medication,\",\n          \"soft cushioned pet bed\",\n          \"cozy pet mat\"\n        ],\n        \"semantic_type\": \"\",\n        \"description\": \"\"\n      }\n    }\n  ]\n}"
            }
          },
          "metadata": {},
          "execution_count": 136
        }
      ]
    },
    {
      "cell_type": "code",
      "execution_count": null,
      "id": "d0bcfbe3-31b8-46ee-b048-ec564b71e605",
      "metadata": {
        "id": "d0bcfbe3-31b8-46ee-b048-ec564b71e605"
      },
      "outputs": [],
      "source": [
        "product_samples2.to_csv('pet_products_sample_queries.csv', index=False)"
      ]
    },
    {
      "cell_type": "markdown",
      "source": [
        "Performed post-processing after to guarantee match."
      ],
      "metadata": {
        "id": "RD1wDAkTQGYb"
      },
      "id": "RD1wDAkTQGYb"
    }
  ],
  "metadata": {
    "kernelspec": {
      "display_name": "Python 3 (ipykernel)",
      "language": "python",
      "name": "python3"
    },
    "language_info": {
      "codemirror_mode": {
        "name": "ipython",
        "version": 3
      },
      "file_extension": ".py",
      "mimetype": "text/x-python",
      "name": "python",
      "nbconvert_exporter": "python",
      "pygments_lexer": "ipython3",
      "version": "3.10.14"
    },
    "colab": {
      "provenance": []
    }
  },
  "nbformat": 4,
  "nbformat_minor": 5
}