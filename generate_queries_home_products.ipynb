{
 "cells": [
  {
   "cell_type": "code",
   "execution_count": 1,
   "id": "aa9b79e3-3af5-42d6-94d3-1f70e6568747",
   "metadata": {},
   "outputs": [],
   "source": [
    "import os\n",
    "import re\n",
    "import time\n",
    "import numpy as np\n",
    "import pandas as pd\n",
    "from openai import OpenAI"
   ]
  },
  {
   "cell_type": "code",
   "execution_count": 2,
   "id": "ceae2ba0-f62c-4f0c-89de-f1fad65cec45",
   "metadata": {},
   "outputs": [],
   "source": [
    "products_df = pd.read_csv(\"data/labeled_tools_and_home_improvement_products.csv\")"
   ]
  },
  {
   "cell_type": "code",
   "execution_count": 3,
   "id": "8be12286-777c-41a0-b8ac-a050c3eace27",
   "metadata": {},
   "outputs": [
    {
     "data": {
      "text/html": [
       "<div>\n",
       "<style scoped>\n",
       "    .dataframe tbody tr th:only-of-type {\n",
       "        vertical-align: middle;\n",
       "    }\n",
       "\n",
       "    .dataframe tbody tr th {\n",
       "        vertical-align: top;\n",
       "    }\n",
       "\n",
       "    .dataframe thead th {\n",
       "        text-align: right;\n",
       "    }\n",
       "</style>\n",
       "<table border=\"1\" class=\"dataframe\">\n",
       "  <thead>\n",
       "    <tr style=\"text-align: right;\">\n",
       "      <th></th>\n",
       "      <th>id</th>\n",
       "      <th>title</th>\n",
       "      <th>description</th>\n",
       "      <th>label</th>\n",
       "    </tr>\n",
       "  </thead>\n",
       "  <tbody>\n",
       "    <tr>\n",
       "      <th>0</th>\n",
       "      <td>B09M8J9LQ9</td>\n",
       "      <td>Decute 200LED Christmas String Lights Outdoor ...</td>\n",
       "      <td>Specifications Light Color Multicolored Applic...</td>\n",
       "      <td>22</td>\n",
       "    </tr>\n",
       "    <tr>\n",
       "      <th>1</th>\n",
       "      <td>B0BNZ888C7</td>\n",
       "      <td>Upgrade Hydro Shower Jet Head High Pressure Hy...</td>\n",
       "      <td>HighPressure Filtered Shower Head with 3 Repla...</td>\n",
       "      <td>10</td>\n",
       "    </tr>\n",
       "    <tr>\n",
       "      <th>2</th>\n",
       "      <td>B07TLCQ3NR</td>\n",
       "      <td>1\" Adhesive Furniture Sliders -Furnigear Chair...</td>\n",
       "      <td>Adhesive Furniture Glides SlidersFurnigear Hea...</td>\n",
       "      <td>17</td>\n",
       "    </tr>\n",
       "    <tr>\n",
       "      <th>3</th>\n",
       "      <td>B09HRSKRFB</td>\n",
       "      <td>Sunlite 40455 LED A19 Colored Light Bulb, 3 Wa...</td>\n",
       "      <td>Sunlites colored decorative A19 household ligh...</td>\n",
       "      <td>3</td>\n",
       "    </tr>\n",
       "    <tr>\n",
       "      <th>4</th>\n",
       "      <td>B014AV8FY2</td>\n",
       "      <td>Dixie Belle Paint Company Chalk Finish Furnitu...</td>\n",
       "      <td>CHALK MINERAL PAINT  Amethyst is a rich deep m...</td>\n",
       "      <td>9</td>\n",
       "    </tr>\n",
       "  </tbody>\n",
       "</table>\n",
       "</div>"
      ],
      "text/plain": [
       "           id                                              title  \\\n",
       "0  B09M8J9LQ9  Decute 200LED Christmas String Lights Outdoor ...   \n",
       "1  B0BNZ888C7  Upgrade Hydro Shower Jet Head High Pressure Hy...   \n",
       "2  B07TLCQ3NR  1\" Adhesive Furniture Sliders -Furnigear Chair...   \n",
       "3  B09HRSKRFB  Sunlite 40455 LED A19 Colored Light Bulb, 3 Wa...   \n",
       "4  B014AV8FY2  Dixie Belle Paint Company Chalk Finish Furnitu...   \n",
       "\n",
       "                                         description  label  \n",
       "0  Specifications Light Color Multicolored Applic...     22  \n",
       "1  HighPressure Filtered Shower Head with 3 Repla...     10  \n",
       "2  Adhesive Furniture Glides SlidersFurnigear Hea...     17  \n",
       "3  Sunlites colored decorative A19 household ligh...      3  \n",
       "4  CHALK MINERAL PAINT  Amethyst is a rich deep m...      9  "
      ]
     },
     "execution_count": 3,
     "metadata": {},
     "output_type": "execute_result"
    }
   ],
   "source": [
    "products_df.head()"
   ]
  },
  {
   "cell_type": "code",
   "execution_count": 4,
   "id": "1ef392e8-a353-4d6a-ab20-c2bc605760a7",
   "metadata": {},
   "outputs": [
    {
     "data": {
      "text/html": [
       "<div>\n",
       "<style scoped>\n",
       "    .dataframe tbody tr th:only-of-type {\n",
       "        vertical-align: middle;\n",
       "    }\n",
       "\n",
       "    .dataframe tbody tr th {\n",
       "        vertical-align: top;\n",
       "    }\n",
       "\n",
       "    .dataframe thead th {\n",
       "        text-align: right;\n",
       "    }\n",
       "</style>\n",
       "<table border=\"1\" class=\"dataframe\">\n",
       "  <thead>\n",
       "    <tr style=\"text-align: right;\">\n",
       "      <th></th>\n",
       "      <th>id</th>\n",
       "      <th>title</th>\n",
       "      <th>description</th>\n",
       "      <th>label</th>\n",
       "    </tr>\n",
       "  </thead>\n",
       "  <tbody>\n",
       "    <tr>\n",
       "      <th>0</th>\n",
       "      <td>B08LBHKCG6</td>\n",
       "      <td>ESTWING Rock Pick - 22 oz Geological Hammer wi...</td>\n",
       "      <td>Product Description Estwing Rock Picks are the...</td>\n",
       "      <td>-1</td>\n",
       "    </tr>\n",
       "    <tr>\n",
       "      <th>1</th>\n",
       "      <td>B08X4LDHS7</td>\n",
       "      <td>SOAIY Star Projector, Night Light 3IN1 Starry ...</td>\n",
       "      <td>Galaxy Light Projector Smart LifeWorks with Al...</td>\n",
       "      <td>-1</td>\n",
       "    </tr>\n",
       "    <tr>\n",
       "      <th>2</th>\n",
       "      <td>B0BG3ZNVTX</td>\n",
       "      <td>Christmas Decorative Laser Lights Projector Ou...</td>\n",
       "      <td>OUTDOOR USE  Longdistance projection is still ...</td>\n",
       "      <td>-1</td>\n",
       "    </tr>\n",
       "    <tr>\n",
       "      <th>3</th>\n",
       "      <td>B000JFLMBM</td>\n",
       "      <td>DANCO Brass Closet Bolts with Nuts and Washers...</td>\n",
       "      <td>Product Description Danco is one of the larges...</td>\n",
       "      <td>-1</td>\n",
       "    </tr>\n",
       "    <tr>\n",
       "      <th>4</th>\n",
       "      <td>B09KC9BG3D</td>\n",
       "      <td>Moon Lamp, LOGROTATE 16 Colors LED Night Light...</td>\n",
       "      <td>A Unique Kids Night Light Moon lamp with the d...</td>\n",
       "      <td>-1</td>\n",
       "    </tr>\n",
       "    <tr>\n",
       "      <th>5</th>\n",
       "      <td>B0B2RPLQKS</td>\n",
       "      <td>Cordless Screwdriver, VIGRUE Rechargeable Elec...</td>\n",
       "      <td>Mutifunction Drill Driver and Electric Screwdr...</td>\n",
       "      <td>0</td>\n",
       "    </tr>\n",
       "    <tr>\n",
       "      <th>6</th>\n",
       "      <td>B0C49QGX4L</td>\n",
       "      <td>Dremel Lite 7760 N/10 4V Li-Ion Cordless Rotar...</td>\n",
       "      <td>Dremel Lite 7760 N10 4V LiIon Cordless Rotary ...</td>\n",
       "      <td>0</td>\n",
       "    </tr>\n",
       "    <tr>\n",
       "      <th>7</th>\n",
       "      <td>B077ZYMK1W</td>\n",
       "      <td>Milwaukee Electric Tools MLW2553-20 M12 Fuel 1...</td>\n",
       "      <td>The M12 FUEL 14 in Hex impact driver once agai...</td>\n",
       "      <td>0</td>\n",
       "    </tr>\n",
       "    <tr>\n",
       "      <th>8</th>\n",
       "      <td>B0BWN8YQLT</td>\n",
       "      <td>Winzwon Cutting Wheels Set 44 Pcs for Dremel R...</td>\n",
       "      <td>Diamond Cutting Wheels 15 Pcs Match with 2pcs ...</td>\n",
       "      <td>0</td>\n",
       "    </tr>\n",
       "    <tr>\n",
       "      <th>9</th>\n",
       "      <td>B00Z82EYZ2</td>\n",
       "      <td>Ridgid R840095 Gen5X Genuine OEM Dual Chemistr...</td>\n",
       "      <td>If you have Ridgid 18V batteries youll want to...</td>\n",
       "      <td>0</td>\n",
       "    </tr>\n",
       "    <tr>\n",
       "      <th>10</th>\n",
       "      <td>B07V6ZWQQ1</td>\n",
       "      <td>Amazon Basics 131-Piece General Household Home...</td>\n",
       "      <td>Product Description The 131Piece General House...</td>\n",
       "      <td>1</td>\n",
       "    </tr>\n",
       "    <tr>\n",
       "      <th>11</th>\n",
       "      <td>B09C5MNHQY</td>\n",
       "      <td>Be91eiter Damaged Screw Extractor Set, 22 PCS ...</td>\n",
       "      <td>NEW ARRIVAL Kelepopo change the traditional id...</td>\n",
       "      <td>1</td>\n",
       "    </tr>\n",
       "  </tbody>\n",
       "</table>\n",
       "</div>"
      ],
      "text/plain": [
       "            id                                              title  \\\n",
       "0   B08LBHKCG6  ESTWING Rock Pick - 22 oz Geological Hammer wi...   \n",
       "1   B08X4LDHS7  SOAIY Star Projector, Night Light 3IN1 Starry ...   \n",
       "2   B0BG3ZNVTX  Christmas Decorative Laser Lights Projector Ou...   \n",
       "3   B000JFLMBM  DANCO Brass Closet Bolts with Nuts and Washers...   \n",
       "4   B09KC9BG3D  Moon Lamp, LOGROTATE 16 Colors LED Night Light...   \n",
       "5   B0B2RPLQKS  Cordless Screwdriver, VIGRUE Rechargeable Elec...   \n",
       "6   B0C49QGX4L  Dremel Lite 7760 N/10 4V Li-Ion Cordless Rotar...   \n",
       "7   B077ZYMK1W  Milwaukee Electric Tools MLW2553-20 M12 Fuel 1...   \n",
       "8   B0BWN8YQLT  Winzwon Cutting Wheels Set 44 Pcs for Dremel R...   \n",
       "9   B00Z82EYZ2  Ridgid R840095 Gen5X Genuine OEM Dual Chemistr...   \n",
       "10  B07V6ZWQQ1  Amazon Basics 131-Piece General Household Home...   \n",
       "11  B09C5MNHQY  Be91eiter Damaged Screw Extractor Set, 22 PCS ...   \n",
       "\n",
       "                                          description  label  \n",
       "0   Product Description Estwing Rock Picks are the...     -1  \n",
       "1   Galaxy Light Projector Smart LifeWorks with Al...     -1  \n",
       "2   OUTDOOR USE  Longdistance projection is still ...     -1  \n",
       "3   Product Description Danco is one of the larges...     -1  \n",
       "4   A Unique Kids Night Light Moon lamp with the d...     -1  \n",
       "5   Mutifunction Drill Driver and Electric Screwdr...      0  \n",
       "6   Dremel Lite 7760 N10 4V LiIon Cordless Rotary ...      0  \n",
       "7   The M12 FUEL 14 in Hex impact driver once agai...      0  \n",
       "8   Diamond Cutting Wheels 15 Pcs Match with 2pcs ...      0  \n",
       "9   If you have Ridgid 18V batteries youll want to...      0  \n",
       "10  Product Description The 131Piece General House...      1  \n",
       "11  NEW ARRIVAL Kelepopo change the traditional id...      1  "
      ]
     },
     "execution_count": 4,
     "metadata": {},
     "output_type": "execute_result"
    }
   ],
   "source": [
    "# We will sample 5 products per group and create sample queries for each of them\n",
    "product_samples = products_df.groupby('label').sample(n=5, random_state=234).reset_index(drop=True)\n",
    "product_samples.head(n=12)"
   ]
  },
  {
   "cell_type": "code",
   "execution_count": 5,
   "id": "b09b6cb3-d3bb-4e99-aa7e-d6aa0bc33593",
   "metadata": {},
   "outputs": [
    {
     "data": {
      "text/html": [
       "<div>\n",
       "<style scoped>\n",
       "    .dataframe tbody tr th:only-of-type {\n",
       "        vertical-align: middle;\n",
       "    }\n",
       "\n",
       "    .dataframe tbody tr th {\n",
       "        vertical-align: top;\n",
       "    }\n",
       "\n",
       "    .dataframe thead th {\n",
       "        text-align: right;\n",
       "    }\n",
       "</style>\n",
       "<table border=\"1\" class=\"dataframe\">\n",
       "  <thead>\n",
       "    <tr style=\"text-align: right;\">\n",
       "      <th></th>\n",
       "      <th>id</th>\n",
       "      <th>title</th>\n",
       "      <th>description</th>\n",
       "      <th>label</th>\n",
       "    </tr>\n",
       "  </thead>\n",
       "  <tbody>\n",
       "    <tr>\n",
       "      <th>0</th>\n",
       "      <td>B0BFJL5LD1</td>\n",
       "      <td>VGYVGYCC Outdoor Solar Garden Lights - 2 Pack ...</td>\n",
       "      <td>2022 Newest Version2 pack solar tulip lights a...</td>\n",
       "      <td>12</td>\n",
       "    </tr>\n",
       "    <tr>\n",
       "      <th>1</th>\n",
       "      <td>B0002H49E4</td>\n",
       "      <td>LEATHERMAN - Standard Nylon Sheath with Pocket...</td>\n",
       "      <td>Product Description This nylon belt sheath is ...</td>\n",
       "      <td>55</td>\n",
       "    </tr>\n",
       "    <tr>\n",
       "      <th>2</th>\n",
       "      <td>B084GYHQFY</td>\n",
       "      <td>Makita MAC210Q Quiet Series, 1 HP, 2 Gallon, O...</td>\n",
       "      <td>Compressors are workhorse tools on the job sit...</td>\n",
       "      <td>31</td>\n",
       "    </tr>\n",
       "    <tr>\n",
       "      <th>3</th>\n",
       "      <td>B09ZP7M7R1</td>\n",
       "      <td>Greenclick Landscape Lighting, 3W 12V Extendab...</td>\n",
       "      <td>Safe Low Voltage Landscape LightsLow voltage l...</td>\n",
       "      <td>35</td>\n",
       "    </tr>\n",
       "    <tr>\n",
       "      <th>4</th>\n",
       "      <td>B0BRGRNK2H</td>\n",
       "      <td>20 oz Big Gap Filler Insulating Foam Sealant (...</td>\n",
       "      <td>Product Description GREAT STUFF Big Gap Filler...</td>\n",
       "      <td>8</td>\n",
       "    </tr>\n",
       "  </tbody>\n",
       "</table>\n",
       "</div>"
      ],
      "text/plain": [
       "           id                                              title  \\\n",
       "0  B0BFJL5LD1  VGYVGYCC Outdoor Solar Garden Lights - 2 Pack ...   \n",
       "1  B0002H49E4  LEATHERMAN - Standard Nylon Sheath with Pocket...   \n",
       "2  B084GYHQFY  Makita MAC210Q Quiet Series, 1 HP, 2 Gallon, O...   \n",
       "3  B09ZP7M7R1  Greenclick Landscape Lighting, 3W 12V Extendab...   \n",
       "4  B0BRGRNK2H  20 oz Big Gap Filler Insulating Foam Sealant (...   \n",
       "\n",
       "                                         description  label  \n",
       "0  2022 Newest Version2 pack solar tulip lights a...     12  \n",
       "1  Product Description This nylon belt sheath is ...     55  \n",
       "2  Compressors are workhorse tools on the job sit...     31  \n",
       "3  Safe Low Voltage Landscape LightsLow voltage l...     35  \n",
       "4  Product Description GREAT STUFF Big Gap Filler...      8  "
      ]
     },
     "execution_count": 5,
     "metadata": {},
     "output_type": "execute_result"
    }
   ],
   "source": [
    "# Shuffle the products so that different groups are passed together\n",
    "product_samples = product_samples.sample(frac=1).reset_index(drop=True)\n",
    "product_samples.head()"
   ]
  },
  {
   "cell_type": "code",
   "execution_count": 6,
   "id": "617cb89a-7762-4b3c-a660-e34588011528",
   "metadata": {},
   "outputs": [],
   "source": [
    "openai_api_key = os.environ['OPENAI_API_KEY']"
   ]
  },
  {
   "cell_type": "code",
   "execution_count": 7,
   "id": "acdcc98f-ba50-46f4-a33e-434671935c3e",
   "metadata": {},
   "outputs": [],
   "source": [
    "class QueryGenerator:\n",
    "    def __init__(self, api_key):\n",
    "        \"\"\"Initialize the generator with API key and standard prompts\"\"\"\n",
    "        self.client = OpenAI(api_key=api_key)\n",
    "        \n",
    "        # Store the system and example prompts\n",
    "        self.system_prompt = \"\"\"You are an expert in e-commerce search optimization. Given a product description, generate a list of 5 realistic search queries a customer might use to find the product, even if the customer does not know the exact name of the product they are looking for.\n",
    "\n",
    "        Guidelines:\n",
    "        - Keep queries short (2-10 words)\n",
    "        - Avoid exact repetition of product specs; focus on what a customer would type\n",
    "        - Include a mix of general, descriptive, and feature-focused queries\n",
    "        - Consider different use cases for each product (e.g. baking soda can be used for cooking, cleaning, and removing bad odors).\n",
    "        - Use casual, natural language\n",
    "        - Return ONLY the list of 5 queries enclosed in [] and separated by ',' with no additional text\"\"\"\n",
    "\n",
    "        self.example_prompt = \"\"\"Here are some examples:\n",
    "\n",
    "        Product Description: \"Desk Lamps with Smooth Dimming Function from 100 to 0The rotary knob on the lamp base allows you to set the brightness to any level from 0 to 100 Easy to change the visual appearance and mood of your space Bedside Table Lamps with 2 USB Charging Ports and 1 AC OutletEach lamp comes with two USB charging ports5V21A and one 2prong AC power outlet120V which are available for use whether the lights on or off Super convenient for you to charge your cellphone iPad Kindle diffuser Apple Watch tablet and other electronic devices Save you from the trouble of not having enough wall sockets to charge multiple devices at the same time EyeCaring LED Edison Bulbs IncludedTwo vintage LED bulbs are included in the package so you can have two workable table lamps instantly upon receiving Save your time in finding compatible ones These 60Watt equivalent LED bulbs offer brightness up to 800LM by drawing only 7W energy The 5000K light these bulbs emit is similar to natural daylight making your surrounding clear and helping you stay focused Minimalist Upright DesignFeaturing clearline metal body in black finish and seeded glass shade this table lamp complements any decor styles from industrial modern antique to midcentury Ideal light source for all areas like bedroom living room kitchen office kids room nursery room and guestroom Lovely Gift Idea Perfect gift choice for family and friends on festivals birthdays graduation and housewarming days\"\n",
    "        \n",
    "        Queries:\n",
    "        [adjustable desk lamp, light with charging port for devices, light for working on my desk, basic design lamp, multipurpose lamp]\n",
    "        \n",
    "        Product Description: \"Keyless Entry Door Lock SMONET Smart Lock can recognize your fingerprint in just 05 seconds and unlock your door in 1 second faster than fumbling for your keys Compatible with Alexa or Google Assistant Requires a wifi gateway to hook it up to Internet sold separately Smart Bluetooth Keypad Lock Not only bring you security and trust but also bring you a brandnew smart home Five ways to unlock your door  Mobile Keypad Fingerprint IC Fob and Mechanical Keys Customize Management  Sign in Bluetooth Locks for Front Door you could check the records about unlocking and wrong passcode in real time Code Door Lock allow setting generate Timed Permanent Onetime or Customized passcode for guests friends housekeepers or employees Smart Locks for Front Door Intuitive touchscreen display alloy body long battery life 4pcs AA batteries can provide 10000 openings approx 12 months For security reason it will automatically lock for 5 minutes when enter the password incorrectly more than 5 times A great solution for home hotel Airbnb etc Excellent Customer Service  1year warranty and free lifetime technical support Any question such as installation or operation problemsor for more gateway information please feel free to contact us\"\n",
    "        \n",
    "        Queries:\n",
    "        [I want a more secure lock for my front door, lock and unlock door with my phone, open door with my finger, door lock that doesn't use key, fancy tech door lock]\n",
    "        \"\"\"\n",
    "\n",
    "    def generate_single(self, product_description):\n",
    "        \"\"\"Generate queries for a single product description\"\"\"\n",
    "        try:\n",
    "            response = self.client.chat.completions.create(\n",
    "                model=\"gpt-3.5-turbo\",\n",
    "                messages=[\n",
    "                    {\"role\": \"system\", \"content\": self.system_prompt},\n",
    "                    {\"role\": \"user\", \"content\": self.example_prompt},\n",
    "                    {\"role\": \"user\", \"content\": f\"Now generate queries for this product description: {product_description}\"}\n",
    "                ],\n",
    "                temperature=0.7,\n",
    "                max_tokens=50\n",
    "            )\n",
    "            \n",
    "            res = response.choices[0].message.content\n",
    "            return res.replace('[', '').replace(']', '').split(', ')\n",
    "            \n",
    "        except Exception as e:\n",
    "            print(f\"Error generating queries: {e}\")\n",
    "            return []\n",
    "\n",
    "    def generate_batch(self, product_descriptions, batch_size: int = 5):\n",
    "        \"\"\"\n",
    "        Generate queries for multiple products efficiently.\n",
    "        Uses batching and includes rate limiting.\n",
    "        \"\"\"\n",
    "        batch_results = []\n",
    "        \n",
    "        # Process in batches\n",
    "        for i in range(0, len(product_descriptions), batch_size):\n",
    "            batch = product_descriptions[i:i + batch_size]\n",
    "            \n",
    "            # Create a single prompt for the batch\n",
    "            batch_prompt = \"Generate queries for each of these products. For each product, start with 'Product X:' where X is the product number:\\n\\n\"\n",
    "            for idx, desc in enumerate(batch, 1):\n",
    "                batch_prompt += f\"Product {idx}: {desc}\\n\\n\"\n",
    "            \n",
    "            try:\n",
    "                response = self.client.chat.completions.create(\n",
    "                    model=\"gpt-3.5-turbo\",\n",
    "                    messages=[\n",
    "                        {\"role\": \"system\", \"content\": self.system_prompt},\n",
    "                        {\"role\": \"user\", \"content\": self.example_prompt},\n",
    "                        {\"role\": \"user\", \"content\": batch_prompt}\n",
    "                    ],\n",
    "                    temperature=0.7,\n",
    "                    max_tokens=50 * len(batch)  # Adjust tokens based on batch size\n",
    "                )\n",
    "                \n",
    "                # Parse the batch response\n",
    "                response_text = response.choices[0].message.content\n",
    "                response_list = re.sub(\"Product \\d: \", \"\", response_text).replace('[', '').replace(']', '').split('\\n')\n",
    "                batch_results.extend([text.split(', ') for text in response_list])\n",
    "                                \n",
    "                # Rate limiting - wait 1 second between batches\n",
    "                if i + batch_size < len(product_descriptions):\n",
    "                    time.sleep(5)\n",
    "                    \n",
    "            except Exception as e:\n",
    "                print(f\"Error processing batch starting at index {i}: {e}\")\n",
    "                continue\n",
    "        \n",
    "        return batch_results"
   ]
  },
  {
   "cell_type": "code",
   "execution_count": 8,
   "id": "d721981d-fe58-4fbf-aeca-759ec5f7495f",
   "metadata": {},
   "outputs": [],
   "source": [
    "generator = QueryGenerator(openai_api_key)"
   ]
  },
  {
   "cell_type": "code",
   "execution_count": 9,
   "id": "18a45845-fe3e-4c3f-ae73-0648bde1a808",
   "metadata": {},
   "outputs": [
    {
     "data": {
      "text/plain": [
       "(295,)"
      ]
     },
     "execution_count": 9,
     "metadata": {},
     "output_type": "execute_result"
    }
   ],
   "source": [
    "# Number of products for which we are generating queries\n",
    "product_samples['description'].shape"
   ]
  },
  {
   "cell_type": "code",
   "execution_count": 10,
   "id": "d02d5bb8-9bd3-490e-afdd-fc30c19244fa",
   "metadata": {},
   "outputs": [],
   "source": [
    "# Create example queries for all descriptions\n",
    "results = generator.generate_batch(product_samples['description'])"
   ]
  },
  {
   "cell_type": "code",
   "execution_count": 11,
   "id": "527427e4-896e-4078-aa13-b743efedede5",
   "metadata": {},
   "outputs": [
    {
     "data": {
      "text/plain": [
       "361"
      ]
     },
     "execution_count": 11,
     "metadata": {},
     "output_type": "execute_result"
    }
   ],
   "source": [
    "len(results)"
   ]
  },
  {
   "cell_type": "markdown",
   "id": "db7cf7bd-348a-4494-887d-e89a0497bdb2",
   "metadata": {},
   "source": [
    "We have more results than products, so let's go ahead and parse through the results so that we correctly extract the right information."
   ]
  },
  {
   "cell_type": "code",
   "execution_count": 15,
   "id": "8daf257b-8980-4aca-919c-9766833f2294",
   "metadata": {},
   "outputs": [
    {
     "data": {
      "text/plain": [
       "[[''],\n",
       " [''],\n",
       " [''],\n",
       " [''],\n",
       " [''],\n",
       " [''],\n",
       " [''],\n",
       " [''],\n",
       " [''],\n",
       " [''],\n",
       " [''],\n",
       " [''],\n",
       " [''],\n",
       " [''],\n",
       " [''],\n",
       " [''],\n",
       " [''],\n",
       " [''],\n",
       " [''],\n",
       " [''],\n",
       " [''],\n",
       " [''],\n",
       " [''],\n",
       " [''],\n",
       " [''],\n",
       " [''],\n",
       " [''],\n",
       " [''],\n",
       " [''],\n",
       " [''],\n",
       " [''],\n",
       " [''],\n",
       " [''],\n",
       " [''],\n",
       " [''],\n",
       " [''],\n",
       " [''],\n",
       " [''],\n",
       " [''],\n",
       " [''],\n",
       " [''],\n",
       " [''],\n",
       " [''],\n",
       " [''],\n",
       " [''],\n",
       " [''],\n",
       " [''],\n",
       " [''],\n",
       " [''],\n",
       " [''],\n",
       " [''],\n",
       " [''],\n",
       " [''],\n",
       " [''],\n",
       " [''],\n",
       " [''],\n",
       " [''],\n",
       " [''],\n",
       " [''],\n",
       " [''],\n",
       " [''],\n",
       " [''],\n",
       " [''],\n",
       " [''],\n",
       " ['']]"
      ]
     },
     "execution_count": 15,
     "metadata": {},
     "output_type": "execute_result"
    }
   ],
   "source": [
    "[result for result in results if len(result[0]) <= 0]"
   ]
  },
  {
   "cell_type": "markdown",
   "id": "c7af9875-8683-4c85-90bf-ded4183736a6",
   "metadata": {},
   "source": [
    "The above results are just empty strings, so we can filter them out"
   ]
  },
  {
   "cell_type": "code",
   "execution_count": 80,
   "id": "f691b77b-b616-4851-8e4f-a058a6949bac",
   "metadata": {},
   "outputs": [
    {
     "data": {
      "text/plain": [
       "296"
      ]
     },
     "execution_count": 80,
     "metadata": {},
     "output_type": "execute_result"
    }
   ],
   "source": [
    "cleaned_results = [result for result in results if len(result[0]) > 0]\n",
    "len(cleaned_results)"
   ]
  },
  {
   "cell_type": "markdown",
   "id": "42ff5d3a-1eef-4b02-9299-515de05e8b6b",
   "metadata": {},
   "source": [
    "We now only have one more result than we need."
   ]
  },
  {
   "cell_type": "code",
   "execution_count": 81,
   "id": "5fd486ca-3356-4127-8176-53e91e2246da",
   "metadata": {},
   "outputs": [
    {
     "data": {
      "text/plain": [
       "array([1, 5, 6, 7, 8])"
      ]
     },
     "execution_count": 81,
     "metadata": {},
     "output_type": "execute_result"
    }
   ],
   "source": [
    "np.unique([len(result) for result in cleaned_results])"
   ]
  },
  {
   "cell_type": "markdown",
   "id": "45c63211-7f17-4b92-9712-72fe6773f788",
   "metadata": {},
   "source": [
    "It looks like we have a variable number of queries in some of the results. Let's examine each of the results that don't have the desired number of queries (5)."
   ]
  },
  {
   "cell_type": "code",
   "execution_count": 82,
   "id": "90fcfcd1-316f-4dea-aadd-a98611d4023f",
   "metadata": {},
   "outputs": [
    {
     "data": {
      "text/plain": [
       "[21, 23, 128, 129, 246, 284]"
      ]
     },
     "execution_count": 82,
     "metadata": {},
     "output_type": "execute_result"
    }
   ],
   "source": [
    "# Indices of results that don't have 5 queries\n",
    "inspect_index = [i for i in range(len(cleaned_results)) if len(cleaned_results[i]) != 5]\n",
    "inspect_index"
   ]
  },
  {
   "cell_type": "code",
   "execution_count": 83,
   "id": "761dde27-eb7a-48a0-87b5-377820d5e2fd",
   "metadata": {
    "scrolled": true
   },
   "outputs": [
    {
     "data": {
      "text/plain": [
       "[['versatile cross sliding vise for drill press',\n",
       "  'durable cast iron construction vise',\n",
       "  'precise milling machine attachment',\n",
       "  'swivel crank handles for woodworking',\n",
       "  'high-quality jaws and screws vise',\n",
       "  'adjustable shims and crank handles'],\n",
       " ['voice-controlled smart light bulbs compatible with Alexa',\n",
       "  'Google Home',\n",
       "  'and Siri',\n",
       "  'remote control via Smart Life app',\n",
       "  'multi-color and dimmable brightness settings',\n",
       "  'timer and customized scenes features',\n",
       "  'energy-saving quality LED bulbs'],\n",
       " ['solar-powered globe string lights with auto on/off',\n",
       "  '8 different lighting modes for versatile use',\n",
       "  'IP65 waterproof for outdoor installation',\n",
       "  'memory function to save mode settings',\n",
       "  'perfect for patio',\n",
       "  'garden',\n",
       "  'Christmas',\n",
       "  'and weddings'],\n",
       " ['kitchen cabinet knobs with screws',\n",
       "  'durable stainless steel round pull knobs',\n",
       "  'classic design for various furniture',\n",
       "  'widely used for cabinets',\n",
       "  'drawers',\n",
       "  'closets',\n",
       "  'and more'],\n",
       " ['        '],\n",
       " ['keyless entry door knob',\n",
       "  'master code and user codes',\n",
       "  'easy installation',\n",
       "  'backlit keypad',\n",
       "  'weather-resistant',\n",
       "  'silent mode option']]"
      ]
     },
     "execution_count": 83,
     "metadata": {},
     "output_type": "execute_result"
    }
   ],
   "source": [
    "[cleaned_results[i] for i in inspect_index]"
   ]
  },
  {
   "cell_type": "markdown",
   "id": "5b035be1-4a7a-46d0-bf13-55a0937fa7e8",
   "metadata": {},
   "source": [
    "Due to the fact that we separated results by ',', this messed up the separation of some list items. Let's correct this for each of the above results."
   ]
  },
  {
   "cell_type": "code",
   "execution_count": 84,
   "id": "1f9df056-6eab-48ff-85c6-519a7416df52",
   "metadata": {},
   "outputs": [
    {
     "data": {
      "text/plain": [
       "['versatile cross sliding vise for drill press',\n",
       " 'durable cast iron construction vise',\n",
       " 'precise milling machine attachment',\n",
       " 'swivel crank handles for woodworking',\n",
       " 'high-quality jaws and screws vise',\n",
       " 'adjustable shims and crank handles']"
      ]
     },
     "execution_count": 84,
     "metadata": {},
     "output_type": "execute_result"
    }
   ],
   "source": [
    "cleaned_results[21]"
   ]
  },
  {
   "cell_type": "markdown",
   "id": "fb99cbc8-d38c-4566-b7cc-5b3b6310242b",
   "metadata": {},
   "source": [
    "It is hard to determine which query got split in the above results, so let's just remove the last result"
   ]
  },
  {
   "cell_type": "code",
   "execution_count": 85,
   "id": "71fdd21f-b846-4eec-b081-c46283afa52a",
   "metadata": {},
   "outputs": [],
   "source": [
    "cleaned_results[21] = cleaned_results[21][:5]"
   ]
  },
  {
   "cell_type": "code",
   "execution_count": 86,
   "id": "e1163fb1-b5e5-4db4-a005-60c53f9f0555",
   "metadata": {},
   "outputs": [
    {
     "data": {
      "text/plain": [
       "['voice-controlled smart light bulbs compatible with Alexa',\n",
       " 'Google Home',\n",
       " 'and Siri',\n",
       " 'remote control via Smart Life app',\n",
       " 'multi-color and dimmable brightness settings',\n",
       " 'timer and customized scenes features',\n",
       " 'energy-saving quality LED bulbs']"
      ]
     },
     "execution_count": 86,
     "metadata": {},
     "output_type": "execute_result"
    }
   ],
   "source": [
    "cleaned_results[23]"
   ]
  },
  {
   "cell_type": "markdown",
   "id": "5dd1ebe3-5e08-4574-9d3d-a27dded92017",
   "metadata": {},
   "source": [
    "In the above result, the list \"Alexa, Google Home, and Siri\" were accidentally split up. Let's recombine these into a single query."
   ]
  },
  {
   "cell_type": "code",
   "execution_count": 87,
   "id": "a6827bb8-dcfe-4eab-bd62-a0dae7e3a43b",
   "metadata": {},
   "outputs": [],
   "source": [
    "cleaned_results[23] = [', '.join(cleaned_results[23][:3])] + cleaned_results[23][3:]"
   ]
  },
  {
   "cell_type": "code",
   "execution_count": 88,
   "id": "9904b86b-eda1-44e4-a825-7f772fc61bff",
   "metadata": {},
   "outputs": [
    {
     "data": {
      "text/plain": [
       "['solar-powered globe string lights with auto on/off',\n",
       " '8 different lighting modes for versatile use',\n",
       " 'IP65 waterproof for outdoor installation',\n",
       " 'memory function to save mode settings',\n",
       " 'perfect for patio',\n",
       " 'garden',\n",
       " 'Christmas',\n",
       " 'and weddings']"
      ]
     },
     "execution_count": 88,
     "metadata": {},
     "output_type": "execute_result"
    }
   ],
   "source": [
    "cleaned_results[128]"
   ]
  },
  {
   "cell_type": "markdown",
   "id": "ff9c2449-ad4c-4304-a589-e25277b861a0",
   "metadata": {},
   "source": [
    "A similar issue occurred here in the last result. It is also not clear from the last description that these are supposed to be lights, so let's append that as well."
   ]
  },
  {
   "cell_type": "code",
   "execution_count": 89,
   "id": "0a2bcaae-2a78-4b98-adf7-191ade16b636",
   "metadata": {},
   "outputs": [],
   "source": [
    "cleaned_results[128] = cleaned_results[128][:4] + ['string lights ' + ', '.join(cleaned_results[128][4:])]"
   ]
  },
  {
   "cell_type": "code",
   "execution_count": 90,
   "id": "bbf551ab-3725-4a6b-ae39-d59a12fcb8b0",
   "metadata": {},
   "outputs": [],
   "source": [
    "# Looks like only 4 results were generated here, so we will add one of our own\n",
    "cleaned_results[129] = cleaned_results[129][:3] + ['knobs ' + ', '.join(cleaned_results[129][3:])] + ['handles to open kitchen cupboards']"
   ]
  },
  {
   "cell_type": "code",
   "execution_count": 93,
   "id": "8bb64c27-3087-4ff3-8a1a-fb7bef0affe2",
   "metadata": {},
   "outputs": [
    {
     "data": {
      "text/plain": [
       "['        ']"
      ]
     },
     "execution_count": 93,
     "metadata": {},
     "output_type": "execute_result"
    }
   ],
   "source": [
    "# Simply an empty value\n",
    "cleaned_results[246]"
   ]
  },
  {
   "cell_type": "code",
   "execution_count": 94,
   "id": "57f3a1e4-48cb-4743-bec1-cf470bdef89e",
   "metadata": {},
   "outputs": [],
   "source": [
    "del cleaned_results[246]"
   ]
  },
  {
   "cell_type": "code",
   "execution_count": 100,
   "id": "20871ae3-a2f1-4244-9512-c889fb6a1f1b",
   "metadata": {},
   "outputs": [],
   "source": [
    "# Decreased index seen above by 1 because we deleted an entry\n",
    "cleaned_results[283] = cleaned_results[283][:2] + [', '.join(cleaned_results[283][2:3])] + [cleaned_results[283][4] + 'door handle'] + ['door lock keypad with ' + cleaned_results[283][5]]"
   ]
  },
  {
   "cell_type": "code",
   "execution_count": 101,
   "id": "fec85681-9a5c-4b90-947f-bbd102443ed1",
   "metadata": {},
   "outputs": [
    {
     "name": "stdout",
     "output_type": "stream",
     "text": [
      "Number of results: 295\n",
      "Number of queries per result: [5]\n"
     ]
    }
   ],
   "source": [
    "print(f\"Number of results: {len(cleaned_results)}\")\n",
    "print(f\"Number of queries per result: {np.unique([len(result) for result in cleaned_results])}\")"
   ]
  },
  {
   "cell_type": "code",
   "execution_count": 106,
   "id": "54ac8b47-1b01-49c3-bae3-41d27ed10b4c",
   "metadata": {},
   "outputs": [],
   "source": [
    "# Add queries to original products\n",
    "product_samples.loc[:, ['query_1', 'query_2', 'query_3', 'query_4', 'query_5']] = cleaned_results"
   ]
  },
  {
   "cell_type": "code",
   "execution_count": 111,
   "id": "7ac00e4e-b103-4dd7-b5f5-cf74f77b6da1",
   "metadata": {},
   "outputs": [
    {
     "data": {
      "text/html": [
       "<div>\n",
       "<style scoped>\n",
       "    .dataframe tbody tr th:only-of-type {\n",
       "        vertical-align: middle;\n",
       "    }\n",
       "\n",
       "    .dataframe tbody tr th {\n",
       "        vertical-align: top;\n",
       "    }\n",
       "\n",
       "    .dataframe thead th {\n",
       "        text-align: right;\n",
       "    }\n",
       "</style>\n",
       "<table border=\"1\" class=\"dataframe\">\n",
       "  <thead>\n",
       "    <tr style=\"text-align: right;\">\n",
       "      <th></th>\n",
       "      <th>id</th>\n",
       "      <th>title</th>\n",
       "      <th>description</th>\n",
       "      <th>label</th>\n",
       "      <th>query_1</th>\n",
       "      <th>query_2</th>\n",
       "      <th>query_3</th>\n",
       "      <th>query_4</th>\n",
       "      <th>query_5</th>\n",
       "    </tr>\n",
       "  </thead>\n",
       "  <tbody>\n",
       "    <tr>\n",
       "      <th>0</th>\n",
       "      <td>B0BFJL5LD1</td>\n",
       "      <td>VGYVGYCC Outdoor Solar Garden Lights - 2 Pack ...</td>\n",
       "      <td>2022 Newest Version2 pack solar tulip lights a...</td>\n",
       "      <td>12</td>\n",
       "      <td>Large decorative solar lights</td>\n",
       "      <td>Easy to install garden lights</td>\n",
       "      <td>Waterproof outdoor tulip lights</td>\n",
       "      <td>Gift idea for garden decor</td>\n",
       "      <td>High-quality solar tulip lights</td>\n",
       "    </tr>\n",
       "    <tr>\n",
       "      <th>1</th>\n",
       "      <td>B0002H49E4</td>\n",
       "      <td>LEATHERMAN - Standard Nylon Sheath with Pocket...</td>\n",
       "      <td>Product Description This nylon belt sheath is ...</td>\n",
       "      <td>55</td>\n",
       "      <td>Sturdy nylon belt sheath</td>\n",
       "      <td>Sheath for Leatherman Wave</td>\n",
       "      <td>Multitool sheath with pockets</td>\n",
       "      <td>Durable vertical carry sheath</td>\n",
       "      <td>Leatherman Wave belt sheath</td>\n",
       "    </tr>\n",
       "    <tr>\n",
       "      <th>2</th>\n",
       "      <td>B084GYHQFY</td>\n",
       "      <td>Makita MAC210Q Quiet Series, 1 HP, 2 Gallon, O...</td>\n",
       "      <td>Compressors are workhorse tools on the job sit...</td>\n",
       "      <td>31</td>\n",
       "      <td>Makita quiet air compressor</td>\n",
       "      <td>Portable electric air compressor</td>\n",
       "      <td>Lightweight 2-gallon compressor</td>\n",
       "      <td>Oil-free electric compressor</td>\n",
       "      <td>Low-noise air compressor</td>\n",
       "    </tr>\n",
       "    <tr>\n",
       "      <th>3</th>\n",
       "      <td>B09ZP7M7R1</td>\n",
       "      <td>Greenclick Landscape Lighting, 3W 12V Extendab...</td>\n",
       "      <td>Safe Low Voltage Landscape LightsLow voltage l...</td>\n",
       "      <td>35</td>\n",
       "      <td>Safe low voltage landscape lights</td>\n",
       "      <td>Extendable garden spotlights</td>\n",
       "      <td>Bright outdoor Christmas lights</td>\n",
       "      <td>Waterproof garden spotlights</td>\n",
       "      <td>Landscape lighting set with transformer</td>\n",
       "    </tr>\n",
       "    <tr>\n",
       "      <th>4</th>\n",
       "      <td>B0BRGRNK2H</td>\n",
       "      <td>20 oz Big Gap Filler Insulating Foam Sealant (...</td>\n",
       "      <td>Product Description GREAT STUFF Big Gap Filler...</td>\n",
       "      <td>8</td>\n",
       "      <td>Big gap filler foam sealant</td>\n",
       "      <td>Insulating foam for large gaps</td>\n",
       "      <td>Airtight sealant for drafts</td>\n",
       "      <td>Paintable foam insulation</td>\n",
       "      <td>Weather-tight foam sealant</td>\n",
       "    </tr>\n",
       "  </tbody>\n",
       "</table>\n",
       "</div>"
      ],
      "text/plain": [
       "           id                                              title  \\\n",
       "0  B0BFJL5LD1  VGYVGYCC Outdoor Solar Garden Lights - 2 Pack ...   \n",
       "1  B0002H49E4  LEATHERMAN - Standard Nylon Sheath with Pocket...   \n",
       "2  B084GYHQFY  Makita MAC210Q Quiet Series, 1 HP, 2 Gallon, O...   \n",
       "3  B09ZP7M7R1  Greenclick Landscape Lighting, 3W 12V Extendab...   \n",
       "4  B0BRGRNK2H  20 oz Big Gap Filler Insulating Foam Sealant (...   \n",
       "\n",
       "                                         description  label  \\\n",
       "0  2022 Newest Version2 pack solar tulip lights a...     12   \n",
       "1  Product Description This nylon belt sheath is ...     55   \n",
       "2  Compressors are workhorse tools on the job sit...     31   \n",
       "3  Safe Low Voltage Landscape LightsLow voltage l...     35   \n",
       "4  Product Description GREAT STUFF Big Gap Filler...      8   \n",
       "\n",
       "                             query_1                           query_2  \\\n",
       "0      Large decorative solar lights     Easy to install garden lights   \n",
       "1           Sturdy nylon belt sheath        Sheath for Leatherman Wave   \n",
       "2        Makita quiet air compressor  Portable electric air compressor   \n",
       "3  Safe low voltage landscape lights      Extendable garden spotlights   \n",
       "4        Big gap filler foam sealant    Insulating foam for large gaps   \n",
       "\n",
       "                           query_3                        query_4  \\\n",
       "0  Waterproof outdoor tulip lights     Gift idea for garden decor   \n",
       "1    Multitool sheath with pockets  Durable vertical carry sheath   \n",
       "2  Lightweight 2-gallon compressor   Oil-free electric compressor   \n",
       "3  Bright outdoor Christmas lights   Waterproof garden spotlights   \n",
       "4      Airtight sealant for drafts      Paintable foam insulation   \n",
       "\n",
       "                                   query_5  \n",
       "0          High-quality solar tulip lights  \n",
       "1              Leatherman Wave belt sheath  \n",
       "2                 Low-noise air compressor  \n",
       "3  Landscape lighting set with transformer  \n",
       "4               Weather-tight foam sealant  "
      ]
     },
     "execution_count": 111,
     "metadata": {},
     "output_type": "execute_result"
    }
   ],
   "source": [
    "product_samples.head()"
   ]
  },
  {
   "cell_type": "code",
   "execution_count": 113,
   "id": "d0bcfbe3-31b8-46ee-b048-ec564b71e605",
   "metadata": {},
   "outputs": [],
   "source": [
    "product_samples.to_csv('data/home_products_with_sample_queries', index=False)"
   ]
  }
 ],
 "metadata": {
  "kernelspec": {
   "display_name": "Python 3 (ipykernel)",
   "language": "python",
   "name": "python3"
  },
  "language_info": {
   "codemirror_mode": {
    "name": "ipython",
    "version": 3
   },
   "file_extension": ".py",
   "mimetype": "text/x-python",
   "name": "python",
   "nbconvert_exporter": "python",
   "pygments_lexer": "ipython3",
   "version": "3.10.14"
  }
 },
 "nbformat": 4,
 "nbformat_minor": 5
}
