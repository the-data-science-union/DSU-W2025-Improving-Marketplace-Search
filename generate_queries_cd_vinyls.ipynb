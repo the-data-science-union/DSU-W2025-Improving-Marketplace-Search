{
 "cells": [
  {
   "cell_type": "code",
   "execution_count": 1,
   "id": "aa9b79e3-3af5-42d6-94d3-1f70e6568747",
   "metadata": {},
   "outputs": [],
   "source": [
    "import os\n",
    "import re\n",
    "import time\n",
    "from dotenv import load_dotenv\n",
    "import numpy as np\n",
    "import pandas as pd\n",
    "from openai import OpenAI"
   ]
  },
  {
   "cell_type": "code",
   "execution_count": 2,
   "id": "ceae2ba0-f62c-4f0c-89de-f1fad65cec45",
   "metadata": {},
   "outputs": [],
   "source": [
    "products_df = pd.read_csv(\"labeled_cds_vinyl_products.csv\")"
   ]
  },
  {
   "cell_type": "code",
   "execution_count": 3,
   "id": "8be12286-777c-41a0-b8ac-a050c3eace27",
   "metadata": {},
   "outputs": [
    {
     "data": {
      "text/html": [
       "<div>\n",
       "<style scoped>\n",
       "    .dataframe tbody tr th:only-of-type {\n",
       "        vertical-align: middle;\n",
       "    }\n",
       "\n",
       "    .dataframe tbody tr th {\n",
       "        vertical-align: top;\n",
       "    }\n",
       "\n",
       "    .dataframe thead th {\n",
       "        text-align: right;\n",
       "    }\n",
       "</style>\n",
       "<table border=\"1\" class=\"dataframe\">\n",
       "  <thead>\n",
       "    <tr style=\"text-align: right;\">\n",
       "      <th></th>\n",
       "      <th>id</th>\n",
       "      <th>title</th>\n",
       "      <th>description</th>\n",
       "      <th>label</th>\n",
       "    </tr>\n",
       "  </thead>\n",
       "  <tbody>\n",
       "    <tr>\n",
       "      <th>0</th>\n",
       "      <td>B073LP9GRN</td>\n",
       "      <td>Urban Hymns</td>\n",
       "      <td>urban hymns is the 3rd studio album by english...</td>\n",
       "      <td>60</td>\n",
       "    </tr>\n",
       "    <tr>\n",
       "      <th>1</th>\n",
       "      <td>B097CFN5W4</td>\n",
       "      <td>Metallica Remastered</td>\n",
       "      <td>the black albumis one of the most commercially...</td>\n",
       "      <td>6</td>\n",
       "    </tr>\n",
       "    <tr>\n",
       "      <th>2</th>\n",
       "      <td>B00YB9BL7W</td>\n",
       "      <td>In Through the out Door</td>\n",
       "      <td>on its release in the summer of 1979 in throug...</td>\n",
       "      <td>58</td>\n",
       "    </tr>\n",
       "    <tr>\n",
       "      <th>3</th>\n",
       "      <td>B008L1PYQU</td>\n",
       "      <td>Destroyer: Resurrected</td>\n",
       "      <td>resurrected newly remixed from the original ma...</td>\n",
       "      <td>36</td>\n",
       "    </tr>\n",
       "    <tr>\n",
       "      <th>4</th>\n",
       "      <td>B000007WOP</td>\n",
       "      <td>Urban Hymns</td>\n",
       "      <td>urban hymns is the third studio album by engli...</td>\n",
       "      <td>50</td>\n",
       "    </tr>\n",
       "  </tbody>\n",
       "</table>\n",
       "</div>"
      ],
      "text/plain": [
       "           id                    title  \\\n",
       "0  B073LP9GRN              Urban Hymns   \n",
       "1  B097CFN5W4     Metallica Remastered   \n",
       "2  B00YB9BL7W  In Through the out Door   \n",
       "3  B008L1PYQU   Destroyer: Resurrected   \n",
       "4  B000007WOP              Urban Hymns   \n",
       "\n",
       "                                         description  label  \n",
       "0  urban hymns is the 3rd studio album by english...     60  \n",
       "1  the black albumis one of the most commercially...      6  \n",
       "2  on its release in the summer of 1979 in throug...     58  \n",
       "3  resurrected newly remixed from the original ma...     36  \n",
       "4  urban hymns is the third studio album by engli...     50  "
      ]
     },
     "execution_count": 3,
     "metadata": {},
     "output_type": "execute_result"
    }
   ],
   "source": [
    "products_df.head()"
   ]
  },
  {
   "cell_type": "code",
   "execution_count": 4,
   "id": "c9d85f00",
   "metadata": {},
   "outputs": [
    {
     "data": {
      "text/plain": [
       "label\n",
       "68    14\n",
       "43    11\n",
       "13     7\n",
       "4      4\n",
       "7      1\n",
       "Name: count, dtype: int64"
      ]
     },
     "execution_count": 4,
     "metadata": {},
     "output_type": "execute_result"
    }
   ],
   "source": [
    "label_counts = products_df['label'].value_counts()\n",
    "label_counts.tail()"
   ]
  },
  {
   "cell_type": "code",
   "execution_count": 5,
   "id": "ce5007c0",
   "metadata": {},
   "outputs": [
    {
     "name": "stdout",
     "output_type": "stream",
     "text": [
      "label\n",
      "35    15\n",
      "68    14\n",
      "43    11\n",
      "13     7\n",
      "4      4\n",
      "Name: count, dtype: int64\n"
     ]
    }
   ],
   "source": [
    "small_clusters = label_counts[label_counts < 3].index\n",
    "filtered_products_df = products_df[~products_df['label'].isin(small_clusters)]\n",
    "print(filtered_products_df['label'].value_counts().tail())  # last few labels after filtering, checks that label 7 is gone"
   ]
  },
  {
   "cell_type": "code",
   "execution_count": 6,
   "id": "1ef392e8-a353-4d6a-ab20-c2bc605760a7",
   "metadata": {},
   "outputs": [
    {
     "data": {
      "text/html": [
       "<div>\n",
       "<style scoped>\n",
       "    .dataframe tbody tr th:only-of-type {\n",
       "        vertical-align: middle;\n",
       "    }\n",
       "\n",
       "    .dataframe tbody tr th {\n",
       "        vertical-align: top;\n",
       "    }\n",
       "\n",
       "    .dataframe thead th {\n",
       "        text-align: right;\n",
       "    }\n",
       "</style>\n",
       "<table border=\"1\" class=\"dataframe\">\n",
       "  <thead>\n",
       "    <tr style=\"text-align: right;\">\n",
       "      <th></th>\n",
       "      <th>id</th>\n",
       "      <th>title</th>\n",
       "      <th>description</th>\n",
       "      <th>label</th>\n",
       "    </tr>\n",
       "  </thead>\n",
       "  <tbody>\n",
       "    <tr>\n",
       "      <th>0</th>\n",
       "      <td>B00382X4X2</td>\n",
       "      <td>Mob Rules</td>\n",
       "      <td>digitally remastered and expanded deluxe two c...</td>\n",
       "      <td>0</td>\n",
       "    </tr>\n",
       "    <tr>\n",
       "      <th>1</th>\n",
       "      <td>B006OAB6EY</td>\n",
       "      <td>Innuendo</td>\n",
       "      <td>digitally remastered deluxe two cd edition of ...</td>\n",
       "      <td>0</td>\n",
       "    </tr>\n",
       "    <tr>\n",
       "      <th>2</th>\n",
       "      <td>B004ZNA5JO</td>\n",
       "      <td>A Momentary Lapse Of Reason</td>\n",
       "      <td>from 1987 a momentary lapse of reason is the f...</td>\n",
       "      <td>0</td>\n",
       "    </tr>\n",
       "    <tr>\n",
       "      <th>3</th>\n",
       "      <td>B0039TD7PY</td>\n",
       "      <td>Live At The Troubadour</td>\n",
       "      <td>note the product is a cd and a dvd and will ha...</td>\n",
       "      <td>0</td>\n",
       "    </tr>\n",
       "    <tr>\n",
       "      <th>4</th>\n",
       "      <td>B000X640OS</td>\n",
       "      <td>Legend: The Best Of Bob Marley And The Wailers...</td>\n",
       "      <td>audio cassette legend the best of bob marley a...</td>\n",
       "      <td>1</td>\n",
       "    </tr>\n",
       "    <tr>\n",
       "      <th>5</th>\n",
       "      <td>B09BNM5DC8</td>\n",
       "      <td>Love For Sale</td>\n",
       "      <td>celebrating 10 years since they first recorded...</td>\n",
       "      <td>1</td>\n",
       "    </tr>\n",
       "    <tr>\n",
       "      <th>6</th>\n",
       "      <td>B00006O0PT</td>\n",
       "      <td>Surrealistic Pillow</td>\n",
       "      <td>feed your head with the rare mono edition of t...</td>\n",
       "      <td>1</td>\n",
       "    </tr>\n",
       "    <tr>\n",
       "      <th>7</th>\n",
       "      <td>B00ZW048DI</td>\n",
       "      <td>Nathaniel Rateliff &amp; The Night Sweats</td>\n",
       "      <td>nathaniel rateliff  the night sweats practical...</td>\n",
       "      <td>1</td>\n",
       "    </tr>\n",
       "    <tr>\n",
       "      <th>8</th>\n",
       "      <td>B08P87XTFG</td>\n",
       "      <td>25</td>\n",
       "      <td>the third studio album from worldwide phenomen...</td>\n",
       "      <td>2</td>\n",
       "    </tr>\n",
       "    <tr>\n",
       "      <th>9</th>\n",
       "      <td>B08T43FGYJ</td>\n",
       "      <td>Chief Blue</td>\n",
       "      <td>eric churchs platinum certified album which wa...</td>\n",
       "      <td>2</td>\n",
       "    </tr>\n",
       "    <tr>\n",
       "      <th>10</th>\n",
       "      <td>B08P8QKG92</td>\n",
       "      <td>25</td>\n",
       "      <td>the third studio album from worldwide phenomen...</td>\n",
       "      <td>2</td>\n",
       "    </tr>\n",
       "    <tr>\n",
       "      <th>11</th>\n",
       "      <td>B07MHRHPZY</td>\n",
       "      <td>Chief Red</td>\n",
       "      <td>this is eric churchs platinum certified album ...</td>\n",
       "      <td>2</td>\n",
       "    </tr>\n",
       "  </tbody>\n",
       "</table>\n",
       "</div>"
      ],
      "text/plain": [
       "            id                                              title  \\\n",
       "0   B00382X4X2                                          Mob Rules   \n",
       "1   B006OAB6EY                                           Innuendo   \n",
       "2   B004ZNA5JO                        A Momentary Lapse Of Reason   \n",
       "3   B0039TD7PY                             Live At The Troubadour   \n",
       "4   B000X640OS  Legend: The Best Of Bob Marley And The Wailers...   \n",
       "5   B09BNM5DC8                                      Love For Sale   \n",
       "6   B00006O0PT                                Surrealistic Pillow   \n",
       "7   B00ZW048DI              Nathaniel Rateliff & The Night Sweats   \n",
       "8   B08P87XTFG                                                 25   \n",
       "9   B08T43FGYJ                                         Chief Blue   \n",
       "10  B08P8QKG92                                                 25   \n",
       "11  B07MHRHPZY                                          Chief Red   \n",
       "\n",
       "                                          description  label  \n",
       "0   digitally remastered and expanded deluxe two c...      0  \n",
       "1   digitally remastered deluxe two cd edition of ...      0  \n",
       "2   from 1987 a momentary lapse of reason is the f...      0  \n",
       "3   note the product is a cd and a dvd and will ha...      0  \n",
       "4   audio cassette legend the best of bob marley a...      1  \n",
       "5   celebrating 10 years since they first recorded...      1  \n",
       "6   feed your head with the rare mono edition of t...      1  \n",
       "7   nathaniel rateliff  the night sweats practical...      1  \n",
       "8   the third studio album from worldwide phenomen...      2  \n",
       "9   eric churchs platinum certified album which wa...      2  \n",
       "10  the third studio album from worldwide phenomen...      2  \n",
       "11  this is eric churchs platinum certified album ...      2  "
      ]
     },
     "execution_count": 6,
     "metadata": {},
     "output_type": "execute_result"
    }
   ],
   "source": [
    "# We will sample 4 products per group and create sample queries for each of them (around 300 products is the goal)\n",
    "product_samples = filtered_products_df.groupby('label').sample(n=4, random_state=160).reset_index(drop=True)\n",
    "product_samples.head(n=12)"
   ]
  },
  {
   "cell_type": "code",
   "execution_count": 7,
   "id": "b09b6cb3-d3bb-4e99-aa7e-d6aa0bc33593",
   "metadata": {},
   "outputs": [
    {
     "data": {
      "text/html": [
       "<div>\n",
       "<style scoped>\n",
       "    .dataframe tbody tr th:only-of-type {\n",
       "        vertical-align: middle;\n",
       "    }\n",
       "\n",
       "    .dataframe tbody tr th {\n",
       "        vertical-align: top;\n",
       "    }\n",
       "\n",
       "    .dataframe thead th {\n",
       "        text-align: right;\n",
       "    }\n",
       "</style>\n",
       "<table border=\"1\" class=\"dataframe\">\n",
       "  <thead>\n",
       "    <tr style=\"text-align: right;\">\n",
       "      <th></th>\n",
       "      <th>id</th>\n",
       "      <th>title</th>\n",
       "      <th>description</th>\n",
       "      <th>label</th>\n",
       "    </tr>\n",
       "  </thead>\n",
       "  <tbody>\n",
       "    <tr>\n",
       "      <th>0</th>\n",
       "      <td>B00BV9RZSO</td>\n",
       "      <td>Elephant</td>\n",
       "      <td>doulbe 180gm vinyl lp pressing of this 2003 al...</td>\n",
       "      <td>67</td>\n",
       "    </tr>\n",
       "    <tr>\n",
       "      <th>1</th>\n",
       "      <td>B0009ELZAG</td>\n",
       "      <td>The Beach Boys: Pet Sounds</td>\n",
       "      <td>the tracks are 1 wouldnt it be nice 2 you stil...</td>\n",
       "      <td>45</td>\n",
       "    </tr>\n",
       "    <tr>\n",
       "      <th>2</th>\n",
       "      <td>B00M889IDM</td>\n",
       "      <td>Eric Clapton &amp; Friends: The Breeze</td>\n",
       "      <td>eric clapton has often stated that jj cale is ...</td>\n",
       "      <td>54</td>\n",
       "    </tr>\n",
       "    <tr>\n",
       "      <th>3</th>\n",
       "      <td>B00NQKWA6S</td>\n",
       "      <td>The Endless River</td>\n",
       "      <td>2014 release the 15th and final studio album f...</td>\n",
       "      <td>3</td>\n",
       "    </tr>\n",
       "    <tr>\n",
       "      <th>4</th>\n",
       "      <td>B08HGPZ1Q5</td>\n",
       "      <td>American Beauty</td>\n",
       "      <td>the crown jewel of the deads studio output fea...</td>\n",
       "      <td>63</td>\n",
       "    </tr>\n",
       "  </tbody>\n",
       "</table>\n",
       "</div>"
      ],
      "text/plain": [
       "           id                               title  \\\n",
       "0  B00BV9RZSO                            Elephant   \n",
       "1  B0009ELZAG          The Beach Boys: Pet Sounds   \n",
       "2  B00M889IDM  Eric Clapton & Friends: The Breeze   \n",
       "3  B00NQKWA6S                   The Endless River   \n",
       "4  B08HGPZ1Q5                     American Beauty   \n",
       "\n",
       "                                         description  label  \n",
       "0  doulbe 180gm vinyl lp pressing of this 2003 al...     67  \n",
       "1  the tracks are 1 wouldnt it be nice 2 you stil...     45  \n",
       "2  eric clapton has often stated that jj cale is ...     54  \n",
       "3  2014 release the 15th and final studio album f...      3  \n",
       "4  the crown jewel of the deads studio output fea...     63  "
      ]
     },
     "execution_count": 7,
     "metadata": {},
     "output_type": "execute_result"
    }
   ],
   "source": [
    "# Shuffle the products so that different groups are passed together\n",
    "product_samples = product_samples.sample(frac=1).reset_index(drop=True)\n",
    "product_samples.head()"
   ]
  },
  {
   "cell_type": "code",
   "execution_count": 8,
   "id": "617cb89a-7762-4b3c-a660-e34588011528",
   "metadata": {},
   "outputs": [],
   "source": [
    "load_dotenv()\n",
    "openai_api_key = os.environ['OPENAI_API_KEY']"
   ]
  },
  {
   "cell_type": "code",
   "execution_count": 9,
   "id": "7ec368c6",
   "metadata": {},
   "outputs": [
    {
     "name": "stdout",
     "output_type": "stream",
     "text": [
      "Title: ASTROWORLD       Explicit Lyrics\n",
      "Description: double vinyl lp pressing including digital download astroworld is the third studio album by rapper travis scott it was released on august 3 2018 by cactus jack records epic records and grand hustle records the album follows his second studio album birds in the trap sing mcknight 2016 and his collaborative album huncho jack jack huncho 2017 with quavo the album features guest vocals from kid cudi frank ocean drake the weeknd james blake swae lee gunna nav 21 savage quavo takeoff juice wrld sheck wes and don toliver among others production was handled by multiple producers including mike dean allen ritter hitboy wondagurl tay keith tame impala frank dukes sonny digital and thundercat\n",
      "Title: After Hours       Explicit Lyrics\n",
      "Description: the weeknds latest chapter via xorepublic records after hours features global hits like heartless and blinding lights filtering rb pop and hiphop through an ambitious widescreen lens quietly took over popular music and culture on his own terms as a result the multiplatinum twotime grammyr award winner has emerged as one of the most successful and significant artists of the 21st century double lp set housed in gatefold jacket packaging\n",
      "Title: Christmas with Elvis and the Royal Philharmonic Orchestra\n",
      "Description: limited ocard packaging 2017 holiday release christmas with elvis and the royal philharmonic orchestra once again pairs the king of rock and roll with englands most beloved orchestra for a new symphonic take on elvis timeless christmas favorites with arrangements recorded at abbey road studios in london includes blue christmas here comes santa claus right down santa claus lane merry christmas baby silent night and more this deluxe edition also includes newlyorchestrated version of the four gospel hymns from elvis peace in the valley ep including therell be peace in the valley for me and take my hand precious lord\n"
     ]
    }
   ],
   "source": [
    "# List of target IDs\n",
    "target_ids = [\"B07FZ99HXL\", \"B084XTMZVS\", \"B075JKQT4N\"]\n",
    "\n",
    "# Filter DataFrame to only include rows with matching IDs and select the 'description' column\n",
    "descriptions = products_df.loc[products_df['id'].isin(target_ids), ['id', 'title', 'description']]\n",
    "\n",
    "# Print the full descriptions\n",
    "for index, row in descriptions.iterrows():\n",
    "    print(f\"Title: {row['title']}\")\n",
    "    print(f\"Description: {row['description']}\")"
   ]
  },
  {
   "cell_type": "code",
   "execution_count": 10,
   "id": "acdcc98f-ba50-46f4-a33e-434671935c3e",
   "metadata": {},
   "outputs": [],
   "source": [
    "class QueryGenerator:\n",
    "    def __init__(self, api_key):\n",
    "        \"\"\"Initialize the generator with API key and standard prompts\"\"\"\n",
    "        self.client = OpenAI(api_key=api_key)\n",
    "        \n",
    "        # Store the system and example prompts\n",
    "        self.system_prompt = \"\"\"You are an expert in e-commerce search optimization. Given a product description, generate a list of 5 realistic search queries a customer might use to find the product, even if the customer does not know the exact name of the product they are looking for.\n",
    "\n",
    "        Guidelines:\n",
    "        - Keep queries short (2-10 words)\n",
    "        - Avoid exact repetition of product specs; focus on what a customer would type\n",
    "        - Include a mix of general, descriptive, and feature-focused queries\n",
    "        - Consider different use cases for each product (e.g. baking soda can be used for cooking, cleaning, and removing bad odors).\n",
    "        - Use casual, natural language\n",
    "        - Return ONLY the list of 5 queries enclosed in [] and separated by ',' with no additional text\"\"\"\n",
    "\n",
    "        self.example_prompt = \"\"\"Here are some examples:\n",
    "\n",
    "        Product Description: \"double vinyl lp pressing including digital download astroworld is the third studio album by rapper travis scott it was released on august 3 2018 by cactus jack records epic records and grand hustle records the album follows his second studio album birds in the trap sing mcknight 2016 and his collaborative album huncho jack jack huncho 2017 with quavo the album features guest vocals from kid cudi frank ocean drake the weeknd james blake swae lee gunna nav 21 savage quavo takeoff juice wrld sheck wes and don toliver among others production was handled by multiple producers including mike dean allen ritter hitboy wondagurl tay keith tame impala frank dukes sonny digital and thundercat\"\n",
    "       \n",
    "        Queries:\n",
    "        [\"travis scott vinyl album\", \"astroworld double lp\", \"hip hop records with drake\", \"popular rap albums on vinyl\", \"travis scott 2018 album\"]\n",
    "\n",
    "        Product Description: \"the weeknds latest chapter via xorepublic records after hours features global hits like heartless and blinding lights filtering rb pop and hiphop through an ambitious widescreen lens quietly took over popular music and culture on his own terms as a result the multiplatinum twotime grammyr award winner has emerged as one of the most successful and significant artists of the 21st century double lp set housed in gatefold jacket packaging\"\n",
    "        \n",
    "        Queries:\n",
    "        [\"the weeknd after hours vinyl\", \"blinding lights album record\", \"rb vinyl albums 2020\", \"double lp the weeknd\", \"popular weeknd albums on vinyl\"]\n",
    "\n",
    "        Product Description: \"limited ocard packaging 2017 holiday release christmas with elvis and the royal philharmonic orchestra once again pairs the king of rock and roll with englands most beloved orchestra for a new symphonic take on elvis timeless christmas favorites with arrangements recorded at abbey road studios in london includes blue christmas here comes santa claus right down santa claus lane merry christmas baby silent night and more this deluxe edition also includes newlyorchestrated version of the four gospel hymns from elvis peace in the valley ep including therell be peace in the valley for me and take my hand precious lord\"\n",
    "\n",
    "        Queries:\n",
    "        [\"elvis christmas album vinyl\", \"holiday records with orchestra\", \"classic christmas music lp\", \"elvis presley festive vinyl\", \"remastered christmas records\"]\n",
    "        \"\"\"\n",
    "\n",
    "    def generate_single(self, product_description):\n",
    "        \"\"\"Generate queries for a single product description\"\"\"\n",
    "        try:\n",
    "            response = self.client.chat.completions.create(\n",
    "                model=\"gpt-3.5-turbo\",\n",
    "                messages=[\n",
    "                    {\"role\": \"system\", \"content\": self.system_prompt},\n",
    "                    {\"role\": \"user\", \"content\": self.example_prompt},\n",
    "                    {\"role\": \"user\", \"content\": f\"Now generate queries for this product description: {product_description}\"}\n",
    "                ],\n",
    "                temperature=0.7,\n",
    "                max_tokens=50\n",
    "            )\n",
    "            \n",
    "            res = response.choices[0].message.content\n",
    "            return res.replace('[', '').replace(']', '').split(', ')\n",
    "            \n",
    "        except Exception as e:\n",
    "            print(f\"Error generating queries: {e}\")\n",
    "            return []\n",
    "\n",
    "    def generate_batch(self, product_descriptions, batch_size: int = 5):\n",
    "        \"\"\"\n",
    "        Generate queries for multiple products efficiently.\n",
    "        Uses batching and includes rate limiting.\n",
    "        \"\"\"\n",
    "        batch_results = []\n",
    "        \n",
    "        # Process in batches\n",
    "        for i in range(0, len(product_descriptions), batch_size):\n",
    "            batch = product_descriptions[i:i + batch_size]\n",
    "            \n",
    "            # Create a single prompt for the batch\n",
    "            batch_prompt = \"Generate queries for each of these products. For each product, start with 'Product X:' where X is the product number:\\n\\n\"\n",
    "            for idx, desc in enumerate(batch, 1):\n",
    "                batch_prompt += f\"Product {idx}: {desc}\\n\\n\"\n",
    "            \n",
    "            try:\n",
    "                response = self.client.chat.completions.create(\n",
    "                    model=\"gpt-3.5-turbo\",\n",
    "                    messages=[\n",
    "                        {\"role\": \"system\", \"content\": self.system_prompt},\n",
    "                        {\"role\": \"user\", \"content\": self.example_prompt},\n",
    "                        {\"role\": \"user\", \"content\": batch_prompt}\n",
    "                    ],\n",
    "                    temperature=0.7,\n",
    "                    max_tokens=50 * len(batch)  # Adjust tokens based on batch size\n",
    "                )\n",
    "                \n",
    "                # Parse the batch response\n",
    "                response_text = response.choices[0].message.content\n",
    "                response_list = re.sub(\"Product \\d: \", \"\", response_text).replace('[', '').replace(']', '').split('\\n')\n",
    "                batch_results.extend([text.split(', ') for text in response_list])\n",
    "                                \n",
    "                # Rate limiting - wait 1 second between batches\n",
    "                if i + batch_size < len(product_descriptions):\n",
    "                    time.sleep(5)\n",
    "                    \n",
    "            except Exception as e:\n",
    "                print(f\"Error processing batch starting at index {i}: {e}\")\n",
    "                continue\n",
    "        \n",
    "        return batch_results"
   ]
  },
  {
   "cell_type": "code",
   "execution_count": 11,
   "id": "d721981d-fe58-4fbf-aeca-759ec5f7495f",
   "metadata": {},
   "outputs": [],
   "source": [
    "generator = QueryGenerator(openai_api_key)"
   ]
  },
  {
   "cell_type": "code",
   "execution_count": 12,
   "id": "18a45845-fe3e-4c3f-ae73-0648bde1a808",
   "metadata": {},
   "outputs": [
    {
     "data": {
      "text/plain": [
       "(276,)"
      ]
     },
     "execution_count": 12,
     "metadata": {},
     "output_type": "execute_result"
    }
   ],
   "source": [
    "# Number of products for which we are generating queries\n",
    "product_samples['description'].shape"
   ]
  },
  {
   "cell_type": "code",
   "execution_count": 13,
   "id": "468c509e",
   "metadata": {},
   "outputs": [],
   "source": [
    "single_result = generator.generate_single(product_samples.loc[0, 'description'])"
   ]
  },
  {
   "cell_type": "code",
   "execution_count": 14,
   "id": "f26aff98",
   "metadata": {},
   "outputs": [
    {
     "data": {
      "text/plain": [
       "['\"white stripes vinyl lp\"',\n",
       " '\"garage rock revival albums\"',\n",
       " '\"2003 rock music records\"',\n",
       " '\"jack white band on vinyl\"',\n",
       " '\"low-fi garage rock music\"']"
      ]
     },
     "execution_count": 14,
     "metadata": {},
     "output_type": "execute_result"
    }
   ],
   "source": [
    "single_result # analyze the results"
   ]
  },
  {
   "cell_type": "code",
   "execution_count": 15,
   "id": "d02d5bb8-9bd3-490e-afdd-fc30c19244fa",
   "metadata": {},
   "outputs": [],
   "source": [
    "# create example queries for all descriptions\n",
    "results = generator.generate_batch(product_samples['description'])"
   ]
  },
  {
   "cell_type": "code",
   "execution_count": 16,
   "id": "527427e4-896e-4078-aa13-b743efedede5",
   "metadata": {},
   "outputs": [
    {
     "name": "stdout",
     "output_type": "stream",
     "text": [
      "414\n",
      "[[' \"white stripes vinyl LP 2003\"', '\"garage rock revival music\"', '\"analog recording equipment bands\"', '\"Detroit indie music albums\"', '\"raw simplicity music composition\" '], [''], [' \"Pet Sounds bonus tracks vinyl\"', '\"Beach Boys album 1966\"', '\"Brian Wilson music compositions\"', '\"California pop music LP\"', '\"melodic pop rock records\" '], [''], [' \"Eric Clapton tribute album JJ Cale\"', '\"rock history appreciation music\"', '\"famous musicians collaborations LP\"', '\"JJ Cale covers by artists\"', '\"1972 single call me the breeze\" '], [''], [' \"David Gilmour final studio album\"', '\"British rock band unreleased tracks\"', '\"Pink Floyd leftovers project\"', '\"veteran rock musicians LP\"', '\"coproduced by Phil Manzanera\" '], [''], [' \"Grateful Dead crown jewel LP\"', '\"50th-anniversary remastered vinyl\"', '\"psychedelic rock classics\"', '\"180-gram vinyl reissue\"', '\"tracklist box of rain\" '], ['\"Willie Nelson 2020 album\"', '\"celebratory country album 2020\"', '\"new songs by Willie Nelson\"', '\"Willie Nelson Grammy winner\"', '\"Nashville band new album\"'], ['\"Grateful Dead American Beauty album\"', '\"1970 folk rock music\"', '\"Robert Hunter lyrics album\"', '\"Grateful Dead country rock music\"', '\"classic Grateful Dead record\"'], ['\"Adele 25 album CD\"', '\"Adele Grammy winning album\"', '\"Adele worldwide bestseller\"', '\"Adele emotional songs\"', '\"Adele chart-topping hits\"'], ['\"Hozier 2014 debut album\"', '\"Irish musician studio tracks\"', '\"Hozier bonus disc edition\"', '\"Hozier live and studio tracks\"', '\"critically acclaimed Hozier album\"'], ['\"Lana Del Rey Ultraviolence deluxe\"', '\"Lana Del Rey bonus tracks album\"', '\"Lana Del Rey platinum debut\"', '\"dark and exquisite Lana Del Rey\"', '\"Lana Del Rey 2014 album\"'], ['\"florence and the machine ceremonials vinyl\"', '\"what the water gave me vinyl single\"', '\"abbey road studios florence welch\"', '\"sophomore album by florence welch\"', '\"shake it out vinyl record\"'], [''], ['\"walker hayes country stuff album\"', '\"fancy like country song vinyl\"', '\"walker hayes monument records hits\"', '\"grammy nominated country artist\"', '\"gold certified country album\"'], [''], ['\"jeff mangum aeroplane vinyl\"', '\"best album of the 90s vinyl\"', '\"180 gm vinyl aeroplane album\"', '\"powerful solo acoustic vinyl\"', '\"hornsection marches vinyl\"'], [''], ['\"black sabbath debut album vinyl\"', '\"english rock band 1970 album\"', '\"heavy metal pioneer album\"', '\"black sabbath tracklist vinyl\"', '\"classic heavy metal vinyl\"'], [''], ['\"pink floyd momentary lapse of reason remastered\"', '\"new discovery version pink floyd album\"', '\"pink floyd 3 piece lineup album\"', '\"pink floyd digitally remastered albums\"', '\"pink floyd studio albums collection\"'], ['\"beach boys greatest hits CD\"', '\"classic beach boys tracks album\"', '\"best beach boys songs collection\"', '\"american summer music album\"', '\"sounds of summer beach boys\"'], ['\"gregory porter blue note album\"', '\"jazz singer gregory porter music\"', '\"gregory porter take me to the alley\"', '\"gregory porter vinyl import\"', '\"gregory porter jazz tour\"'], ['\"acdc black ice album\"', '\"acdc new studio album\"', '\"rock n roll train acdc\"', '\"acdc limited edition album\"', '\"acdc black ice tracklist\"'], ['\"supertramp hits anthology album\"', '\"supertramp classic albums collection\"', '\"supertramp crime of the century songs\"', '\"supertramp prog rock hits\"', '\"supertramp best of album\"'], ['\"acdc live at river plate album\"', '\"acdc live recording buenos aires\"', '\"acdc live album 2009\"', '\"acdc river plate concert tracks\"', '\"acdc first live album in 20 years\"'], ['\"Amy Winehouse Back to Black bonus tracks\"', '\"Back to Black deluxe edition CD\"', '\"Mark Ronson Valerie bonus disc\"', '\"Rehab You Know I\\'m No Good album\"', '\"Amy Winehouse hits collection\"'], ['\"Rod Stewart greatest hits CD\"', '\"Rock legend Rod Stewart songs\"', '\"Rod the Mod classic tracks\"', '\"Rod Stewart string of hit singles\"', '\"Rod Stewart exclusive rare package\"'], ['\"Muse CD DVD special edition\"', '\"Muse progressive rock electronica\"', '\"Muse live performances DVD\"', '\"Muse making of the album\"', '\"Best live rock bands Muse\"'], ['\"Alan Jackson Let It Be Christmas album\"', '\"Country Christmas classics Alan Jackson\"', '\"Alan Jackson holiday music CD\"', '\"Platinum-certified Christmas album\"', '\"Bestselling holiday music artists\"'], ['\"Greta Van Fleet debut mini-album\"', '\"Highway Tune Greta Van Fleet single\"', '\"From the Fires EP tracks\"', '\"Greta Van Fleet rock band brothers\"', '\"Sold out US tour Greta Van Fleet\"'], [''], ['\"rolling stones beggars banquet vinyl\"', '\"best rock albums of all time\"', '\"acoustic country blues rock album\"', '\"stones album sympathy for the devil\"', '\"greatest albums by the stones\"'], [''], [''], ['\"kanye west 808s heartbreak album\"', '\"love lockdown kanye west\"', '\"kanye west new musical journey\"', '\"heartless kanye west single\"', '\"highly anticipated kanye west album\"'], [''], [''], ['\"van halen 1984 album\"', '\"80s hard rock with synthesizers\"', '\"pop metal van halen\"', '\"1984 van halen jump song\"', '\"classic 80s rock album\"'], [''], [''], ['\"steely dan aja album CD\"', '\"revamped steely dan albums\"', '\"classic dan albums on CD\"', '\"revered steely dan aja\"', '\"original aja album notes\"'], [''], [''], ['\"brothers osborne skeletons album\"', '\"country duo brothers osborne\"', '\"new brothers osborne album\"', '\"brothers osborne all night song\"', '\"award-winning country duo\"'], ['\"british rock band 1982 album vinyl\"', '\"brothers in arms mark knopfler lp\"', '\"global superstar rock band vinyl\"', '\"1982 british rock album\"', '\"mark knopfler brothers in arms\"'], ['\"moody blues hits collection cd\"', '\"moodys rock n roll classics\"', '\"moody blues 30-year hits\"', '\"justin hayward best songs\"', '\"rock music compilation 60s-80s\"'], ['\"elvis deluxe edition vinyl\"', '\"elvis orchestral accompaniment cd\"', '\"royal philharmonic orchestra elvis\"', '\"elvis presley 2016 release\"', '\"elvis rock gospel country classics\"'], ['\"urban hymns the verve album\"', '\"english alternative rock 1997 lp\"', '\"the verve bestselling album\"', '\"uk chart history 90s rock\"', '\"alternative rock band 1997\"'], ['\"john mayer room for squares cd\"', '\"singersongwriter debut album\"', '\"john mayer lite rock music\"', '\"city love john mayer song\"', '\"singer songwriter pep talks\"'], [' \"einaudi islands music collection\"', '\"best known einaudi tracks\"', '\"einaudi album remixes\"', '\"einaudi folio new tracks\"', '\"einaudi lady labyrinth remix\" '], [''], [' \"2pac all eyez on me CD bundle\"', '\"tupac shakur endless music\"', '\"2pac double disc album\"', '\"2pac goodtimes dance tunes\"', '\"tupac shakur music release\" '], [''], [' \"rammstein deutschland new music\"', '\"new rammstein studio album\"', '\"rammstein 2019 music\"', '\"rammstein olsen involtini production\"', '\"christoph schneider rammstein album\" '], [''], [' \"eric clapton live album vinyl\"', '\"clapton grammy award album\"', '\"1992 clapton live recording\"', '\"eric clapton diamond certified album\"', '\"tears in heaven grammy awards\" '], [''], [' \"frank zappa hot rats album\"', '\"frank zappa 180 gram edition\"', '\"fusion music pioneer zappa\"', '\"hot rats studio musicians\"', '\"captain beefheart zappa collaboration\" '], ['\"led zeppelin vinyl reissues\"', '\"rock band led zeppelin deluxe edition\"', '\"jimmy page remastered albums\"', '\"houses of the holy unreleased tracks\"', '\"led zeppelin tribute concert 2007\"'], [''], ['\"james and the giant peach special edition\"', '\"roald dahl 40th anniversary film\"', '\"tim burton stop-motion animation\"', '\"randy newman good news music video\"', '\"richard dreyfuss susan sarandon film voices\"'], [''], ['\"mamma mia abba musical film\"', '\"meryl streep all-star cast\"', '\"greek island wedding movie\"', '\"abba songs in mamma mia\"', '\"mamma mia film photos\"'], [''], ['\"kings of leon vinyl album 2021\"', '\"american rock band 180gm vinyl\"', '\"followill brothers studio album\"', '\"kings of leon major festivals\"', '\"rock album gatefold jacket\"'], [''], ['\"avril lavigne debut album 2002\"', '\"canadian pop diva hits\"', '\"skate punk music avril lavigne\"', '\"alanis morissette musical style\"', '\"avril lavigne powerful'], [' \"judas priest painkiller vinyl\"', '\"rob halford last album\"', '\"heavy metal band judas priest\"', '\"scott travis drummer\"', '\"british metal album 1990\" '], [''], [' \"depeche mode vinyl albums 180g\"', '\"music for the masses lp\"', '\"songs of faith and devotion record\"', '\"violator depeche mode vinyl\"', '\"depeche mode gatefold sleeves\" '], [''], [' \"guns n roses use your illusion vinyl\"', '\"best rock albums guns n roses\"', '\"guns n roses civil war album\"', '\"estranged guns n roses record\"', '\"guns n roses vinyl collection\" '], [''], [' \"george ezra debut album vinyl\"', '\"george ezra wanted on voyage\"', '\"singersongwriter george ezra vinyl\"', '\"british artist george ezra\"', '\"george ezra 2014 album\" '], [''], [' \"eagles greatest hits vinyl replica\"', '\"eagles career spanning collection\"', '\"eagles 1971-1975 hits cd\"', '\"eagles rock n roll compilation\"', '\"eagles 911 tribute song\" '], ['\"black keys delta kream album\"', '\"mississippi blues vinyl record\"', '\"blues standards on vinyl\"', '\"dan auerbach patrick carney album\"', '\"delta kream easy eye sound\"'], [''], ['\"plant krauss raise the roof album\"', '\"raising sand sequel record\"', '\"t bone burnett production album\"', '\"new recordings of classic songs\"', '\"lucinda williams raise the roof\"'], [''], ['\"abel tesfaye kiss land album\"', '\"post-fame music abel tesfaye\"', '\"the weeknd kiss land tracks\"', '\"emotional trauma in music\"', '\"the weeknd kiss land lyrics\"'], [''], ['\"louis tomlinson walls solo album\"', '\"brit pop inspired record\"', '\"honest personal music louis\"', '\"debut solo album louis tomlinson\"', '\"louis tomlinson two of us song\"'], [''], ['\"led zeppelin celebration day concert\"', '\"london tribute concert 2007\"', '\"legendary led zeppelin performance\"', '\"led zeppelin live dvd bluray\"', '\"stairway to heaven live performance\"'], ['\"Tool 10000 Days album\"', '\"Tool new studio album\"', '\"Tool hard music community\"', '\"Tool Maynard James Keenan\"', '\"Tool 2001 Lateralus follow-up\"'], [''], ['\"Alter Bridge Walk the Sky album\"', '\"Alter Bridge hard rock metal\"', '\"Alter Bridge global fan base\"', '\"Alter Bridge career retrospective\"', '\"Alter Bridge worldwide tour 2019\"'], [''], ['\"Neil Diamond Classic Diamonds album\"', '\"Neil Diamond London Symphony Orchestra\"', '\"Neil Diamond award-winning hits\"', '\"Neil Diamond Abbey Road Studios\"', '\"Neil Diamond iconic songwriter\"'], [''], ['\"Rodriguez Searching for Sugar Man albums\"', '\"Rodriguez Sussex Records remastered vinyl\"', '\"Rodriguez enigmatic subject documentary\"', '\"Rodriguez 180g vinyl reissue\"', '\"Rodriguez Alex Abrash remastering\"'], [''], ['\"Dangerous exclusive blue vinyl album\"', '\"Dangerous double album limited edition\"', '\"Dangerous country music tracks\"', '\"Dangerous Chris Stapleton feature\"', '\"Dangerous vinyl LP antiskate features\"'], [' \"greta van fleet new album\"', '\"anthem of the peaceful army vinyl\"', '\"modern rock band 2019 album\"', '\"greta van fleet when the curtain falls\"', '\"rock band tour dates canada\" '], [''], [' \"steve perry traces album\"', '\"rock hall of fame singer new music\"', '\"journey lead singer solo album\"', '\"steve perry emotional homecoming song\"', '\"steve perry traces vinyl record\" '], [''], [' \"limited edition christmas vinyl\"', '\"clear splatter colored vinyl lp\"', '\"christmas classics on vinyl\"', '\"holiday songs clear red green vinyl\"', '\"high quality christmas record player\" '], [''], [' \"alan parsons abbey road vinyl\"', '\"analog master tapes remastered vinyl\"', '\"sonic clarity alan parsons record\"', '\"children of the moon song vinyl\"', '\"abbey road studios vinyl master\" '], [''], [' \"alice in chains 1990s reissue\"', '\"heavy metal grunge band vinyl\"', '\"mtv unplugged 1996 performance\"', '\"alice in chains acoustic album\"', '\"alice in chains live concert vinyl\" '], ['\"Wu-Tang Clan debut album CD\"', '\"Enter the Wu-Tang 36 Chambers street\"', '\"Hip hop revolution 1993\"', '\"RZA Wu-Tang Clan music\"', '\"Rap group with martial arts theme\"'], ['\"Ghost fifth album Psalm Impera\"', '\"Rock band Papa Emeritus IV\"', '\"Isolation demigod worship songs\"', '\"Infectious rock band\"', '\"Celebrated rock band gatefold jacket\"'], ['\"Kem Love Always Wins album CD\"', '\"Grammy-nominated R&B singer Kem\"', '\"Legendary artist Toni Braxton feature\"', '\"Timeless R&B music\"', '\"Motown Records release\"'], ['\"Celine Dion new English album\"', '\"Loved Me Back to Life CD\"', '\"Grammy-winning Celine Dion\"', '\"Exceptional producers and songwriters\"', '\"Neyo and Stevie Wonder duets\"'], ['\"Lewis Capaldi debut album CD\"', '\"Divinely Uninspired to a Hellish Extent\"', '\"Top 10 UK single Someone You Loved\"', '\"Deep textured voice artist\"', '\"Vevo DSCVR artist\"'], ['\"disney bambi animated movie\"', '\"bambi walt disney classic\"', '\"deer movie with thumper flower\"', '\"bambi life lessons film\"', '\"digitally remastered bambi DVD\"'], [''], ['\"enya dark sky island album\"', '\"enya blockbuster songs\"', '\"enya from ireland music\"', '\"enya record sales worldwide\"', '\"new enya album release 2015\"'], [''], ['\"lauren daigle how can it be\"', '\"grammy nominated christian artist\"', '\"centricity debut deluxe edition\"', '\"lauren daigle fan favorite songs\"', '\"winter jam tour artist\"'], [''], ['\"japanese rock phenomenon box set\"', '\"limited edition concert box set\"', '\"yokohama arena live album\"', '\"japanese rock band merchandise\"', '\"new songs live cd set\"'], [''], ['\"phil spector remastered album\"', '\"christmas compilation phil spector\"', '\"timeless christmas record\"', '\"darlene love ronettes christmas\"', '\"greatest christmas compilation\"    '], ['Product 1:'], ['\"shinedown vinyl record 2018\"', '\"attention attention shinedown album\"', '\"raw emotional rock album\"', '\"shinedown latest release\"', '\"rock band shinedown\"'], [''], ['Product 2:'], ['\"transsiberian orchestra christmas eve\"', '\"holiday rock opera orchestra\"', '\"christmas music with rock edge\"', '\"transsiberian orchestra debut album\"', '\"orchestral christmas rock\"'], [''], ['Product 3:'], ['\"madonna rebel heart album\"', '\"madonna 13th studio album\"', '\"madonna rebel heart collaborations\"', '\"rebel heart madonna release date\"', '\"madonna new album 2022\"'], [''], ['Product 4:'], ['\"saturday night fever soundtrack vinyl\"', '\"bee gees disco hits\"', '\"disco classics movie soundtrack\"', '\"saturday night fever vinyl record\"', '\"70s disco music album\"'], [''], ['Product 5:'], ['\"country deluxe edition album\"', '\"luke combs expanded album\"', '\"top chart country songs\"', '\"what you see is what you get\"', '\"country singer bonus tracks\"'], ['\"transsiberian orchestra christmas trilogy\"', '\"debut christmas lp 1996\"', '\"holiday music vinyl album\"', '\"christmas eve and other stories vinyl\"', '\"transsiberian orchestra debut album\"'], ['\"audioslave debut album 2002\"', '\"chris cornell soundgarden debut\"', '\"rock supergroup audioslave\"', '\"audioslave thundering rock album\"', '\"audioslave chris cornell debut\"'], ['\"brian wilson pet sounds cd\"', '\"beach boys teenage symphony\"', '\"remastered pet sounds album\"', '\"brian wilson 1990 reissue album\"', '\"beach boys god only knows remastered\"'], ['\"nina simone i put a spell on you album\"', '\"screamin jay hawkins cover song\"', '\"thrilling love songs nina simone\"', '\"nina simone autobiography title song\"', '\"best of nina simone 1965\"'], ['\"supertramp crime of the century vinyl\"', '\"limited edition grey vinyl lp\"', '\"supertramp 1974 album remastered\"', '\"supertr'], ['\"pnk 2012 album deluxe edition\"', '\"pink love songs album\"', '\"pop diva pink greg kurstin\"', '\"pnk blow me one last kiss\"', '\"pnk love and happiness album\"'], [''], ['\"1959 jazz collection vinyl\"', '\"timeless jazz album 1959\"', '\"jazz music with time signatures\"', '\"classic jazz take five album\"', '\"vinyl music on vinyl collection\"'], [''], ['\"beatles for sale cd\"', '\"beatles christmas market album\"', '\"beatles illconceived covers\"', '\"john lennon selfloathing lyrics\"', '\"babys in black beatles song\"'], [''], ['\"remastered beatles studio albums\"', '\"beatles remastered abbey road\"', '\"authentic beatles analogue recordings\"', '\"beatles studio albums london\"', '\"beatles historical recording notes\"'], [''], ['\"1981 hard rock deluxe edition\"', '\"ronnie james dio black sabbath\"', '\"hard rock legends remastered album\"', '\"sabbath live performance 1981\"', '\"expanded metal legends cd\"'], ['\"Tatsuro Yamashita vinyl album\"', '\"Japanese pop music collection\"', '\"Sugar Babe era remastered songs\"', '\"Tatsuro Yamashita TV drama soundtrack\"', '\"Moonwarner years music compilation\"'], [''], ['\"Nirvana In Utero deluxe edition\"', '\"Grunge rock 1990s band box set\"', '\"Rare Nirvana recordings DVD\"', '\"Kurt Cobain final album\"', '\"Nirvana live and loud CD\"'], [''], ['\"Red Hot Chili Peppers new album\"', '\"Anthony Kiedis latest music\"', '\"Funk rock stadium arcadium\"', '\"RHCP most-anticipated record\"', '\"RHCP energizing spring album\"'], [''], ['\"Collabro special edition album\"', '\"Britain\\'s Got Talent winners music\"', '\"Musical theater songs reimagined\"', '\"Collabro US bonus tracks\"', '\"Voice reworkings of popular songs\"'], [''], ['\"Stevie Ray Vaughan vinyl albums\"', '\"Texas blues guitar legend\"', '\"Original Epic Records analog masters\"', '\"Classic guitar hero LPs\"', '\"Sundazed high-definition vinyl\"'], [' \"selena gomez sg2 album\"', '\"french platinum singer 2020\"', '\"sg2 deluxe edition tracks\"', '\"personal album by selena\"', '\"good for you singer new album\"'], [''], [' \"acdc bon scott highway to hell\"', '\"rock classics back in black\"', '\"metal anthems bon scott vocals\"', '\"acdc lead singer bon scott\"', '\"highway to hell vs back in black\"'], [''], [' \"travis scott epic production\"', '\"goosebumps kendrick lamar\"', '\"travis scott andre 3000 collaboration\"', '\"travis scott the weeknd wonderful\"', '\"travis scott epic album tracks\"'], [''], [' \"ronan keating twenty twenty album\"', '\"ronan keating selftitled debut\"', '\"ronan keating new music release\"', '\"ronan keating greatest hits album\"', '\"ronan keating friends collaboration\"'], [''], [' \"the eagles farewell tour dvd\"', '\"eagles 2004 concert dvd\"', '\"eagles live performances dvd\"', '\"farewell 1 tour eagles\"', '\"eagles concert in melbourne\"'], ['\"Carole King James Taylor concert DVD\"', '\"Troubadour Club live performance\"', '\"Singer-songwriters collaboration CD\"', '\"Historic concert event duo\"', '\"Live recording Troubadour Club\"'], [''], ['\"Pink Floyd Atom Heart Mother vinyl\"', '\"Progressive rock quadraphonic sound\"', '\"Pink Floyd orchestral album\"', '\"Album with Ron Geesin collaboration\"', '\"Pink Floyd 1970s vinyl\"'], [''], ['\"Cage the Elephant Melophobia album\"', '\"Fear of music LP\"', '\"Jay Joyce production band album\"', '\"Alternative rock top charts\"', '\"Cage the Elephant studio album\"'], [''], ['\"Muse live rock band vinyl\"', '\"Progressive rock fusion album\"', '\"Musical envelope pushing band\"', '\"Emotive rock sound LP\"', '\"Muse 2 LP set\"'], [''], ['\"Kiss 1976 album vinyl\"', '\"Decades of decibels LP\"', '\"Kiss audiophile vinyl reissue\"', '\"High fidelity 180g LP\"', '\"Kiss album remastered\"'], [' \"Ed Sheeran Symbol album\"', '\"Ed Sheeran new release 2022\"', '\"Ed Sheeran album with Bad Habits\"', '\"Ed Sheeran visiting hours track\"', '\"Ed Sheeran fatherhood song\"'], [''], ['\"Bob Dylan Blonde on Blonde album\"', '\"Bob Dylan Nashville recording sessions\"', '\"Bob Dylan double album 1966\"', '\"Bob Dylan top twenty hits\"', '\"Bob Dylan greatest compositions\"'], [''], ['\"Santana Abraxas vinyl LP\"', '\"Santana Black Magic Woman album\"', '\"Latin rock band Santana\"', '\"Santana Oye Como Va song\"', '\"Santana 1970 album\"'], [''], ['\"Tony Bennett Lady Gaga Cole Porter\"', '\"Tony Bennett 95 years old\"', '\"Tony Bennett American Songbook\"', '\"Tony Bennett Brian Newman Quintet\"', '\"Tony Bennett Marion Evans collaboration\"'], [''], ['\"Tool Undertow album\"', '\"Tool edgy guitar riffs\"', '\"Tool vitriolic lyrics\"', '\"Tool Henry Rollins guest appearance\"', '\"Tool musically adventurous album\"'], ['\"ozzy osbourne madman vinyl album\"', '\"randy rhodes guitar ozzy osbourne\"', '\"metalhead must-listen albums\"', '\"ozzy osbourne remastered diary\"', '\"flying high again ozzy osbourne\"'], [''], ['\"black sabbath sabotage 180gram vinyl\"', '\"black sabbath 1975 rock album\"', '\"band legal stress sabotage\"', '\"sabbath sixth studio record\"', '\"black sabbath vinyl album UK\"'], [''], ['\"anita baker rapture vinyl LP\"', '\"anita baker sweet love song\"', '\"1986 elektra rapture album\"', '\"anita baker custom inner sleeve\"', '\"anita baker recording data tracks\"'], [''], ['\"david bowie greatest hits vinyl\"', '\"bowie lets dance single version\"', '\"under pressure life on mars\"', '\"starman ziggy stardust jean genie\"', '\"bowie sound and vision tracklist\"'], [''], ['\"oasis whats the story vinyl LP\"', '\"oasis wonderwall dont look back\"', '\"oasis morning glory champagne supernova\"', '\"oasis rare bonus tracks\"', '\"oasis 90s hit songs\"'], ['\"acdc vinyl reissue 2003\"', '\"classic acdc album bon scott\"', '\"hard rock vinyl masterpiece\"', '\"highway to hell vinyl lp\"', '\"mutt lange acdc vinyl\"'], ['\"the hu gereg red vinyl\"', '\"mongolian rock band hu\"', '\"the hu deluxe double lp\"', '\"viral rock hits vinyl\"', '\"hunnu rock band\"'], ['\"bb king eric clapton vinyl\"', '\"riding with the king album\"', '\"blues legends album\"', '\"slowhand king of blues\"', '\"classic blues songs vinyl\"'], ['\"elvis if i can dream vinyl\"', '\"elvis presley 2015 album\"', '\"elvis royal philharmonic orchestra\"', '\"elvis deluxe double lp\"', '\"elvis duet michael buble\"'], ['\"don henley cass county vinyl\"', '\"don henley super deluxe album\"', '\"cass county deluxe vinyl book\"', '\"country music album don henley\"', '\"nashville recorded music album\"'], ['\"notorious big greatest hits vinyl\"', '\"biggie smalls hip hop compilation\"', '\"legendary rap tracks compilation\"', '\"hip hop classics notorious big\"', '\"unreleased biggie smalls songs\"'], ['\"muse drones vinyl album\"', '\"uk arena rockers 2015 album\"', '\"muse psychopathic drones theme\"', '\"matt bellamy dead inside single\"', '\"muse 7th studio album\"'], ['\"david bowie ziggy stardust vinyl\"', '\"rock n roll suicide mfsl lp\"', '\"bowie starman soul love\"', '\"ziggy stardust tracklist\"', '\"1981 mastered lp loose bag\"'], ['\"celtic woman irish music album\"', '\"irelands celtic melodies ensemble\"', '\"celtic woman debut release\"', '\"traditional irish songs celtic\"', '\"celtic woman vocalists and musicians\"'], ['\"nathaniel rateliff night sweats vinyl\"', '\"soulful self-titled album\"', '\"deep primal soul nathaniel rateliff\"', '\"stax records inspired album\"', '\"nathaniel rateliff soulful music\"'], ['\"Tom Petty vinyl debut album\"', '\"80s rock vinyl records\"', '\"Heartbreakers band members album\"', '\"Classic rock hits vinyl\"', '\"1989 Billboard top album vinyl\"'], ['\"George Harrison 50th anniversary CD\"', '\"All Things Must Pass deluxe edition\"', '\"George Harrison demo tracks\"', '\"New remix of classic album\"', '\"Special edition music box set\"'], ['\"Beatles Revolver remixed LP\"', '\"Limited edition picture disc album\"', '\"Revolver special edition vinyl\"', '\"Giles Martin Beatles remix\"', '\"Revolver 4-track master tapes\"'], ['\"Keith Urban 8th studio album\"', '\"Country music Grammy winner\"', '\"Keith Urban latest hits album\"', '\"American Idol judge music\"', '\"Keith Urban benefit concert album\"'], ['\"Avril Lavigne tracklist\"', '\"Avril Lavigne songwriter credits\"', '\"Avril Lavigne album song list\"', '\"Avril Lavigne collaboration tracks\"', '\"Avril Lavigne music album\"'], ['\"Leon Bridges debut album vinyl\"', '\"soul music 60s style LP\"', '\"coming home original track LP\"', '\"vintage soul music record\"', '\"Austin Jenkins producer LP\"'], [''], ['\"Taylor Swift midnights cassette\"', '\"dream-inspired music collection\"', '\"taylor swift 10th album cassette\"', '\"moonstone blue cassette\"', '\"sleepless nights music album\"'], [''], ['\"Led Zeppelin tribute concert DVD\"', '\"celebration day concert film\"', '\"led zeppelin live performance bluray\"', '\"rock n roll legend concert\"', '\"led zeppelin 2007 concert film\"'], [''], ['\"Deftones ohms studio album\"', '\"otherworldly body of work LP\"', '\"defining alternative rock LP\"', '\"deftones sound raw escapism\"', '\"terry date producer LP\"'], [''], ['\"Lord Huron strange trails album\"', '\"weird fiction anthology LP\"', '\"lonesome dreams follow-up record\"', '\"folk music tales collection\"', '\"Ben Schneider new music album\"'], ['\"andrea bocelli believe album\"', '\"new ennio morricone track album\"', '\"duets with alison krauss cecilia bartoli\"', '\"classical music soothing soul\"', '\"power of music andrea bocelli\"'], ['\"mac miller self care vinyl\"', '\"rapper mac miller double lp\"', '\"weird soul hip hop album\"', '\"mac miller music for magazines\"', '\"psychedelic soul band rapper album\"'], ['\"cassette tape aftermath records explicit\"', '\"2005 rap cassette explicit lyrics\"', '\"sealed rap cassette 17 tracks\"', '\"aftermath records artist 2005 cassette\"', '\"explicit lyrics rap cassette 2005\"'], ['\"the who vinyl reissue 1971\"', '\"back to black vinyl baba oriley\"', '\"1971 vinyl reissue bonus tracks\"', '\"the who classic rock vinyl\"', '\"behind blue eyes vinyl tracklist\"'], ['\"the weeknd kiss land album\"', '\"sophomore album the weeknd\"', '\"platinum-selling trilogy follow-up\"', '\"futuristic love songs the weeknd\"', '\"shimmering keys synth album\"'], [' \"taylor swift folklore deluxe vinyl\"', '\"hideandseek edition 2lp album\"', '\"taylor swift limited vinyl release\"', '\"folklore bonus song lakes vinyl\"', '\"collectible taylor swift vinyl\" '], [''], [' \"back in black dvd cd album\"', '\"ac dc enhanced stereo film\"', '\"ac dc hells bells dvd\"', '\"rock n roll documentary dvd\"', '\"ac dc discography dvd cd\" '], [''], [' \"classic music collectors edition\"', '\"brooks dunn greatest hits cd\"', '\"collectors edition music book\"', '\"music hits enlarged book\"', '\"music collection coffee table book\" '], [''], [' \"noble film irish heroine\"', '\"vietnam war heroine movie\"', '\"irish film festival winner\"', '\"true story vietnam escape\"', '\"inspiring irish heroine movie\" '], [''], [' \"michael buble higher album\"', '\"buble new music collection\"', '\"romantic ballads by buble\"', '\"michael buble lp cd\"', '\"buble love songs collection\" '], ['\"Leon Bridges vinyl album\"', '\"soul music artist 2018 album\"', '\"second album by Leon Bridges\"', '\"soul artist collaborations 2018\"', '\"Leon Bridges good thing LP\"'], [''], ['\"Chris Stapleton new record\"', '\"From a Room Volume 1 album\"', '\"All American Road Show tour\"', '\"country vinyl album of 2016\"', '\"top country songs 2016 vinyl\"'], [''], ['\"Phantom of the Opera Korea CD\"', '\"20 track musical CD\"', '\"bonus track edition CD\"', '\"Korean edition musical CD\"', '\"Andrew Lloyd Webber Korea edition CD\"'], [''], ['\"Michael Jackson album credits\"', '\"album with Quincy Jones\"', '\"Steve Lukather guitar tracks\"', '\"Michael Jackson and Janet Jackson album\"', '\"Quincy Jones producer credits\"'], [''], ['\"Adele 25 album CD\"', '\"Adele Grammy award album\"', '\"best selling albums of the century\"', '\"Adele 2015 album tracks\"', '\"Adele worldwide phenomenon album\"'], ['\"silk sonic debut album\"', '\"bruno mars anderson paak collaboration\"', '\"silk sonic leave the door open\"', '\"silk sonic music duo\"', '\"silk sonic grammy-winning song\"'], ['\"the cure greatest hits vinyl\"', '\"best cure singles collection\"', '\"the cure new songs 2021\"', '\"the cure iconic tracks\"', '\"the cure music compilation\"'], ['\"portishead dummy vinyl album\"', '\"geoff barrow beth gibbons collaboration\"', '\"portishead sour times track\"', '\"portishead gloomy music\"', '\"portishead dark soul music\"'], ['\"niall horan second studio album\"', '\"niall horan new record 2021\"', '\"former one direction member music\"', '\"niall horan hit singles\"', '\"horan flicker album follow-up\"'], ['\"eric church chief vinyl album\"', '\"eric church platinum album 2011\"', '\"eric church drink in my hand\"', '\"eric church grammy-nominated album\"', '\"country music on blue vinyl\"'], ['\"Icelandic vinyl LP\"', '\"Of Monsters and Men debut album\"', '\"Folk music duo 2012\"', '\"Nanna Bryndis Hilmarsdottir band\"', '\"Indie folk record from Iceland\"'], ['\"Enya greatest hits vinyl\"', '\"Enya music compilation\"', '\"Celtic new age albums\"', '\"Enya Grammy award songs\"', '\"Earthspanning music collection\"'], ['\"ACDC 1981 vinyl reissue\"', '\"For Those About to Rock album\"', '\"Mutt Lange music producer ACDC\"', '\"Hard rock vinyl LP\"', '\"ACDC remastered vinyl\"'], ['\"Lana Del Rey mini album vinyl\"', '\"Born to Die follow-up record\"', '\"Gangsta Nancy Sinatra music\"', '\"Lana Del Rey musical influences\"', '\"New York singer-songwriter 2012\"'], ['\"Childish Gambino Kauai EP\"', '\"Donald Glover modern R&B\"', '\"Funky soul music album\"', '\"Childish Gambino musical style\"', '\"Inventive rapper mixtape\"'], ['\"Bruce Springsteen Born to Run vinyl\"', '\"New Jersey rock album 1975\"', '\"Legend rock album thunder road\"', '\"Classic rock LP 1975\"', '\"Bruce Springsteen massive success album\"'], ['\"Queen A Day at the Races vinyl\"', '\"Queen self-produced album 1976\"', '\"Queen tie your mother down single\"', '\"1976 UK number 1 album\"', '\"Queen multiplatinum reissue vinyl\"'], ['\"Deftones Around the Fur vinyl\"', '\"California quartet aggressive album\"', '\"Deftones extreme sound LP\"', '\"Deftones sinewy guitars album\"', '\"Deftones aggressive rock LP\"'], ['\"Coen brothers Hillbilly Blues soundtrack vinyl\"', '\"Film soundtrack You Are My Sunshine\"', '\"Hillbilly Blues music LP\"', '\"Coen brothers film music\"', '\"Lonesome Valley soundtrack LP\"'], ['\"Black Sabbath Paranoid vinyl\"', '\"English metal album 1970\"', '\"Black Sabbath signature songs LP\"', '\"Influential heavy metal album\"', '\"Black Sabbath top 20 hit\"'], ['\"beatles let it be deluxe edition\"', '\"giles martin stereo mix album\"', '\"phil spector unreleased sessions\"', '\"original let it be recordings\"', '\"beatles get back stereo mix\"'], [''], ['\"ariana grande thank u next vinyl\"', '\"pop superstar ariana grande album\"', '\"ariana grande grammy nominations\"', '\"ariana grande hit singles\"', '\"no tears left to cry vinyl\"'], [''], ['\"gregory porter liquid spirit deluxe\"', '\"blue note records jazz singer\"', '\"gregory porter grammy nominations\"', '\"soulful jazz music porter\"', '\"contemporary male jazz singer\"'], [''], ['\"chris stapleton traveller vinyl\"', '\"nashville studio album traveller\"', '\"dave cobb production country music\"', '\"rcastudioa historic recordings\"', '\"sturgill simpson musician producer\"'], [''], ['\"taylor swift red reimagined album\"', '\"heartbroken persona taylor swift\"', '\"taylor swift unreleased songs vault\"', '\"emotionally charged taylor swift\"', '\"taylor swift studio experimentation\"'], [' \"Joshua Homme new album\"', '\"intense rock ballads\"', '\"rock album with guest appearances\"', '\"Queens of the Stone Age guitarist songs\"', '\"personal songs by Joshua Homme\" '], [''], [' \"Red Hot Chili Peppers multiplatinum album\"', '\"Rick Rubin-produced record\"', '\"funky punk rock music\"', '\"explicit lyrics anthony kiedis\"', '\"celebrated 1991 album RHCP\" '], [''], [' \"The Cure disintegration remastered\"', '\"atmospheric 80s music\"', '\"Robert Smith introspective album\"', '\"UK single disc edition\"', '\"remastered goth rock album\" '], [''], [' \"Bob Marley best of cassette\"', '\"legendary reggae tracks\"', '\"iconic Bob Marley songs\"', '\"classic Wailers hits\"', '\"reggae cassette collection\" '], [''], [' \"Metallica Death Magnetic limited edition\"', '\"Metallica coffin box set\"', '\"Metallica 2008 album collector\\'s edition\"', '\"Rick Rubin-produced metal album\"', '\"Metallica special edition box set\" '], ['\"Japanese 2LP gatefold record\"', '\"scarce 1976 Japanese vinyl\"', '\"rare 28-track LP with poster\"', '\"collectible Japanese vinyl record\"', '\"vintage Japanese 2LP album\"'], ['\"Morgan Wallen breakout album vinyl\"', '\"country music vinyl 2020\"', '\"Morgan Wallen debut album LP\"', '\"hitmaker country artist vinyl\"', '\"solo artist vinyl record\"'], ['\"Eric Church platinum album vinyl\"', '\"2011 country hits vinyl\"', '\"Eric Church 180 gram red vinyl\"', '\"Grammy-nominated country album\"', '\"Eric Church Chief vinyl LP\"'], ['\"Prince greatest hits album vinyl\"', '\"80s pop rock hits LP\"', '\"Prince influential artist hits\"', '\"bold experimental pop rock vinyl\"', '\"revolutionary Prince hits album\"'], ['\"Prince 2010 unreleased album\"', '\"Welcome 2 America Prince album\"', '\"Prince statement album vinyl\"', '\"Prince 2010 archive release\"', '\"unreleased Prince studio album\"'], ['\"jazz album by diana krall\"', '\"turn up the quiet vinyl\"', '\"grammy award winning jazz singer\"', '\"diana krall great american songbook\"', '\"acclaimed jazz artist albums\"'], ['\"halsey manic album\"', '\"alternative pop artist halsey\"', '\"hit songs by halsey\"', '\"female artist platinum hits\"', '\"halsey billboard hot 100\"'], ['\"thrash metal album 28 minutes\"', '\"extreme thrash metal music\"', '\"ferocious metal guitarists\"', '\"metal album by jeff hanneman\"', '\"brutal power metal songs\"'], ['\"las vegas band dance rock\"', '\"unique rock with dance beats\"', '\"fun rock record to dance to\"', '\"pop punk band danceable music\"', '\"band signed by pete wentz\"'], ['\"high quality record player antiskate\"', '\"how to prevent skipping on vinyl\"', '\"adjusting antiskate on turntable\"', '\"leveling record player for vinyl\"', '\"tips for playing vinyl records\"'], ['\"queen 1976 album vinyl\"', '\"freddie mercury rock vocals lp\"', '\"queen classic rock hits record\"', '\"brian may guitar crunch album\"', '\"queen tie your mother down track\"'], ['\"the doors la woman CD\"', '\"jim morrison final album\"', '\"bluesy doors studio album\"', '\"the doors riders on the storm\"', '\"la woman disc only\"'], ['\"mylene farmer vinyl box set\"', '\"french pop best of vinyl\"', '\"mylene farmer 6 vinyl collection\"', '\"mylene farmer remastered hits\"', '\"histoires de 6 vinyles collector\"'], ['\"carly simon singer songwriter albums\"', '\"carly simon jesse mockingbird tracks\"', '\"carly simon versatile artist music\"', '\"carly simon you\\'re so vain song\"', '\"carly simon iconic albums\"'], ['\"lindsey stirling electronic violin vinyl\"', '\"lindsey stirling youtube sensation album\"', '\"lindsey stirling big beats record\"', '\"lindsey stirling crystallize vinyl\"', '\"lindsey stirling debut album\"'], [' \"florence welch debut album vinyl\"', '\"lungs by florence welch LP\"', '\"twisted fairytales vinyl record\"', '\"florence welch crowd pleasers\"', '\"intoxicating mix vinyl album\" '], [''], [' \"acdc dirty deeds vinyl\"', '\"juvenile acdc album\"', '\"big balls acdc record\"', '\"acdc australian rock album\"', '\"acdc lyrical puerility\" '], [''], [' \"depeche mode violator vinyl\"', '\"emotional depeche mode record\"', '\"catchy hook depeche mode\"', '\"best depeche mode album\"', '\"personal jesus depeche mode\" '], [''], [' \"the highwomen collaborative album\"', '\"brandi carlie natalie hemby album\"', '\"female country supergroup record\"', '\"inclusive highwomen movement\"', '\"country music collaboration album\" '], [''], [' \"tattoo you deluxe remastered vinyl\"', '\"rolling stones 40th anniversary album\"', '\"lost found unreleased songs\"', '\"quintessential stones rock album\"', '\"enhanced classic rock vinyl\" '], ['\"new storm album CD\"', '\"original stormy songs album\"', '\"storm album limited edition bluray\"', '\"storm album 2cdbluray pack\"', '\"storm album 80p photo booklet\"'], ['\"yusuf tea for the tillerman\"', '\"cat stevens new album\"', '\"tea for the tillerman 2 songs\"', '\"cat stevens classic songs\"', '\"50th anniversary tea for the tillerman\"'], ['\"kurt cobain nevermind vinyl\"', '\"classic nevermind album\"', '\"90s alternative rock vinyl\"', '\"nevermind vinyl 180gm pressing\"', '\"nevermind album tracklist\"'], ['\"acdc live at river plate album\"', '\"acdc buenos aires live recording\"', '\"acdc black ice world tour\"', '\"acdc live album 2009\"', '\"acdc thunderstruck live\"'], ['\"pink floyd ummagumma vinyl\"', '\"british rock legends album\"', '\"pink floyd double vinyl lp\"', '\"ummagumma studio tracks\"', '\"pink floyd gatefold sleeve album\"'], ['\"Phil Collins solo singles collection\"', '\"British singer songwriter hits CD\"', '\"Genesis lead singer hits album\"', '\"Phil Collins UK and US singles\"', '\"Best of Phil Collins music CD\"'], [''], ['\"Guns N Roses red vinyl LP\"', '\"Appetite for Destruction HMV edition\"', '\"Classic rock album red vinyl\"', '\"Guns N Roses debut album UK\"', '\"Limited edition GNR vinyl record\"'], [''], ['\"Led Zeppelin debut album guitar rock\"', '\"Zeppelin heavy blues rock\"', '\"Classic Led Zeppelin LP\"', '\"Led Zeppelin iconic guitar riffs\"', '\"Zeppelin powerful rock music\"'], [''], ['\"Marilyn Manson The Pale Emperor album\"', '\"Blues rock influenced Manson album\"', '\"Ninth studio album by Marilyn Manson\"', '\"Manson sparser sound CD\"', '\"The Pale Emperor vinyl deluxe edition\"'], [''], ['\"Lady Gaga Chromatica cassette tape\"', '\"Limited edition green cassette Chromatica\"', '\"Lady Gaga exclusive cassette tracklist\"', '\"Chromatica transparent green tape\"', '\"Collectible Lady Gaga music cassette\"'], [' \"queen 1991 remastered album cd\"', '\"british rock deluxe edition\"', '\"queen autobiography lyrics album\"', '\"queen hit songs deluxe cd\"', '\"queen brian may guitar tracks\"'], [''], [' \"king crimson remixed double disc\"', '\"progressive rock stereo mix\"', '\"king crimson debut album remastered\"', '\"progressive rock pioneers king crimson\"', '\"king crimson 60s genres blend\"'], [''], [' \"depeche mode spirits in the forest cddvd\"', '\"depeche mode global spirit tour film\"', '\"anton corbijn depeche mode documentary\"', '\"depeche mode live concert blu-ray\"', '\"depeche mode fans concert film\"'], [''], [' \"metallica st anger live dvd cd package\"', '\"metallica raw sound live performance\"', '\"metallica savagery album\"', '\"metallica ride the lightning template\"', '\"metallica emotional nakedness music\"'], [''], [' \"lindsey stirling 2016 collaborations album\"', '\"christina perri zz ward collaboration\"', '\"lindsey stirling diverse genre music\"', '\"lindsey stirling violin performance artist\"', '\"lindsey stirling electronic music prism\"'], ['\"led zeppelin remastered album\"', '\"in through the out door deluxe edition\"', '\"rock album with fool in the rain\"', '\"led zeppelin vinyl companion audio\"', '\"jimmy page remastered tracks\"'], [''], ['\"coldplay music of the spheres album\"', '\"new coldplay record emojis\"', '\"coloratura album track release\"', '\"upcoming coldplay cassette release\"', '\"higher power music video performance\"'], [''], ['\"norah jones come away with me remaster\"', '\"jazz pop album analog remaster\"', '\"norah jones piano pump organ album\"', '\"feels like home sacd edition\"', '\"norah jones grammy award winning album\"'], [''], ['\"exile on main street remastered tracks\"', '\"rolling stones unearthed songs\"', '\"stones in exile documentary\"', '\"main street rock masterpiece\"', '\"exile bonus materials album\"'], [''], ['\"greta van fleet anthem of the peaceful army\"', '\"modern rock album greta van fleet\"', '\"greta van fleet new single release\"', '\"upcoming greta van fleet tour\"', '\"rock band airplay record\"'], [' \"Jefferson Airplane mono vinyl\"', '\"Summer of Love album\"', '\"Psychedelic vinyl White Rabbit\"', '\"Haight Ashbury music 1967\"', '\"Grace Slick vinyl record\" '], [''], [' \"Xscape Michael Jackson album\"', '\"Timbaland produced music\"', '\"Posthumous Jackson album\"', '\"Unreleased Michael Jackson songs\"', '\"Mary J Blige Michael Jackson\" '], [''], [' \"Jimi Hendrix Experience remastered\"', '\"Soulful Hendrix music\"', '\"Axis Bold As Love album\"', '\"Easy Rider anthem song\"', '\"Jimi Hendrix 180g vinyl\" '], [''], [' \"Howard Shore film soundtrack\"', '\"Epic movie music\"', '\"Peter Jackson soundtrack\"', '\"Howard Shore orchestral score\"', '\"Ed Sheeran original song\" '], [''], [' \"Tattoo You 40th anniversary boxset\"', '\"Rolling Stones super deluxe vinyl\"', '\"Chris Kimsey interviews book\"', '\"Wembley Stadium recording sessions\"', '\"Rare Rolling Stones photos\" '], ['\"elvis christmas vinyl orchestra\"', '\"holiday records with royal philharmonic\"', '\"christmas classics elvis lp\"', '\"festive vinyl with new arrangements\"', '\"elvis presley holiday album\"'], ['\"lord huron strange trails album\"', '\"weird fiction anthology music\"', '\"lonesome dreams follow up\"', '\"lord huron new release\"', '\"indie folk album 2020\"'], ['\"boston debut album picture disc\"', '\"40th anniversary boston vinyl\"', '\"classic rock picture disc\"', '\"boston more than a feeling vinyl\"', '\"colorful vinyl bostons 40th anniversary\"'], ['\"iron maiden seventh son concept album\"', '\"iron maiden 1988 metal album\"', '\"supernatural metal album iron maiden\"', '\"iron maiden uk number 1 album\"', '\"iron maiden heavy metal classics\"'], ['\"remastered 1978 classic album vinyl\"', '\"half-speed abbey road remaster\"', '\"1978 rock hits vinyl\"', '\"rolling stones remastered vinyl\"', '\"beast of burden vinyl single\"'], ['\"Rocketman original cast recording\"', '\"Elton John musical fantasy album\"', '\"Taron Egerton Rocketman soundtrack\"', '\"Paramount Pictures musical LP\"', '\"Rocketman movie soundtrack vinyl\"'], [''], ['\"Supertramp Crime of the Century vinyl\"', '\"Progressive rock album 40th anniversary\"', '\"Supertramp live concert LP\"', '\"Limited edition vinyl box set\"', '\"Supertramp Ken Scott remastered album\"'], [''], ['\"Imagine Dragons 2012 album vinyl\"', '\"Las Vegas alt-rock quartet LP\"', '\"Imagine Dragons indie band record\"', '\"Restless energy alt-rock vinyl\"', '\"Imagine Dragons EPs album\"'], [''], ['\"Kind of Blue jazz vinyl\"', '\"1959 jazz classic album\"', '\"Miles Davis jazz masterpiece\"', '\"Monument of jazz LP\"', '\"All-time classic jazz record\"'], [''], ['\"Tool heavy metal distortion album\"', '\"Tool 90s heavy metal band\"', '\"Maynard James Keenan vocals LP\"', '\"Tool prog-rock metal base\"', '\"Heavy metal album for headbanging\"'], ['\"Kiwanuka Michael second album\"', '\"British musician new record\"', '\"Michael music studio collaboration\"', '\"Sonic blueprint of last album\"', '\"Follow-up to Love and Hate album\"'], ['\"Pet Sounds 40th anniversary edition\"', '\"Beach Boys influential album\"', '\"Brian Wilson making of documentary\"', '\"Good vibrations stereo surround sound\"', '\"Beach Boys greatest hits DVD\"'], ['\"Meat Loaf Bat out of Hell II\"', '\"Jim Steinman creative team\"', '\"Limited edition picture show\"', '\"Meat Loaf Grammy award winning song\"', '\"Bad out of Hell II deluxe edition\"'], ['\"Disney karaoke series best tracks\"', '\"Hannah Montana Camp Rock songs\"', '\"Frozen Let It Go karaoke\"', '\"Disney Channel artist releases\"', '\"Miley Cyrus Selena Gomez karaoke\"'], ['\"Prince Sign O\\' The Times remaster\"', '\"Prince unreleased studio recordings\"', '\"Complete concert performance DVD\"', '\"Super Deluxe Edition 92 audio tracks\"', '\"Prince handwritten lyrics book\"'], ['\"Metallica Garage Inc vinyl\"', '\"Metallica cover songs album\"', '\"Hard rock Grammy winning album\"', '\"Metallica garage days LP\"', '\"Metallica metal covers record\"'], [''], ['\"Blink 182 2001 album vinyl\"', '\"Punk rock record 2001\"', '\"Top 10 modern rock hits album\"', '\"Blink 182 double platinum LP\"', '\"First punk rock #1 album\"'], [''], ['\"ACDC Back in Black collectors edition\"', '\"Classic music titles enlarged edition\"', '\"Collectors edition music display\"', '\"ACDC 8x8 collectors edition\"', '\"ACDC mini LP book edition\"'], [''], ['\"Michael Jackson Dangerous vinyl album\"', '\"Bestselling pop album 1991\"', '\"New Jack Swing music LP\"', '\"Michael Jackson 8th studio album\"', '\"Michael Jackson Grammy nominated album\"'], [''], ['\"The Clash London Calling CD 1999\"', '\"Limited edition double album CD\"', '\"The Clash 1979 album reissue\"', '\"The Clash millenium edition CD\"', '\"The Clash 18-track CD issue\"'], [' \"acdc highway to hell cd\"', '\"bon scott metal classics\"', '\"acdc original lead singer album\"', '\"crunchy hookheavy metal classics\"', '\"acdc remanufactured cds\" '], [''], [' \"christian rock artist 2019 release\"', '\"zach williams reformation album\"', '\"jonesboro arkansas solo artist\"', '\"acoustic guitar harmonica vocals\"', '\"brothers of grace lead singer\" '], [''], [' \"taylor swift fearless album\"', '\"magic and curiosity youth album\"', '\"taylors version fearless\"', '\"teenage adventures diary album\"', '\"taylor swift unreleased tracks\" '], [''], [' \"lady gaga born this way anniversary\"', '\"lgbtqia community reimagined songs\"', '\"iconic album double cassette\"', '\"10th anniversary album version\"', '\"lady gaga original born this way\" '], [''], [' \"beatles george martin love album\"', '\"cirque de soleil beatles music\"', '\"beatles recordings reworking\"', '\"classic beatles tracks\"', '\"beatles producer george martin\" '], ['\"Tina Turner greatest hits vinyl\"', '\"remastered Tina Turner tracks\"', '\"best of Tina Turner album\"', '\"Tina Turner complete collection\"', '\"Tina Turner double disc album\"'], ['\"Jagged Little Pill red vinyl limited edition\"', '\"Alanis Morissette colored vinyl\"', '\"exclusive Jagged Little Pill LP\"', '\"limited edition Alanis Morissette album\"', '\"Jagged Little Pill 2021 repress\"'], ['\"Gorillaz Plastic Beach album\"', '\"Demon Days follow-up record\"', '\"Gorillaz secret floating island album\"', '\"Plastic Beach guest stars\"', '\"Gorillaz Damon Albarn production\"'], ['\"Megadeth debut album\"', '\"Dave Mustaine metal band\"', '\"thrash metal Megadeth record\"', '\"Killing Is My Business reissue\"', '\"Metallica ex-member Megadeth album\"'], ['\"Eminem Recovery album 2010\"', '\"new Eminem hip hop record\"', '\"Eminem Relapse sequel\"', '\"Recovery album guest appearances\"', '\"2010 Eminem release\"'], ['\"Bring Me the Horizon amo album\"', '\"emo rock love songs\"', '\"experimental rock band new album\"', '\"rock band with diverse music\"', '\"Bring Me the Horizon 6th studio album\"'], ['\"Kanye West late registration album\"', '\"sophomore album Kanye West\"', '\"hip hop album with soulful tracks\"', '\"Kanye West Jon Brion music\"', '\"Kanye West brandy song\"'], ['\"Sex Pistols deluxe box set\"', '\"punk legends remastered album\"', '\"Sex Pistols 1977 recording sessions\"', '\"God Save the Queen vinyl set\"', '\"Sex Pistols impact on music\"'], ['\"Slipknot We Are Not Your Kind vinyl\"', '\"exclusive limited edition silver LP\"', '\"Slipknot double LP tracklist\"', '\"metal album with diverse tracks\"', '\"Slipknot new album\"'], ['\"Springsteen Born to Run anniversary box set\"', '\"Bruce Springsteen Hammersmith Odeon film\"', '\"classic album remastered deluxe edition\"', '\"Springsteen live concert London 75\"', '\"Bruce Springsteen E Street Band performances\"'], ['\"Andrea Bocelli new album\"', '\"Believe music album\"', '\"Italian tenor classic favorites\"', '\"Ennio Morricone duets album\"', '\"Music for hope performance album\"'], ['\"Barbra Streisand walls album\"', '\"2018 vinyl LP Barbra Streisand\"', '\"Original songs collection\"', '\"Barbra Streisand classic covers\"', '\"Leonard Bernstein tribute album\"'], ['\"Lana Del Rey honeymoon LP\"', '\"Synth-driven new single\"', '\"Lana Del Rey September release\"', '\"Orchestral approach album\"', '\"Ultraviolence singer new album\"'], ['\"Harry Styles debut album\"', '\"Self-titled Harry Styles album\"', '\"Sign of the times single\"', '\"Limited edition CD book\"', '\"Global superstar music album\"'], ['\"Ghost Prequelle album release\"', '\"Fourth studio album Ghost\"', '\"Plague and apocalypse theme\"', '\"Dark ages music album\"', '\"Ghost spinefarm recordings\"'], ['\"Dire Straits Sultans of Swing anthology\"', '\"Mark Knopfler guitar band hits\"', '\"Dire Straits best of CD\"', '\"Lady Writer live performance track\"', '\"Dire Straits Brothers in Arms tracks\"'], ['\"Erykah Badu Baduizm album\"', '\"Neo soul classic on vinyl\"', '\"Erykah Badu Grammy-winning record\"', '\"Respect the classics vinyl reissue\"', '\"Debut album 2LP set\"'], ['\"Aerosmith Toys in the Attic vinyl\"', '\"Classic rock hits from Boston\"', '\"Aerosmith blues rock album\"', '\"Walk This Way original version\"', '\"Sweet Emotion classic rock track\"'], ['\"Willie Nelson Stardust quintuple platinum\"', '\"Classic pop standards album\"', '\"Willie Nelson outlaw country record\"', '\"Booker T. Jones production LP\"', '\"Singer-songwriter iconic release\"'], ['\"Jethro Tull Aqualung special edition\"', '\"Jazz-folk rock album\"', '\"Ian Anderson flute rock\"', '\"Martin Barre guitar riffs\"', '\"Aqualung arena rock classic\"'], ['\"eagles hotel california cd\"', '\"bestselling 70s album remastered\"', '\"eagles paradise lost theme\"', '\"eagles greatest hits remaster\"', '\"hotel california enhanced soundstage\"'], [''], ['\"willie nelson red headed stranger vinyl\"', '\"outlaw country concept album\"', '\"columbia records creative control\"', '\"red headed stranger poetic lyrics\"', '\"willie nelson country music classic\"'], [''], ['\"bob marley legend cd\"', '\"jamaican reggae greatest hits\"', '\"bob marley hymnlike songs\"', '\"caribbean music icon compilation\"', '\"reggae legend greatest hits\"'], [''], ['\"carrie underwood cry pretty pink lp\"', '\"country music superstar album\"', '\"carrie underwood grammy winner\"', '\"cry pretty top country songs\"', '\"carrie underwood love wins album\"'], [''], ['\"linkin park warner bros cd\"', '\"rock album keys to the kingdom\"', '\"linkin park daron malakian collaboration\"', '\"rock rebellion theme music\"', '\"warner music rock double disc\"'], [' \"the greatest showman reimagined vinyl\"', '\"cover songs soundtrack album\"', '\"musical film soundtrack lp\"', '\"this is me cover artists\"', '\"pop stars tribute album\" '], [''], [' \"def leppard remastered album\"', '\"hysteria double disc edition\"', '\"rock superstars remastered\"', '\"def leppard expanded booklet\"', '\"remixes and live tracks album\" '], [''], [' \"justin timberlake 20 20 experience vinyl\"', '\"pop superstar 2013 album\"', '\"timbaland collaborations vinyl\"', '\"jayz suit and tie\"', '\"futuresexlovesounds followup album\" '], [''], [' \"pop divas hit album import cd\"', '\"pink bonus track dvd\"', '\"so what music videos dvd\"', '\"live tracks australia dvd\"', '\"bonus track commentary dvd\" '], [''], [' \"blondie 1978 album deluxe edition\"', '\"new wave pop stars album\"', '\"blondie classic songs dvd\"', '\"heart of glass music video\"', '\"blondie photo session booklet\" '], [' \"bob marley legend vinyl\"', '\"reggae music collection\"', '\"bob marley deluxe edition\"', '\"iconic reggae anthems album\"', '\"marley best selling record\"']]\n"
     ]
    }
   ],
   "source": [
    "print(len(results))\n",
    "print(results)"
   ]
  },
  {
   "cell_type": "markdown",
   "id": "db7cf7bd-348a-4494-887d-e89a0497bdb2",
   "metadata": {},
   "source": [
    "We have more results than products, so let's go ahead and parse through the results so that we correctly extract the right information."
   ]
  },
  {
   "cell_type": "code",
   "execution_count": 17,
   "id": "8daf257b-8980-4aca-919c-9766833f2294",
   "metadata": {},
   "outputs": [
    {
     "data": {
      "text/plain": [
       "[[''],\n",
       " [''],\n",
       " [''],\n",
       " [''],\n",
       " [''],\n",
       " [''],\n",
       " [''],\n",
       " [''],\n",
       " [''],\n",
       " [''],\n",
       " [''],\n",
       " [''],\n",
       " [''],\n",
       " [''],\n",
       " [''],\n",
       " [''],\n",
       " [''],\n",
       " [''],\n",
       " [''],\n",
       " [''],\n",
       " [''],\n",
       " [''],\n",
       " [''],\n",
       " [''],\n",
       " [''],\n",
       " [''],\n",
       " [''],\n",
       " [''],\n",
       " [''],\n",
       " [''],\n",
       " [''],\n",
       " [''],\n",
       " [''],\n",
       " [''],\n",
       " [''],\n",
       " [''],\n",
       " [''],\n",
       " [''],\n",
       " [''],\n",
       " [''],\n",
       " [''],\n",
       " [''],\n",
       " [''],\n",
       " [''],\n",
       " [''],\n",
       " [''],\n",
       " [''],\n",
       " [''],\n",
       " [''],\n",
       " [''],\n",
       " [''],\n",
       " [''],\n",
       " [''],\n",
       " [''],\n",
       " [''],\n",
       " [''],\n",
       " [''],\n",
       " [''],\n",
       " [''],\n",
       " [''],\n",
       " [''],\n",
       " [''],\n",
       " [''],\n",
       " [''],\n",
       " [''],\n",
       " [''],\n",
       " [''],\n",
       " [''],\n",
       " [''],\n",
       " [''],\n",
       " [''],\n",
       " [''],\n",
       " [''],\n",
       " [''],\n",
       " [''],\n",
       " [''],\n",
       " [''],\n",
       " [''],\n",
       " [''],\n",
       " [''],\n",
       " [''],\n",
       " [''],\n",
       " [''],\n",
       " [''],\n",
       " [''],\n",
       " [''],\n",
       " [''],\n",
       " [''],\n",
       " [''],\n",
       " [''],\n",
       " [''],\n",
       " [''],\n",
       " [''],\n",
       " [''],\n",
       " [''],\n",
       " [''],\n",
       " [''],\n",
       " [''],\n",
       " [''],\n",
       " [''],\n",
       " [''],\n",
       " [''],\n",
       " [''],\n",
       " [''],\n",
       " [''],\n",
       " [''],\n",
       " [''],\n",
       " [''],\n",
       " [''],\n",
       " [''],\n",
       " [''],\n",
       " [''],\n",
       " [''],\n",
       " [''],\n",
       " [''],\n",
       " [''],\n",
       " [''],\n",
       " [''],\n",
       " [''],\n",
       " [''],\n",
       " [''],\n",
       " [''],\n",
       " [''],\n",
       " [''],\n",
       " [''],\n",
       " [''],\n",
       " [''],\n",
       " [''],\n",
       " [''],\n",
       " [''],\n",
       " [''],\n",
       " [''],\n",
       " ['']]"
      ]
     },
     "execution_count": 17,
     "metadata": {},
     "output_type": "execute_result"
    }
   ],
   "source": [
    "[result for result in results if len(result[0]) <= 0]"
   ]
  },
  {
   "cell_type": "markdown",
   "id": "c7af9875-8683-4c85-90bf-ded4183736a6",
   "metadata": {},
   "source": [
    "The above results are just empty strings, so we can filter them out"
   ]
  },
  {
   "cell_type": "code",
   "execution_count": 18,
   "id": "f691b77b-b616-4851-8e4f-a058a6949bac",
   "metadata": {},
   "outputs": [
    {
     "data": {
      "text/plain": [
       "281"
      ]
     },
     "execution_count": 18,
     "metadata": {},
     "output_type": "execute_result"
    }
   ],
   "source": [
    "cleaned_results = [result for result in results if len(result[0]) > 0]\n",
    "len(cleaned_results)"
   ]
  },
  {
   "cell_type": "markdown",
   "id": "42ff5d3a-1eef-4b02-9299-515de05e8b6b",
   "metadata": {},
   "source": [
    "We now only have one more result than we need."
   ]
  },
  {
   "cell_type": "code",
   "execution_count": 19,
   "id": "5fd486ca-3356-4127-8176-53e91e2246da",
   "metadata": {},
   "outputs": [
    {
     "data": {
      "text/plain": [
       "array([1, 4, 5])"
      ]
     },
     "execution_count": 19,
     "metadata": {},
     "output_type": "execute_result"
    }
   ],
   "source": [
    "np.unique([len(result) for result in cleaned_results])"
   ]
  },
  {
   "cell_type": "markdown",
   "id": "45c63211-7f17-4b92-9712-72fe6773f788",
   "metadata": {},
   "source": [
    "It looks like we have a variable number of queries in some of the results. Let's examine each of the results that don't have the desired number of queries (5)."
   ]
  },
  {
   "cell_type": "code",
   "execution_count": 20,
   "id": "90fcfcd1-316f-4dea-aadd-a98611d4023f",
   "metadata": {},
   "outputs": [
    {
     "data": {
      "text/plain": [
       "[75, 77, 79, 81, 83, 89]"
      ]
     },
     "execution_count": 20,
     "metadata": {},
     "output_type": "execute_result"
    }
   ],
   "source": [
    "# Indices of results that don't have 5 queries\n",
    "inspect_index = [i for i in range(len(cleaned_results)) if len(cleaned_results[i]) != 5]\n",
    "inspect_index  # shows indices of problematic entries"
   ]
  },
  {
   "cell_type": "code",
   "execution_count": 21,
   "id": "761dde27-eb7a-48a0-87b5-377820d5e2fd",
   "metadata": {},
   "outputs": [
    {
     "data": {
      "text/plain": [
       "[['Product 1:'],\n",
       " ['Product 2:'],\n",
       " ['Product 3:'],\n",
       " ['Product 4:'],\n",
       " ['Product 5:'],\n",
       " ['\"supertramp crime of the century vinyl\"',\n",
       "  '\"limited edition grey vinyl lp\"',\n",
       "  '\"supertramp 1974 album remastered\"',\n",
       "  '\"supertr']]"
      ]
     },
     "execution_count": 21,
     "metadata": {},
     "output_type": "execute_result"
    }
   ],
   "source": [
    "[cleaned_results[i] for i in inspect_index]\n"
   ]
  },
  {
   "cell_type": "markdown",
   "id": "5b035be1-4a7a-46d0-bf13-55a0937fa7e8",
   "metadata": {},
   "source": [
    "Remove the 'Product X: '"
   ]
  },
  {
   "cell_type": "code",
   "execution_count": 30,
   "id": "3c5c195d",
   "metadata": {},
   "outputs": [
    {
     "data": {
      "text/plain": [
       "276"
      ]
     },
     "execution_count": 30,
     "metadata": {},
     "output_type": "execute_result"
    }
   ],
   "source": [
    "cleaned_results = [result for result in cleaned_results if not (len(result) == 1 and result[0].startswith(\"Product\"))]\n",
    "len(cleaned_results)"
   ]
  },
  {
   "cell_type": "code",
   "execution_count": 31,
   "id": "75649eed",
   "metadata": {},
   "outputs": [
    {
     "name": "stdout",
     "output_type": "stream",
     "text": [
      "[84]\n"
     ]
    }
   ],
   "source": [
    "inspect_index = [i for i in range(len(cleaned_results)) if len(cleaned_results[i]) != 5]\n",
    "print(inspect_index) "
   ]
  },
  {
   "cell_type": "code",
   "execution_count": 32,
   "id": "421c1d0e",
   "metadata": {},
   "outputs": [
    {
     "data": {
      "text/plain": [
       "[['\"supertramp crime of the century vinyl\"',\n",
       "  '\"limited edition grey vinyl lp\"',\n",
       "  '\"supertramp 1974 album remastered\"',\n",
       "  '\"supertr']]"
      ]
     },
     "execution_count": 32,
     "metadata": {},
     "output_type": "execute_result"
    }
   ],
   "source": [
    "[cleaned_results[i] for i in inspect_index]"
   ]
  },
  {
   "cell_type": "code",
   "execution_count": 35,
   "id": "1f9df056-6eab-48ff-85c6-519a7416df52",
   "metadata": {},
   "outputs": [
    {
     "data": {
      "text/plain": [
       "['\"supertramp crime of the century vinyl\"',\n",
       " '\"limited edition grey vinyl lp\"',\n",
       " '\"supertramp 1974 album remastered\"',\n",
       " '\"supertr']"
      ]
     },
     "execution_count": 35,
     "metadata": {},
     "output_type": "execute_result"
    }
   ],
   "source": [
    "cleaned_results[84]"
   ]
  },
  {
   "cell_type": "code",
   "execution_count": 36,
   "id": "30dd729c",
   "metadata": {},
   "outputs": [
    {
     "data": {
      "text/plain": [
       "['\"supertramp crime of the century vinyl\"',\n",
       " '\"limited edition grey vinyl lp\"',\n",
       " '\"supertramp 1974 album remastered\"',\n",
       " '\"supertr',\n",
       " '\"Supertramp progressive rock album\"']"
      ]
     },
     "execution_count": 36,
     "metadata": {},
     "output_type": "execute_result"
    }
   ],
   "source": [
    "extra_query = '\"Supertramp progressive rock album\"'\n",
    "cleaned_results[84].append(extra_query)\n",
    "cleaned_results[84]"
   ]
  },
  {
   "cell_type": "code",
   "execution_count": 37,
   "id": "ebb4429f",
   "metadata": {},
   "outputs": [
    {
     "name": "stdout",
     "output_type": "stream",
     "text": [
      "[]\n"
     ]
    }
   ],
   "source": [
    "inspect_index = [i for i in range(len(cleaned_results)) if len(cleaned_results[i]) != 5]\n",
    "print(inspect_index) "
   ]
  },
  {
   "cell_type": "code",
   "execution_count": 38,
   "id": "fec85681-9a5c-4b90-947f-bbd102443ed1",
   "metadata": {},
   "outputs": [
    {
     "name": "stdout",
     "output_type": "stream",
     "text": [
      "Number of results: 276\n",
      "Number of queries per result: [5]\n"
     ]
    }
   ],
   "source": [
    "print(f\"Number of results: {len(cleaned_results)}\")\n",
    "print(f\"Number of queries per result: {np.unique([len(result) for result in cleaned_results])}\")"
   ]
  },
  {
   "cell_type": "code",
   "execution_count": 39,
   "id": "54ac8b47-1b01-49c3-bae3-41d27ed10b4c",
   "metadata": {},
   "outputs": [],
   "source": [
    "# Add queries to original products\n",
    "product_samples.loc[:, ['query_1', 'query_2', 'query_3', 'query_4', 'query_5']] = cleaned_results"
   ]
  },
  {
   "cell_type": "code",
   "execution_count": 42,
   "id": "7ac00e4e-b103-4dd7-b5f5-cf74f77b6da1",
   "metadata": {},
   "outputs": [
    {
     "data": {
      "text/html": [
       "<div>\n",
       "<style scoped>\n",
       "    .dataframe tbody tr th:only-of-type {\n",
       "        vertical-align: middle;\n",
       "    }\n",
       "\n",
       "    .dataframe tbody tr th {\n",
       "        vertical-align: top;\n",
       "    }\n",
       "\n",
       "    .dataframe thead th {\n",
       "        text-align: right;\n",
       "    }\n",
       "</style>\n",
       "<table border=\"1\" class=\"dataframe\">\n",
       "  <thead>\n",
       "    <tr style=\"text-align: right;\">\n",
       "      <th></th>\n",
       "      <th>id</th>\n",
       "      <th>title</th>\n",
       "      <th>description</th>\n",
       "      <th>label</th>\n",
       "      <th>query_1</th>\n",
       "      <th>query_2</th>\n",
       "      <th>query_3</th>\n",
       "      <th>query_4</th>\n",
       "      <th>query_5</th>\n",
       "    </tr>\n",
       "  </thead>\n",
       "  <tbody>\n",
       "    <tr>\n",
       "      <th>0</th>\n",
       "      <td>B00BV9RZSO</td>\n",
       "      <td>Elephant</td>\n",
       "      <td>doulbe 180gm vinyl lp pressing of this 2003 al...</td>\n",
       "      <td>67</td>\n",
       "      <td>\"white stripes vinyl LP 2003\"</td>\n",
       "      <td>\"garage rock revival music\"</td>\n",
       "      <td>\"analog recording equipment bands\"</td>\n",
       "      <td>\"Detroit indie music albums\"</td>\n",
       "      <td>\"raw simplicity music composition\"</td>\n",
       "    </tr>\n",
       "    <tr>\n",
       "      <th>1</th>\n",
       "      <td>B0009ELZAG</td>\n",
       "      <td>The Beach Boys: Pet Sounds</td>\n",
       "      <td>the tracks are 1 wouldnt it be nice 2 you stil...</td>\n",
       "      <td>45</td>\n",
       "      <td>\"Pet Sounds bonus tracks vinyl\"</td>\n",
       "      <td>\"Beach Boys album 1966\"</td>\n",
       "      <td>\"Brian Wilson music compositions\"</td>\n",
       "      <td>\"California pop music LP\"</td>\n",
       "      <td>\"melodic pop rock records\"</td>\n",
       "    </tr>\n",
       "    <tr>\n",
       "      <th>2</th>\n",
       "      <td>B00M889IDM</td>\n",
       "      <td>Eric Clapton &amp; Friends: The Breeze</td>\n",
       "      <td>eric clapton has often stated that jj cale is ...</td>\n",
       "      <td>54</td>\n",
       "      <td>\"Eric Clapton tribute album JJ Cale\"</td>\n",
       "      <td>\"rock history appreciation music\"</td>\n",
       "      <td>\"famous musicians collaborations LP\"</td>\n",
       "      <td>\"JJ Cale covers by artists\"</td>\n",
       "      <td>\"1972 single call me the breeze\"</td>\n",
       "    </tr>\n",
       "    <tr>\n",
       "      <th>3</th>\n",
       "      <td>B00NQKWA6S</td>\n",
       "      <td>The Endless River</td>\n",
       "      <td>2014 release the 15th and final studio album f...</td>\n",
       "      <td>3</td>\n",
       "      <td>\"David Gilmour final studio album\"</td>\n",
       "      <td>\"British rock band unreleased tracks\"</td>\n",
       "      <td>\"Pink Floyd leftovers project\"</td>\n",
       "      <td>\"veteran rock musicians LP\"</td>\n",
       "      <td>\"coproduced by Phil Manzanera\"</td>\n",
       "    </tr>\n",
       "    <tr>\n",
       "      <th>4</th>\n",
       "      <td>B08HGPZ1Q5</td>\n",
       "      <td>American Beauty</td>\n",
       "      <td>the crown jewel of the deads studio output fea...</td>\n",
       "      <td>63</td>\n",
       "      <td>\"Grateful Dead crown jewel LP\"</td>\n",
       "      <td>\"50th-anniversary remastered vinyl\"</td>\n",
       "      <td>\"psychedelic rock classics\"</td>\n",
       "      <td>\"180-gram vinyl reissue\"</td>\n",
       "      <td>\"tracklist box of rain\"</td>\n",
       "    </tr>\n",
       "  </tbody>\n",
       "</table>\n",
       "</div>"
      ],
      "text/plain": [
       "           id                               title  \\\n",
       "0  B00BV9RZSO                            Elephant   \n",
       "1  B0009ELZAG          The Beach Boys: Pet Sounds   \n",
       "2  B00M889IDM  Eric Clapton & Friends: The Breeze   \n",
       "3  B00NQKWA6S                   The Endless River   \n",
       "4  B08HGPZ1Q5                     American Beauty   \n",
       "\n",
       "                                         description  label  \\\n",
       "0  doulbe 180gm vinyl lp pressing of this 2003 al...     67   \n",
       "1  the tracks are 1 wouldnt it be nice 2 you stil...     45   \n",
       "2  eric clapton has often stated that jj cale is ...     54   \n",
       "3  2014 release the 15th and final studio album f...      3   \n",
       "4  the crown jewel of the deads studio output fea...     63   \n",
       "\n",
       "                                 query_1  \\\n",
       "0          \"white stripes vinyl LP 2003\"   \n",
       "1        \"Pet Sounds bonus tracks vinyl\"   \n",
       "2   \"Eric Clapton tribute album JJ Cale\"   \n",
       "3     \"David Gilmour final studio album\"   \n",
       "4         \"Grateful Dead crown jewel LP\"   \n",
       "\n",
       "                                 query_2  \\\n",
       "0            \"garage rock revival music\"   \n",
       "1                \"Beach Boys album 1966\"   \n",
       "2      \"rock history appreciation music\"   \n",
       "3  \"British rock band unreleased tracks\"   \n",
       "4    \"50th-anniversary remastered vinyl\"   \n",
       "\n",
       "                                query_3                       query_4  \\\n",
       "0    \"analog recording equipment bands\"  \"Detroit indie music albums\"   \n",
       "1     \"Brian Wilson music compositions\"     \"California pop music LP\"   \n",
       "2  \"famous musicians collaborations LP\"   \"JJ Cale covers by artists\"   \n",
       "3        \"Pink Floyd leftovers project\"   \"veteran rock musicians LP\"   \n",
       "4           \"psychedelic rock classics\"      \"180-gram vinyl reissue\"   \n",
       "\n",
       "                               query_5  \n",
       "0  \"raw simplicity music composition\"   \n",
       "1          \"melodic pop rock records\"   \n",
       "2    \"1972 single call me the breeze\"   \n",
       "3      \"coproduced by Phil Manzanera\"   \n",
       "4             \"tracklist box of rain\"   "
      ]
     },
     "execution_count": 42,
     "metadata": {},
     "output_type": "execute_result"
    }
   ],
   "source": [
    "product_samples.head()"
   ]
  },
  {
   "cell_type": "code",
   "execution_count": 43,
   "id": "d0bcfbe3-31b8-46ee-b048-ec564b71e605",
   "metadata": {},
   "outputs": [],
   "source": [
    "product_samples.to_csv('cd_vinyl_products_with_sample_queries', index=False)"
   ]
  }
 ],
 "metadata": {
  "kernelspec": {
   "display_name": "Python 3",
   "language": "python",
   "name": "python3"
  },
  "language_info": {
   "codemirror_mode": {
    "name": "ipython",
    "version": 3
   },
   "file_extension": ".py",
   "mimetype": "text/x-python",
   "name": "python",
   "nbconvert_exporter": "python",
   "pygments_lexer": "ipython3",
   "version": "3.9.6"
  }
 },
 "nbformat": 4,
 "nbformat_minor": 5
}
