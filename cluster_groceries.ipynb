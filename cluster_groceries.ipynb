{
 "cells": [
  {
   "cell_type": "code",
   "execution_count": 1,
   "id": "cd411acb-03eb-49aa-816f-9eb6934d6e8c",
   "metadata": {},
   "outputs": [
    {
     "name": "stderr",
     "output_type": "stream",
     "text": [
      "c:\\Users\\zhero\\anaconda3\\envs\\DSU\\Lib\\site-packages\\tqdm\\auto.py:21: TqdmWarning: IProgress not found. Please update jupyter and ipywidgets. See https://ipywidgets.readthedocs.io/en/stable/user_install.html\n",
      "  from .autonotebook import tqdm as notebook_tqdm\n"
     ]
    }
   ],
   "source": [
    "import numpy as np\n",
    "import pandas as pd\n",
    "import matplotlib.pyplot as plt\n",
    "from sklearn.feature_extraction.text import TfidfVectorizer\n",
    "from sklearn.cluster import KMeans\n",
    "from sentence_transformers import SentenceTransformer\n",
    "from umap import UMAP\n",
    "from bertopic import BERTopic\n",
    "import hdbscan\n",
    "import re"
   ]
  },
  {
   "cell_type": "code",
   "execution_count": 2,
   "id": "7cc242b8-9284-4e3c-86b8-dc00c9a1ee6b",
   "metadata": {},
   "outputs": [],
   "source": [
    "class ProductGroupGenerator:\n",
    "    def __init__(self, min_cluster_size=5, max_clusters=75):\n",
    "        self.sentence_model = SentenceTransformer('all-MiniLM-L6-v2')\n",
    "        self.tfidf = TfidfVectorizer(\n",
    "            max_features=1000,\n",
    "            stop_words='english',\n",
    "            ngram_range=(1, 2)\n",
    "        )\n",
    "        self.min_cluster_size = min_cluster_size\n",
    "        self.max_clusters = max_clusters\n",
    "        \n",
    "    def preprocess_text(self, text):\n",
    "        # Convert to lowercase and remove special characters\n",
    "        text = re.sub(r'[^a-zA-Z0-9\\s]', ' ', str(text).lower())\n",
    "        # Remove extra whitespace\n",
    "        text = re.sub(r'\\s+', ' ', text).strip()\n",
    "        return text\n",
    "        \n",
    "    def generate_clusters(self, texts, method='combined', n_clusters=None):\n",
    "        \"\"\"\n",
    "        Generate product clusters using different methods\n",
    "        \n",
    "        Args:\n",
    "            texts: List of product titles/descriptions\n",
    "            method: One of 'tfidf_kmeans', 'bert_topic', or 'combined'\n",
    "            n_clusters: Optional target number of clusters\n",
    "        \"\"\"\n",
    "        if n_clusters is None:\n",
    "            n_clusters = min(len(texts) // self.min_cluster_size, self.max_clusters)\n",
    "            \n",
    "        processed_texts = [self.preprocess_text(text) for text in texts]\n",
    "        \n",
    "        if method == 'tfidf_kmeans':\n",
    "            return self._cluster_tfidf_kmeans(processed_texts, n_clusters)\n",
    "        elif method == 'bert_topic':\n",
    "            return self._cluster_bert_topic(processed_texts)\n",
    "        elif method == 'combined':\n",
    "            return self._cluster_combined(processed_texts, n_clusters)\n",
    "        else:\n",
    "            raise ValueError(\"Invalid clustering method\")\n",
    "    \n",
    "    def _cluster_tfidf_kmeans(self, texts, n_clusters):\n",
    "        # Transform texts to TF-IDF vectors\n",
    "        tfidf_matrix = self.tfidf.fit_transform(texts)\n",
    "        \n",
    "        kmeans = KMeans(n_clusters=n_clusters, random_state=42)\n",
    "        labels = kmeans.fit_predict(tfidf_matrix)\n",
    "        \n",
    "        # Get top terms for each cluster\n",
    "        cluster_terms = {}\n",
    "        feature_names = self.tfidf.get_feature_names_out()\n",
    "        for i in range(n_clusters):\n",
    "            center_indices = kmeans.cluster_centers_[i].argsort()[::-1][:5]\n",
    "            cluster_terms[i] = [feature_names[idx] for idx in center_indices]\n",
    "            \n",
    "        return labels, cluster_terms\n",
    "    \n",
    "    def _cluster_bert_topic(self, texts):\n",
    "        # Create embeddings\n",
    "        embeddings = self.sentence_model.encode(texts)\n",
    "        \n",
    "        # Initialize BERTopic\n",
    "        topic_model = BERTopic(\n",
    "            umap_model=UMAP(n_neighbors=15, n_components=5, min_dist=0.0, metric='cosine'),\n",
    "            hdbscan_model=hdbscan.HDBSCAN(\n",
    "                min_cluster_size=self.min_cluster_size,\n",
    "                min_samples=1,\n",
    "                metric='euclidean',\n",
    "                cluster_selection_method='eom'\n",
    "            ),\n",
    "            verbose=True\n",
    "        )\n",
    "        \n",
    "        # Fit the model and get topics\n",
    "        labels, _ = topic_model.fit_transform(texts, embeddings)\n",
    "        \n",
    "        # Get topic terms\n",
    "        topic_terms = {}\n",
    "        for topic_idx, words in topic_model.get_topics().items():\n",
    "            topic_terms[topic_idx] = [word[0] for word in words[:5]]\n",
    "            \n",
    "        return labels, topic_terms\n",
    "    \n",
    "    def _cluster_combined(self, texts, n_clusters):\n",
    "        # Get clusters from both methods\n",
    "        print(\"CLUSTERING BY KMEANS\")\n",
    "        kmeans_labels, kmeans_terms = self._cluster_tfidf_kmeans(texts, n_clusters)\n",
    "        print(\"CLUSTERING BY BERT\")\n",
    "        bert_labels, bert_terms = self._cluster_bert_topic(texts)\n",
    "        \n",
    "        # Create ensemble clustering\n",
    "        # Convert labels to one-hot encoding\n",
    "        def one_hot_encode(labels):\n",
    "            n_unique = len(np.unique(labels))\n",
    "            return np.eye(n_unique)[labels]\n",
    "        \n",
    "        kmeans_oh = one_hot_encode(kmeans_labels)\n",
    "        bert_oh = one_hot_encode(bert_labels)\n",
    "        \n",
    "        # Concatenate features\n",
    "        combined_features = np.hstack([kmeans_oh, bert_oh])\n",
    "        \n",
    "        # Final clustering on combined features\n",
    "        print(\"CREATING FINAL CLUSTERING COMBINATION\")\n",
    "        final_kmeans = KMeans(n_clusters=n_clusters)\n",
    "        final_labels = final_kmeans.fit_predict(combined_features)\n",
    "        \n",
    "        # Combine terms from both methods for final clusters\n",
    "        final_terms = {}\n",
    "        for i in range(n_clusters):\n",
    "            terms_set = set()\n",
    "            terms_set.update(kmeans_terms.get(i, []))\n",
    "            terms_set.update(bert_terms.get(i, []))\n",
    "            final_terms[i] = list(terms_set)[:5]\n",
    "            \n",
    "        return final_labels, final_terms\n",
    "\n",
    "    def analyze_clusters(self, texts, labels, cluster_terms):\n",
    "        \"\"\"\n",
    "        Analyze cluster quality and characteristics\n",
    "        \"\"\"\n",
    "        cluster_stats = {}\n",
    "        unique_labels = np.unique(labels)\n",
    "        \n",
    "        for label in unique_labels:\n",
    "            cluster_texts = [texts[i] for i in range(len(texts)) if labels[i] == label]\n",
    "            cluster_stats[label] = {\n",
    "                'size': len(cluster_texts),\n",
    "                'terms': cluster_terms.get(label, []),\n",
    "                'sample_products': cluster_texts[:3]  # Show 3 example products\n",
    "            }\n",
    "            \n",
    "        return cluster_stats"
   ]
  },
  {
   "cell_type": "code",
   "execution_count": 3,
   "id": "be193eef-7148-4aca-a5e9-d715e91ca3bb",
   "metadata": {},
   "outputs": [],
   "source": [
    "# Prepare your data\n",
    "products_df = pd.read_csv('groceries_cleaned.csv')\n",
    "texts = products_df['title'] + ' ' + products_df['combined_description']"
   ]
  },
  {
   "cell_type": "code",
   "execution_count": 4,
   "id": "fbd354cd-accd-4968-8746-c2a524d4f145",
   "metadata": {},
   "outputs": [],
   "source": [
    "# Initialize clustering class\n",
    "generator = ProductGroupGenerator(min_cluster_size=50, max_clusters = 200)"
   ]
  },
  {
   "cell_type": "code",
   "execution_count": 5,
   "id": "b81cd68e-dcb3-46ce-a6d6-a8a4fe0f2739",
   "metadata": {},
   "outputs": [
    {
     "name": "stdout",
     "output_type": "stream",
     "text": [
      "CLUSTERING BY KMEANS\n",
      "CLUSTERING BY BERT\n"
     ]
    },
    {
     "name": "stderr",
     "output_type": "stream",
     "text": [
      "2025-03-01 12:49:54,559 - BERTopic - Dimensionality - Fitting the dimensionality reduction algorithm\n",
      "2025-03-01 12:50:43,314 - BERTopic - Dimensionality - Completed ✓\n",
      "2025-03-01 12:50:43,317 - BERTopic - Cluster - Start clustering the reduced embeddings\n",
      "2025-03-01 12:50:43,622 - BERTopic - Cluster - Completed ✓\n",
      "2025-03-01 12:50:43,636 - BERTopic - Representation - Extracting topics from clusters using representation models.\n",
      "2025-03-01 12:50:44,943 - BERTopic - Representation - Completed ✓\n"
     ]
    },
    {
     "name": "stdout",
     "output_type": "stream",
     "text": [
      "CREATING FINAL CLUSTERING COMBINATION\n"
     ]
    }
   ],
   "source": [
    "# Run clustering\n",
    "labels, cluster_terms = generator.generate_clusters(texts, method='combined')"
   ]
  },
  {
   "cell_type": "code",
   "execution_count": 6,
   "id": "54d572f8-35b6-4d9a-abe3-70e7abca4c16",
   "metadata": {},
   "outputs": [],
   "source": [
    "# Analyze the clusters\n",
    "cluster_stats = generator.analyze_clusters(texts, labels, cluster_terms)"
   ]
  },
  {
   "cell_type": "code",
   "execution_count": 7,
   "id": "7d1f9b02-85f8-4821-aeec-6a8aca89155e",
   "metadata": {},
   "outputs": [
    {
     "data": {
      "text/plain": [
       "8600"
      ]
     },
     "execution_count": 7,
     "metadata": {},
     "output_type": "execute_result"
    }
   ],
   "source": [
    "# Number of total products\n",
    "products_df.shape[0] "
   ]
  },
  {
   "cell_type": "code",
   "execution_count": 8,
   "id": "6d8c8de1-2078-461c-96c3-cc48126fa1c6",
   "metadata": {},
   "outputs": [
    {
     "data": {
      "text/plain": [
       "172"
      ]
     },
     "execution_count": 8,
     "metadata": {},
     "output_type": "execute_result"
    }
   ],
   "source": [
    "# Number of clusters\n",
    "len(cluster_stats)"
   ]
  },
  {
   "cell_type": "code",
   "execution_count": 9,
   "id": "21789118-4da2-4143-a1f5-e1e7dde292dd",
   "metadata": {},
   "outputs": [
    {
     "name": "stdout",
     "output_type": "stream",
     "text": [
      "Cluster Size: 20\n",
      "Key Terms: foods market, 365, roast, arabica, standards\n",
      "\n",
      "Cluster Size: 20\n",
      "Key Terms: tea, the, free, green, teas\n",
      "\n",
      "Cluster Size: 62\n",
      "Key Terms: 365, whole, foods, standards, organic\n",
      "\n",
      "Cluster Size: 98\n",
      "Key Terms: chocolate, candy bars, chewy, candies, candy\n",
      "\n",
      "Cluster Size: 157\n",
      "Key Terms: roast, ground, ground coffee, medium roast, free\n",
      "\n",
      "Cluster Size: 70\n",
      "Key Terms: sauce, cheese, pasta, cream, tomato\n",
      "\n",
      "Cluster Size: 240\n",
      "Key Terms: chocolate, cream, cookies, vegan, frozen\n",
      "\n",
      "Cluster Size: 56\n",
      "Key Terms: tea, blend, spices, tea bags, herbal\n",
      "\n",
      "Cluster Size: 79\n",
      "Key Terms: gluten, classic, whole, hot, granola\n",
      "\n",
      "Cluster Size: 22\n",
      "Key Terms: turkey, cheese, dressing, kit, olive\n",
      "\n"
     ]
    }
   ],
   "source": [
    "# Sample of group sizes and key terms\n",
    "for i in range(10):\n",
    "    print(f\"Cluster Size: {cluster_stats[i]['size']}\")\n",
    "    print(f\"Key Terms: {', '.join(cluster_stats[i]['terms'])}\\n\")"
   ]
  },
  {
   "cell_type": "code",
   "execution_count": 10,
   "id": "adbf9958-729d-495e-8660-c56dafba11da",
   "metadata": {},
   "outputs": [],
   "source": [
    "num_items = []\n",
    "\n",
    "for cluster in cluster_stats.keys():\n",
    "    num_items.append(cluster_stats[cluster]['size'])"
   ]
  },
  {
   "cell_type": "code",
   "execution_count": 11,
   "id": "78744012-79cf-45a4-bc8f-0183a758520e",
   "metadata": {},
   "outputs": [
    {
     "data": {
      "image/png": "[encoded data removed]",
      "text/plain": [
       "<Figure size 640x480 with 1 Axes>"
      ]
     },
     "metadata": {},
     "output_type": "display_data"
    }
   ],
   "source": [
    "plt.hist(num_items, bins=30, density=True)\n",
    "plt.title(\"Cluster Size Distribution\")\n",
    "plt.xlabel(\"Number of Products in Group\")\n",
    "plt.ylabel(\"Relative Frequency\")\n",
    "plt.show()"
   ]
  },
  {
   "cell_type": "code",
   "execution_count": 12,
   "id": "69d6ce21-66d7-4890-8f01-b047cc41a3c2",
   "metadata": {},
   "outputs": [
    {
     "data": {
      "text/plain": [
       "label\n",
       "126    446\n",
       "6      240\n",
       "21     159\n",
       "4      157\n",
       "41     144\n",
       "Name: count, dtype: int64"
      ]
     },
     "execution_count": 12,
     "metadata": {},
     "output_type": "execute_result"
    }
   ],
   "source": [
    "products_df['label'] = labels\n",
    "products_df['label'].value_counts()[:5]"
   ]
  },
  {
   "cell_type": "code",
   "execution_count": 13,
   "id": "3f16cc05-4fb4-4dce-a020-04c00f94a0f9",
   "metadata": {},
   "outputs": [
    {
     "data": {
      "text/plain": [
       "{'size': 11,\n",
       " 'terms': ['creamy', 'real', 'vinegar', 'oil', 'eggs'],\n",
       " 'sample_products': [\"Lorissa's Kitchen Grass-Fed Beef Jerky Meat Snack Sticks - Keto Friendly, Gluten Free, No Added Nitrites or Nitrates, Original Flavor, 1 oz. Pack of 12 When you need a wholesome and satisfying snack for your family you need Lorissas Kitchen Original Beef Sticks Made with 100 grassfed beef raised without added growth hormones or antibiotics you can trust these savory sweet meat snacks are carefully sourced using only highquality ingredients These perfectly tender Original beef sticks are seasoned with a delicious blend of savory spices then slowsmoked for a complex yet smooth craveable flavor the whole family will love Made with no preservatives added nitrates or nitrites or MSG they are the goto glutenfree and ketofriendly snack for go time you can feel good about feeding your family Packed with 6g of protein per serving this good source of protein premium beef stick fuels and energizes you tackle your familys busy schedule Plus the 1 oz individually wrapped sticks make it easy to toss in your or your husband or kids  backpack purse sportactivity bag briefcase or lunchbox so youre ready to nourish when it matters most When you need a quick protein snack that is craveable flavorful and ethically sourced grab Lorissas Kitchen Original beef sticks and go The best things in life are made with love Thats why Lorissa started Lorissas Kitchen out of love for simple ingredients delicious recipes and nourishing snacks And just like you her busy onthego family needed wholesome real snack solutions the kids would love too Our first batch was a hit And we havent slowed down since Except those naturally occurring in cultured celery powder and celery seed Good source of protein 6g of protein per serving MADE WITH 100 GRASSFED BEEF  These meat sticks are ethically sourced from 100 grassfed beef raised without added hormones or antibiotics so you can feel good about giving these delicious nourishing snacks to your family ORIGINAL FLAVOR  These perfectly tender beef sticks are seasoned with a delicious blend of savory spices then slowsmoked for a complex yet smooth craveable flavor the whole family will love INDIVIDUALLY WRAPPED  Packed for convenience these Original Beef Sticks are individually wrapped and easy to toss in your backpack purse or lunch box so youll be ready to nourish and energize during meal time snack time or satisfying a craving time GLUTENFREE SNACKS  These slowsmoked beef sticks are gluten free ketofriendly and have no preservatives added nitratesnitrites or MSG They are made with highquality recognizable ingredients 6G OF PROTEIN  You can count on this premium beef stick to be a good source of protein that will help you tackle the day Its packed with 6g of protein per serving and is a snack that fits into your busy schedule\",\n",
       "  'The New Primal Spicy Beef Stick - (20 Count) 1 oz Meat Stick - 100% Grass-Fed Beef - Whole30 Approved, Certified Paleo, Keto, and Gluten-Free Meat Snack with 6g of Protein and Zero Sugar Your search for the perfect healthy snack ends here Its not the banana it never was When the protein you need and the flavors you crave are portablypackaged that narrows the field Make them smartlysourced highestquality and blissful with every chewy bite Top of the snack podium 100 calories and 6 grams of protein per serving Certified Gluten free Paleo soy free and naturally sweetened with pineapple juice and honey Contains 20  1oz Sticks Made with 100 grassfed beef raised without the use of antibiotics or added hormones Top 8 allergen friendly',\n",
       "  'Jack Links Premium Cuts Beef Steak, Sweet and Hot – Great Protein Snack with 11g of Protein and 4g of Carbs per Serving, Made with Beef, 12 Oz Talk about a versatile epic snack Its sweet Its hot Made from slices of 100 beef the sweet flavor brings out the heat of the pepper to create a slow exciting eat Jack Links Premium Cuts Beef Steak Sweet and Hot is the ultimate protein snack Packed full of 11g of protein per serving snacking on our savory Beef Steak bars are a delicious way to get more protein every day Sweet  Hot Beef Steaks start with carefully selected lean cuts of 100 premium beef Then seasoned marinated and slow smoked over hardwoods for that signature smokey flavor Thats itStick a steak in your backpack your back pocket your jacket pocket Wherever you can conveniently grab it when hunger strikes No refrigeration required its the perfect snack you crave for work home the trails or the lake Jack Links is the Americas 1 selling jerky brand and we are proud to be a familyowned company When you rip open a package of Jack Links you will get a taste of the American tradition that made this family business a success hard work fun and quality products Jack Links protein snacks are the fuel for people to Feed Their Wild Side no matter the occasion FULL OF FLAVOR  Talk about a versatile snack Its sweet Its hot Made from slices of 100 beef the sweet flavor brings out the heat of the pepper to create a slow exciting eat Theyre an epic protein snack youre sure to crave MADE WITH 100 PREMIUM BEEF  Sweet  Hot Beef Steaks start with carefully selected lean cuts of 100 premium beef Then seasoned marinated and slow smoked over hardwoods for that signature smokey flavor Thats it EXCELLENT SOURCE OF PROTEIN  Talk about a protein snack 11g of protein per serving from a deliciously tasty beef steak Thank you meat READYTOEAT BIG PACKS  Stick a steak in your backpack your back pocket your jacket pocket Wherever you can conveniently grab it when hunger strikes No refrigeration required its the perfect snack for work home the trails or the lake 1 SELLING BEEF JERKY BRAND  When you open a bag of Jack Links you get a taste of the American tradition that made this family business a success hard work fun and quality products Our protein snacks are the fuel for people to Feed Their Wild Side']}"
      ]
     },
     "execution_count": 13,
     "metadata": {},
     "output_type": "execute_result"
    }
   ],
   "source": [
    "# Largest Group Info\n",
    "cluster_stats[134]"
   ]
  },
  {
   "cell_type": "code",
   "execution_count": 14,
   "id": "bab169a9-9d95-4974-970c-8afab4b9b8a5",
   "metadata": {},
   "outputs": [],
   "source": [
    "products_df.to_csv(\"labeled_groceries.csv\", index=False)"
   ]
  }
 ],
 "metadata": {
  "kernelspec": {
   "display_name": "DSU",
   "language": "python",
   "name": "python3"
  },
  "language_info": {
   "codemirror_mode": {
    "name": "ipython",
    "version": 3
   },
   "file_extension": ".py",
   "mimetype": "text/x-python",
   "name": "python",
   "nbconvert_exporter": "python",
   "pygments_lexer": "ipython3",
   "version": "3.11.8"
  }
 },
 "nbformat": 4,
 "nbformat_minor": 5
}
