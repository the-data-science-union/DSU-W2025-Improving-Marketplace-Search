{
 "cells": [
  {
   "cell_type": "code",
   "execution_count": 1,
   "id": "d6f470c8-a4d9-4b2d-9179-e01f4e6b7ce5",
   "metadata": {},
   "outputs": [],
   "source": [
    "import torch\n",
    "import random\n",
    "import numpy as np\n",
    "import pandas as pd\n",
    "import matplotlib.pyplot as plt\n",
    "from transformers import AutoTokenizer\n",
    "from tqdm.auto import tqdm\n",
    "from sklearn.model_selection import train_test_split"
   ]
  },
  {
   "cell_type": "code",
   "execution_count": 2,
   "id": "9c692c25-567e-45e9-8795-c06f01ca70fd",
   "metadata": {},
   "outputs": [],
   "source": [
    "class ProductSearchDataset(torch.utils.data.Dataset):\n",
    "    def __init__(self, dataset):\n",
    "        self.data = dataset\n",
    "    \n",
    "    def __len__(self):\n",
    "        return self.data.shape[0]\n",
    "\n",
    "    def __getitem__(self, index):\n",
    "        row = self.data.iloc[index]\n",
    "\n",
    "        # Extract data\n",
    "        product_id = row['id']\n",
    "        product_desc = row['description']\n",
    "        product_cluster = row['label']\n",
    "        \n",
    "        # Get all queries\n",
    "        product_queries = row[['query_1', 'query_2', 'query_3', 'query_4', 'query_5']].values\n",
    "    \n",
    "        # Randomly select one query for training\n",
    "        query = np.random.choice(product_queries)\n",
    "    \n",
    "        return query, product_desc, product_id, product_cluster"
   ]
  },
  {
   "cell_type": "code",
   "execution_count": 3,
   "id": "1d2f527c-2234-417a-9e63-9e992dd73fbe",
   "metadata": {},
   "outputs": [],
   "source": [
    "df = pd.read_csv('data/home_products_with_sample_queries')"
   ]
  },
  {
   "cell_type": "code",
   "execution_count": 4,
   "id": "0bb6c094-fc04-40f4-aa29-3107bbb66996",
   "metadata": {},
   "outputs": [
    {
     "data": {
      "text/html": [
       "<div>\n",
       "<style scoped>\n",
       "    .dataframe tbody tr th:only-of-type {\n",
       "        vertical-align: middle;\n",
       "    }\n",
       "\n",
       "    .dataframe tbody tr th {\n",
       "        vertical-align: top;\n",
       "    }\n",
       "\n",
       "    .dataframe thead th {\n",
       "        text-align: right;\n",
       "    }\n",
       "</style>\n",
       "<table border=\"1\" class=\"dataframe\">\n",
       "  <thead>\n",
       "    <tr style=\"text-align: right;\">\n",
       "      <th></th>\n",
       "      <th>id</th>\n",
       "      <th>title</th>\n",
       "      <th>description</th>\n",
       "      <th>label</th>\n",
       "      <th>query_1</th>\n",
       "      <th>query_2</th>\n",
       "      <th>query_3</th>\n",
       "      <th>query_4</th>\n",
       "      <th>query_5</th>\n",
       "    </tr>\n",
       "  </thead>\n",
       "  <tbody>\n",
       "    <tr>\n",
       "      <th>0</th>\n",
       "      <td>B0BFJL5LD1</td>\n",
       "      <td>VGYVGYCC Outdoor Solar Garden Lights - 2 Pack ...</td>\n",
       "      <td>2022 Newest Version2 pack solar tulip lights a...</td>\n",
       "      <td>12</td>\n",
       "      <td>Large decorative solar lights</td>\n",
       "      <td>Easy to install garden lights</td>\n",
       "      <td>Waterproof outdoor tulip lights</td>\n",
       "      <td>Gift idea for garden decor</td>\n",
       "      <td>High-quality solar tulip lights</td>\n",
       "    </tr>\n",
       "    <tr>\n",
       "      <th>1</th>\n",
       "      <td>B0002H49E4</td>\n",
       "      <td>LEATHERMAN - Standard Nylon Sheath with Pocket...</td>\n",
       "      <td>Product Description This nylon belt sheath is ...</td>\n",
       "      <td>55</td>\n",
       "      <td>Sturdy nylon belt sheath</td>\n",
       "      <td>Sheath for Leatherman Wave</td>\n",
       "      <td>Multitool sheath with pockets</td>\n",
       "      <td>Durable vertical carry sheath</td>\n",
       "      <td>Leatherman Wave belt sheath</td>\n",
       "    </tr>\n",
       "    <tr>\n",
       "      <th>2</th>\n",
       "      <td>B084GYHQFY</td>\n",
       "      <td>Makita MAC210Q Quiet Series, 1 HP, 2 Gallon, O...</td>\n",
       "      <td>Compressors are workhorse tools on the job sit...</td>\n",
       "      <td>31</td>\n",
       "      <td>Makita quiet air compressor</td>\n",
       "      <td>Portable electric air compressor</td>\n",
       "      <td>Lightweight 2-gallon compressor</td>\n",
       "      <td>Oil-free electric compressor</td>\n",
       "      <td>Low-noise air compressor</td>\n",
       "    </tr>\n",
       "    <tr>\n",
       "      <th>3</th>\n",
       "      <td>B09ZP7M7R1</td>\n",
       "      <td>Greenclick Landscape Lighting, 3W 12V Extendab...</td>\n",
       "      <td>Safe Low Voltage Landscape LightsLow voltage l...</td>\n",
       "      <td>35</td>\n",
       "      <td>Safe low voltage landscape lights</td>\n",
       "      <td>Extendable garden spotlights</td>\n",
       "      <td>Bright outdoor Christmas lights</td>\n",
       "      <td>Waterproof garden spotlights</td>\n",
       "      <td>Landscape lighting set with transformer</td>\n",
       "    </tr>\n",
       "    <tr>\n",
       "      <th>4</th>\n",
       "      <td>B0BRGRNK2H</td>\n",
       "      <td>20 oz Big Gap Filler Insulating Foam Sealant (...</td>\n",
       "      <td>Product Description GREAT STUFF Big Gap Filler...</td>\n",
       "      <td>8</td>\n",
       "      <td>Big gap filler foam sealant</td>\n",
       "      <td>Insulating foam for large gaps</td>\n",
       "      <td>Airtight sealant for drafts</td>\n",
       "      <td>Paintable foam insulation</td>\n",
       "      <td>Weather-tight foam sealant</td>\n",
       "    </tr>\n",
       "  </tbody>\n",
       "</table>\n",
       "</div>"
      ],
      "text/plain": [
       "           id                                              title  \\\n",
       "0  B0BFJL5LD1  VGYVGYCC Outdoor Solar Garden Lights - 2 Pack ...   \n",
       "1  B0002H49E4  LEATHERMAN - Standard Nylon Sheath with Pocket...   \n",
       "2  B084GYHQFY  Makita MAC210Q Quiet Series, 1 HP, 2 Gallon, O...   \n",
       "3  B09ZP7M7R1  Greenclick Landscape Lighting, 3W 12V Extendab...   \n",
       "4  B0BRGRNK2H  20 oz Big Gap Filler Insulating Foam Sealant (...   \n",
       "\n",
       "                                         description  label  \\\n",
       "0  2022 Newest Version2 pack solar tulip lights a...     12   \n",
       "1  Product Description This nylon belt sheath is ...     55   \n",
       "2  Compressors are workhorse tools on the job sit...     31   \n",
       "3  Safe Low Voltage Landscape LightsLow voltage l...     35   \n",
       "4  Product Description GREAT STUFF Big Gap Filler...      8   \n",
       "\n",
       "                             query_1                           query_2  \\\n",
       "0      Large decorative solar lights     Easy to install garden lights   \n",
       "1           Sturdy nylon belt sheath        Sheath for Leatherman Wave   \n",
       "2        Makita quiet air compressor  Portable electric air compressor   \n",
       "3  Safe low voltage landscape lights      Extendable garden spotlights   \n",
       "4        Big gap filler foam sealant    Insulating foam for large gaps   \n",
       "\n",
       "                           query_3                        query_4  \\\n",
       "0  Waterproof outdoor tulip lights     Gift idea for garden decor   \n",
       "1    Multitool sheath with pockets  Durable vertical carry sheath   \n",
       "2  Lightweight 2-gallon compressor   Oil-free electric compressor   \n",
       "3  Bright outdoor Christmas lights   Waterproof garden spotlights   \n",
       "4      Airtight sealant for drafts      Paintable foam insulation   \n",
       "\n",
       "                                   query_5  \n",
       "0          High-quality solar tulip lights  \n",
       "1              Leatherman Wave belt sheath  \n",
       "2                 Low-noise air compressor  \n",
       "3  Landscape lighting set with transformer  \n",
       "4               Weather-tight foam sealant  "
      ]
     },
     "execution_count": 4,
     "metadata": {},
     "output_type": "execute_result"
    }
   ],
   "source": [
    "df.head()"
   ]
  },
  {
   "cell_type": "code",
   "execution_count": 5,
   "id": "71011b56-0bf7-4e28-b453-186f6a663c82",
   "metadata": {},
   "outputs": [],
   "source": [
    "train_dataset, val_dataset = train_test_split(df, test_size=0.2, random_state=3478)\n",
    "train_dataset.reset_index(drop=True, inplace=True)\n",
    "val_dataset.reset_index(drop=True, inplace=True)"
   ]
  },
  {
   "cell_type": "code",
   "execution_count": 6,
   "id": "f5f18e8c-f120-4caa-b583-b93f729672c5",
   "metadata": {},
   "outputs": [],
   "source": [
    "class QueryEncoder(torch.nn.Module):\n",
    "    def __init__(self, vocab_size, embed_dim, output_embed_dim):\n",
    "        super().__init__()\n",
    "        self.embedding_layer = torch.nn.Embedding(vocab_size, embed_dim)\n",
    "        # Use fewer transformer layers for queries since they're shorter\n",
    "        self.encoder = torch.nn.TransformerEncoder(\n",
    "            torch.nn.TransformerEncoderLayer(embed_dim, nhead=8, batch_first=True),\n",
    "            num_layers=2,\n",
    "            norm=torch.nn.LayerNorm([embed_dim]),\n",
    "            enable_nested_tensor=False\n",
    "        )\n",
    "        self.projection = torch.nn.Linear(embed_dim, output_embed_dim)\n",
    "        \n",
    "    def forward(self, tokenizer_output):\n",
    "        # Move inputs to the same device as the model\n",
    "        input_ids = tokenizer_output['input_ids'].to(self.embedding_layer.weight.device)\n",
    "        attention_mask = tokenizer_output['attention_mask'].to(self.embedding_layer.weight.device)\n",
    "        \n",
    "        x = self.embedding_layer(input_ids)\n",
    "        x = self.encoder(x, src_key_padding_mask=attention_mask.logical_not())\n",
    "        # Use mean pooling instead of CLS token for queries\n",
    "        # This helps capture information from all tokens in short queries\n",
    "        mask_expanded = attention_mask.unsqueeze(-1).expand(x.size())\n",
    "        sum_embeddings = torch.sum(x * mask_expanded, 1)\n",
    "        sum_mask = torch.sum(mask_expanded, 1)\n",
    "        mean_embeddings = sum_embeddings / sum_mask\n",
    "        return self.projection(mean_embeddings)"
   ]
  },
  {
   "cell_type": "code",
   "execution_count": 7,
   "id": "4c2dc873-a810-4bc2-bca3-aa8ccccdbbe3",
   "metadata": {},
   "outputs": [],
   "source": [
    "class ProductEncoder(torch.nn.Module):\n",
    "    def __init__(self, vocab_size, embed_dim, output_embed_dim):\n",
    "        super().__init__()\n",
    "        self.embedding_layer = torch.nn.Embedding(vocab_size, embed_dim)\n",
    "        # Use more transformer layers for product descriptions since they're longer\n",
    "        self.encoder = torch.nn.TransformerEncoder(\n",
    "            torch.nn.TransformerEncoderLayer(embed_dim, nhead=8, batch_first=True),\n",
    "            num_layers=4,\n",
    "            norm=torch.nn.LayerNorm([embed_dim]),\n",
    "            enable_nested_tensor=False\n",
    "        )\n",
    "        self.projection = torch.nn.Linear(embed_dim, output_embed_dim)\n",
    "        \n",
    "    def forward(self, tokenizer_output):\n",
    "        # Move inputs to the same device as the model\n",
    "        input_ids = tokenizer_output['input_ids'].to(self.embedding_layer.weight.device)\n",
    "        attention_mask = tokenizer_output['attention_mask'].to(self.embedding_layer.weight.device)\n",
    "        \n",
    "        x = self.embedding_layer(input_ids)\n",
    "        x = self.encoder(x, src_key_padding_mask=attention_mask.logical_not())\n",
    "        # Use CLS token for product descriptions\n",
    "        cls_embed = x[:,0,:]\n",
    "        return self.projection(cls_embed)"
   ]
  },
  {
   "cell_type": "code",
   "execution_count": 8,
   "id": "701efe34-c894-4201-add2-47cdb8295dc5",
   "metadata": {},
   "outputs": [],
   "source": [
    "def batch_hard_negative_sampling(product_ids, cluster_ids, product_embeddings, num_negatives=1):\n",
    "    \"\"\"\n",
    "    Sample hard negatives from the current batch, ensuring negatives come from different clusters.\n",
    "\n",
    "    Args:\n",
    "        product_ids (list): List of product IDs in the batch.\n",
    "        cluster_ids (list): List of corresponding cluster IDs in the batch.\n",
    "        product_embeddings (torch.Tensor): Tensor of product embeddings in the batch [batch_size, embed_dim].\n",
    "        num_negatives (int): Number of negatives per query.\n",
    "\n",
    "    Returns:\n",
    "        neg_embeddings (torch.Tensor): Tensor of hard negative product embeddings [batch_size, num_negatives, embed_dim].\n",
    "    \"\"\"\n",
    "    batch_size = len(product_ids)\n",
    "    neg_samples = []\n",
    "\n",
    "    for i in range(batch_size):\n",
    "        # Get current cluster ID\n",
    "        current_cluster = cluster_ids[i]\n",
    "\n",
    "        # Find indices of products in the batch from a different cluster\n",
    "        negative_indices = [j for j in range(batch_size) if cluster_ids[j] != current_cluster]\n",
    "\n",
    "        # Sample negatives\n",
    "        sampled_negatives = random.sample(negative_indices, num_negatives)\n",
    "        \n",
    "        # Store their embeddings\n",
    "        neg_samples.append(product_embeddings[sampled_negatives])\n",
    "\n",
    "    # Stack negatives into a tensor [batch_size, num_negatives, embed_dim]\n",
    "    neg_embeddings = torch.stack(neg_samples).to(product_embeddings.device)\n",
    "    \n",
    "    return neg_embeddings"
   ]
  },
  {
   "cell_type": "code",
   "execution_count": 9,
   "id": "8a9e2be2-57da-433d-b502-822c132d6d47",
   "metadata": {},
   "outputs": [],
   "source": [
    "def evaluate_model(query_encoder, product_encoder, eval_dataset, tokenizer, query_max_len, product_max_len, k=10, device='cuda'):\n",
    "    \"\"\"\n",
    "    Evaluate the model on the evaluation dataset\n",
    "    \n",
    "    Args:\n",
    "        query_encoder: Query encoder model\n",
    "        product_encoder: Product encoder model\n",
    "        eval_dataset: Evaluation dataset\n",
    "        tokenizer: Tokenizer\n",
    "        query_max_len: Maximum query length\n",
    "        product_max_len: Maximum product description length\n",
    "        k: Number of top results to consider for metrics\n",
    "        device: Device to use for computations\n",
    "    \"\"\"\n",
    "    query_encoder.eval()\n",
    "    product_encoder.eval()\n",
    "    \n",
    "    # Create evaluation dataloader\n",
    "    eval_dataloader = torch.utils.data.DataLoader(eval_dataset, batch_size=8, shuffle=False)\n",
    "    \n",
    "    # First pass: encode all products\n",
    "    all_product_ids = []\n",
    "    all_product_embeddings = []\n",
    "    \n",
    "    with torch.no_grad():\n",
    "        for batch_data in tqdm(eval_dataloader, desc=\"Encoding Products\"):\n",
    "            _, product_descs, product_ids, _ = batch_data\n",
    "            \n",
    "            product_tokens = tokenizer(\n",
    "                product_descs, \n",
    "                padding=True, \n",
    "                truncation=True, \n",
    "                return_tensors=\"pt\", \n",
    "                max_length=product_max_len\n",
    "            )\n",
    "            \n",
    "            product_embeddings = product_encoder(product_tokens)\n",
    "            product_embeddings = torch.nn.functional.normalize(product_embeddings, p=2, dim=1)\n",
    "            \n",
    "            all_product_ids.extend(product_ids)\n",
    "            all_product_embeddings.append(product_embeddings.cpu())  # Move to CPU to save GPU memory\n",
    "    \n",
    "    # Concatenate all product embeddings\n",
    "    all_product_embeddings = torch.cat(all_product_embeddings, dim=0)\n",
    "    \n",
    "    # Second pass: evaluate queries\n",
    "    total_queries = 0\n",
    "    hits_at_k = 0\n",
    "    mrr = 0.0  # Mean Reciprocal Rank\n",
    "    \n",
    "    with torch.no_grad():\n",
    "        for batch_data in tqdm(eval_dataloader, desc=\"Evaluating Queries\"):\n",
    "            queries, _, product_ids, _ = batch_data\n",
    "            \n",
    "            query_tokens = tokenizer(\n",
    "                queries, \n",
    "                padding=True, \n",
    "                truncation=True, \n",
    "                return_tensors=\"pt\", \n",
    "                max_length=query_max_len\n",
    "            )\n",
    "            \n",
    "            query_embeddings = query_encoder(query_tokens)\n",
    "            query_embeddings = torch.nn.functional.normalize(query_embeddings, p=2, dim=1)\n",
    "            \n",
    "            # Move query embeddings to CPU for comparison with all products\n",
    "            query_embeddings_cpu = query_embeddings.cpu()\n",
    "            \n",
    "            # Compute similarities with all products\n",
    "            similarities = query_embeddings_cpu @ all_product_embeddings.T\n",
    "            \n",
    "            # Get top-k indices\n",
    "            _, top_indices = torch.topk(similarities, k=k, dim=1)\n",
    "            \n",
    "            # Convert to list for evaluation\n",
    "            for i, (query_id, true_product_id) in enumerate(zip(range(len(queries)), product_ids)):\n",
    "                total_queries += 1\n",
    "                top_k_product_ids = [all_product_ids[idx] for idx in top_indices[i].tolist()]\n",
    "                \n",
    "                # Check if true product is in top-k\n",
    "                if true_product_id in top_k_product_ids:\n",
    "                    hits_at_k += 1\n",
    "                    # Calculate reciprocal rank\n",
    "                    rank = top_k_product_ids.index(true_product_id) + 1\n",
    "                    mrr += 1.0 / rank\n",
    "    \n",
    "    # Calculate metrics\n",
    "    hits_at_k_rate = hits_at_k / total_queries if total_queries > 0 else 0\n",
    "    mrr = mrr / total_queries if total_queries > 0 else 0\n",
    "    \n",
    "    print(f\"Evaluation Metrics:\")\n",
    "    print(f\"Hits@{k}: {hits_at_k_rate:.4f}\")\n",
    "    print(f\"MRR: {mrr:.4f}\")\n",
    "\n",
    "    return hits_at_k_rate, mrr"
   ]
  },
  {
   "cell_type": "code",
   "execution_count": 10,
   "id": "c81fb641-60e6-4a37-9bfb-958947bf851e",
   "metadata": {},
   "outputs": [],
   "source": [
    "def in_batch_negative_sampling_loss(query_embeddings, product_embeddings, negative_embeddings, temperature=0.1):\n",
    "    \"\"\"\n",
    "    Compute in-batch negative sampling loss (InfoNCE loss) with hard negatives.\n",
    "\n",
    "    Args:\n",
    "        query_embeddings: Query embeddings [batch_size, embed_dim]\n",
    "        product_embeddings: Product embeddings [batch_size, embed_dim]\n",
    "        negative_embeddings: Hard negative product embeddings [batch_size, embed_dim]\n",
    "        temperature: Temperature parameter for softmax.\n",
    "\n",
    "    Returns:\n",
    "        loss: InfoNCE loss\n",
    "    \"\"\"\n",
    "    batch_size = query_embeddings.shape[0]\n",
    "\n",
    "    # Squeeze negative embeddings to remove the unnecessary dimension\n",
    "    negative_embeddings = negative_embeddings.squeeze(1)\n",
    "\n",
    "    # Compute similarity scores\n",
    "    positive_sim = (query_embeddings * product_embeddings).sum(dim=1) / temperature\n",
    "    negative_sim = (query_embeddings @ negative_embeddings.T) / temperature  # Hard negatives\n",
    "\n",
    "    # Stack positives and negatives\n",
    "    logits = torch.cat([positive_sim.unsqueeze(1), negative_sim], dim=1)\n",
    "\n",
    "    # Labels: First column (positive pair) is correct\n",
    "    labels = torch.zeros(batch_size, dtype=torch.long, device=query_embeddings.device)\n",
    "\n",
    "    # Compute loss\n",
    "    loss = torch.nn.functional.cross_entropy(logits, labels)\n",
    "\n",
    "    return loss"
   ]
  },
  {
   "cell_type": "code",
   "execution_count": 11,
   "id": "fca84a20-121a-48b7-9fe1-8cb70aae6494",
   "metadata": {},
   "outputs": [],
   "source": [
    "def train_embedding_model(dataset, num_epochs=10, learning_rate=1e-4, eval_dataset=None, patience=10):\n",
    "    device = torch.device('cuda' if torch.cuda.is_available() else 'cpu')\n",
    "    print(f\"Using device: {device}\")\n",
    "\n",
    "    dataset = ProductSearchDataset(dataset)\n",
    "    eval_dataset = ProductSearchDataset(eval_dataset)\n",
    "\n",
    "    embed_size = 512\n",
    "    output_embed_size = 128\n",
    "    query_max_len = 32\n",
    "    product_max_len = 512\n",
    "    batch_size = 8\n",
    "\n",
    "    tokenizer = AutoTokenizer.from_pretrained('bert-base-uncased')\n",
    "\n",
    "    # Initialize encoders\n",
    "    query_encoder = QueryEncoder(vocab_size=tokenizer.vocab_size, embed_dim=embed_size, output_embed_dim=output_embed_size).to(device)\n",
    "    product_encoder = ProductEncoder(vocab_size=tokenizer.vocab_size, embed_dim=embed_size, output_embed_dim=output_embed_size).to(device)\n",
    "\n",
    "    dataloader = torch.utils.data.DataLoader(dataset, batch_size=batch_size, shuffle=True)\n",
    "    optimizer = torch.optim.Adam(list(query_encoder.parameters()) + list(product_encoder.parameters()), lr=learning_rate)\n",
    "\n",
    "    scaler = torch.amp.GradScaler(device)\n",
    "    scheduler = torch.optim.lr_scheduler.ReduceLROnPlateau(optimizer, mode='min', factor=0.5, patience=2)\n",
    "\n",
    "    total_steps = len(dataloader) * num_epochs\n",
    "    main_progress_bar = tqdm(total=total_steps, desc=\"Training Progress\", position=0)\n",
    "\n",
    "    best_hits = 0\n",
    "    patience_counter = 0\n",
    "    best_query_encoder_weights = None\n",
    "    best_product_encoder_weights = None\n",
    "\n",
    "    \n",
    "    hits_log = []\n",
    "    mrr_log = []\n",
    "    \n",
    "    for epoch in range(num_epochs):\n",
    "        # Early stopping check\n",
    "        if patience_counter == patience:\n",
    "            break\n",
    "        \n",
    "        query_encoder.train()\n",
    "        product_encoder.train()\n",
    "        epoch_loss = []\n",
    "\n",
    "        epoch_desc = f\"Epoch {epoch+1}/{num_epochs}\"\n",
    "        epoch_progress = tqdm(dataloader, desc=epoch_desc, leave=False, position=1)\n",
    "\n",
    "        for batch_idx, batch_data in enumerate(epoch_progress):\n",
    "            queries, product_descs, product_ids, cluster_ids = batch_data\n",
    "\n",
    "            query_tokens = tokenizer(queries, padding=True, truncation=True, return_tensors=\"pt\", max_length=query_max_len).to(device)\n",
    "            product_tokens = tokenizer(product_descs, padding=True, truncation=True, return_tensors=\"pt\", max_length=product_max_len).to(device)\n",
    "\n",
    "            with torch.amp.autocast(device.type):\n",
    "                query_embeddings = query_encoder(query_tokens)\n",
    "                product_embeddings = product_encoder(product_tokens)\n",
    "\n",
    "                query_embeddings = torch.nn.functional.normalize(query_embeddings, p=2, dim=1)\n",
    "                product_embeddings = torch.nn.functional.normalize(product_embeddings, p=2, dim=1)\n",
    "\n",
    "                # Get hard negatives from the batch\n",
    "                negative_embeddings = batch_hard_negative_sampling(product_ids, cluster_ids, product_embeddings, num_negatives=1)\n",
    "\n",
    "                loss = in_batch_negative_sampling_loss(query_embeddings, product_embeddings, negative_embeddings)\n",
    "\n",
    "            epoch_loss.append(loss.item())\n",
    "\n",
    "            optimizer.zero_grad()\n",
    "            scaler.scale(loss).backward()\n",
    "            scaler.step(optimizer)\n",
    "            scaler.update()\n",
    "\n",
    "            main_progress_bar.update(1)\n",
    "            epoch_progress.set_postfix({\"loss\": f\"{loss.item():.4f}\"})\n",
    "\n",
    "        avg_loss = np.mean(epoch_loss)\n",
    "        print(f\"\\nEpoch {epoch+1}/{num_epochs}, Average Loss: {avg_loss:.4f}\")\n",
    "\n",
    "        scheduler.step(avg_loss)\n",
    "\n",
    "        if eval_dataset is not None:\n",
    "            print(\"\\nEvaluating model...\")\n",
    "            hits_in_top_k, mrr = evaluate_model(query_encoder, product_encoder, eval_dataset, tokenizer, query_max_len, product_max_len, device=device)\n",
    "            if hits_in_top_k > best_hits:\n",
    "                best_hits = hits_in_top_k\n",
    "                best_query_encoder_weights = query_encoder.state_dict()\n",
    "                best_product_encoder_weights = product_encoder.state_dict()\n",
    "                patience_counter = 0\n",
    "            else:\n",
    "                patience_counter += 1\n",
    "            hits_log.append(hits_in_top_k)\n",
    "            mrr_log.append(mrr)\n",
    "\n",
    "    main_progress_bar.close()\n",
    "\n",
    "    # Load the model weights with the best validation hits\n",
    "    query_encoder.load_state_dict(best_query_encoder_weights)\n",
    "    product_encoder.load_state_dict(best_product_encoder_weights)\n",
    "\n",
    "    return query_encoder, product_encoder, hits_log, mrr_log"
   ]
  },
  {
   "cell_type": "code",
   "execution_count": 12,
   "id": "fe31f5f5-24f8-44dd-ba20-60f011bf6814",
   "metadata": {},
   "outputs": [
    {
     "name": "stdout",
     "output_type": "stream",
     "text": [
      "Using device: cuda\n"
     ]
    },
    {
     "data": {
      "application/vnd.jupyter.widget-view+json": {
       "model_id": "ad34a5ded7d9471196094f25daa9dc97",
       "version_major": 2,
       "version_minor": 0
      },
      "text/plain": [
       "Training Progress:   0%|          | 0/3000 [00:00<?, ?it/s]"
      ]
     },
     "metadata": {},
     "output_type": "display_data"
    },
    {
     "data": {
      "application/vnd.jupyter.widget-view+json": {
       "model_id": "",
       "version_major": 2,
       "version_minor": 0
      },
      "text/plain": [
       "Epoch 1/100:   0%|          | 0/30 [00:00<?, ?it/s]"
      ]
     },
     "metadata": {},
     "output_type": "display_data"
    },
    {
     "name": "stdout",
     "output_type": "stream",
     "text": [
      "\n",
      "Epoch 1/100, Average Loss: 2.1792\n",
      "\n",
      "Evaluating model...\n"
     ]
    },
    {
     "data": {
      "application/vnd.jupyter.widget-view+json": {
       "model_id": "7a760190f6234af48aec9ccd75790dd1",
       "version_major": 2,
       "version_minor": 0
      },
      "text/plain": [
       "Encoding Products:   0%|          | 0/8 [00:00<?, ?it/s]"
      ]
     },
     "metadata": {},
     "output_type": "display_data"
    },
    {
     "data": {
      "application/vnd.jupyter.widget-view+json": {
       "model_id": "d051db4713de4bf894c824220a1ee802",
       "version_major": 2,
       "version_minor": 0
      },
      "text/plain": [
       "Evaluating Queries:   0%|          | 0/8 [00:00<?, ?it/s]"
      ]
     },
     "metadata": {},
     "output_type": "display_data"
    },
    {
     "name": "stdout",
     "output_type": "stream",
     "text": [
      "Evaluation Metrics:\n",
      "Hits@10: 0.1695\n",
      "MRR: 0.0485\n"
     ]
    },
    {
     "data": {
      "application/vnd.jupyter.widget-view+json": {
       "model_id": "",
       "version_major": 2,
       "version_minor": 0
      },
      "text/plain": [
       "Epoch 2/100:   0%|          | 0/30 [00:00<?, ?it/s]"
      ]
     },
     "metadata": {},
     "output_type": "display_data"
    },
    {
     "name": "stdout",
     "output_type": "stream",
     "text": [
      "\n",
      "Epoch 2/100, Average Loss: 2.1781\n",
      "\n",
      "Evaluating model...\n"
     ]
    },
    {
     "data": {
      "application/vnd.jupyter.widget-view+json": {
       "model_id": "8633854f57714553b4177b2a0a32a02f",
       "version_major": 2,
       "version_minor": 0
      },
      "text/plain": [
       "Encoding Products:   0%|          | 0/8 [00:00<?, ?it/s]"
      ]
     },
     "metadata": {},
     "output_type": "display_data"
    },
    {
     "data": {
      "application/vnd.jupyter.widget-view+json": {
       "model_id": "e31f2f9217134e3db92e0fb449d53662",
       "version_major": 2,
       "version_minor": 0
      },
      "text/plain": [
       "Evaluating Queries:   0%|          | 0/8 [00:00<?, ?it/s]"
      ]
     },
     "metadata": {},
     "output_type": "display_data"
    },
    {
     "name": "stdout",
     "output_type": "stream",
     "text": [
      "Evaluation Metrics:\n",
      "Hits@10: 0.1864\n",
      "MRR: 0.0515\n"
     ]
    },
    {
     "data": {
      "application/vnd.jupyter.widget-view+json": {
       "model_id": "",
       "version_major": 2,
       "version_minor": 0
      },
      "text/plain": [
       "Epoch 3/100:   0%|          | 0/30 [00:00<?, ?it/s]"
      ]
     },
     "metadata": {},
     "output_type": "display_data"
    },
    {
     "name": "stdout",
     "output_type": "stream",
     "text": [
      "\n",
      "Epoch 3/100, Average Loss: 2.1860\n",
      "\n",
      "Evaluating model...\n"
     ]
    },
    {
     "data": {
      "application/vnd.jupyter.widget-view+json": {
       "model_id": "45a7d840f692464d86f0720fd9099973",
       "version_major": 2,
       "version_minor": 0
      },
      "text/plain": [
       "Encoding Products:   0%|          | 0/8 [00:00<?, ?it/s]"
      ]
     },
     "metadata": {},
     "output_type": "display_data"
    },
    {
     "data": {
      "application/vnd.jupyter.widget-view+json": {
       "model_id": "fc41b0a6ee6d4b79b8d2bbcbce1364de",
       "version_major": 2,
       "version_minor": 0
      },
      "text/plain": [
       "Evaluating Queries:   0%|          | 0/8 [00:00<?, ?it/s]"
      ]
     },
     "metadata": {},
     "output_type": "display_data"
    },
    {
     "name": "stdout",
     "output_type": "stream",
     "text": [
      "Evaluation Metrics:\n",
      "Hits@10: 0.2203\n",
      "MRR: 0.0548\n"
     ]
    },
    {
     "data": {
      "application/vnd.jupyter.widget-view+json": {
       "model_id": "",
       "version_major": 2,
       "version_minor": 0
      },
      "text/plain": [
       "Epoch 4/100:   0%|          | 0/30 [00:00<?, ?it/s]"
      ]
     },
     "metadata": {},
     "output_type": "display_data"
    },
    {
     "name": "stdout",
     "output_type": "stream",
     "text": [
      "\n",
      "Epoch 4/100, Average Loss: 2.1616\n",
      "\n",
      "Evaluating model...\n"
     ]
    },
    {
     "data": {
      "application/vnd.jupyter.widget-view+json": {
       "model_id": "a3d9256d126b41709faef5ed8c888cb2",
       "version_major": 2,
       "version_minor": 0
      },
      "text/plain": [
       "Encoding Products:   0%|          | 0/8 [00:00<?, ?it/s]"
      ]
     },
     "metadata": {},
     "output_type": "display_data"
    },
    {
     "data": {
      "application/vnd.jupyter.widget-view+json": {
       "model_id": "29746b4821784354842244f1a2791ccc",
       "version_major": 2,
       "version_minor": 0
      },
      "text/plain": [
       "Evaluating Queries:   0%|          | 0/8 [00:00<?, ?it/s]"
      ]
     },
     "metadata": {},
     "output_type": "display_data"
    },
    {
     "name": "stdout",
     "output_type": "stream",
     "text": [
      "Evaluation Metrics:\n",
      "Hits@10: 0.2881\n",
      "MRR: 0.0972\n"
     ]
    },
    {
     "data": {
      "application/vnd.jupyter.widget-view+json": {
       "model_id": "",
       "version_major": 2,
       "version_minor": 0
      },
      "text/plain": [
       "Epoch 5/100:   0%|          | 0/30 [00:00<?, ?it/s]"
      ]
     },
     "metadata": {},
     "output_type": "display_data"
    },
    {
     "name": "stdout",
     "output_type": "stream",
     "text": [
      "\n",
      "Epoch 5/100, Average Loss: 2.0728\n",
      "\n",
      "Evaluating model...\n"
     ]
    },
    {
     "data": {
      "application/vnd.jupyter.widget-view+json": {
       "model_id": "4461b2a0bf8d4988a7baff4d68d83367",
       "version_major": 2,
       "version_minor": 0
      },
      "text/plain": [
       "Encoding Products:   0%|          | 0/8 [00:00<?, ?it/s]"
      ]
     },
     "metadata": {},
     "output_type": "display_data"
    },
    {
     "data": {
      "application/vnd.jupyter.widget-view+json": {
       "model_id": "c9ff8ef2983049ef85768e6da43b4be8",
       "version_major": 2,
       "version_minor": 0
      },
      "text/plain": [
       "Evaluating Queries:   0%|          | 0/8 [00:00<?, ?it/s]"
      ]
     },
     "metadata": {},
     "output_type": "display_data"
    },
    {
     "name": "stdout",
     "output_type": "stream",
     "text": [
      "Evaluation Metrics:\n",
      "Hits@10: 0.3220\n",
      "MRR: 0.1063\n"
     ]
    },
    {
     "data": {
      "application/vnd.jupyter.widget-view+json": {
       "model_id": "",
       "version_major": 2,
       "version_minor": 0
      },
      "text/plain": [
       "Epoch 6/100:   0%|          | 0/30 [00:00<?, ?it/s]"
      ]
     },
     "metadata": {},
     "output_type": "display_data"
    },
    {
     "name": "stdout",
     "output_type": "stream",
     "text": [
      "\n",
      "Epoch 6/100, Average Loss: 2.0545\n",
      "\n",
      "Evaluating model...\n"
     ]
    },
    {
     "data": {
      "application/vnd.jupyter.widget-view+json": {
       "model_id": "e7578efcf1a7494f953e201a46115aa6",
       "version_major": 2,
       "version_minor": 0
      },
      "text/plain": [
       "Encoding Products:   0%|          | 0/8 [00:00<?, ?it/s]"
      ]
     },
     "metadata": {},
     "output_type": "display_data"
    },
    {
     "data": {
      "application/vnd.jupyter.widget-view+json": {
       "model_id": "46420962d0524249bbae8282770ccbd8",
       "version_major": 2,
       "version_minor": 0
      },
      "text/plain": [
       "Evaluating Queries:   0%|          | 0/8 [00:00<?, ?it/s]"
      ]
     },
     "metadata": {},
     "output_type": "display_data"
    },
    {
     "name": "stdout",
     "output_type": "stream",
     "text": [
      "Evaluation Metrics:\n",
      "Hits@10: 0.3220\n",
      "MRR: 0.1039\n"
     ]
    },
    {
     "data": {
      "application/vnd.jupyter.widget-view+json": {
       "model_id": "",
       "version_major": 2,
       "version_minor": 0
      },
      "text/plain": [
       "Epoch 7/100:   0%|          | 0/30 [00:00<?, ?it/s]"
      ]
     },
     "metadata": {},
     "output_type": "display_data"
    },
    {
     "name": "stdout",
     "output_type": "stream",
     "text": [
      "\n",
      "Epoch 7/100, Average Loss: 1.9718\n",
      "\n",
      "Evaluating model...\n"
     ]
    },
    {
     "data": {
      "application/vnd.jupyter.widget-view+json": {
       "model_id": "0c483bd290e24d1a88b516744dd3ae13",
       "version_major": 2,
       "version_minor": 0
      },
      "text/plain": [
       "Encoding Products:   0%|          | 0/8 [00:00<?, ?it/s]"
      ]
     },
     "metadata": {},
     "output_type": "display_data"
    },
    {
     "data": {
      "application/vnd.jupyter.widget-view+json": {
       "model_id": "7a2367dd9f1c450aa710154769b1c046",
       "version_major": 2,
       "version_minor": 0
      },
      "text/plain": [
       "Evaluating Queries:   0%|          | 0/8 [00:00<?, ?it/s]"
      ]
     },
     "metadata": {},
     "output_type": "display_data"
    },
    {
     "name": "stdout",
     "output_type": "stream",
     "text": [
      "Evaluation Metrics:\n",
      "Hits@10: 0.3220\n",
      "MRR: 0.1109\n"
     ]
    },
    {
     "data": {
      "application/vnd.jupyter.widget-view+json": {
       "model_id": "",
       "version_major": 2,
       "version_minor": 0
      },
      "text/plain": [
       "Epoch 8/100:   0%|          | 0/30 [00:00<?, ?it/s]"
      ]
     },
     "metadata": {},
     "output_type": "display_data"
    },
    {
     "name": "stdout",
     "output_type": "stream",
     "text": [
      "\n",
      "Epoch 8/100, Average Loss: 1.9385\n",
      "\n",
      "Evaluating model...\n"
     ]
    },
    {
     "data": {
      "application/vnd.jupyter.widget-view+json": {
       "model_id": "cf3be27abbdd468e81d4ca60c2d2ae80",
       "version_major": 2,
       "version_minor": 0
      },
      "text/plain": [
       "Encoding Products:   0%|          | 0/8 [00:00<?, ?it/s]"
      ]
     },
     "metadata": {},
     "output_type": "display_data"
    },
    {
     "data": {
      "application/vnd.jupyter.widget-view+json": {
       "model_id": "f26132fb067d49669c047d8b2347cdb4",
       "version_major": 2,
       "version_minor": 0
      },
      "text/plain": [
       "Evaluating Queries:   0%|          | 0/8 [00:00<?, ?it/s]"
      ]
     },
     "metadata": {},
     "output_type": "display_data"
    },
    {
     "name": "stdout",
     "output_type": "stream",
     "text": [
      "Evaluation Metrics:\n",
      "Hits@10: 0.3220\n",
      "MRR: 0.1039\n"
     ]
    },
    {
     "data": {
      "application/vnd.jupyter.widget-view+json": {
       "model_id": "",
       "version_major": 2,
       "version_minor": 0
      },
      "text/plain": [
       "Epoch 9/100:   0%|          | 0/30 [00:00<?, ?it/s]"
      ]
     },
     "metadata": {},
     "output_type": "display_data"
    },
    {
     "name": "stdout",
     "output_type": "stream",
     "text": [
      "\n",
      "Epoch 9/100, Average Loss: 1.8055\n",
      "\n",
      "Evaluating model...\n"
     ]
    },
    {
     "data": {
      "application/vnd.jupyter.widget-view+json": {
       "model_id": "4ed43c0fc68a42a19e67881cbc05a57f",
       "version_major": 2,
       "version_minor": 0
      },
      "text/plain": [
       "Encoding Products:   0%|          | 0/8 [00:00<?, ?it/s]"
      ]
     },
     "metadata": {},
     "output_type": "display_data"
    },
    {
     "data": {
      "application/vnd.jupyter.widget-view+json": {
       "model_id": "76d6c0b8ece646d4898504cac9d7791f",
       "version_major": 2,
       "version_minor": 0
      },
      "text/plain": [
       "Evaluating Queries:   0%|          | 0/8 [00:00<?, ?it/s]"
      ]
     },
     "metadata": {},
     "output_type": "display_data"
    },
    {
     "name": "stdout",
     "output_type": "stream",
     "text": [
      "Evaluation Metrics:\n",
      "Hits@10: 0.2881\n",
      "MRR: 0.0732\n"
     ]
    },
    {
     "data": {
      "application/vnd.jupyter.widget-view+json": {
       "model_id": "",
       "version_major": 2,
       "version_minor": 0
      },
      "text/plain": [
       "Epoch 10/100:   0%|          | 0/30 [00:00<?, ?it/s]"
      ]
     },
     "metadata": {},
     "output_type": "display_data"
    },
    {
     "name": "stdout",
     "output_type": "stream",
     "text": [
      "\n",
      "Epoch 10/100, Average Loss: 1.7565\n",
      "\n",
      "Evaluating model...\n"
     ]
    },
    {
     "data": {
      "application/vnd.jupyter.widget-view+json": {
       "model_id": "4685925cc7114aaab840de3ba89839de",
       "version_major": 2,
       "version_minor": 0
      },
      "text/plain": [
       "Encoding Products:   0%|          | 0/8 [00:00<?, ?it/s]"
      ]
     },
     "metadata": {},
     "output_type": "display_data"
    },
    {
     "data": {
      "application/vnd.jupyter.widget-view+json": {
       "model_id": "33b998774d204d9eb19df1bddc3ca2a5",
       "version_major": 2,
       "version_minor": 0
      },
      "text/plain": [
       "Evaluating Queries:   0%|          | 0/8 [00:00<?, ?it/s]"
      ]
     },
     "metadata": {},
     "output_type": "display_data"
    },
    {
     "name": "stdout",
     "output_type": "stream",
     "text": [
      "Evaluation Metrics:\n",
      "Hits@10: 0.4068\n",
      "MRR: 0.1207\n"
     ]
    },
    {
     "data": {
      "application/vnd.jupyter.widget-view+json": {
       "model_id": "76eea51b426a4ad088bef57fab1038a7",
       "version_major": 2,
       "version_minor": 0
      },
      "text/plain": [
       "Epoch 11/100:   0%|          | 0/30 [00:00<?, ?it/s]"
      ]
     },
     "metadata": {},
     "output_type": "display_data"
    },
    {
     "name": "stdout",
     "output_type": "stream",
     "text": [
      "\n",
      "Epoch 11/100, Average Loss: 1.8054\n",
      "\n",
      "Evaluating model...\n"
     ]
    },
    {
     "data": {
      "application/vnd.jupyter.widget-view+json": {
       "model_id": "59b8d690921c4509a0e1cb79f5badc72",
       "version_major": 2,
       "version_minor": 0
      },
      "text/plain": [
       "Encoding Products:   0%|          | 0/8 [00:00<?, ?it/s]"
      ]
     },
     "metadata": {},
     "output_type": "display_data"
    },
    {
     "data": {
      "application/vnd.jupyter.widget-view+json": {
       "model_id": "028893abc2c14c938f2a290f32b3b089",
       "version_major": 2,
       "version_minor": 0
      },
      "text/plain": [
       "Evaluating Queries:   0%|          | 0/8 [00:00<?, ?it/s]"
      ]
     },
     "metadata": {},
     "output_type": "display_data"
    },
    {
     "name": "stdout",
     "output_type": "stream",
     "text": [
      "Evaluation Metrics:\n",
      "Hits@10: 0.4237\n",
      "MRR: 0.1397\n"
     ]
    },
    {
     "data": {
      "application/vnd.jupyter.widget-view+json": {
       "model_id": "469773f3598e434d91fcd82f7517ab65",
       "version_major": 2,
       "version_minor": 0
      },
      "text/plain": [
       "Epoch 12/100:   0%|          | 0/30 [00:00<?, ?it/s]"
      ]
     },
     "metadata": {},
     "output_type": "display_data"
    },
    {
     "name": "stdout",
     "output_type": "stream",
     "text": [
      "\n",
      "Epoch 12/100, Average Loss: 1.7210\n",
      "\n",
      "Evaluating model...\n"
     ]
    },
    {
     "data": {
      "application/vnd.jupyter.widget-view+json": {
       "model_id": "64f450e6444b43a884de8d919ed67582",
       "version_major": 2,
       "version_minor": 0
      },
      "text/plain": [
       "Encoding Products:   0%|          | 0/8 [00:00<?, ?it/s]"
      ]
     },
     "metadata": {},
     "output_type": "display_data"
    },
    {
     "data": {
      "application/vnd.jupyter.widget-view+json": {
       "model_id": "7698c7fbb46a4b39a47a695c105ecd57",
       "version_major": 2,
       "version_minor": 0
      },
      "text/plain": [
       "Evaluating Queries:   0%|          | 0/8 [00:00<?, ?it/s]"
      ]
     },
     "metadata": {},
     "output_type": "display_data"
    },
    {
     "name": "stdout",
     "output_type": "stream",
     "text": [
      "Evaluation Metrics:\n",
      "Hits@10: 0.3729\n",
      "MRR: 0.1242\n"
     ]
    },
    {
     "data": {
      "application/vnd.jupyter.widget-view+json": {
       "model_id": "04fd2e8723214b84849d2a0e2677ef20",
       "version_major": 2,
       "version_minor": 0
      },
      "text/plain": [
       "Epoch 13/100:   0%|          | 0/30 [00:00<?, ?it/s]"
      ]
     },
     "metadata": {},
     "output_type": "display_data"
    },
    {
     "name": "stdout",
     "output_type": "stream",
     "text": [
      "\n",
      "Epoch 13/100, Average Loss: 1.6305\n",
      "\n",
      "Evaluating model...\n"
     ]
    },
    {
     "data": {
      "application/vnd.jupyter.widget-view+json": {
       "model_id": "f54c3a9e73aa42c8be6c97d204f427c0",
       "version_major": 2,
       "version_minor": 0
      },
      "text/plain": [
       "Encoding Products:   0%|          | 0/8 [00:00<?, ?it/s]"
      ]
     },
     "metadata": {},
     "output_type": "display_data"
    },
    {
     "data": {
      "application/vnd.jupyter.widget-view+json": {
       "model_id": "64e9a8bf868e47348d409e9d36bf36ff",
       "version_major": 2,
       "version_minor": 0
      },
      "text/plain": [
       "Evaluating Queries:   0%|          | 0/8 [00:00<?, ?it/s]"
      ]
     },
     "metadata": {},
     "output_type": "display_data"
    },
    {
     "name": "stdout",
     "output_type": "stream",
     "text": [
      "Evaluation Metrics:\n",
      "Hits@10: 0.3390\n",
      "MRR: 0.1008\n"
     ]
    },
    {
     "data": {
      "application/vnd.jupyter.widget-view+json": {
       "model_id": "100bf542fe3246ad9f30664ec45e9c70",
       "version_major": 2,
       "version_minor": 0
      },
      "text/plain": [
       "Epoch 14/100:   0%|          | 0/30 [00:00<?, ?it/s]"
      ]
     },
     "metadata": {},
     "output_type": "display_data"
    },
    {
     "name": "stdout",
     "output_type": "stream",
     "text": [
      "\n",
      "Epoch 14/100, Average Loss: 1.5765\n",
      "\n",
      "Evaluating model...\n"
     ]
    },
    {
     "data": {
      "application/vnd.jupyter.widget-view+json": {
       "model_id": "fcf8853e7e75431db0ee5f07c3401e55",
       "version_major": 2,
       "version_minor": 0
      },
      "text/plain": [
       "Encoding Products:   0%|          | 0/8 [00:00<?, ?it/s]"
      ]
     },
     "metadata": {},
     "output_type": "display_data"
    },
    {
     "data": {
      "application/vnd.jupyter.widget-view+json": {
       "model_id": "d0834e85293e471ea35ce724696d517f",
       "version_major": 2,
       "version_minor": 0
      },
      "text/plain": [
       "Evaluating Queries:   0%|          | 0/8 [00:00<?, ?it/s]"
      ]
     },
     "metadata": {},
     "output_type": "display_data"
    },
    {
     "name": "stdout",
     "output_type": "stream",
     "text": [
      "Evaluation Metrics:\n",
      "Hits@10: 0.4746\n",
      "MRR: 0.1702\n"
     ]
    },
    {
     "data": {
      "application/vnd.jupyter.widget-view+json": {
       "model_id": "1b4496ac579047f7ac862a7d523ede3b",
       "version_major": 2,
       "version_minor": 0
      },
      "text/plain": [
       "Epoch 15/100:   0%|          | 0/30 [00:00<?, ?it/s]"
      ]
     },
     "metadata": {},
     "output_type": "display_data"
    },
    {
     "name": "stdout",
     "output_type": "stream",
     "text": [
      "\n",
      "Epoch 15/100, Average Loss: 1.6316\n",
      "\n",
      "Evaluating model...\n"
     ]
    },
    {
     "data": {
      "application/vnd.jupyter.widget-view+json": {
       "model_id": "db422f124f264afb905b287be4bd65cc",
       "version_major": 2,
       "version_minor": 0
      },
      "text/plain": [
       "Encoding Products:   0%|          | 0/8 [00:00<?, ?it/s]"
      ]
     },
     "metadata": {},
     "output_type": "display_data"
    },
    {
     "data": {
      "application/vnd.jupyter.widget-view+json": {
       "model_id": "fd5c525946eb4a08848bf83036c5baaf",
       "version_major": 2,
       "version_minor": 0
      },
      "text/plain": [
       "Evaluating Queries:   0%|          | 0/8 [00:00<?, ?it/s]"
      ]
     },
     "metadata": {},
     "output_type": "display_data"
    },
    {
     "name": "stdout",
     "output_type": "stream",
     "text": [
      "Evaluation Metrics:\n",
      "Hits@10: 0.4407\n",
      "MRR: 0.1458\n"
     ]
    },
    {
     "data": {
      "application/vnd.jupyter.widget-view+json": {
       "model_id": "255f38a3079149e5a9229e3c069e41b2",
       "version_major": 2,
       "version_minor": 0
      },
      "text/plain": [
       "Epoch 16/100:   0%|          | 0/30 [00:00<?, ?it/s]"
      ]
     },
     "metadata": {},
     "output_type": "display_data"
    },
    {
     "name": "stdout",
     "output_type": "stream",
     "text": [
      "\n",
      "Epoch 16/100, Average Loss: 1.5170\n",
      "\n",
      "Evaluating model...\n"
     ]
    },
    {
     "data": {
      "application/vnd.jupyter.widget-view+json": {
       "model_id": "321558a7c4f64d0a895be06683ac39bb",
       "version_major": 2,
       "version_minor": 0
      },
      "text/plain": [
       "Encoding Products:   0%|          | 0/8 [00:00<?, ?it/s]"
      ]
     },
     "metadata": {},
     "output_type": "display_data"
    },
    {
     "data": {
      "application/vnd.jupyter.widget-view+json": {
       "model_id": "76849fe0cc39434bac87bc5bce14d42f",
       "version_major": 2,
       "version_minor": 0
      },
      "text/plain": [
       "Evaluating Queries:   0%|          | 0/8 [00:00<?, ?it/s]"
      ]
     },
     "metadata": {},
     "output_type": "display_data"
    },
    {
     "name": "stdout",
     "output_type": "stream",
     "text": [
      "Evaluation Metrics:\n",
      "Hits@10: 0.4407\n",
      "MRR: 0.1641\n"
     ]
    },
    {
     "data": {
      "application/vnd.jupyter.widget-view+json": {
       "model_id": "5ff76c3d985846e08e27dd433bfe9232",
       "version_major": 2,
       "version_minor": 0
      },
      "text/plain": [
       "Epoch 17/100:   0%|          | 0/30 [00:00<?, ?it/s]"
      ]
     },
     "metadata": {},
     "output_type": "display_data"
    },
    {
     "name": "stdout",
     "output_type": "stream",
     "text": [
      "\n",
      "Epoch 17/100, Average Loss: 1.5375\n",
      "\n",
      "Evaluating model...\n"
     ]
    },
    {
     "data": {
      "application/vnd.jupyter.widget-view+json": {
       "model_id": "75405eea934b4388b61174c82309096b",
       "version_major": 2,
       "version_minor": 0
      },
      "text/plain": [
       "Encoding Products:   0%|          | 0/8 [00:00<?, ?it/s]"
      ]
     },
     "metadata": {},
     "output_type": "display_data"
    },
    {
     "data": {
      "application/vnd.jupyter.widget-view+json": {
       "model_id": "30fa2ddaca4a48f4bc70edaa55f3e36a",
       "version_major": 2,
       "version_minor": 0
      },
      "text/plain": [
       "Evaluating Queries:   0%|          | 0/8 [00:00<?, ?it/s]"
      ]
     },
     "metadata": {},
     "output_type": "display_data"
    },
    {
     "name": "stdout",
     "output_type": "stream",
     "text": [
      "Evaluation Metrics:\n",
      "Hits@10: 0.4068\n",
      "MRR: 0.1482\n"
     ]
    },
    {
     "data": {
      "application/vnd.jupyter.widget-view+json": {
       "model_id": "6d00d289ca0c43c7921aca1a5cb3335d",
       "version_major": 2,
       "version_minor": 0
      },
      "text/plain": [
       "Epoch 18/100:   0%|          | 0/30 [00:00<?, ?it/s]"
      ]
     },
     "metadata": {},
     "output_type": "display_data"
    },
    {
     "name": "stdout",
     "output_type": "stream",
     "text": [
      "\n",
      "Epoch 18/100, Average Loss: 1.4093\n",
      "\n",
      "Evaluating model...\n"
     ]
    },
    {
     "data": {
      "application/vnd.jupyter.widget-view+json": {
       "model_id": "6c132734508045a4a852b870641b9b00",
       "version_major": 2,
       "version_minor": 0
      },
      "text/plain": [
       "Encoding Products:   0%|          | 0/8 [00:00<?, ?it/s]"
      ]
     },
     "metadata": {},
     "output_type": "display_data"
    },
    {
     "data": {
      "application/vnd.jupyter.widget-view+json": {
       "model_id": "a76eeaec5a0b474482e1b182deb99952",
       "version_major": 2,
       "version_minor": 0
      },
      "text/plain": [
       "Evaluating Queries:   0%|          | 0/8 [00:00<?, ?it/s]"
      ]
     },
     "metadata": {},
     "output_type": "display_data"
    },
    {
     "name": "stdout",
     "output_type": "stream",
     "text": [
      "Evaluation Metrics:\n",
      "Hits@10: 0.4237\n",
      "MRR: 0.1625\n"
     ]
    },
    {
     "data": {
      "application/vnd.jupyter.widget-view+json": {
       "model_id": "c2c215673c9e43538bd09991bbcc7d49",
       "version_major": 2,
       "version_minor": 0
      },
      "text/plain": [
       "Epoch 19/100:   0%|          | 0/30 [00:00<?, ?it/s]"
      ]
     },
     "metadata": {},
     "output_type": "display_data"
    },
    {
     "name": "stdout",
     "output_type": "stream",
     "text": [
      "\n",
      "Epoch 19/100, Average Loss: 1.3547\n",
      "\n",
      "Evaluating model...\n"
     ]
    },
    {
     "data": {
      "application/vnd.jupyter.widget-view+json": {
       "model_id": "9909f793e7cc4d7cadc5cbec382f96b5",
       "version_major": 2,
       "version_minor": 0
      },
      "text/plain": [
       "Encoding Products:   0%|          | 0/8 [00:00<?, ?it/s]"
      ]
     },
     "metadata": {},
     "output_type": "display_data"
    },
    {
     "data": {
      "application/vnd.jupyter.widget-view+json": {
       "model_id": "cdb9e17e2dc0439ab70e9cb71373a656",
       "version_major": 2,
       "version_minor": 0
      },
      "text/plain": [
       "Evaluating Queries:   0%|          | 0/8 [00:00<?, ?it/s]"
      ]
     },
     "metadata": {},
     "output_type": "display_data"
    },
    {
     "name": "stdout",
     "output_type": "stream",
     "text": [
      "Evaluation Metrics:\n",
      "Hits@10: 0.5763\n",
      "MRR: 0.2208\n"
     ]
    },
    {
     "data": {
      "application/vnd.jupyter.widget-view+json": {
       "model_id": "8504f2c400e84c48b612040f6aaa2b29",
       "version_major": 2,
       "version_minor": 0
      },
      "text/plain": [
       "Epoch 20/100:   0%|          | 0/30 [00:00<?, ?it/s]"
      ]
     },
     "metadata": {},
     "output_type": "display_data"
    },
    {
     "name": "stdout",
     "output_type": "stream",
     "text": [
      "\n",
      "Epoch 20/100, Average Loss: 1.2796\n",
      "\n",
      "Evaluating model...\n"
     ]
    },
    {
     "data": {
      "application/vnd.jupyter.widget-view+json": {
       "model_id": "3d8906cc380a4ddeaec18d196794dbfc",
       "version_major": 2,
       "version_minor": 0
      },
      "text/plain": [
       "Encoding Products:   0%|          | 0/8 [00:00<?, ?it/s]"
      ]
     },
     "metadata": {},
     "output_type": "display_data"
    },
    {
     "data": {
      "application/vnd.jupyter.widget-view+json": {
       "model_id": "7f0930c2f776465da3208260f944f5ad",
       "version_major": 2,
       "version_minor": 0
      },
      "text/plain": [
       "Evaluating Queries:   0%|          | 0/8 [00:00<?, ?it/s]"
      ]
     },
     "metadata": {},
     "output_type": "display_data"
    },
    {
     "name": "stdout",
     "output_type": "stream",
     "text": [
      "Evaluation Metrics:\n",
      "Hits@10: 0.4746\n",
      "MRR: 0.1972\n"
     ]
    },
    {
     "data": {
      "application/vnd.jupyter.widget-view+json": {
       "model_id": "e46d172e0d5d484f90a2f03f1c0f3aac",
       "version_major": 2,
       "version_minor": 0
      },
      "text/plain": [
       "Epoch 21/100:   0%|          | 0/30 [00:00<?, ?it/s]"
      ]
     },
     "metadata": {},
     "output_type": "display_data"
    },
    {
     "name": "stdout",
     "output_type": "stream",
     "text": [
      "\n",
      "Epoch 21/100, Average Loss: 1.2158\n",
      "\n",
      "Evaluating model...\n"
     ]
    },
    {
     "data": {
      "application/vnd.jupyter.widget-view+json": {
       "model_id": "d60ccf2cdb41420f8465afd7c9251c05",
       "version_major": 2,
       "version_minor": 0
      },
      "text/plain": [
       "Encoding Products:   0%|          | 0/8 [00:00<?, ?it/s]"
      ]
     },
     "metadata": {},
     "output_type": "display_data"
    },
    {
     "data": {
      "application/vnd.jupyter.widget-view+json": {
       "model_id": "206ae0571a7244e9840485c35f2758ef",
       "version_major": 2,
       "version_minor": 0
      },
      "text/plain": [
       "Evaluating Queries:   0%|          | 0/8 [00:00<?, ?it/s]"
      ]
     },
     "metadata": {},
     "output_type": "display_data"
    },
    {
     "name": "stdout",
     "output_type": "stream",
     "text": [
      "Evaluation Metrics:\n",
      "Hits@10: 0.5424\n",
      "MRR: 0.2145\n"
     ]
    },
    {
     "data": {
      "application/vnd.jupyter.widget-view+json": {
       "model_id": "1d187c93f8e646bc8b5ea16c1e9ceabe",
       "version_major": 2,
       "version_minor": 0
      },
      "text/plain": [
       "Epoch 22/100:   0%|          | 0/30 [00:00<?, ?it/s]"
      ]
     },
     "metadata": {},
     "output_type": "display_data"
    },
    {
     "name": "stdout",
     "output_type": "stream",
     "text": [
      "\n",
      "Epoch 22/100, Average Loss: 1.2073\n",
      "\n",
      "Evaluating model...\n"
     ]
    },
    {
     "data": {
      "application/vnd.jupyter.widget-view+json": {
       "model_id": "5163cb8a9bd34ece951c151dfdfea5ec",
       "version_major": 2,
       "version_minor": 0
      },
      "text/plain": [
       "Encoding Products:   0%|          | 0/8 [00:00<?, ?it/s]"
      ]
     },
     "metadata": {},
     "output_type": "display_data"
    },
    {
     "data": {
      "application/vnd.jupyter.widget-view+json": {
       "model_id": "e236fd52d28346c9bb2c59b6abb08a65",
       "version_major": 2,
       "version_minor": 0
      },
      "text/plain": [
       "Evaluating Queries:   0%|          | 0/8 [00:00<?, ?it/s]"
      ]
     },
     "metadata": {},
     "output_type": "display_data"
    },
    {
     "name": "stdout",
     "output_type": "stream",
     "text": [
      "Evaluation Metrics:\n",
      "Hits@10: 0.4746\n",
      "MRR: 0.1591\n"
     ]
    },
    {
     "data": {
      "application/vnd.jupyter.widget-view+json": {
       "model_id": "50449b625fe4470c87bc31e04a1d1c4d",
       "version_major": 2,
       "version_minor": 0
      },
      "text/plain": [
       "Epoch 23/100:   0%|          | 0/30 [00:00<?, ?it/s]"
      ]
     },
     "metadata": {},
     "output_type": "display_data"
    },
    {
     "name": "stdout",
     "output_type": "stream",
     "text": [
      "\n",
      "Epoch 23/100, Average Loss: 1.2485\n",
      "\n",
      "Evaluating model...\n"
     ]
    },
    {
     "data": {
      "application/vnd.jupyter.widget-view+json": {
       "model_id": "1c63b3680ef04d9194431e3146ebb78b",
       "version_major": 2,
       "version_minor": 0
      },
      "text/plain": [
       "Encoding Products:   0%|          | 0/8 [00:00<?, ?it/s]"
      ]
     },
     "metadata": {},
     "output_type": "display_data"
    },
    {
     "data": {
      "application/vnd.jupyter.widget-view+json": {
       "model_id": "91d1be9af3d54d45b60991204a240bdb",
       "version_major": 2,
       "version_minor": 0
      },
      "text/plain": [
       "Evaluating Queries:   0%|          | 0/8 [00:00<?, ?it/s]"
      ]
     },
     "metadata": {},
     "output_type": "display_data"
    },
    {
     "name": "stdout",
     "output_type": "stream",
     "text": [
      "Evaluation Metrics:\n",
      "Hits@10: 0.4746\n",
      "MRR: 0.1751\n"
     ]
    },
    {
     "data": {
      "application/vnd.jupyter.widget-view+json": {
       "model_id": "20d272b9e207442fba4e5d513422854a",
       "version_major": 2,
       "version_minor": 0
      },
      "text/plain": [
       "Epoch 24/100:   0%|          | 0/30 [00:00<?, ?it/s]"
      ]
     },
     "metadata": {},
     "output_type": "display_data"
    },
    {
     "name": "stdout",
     "output_type": "stream",
     "text": [
      "\n",
      "Epoch 24/100, Average Loss: 1.2241\n",
      "\n",
      "Evaluating model...\n"
     ]
    },
    {
     "data": {
      "application/vnd.jupyter.widget-view+json": {
       "model_id": "b4e15a27eb834e2ca08c7589d6e956d6",
       "version_major": 2,
       "version_minor": 0
      },
      "text/plain": [
       "Encoding Products:   0%|          | 0/8 [00:00<?, ?it/s]"
      ]
     },
     "metadata": {},
     "output_type": "display_data"
    },
    {
     "data": {
      "application/vnd.jupyter.widget-view+json": {
       "model_id": "400e2b9049d343ddaa78643bfb460e20",
       "version_major": 2,
       "version_minor": 0
      },
      "text/plain": [
       "Evaluating Queries:   0%|          | 0/8 [00:00<?, ?it/s]"
      ]
     },
     "metadata": {},
     "output_type": "display_data"
    },
    {
     "name": "stdout",
     "output_type": "stream",
     "text": [
      "Evaluation Metrics:\n",
      "Hits@10: 0.5085\n",
      "MRR: 0.1764\n"
     ]
    },
    {
     "data": {
      "application/vnd.jupyter.widget-view+json": {
       "model_id": "6a230baddeb84e62b0822231dedd18fe",
       "version_major": 2,
       "version_minor": 0
      },
      "text/plain": [
       "Epoch 25/100:   0%|          | 0/30 [00:00<?, ?it/s]"
      ]
     },
     "metadata": {},
     "output_type": "display_data"
    },
    {
     "name": "stdout",
     "output_type": "stream",
     "text": [
      "\n",
      "Epoch 25/100, Average Loss: 1.0704\n",
      "\n",
      "Evaluating model...\n"
     ]
    },
    {
     "data": {
      "application/vnd.jupyter.widget-view+json": {
       "model_id": "d4e0380f92f34c50acb8a7cb2c506aa0",
       "version_major": 2,
       "version_minor": 0
      },
      "text/plain": [
       "Encoding Products:   0%|          | 0/8 [00:00<?, ?it/s]"
      ]
     },
     "metadata": {},
     "output_type": "display_data"
    },
    {
     "data": {
      "application/vnd.jupyter.widget-view+json": {
       "model_id": "d5398ea97e4e4be7af2466f6411f541a",
       "version_major": 2,
       "version_minor": 0
      },
      "text/plain": [
       "Evaluating Queries:   0%|          | 0/8 [00:00<?, ?it/s]"
      ]
     },
     "metadata": {},
     "output_type": "display_data"
    },
    {
     "name": "stdout",
     "output_type": "stream",
     "text": [
      "Evaluation Metrics:\n",
      "Hits@10: 0.5593\n",
      "MRR: 0.2097\n"
     ]
    },
    {
     "data": {
      "application/vnd.jupyter.widget-view+json": {
       "model_id": "3dcaea83fb0d42ffb88ea6ce74b38014",
       "version_major": 2,
       "version_minor": 0
      },
      "text/plain": [
       "Epoch 26/100:   0%|          | 0/30 [00:00<?, ?it/s]"
      ]
     },
     "metadata": {},
     "output_type": "display_data"
    },
    {
     "name": "stdout",
     "output_type": "stream",
     "text": [
      "\n",
      "Epoch 26/100, Average Loss: 1.1427\n",
      "\n",
      "Evaluating model...\n"
     ]
    },
    {
     "data": {
      "application/vnd.jupyter.widget-view+json": {
       "model_id": "c6cf1f50a5784869aff8b6fdf4fa6205",
       "version_major": 2,
       "version_minor": 0
      },
      "text/plain": [
       "Encoding Products:   0%|          | 0/8 [00:00<?, ?it/s]"
      ]
     },
     "metadata": {},
     "output_type": "display_data"
    },
    {
     "data": {
      "application/vnd.jupyter.widget-view+json": {
       "model_id": "39dd45eae9424020908d26447308b3b5",
       "version_major": 2,
       "version_minor": 0
      },
      "text/plain": [
       "Evaluating Queries:   0%|          | 0/8 [00:00<?, ?it/s]"
      ]
     },
     "metadata": {},
     "output_type": "display_data"
    },
    {
     "name": "stdout",
     "output_type": "stream",
     "text": [
      "Evaluation Metrics:\n",
      "Hits@10: 0.5593\n",
      "MRR: 0.2099\n"
     ]
    },
    {
     "data": {
      "application/vnd.jupyter.widget-view+json": {
       "model_id": "4a4c7fb143354e6a965f6a694aeea159",
       "version_major": 2,
       "version_minor": 0
      },
      "text/plain": [
       "Epoch 27/100:   0%|          | 0/30 [00:00<?, ?it/s]"
      ]
     },
     "metadata": {},
     "output_type": "display_data"
    },
    {
     "name": "stdout",
     "output_type": "stream",
     "text": [
      "\n",
      "Epoch 27/100, Average Loss: 1.1244\n",
      "\n",
      "Evaluating model...\n"
     ]
    },
    {
     "data": {
      "application/vnd.jupyter.widget-view+json": {
       "model_id": "3770c0c49af84d699a42eea13fe70a59",
       "version_major": 2,
       "version_minor": 0
      },
      "text/plain": [
       "Encoding Products:   0%|          | 0/8 [00:00<?, ?it/s]"
      ]
     },
     "metadata": {},
     "output_type": "display_data"
    },
    {
     "data": {
      "application/vnd.jupyter.widget-view+json": {
       "model_id": "24ae7e7df5574c6abb62950c524eee16",
       "version_major": 2,
       "version_minor": 0
      },
      "text/plain": [
       "Evaluating Queries:   0%|          | 0/8 [00:00<?, ?it/s]"
      ]
     },
     "metadata": {},
     "output_type": "display_data"
    },
    {
     "name": "stdout",
     "output_type": "stream",
     "text": [
      "Evaluation Metrics:\n",
      "Hits@10: 0.5424\n",
      "MRR: 0.2316\n"
     ]
    },
    {
     "data": {
      "application/vnd.jupyter.widget-view+json": {
       "model_id": "8966fc6fda00407d878d78446ae2c6a8",
       "version_major": 2,
       "version_minor": 0
      },
      "text/plain": [
       "Epoch 28/100:   0%|          | 0/30 [00:00<?, ?it/s]"
      ]
     },
     "metadata": {},
     "output_type": "display_data"
    },
    {
     "name": "stdout",
     "output_type": "stream",
     "text": [
      "\n",
      "Epoch 28/100, Average Loss: 1.1052\n",
      "\n",
      "Evaluating model...\n"
     ]
    },
    {
     "data": {
      "application/vnd.jupyter.widget-view+json": {
       "model_id": "35929f9abba940b0ab5ce92ad96a53c6",
       "version_major": 2,
       "version_minor": 0
      },
      "text/plain": [
       "Encoding Products:   0%|          | 0/8 [00:00<?, ?it/s]"
      ]
     },
     "metadata": {},
     "output_type": "display_data"
    },
    {
     "data": {
      "application/vnd.jupyter.widget-view+json": {
       "model_id": "3d36d7c960bf4ea6895618dab59ebcc8",
       "version_major": 2,
       "version_minor": 0
      },
      "text/plain": [
       "Evaluating Queries:   0%|          | 0/8 [00:00<?, ?it/s]"
      ]
     },
     "metadata": {},
     "output_type": "display_data"
    },
    {
     "name": "stdout",
     "output_type": "stream",
     "text": [
      "Evaluation Metrics:\n",
      "Hits@10: 0.5932\n",
      "MRR: 0.2174\n"
     ]
    },
    {
     "data": {
      "application/vnd.jupyter.widget-view+json": {
       "model_id": "dd7ae2327bd244539be83814e7fa1ccc",
       "version_major": 2,
       "version_minor": 0
      },
      "text/plain": [
       "Epoch 29/100:   0%|          | 0/30 [00:00<?, ?it/s]"
      ]
     },
     "metadata": {},
     "output_type": "display_data"
    },
    {
     "name": "stdout",
     "output_type": "stream",
     "text": [
      "\n",
      "Epoch 29/100, Average Loss: 1.0369\n",
      "\n",
      "Evaluating model...\n"
     ]
    },
    {
     "data": {
      "application/vnd.jupyter.widget-view+json": {
       "model_id": "264fe15a44d1489a9023c6e0b4a469ba",
       "version_major": 2,
       "version_minor": 0
      },
      "text/plain": [
       "Encoding Products:   0%|          | 0/8 [00:00<?, ?it/s]"
      ]
     },
     "metadata": {},
     "output_type": "display_data"
    },
    {
     "data": {
      "application/vnd.jupyter.widget-view+json": {
       "model_id": "cf6752c1e63a4619b42f4469c4140aaf",
       "version_major": 2,
       "version_minor": 0
      },
      "text/plain": [
       "Evaluating Queries:   0%|          | 0/8 [00:00<?, ?it/s]"
      ]
     },
     "metadata": {},
     "output_type": "display_data"
    },
    {
     "name": "stdout",
     "output_type": "stream",
     "text": [
      "Evaluation Metrics:\n",
      "Hits@10: 0.4576\n",
      "MRR: 0.1858\n"
     ]
    },
    {
     "data": {
      "application/vnd.jupyter.widget-view+json": {
       "model_id": "ccfbe5d47a8b4069947cb4a12916a2d5",
       "version_major": 2,
       "version_minor": 0
      },
      "text/plain": [
       "Epoch 30/100:   0%|          | 0/30 [00:00<?, ?it/s]"
      ]
     },
     "metadata": {},
     "output_type": "display_data"
    },
    {
     "name": "stdout",
     "output_type": "stream",
     "text": [
      "\n",
      "Epoch 30/100, Average Loss: 0.9718\n",
      "\n",
      "Evaluating model...\n"
     ]
    },
    {
     "data": {
      "application/vnd.jupyter.widget-view+json": {
       "model_id": "5533b327136c46c48bb9c42065d5aad6",
       "version_major": 2,
       "version_minor": 0
      },
      "text/plain": [
       "Encoding Products:   0%|          | 0/8 [00:00<?, ?it/s]"
      ]
     },
     "metadata": {},
     "output_type": "display_data"
    },
    {
     "data": {
      "application/vnd.jupyter.widget-view+json": {
       "model_id": "eb00a798f1094a44be3c33265df4d235",
       "version_major": 2,
       "version_minor": 0
      },
      "text/plain": [
       "Evaluating Queries:   0%|          | 0/8 [00:00<?, ?it/s]"
      ]
     },
     "metadata": {},
     "output_type": "display_data"
    },
    {
     "name": "stdout",
     "output_type": "stream",
     "text": [
      "Evaluation Metrics:\n",
      "Hits@10: 0.5593\n",
      "MRR: 0.1709\n"
     ]
    },
    {
     "data": {
      "application/vnd.jupyter.widget-view+json": {
       "model_id": "b15407007c1c47efb86cf51a2593bb14",
       "version_major": 2,
       "version_minor": 0
      },
      "text/plain": [
       "Epoch 31/100:   0%|          | 0/30 [00:00<?, ?it/s]"
      ]
     },
     "metadata": {},
     "output_type": "display_data"
    },
    {
     "name": "stdout",
     "output_type": "stream",
     "text": [
      "\n",
      "Epoch 31/100, Average Loss: 0.9154\n",
      "\n",
      "Evaluating model...\n"
     ]
    },
    {
     "data": {
      "application/vnd.jupyter.widget-view+json": {
       "model_id": "6347d103710945dda97994106182a0cd",
       "version_major": 2,
       "version_minor": 0
      },
      "text/plain": [
       "Encoding Products:   0%|          | 0/8 [00:00<?, ?it/s]"
      ]
     },
     "metadata": {},
     "output_type": "display_data"
    },
    {
     "data": {
      "application/vnd.jupyter.widget-view+json": {
       "model_id": "b3354c2289974e1684607fb7ff1ab0d3",
       "version_major": 2,
       "version_minor": 0
      },
      "text/plain": [
       "Evaluating Queries:   0%|          | 0/8 [00:00<?, ?it/s]"
      ]
     },
     "metadata": {},
     "output_type": "display_data"
    },
    {
     "name": "stdout",
     "output_type": "stream",
     "text": [
      "Evaluation Metrics:\n",
      "Hits@10: 0.5763\n",
      "MRR: 0.2414\n"
     ]
    },
    {
     "data": {
      "application/vnd.jupyter.widget-view+json": {
       "model_id": "f5474f32d8464e7e9d2ea10eeaadb0a7",
       "version_major": 2,
       "version_minor": 0
      },
      "text/plain": [
       "Epoch 32/100:   0%|          | 0/30 [00:00<?, ?it/s]"
      ]
     },
     "metadata": {},
     "output_type": "display_data"
    },
    {
     "name": "stdout",
     "output_type": "stream",
     "text": [
      "\n",
      "Epoch 32/100, Average Loss: 0.8900\n",
      "\n",
      "Evaluating model...\n"
     ]
    },
    {
     "data": {
      "application/vnd.jupyter.widget-view+json": {
       "model_id": "f4e7ae7542554985832b952b43c8727c",
       "version_major": 2,
       "version_minor": 0
      },
      "text/plain": [
       "Encoding Products:   0%|          | 0/8 [00:00<?, ?it/s]"
      ]
     },
     "metadata": {},
     "output_type": "display_data"
    },
    {
     "data": {
      "application/vnd.jupyter.widget-view+json": {
       "model_id": "5c36e0563ad64c58993012ec0c8b7ddc",
       "version_major": 2,
       "version_minor": 0
      },
      "text/plain": [
       "Evaluating Queries:   0%|          | 0/8 [00:00<?, ?it/s]"
      ]
     },
     "metadata": {},
     "output_type": "display_data"
    },
    {
     "name": "stdout",
     "output_type": "stream",
     "text": [
      "Evaluation Metrics:\n",
      "Hits@10: 0.5932\n",
      "MRR: 0.2309\n"
     ]
    },
    {
     "data": {
      "application/vnd.jupyter.widget-view+json": {
       "model_id": "3a0ce5bc14ee4eefbb686b44e6547446",
       "version_major": 2,
       "version_minor": 0
      },
      "text/plain": [
       "Epoch 33/100:   0%|          | 0/30 [00:00<?, ?it/s]"
      ]
     },
     "metadata": {},
     "output_type": "display_data"
    },
    {
     "name": "stdout",
     "output_type": "stream",
     "text": [
      "\n",
      "Epoch 33/100, Average Loss: 0.9213\n",
      "\n",
      "Evaluating model...\n"
     ]
    },
    {
     "data": {
      "application/vnd.jupyter.widget-view+json": {
       "model_id": "5078d92163d74d9f81c49f0492f0966a",
       "version_major": 2,
       "version_minor": 0
      },
      "text/plain": [
       "Encoding Products:   0%|          | 0/8 [00:00<?, ?it/s]"
      ]
     },
     "metadata": {},
     "output_type": "display_data"
    },
    {
     "data": {
      "application/vnd.jupyter.widget-view+json": {
       "model_id": "ae2f702e205c477f900afcc0c5cea64f",
       "version_major": 2,
       "version_minor": 0
      },
      "text/plain": [
       "Evaluating Queries:   0%|          | 0/8 [00:00<?, ?it/s]"
      ]
     },
     "metadata": {},
     "output_type": "display_data"
    },
    {
     "name": "stdout",
     "output_type": "stream",
     "text": [
      "Evaluation Metrics:\n",
      "Hits@10: 0.5763\n",
      "MRR: 0.2125\n"
     ]
    },
    {
     "data": {
      "application/vnd.jupyter.widget-view+json": {
       "model_id": "8aaae3529cee471b9937167a35a0ce7e",
       "version_major": 2,
       "version_minor": 0
      },
      "text/plain": [
       "Epoch 34/100:   0%|          | 0/30 [00:00<?, ?it/s]"
      ]
     },
     "metadata": {},
     "output_type": "display_data"
    },
    {
     "name": "stdout",
     "output_type": "stream",
     "text": [
      "\n",
      "Epoch 34/100, Average Loss: 0.8977\n",
      "\n",
      "Evaluating model...\n"
     ]
    },
    {
     "data": {
      "application/vnd.jupyter.widget-view+json": {
       "model_id": "22b9f057fdcd4cb289baa6348b1f42d6",
       "version_major": 2,
       "version_minor": 0
      },
      "text/plain": [
       "Encoding Products:   0%|          | 0/8 [00:00<?, ?it/s]"
      ]
     },
     "metadata": {},
     "output_type": "display_data"
    },
    {
     "data": {
      "application/vnd.jupyter.widget-view+json": {
       "model_id": "6ad3039716a74a16a48f29fd2a9077f3",
       "version_major": 2,
       "version_minor": 0
      },
      "text/plain": [
       "Evaluating Queries:   0%|          | 0/8 [00:00<?, ?it/s]"
      ]
     },
     "metadata": {},
     "output_type": "display_data"
    },
    {
     "name": "stdout",
     "output_type": "stream",
     "text": [
      "Evaluation Metrics:\n",
      "Hits@10: 0.5932\n",
      "MRR: 0.2356\n"
     ]
    },
    {
     "data": {
      "application/vnd.jupyter.widget-view+json": {
       "model_id": "3850ed7fd239450a9587321c6414c419",
       "version_major": 2,
       "version_minor": 0
      },
      "text/plain": [
       "Epoch 35/100:   0%|          | 0/30 [00:00<?, ?it/s]"
      ]
     },
     "metadata": {},
     "output_type": "display_data"
    },
    {
     "name": "stdout",
     "output_type": "stream",
     "text": [
      "\n",
      "Epoch 35/100, Average Loss: 0.8145\n",
      "\n",
      "Evaluating model...\n"
     ]
    },
    {
     "data": {
      "application/vnd.jupyter.widget-view+json": {
       "model_id": "8676569594b248f1b0c2131226fe9707",
       "version_major": 2,
       "version_minor": 0
      },
      "text/plain": [
       "Encoding Products:   0%|          | 0/8 [00:00<?, ?it/s]"
      ]
     },
     "metadata": {},
     "output_type": "display_data"
    },
    {
     "data": {
      "application/vnd.jupyter.widget-view+json": {
       "model_id": "272c26be36eb4267b6f647f1da7cd9a8",
       "version_major": 2,
       "version_minor": 0
      },
      "text/plain": [
       "Evaluating Queries:   0%|          | 0/8 [00:00<?, ?it/s]"
      ]
     },
     "metadata": {},
     "output_type": "display_data"
    },
    {
     "name": "stdout",
     "output_type": "stream",
     "text": [
      "Evaluation Metrics:\n",
      "Hits@10: 0.6441\n",
      "MRR: 0.3154\n"
     ]
    },
    {
     "data": {
      "application/vnd.jupyter.widget-view+json": {
       "model_id": "311ed29183264b5fa511ec024ad2993a",
       "version_major": 2,
       "version_minor": 0
      },
      "text/plain": [
       "Epoch 36/100:   0%|          | 0/30 [00:00<?, ?it/s]"
      ]
     },
     "metadata": {},
     "output_type": "display_data"
    },
    {
     "name": "stdout",
     "output_type": "stream",
     "text": [
      "\n",
      "Epoch 36/100, Average Loss: 0.8518\n",
      "\n",
      "Evaluating model...\n"
     ]
    },
    {
     "data": {
      "application/vnd.jupyter.widget-view+json": {
       "model_id": "237391b01562491aa458867d360929a1",
       "version_major": 2,
       "version_minor": 0
      },
      "text/plain": [
       "Encoding Products:   0%|          | 0/8 [00:00<?, ?it/s]"
      ]
     },
     "metadata": {},
     "output_type": "display_data"
    },
    {
     "data": {
      "application/vnd.jupyter.widget-view+json": {
       "model_id": "13b12299c2d84d84ab100ac5292cb010",
       "version_major": 2,
       "version_minor": 0
      },
      "text/plain": [
       "Evaluating Queries:   0%|          | 0/8 [00:00<?, ?it/s]"
      ]
     },
     "metadata": {},
     "output_type": "display_data"
    },
    {
     "name": "stdout",
     "output_type": "stream",
     "text": [
      "Evaluation Metrics:\n",
      "Hits@10: 0.6780\n",
      "MRR: 0.2771\n"
     ]
    },
    {
     "data": {
      "application/vnd.jupyter.widget-view+json": {
       "model_id": "a43115128f7f41099e64e2ccb20ae222",
       "version_major": 2,
       "version_minor": 0
      },
      "text/plain": [
       "Epoch 37/100:   0%|          | 0/30 [00:00<?, ?it/s]"
      ]
     },
     "metadata": {},
     "output_type": "display_data"
    },
    {
     "name": "stdout",
     "output_type": "stream",
     "text": [
      "\n",
      "Epoch 37/100, Average Loss: 0.8078\n",
      "\n",
      "Evaluating model...\n"
     ]
    },
    {
     "data": {
      "application/vnd.jupyter.widget-view+json": {
       "model_id": "da8df02129844c1f915e09326d85d3df",
       "version_major": 2,
       "version_minor": 0
      },
      "text/plain": [
       "Encoding Products:   0%|          | 0/8 [00:00<?, ?it/s]"
      ]
     },
     "metadata": {},
     "output_type": "display_data"
    },
    {
     "data": {
      "application/vnd.jupyter.widget-view+json": {
       "model_id": "70283de02c4e46288693a15451979321",
       "version_major": 2,
       "version_minor": 0
      },
      "text/plain": [
       "Evaluating Queries:   0%|          | 0/8 [00:00<?, ?it/s]"
      ]
     },
     "metadata": {},
     "output_type": "display_data"
    },
    {
     "name": "stdout",
     "output_type": "stream",
     "text": [
      "Evaluation Metrics:\n",
      "Hits@10: 0.6441\n",
      "MRR: 0.2550\n"
     ]
    },
    {
     "data": {
      "application/vnd.jupyter.widget-view+json": {
       "model_id": "b9d76dd26e60442e87474b24cd5ea5e5",
       "version_major": 2,
       "version_minor": 0
      },
      "text/plain": [
       "Epoch 38/100:   0%|          | 0/30 [00:00<?, ?it/s]"
      ]
     },
     "metadata": {},
     "output_type": "display_data"
    },
    {
     "name": "stdout",
     "output_type": "stream",
     "text": [
      "\n",
      "Epoch 38/100, Average Loss: 0.8206\n",
      "\n",
      "Evaluating model...\n"
     ]
    },
    {
     "data": {
      "application/vnd.jupyter.widget-view+json": {
       "model_id": "d6156f1982cd43b98798328775d32980",
       "version_major": 2,
       "version_minor": 0
      },
      "text/plain": [
       "Encoding Products:   0%|          | 0/8 [00:00<?, ?it/s]"
      ]
     },
     "metadata": {},
     "output_type": "display_data"
    },
    {
     "data": {
      "application/vnd.jupyter.widget-view+json": {
       "model_id": "0b231438ebc64e5084f3e4d9bd4cb1fc",
       "version_major": 2,
       "version_minor": 0
      },
      "text/plain": [
       "Evaluating Queries:   0%|          | 0/8 [00:00<?, ?it/s]"
      ]
     },
     "metadata": {},
     "output_type": "display_data"
    },
    {
     "name": "stdout",
     "output_type": "stream",
     "text": [
      "Evaluation Metrics:\n",
      "Hits@10: 0.5763\n",
      "MRR: 0.2656\n"
     ]
    },
    {
     "data": {
      "application/vnd.jupyter.widget-view+json": {
       "model_id": "dff7935b701b4c87bd257bb9308c9ff4",
       "version_major": 2,
       "version_minor": 0
      },
      "text/plain": [
       "Epoch 39/100:   0%|          | 0/30 [00:00<?, ?it/s]"
      ]
     },
     "metadata": {},
     "output_type": "display_data"
    },
    {
     "name": "stdout",
     "output_type": "stream",
     "text": [
      "\n",
      "Epoch 39/100, Average Loss: 0.8148\n",
      "\n",
      "Evaluating model...\n"
     ]
    },
    {
     "data": {
      "application/vnd.jupyter.widget-view+json": {
       "model_id": "4a11971134da436d854b10ed6316f7ce",
       "version_major": 2,
       "version_minor": 0
      },
      "text/plain": [
       "Encoding Products:   0%|          | 0/8 [00:00<?, ?it/s]"
      ]
     },
     "metadata": {},
     "output_type": "display_data"
    },
    {
     "data": {
      "application/vnd.jupyter.widget-view+json": {
       "model_id": "a7bea311206e4a27a40575e36cd8dc88",
       "version_major": 2,
       "version_minor": 0
      },
      "text/plain": [
       "Evaluating Queries:   0%|          | 0/8 [00:00<?, ?it/s]"
      ]
     },
     "metadata": {},
     "output_type": "display_data"
    },
    {
     "name": "stdout",
     "output_type": "stream",
     "text": [
      "Evaluation Metrics:\n",
      "Hits@10: 0.5932\n",
      "MRR: 0.2613\n"
     ]
    },
    {
     "data": {
      "application/vnd.jupyter.widget-view+json": {
       "model_id": "d3774f90b85044a49d680985640d3dd9",
       "version_major": 2,
       "version_minor": 0
      },
      "text/plain": [
       "Epoch 40/100:   0%|          | 0/30 [00:00<?, ?it/s]"
      ]
     },
     "metadata": {},
     "output_type": "display_data"
    },
    {
     "name": "stdout",
     "output_type": "stream",
     "text": [
      "\n",
      "Epoch 40/100, Average Loss: 0.8490\n",
      "\n",
      "Evaluating model...\n"
     ]
    },
    {
     "data": {
      "application/vnd.jupyter.widget-view+json": {
       "model_id": "be9c714a5f5a45ba98ab28e78416186e",
       "version_major": 2,
       "version_minor": 0
      },
      "text/plain": [
       "Encoding Products:   0%|          | 0/8 [00:00<?, ?it/s]"
      ]
     },
     "metadata": {},
     "output_type": "display_data"
    },
    {
     "data": {
      "application/vnd.jupyter.widget-view+json": {
       "model_id": "c26ec1607eaa460a9f83b2ce5a2e339d",
       "version_major": 2,
       "version_minor": 0
      },
      "text/plain": [
       "Evaluating Queries:   0%|          | 0/8 [00:00<?, ?it/s]"
      ]
     },
     "metadata": {},
     "output_type": "display_data"
    },
    {
     "name": "stdout",
     "output_type": "stream",
     "text": [
      "Evaluation Metrics:\n",
      "Hits@10: 0.7288\n",
      "MRR: 0.3296\n"
     ]
    },
    {
     "data": {
      "application/vnd.jupyter.widget-view+json": {
       "model_id": "abc1d665f97645ce8df4b9b17441fe79",
       "version_major": 2,
       "version_minor": 0
      },
      "text/plain": [
       "Epoch 41/100:   0%|          | 0/30 [00:00<?, ?it/s]"
      ]
     },
     "metadata": {},
     "output_type": "display_data"
    },
    {
     "name": "stdout",
     "output_type": "stream",
     "text": [
      "\n",
      "Epoch 41/100, Average Loss: 0.7591\n",
      "\n",
      "Evaluating model...\n"
     ]
    },
    {
     "data": {
      "application/vnd.jupyter.widget-view+json": {
       "model_id": "fad13caff21b4fe9a5d30a0950c1c4bd",
       "version_major": 2,
       "version_minor": 0
      },
      "text/plain": [
       "Encoding Products:   0%|          | 0/8 [00:00<?, ?it/s]"
      ]
     },
     "metadata": {},
     "output_type": "display_data"
    },
    {
     "data": {
      "application/vnd.jupyter.widget-view+json": {
       "model_id": "096bf5bc8cc1410987becb6124a1ba00",
       "version_major": 2,
       "version_minor": 0
      },
      "text/plain": [
       "Evaluating Queries:   0%|          | 0/8 [00:00<?, ?it/s]"
      ]
     },
     "metadata": {},
     "output_type": "display_data"
    },
    {
     "name": "stdout",
     "output_type": "stream",
     "text": [
      "Evaluation Metrics:\n",
      "Hits@10: 0.6610\n",
      "MRR: 0.2623\n"
     ]
    },
    {
     "data": {
      "application/vnd.jupyter.widget-view+json": {
       "model_id": "b999ad9a192b4783bfa33b17ea20b638",
       "version_major": 2,
       "version_minor": 0
      },
      "text/plain": [
       "Epoch 42/100:   0%|          | 0/30 [00:00<?, ?it/s]"
      ]
     },
     "metadata": {},
     "output_type": "display_data"
    },
    {
     "name": "stdout",
     "output_type": "stream",
     "text": [
      "\n",
      "Epoch 42/100, Average Loss: 0.7509\n",
      "\n",
      "Evaluating model...\n"
     ]
    },
    {
     "data": {
      "application/vnd.jupyter.widget-view+json": {
       "model_id": "523463cc794b48db8dbcbe9e5de82525",
       "version_major": 2,
       "version_minor": 0
      },
      "text/plain": [
       "Encoding Products:   0%|          | 0/8 [00:00<?, ?it/s]"
      ]
     },
     "metadata": {},
     "output_type": "display_data"
    },
    {
     "data": {
      "application/vnd.jupyter.widget-view+json": {
       "model_id": "a81039b704054831a7f80dc117186311",
       "version_major": 2,
       "version_minor": 0
      },
      "text/plain": [
       "Evaluating Queries:   0%|          | 0/8 [00:00<?, ?it/s]"
      ]
     },
     "metadata": {},
     "output_type": "display_data"
    },
    {
     "name": "stdout",
     "output_type": "stream",
     "text": [
      "Evaluation Metrics:\n",
      "Hits@10: 0.6441\n",
      "MRR: 0.3274\n"
     ]
    },
    {
     "data": {
      "application/vnd.jupyter.widget-view+json": {
       "model_id": "f364fbfa40504c04949cb8ebbe165517",
       "version_major": 2,
       "version_minor": 0
      },
      "text/plain": [
       "Epoch 43/100:   0%|          | 0/30 [00:00<?, ?it/s]"
      ]
     },
     "metadata": {},
     "output_type": "display_data"
    },
    {
     "name": "stdout",
     "output_type": "stream",
     "text": [
      "\n",
      "Epoch 43/100, Average Loss: 0.7773\n",
      "\n",
      "Evaluating model...\n"
     ]
    },
    {
     "data": {
      "application/vnd.jupyter.widget-view+json": {
       "model_id": "047745f03b014de99797a5f652c71031",
       "version_major": 2,
       "version_minor": 0
      },
      "text/plain": [
       "Encoding Products:   0%|          | 0/8 [00:00<?, ?it/s]"
      ]
     },
     "metadata": {},
     "output_type": "display_data"
    },
    {
     "data": {
      "application/vnd.jupyter.widget-view+json": {
       "model_id": "330ced1870c944a5bdac2a78380dfa69",
       "version_major": 2,
       "version_minor": 0
      },
      "text/plain": [
       "Evaluating Queries:   0%|          | 0/8 [00:00<?, ?it/s]"
      ]
     },
     "metadata": {},
     "output_type": "display_data"
    },
    {
     "name": "stdout",
     "output_type": "stream",
     "text": [
      "Evaluation Metrics:\n",
      "Hits@10: 0.6102\n",
      "MRR: 0.2857\n"
     ]
    },
    {
     "data": {
      "application/vnd.jupyter.widget-view+json": {
       "model_id": "a763aafccc044d419be75eefd42a43bf",
       "version_major": 2,
       "version_minor": 0
      },
      "text/plain": [
       "Epoch 44/100:   0%|          | 0/30 [00:00<?, ?it/s]"
      ]
     },
     "metadata": {},
     "output_type": "display_data"
    },
    {
     "name": "stdout",
     "output_type": "stream",
     "text": [
      "\n",
      "Epoch 44/100, Average Loss: 0.7328\n",
      "\n",
      "Evaluating model...\n"
     ]
    },
    {
     "data": {
      "application/vnd.jupyter.widget-view+json": {
       "model_id": "9319f1aaed7c46338360c429e8001c89",
       "version_major": 2,
       "version_minor": 0
      },
      "text/plain": [
       "Encoding Products:   0%|          | 0/8 [00:00<?, ?it/s]"
      ]
     },
     "metadata": {},
     "output_type": "display_data"
    },
    {
     "data": {
      "application/vnd.jupyter.widget-view+json": {
       "model_id": "a906b75265a74c9490648288c1b2eedd",
       "version_major": 2,
       "version_minor": 0
      },
      "text/plain": [
       "Evaluating Queries:   0%|          | 0/8 [00:00<?, ?it/s]"
      ]
     },
     "metadata": {},
     "output_type": "display_data"
    },
    {
     "name": "stdout",
     "output_type": "stream",
     "text": [
      "Evaluation Metrics:\n",
      "Hits@10: 0.5763\n",
      "MRR: 0.2681\n"
     ]
    },
    {
     "data": {
      "application/vnd.jupyter.widget-view+json": {
       "model_id": "6acb3fdd1a34492ea134c5bdcc0403ea",
       "version_major": 2,
       "version_minor": 0
      },
      "text/plain": [
       "Epoch 45/100:   0%|          | 0/30 [00:00<?, ?it/s]"
      ]
     },
     "metadata": {},
     "output_type": "display_data"
    },
    {
     "name": "stdout",
     "output_type": "stream",
     "text": [
      "\n",
      "Epoch 45/100, Average Loss: 0.7245\n",
      "\n",
      "Evaluating model...\n"
     ]
    },
    {
     "data": {
      "application/vnd.jupyter.widget-view+json": {
       "model_id": "b0ea0c2003c8456397a84249d701150e",
       "version_major": 2,
       "version_minor": 0
      },
      "text/plain": [
       "Encoding Products:   0%|          | 0/8 [00:00<?, ?it/s]"
      ]
     },
     "metadata": {},
     "output_type": "display_data"
    },
    {
     "data": {
      "application/vnd.jupyter.widget-view+json": {
       "model_id": "40dbb76fadf04a8ea4b5e7d9a8eabee3",
       "version_major": 2,
       "version_minor": 0
      },
      "text/plain": [
       "Evaluating Queries:   0%|          | 0/8 [00:00<?, ?it/s]"
      ]
     },
     "metadata": {},
     "output_type": "display_data"
    },
    {
     "name": "stdout",
     "output_type": "stream",
     "text": [
      "Evaluation Metrics:\n",
      "Hits@10: 0.6949\n",
      "MRR: 0.2656\n"
     ]
    },
    {
     "data": {
      "application/vnd.jupyter.widget-view+json": {
       "model_id": "568ded50adeb49cd9e370287bdcaaa25",
       "version_major": 2,
       "version_minor": 0
      },
      "text/plain": [
       "Epoch 46/100:   0%|          | 0/30 [00:00<?, ?it/s]"
      ]
     },
     "metadata": {},
     "output_type": "display_data"
    },
    {
     "name": "stdout",
     "output_type": "stream",
     "text": [
      "\n",
      "Epoch 46/100, Average Loss: 0.7296\n",
      "\n",
      "Evaluating model...\n"
     ]
    },
    {
     "data": {
      "application/vnd.jupyter.widget-view+json": {
       "model_id": "e1406956f4634ff18fb1cc117c774999",
       "version_major": 2,
       "version_minor": 0
      },
      "text/plain": [
       "Encoding Products:   0%|          | 0/8 [00:00<?, ?it/s]"
      ]
     },
     "metadata": {},
     "output_type": "display_data"
    },
    {
     "data": {
      "application/vnd.jupyter.widget-view+json": {
       "model_id": "2a581f16ec2b4c48bc2d784524793cbc",
       "version_major": 2,
       "version_minor": 0
      },
      "text/plain": [
       "Evaluating Queries:   0%|          | 0/8 [00:00<?, ?it/s]"
      ]
     },
     "metadata": {},
     "output_type": "display_data"
    },
    {
     "name": "stdout",
     "output_type": "stream",
     "text": [
      "Evaluation Metrics:\n",
      "Hits@10: 0.5763\n",
      "MRR: 0.2234\n"
     ]
    },
    {
     "data": {
      "application/vnd.jupyter.widget-view+json": {
       "model_id": "3d91a9ff74ce43fbbc6b7f097d1a37a9",
       "version_major": 2,
       "version_minor": 0
      },
      "text/plain": [
       "Epoch 47/100:   0%|          | 0/30 [00:00<?, ?it/s]"
      ]
     },
     "metadata": {},
     "output_type": "display_data"
    },
    {
     "name": "stdout",
     "output_type": "stream",
     "text": [
      "\n",
      "Epoch 47/100, Average Loss: 0.7368\n",
      "\n",
      "Evaluating model...\n"
     ]
    },
    {
     "data": {
      "application/vnd.jupyter.widget-view+json": {
       "model_id": "7173ac4cc6ad45049a6dd95128d71a43",
       "version_major": 2,
       "version_minor": 0
      },
      "text/plain": [
       "Encoding Products:   0%|          | 0/8 [00:00<?, ?it/s]"
      ]
     },
     "metadata": {},
     "output_type": "display_data"
    },
    {
     "data": {
      "application/vnd.jupyter.widget-view+json": {
       "model_id": "e6b39f23624145c18e7d0c1da02f5399",
       "version_major": 2,
       "version_minor": 0
      },
      "text/plain": [
       "Evaluating Queries:   0%|          | 0/8 [00:00<?, ?it/s]"
      ]
     },
     "metadata": {},
     "output_type": "display_data"
    },
    {
     "name": "stdout",
     "output_type": "stream",
     "text": [
      "Evaluation Metrics:\n",
      "Hits@10: 0.5254\n",
      "MRR: 0.2543\n"
     ]
    },
    {
     "data": {
      "application/vnd.jupyter.widget-view+json": {
       "model_id": "80ff99b111354a3c8836d427d5e98403",
       "version_major": 2,
       "version_minor": 0
      },
      "text/plain": [
       "Epoch 48/100:   0%|          | 0/30 [00:00<?, ?it/s]"
      ]
     },
     "metadata": {},
     "output_type": "display_data"
    },
    {
     "name": "stdout",
     "output_type": "stream",
     "text": [
      "\n",
      "Epoch 48/100, Average Loss: 0.7319\n",
      "\n",
      "Evaluating model...\n"
     ]
    },
    {
     "data": {
      "application/vnd.jupyter.widget-view+json": {
       "model_id": "c96324c1a9a4486f8ab43661f3b355b8",
       "version_major": 2,
       "version_minor": 0
      },
      "text/plain": [
       "Encoding Products:   0%|          | 0/8 [00:00<?, ?it/s]"
      ]
     },
     "metadata": {},
     "output_type": "display_data"
    },
    {
     "data": {
      "application/vnd.jupyter.widget-view+json": {
       "model_id": "82c70a6dde4f46cb8c04a6ae6af89b38",
       "version_major": 2,
       "version_minor": 0
      },
      "text/plain": [
       "Evaluating Queries:   0%|          | 0/8 [00:00<?, ?it/s]"
      ]
     },
     "metadata": {},
     "output_type": "display_data"
    },
    {
     "name": "stdout",
     "output_type": "stream",
     "text": [
      "Evaluation Metrics:\n",
      "Hits@10: 0.5763\n",
      "MRR: 0.2599\n"
     ]
    },
    {
     "data": {
      "application/vnd.jupyter.widget-view+json": {
       "model_id": "6b03955a565e40a586652ad9252cdd69",
       "version_major": 2,
       "version_minor": 0
      },
      "text/plain": [
       "Epoch 49/100:   0%|          | 0/30 [00:00<?, ?it/s]"
      ]
     },
     "metadata": {},
     "output_type": "display_data"
    },
    {
     "name": "stdout",
     "output_type": "stream",
     "text": [
      "\n",
      "Epoch 49/100, Average Loss: 0.7331\n",
      "\n",
      "Evaluating model...\n"
     ]
    },
    {
     "data": {
      "application/vnd.jupyter.widget-view+json": {
       "model_id": "3332a967c87540bca201cfe14688eaea",
       "version_major": 2,
       "version_minor": 0
      },
      "text/plain": [
       "Encoding Products:   0%|          | 0/8 [00:00<?, ?it/s]"
      ]
     },
     "metadata": {},
     "output_type": "display_data"
    },
    {
     "data": {
      "application/vnd.jupyter.widget-view+json": {
       "model_id": "039b6ca3103243898ef3f297767e97d7",
       "version_major": 2,
       "version_minor": 0
      },
      "text/plain": [
       "Evaluating Queries:   0%|          | 0/8 [00:00<?, ?it/s]"
      ]
     },
     "metadata": {},
     "output_type": "display_data"
    },
    {
     "name": "stdout",
     "output_type": "stream",
     "text": [
      "Evaluation Metrics:\n",
      "Hits@10: 0.5763\n",
      "MRR: 0.2965\n"
     ]
    },
    {
     "data": {
      "application/vnd.jupyter.widget-view+json": {
       "model_id": "7182722428d047da82165d3557db67aa",
       "version_major": 2,
       "version_minor": 0
      },
      "text/plain": [
       "Epoch 50/100:   0%|          | 0/30 [00:00<?, ?it/s]"
      ]
     },
     "metadata": {},
     "output_type": "display_data"
    },
    {
     "name": "stdout",
     "output_type": "stream",
     "text": [
      "\n",
      "Epoch 50/100, Average Loss: 0.7597\n",
      "\n",
      "Evaluating model...\n"
     ]
    },
    {
     "data": {
      "application/vnd.jupyter.widget-view+json": {
       "model_id": "0c63f80771724c4495d0efbb57347b9b",
       "version_major": 2,
       "version_minor": 0
      },
      "text/plain": [
       "Encoding Products:   0%|          | 0/8 [00:00<?, ?it/s]"
      ]
     },
     "metadata": {},
     "output_type": "display_data"
    },
    {
     "data": {
      "application/vnd.jupyter.widget-view+json": {
       "model_id": "1eca22324da046f2bcb1940cb636756f",
       "version_major": 2,
       "version_minor": 0
      },
      "text/plain": [
       "Evaluating Queries:   0%|          | 0/8 [00:00<?, ?it/s]"
      ]
     },
     "metadata": {},
     "output_type": "display_data"
    },
    {
     "name": "stdout",
     "output_type": "stream",
     "text": [
      "Evaluation Metrics:\n",
      "Hits@10: 0.6271\n",
      "MRR: 0.2644\n"
     ]
    }
   ],
   "source": [
    "query_encoder, product_encoder, hits_in_top_k_history, mrr_history = train_embedding_model(train_dataset, num_epochs=100, eval_dataset=val_dataset, patience=10)"
   ]
  },
  {
   "cell_type": "code",
   "execution_count": 13,
   "id": "93d66b1d-0f94-498e-8a71-874af894210d",
   "metadata": {},
   "outputs": [
    {
     "data": {
      "image/png": "[encoded data removed]",
      "text/plain": [
       "<Figure size 640x480 with 1 Axes>"
      ]
     },
     "metadata": {},
     "output_type": "display_data"
    }
   ],
   "source": [
    "plt.plot(hits_in_top_k_history)\n",
    "plt.xlabel(\"Epoch\")\n",
    "plt.ylabel(\"Proportion of Appearances\")\n",
    "plt.title(\"Proportion of Products Appearing in Top 10 Results\")\n",
    "plt.show()"
   ]
  },
  {
   "cell_type": "code",
   "execution_count": 14,
   "id": "bc621d80-c8aa-4ee7-a149-c9b7a8618996",
   "metadata": {},
   "outputs": [
    {
     "data": {
      "image/png": "[encoded data removed]",
      "text/plain": [
       "<Figure size 640x480 with 1 Axes>"
      ]
     },
     "metadata": {},
     "output_type": "display_data"
    }
   ],
   "source": [
    "plt.plot(mrr_history)\n",
    "plt.xlabel(\"Epoch\")\n",
    "plt.ylabel(\"MRR\")\n",
    "plt.title(\"Validation Mean Reciprocal Rank\")\n",
    "plt.show()"
   ]
  },
  {
   "cell_type": "code",
   "execution_count": 15,
   "id": "04553728-b6c6-45ab-8e2b-a5062a03d82c",
   "metadata": {},
   "outputs": [],
   "source": [
    "# Save models\n",
    "torch.save(query_encoder.state_dict(), 'data/home_products_query_encoder_v3.pt')\n",
    "torch.save(product_encoder.state_dict(), 'data/home_products_description_encoder_v3.pt')"
   ]
  }
 ],
 "metadata": {
  "kernelspec": {
   "display_name": "Python 3 (ipykernel)",
   "language": "python",
   "name": "python3"
  },
  "language_info": {
   "codemirror_mode": {
    "name": "ipython",
    "version": 3
   },
   "file_extension": ".py",
   "mimetype": "text/x-python",
   "name": "python",
   "nbconvert_exporter": "python",
   "pygments_lexer": "ipython3",
   "version": "3.10.14"
  }
 },
 "nbformat": 4,
 "nbformat_minor": 5
}
