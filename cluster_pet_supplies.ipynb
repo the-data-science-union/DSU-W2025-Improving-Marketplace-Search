{
 "cells": [
  {
   "cell_type": "code",
   "execution_count": 2,
   "id": "cd411acb-03eb-49aa-816f-9eb6934d6e8c",
   "metadata": {},
   "outputs": [],
   "source": [
    "import numpy as np\n",
    "import pandas as pd\n",
    "import matplotlib.pyplot as plt\n",
    "from sklearn.feature_extraction.text import TfidfVectorizer\n",
    "from sklearn.cluster import KMeans\n",
    "from sentence_transformers import SentenceTransformer\n",
    "from umap import UMAP\n",
    "from bertopic import BERTopic\n",
    "import hdbscan\n",
    "import re"
   ]
  },
  {
   "cell_type": "code",
   "execution_count": 8,
   "id": "b0eb38e3",
   "metadata": {},
   "outputs": [
    {
     "name": "stderr",
     "output_type": "stream",
     "text": [
      "huggingface/tokenizers: The current process just got forked, after parallelism has already been used. Disabling parallelism to avoid deadlocks...\n",
      "To disable this warning, you can either:\n",
      "\t- Avoid using `tokenizers` before the fork if possible\n",
      "\t- Explicitly set the environment variable TOKENIZERS_PARALLELISM=(true | false)\n"
     ]
    },
    {
     "name": "stdout",
     "output_type": "stream",
     "text": [
      "Requirement already satisfied: tbb in /Users/rithwikn/new_env/lib/python3.9/site-packages (2021.10.0)\r\n"
     ]
    }
   ],
   "source": [
    "!pip install tbb"
   ]
  },
  {
   "cell_type": "code",
   "execution_count": 3,
   "id": "04d3468b",
   "metadata": {},
   "outputs": [],
   "source": [
    "import os\n",
    "\n",
    "os.environ['KMP_DUPLICATE_LIB_OK']='True'\n",
    "import os\n",
    "os.environ[\"NUMBA_THREADING_LAYER\"] = \"tbb\"\n",
    "os.environ[\"MKL_THREADING_LAYER\"] = \"tbb\"\n"
   ]
  },
  {
   "cell_type": "code",
   "execution_count": 4,
   "id": "7cc242b8-9284-4e3c-86b8-dc00c9a1ee6b",
   "metadata": {},
   "outputs": [],
   "source": [
    "class ProductGroupGenerator:\n",
    "    def __init__(self, min_cluster_size=5, max_clusters=82):\n",
    "        self.sentence_model = SentenceTransformer('all-MiniLM-L6-v2')\n",
    "        self.tfidf = TfidfVectorizer(\n",
    "            max_features=1000,\n",
    "            stop_words='english',\n",
    "            ngram_range=(1, 2)\n",
    "        )\n",
    "        self.min_cluster_size = min_cluster_size\n",
    "        self.max_clusters = max_clusters\n",
    "        \n",
    "    def preprocess_text(self, text):\n",
    "        # Convert to lowercase and remove special characters\n",
    "        text = re.sub(r'[^a-zA-Z0-9\\s]', ' ', str(text).lower())\n",
    "        # Remove extra whitespace\n",
    "        text = re.sub(r'\\s+', ' ', text).strip()\n",
    "        return text\n",
    "        \n",
    "    def generate_clusters(self, texts, method='combined', n_clusters=None):\n",
    "        \"\"\"\n",
    "        Generate product clusters using different methods\n",
    "        \n",
    "        Args:\n",
    "            texts: List of product titles/descriptions\n",
    "            method: One of 'tfidf_kmeans', 'bert_topic', or 'combined'\n",
    "            n_clusters: Optional target number of clusters\n",
    "        \"\"\"\n",
    "        if n_clusters is None:\n",
    "            n_clusters = min(len(texts) // self.min_cluster_size, self.max_clusters)\n",
    "            \n",
    "        processed_texts = [self.preprocess_text(text) for text in texts]\n",
    "        \n",
    "        if method == 'tfidf_kmeans':\n",
    "            return self._cluster_tfidf_kmeans(processed_texts, n_clusters)\n",
    "        elif method == 'bert_topic':\n",
    "            return self._cluster_bert_topic(processed_texts)\n",
    "        elif method == 'combined':\n",
    "            return self._cluster_combined(processed_texts, n_clusters)\n",
    "        else:\n",
    "            raise ValueError(\"Invalid clustering method\")\n",
    "    \n",
    "    def _cluster_tfidf_kmeans(self, texts, n_clusters):\n",
    "        # Transform texts to TF-IDF vectors\n",
    "        tfidf_matrix = self.tfidf.fit_transform(texts)\n",
    "        \n",
    "        kmeans = KMeans(n_clusters=n_clusters, random_state=42)\n",
    "        labels = kmeans.fit_predict(tfidf_matrix)\n",
    "        \n",
    "        # Get top terms for each cluster\n",
    "        cluster_terms = {}\n",
    "        feature_names = self.tfidf.get_feature_names_out()\n",
    "        for i in range(n_clusters):\n",
    "            center_indices = kmeans.cluster_centers_[i].argsort()[::-1][:5]\n",
    "            cluster_terms[i] = [feature_names[idx] for idx in center_indices]\n",
    "            \n",
    "        return labels, cluster_terms\n",
    "    \n",
    "    def _cluster_bert_topic(self, texts):\n",
    "        # Create embeddings\n",
    "        embeddings = self.sentence_model.encode(texts)\n",
    "        \n",
    "        # Initialize BERTopic\n",
    "        topic_model = BERTopic(\n",
    "            umap_model=UMAP(n_neighbors=15, n_components=5, min_dist=0.0, metric='cosine'),\n",
    "            hdbscan_model=hdbscan.HDBSCAN(\n",
    "                min_cluster_size=self.min_cluster_size,\n",
    "                min_samples=1,\n",
    "                metric='euclidean',\n",
    "                cluster_selection_method='eom'\n",
    "            ),\n",
    "            verbose=True\n",
    "        )\n",
    "        \n",
    "        # Fit the model and get topics\n",
    "        labels, _ = topic_model.fit_transform(texts, embeddings)\n",
    "        \n",
    "        # Get topic terms\n",
    "        topic_terms = {}\n",
    "        for topic_idx, words in topic_model.get_topics().items():\n",
    "            topic_terms[topic_idx] = [word[0] for word in words[:5]]\n",
    "            \n",
    "        return labels, topic_terms\n",
    "    \n",
    "    def _cluster_combined(self, texts, n_clusters):\n",
    "        # Get clusters from both methods\n",
    "        print(\"CLUSTERING BY KMEANS\")\n",
    "        kmeans_labels, kmeans_terms = self._cluster_tfidf_kmeans(texts, n_clusters)\n",
    "        print(\"CLUSTERING BY BERT\")\n",
    "        bert_labels, bert_terms = self._cluster_bert_topic(texts)\n",
    "        \n",
    "        # Create ensemble clustering\n",
    "        # Convert labels to one-hot encoding\n",
    "        def one_hot_encode(labels):\n",
    "            n_unique = len(np.unique(labels))\n",
    "            return np.eye(n_unique)[labels]\n",
    "        \n",
    "        kmeans_oh = one_hot_encode(kmeans_labels)\n",
    "        bert_oh = one_hot_encode(bert_labels)\n",
    "        \n",
    "        # Concatenate features\n",
    "        combined_features = np.hstack([kmeans_oh, bert_oh])\n",
    "        \n",
    "        # Final clustering on combined features\n",
    "        print(\"CREATING FINAL CLUSTERING COMBINATION\")\n",
    "        final_kmeans = KMeans(n_clusters=n_clusters)\n",
    "        final_labels = final_kmeans.fit_predict(combined_features)\n",
    "        \n",
    "        # Combine terms from both methods for final clusters\n",
    "        final_terms = {}\n",
    "        for i in range(n_clusters):\n",
    "            terms_set = set()\n",
    "            terms_set.update(kmeans_terms.get(i, []))\n",
    "            terms_set.update(bert_terms.get(i, []))\n",
    "            final_terms[i] = list(terms_set)[:5]\n",
    "            \n",
    "        return final_labels, final_terms\n",
    "\n",
    "    def analyze_clusters(self, texts, labels, cluster_terms):\n",
    "        \"\"\"\n",
    "        Analyze cluster quality and characteristics\n",
    "        \"\"\"\n",
    "        cluster_stats = {}\n",
    "        unique_labels = np.unique(labels)\n",
    "        \n",
    "        for label in unique_labels:\n",
    "            cluster_texts = [texts[i] for i in range(len(texts)) if labels[i] == label]\n",
    "            cluster_stats[label] = {\n",
    "                'size': len(cluster_texts),\n",
    "                'terms': cluster_terms.get(label, []),\n",
    "                'sample_products': cluster_texts[:3]  # Show 3 example products\n",
    "            }\n",
    "            \n",
    "        return cluster_stats"
   ]
  },
  {
   "cell_type": "code",
   "execution_count": 5,
   "id": "be193eef-7148-4aca-a5e9-d715e91ca3bb",
   "metadata": {},
   "outputs": [],
   "source": [
    "# Prepare your data\n",
    "products_df = pd.read_csv('pet_supplies_cleaned.csv')\n",
    "texts = products_df['title'] + ' ' + products_df['description']"
   ]
  },
  {
   "cell_type": "code",
   "execution_count": 6,
   "id": "fbd354cd-accd-4968-8746-c2a524d4f145",
   "metadata": {},
   "outputs": [],
   "source": [
    "# Initialize clustering class\n",
    "generator = ProductGroupGenerator(min_cluster_size=50, max_clusters = 200)"
   ]
  },
  {
   "cell_type": "code",
   "execution_count": 7,
   "id": "b81cd68e-dcb3-46ce-a6d6-a8a4fe0f2739",
   "metadata": {},
   "outputs": [
    {
     "name": "stdout",
     "output_type": "stream",
     "text": [
      "CLUSTERING BY KMEANS\n"
     ]
    },
    {
     "name": "stderr",
     "output_type": "stream",
     "text": [
      "/Users/rithwikn/new_env/lib/python3.9/site-packages/threadpoolctl.py:1214: RuntimeWarning:\n",
      "\n",
      "\n",
      "Found Intel OpenMP ('libiomp') and LLVM OpenMP ('libomp') loaded at\n",
      "the same time. Both libraries are known to be incompatible and this\n",
      "can cause random crashes or deadlocks on Linux when loaded in the\n",
      "same Python program.\n",
      "Using threadpoolctl may cause crashes or deadlocks. For more\n",
      "information and possible workarounds, please see\n",
      "    https://github.com/joblib/threadpoolctl/blob/master/multiple_openmp.md\n",
      "\n",
      "\n"
     ]
    },
    {
     "name": "stdout",
     "output_type": "stream",
     "text": [
      "CLUSTERING BY BERT\n"
     ]
    },
    {
     "name": "stderr",
     "output_type": "stream",
     "text": [
      "2025-02-04 12:09:19,393 - BERTopic - Dimensionality - Fitting the dimensionality reduction algorithm\n",
      "/Users/rithwikn/new_env/lib/python3.9/site-packages/numba/np/ufunc/parallel.py:371: NumbaWarning:\n",
      "\n",
      "The TBB threading layer requires TBB version 2021 update 6 or later i.e., TBB_INTERFACE_VERSION >= 12060. Found TBB_INTERFACE_VERSION = 12050. The TBB threading layer is disabled.\n",
      "\n"
     ]
    },
    {
     "ename": "ValueError",
     "evalue": "No threading layer could be loaded.\nHINT:\nIntel TBB is required, try:\n$ conda/pip install tbb",
     "output_type": "error",
     "traceback": [
      "\u001b[0;31m---------------------------------------------------------------------------\u001b[0m",
      "\u001b[0;31mValueError\u001b[0m                                Traceback (most recent call last)",
      "Cell \u001b[0;32mIn[7], line 2\u001b[0m\n\u001b[1;32m      1\u001b[0m \u001b[38;5;66;03m# Run clustering\u001b[39;00m\n\u001b[0;32m----> 2\u001b[0m labels, cluster_terms \u001b[38;5;241m=\u001b[39m \u001b[43mgenerator\u001b[49m\u001b[38;5;241;43m.\u001b[39;49m\u001b[43mgenerate_clusters\u001b[49m\u001b[43m(\u001b[49m\u001b[43mtexts\u001b[49m\u001b[43m,\u001b[49m\u001b[43m \u001b[49m\u001b[43mmethod\u001b[49m\u001b[38;5;241;43m=\u001b[39;49m\u001b[38;5;124;43m'\u001b[39;49m\u001b[38;5;124;43mcombined\u001b[39;49m\u001b[38;5;124;43m'\u001b[39;49m\u001b[43m)\u001b[49m\n",
      "Cell \u001b[0;32mIn[4], line 38\u001b[0m, in \u001b[0;36mProductGroupGenerator.generate_clusters\u001b[0;34m(self, texts, method, n_clusters)\u001b[0m\n\u001b[1;32m     36\u001b[0m     \u001b[38;5;28;01mreturn\u001b[39;00m \u001b[38;5;28mself\u001b[39m\u001b[38;5;241m.\u001b[39m_cluster_bert_topic(processed_texts)\n\u001b[1;32m     37\u001b[0m \u001b[38;5;28;01melif\u001b[39;00m method \u001b[38;5;241m==\u001b[39m \u001b[38;5;124m'\u001b[39m\u001b[38;5;124mcombined\u001b[39m\u001b[38;5;124m'\u001b[39m:\n\u001b[0;32m---> 38\u001b[0m     \u001b[38;5;28;01mreturn\u001b[39;00m \u001b[38;5;28;43mself\u001b[39;49m\u001b[38;5;241;43m.\u001b[39;49m\u001b[43m_cluster_combined\u001b[49m\u001b[43m(\u001b[49m\u001b[43mprocessed_texts\u001b[49m\u001b[43m,\u001b[49m\u001b[43m \u001b[49m\u001b[43mn_clusters\u001b[49m\u001b[43m)\u001b[49m\n\u001b[1;32m     39\u001b[0m \u001b[38;5;28;01melse\u001b[39;00m:\n\u001b[1;32m     40\u001b[0m     \u001b[38;5;28;01mraise\u001b[39;00m \u001b[38;5;167;01mValueError\u001b[39;00m(\u001b[38;5;124m\"\u001b[39m\u001b[38;5;124mInvalid clustering method\u001b[39m\u001b[38;5;124m\"\u001b[39m)\n",
      "Cell \u001b[0;32mIn[4], line 89\u001b[0m, in \u001b[0;36mProductGroupGenerator._cluster_combined\u001b[0;34m(self, texts, n_clusters)\u001b[0m\n\u001b[1;32m     87\u001b[0m kmeans_labels, kmeans_terms \u001b[38;5;241m=\u001b[39m \u001b[38;5;28mself\u001b[39m\u001b[38;5;241m.\u001b[39m_cluster_tfidf_kmeans(texts, n_clusters)\n\u001b[1;32m     88\u001b[0m \u001b[38;5;28mprint\u001b[39m(\u001b[38;5;124m\"\u001b[39m\u001b[38;5;124mCLUSTERING BY BERT\u001b[39m\u001b[38;5;124m\"\u001b[39m)\n\u001b[0;32m---> 89\u001b[0m bert_labels, bert_terms \u001b[38;5;241m=\u001b[39m \u001b[38;5;28;43mself\u001b[39;49m\u001b[38;5;241;43m.\u001b[39;49m\u001b[43m_cluster_bert_topic\u001b[49m\u001b[43m(\u001b[49m\u001b[43mtexts\u001b[49m\u001b[43m)\u001b[49m\n\u001b[1;32m     91\u001b[0m \u001b[38;5;66;03m# Create ensemble clustering\u001b[39;00m\n\u001b[1;32m     92\u001b[0m \u001b[38;5;66;03m# Convert labels to one-hot encoding\u001b[39;00m\n\u001b[1;32m     93\u001b[0m \u001b[38;5;28;01mdef\u001b[39;00m\u001b[38;5;250m \u001b[39m\u001b[38;5;21mone_hot_encode\u001b[39m(labels):\n",
      "Cell \u001b[0;32mIn[4], line 75\u001b[0m, in \u001b[0;36mProductGroupGenerator._cluster_bert_topic\u001b[0;34m(self, texts)\u001b[0m\n\u001b[1;32m     63\u001b[0m topic_model \u001b[38;5;241m=\u001b[39m BERTopic(\n\u001b[1;32m     64\u001b[0m     umap_model\u001b[38;5;241m=\u001b[39mUMAP(n_neighbors\u001b[38;5;241m=\u001b[39m\u001b[38;5;241m15\u001b[39m, n_components\u001b[38;5;241m=\u001b[39m\u001b[38;5;241m5\u001b[39m, min_dist\u001b[38;5;241m=\u001b[39m\u001b[38;5;241m0.0\u001b[39m, metric\u001b[38;5;241m=\u001b[39m\u001b[38;5;124m'\u001b[39m\u001b[38;5;124mcosine\u001b[39m\u001b[38;5;124m'\u001b[39m),\n\u001b[1;32m     65\u001b[0m     hdbscan_model\u001b[38;5;241m=\u001b[39mhdbscan\u001b[38;5;241m.\u001b[39mHDBSCAN(\n\u001b[0;32m   (...)\u001b[0m\n\u001b[1;32m     71\u001b[0m     verbose\u001b[38;5;241m=\u001b[39m\u001b[38;5;28;01mTrue\u001b[39;00m\n\u001b[1;32m     72\u001b[0m )\n\u001b[1;32m     74\u001b[0m \u001b[38;5;66;03m# Fit the model and get topics\u001b[39;00m\n\u001b[0;32m---> 75\u001b[0m labels, _ \u001b[38;5;241m=\u001b[39m \u001b[43mtopic_model\u001b[49m\u001b[38;5;241;43m.\u001b[39;49m\u001b[43mfit_transform\u001b[49m\u001b[43m(\u001b[49m\u001b[43mtexts\u001b[49m\u001b[43m,\u001b[49m\u001b[43m \u001b[49m\u001b[43membeddings\u001b[49m\u001b[43m)\u001b[49m\n\u001b[1;32m     77\u001b[0m \u001b[38;5;66;03m# Get topic terms\u001b[39;00m\n\u001b[1;32m     78\u001b[0m topic_terms \u001b[38;5;241m=\u001b[39m {}\n",
      "File \u001b[0;32m~/new_env/lib/python3.9/site-packages/bertopic/_bertopic.py:449\u001b[0m, in \u001b[0;36mBERTopic.fit_transform\u001b[0;34m(self, documents, embeddings, images, y)\u001b[0m\n\u001b[1;32m    446\u001b[0m     y, embeddings \u001b[38;5;241m=\u001b[39m \u001b[38;5;28mself\u001b[39m\u001b[38;5;241m.\u001b[39m_guided_topic_modeling(embeddings)\n\u001b[1;32m    448\u001b[0m \u001b[38;5;66;03m# Reduce dimensionality and fit UMAP model\u001b[39;00m\n\u001b[0;32m--> 449\u001b[0m umap_embeddings \u001b[38;5;241m=\u001b[39m \u001b[38;5;28;43mself\u001b[39;49m\u001b[38;5;241;43m.\u001b[39;49m\u001b[43m_reduce_dimensionality\u001b[49m\u001b[43m(\u001b[49m\u001b[43membeddings\u001b[49m\u001b[43m,\u001b[49m\u001b[43m \u001b[49m\u001b[43my\u001b[49m\u001b[43m)\u001b[49m\n\u001b[1;32m    451\u001b[0m \u001b[38;5;66;03m# Zero-shot Topic Modeling\u001b[39;00m\n\u001b[1;32m    452\u001b[0m \u001b[38;5;28;01mif\u001b[39;00m \u001b[38;5;28mself\u001b[39m\u001b[38;5;241m.\u001b[39m_is_zeroshot():\n",
      "File \u001b[0;32m~/new_env/lib/python3.9/site-packages/bertopic/_bertopic.py:3742\u001b[0m, in \u001b[0;36mBERTopic._reduce_dimensionality\u001b[0;34m(self, embeddings, y, partial_fit)\u001b[0m\n\u001b[1;32m   3739\u001b[0m \u001b[38;5;28;01mtry\u001b[39;00m:\n\u001b[1;32m   3740\u001b[0m     \u001b[38;5;66;03m# cuml umap needs y to be an numpy array\u001b[39;00m\n\u001b[1;32m   3741\u001b[0m     y \u001b[38;5;241m=\u001b[39m np\u001b[38;5;241m.\u001b[39marray(y) \u001b[38;5;28;01mif\u001b[39;00m y \u001b[38;5;129;01mis\u001b[39;00m \u001b[38;5;129;01mnot\u001b[39;00m \u001b[38;5;28;01mNone\u001b[39;00m \u001b[38;5;28;01melse\u001b[39;00m \u001b[38;5;28;01mNone\u001b[39;00m\n\u001b[0;32m-> 3742\u001b[0m     \u001b[38;5;28;43mself\u001b[39;49m\u001b[38;5;241;43m.\u001b[39;49m\u001b[43mumap_model\u001b[49m\u001b[38;5;241;43m.\u001b[39;49m\u001b[43mfit\u001b[49m\u001b[43m(\u001b[49m\u001b[43membeddings\u001b[49m\u001b[43m,\u001b[49m\u001b[43m \u001b[49m\u001b[43my\u001b[49m\u001b[38;5;241;43m=\u001b[39;49m\u001b[43my\u001b[49m\u001b[43m)\u001b[49m\n\u001b[1;32m   3743\u001b[0m \u001b[38;5;28;01mexcept\u001b[39;00m \u001b[38;5;167;01mTypeError\u001b[39;00m:\n\u001b[1;32m   3744\u001b[0m     \u001b[38;5;28mself\u001b[39m\u001b[38;5;241m.\u001b[39mumap_model\u001b[38;5;241m.\u001b[39mfit(embeddings)\n",
      "File \u001b[0;32m~/new_env/lib/python3.9/site-packages/umap/umap_.py:2413\u001b[0m, in \u001b[0;36mUMAP.fit\u001b[0;34m(self, X, y, force_all_finite, **kwargs)\u001b[0m\n\u001b[1;32m   2410\u001b[0m \u001b[38;5;28;01mif\u001b[39;00m \u001b[38;5;28mself\u001b[39m\u001b[38;5;241m.\u001b[39mverbose:\n\u001b[1;32m   2411\u001b[0m     \u001b[38;5;28mprint\u001b[39m(\u001b[38;5;28mstr\u001b[39m(\u001b[38;5;28mself\u001b[39m))\n\u001b[0;32m-> 2413\u001b[0m \u001b[38;5;28mself\u001b[39m\u001b[38;5;241m.\u001b[39m_original_n_threads \u001b[38;5;241m=\u001b[39m \u001b[43mnumba\u001b[49m\u001b[38;5;241;43m.\u001b[39;49m\u001b[43mget_num_threads\u001b[49m\u001b[43m(\u001b[49m\u001b[43m)\u001b[49m\n\u001b[1;32m   2414\u001b[0m \u001b[38;5;28;01mif\u001b[39;00m \u001b[38;5;28mself\u001b[39m\u001b[38;5;241m.\u001b[39mn_jobs \u001b[38;5;241m>\u001b[39m \u001b[38;5;241m0\u001b[39m \u001b[38;5;129;01mand\u001b[39;00m \u001b[38;5;28mself\u001b[39m\u001b[38;5;241m.\u001b[39mn_jobs \u001b[38;5;129;01mis\u001b[39;00m \u001b[38;5;129;01mnot\u001b[39;00m \u001b[38;5;28;01mNone\u001b[39;00m:\n\u001b[1;32m   2415\u001b[0m     numba\u001b[38;5;241m.\u001b[39mset_num_threads(\u001b[38;5;28mself\u001b[39m\u001b[38;5;241m.\u001b[39mn_jobs)\n",
      "File \u001b[0;32m~/new_env/lib/python3.9/site-packages/numba/np/ufunc/parallel.py:649\u001b[0m, in \u001b[0;36mget_num_threads\u001b[0;34m()\u001b[0m\n\u001b[1;32m    627\u001b[0m \u001b[38;5;28;01mdef\u001b[39;00m\u001b[38;5;250m \u001b[39m\u001b[38;5;21mget_num_threads\u001b[39m():\n\u001b[1;32m    628\u001b[0m \u001b[38;5;250m    \u001b[39m\u001b[38;5;124;03m\"\"\"\u001b[39;00m\n\u001b[1;32m    629\u001b[0m \u001b[38;5;124;03m    Get the number of threads used for parallel execution.\u001b[39;00m\n\u001b[1;32m    630\u001b[0m \n\u001b[0;32m   (...)\u001b[0m\n\u001b[1;32m    647\u001b[0m \n\u001b[1;32m    648\u001b[0m \u001b[38;5;124;03m    \"\"\"\u001b[39;00m\n\u001b[0;32m--> 649\u001b[0m     \u001b[43m_launch_threads\u001b[49m\u001b[43m(\u001b[49m\u001b[43m)\u001b[49m\n\u001b[1;32m    650\u001b[0m     num_threads \u001b[38;5;241m=\u001b[39m _get_num_threads()\n\u001b[1;32m    651\u001b[0m     \u001b[38;5;28;01mif\u001b[39;00m num_threads \u001b[38;5;241m<\u001b[39m\u001b[38;5;241m=\u001b[39m \u001b[38;5;241m0\u001b[39m:\n",
      "File \u001b[0;32m~/new_env/lib/python3.9/site-packages/numba/np/ufunc/parallel.py:513\u001b[0m, in \u001b[0;36m_launch_threads\u001b[0;34m()\u001b[0m\n\u001b[1;32m    511\u001b[0m \u001b[38;5;66;03m# No lib found, raise and hint\u001b[39;00m\n\u001b[1;32m    512\u001b[0m \u001b[38;5;28;01mif\u001b[39;00m \u001b[38;5;129;01mnot\u001b[39;00m lib:\n\u001b[0;32m--> 513\u001b[0m     \u001b[43mraise_with_hint\u001b[49m\u001b[43m(\u001b[49m\u001b[43mrequirements\u001b[49m\u001b[43m)\u001b[49m\n\u001b[1;32m    515\u001b[0m ll\u001b[38;5;241m.\u001b[39madd_symbol(\u001b[38;5;124m'\u001b[39m\u001b[38;5;124mnumba_parallel_for\u001b[39m\u001b[38;5;124m'\u001b[39m, lib\u001b[38;5;241m.\u001b[39mparallel_for)\n\u001b[1;32m    516\u001b[0m ll\u001b[38;5;241m.\u001b[39madd_symbol(\u001b[38;5;124m'\u001b[39m\u001b[38;5;124mdo_scheduling_signed\u001b[39m\u001b[38;5;124m'\u001b[39m, lib\u001b[38;5;241m.\u001b[39mdo_scheduling_signed)\n",
      "File \u001b[0;32m~/new_env/lib/python3.9/site-packages/numba/np/ufunc/parallel.py:458\u001b[0m, in \u001b[0;36m_launch_threads.<locals>.raise_with_hint\u001b[0;34m(required)\u001b[0m\n\u001b[1;32m    456\u001b[0m     options \u001b[38;5;241m=\u001b[39m \u001b[38;5;124m'\u001b[39m\u001b[38;5;130;01m\\n\u001b[39;00m\u001b[38;5;124mOR\u001b[39m\u001b[38;5;130;01m\\n\u001b[39;00m\u001b[38;5;124m'\u001b[39m\u001b[38;5;241m.\u001b[39mjoin([err_helpers[x] \u001b[38;5;28;01mfor\u001b[39;00m x \u001b[38;5;129;01min\u001b[39;00m required])\n\u001b[1;32m    457\u001b[0m     hint \u001b[38;5;241m=\u001b[39m hintmsg \u001b[38;5;241m%\u001b[39m (\u001b[38;5;124m\"\u001b[39m\u001b[38;5;124mOne of:\u001b[39m\u001b[38;5;130;01m\\n\u001b[39;00m\u001b[38;5;132;01m%s\u001b[39;00m\u001b[38;5;124m\"\u001b[39m \u001b[38;5;241m%\u001b[39m options)\n\u001b[0;32m--> 458\u001b[0m \u001b[38;5;28;01mraise\u001b[39;00m \u001b[38;5;167;01mValueError\u001b[39;00m(errmsg \u001b[38;5;241m%\u001b[39m hint)\n",
      "\u001b[0;31mValueError\u001b[0m: No threading layer could be loaded.\nHINT:\nIntel TBB is required, try:\n$ conda/pip install tbb"
     ]
    }
   ],
   "source": [
    "# Run clustering\n",
    "labels, cluster_terms = generator.generate_clusters(texts, method='combined')"
   ]
  },
  {
   "cell_type": "code",
   "execution_count": 6,
   "id": "54d572f8-35b6-4d9a-abe3-70e7abca4c16",
   "metadata": {},
   "outputs": [
    {
     "ename": "NameError",
     "evalue": "name 'labels' is not defined",
     "output_type": "error",
     "traceback": [
      "\u001b[0;31m---------------------------------------------------------------------------\u001b[0m",
      "\u001b[0;31mNameError\u001b[0m                                 Traceback (most recent call last)",
      "Cell \u001b[0;32mIn[6], line 2\u001b[0m\n\u001b[1;32m      1\u001b[0m \u001b[38;5;66;03m# Analyze the clusters\u001b[39;00m\n\u001b[0;32m----> 2\u001b[0m cluster_stats \u001b[38;5;241m=\u001b[39m generator\u001b[38;5;241m.\u001b[39manalyze_clusters(texts, \u001b[43mlabels\u001b[49m, cluster_terms)\n",
      "\u001b[0;31mNameError\u001b[0m: name 'labels' is not defined"
     ]
    }
   ],
   "source": [
    "# Analyze the clusters\n",
    "cluster_stats = generator.analyze_clusters(texts, labels, cluster_terms)"
   ]
  },
  {
   "cell_type": "code",
   "execution_count": 9,
   "id": "7d1f9b02-85f8-4821-aeec-6a8aca89155e",
   "metadata": {},
   "outputs": [
    {
     "data": {
      "text/plain": [
       "16471"
      ]
     },
     "execution_count": 9,
     "metadata": {},
     "output_type": "execute_result"
    }
   ],
   "source": [
    "# Number of total products\n",
    "products_df.shape[0] "
   ]
  },
  {
   "cell_type": "code",
   "execution_count": 10,
   "id": "6d8c8de1-2078-461c-96c3-cc48126fa1c6",
   "metadata": {},
   "outputs": [
    {
     "data": {
      "text/plain": [
       "200"
      ]
     },
     "execution_count": 10,
     "metadata": {},
     "output_type": "execute_result"
    }
   ],
   "source": [
    "# Number of clusters\n",
    "len(cluster_stats)"
   ]
  },
  {
   "cell_type": "code",
   "execution_count": 20,
   "id": "21789118-4da2-4143-a1f5-e1e7dde292dd",
   "metadata": {},
   "outputs": [
    {
     "name": "stdout",
     "output_type": "stream",
     "text": [
      "Cluster Size: 146\n",
      "Key Terms: led, light, motion, night light, night\n",
      "\n",
      "Cluster Size: 22\n",
      "Key Terms: outdoor, camping, string, string lights, flashlights\n",
      "\n",
      "Cluster Size: 15\n",
      "Key Terms: filter, particles, head, pressure, air\n",
      "\n",
      "Cluster Size: 53\n",
      "Key Terms: outdoor, garden, pathway, bottle, pump\n",
      "\n",
      "Cluster Size: 116\n",
      "Key Terms: fixture, outdoor, ceiling, string, christmas\n",
      "\n",
      "Cluster Size: 164\n",
      "Key Terms: tool, string, speed, battery, panel\n",
      "\n",
      "Cluster Size: 148\n",
      "Key Terms: keys, hex, screwdriver, lock, locks\n",
      "\n",
      "Cluster Size: 78\n",
      "Key Terms: projector, glove, vest, gloves, colors\n",
      "\n",
      "Cluster Size: 38\n",
      "Key Terms: magnetic, filter, screen, water, door\n",
      "\n",
      "Cluster Size: 140\n",
      "Key Terms: usb, ports, led, light, light bulbs\n",
      "\n"
     ]
    }
   ],
   "source": [
    "# Sample of group sizes and key terms\n",
    "for i in range(10):\n",
    "    print(f\"Cluster Size: {cluster_stats[i]['size']}\")\n",
    "    print(f\"Key Terms: {', '.join(cluster_stats[i]['terms'])}\\n\")"
   ]
  },
  {
   "cell_type": "code",
   "execution_count": 11,
   "id": "adbf9958-729d-495e-8660-c56dafba11da",
   "metadata": {},
   "outputs": [],
   "source": [
    "num_items = []\n",
    "\n",
    "for cluster in cluster_stats.keys():\n",
    "    num_items.append(cluster_stats[cluster]['size'])"
   ]
  },
  {
   "cell_type": "code",
   "execution_count": 28,
   "id": "78744012-79cf-45a4-bc8f-0183a758520e",
   "metadata": {},
   "outputs": [
    {
     "data": {
      "image/png": "[encoded data removed]",
      "text/plain": [
       "<Figure size 640x480 with 1 Axes>"
      ]
     },
     "metadata": {},
     "output_type": "display_data"
    }
   ],
   "source": [
    "plt.hist(num_items, bins=30, density=True)\n",
    "plt.title(\"Cluster Size Distribution\")\n",
    "plt.xlabel(\"Number of Products in Group\")\n",
    "plt.ylabel(\"Relative Frequency\")\n",
    "plt.show()"
   ]
  },
  {
   "cell_type": "code",
   "execution_count": 32,
   "id": "69d6ce21-66d7-4890-8f01-b047cc41a3c2",
   "metadata": {},
   "outputs": [],
   "source": [
    "products_df['label'] = labels\n",
    "products_df['label'].value_counts()[:5]"
   ]
  },
  {
   "cell_type": "code",
   "execution_count": 34,
   "id": "3f16cc05-4fb4-4dce-a020-04c00f94a0f9",
   "metadata": {},
   "outputs": [
    {
     "data": {
      "text/plain": [
       "{'size': 1556,\n",
       " 'terms': ['durable', 'plastic', 'easy', 'use', 'product'],\n",
       " 'sample_products': ['K&J Premium 4ft Stainless Steel Washing Machine Hoses Burst Proof 2 Pack - Hot and Cold Water Supply Hoses for Washing Machines CONTENTS Included in this package are two 4ft stainless steel washing machine hoses suitable for both hot and cold water supply The extrathick internal rubber washers prevent leaks from ever developing INSTALLATION IS A BREEZE 1 Make sure supply taps are turned OFF 2 Remove old hoses from supply taps 3 Handtighten your new supply hoses onto the supply taps Then give another  turn each with a pair of pliers 4 Handtighten the other end of your new supply hoses onto the corresponding inlets on your washer hot to hot cold to cold Then give another  turn each with a pair of pliers 5 Turn on supply taps and check for leaks at all connections DONE Enjoy years and years of hasslefree service These hoses will outlast your washing machine  and the next one  Two 4 Stainless Steel Hoses  4 foot long hoses means enough length that you wont have to shut off your water supply and disconnect your hoses if you need to get behind your washing machine  Hot and Cold Water Supply  These hoses may be used interchangeably as hot or cold washing machine hoses Never worry about which is which  Burst Proof  Our superhigh tensile strength braided stainless steel ensures maximum pressure retaining qualities completely burstproof Never worry about hoseburst floods again These hoses will outlast your washing machine  and the next one  Universal Fit  The 34 NPT connections on either end are a perfect fit for your washer and supply tap',\n",
       "  'Mr.Go 14-inch Rechargeable LED Cube Light Seat w/Remote, RGB Color Changing LED Cube Chair Stool Side Table, Ideal for Home Bedroom Patio Pool Party Mood Lamp Night Light Decorative Lighting Description Looking for something pretty and unusual to decorate your patio home or bar This fantastic LED cube is a brilliant piece of ambient  decorative lighting in one fun package The polythene LED illuminated cube is waterproof shockproof and cordless  so its easy to use anywherePut this fun LED light up lamp in your pool or sit it on your patio for a great evening lighting decoration With a full charge the long lasting rechargeable battery will provide up to 12 hours of continous light  and the LED light saves you money and energy It never gets too hot  so its perfect for using in the kids room tooThis LED light up glow cube decoration is so versatile Put one in your garden use one in your bedroom use them for parties and so much more Controlled by remote control  the cube can be set to change colors or you can choose the perfect color to suit your mood Like all our products its made by manufacturers who specialize in high quality LED lighting products that are built to last Charging  Battery  US Style AC Adapter 110220V 5060Hz Input 5V 1A Output 37V rechargeable lithium ion battery 46 hours charge time up to 12 hours operating time  Charge port with waterproof cover on base of cube Control The remote control unit can control multiple LED cubes to sync together and have the following functionality OnOff 16 fixed color selections 4 color changingtransition Modes BrightenDim on Colors Speed Control on Modes There is also an onoff switch on the bottom of the LED Cube Material Premium Quality Polythene Plastic  Light and strong Waterproof This cube features IP65 waterproof rating its water resistant Packing List 1x LED Cube1x AC Adapter1x IR Remote Control1x User Manual Ultra Fun  16 gentle color tones 4 color chaning effects color brightendim and effect speed adjustable by operating on a credit cardsized remote control Good Battery Life  Powered by builtin rechargeable Lithium ion battery can provide up to 12 hours continous light on a full charge and it never gets hot Safe to use a LED light up stool lamp Strong and Durable  Made from premium quality extra heavy duty BPAfree recyclable polyethylene plastic never will you fear again a plastic product that snaps under pressure Great for use as a modern coffee table end table or nightstand Elegant and Stylish Design  This Magic Colorchanging LED Cube Light is always the center of attention at any affair Bring Fun Create Atmosphere and Add Character  Ideal for using as accent ambient decorative  task lighting for indooroutdoor home bedroom garden patio pool party wedding gift  other eventscelebrations  perfect cure for a boring place',\n",
       "  'HALF CRESCEN Glasses Strap (2 PCS) Sports Eyeglass Strap Adjustable Sunglasses Retainer for Men Women Glasses Straps for Men and Women When you are exercising such as hiking rock climbing cycling fishing etc are you worried about your glasses fall off Whether you often cant find the glasses in your life and working Are you looking for reliable eyeglass straps that fits your head size Please choose our adjustable eyeglass lanyard we can solve all your troubles for you These eyeglass chains are suitable for all types of eyeglass arms Product Features 1 Flexible and adjustable eyeglass lanyard not easy to fall off suitable for all types of glasses 2 The length of glasses chain is approximately 118 inches the eyewear retainer is adjustable suitable for all head shapes and neck sizes 3 The material of our eyeglass holders around neck will not irritate your sensitive skin even if you wear your glasses all day Quality assurance 1 As a professional amazon seller we provide you with quality products and the most comprehensive aftersales service 2 Every product we sell has strict quality inspection and have longterm quality assurance please rest assured to buy 3 If you have any questions please feel free to contact us by email we will give you a satisfactory answer within 24 hours 100 Spandex Imported Buckle closure Hand Wash Only SIZEThe total length of eye glass strap is about 118inch Antislip Elastic Material Made of soft comfortable material of elastic nylonspandex Fits Most Eyeglasses These ropes for glasses fit for myopia reading glasses sunglasses etc Keep Your Glasses SecureSuitable for glasses temple tips with width between 033inch052inch If there are any problems with your product please dont hesitate to message us and well make it right for you']}"
      ]
     },
     "execution_count": 34,
     "metadata": {},
     "output_type": "execute_result"
    }
   ],
   "source": [
    "# Largest Group Info\n",
    "cluster_stats[134]"
   ]
  },
  {
   "cell_type": "code",
   "execution_count": 37,
   "id": "bab169a9-9d95-4974-970c-8afab4b9b8a5",
   "metadata": {},
   "outputs": [],
   "source": [
    "products_df.to_csv(\"data/labeled_tools_and_home_improvement_products.csv\", index=False)"
   ]
  }
 ],
 "metadata": {
  "kernelspec": {
   "display_name": "Python (new_env)",
   "language": "python",
   "name": "new_env"
  },
  "language_info": {
   "codemirror_mode": {
    "name": "ipython",
    "version": 3
   },
   "file_extension": ".py",
   "mimetype": "text/x-python",
   "name": "python",
   "nbconvert_exporter": "python",
   "pygments_lexer": "ipython3",
   "version": "3.9.12"
  }
 },
 "nbformat": 4,
 "nbformat_minor": 5
}
