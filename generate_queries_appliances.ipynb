{
 "cells": [
  {
   "cell_type": "code",
   "execution_count": 5,
   "id": "fa9f26e4-676a-4a80-a799-f49d9a14c64e",
   "metadata": {},
   "outputs": [
    {
     "name": "stdout",
     "output_type": "stream",
     "text": [
      "Collecting openai\n",
      "  Downloading openai-1.65.4-py3-none-any.whl.metadata (27 kB)\n",
      "Requirement already satisfied: anyio<5,>=3.5.0 in /opt/anaconda3/lib/python3.12/site-packages (from openai) (4.2.0)\n",
      "Requirement already satisfied: distro<2,>=1.7.0 in /opt/anaconda3/lib/python3.12/site-packages (from openai) (1.9.0)\n",
      "Requirement already satisfied: httpx<1,>=0.23.0 in /opt/anaconda3/lib/python3.12/site-packages (from openai) (0.27.0)\n",
      "Collecting jiter<1,>=0.4.0 (from openai)\n",
      "  Downloading jiter-0.8.2-cp312-cp312-macosx_11_0_arm64.whl.metadata (5.2 kB)\n",
      "Requirement already satisfied: pydantic<3,>=1.9.0 in /opt/anaconda3/lib/python3.12/site-packages (from openai) (2.5.3)\n",
      "Requirement already satisfied: sniffio in /opt/anaconda3/lib/python3.12/site-packages (from openai) (1.3.0)\n",
      "Requirement already satisfied: tqdm>4 in /opt/anaconda3/lib/python3.12/site-packages (from openai) (4.66.4)\n",
      "Requirement already satisfied: typing-extensions<5,>=4.11 in /opt/anaconda3/lib/python3.12/site-packages (from openai) (4.11.0)\n",
      "Requirement already satisfied: idna>=2.8 in /opt/anaconda3/lib/python3.12/site-packages (from anyio<5,>=3.5.0->openai) (3.7)\n",
      "Requirement already satisfied: certifi in /opt/anaconda3/lib/python3.12/site-packages (from httpx<1,>=0.23.0->openai) (2024.8.30)\n",
      "Requirement already satisfied: httpcore==1.* in /opt/anaconda3/lib/python3.12/site-packages (from httpx<1,>=0.23.0->openai) (1.0.2)\n",
      "Requirement already satisfied: h11<0.15,>=0.13 in /opt/anaconda3/lib/python3.12/site-packages (from httpcore==1.*->httpx<1,>=0.23.0->openai) (0.14.0)\n",
      "Requirement already satisfied: annotated-types>=0.4.0 in /opt/anaconda3/lib/python3.12/site-packages (from pydantic<3,>=1.9.0->openai) (0.6.0)\n",
      "Requirement already satisfied: pydantic-core==2.14.6 in /opt/anaconda3/lib/python3.12/site-packages (from pydantic<3,>=1.9.0->openai) (2.14.6)\n",
      "Downloading openai-1.65.4-py3-none-any.whl (473 kB)\n",
      "\u001b[2K   \u001b[90m━━━━━━━━━━━━━━━━━━━━━━━━━━━━━━━━━━━━━━━━\u001b[0m \u001b[32m473.5/473.5 kB\u001b[0m \u001b[31m19.4 MB/s\u001b[0m eta \u001b[36m0:00:00\u001b[0m\n",
      "\u001b[?25hDownloading jiter-0.8.2-cp312-cp312-macosx_11_0_arm64.whl (310 kB)\n",
      "\u001b[2K   \u001b[90m━━━━━━━━━━━━━━━━━━━━━━━━━━━━━━━━━━━━━━━━\u001b[0m \u001b[32m310.3/310.3 kB\u001b[0m \u001b[31m10.5 MB/s\u001b[0m eta \u001b[36m0:00:00\u001b[0m\n",
      "\u001b[?25hInstalling collected packages: jiter, openai\n",
      "Successfully installed jiter-0.8.2 openai-1.65.4\n"
     ]
    }
   ],
   "source": [
    "!pip install openai\n"
   ]
  },
  {
   "cell_type": "code",
   "execution_count": 2,
   "id": "315d6abb-16af-4339-b699-bd72e83db073",
   "metadata": {},
   "outputs": [],
   "source": [
    "import os\n",
    "import re\n",
    "import time\n",
    "import numpy as np\n",
    "import pandas as pd\n",
    "from openai import OpenAI"
   ]
  },
  {
   "cell_type": "code",
   "execution_count": 4,
   "id": "efb1974a-83f4-4080-854d-7e1bcd9b9b42",
   "metadata": {},
   "outputs": [],
   "source": [
    "products_df = pd.read_csv(\"data/labeled_appliances.csv\")\n"
   ]
  },
  {
   "cell_type": "code",
   "execution_count": 6,
   "id": "870b2429-413e-40a3-8686-81a83bf1cdba",
   "metadata": {},
   "outputs": [
    {
     "data": {
      "text/plain": [
       "7445"
      ]
     },
     "execution_count": 6,
     "metadata": {},
     "output_type": "execute_result"
    }
   ],
   "source": [
    "len(products_df)"
   ]
  },
  {
   "cell_type": "code",
   "execution_count": 8,
   "id": "82cdc705-7b43-430b-b89a-f446ce3e0951",
   "metadata": {},
   "outputs": [
    {
     "data": {
      "text/html": [
       "<div>\n",
       "<style scoped>\n",
       "    .dataframe tbody tr th:only-of-type {\n",
       "        vertical-align: middle;\n",
       "    }\n",
       "\n",
       "    .dataframe tbody tr th {\n",
       "        vertical-align: top;\n",
       "    }\n",
       "\n",
       "    .dataframe thead th {\n",
       "        text-align: right;\n",
       "    }\n",
       "</style>\n",
       "<table border=\"1\" class=\"dataframe\">\n",
       "  <thead>\n",
       "    <tr style=\"text-align: right;\">\n",
       "      <th></th>\n",
       "      <th>id</th>\n",
       "      <th>title</th>\n",
       "      <th>description</th>\n",
       "      <th>label</th>\n",
       "    </tr>\n",
       "  </thead>\n",
       "  <tbody>\n",
       "    <tr>\n",
       "      <th>0</th>\n",
       "      <td>B07W42P978</td>\n",
       "      <td>WD12X10327 Rack Roller and stud assembly Kit (...</td>\n",
       "      <td>PARTS NUMBERThe WD12X10327 dishwasher top rack...</td>\n",
       "      <td>29</td>\n",
       "    </tr>\n",
       "    <tr>\n",
       "      <th>1</th>\n",
       "      <td>B083Q6Y54F</td>\n",
       "      <td>G.a HOMEFAVOR Cold Brew Coffee Infuser 64oz (2...</td>\n",
       "      <td>COMPLETE COLD BREW SYSTEM The Cold Brew Kit is...</td>\n",
       "      <td>19</td>\n",
       "    </tr>\n",
       "    <tr>\n",
       "      <th>2</th>\n",
       "      <td>B00KAS9ZMG</td>\n",
       "      <td>3-pack OnePurify Water Filter Replacement Cart...</td>\n",
       "      <td>This OnePurify refrigerator water filter conta...</td>\n",
       "      <td>0</td>\n",
       "    </tr>\n",
       "    <tr>\n",
       "      <th>3</th>\n",
       "      <td>B01AQHSNSM</td>\n",
       "      <td>SAMSUNG DA97-11092B Genuine OEM Ice Maker Asse...</td>\n",
       "      <td>This high quality Genuine OEM Samsung Ice Make...</td>\n",
       "      <td>32</td>\n",
       "    </tr>\n",
       "    <tr>\n",
       "      <th>4</th>\n",
       "      <td>B0BWCL9WCH</td>\n",
       "      <td>PARTY BARGAINS 600 Paper Coffee Filters - Whit...</td>\n",
       "      <td>PARTY BARGAINS Disposable Coffee Filters  Sing...</td>\n",
       "      <td>7</td>\n",
       "    </tr>\n",
       "  </tbody>\n",
       "</table>\n",
       "</div>"
      ],
      "text/plain": [
       "           id                                              title  \\\n",
       "0  B07W42P978  WD12X10327 Rack Roller and stud assembly Kit (...   \n",
       "1  B083Q6Y54F  G.a HOMEFAVOR Cold Brew Coffee Infuser 64oz (2...   \n",
       "2  B00KAS9ZMG  3-pack OnePurify Water Filter Replacement Cart...   \n",
       "3  B01AQHSNSM  SAMSUNG DA97-11092B Genuine OEM Ice Maker Asse...   \n",
       "4  B0BWCL9WCH  PARTY BARGAINS 600 Paper Coffee Filters - Whit...   \n",
       "\n",
       "                                         description  label  \n",
       "0  PARTS NUMBERThe WD12X10327 dishwasher top rack...     29  \n",
       "1  COMPLETE COLD BREW SYSTEM The Cold Brew Kit is...     19  \n",
       "2  This OnePurify refrigerator water filter conta...      0  \n",
       "3  This high quality Genuine OEM Samsung Ice Make...     32  \n",
       "4  PARTY BARGAINS Disposable Coffee Filters  Sing...      7  "
      ]
     },
     "execution_count": 8,
     "metadata": {},
     "output_type": "execute_result"
    }
   ],
   "source": [
    "products_df.head()"
   ]
  },
  {
   "cell_type": "code",
   "execution_count": 10,
   "id": "b9180629-807d-468f-985e-6e5e09fb549a",
   "metadata": {},
   "outputs": [
    {
     "data": {
      "text/plain": [
       "id                                                    B085YBLD9V\n",
       "title          (New) 316048413 316048414 Genuine OEM compatib...\n",
       "description    316048413 AP2124664 08002898 08004682 08005370...\n",
       "label                                                         30\n",
       "Name: 4333, dtype: object"
      ]
     },
     "execution_count": 10,
     "metadata": {},
     "output_type": "execute_result"
    }
   ],
   "source": [
    "products_df.iloc[4333]"
   ]
  },
  {
   "cell_type": "code",
   "execution_count": 12,
   "id": "d6576346-ff37-4776-86fd-d355b7a5270a",
   "metadata": {},
   "outputs": [],
   "source": [
    "products_df = products_df.drop(index=4333).reset_index(drop=True)\n"
   ]
  },
  {
   "cell_type": "code",
   "execution_count": 14,
   "id": "b1178f54-ed14-4ae7-b666-ad3d87a24791",
   "metadata": {},
   "outputs": [
    {
     "data": {
      "text/plain": [
       "7444"
      ]
     },
     "execution_count": 14,
     "metadata": {},
     "output_type": "execute_result"
    }
   ],
   "source": [
    "len(products_df)"
   ]
  },
  {
   "cell_type": "code",
   "execution_count": 16,
   "id": "652fba63-1245-4f37-8e54-29ac3984819b",
   "metadata": {},
   "outputs": [
    {
     "data": {
      "text/html": [
       "<div>\n",
       "<style scoped>\n",
       "    .dataframe tbody tr th:only-of-type {\n",
       "        vertical-align: middle;\n",
       "    }\n",
       "\n",
       "    .dataframe tbody tr th {\n",
       "        vertical-align: top;\n",
       "    }\n",
       "\n",
       "    .dataframe thead th {\n",
       "        text-align: right;\n",
       "    }\n",
       "</style>\n",
       "<table border=\"1\" class=\"dataframe\">\n",
       "  <thead>\n",
       "    <tr style=\"text-align: right;\">\n",
       "      <th></th>\n",
       "      <th>id</th>\n",
       "      <th>title</th>\n",
       "      <th>description</th>\n",
       "      <th>label</th>\n",
       "    </tr>\n",
       "  </thead>\n",
       "  <tbody>\n",
       "    <tr>\n",
       "      <th>0</th>\n",
       "      <td>B07QK6L51Z</td>\n",
       "      <td>Pack of 24 Replacement Charcoal Water Filters ...</td>\n",
       "      <td>24PACK OF PREMIUM QUALITY REPLACEMENT CHARCOAL...</td>\n",
       "      <td>-1</td>\n",
       "    </tr>\n",
       "    <tr>\n",
       "      <th>1</th>\n",
       "      <td>B00W4YHLU2</td>\n",
       "      <td>Supco SM279827 Dryer Drive Motor Replaces Whir...</td>\n",
       "      <td>Supco SM279827 Dryer Drive Motor This highqual...</td>\n",
       "      <td>-1</td>\n",
       "    </tr>\n",
       "    <tr>\n",
       "      <th>2</th>\n",
       "      <td>B000XXWOGW</td>\n",
       "      <td>Supco ES671 Washer Lid Switch, Replaces Whirlp...</td>\n",
       "      <td>Replacement Washer Lid SwitchThis washer lid s...</td>\n",
       "      <td>-1</td>\n",
       "    </tr>\n",
       "    <tr>\n",
       "      <th>3</th>\n",
       "      <td>B08DTLLFG6</td>\n",
       "      <td>AQUALINK DA29-00020B Replacement for Samsung H...</td>\n",
       "      <td>NSFANSI 42 Standard tested  verified by indepe...</td>\n",
       "      <td>-1</td>\n",
       "    </tr>\n",
       "    <tr>\n",
       "      <th>4</th>\n",
       "      <td>B0BWYG6YVZ</td>\n",
       "      <td>Ultra Durable 74004053 Range Top Burner Ignite...</td>\n",
       "      <td>Customer satisfaction is our priority If for a...</td>\n",
       "      <td>-1</td>\n",
       "    </tr>\n",
       "    <tr>\n",
       "      <th>5</th>\n",
       "      <td>B07176DGS9</td>\n",
       "      <td>Waterdrop Refrigerator Water Filter, Replaceme...</td>\n",
       "      <td>Note WF2CB Double check the exact model number...</td>\n",
       "      <td>0</td>\n",
       "    </tr>\n",
       "    <tr>\n",
       "      <th>6</th>\n",
       "      <td>B078VZYJM5</td>\n",
       "      <td>Filterlogic DA29-00003G Refrigerator Water Fil...</td>\n",
       "      <td>Certified to NSF 42to significantly improve wa...</td>\n",
       "      <td>0</td>\n",
       "    </tr>\n",
       "    <tr>\n",
       "      <th>7</th>\n",
       "      <td>B00VVMKIWQ</td>\n",
       "      <td>GE MWF Refrigerator Water Filter Compatible Re...</td>\n",
       "      <td>AQUA BLUE GE MWF MWFA refrigerator water filte...</td>\n",
       "      <td>0</td>\n",
       "    </tr>\n",
       "    <tr>\n",
       "      <th>8</th>\n",
       "      <td>B01LZR75SY</td>\n",
       "      <td>K&amp;J Refrigerator Water Filter Replacement Mayt...</td>\n",
       "      <td>Highest Quality Filtration  The activated carb...</td>\n",
       "      <td>0</td>\n",
       "    </tr>\n",
       "    <tr>\n",
       "      <th>9</th>\n",
       "      <td>B0793S6X7C</td>\n",
       "      <td>ICEPURE 10\"X2.5\" 5 Microns Whole House Sedimen...</td>\n",
       "      <td>NSF 42 CERTIFIEDTested and certified by WQA ag...</td>\n",
       "      <td>0</td>\n",
       "    </tr>\n",
       "    <tr>\n",
       "      <th>10</th>\n",
       "      <td>B0995G57LK</td>\n",
       "      <td>2319792 W10197428 W10189190 TSD2 Refrigerator ...</td>\n",
       "      <td>FitCompatible with kenmore whirlpool amana may...</td>\n",
       "      <td>1</td>\n",
       "    </tr>\n",
       "    <tr>\n",
       "      <th>11</th>\n",
       "      <td>B07ZKJJLH1</td>\n",
       "      <td>WR57X10033 Refrigerator Water Valve by Romalon...</td>\n",
       "      <td>PARTS NUMBER WR57X10033 Refrigerator Water Val...</td>\n",
       "      <td>1</td>\n",
       "    </tr>\n",
       "  </tbody>\n",
       "</table>\n",
       "</div>"
      ],
      "text/plain": [
       "            id                                              title  \\\n",
       "0   B07QK6L51Z  Pack of 24 Replacement Charcoal Water Filters ...   \n",
       "1   B00W4YHLU2  Supco SM279827 Dryer Drive Motor Replaces Whir...   \n",
       "2   B000XXWOGW  Supco ES671 Washer Lid Switch, Replaces Whirlp...   \n",
       "3   B08DTLLFG6  AQUALINK DA29-00020B Replacement for Samsung H...   \n",
       "4   B0BWYG6YVZ  Ultra Durable 74004053 Range Top Burner Ignite...   \n",
       "5   B07176DGS9  Waterdrop Refrigerator Water Filter, Replaceme...   \n",
       "6   B078VZYJM5  Filterlogic DA29-00003G Refrigerator Water Fil...   \n",
       "7   B00VVMKIWQ  GE MWF Refrigerator Water Filter Compatible Re...   \n",
       "8   B01LZR75SY  K&J Refrigerator Water Filter Replacement Mayt...   \n",
       "9   B0793S6X7C  ICEPURE 10\"X2.5\" 5 Microns Whole House Sedimen...   \n",
       "10  B0995G57LK  2319792 W10197428 W10189190 TSD2 Refrigerator ...   \n",
       "11  B07ZKJJLH1  WR57X10033 Refrigerator Water Valve by Romalon...   \n",
       "\n",
       "                                          description  label  \n",
       "0   24PACK OF PREMIUM QUALITY REPLACEMENT CHARCOAL...     -1  \n",
       "1   Supco SM279827 Dryer Drive Motor This highqual...     -1  \n",
       "2   Replacement Washer Lid SwitchThis washer lid s...     -1  \n",
       "3   NSFANSI 42 Standard tested  verified by indepe...     -1  \n",
       "4   Customer satisfaction is our priority If for a...     -1  \n",
       "5   Note WF2CB Double check the exact model number...      0  \n",
       "6   Certified to NSF 42to significantly improve wa...      0  \n",
       "7   AQUA BLUE GE MWF MWFA refrigerator water filte...      0  \n",
       "8   Highest Quality Filtration  The activated carb...      0  \n",
       "9   NSF 42 CERTIFIEDTested and certified by WQA ag...      0  \n",
       "10  FitCompatible with kenmore whirlpool amana may...      1  \n",
       "11  PARTS NUMBER WR57X10033 Refrigerator Water Val...      1  "
      ]
     },
     "execution_count": 16,
     "metadata": {},
     "output_type": "execute_result"
    }
   ],
   "source": [
    "# sampling 5 products\n",
    "product_samples = products_df.groupby('label').sample(n=5, random_state=234).reset_index(drop=True)\n",
    "product_samples.head(n=12)"
   ]
  },
  {
   "cell_type": "code",
   "execution_count": 18,
   "id": "91634ccd-b369-4ebc-84c7-faa15f6b0793",
   "metadata": {},
   "outputs": [
    {
     "data": {
      "text/html": [
       "<div>\n",
       "<style scoped>\n",
       "    .dataframe tbody tr th:only-of-type {\n",
       "        vertical-align: middle;\n",
       "    }\n",
       "\n",
       "    .dataframe tbody tr th {\n",
       "        vertical-align: top;\n",
       "    }\n",
       "\n",
       "    .dataframe thead th {\n",
       "        text-align: right;\n",
       "    }\n",
       "</style>\n",
       "<table border=\"1\" class=\"dataframe\">\n",
       "  <thead>\n",
       "    <tr style=\"text-align: right;\">\n",
       "      <th></th>\n",
       "      <th>id</th>\n",
       "      <th>title</th>\n",
       "      <th>description</th>\n",
       "      <th>label</th>\n",
       "    </tr>\n",
       "  </thead>\n",
       "  <tbody>\n",
       "    <tr>\n",
       "      <th>0</th>\n",
       "      <td>B08NSJZSNJ</td>\n",
       "      <td>W11165546, 33090105, W10599423 Washer Water In...</td>\n",
       "      <td>Package Includes 1  W11165546 Washer Water Inl...</td>\n",
       "      <td>42</td>\n",
       "    </tr>\n",
       "    <tr>\n",
       "      <th>1</th>\n",
       "      <td>B0BWYG6YVZ</td>\n",
       "      <td>Ultra Durable 74004053 Range Top Burner Ignite...</td>\n",
       "      <td>Customer satisfaction is our priority If for a...</td>\n",
       "      <td>-1</td>\n",
       "    </tr>\n",
       "    <tr>\n",
       "      <th>2</th>\n",
       "      <td>B07T41M9SN</td>\n",
       "      <td>KSTK1 27-inch Laundry Stacking Kit Compatible ...</td>\n",
       "      <td>PARTS NUMBERThe kstk1 lg stacking kit comprise...</td>\n",
       "      <td>3</td>\n",
       "    </tr>\n",
       "    <tr>\n",
       "      <th>3</th>\n",
       "      <td>B07XP2J7MG</td>\n",
       "      <td>4681EA2001T Washer Drain Pump Motor by AMI PAR...</td>\n",
       "      <td>PART NUMBER 4681EA2001T LG 4681EA2001T Drain P...</td>\n",
       "      <td>23</td>\n",
       "    </tr>\n",
       "    <tr>\n",
       "      <th>4</th>\n",
       "      <td>B07RBSYMM7</td>\n",
       "      <td>AMI PARTS WE1M654 Timer Knob with Metal Ring f...</td>\n",
       "      <td>Parts Number Timer Control Knob Dryer Knob WE1...</td>\n",
       "      <td>39</td>\n",
       "    </tr>\n",
       "  </tbody>\n",
       "</table>\n",
       "</div>"
      ],
      "text/plain": [
       "           id                                              title  \\\n",
       "0  B08NSJZSNJ  W11165546, 33090105, W10599423 Washer Water In...   \n",
       "1  B0BWYG6YVZ  Ultra Durable 74004053 Range Top Burner Ignite...   \n",
       "2  B07T41M9SN  KSTK1 27-inch Laundry Stacking Kit Compatible ...   \n",
       "3  B07XP2J7MG  4681EA2001T Washer Drain Pump Motor by AMI PAR...   \n",
       "4  B07RBSYMM7  AMI PARTS WE1M654 Timer Knob with Metal Ring f...   \n",
       "\n",
       "                                         description  label  \n",
       "0  Package Includes 1  W11165546 Washer Water Inl...     42  \n",
       "1  Customer satisfaction is our priority If for a...     -1  \n",
       "2  PARTS NUMBERThe kstk1 lg stacking kit comprise...      3  \n",
       "3  PART NUMBER 4681EA2001T LG 4681EA2001T Drain P...     23  \n",
       "4  Parts Number Timer Control Knob Dryer Knob WE1...     39  "
      ]
     },
     "execution_count": 18,
     "metadata": {},
     "output_type": "execute_result"
    }
   ],
   "source": [
    "product_samples = product_samples.sample(frac=1).reset_index(drop=True)\n",
    "product_samples.head()"
   ]
  },
  {
   "cell_type": "code",
   "execution_count": 20,
   "id": "a233b39e-e7b1-4990-afa6-acab01c6067f",
   "metadata": {},
   "outputs": [],
   "source": [
    "openai_api_key = os.environ['OPENAI_API_KEY']"
   ]
  },
  {
   "cell_type": "code",
   "execution_count": 22,
   "id": "b79929cd-6184-4334-81a1-a93abe6e7bb6",
   "metadata": {},
   "outputs": [],
   "source": [
    "class QueryGenerator:\n",
    "    def __init__(self, api_key):\n",
    "        \"\"\"Initialize the generator with API key and standard prompts\"\"\"\n",
    "        self.client = OpenAI(api_key=api_key)\n",
    "        \n",
    "        # Store the system and example prompts\n",
    "        self.system_prompt = \"\"\"You are an expert in e-commerce search optimization. Given a product description, generate a list of 5 realistic search queries a customer might use to find the product, even if the customer does not know the exact name of the product they are looking for.\n",
    "\n",
    "        Guidelines:\n",
    "        - Keep queries short (2-10 words)\n",
    "        - Avoid exact repetition of product specs; focus on what a customer would type\n",
    "        - Include a mix of general, descriptive, and feature-focused queries\n",
    "        - Consider different use cases for each product (e.g. baking soda can be used for cooking, cleaning, and removing bad odors).\n",
    "        - Use casual, natural language\n",
    "        - Return ONLY the list of 5 queries enclosed in [] and separated by ',' with no additional text\"\"\"\n",
    "\n",
    "        self.example_prompt = \"\"\"Here are some examples:\n",
    "\n",
    "        Product Description: \"Simplify your plumbing projects with the Eastman ArmorFlex dryer vent These replacement dryer vents are constructed of semirigid aluminum for thermal resistance and hold their shape so that you can easily install it without kinking or crushing This wall dryer vent allows for 90 degree bends in tight installations and can withstand a temperature range of 22 degrees F to 482 degrees F Rated as Fire Class0 ArmorFlex is fire resistant and will not spread flames or smoke making the ArmorFlex dryer vent hose safe to use in your home DRYER VENT TUBING Dryer vent tube is designed to provide a reliable connection between your dryer and vent FLAME RESISTANT The inside dryer vent hose can withstand a temperature range of 22 degrees F to 482 degrees F Rated as Fire Class0 ArmorFlex is fire resistant and will not spread flames or smoke making the ArmorFlex dryer vent hose safe to use in your home EASY INSTALLATION Dryer vent line features a durable and extremely flexible ArmorFlex construction allowing for 90 degree bends in tight installations includes 2 stainless steel hose clamps for a steady connection DURABLE Washer and dryer hoses are constructed of semirigid aluminum for thermal resistance recommended over traditional foil ducts by dryer manufacturersArmorFlex holds its shape allowing for an easier installation while positioning your dryer into place without kinking or crushing SPECS Indoor dryer vent hose measures 8 feet long fully extended x 4 inches diameter\"\n",
    "        \n",
    "        Queries:\n",
    "        [easy install dryer vent, replacement tube for dryer air venting system, best dryer vent hose for tight spaces, replacement for crushed dryer vent tube, home dryer vent plumbing broke fix]\n",
    "        \n",
    "        Product Description: \"Aerolattes number 2size Filter Cone is designed to brew 2 to 6cups of coffee using the manual pourover coffee method Making freshbrewed coffee in smaller amounts allows for a more enjoyable aromatic and flavorful brew with less waste No more stale or burnt coffee made hours ahead The pourover coffee method is a timetested Japanese technique that offers complete control over the quality and flavor of brewed coffee Pouring a thin slow steady stream of water over the ground coffee allows for a distinct flavorful result every time Aerolattes Filter Cone is the coffee accessory for making pourover coffee Simply rinse the Coffee Filter Cone with hot water to warm it thoroughly Place it over a mug or carafe and insert a paper or reusable coffee filter Measure in ground coffee wet them slightly and allow them to stand for 15 to 30 seconds The grounds will expand slightly and release more flavor Pour the remaining hot water slowly and evenly Allow the coffee dripper to finish dripping Remove the coffee filter cone from the mug and discard the wet grounds Drink the freshbrewed coffee immediately Aerolattes Filter Cone makes a perfect coffee accessories gift for athome baristas and coffee enthusiasts Made from finequality ceramic with a scratchfree glaze for durability Reusable coffee filter cone is dishwasher safe for easy cleanup Aerolattes Number 2Size Coffee Filter Cone is designed to brew 2 to 6cups of coffee using the manual pourover coffee method Made from finequality ceramic with a scratchfree glaze for durability Brew fresh single cup coffee with each brew no more hourold coffee thats turned stale or burnt brew only whats needed for less waste Reusable coffee filter cone perfect for the coffee enthusiast and athome baristas Easy to use and clean dishwasher safe\"\n",
    "        \n",
    "        Queries:\n",
    "        [best ceramic pour-over coffee dripper, gift for friend who loves coffee, brew coffee device manually good flavor, alternative to coffee machine, make coffee no machine pour water]\n",
    "        \"\"\"\n",
    "\n",
    "    def generate_single(self, product_description):\n",
    "        \"\"\"Generate queries for a single product description\"\"\"\n",
    "        try:\n",
    "            response = self.client.chat.completions.create(\n",
    "                model=\"gpt-3.5-turbo\",\n",
    "                messages=[\n",
    "                    {\"role\": \"system\", \"content\": self.system_prompt},\n",
    "                    {\"role\": \"user\", \"content\": self.example_prompt},\n",
    "                    {\"role\": \"user\", \"content\": f\"Now generate queries for this product description: {product_description}\"}\n",
    "                ],\n",
    "                temperature=0.7,\n",
    "                max_tokens=50\n",
    "            )\n",
    "            \n",
    "            res = response.choices[0].message.content\n",
    "            return res.replace('[', '').replace(']', '').split(', ')\n",
    "            \n",
    "        except Exception as e:\n",
    "            print(f\"Error generating queries: {e}\")\n",
    "            return []\n",
    "\n",
    "    def generate_batch(self, product_descriptions, batch_size: int = 5):\n",
    "        \"\"\"\n",
    "        Generate queries for multiple products efficiently.\n",
    "        Uses batching and includes rate limiting.\n",
    "        \"\"\"\n",
    "        batch_results = []\n",
    "        \n",
    "        # Process in batches\n",
    "        for i in range(0, len(product_descriptions), batch_size):\n",
    "            batch = product_descriptions[i:i + batch_size]\n",
    "            \n",
    "            # Create a single prompt for the batch\n",
    "            batch_prompt = \"Generate queries for each of these products. For each product, start with 'Product X:' where X is the product number:\\n\\n\"\n",
    "            for idx, desc in enumerate(batch, 1):\n",
    "                batch_prompt += f\"Product {idx}: {desc}\\n\\n\"\n",
    "            \n",
    "            try:\n",
    "                response = self.client.chat.completions.create(\n",
    "                    model=\"gpt-3.5-turbo\",\n",
    "                    messages=[\n",
    "                        {\"role\": \"system\", \"content\": self.system_prompt},\n",
    "                        {\"role\": \"user\", \"content\": self.example_prompt},\n",
    "                        {\"role\": \"user\", \"content\": batch_prompt}\n",
    "                    ],\n",
    "                    temperature=0.7,\n",
    "                    max_tokens=50 * len(batch)  # Adjust tokens based on batch size\n",
    "                )\n",
    "                \n",
    "                # Parse the batch response\n",
    "                response_text = response.choices[0].message.content\n",
    "                response_list = re.sub(r\"Product \\d: \", \"\", response_text).replace('[', '').replace(']', '').split('\\n')\n",
    "                batch_results.extend([text.split(', ') for text in response_list])\n",
    "                                \n",
    "                # Rate limiting - wait 1 second between batches\n",
    "                if i + batch_size < len(product_descriptions):\n",
    "                    time.sleep(5)\n",
    "                    \n",
    "            except Exception as e:\n",
    "                print(f\"Error processing batch starting at index {i}: {e}\")\n",
    "                continue\n",
    "        \n",
    "        return batch_results"
   ]
  },
  {
   "cell_type": "code",
   "execution_count": 24,
   "id": "43a0d99a-601a-49dc-af11-09e73f5f60f7",
   "metadata": {},
   "outputs": [],
   "source": [
    "generator = QueryGenerator(openai_api_key)"
   ]
  },
  {
   "cell_type": "code",
   "execution_count": 26,
   "id": "64dd06c1-9322-4318-aec4-d6e4fccf6474",
   "metadata": {},
   "outputs": [
    {
     "data": {
      "text/plain": [
       "(250,)"
      ]
     },
     "execution_count": 26,
     "metadata": {},
     "output_type": "execute_result"
    }
   ],
   "source": [
    "product_samples['description'].shape"
   ]
  },
  {
   "cell_type": "code",
   "execution_count": 28,
   "id": "1cfa9917-5449-4792-856c-c2d5a0be5f4a",
   "metadata": {},
   "outputs": [
    {
     "name": "stdout",
     "output_type": "stream",
     "text": [
      "Check: [['Whirlpool washing machine water inlet valve replacement', 'fix washing machine water temperature error', 'how to install Maytag washer water valve', 'Kenmore washing machine water supply issue', 'Whirlpool error code F8 E1 LF LO'], ['High compatibility oven igniter replacement part', 'fit most Whirlpool range models', 'premium quality stove igniter replacement', 'fix gas range igniter not lighting', 'how to replace oven igniter'], ['LG stacking kit for 27-inch washer and dryer', 'save space with laundry stacking kit', 'how to stack Samsung washer and dryer', 'durable washer dryer stacking support', 'LG stacking kit installation'], ['LG washing machine drain pump replacement', 'fix washer not draining issue', 'compatible with LG washer models', 'premium quality washer pump replacement', 'easy DIY install washer pump'], ['GE dryer timer control knob replacement', 'white dryer knob set', 'fix dryer timer setting issue', 'how to replace dryer control knob', 'durable timer knob for dryer']]\n"
     ]
    }
   ],
   "source": [
    "results = generator.generate_batch(product_samples['description'])\n",
    "print(f\"Check: {results[:5]}\")"
   ]
  },
  {
   "cell_type": "code",
   "execution_count": 30,
   "id": "9d9b4fa8-10a7-4525-9f5c-b271842cf8a6",
   "metadata": {},
   "outputs": [
    {
     "data": {
      "text/plain": [
       "353"
      ]
     },
     "execution_count": 30,
     "metadata": {},
     "output_type": "execute_result"
    }
   ],
   "source": [
    "len(results)"
   ]
  },
  {
   "cell_type": "code",
   "execution_count": 32,
   "id": "87ed9e9a-bb48-4086-a70f-31df57bc3757",
   "metadata": {},
   "outputs": [
    {
     "data": {
      "text/plain": [
       "[[''],\n",
       " [''],\n",
       " [''],\n",
       " [''],\n",
       " [''],\n",
       " [''],\n",
       " [''],\n",
       " [''],\n",
       " [''],\n",
       " [''],\n",
       " [''],\n",
       " [''],\n",
       " [''],\n",
       " [''],\n",
       " [''],\n",
       " [''],\n",
       " [''],\n",
       " [''],\n",
       " [''],\n",
       " [''],\n",
       " [''],\n",
       " [''],\n",
       " [''],\n",
       " [''],\n",
       " [''],\n",
       " [''],\n",
       " [''],\n",
       " [''],\n",
       " [''],\n",
       " [''],\n",
       " [''],\n",
       " [''],\n",
       " [''],\n",
       " [''],\n",
       " [''],\n",
       " [''],\n",
       " [''],\n",
       " [''],\n",
       " [''],\n",
       " [''],\n",
       " [''],\n",
       " [''],\n",
       " [''],\n",
       " [''],\n",
       " [''],\n",
       " [''],\n",
       " [''],\n",
       " [''],\n",
       " [''],\n",
       " [''],\n",
       " [''],\n",
       " [''],\n",
       " [''],\n",
       " [''],\n",
       " [''],\n",
       " [''],\n",
       " [''],\n",
       " [''],\n",
       " [''],\n",
       " [''],\n",
       " [''],\n",
       " [''],\n",
       " [''],\n",
       " [''],\n",
       " [''],\n",
       " [''],\n",
       " [''],\n",
       " [''],\n",
       " [''],\n",
       " [''],\n",
       " [''],\n",
       " [''],\n",
       " [''],\n",
       " ['']]"
      ]
     },
     "execution_count": 32,
     "metadata": {},
     "output_type": "execute_result"
    }
   ],
   "source": [
    "[result for result in results if len(result[0]) <= 0]"
   ]
  },
  {
   "cell_type": "code",
   "execution_count": 34,
   "id": "c07ed7bc-b981-4159-8c4d-a3fa235df625",
   "metadata": {},
   "outputs": [
    {
     "data": {
      "text/plain": [
       "279"
      ]
     },
     "execution_count": 34,
     "metadata": {},
     "output_type": "execute_result"
    }
   ],
   "source": [
    "cleaned_results = [result for result in results if len(result[0]) > 0]\n",
    "len(cleaned_results)"
   ]
  },
  {
   "cell_type": "code",
   "execution_count": 36,
   "id": "987e229d-9171-45ed-8c89-45007a0b5c5f",
   "metadata": {},
   "outputs": [
    {
     "data": {
      "text/plain": [
       "array([1, 2, 4, 5, 6, 7])"
      ]
     },
     "execution_count": 36,
     "metadata": {},
     "output_type": "execute_result"
    }
   ],
   "source": [
    "np.unique([len(result) for result in cleaned_results])"
   ]
  },
  {
   "cell_type": "code",
   "execution_count": 38,
   "id": "afa36871-9ed1-43bc-800d-45bee1b77094",
   "metadata": {},
   "outputs": [
    {
     "data": {
      "text/plain": [
       "[19,\n",
       " 46,\n",
       " 48,\n",
       " 50,\n",
       " 52,\n",
       " 74,\n",
       " 75,\n",
       " 76,\n",
       " 77,\n",
       " 78,\n",
       " 79,\n",
       " 80,\n",
       " 81,\n",
       " 82,\n",
       " 158,\n",
       " 159,\n",
       " 160,\n",
       " 161,\n",
       " 162,\n",
       " 163,\n",
       " 164,\n",
       " 165,\n",
       " 166,\n",
       " 167,\n",
       " 168,\n",
       " 169,\n",
       " 170,\n",
       " 171,\n",
       " 172,\n",
       " 173,\n",
       " 174,\n",
       " 175,\n",
       " 176,\n",
       " 177,\n",
       " 178,\n",
       " 179,\n",
       " 218,\n",
       " 226,\n",
       " 228,\n",
       " 230,\n",
       " 232,\n",
       " 235,\n",
       " 277]"
      ]
     },
     "execution_count": 38,
     "metadata": {},
     "output_type": "execute_result"
    }
   ],
   "source": [
    "inspect_index = [i for i in range(len(cleaned_results)) if len(cleaned_results[i]) != 5]\n",
    "inspect_index"
   ]
  },
  {
   "cell_type": "code",
   "execution_count": 40,
   "id": "783a38f2-ce22-41d7-816b-db0cce69d691",
   "metadata": {},
   "outputs": [
    {
     "data": {
      "text/plain": [
       "[['pour-over coffee filter for Chemex',\n",
       "  'Hario V60',\n",
       "  'and more',\n",
       "  'beautifully designed coffee dripper',\n",
       "  'mesh filter for optimal coffee extraction',\n",
       "  'sealed tip coffee filter',\n",
       "  'easy to clean cone filter'],\n",
       " ['        '],\n",
       " ['        '],\n",
       " ['        '],\n",
       " ['        '],\n",
       " ['Samsung Laundry Pedestal',\n",
       "  '27 inch washer dryer lift',\n",
       "  'Samsung laundry room storage drawer',\n",
       "  'compatible with Samsung Front Load',\n",
       "  'buy Samsung laundry pedestal',\n",
       "  'elevate washer and dryer'],\n",
       " ['        '],\n",
       " ['Egg storage box with lid',\n",
       "  'stackable refrigerator egg tray',\n",
       "  '60 egg capacity container',\n",
       "  'egg groove design protection',\n",
       "  'store eggs in pantry',\n",
       "  'portable egg holder for camping'],\n",
       " ['        '],\n",
       " ['Stainless steel frothing pitcher',\n",
       "  '33 oz milk steaming pitcher',\n",
       "  'durable frother pitcher',\n",
       "  'froth milk for cappuccinos',\n",
       "  'latte art pitcher',\n",
       "  'dishwasher safe milk pitcher'],\n",
       " ['        '],\n",
       " ['Reusable Vertuoline coffee capsule',\n",
       "  'stainless steel coffee seal',\n",
       "  'compatible with Nespresso machines',\n",
       "  'make strong coffee crema',\n",
       "  'reusable coffee pod filter',\n",
       "  'store-bought ground coffee only'],\n",
       " ['        '],\n",
       " ['Activated carbon refrigerator air filter',\n",
       "  'odor eliminator fridge filter',\n",
       "  'compatible with Paultra2 Pure Air II',\n",
       "  '3 pack air filters',\n",
       "  'NSF certified carbon filter',\n",
       "  'easy to install fridge deodorizer'],\n",
       " ['    \"coffee filters for 8-12 cup brewers\"', ''],\n",
       " ['    \"chlorine-free coffee filter papers\"', ''],\n",
       " ['    \"biodegradable coffee filters made in USA\"', ''],\n",
       " ['    \"thicker paper prevents coffee grounds mess\"', ''],\n",
       " ['    \"compatible with Mr Coffee and Hamilton Beach brewers\"'],\n",
       " ['    \"GE dryer drum drive belt WE12M29\"', ''],\n",
       " ['    \"replace dryer belt for GE Highpoint models\"', ''],\n",
       " ['    \"long 89-inch belt for dryer drum\"', ''],\n",
       " ['    \"dryer drum not turning belt broken\"', ''],\n",
       " ['    \"OEM part for GE dryer drive belt\"'],\n",
       " ['    \"washer drain pump replacement 137221600\"', ''],\n",
       " ['    \"fix leaking washer drum not draining\"', ''],\n",
       " ['    \"compatible with Frigidaire Kenmore washers\"', ''],\n",
       " ['    \"direct replacement for AP5684706\"', ''],\n",
       " ['    \"cut off power before installation\"'],\n",
       " ['    \"WF2CB water filter replacement models\"', ''],\n",
       " ['    \"compatible with Frigidaire Kenmore models\"', ''],\n",
       " ['    \"advanced coconut shell carbon block filter\"', ''],\n",
       " ['    \"improves taste by filtering impurities\"', ''],\n",
       " ['    \"easy tool-free installation refrigerator filter\"'],\n",
       " ['    \"12oz stainless steel steaming pitcher\"', ''],\n",
       " ['    \"durable'],\n",
       " ['Whirlpool dryer heating element 279838',\n",
       "  'dryer parts kit for Kenmore',\n",
       "  'Maytag',\n",
       "  'Amana',\n",
       "  'thermal fuse and thermostat kit',\n",
       "  'dryer heating element replacement'],\n",
       " ['        '],\n",
       " ['        '],\n",
       " ['        '],\n",
       " ['        '],\n",
       " ['spacious can beverage refrigerator',\n",
       "  'adjustable shelves temperature control',\n",
       "  'low noise beverage fridge',\n",
       "  'warranty policy mini fridge'],\n",
       " ['cold brew bags for coffee',\n",
       "  'large mesh brewing pouches',\n",
       "  'food-grade material',\n",
       "  'no mess filter bags',\n",
       "  'multipurpose brewing bags for tea and herbs',\n",
       "  'sturdy drawstring design']]"
      ]
     },
     "execution_count": 40,
     "metadata": {},
     "output_type": "execute_result"
    }
   ],
   "source": [
    "[cleaned_results[i] for i in inspect_index]"
   ]
  },
  {
   "cell_type": "code",
   "execution_count": 42,
   "id": "b2c691e4-fcfb-4dcb-aca9-1e5c4e0b1413",
   "metadata": {},
   "outputs": [
    {
     "data": {
      "text/plain": [
       "['        ']"
      ]
     },
     "execution_count": 42,
     "metadata": {},
     "output_type": "execute_result"
    }
   ],
   "source": [
    "cleaned_results[46]"
   ]
  },
  {
   "cell_type": "code",
   "execution_count": 44,
   "id": "c4392223-0b92-4386-b28a-685b21b3d6d0",
   "metadata": {},
   "outputs": [],
   "source": [
    "del cleaned_results[46]"
   ]
  },
  {
   "cell_type": "code",
   "execution_count": 328,
   "id": "4ea0141a-7365-4b60-a465-db22fb829960",
   "metadata": {},
   "outputs": [
    {
     "data": {
      "text/plain": [
       "[]"
      ]
     },
     "execution_count": 328,
     "metadata": {},
     "output_type": "execute_result"
    }
   ],
   "source": [
    "inspect_index = [i for i in range(len(cleaned_results)) if len(cleaned_results[i]) != 5]\n",
    "inspect_index"
   ]
  },
  {
   "cell_type": "code",
   "execution_count": 326,
   "id": "43021d3d-be60-4405-ab7c-60b06a57003b",
   "metadata": {},
   "outputs": [],
   "source": [
    "del cleaned_results[153]"
   ]
  },
  {
   "cell_type": "code",
   "execution_count": 330,
   "id": "c0f6f0af-3dbf-4ce4-b065-dc63b21a6521",
   "metadata": {},
   "outputs": [
    {
     "data": {
      "text/plain": [
       "[]"
      ]
     },
     "execution_count": 330,
     "metadata": {},
     "output_type": "execute_result"
    }
   ],
   "source": [
    "[cleaned_results[i] for i in inspect_index]"
   ]
  },
  {
   "cell_type": "code",
   "execution_count": 222,
   "id": "43ef42d9-06e8-4ac6-8950-81149d7018ef",
   "metadata": {},
   "outputs": [
    {
     "data": {
      "text/plain": [
       "['Whirlpool dryer heating element 279838',\n",
       " 'dryer parts kit for Kenmore',\n",
       " 'Maytag',\n",
       " 'Amana',\n",
       " 'thermal fuse and thermostat kit',\n",
       " 'dryer heating element replacement']"
      ]
     },
     "execution_count": 222,
     "metadata": {},
     "output_type": "execute_result"
    }
   ],
   "source": [
    "cleaned_results[204]"
   ]
  },
  {
   "cell_type": "code",
   "execution_count": 224,
   "id": "7da38f1c-2b56-4d48-98f1-3eddfb5be7e9",
   "metadata": {},
   "outputs": [],
   "source": [
    "cleaned_results[204] = ['Whirlpool dryer heating element',\n",
    " 'dryer parts kit for Kenmore Maytag Amana',\n",
    " 'thermal fuse and thermostat kit',\n",
    " 'dryer heating element replacement', 'stuff to fix dryer heating']"
   ]
  },
  {
   "cell_type": "code",
   "execution_count": 226,
   "id": "f120f01b-e895-463d-ab37-4b99ea4b18bf",
   "metadata": {},
   "outputs": [
    {
     "data": {
      "text/plain": [
       "['Whirlpool dryer heating element',\n",
       " 'dryer parts kit for Kenmore Maytag Amana',\n",
       " 'thermal fuse and thermostat kit',\n",
       " 'dryer heating element replacement',\n",
       " 'stuff to fix dryer heating']"
      ]
     },
     "execution_count": 226,
     "metadata": {},
     "output_type": "execute_result"
    }
   ],
   "source": [
    "cleaned_results[204]"
   ]
  },
  {
   "cell_type": "code",
   "execution_count": 152,
   "id": "b53c9d41-6041-42dd-b6b1-5eba519b14bc",
   "metadata": {},
   "outputs": [],
   "source": [
    "cleaned_results[73] = cleaned_results[73][:5]"
   ]
  },
  {
   "cell_type": "code",
   "execution_count": 154,
   "id": "a0e2b215-6600-4ae0-9647-49eaf7660f16",
   "metadata": {},
   "outputs": [
    {
     "data": {
      "text/plain": [
       "['Reusable Vertuoline coffee capsule',\n",
       " 'stainless steel coffee seal',\n",
       " 'compatible with Nespresso machines',\n",
       " 'make strong coffee crema',\n",
       " 'reusable coffee pod filter']"
      ]
     },
     "execution_count": 154,
     "metadata": {},
     "output_type": "execute_result"
    }
   ],
   "source": [
    "cleaned_results[73]"
   ]
  },
  {
   "cell_type": "code",
   "execution_count": 200,
   "id": "b6899707-f3d7-4bec-954c-1176c5d7ffb1",
   "metadata": {},
   "outputs": [],
   "source": [
    "del cleaned_results[151]"
   ]
  },
  {
   "cell_type": "code",
   "execution_count": 332,
   "id": "cf923b7e-1106-4c54-8785-77a7dac6f37a",
   "metadata": {},
   "outputs": [
    {
     "name": "stdout",
     "output_type": "stream",
     "text": [
      "Number of results: 248\n",
      "Number of queries per result: [5]\n"
     ]
    }
   ],
   "source": [
    "print(f\"Number of results: {len(cleaned_results)}\")\n",
    "print(f\"Number of queries per result: {np.unique([len(result) for result in cleaned_results])}\")"
   ]
  },
  {
   "cell_type": "code",
   "execution_count": 338,
   "id": "d987f95b-d8b0-4991-a5c5-ab48dd891623",
   "metadata": {},
   "outputs": [],
   "source": [
    "product_samples = product_samples.iloc[:len(cleaned_results)]  # Trim to match cleaned_results\n",
    "product_samples.loc[:, ['query_1', 'query_2', 'query_3', 'query_4', 'query_5']] = cleaned_results\n",
    "\n"
   ]
  },
  {
   "cell_type": "code",
   "execution_count": 340,
   "id": "1cbbbb09-7e38-400c-985c-9bfeb9b0032a",
   "metadata": {},
   "outputs": [],
   "source": [
    "product_samples.loc[:, ['query_1', 'query_2', 'query_3', 'query_4', 'query_5']] = cleaned_results"
   ]
  },
  {
   "cell_type": "code",
   "execution_count": 346,
   "id": "44e5b78c-d655-4338-99f5-d2c994408a33",
   "metadata": {},
   "outputs": [
    {
     "data": {
      "text/html": [
       "<div>\n",
       "<style scoped>\n",
       "    .dataframe tbody tr th:only-of-type {\n",
       "        vertical-align: middle;\n",
       "    }\n",
       "\n",
       "    .dataframe tbody tr th {\n",
       "        vertical-align: top;\n",
       "    }\n",
       "\n",
       "    .dataframe thead th {\n",
       "        text-align: right;\n",
       "    }\n",
       "</style>\n",
       "<table border=\"1\" class=\"dataframe\">\n",
       "  <thead>\n",
       "    <tr style=\"text-align: right;\">\n",
       "      <th></th>\n",
       "      <th>id</th>\n",
       "      <th>title</th>\n",
       "      <th>description</th>\n",
       "      <th>label</th>\n",
       "      <th>query_1</th>\n",
       "      <th>query_2</th>\n",
       "      <th>query_3</th>\n",
       "      <th>query_4</th>\n",
       "      <th>query_5</th>\n",
       "    </tr>\n",
       "  </thead>\n",
       "  <tbody>\n",
       "    <tr>\n",
       "      <th>48</th>\n",
       "      <td>B0CFLQ4FM6</td>\n",
       "      <td>Nugget Ice Maker Countertop, Crushed Chewable ...</td>\n",
       "      <td>FAST  EFFICIENT ICE MAKER With a water tank ca...</td>\n",
       "      <td>2</td>\n",
       "      <td>chewable nugget ice maker</td>\n",
       "      <td>fast ice maker 34 pounds/day</td>\n",
       "      <td>quiet countertop ice maker</td>\n",
       "      <td>self-cleaning portable ice maker</td>\n",
       "      <td>chewable nugget ice for drinks</td>\n",
       "    </tr>\n",
       "    <tr>\n",
       "      <th>10</th>\n",
       "      <td>B07Z4999N2</td>\n",
       "      <td>Jacent Fill N Brew Disposable #2 Coffee Filter...</td>\n",
       "      <td>A good coffee filter is important for a great ...</td>\n",
       "      <td>34</td>\n",
       "      <td>cone shaped coffee filters</td>\n",
       "      <td>disposable coffee filters for electric coffee ...</td>\n",
       "      <td>compostable paper coffee filters</td>\n",
       "      <td>coffee maker filter replacement</td>\n",
       "      <td>coffee filters for 1 cup coffee maker</td>\n",
       "    </tr>\n",
       "    <tr>\n",
       "      <th>50</th>\n",
       "      <td>B07XXTW9P6</td>\n",
       "      <td>AMI PARTS WB44T10010 Range Oven Stove Bake Hea...</td>\n",
       "      <td>PART SPECIFICATIONS AMI PARTS WB44T10010 Range...</td>\n",
       "      <td>13</td>\n",
       "      <td>GE oven heating element replacement</td>\n",
       "      <td>stove bake heating element 240V</td>\n",
       "      <td>oven stove heating element 2585W</td>\n",
       "      <td>GE WB44T10010 heating element</td>\n",
       "      <td>durable high quality stove element</td>\n",
       "    </tr>\n",
       "    <tr>\n",
       "      <th>91</th>\n",
       "      <td>B078JB36V5</td>\n",
       "      <td>OCTOPUS 131970 W10447783 &amp; W10435302 Bearing I...</td>\n",
       "      <td>OCTOPUS PARTS  APPLIANCES PART 131970  W104477...</td>\n",
       "      <td>16</td>\n",
       "      <td>metal construction replacement tool kit</td>\n",
       "      <td>find and replace appliance parts easily</td>\n",
       "      <td>full metal bearing driver tool set</td>\n",
       "      <td>compatible with various appliance models</td>\n",
       "      <td>durable metal construction appliance parts</td>\n",
       "    </tr>\n",
       "    <tr>\n",
       "      <th>195</th>\n",
       "      <td>B08P6WZ791</td>\n",
       "      <td>WP8562043 8531233 Dishwasher Silverware Basket...</td>\n",
       "      <td>Highquality and durable ABS material DISHWASHE...</td>\n",
       "      <td>33</td>\n",
       "      <td>upgraded black stainless stove knob replacement</td>\n",
       "      <td>durable oven knob for Samsung range</td>\n",
       "      <td>replacement knob for NX58M6850SG</td>\n",
       "      <td>reinforced D ring stove knob</td>\n",
       "      <td>high-quality stove knob replacement</td>\n",
       "    </tr>\n",
       "  </tbody>\n",
       "</table>\n",
       "</div>"
      ],
      "text/plain": [
       "             id                                              title  \\\n",
       "48   B0CFLQ4FM6  Nugget Ice Maker Countertop, Crushed Chewable ...   \n",
       "10   B07Z4999N2  Jacent Fill N Brew Disposable #2 Coffee Filter...   \n",
       "50   B07XXTW9P6  AMI PARTS WB44T10010 Range Oven Stove Bake Hea...   \n",
       "91   B078JB36V5  OCTOPUS 131970 W10447783 & W10435302 Bearing I...   \n",
       "195  B08P6WZ791  WP8562043 8531233 Dishwasher Silverware Basket...   \n",
       "\n",
       "                                           description  label  \\\n",
       "48   FAST  EFFICIENT ICE MAKER With a water tank ca...      2   \n",
       "10   A good coffee filter is important for a great ...     34   \n",
       "50   PART SPECIFICATIONS AMI PARTS WB44T10010 Range...     13   \n",
       "91   OCTOPUS PARTS  APPLIANCES PART 131970  W104477...     16   \n",
       "195  Highquality and durable ABS material DISHWASHE...     33   \n",
       "\n",
       "                                             query_1  \\\n",
       "48                         chewable nugget ice maker   \n",
       "10                        cone shaped coffee filters   \n",
       "50               GE oven heating element replacement   \n",
       "91           metal construction replacement tool kit   \n",
       "195  upgraded black stainless stove knob replacement   \n",
       "\n",
       "                                               query_2  \\\n",
       "48                        fast ice maker 34 pounds/day   \n",
       "10   disposable coffee filters for electric coffee ...   \n",
       "50                     stove bake heating element 240V   \n",
       "91             find and replace appliance parts easily   \n",
       "195                durable oven knob for Samsung range   \n",
       "\n",
       "                                query_3  \\\n",
       "48           quiet countertop ice maker   \n",
       "10     compostable paper coffee filters   \n",
       "50     oven stove heating element 2585W   \n",
       "91   full metal bearing driver tool set   \n",
       "195    replacement knob for NX58M6850SG   \n",
       "\n",
       "                                      query_4  \\\n",
       "48           self-cleaning portable ice maker   \n",
       "10            coffee maker filter replacement   \n",
       "50              GE WB44T10010 heating element   \n",
       "91   compatible with various appliance models   \n",
       "195              reinforced D ring stove knob   \n",
       "\n",
       "                                        query_5  \n",
       "48               chewable nugget ice for drinks  \n",
       "10        coffee filters for 1 cup coffee maker  \n",
       "50           durable high quality stove element  \n",
       "91   durable metal construction appliance parts  \n",
       "195         high-quality stove knob replacement  "
      ]
     },
     "execution_count": 346,
     "metadata": {},
     "output_type": "execute_result"
    }
   ],
   "source": [
    "product_samples.sample(5)"
   ]
  },
  {
   "cell_type": "code",
   "execution_count": 352,
   "id": "0f6c2ac8-571d-439a-a466-99fc1ad2259d",
   "metadata": {},
   "outputs": [],
   "source": [
    "product_samples.to_csv('data/appliances_with_queries.csv', index=False)"
   ]
  }
 ],
 "metadata": {
  "kernelspec": {
   "display_name": "Python 3 (ipykernel)",
   "language": "python",
   "name": "python3"
  },
  "language_info": {
   "codemirror_mode": {
    "name": "ipython",
    "version": 3
   },
   "file_extension": ".py",
   "mimetype": "text/x-python",
   "name": "python",
   "nbconvert_exporter": "python",
   "pygments_lexer": "ipython3",
   "version": "3.12.4"
  }
 },
 "nbformat": 4,
 "nbformat_minor": 5
}
