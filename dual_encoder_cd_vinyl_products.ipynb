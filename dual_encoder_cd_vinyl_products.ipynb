{
 "cells": [
  {
   "cell_type": "code",
   "execution_count": 1,
   "metadata": {},
   "outputs": [],
   "source": [
    "import torch # used for PyTorch datasets and deep learning\n",
    "import random\n",
    "import numpy as np\n",
    "import pandas as pd\n",
    "import matplotlib.pyplot as plt\n",
    "from transformers import AutoTokenizer # used for NLP tokenizartion\n",
    "from tqdm.auto import tqdm # progress bar for loops\n",
    "from sklearn.model_selection import train_test_split # splits data into training and test sets"
   ]
  },
  {
   "cell_type": "code",
   "execution_count": 2,
   "metadata": {},
   "outputs": [],
   "source": [
    "class ProductSearchDataset(torch.utils.data.Dataset):\n",
    "    def __init__(self, dataset):\n",
    "        self.data = dataset # takes in a dataset\n",
    "    \n",
    "    def __len__(self):\n",
    "        return self.data.shape[0] # return total # of rows (products) in the dataset\n",
    "\n",
    "    def __getitem__(self, index):\n",
    "        row = self.data.iloc[index] # retrieve a row based on index\n",
    "\n",
    "        # extract data\n",
    "        product_id = row['id']\n",
    "        product_desc = row['description']\n",
    "        product_cluster = row['label']\n",
    "        \n",
    "        # get all queries\n",
    "        product_queries = row[['query_1', 'query_2', 'query_3', 'query_4', 'query_5']].values\n",
    "    \n",
    "        # randomly select one query for training\n",
    "        query = np.random.choice(product_queries)\n",
    "    \n",
    "        return query, product_desc, product_id, product_cluster"
   ]
  },
  {
   "cell_type": "code",
   "execution_count": 3,
   "metadata": {},
   "outputs": [],
   "source": [
    "df = pd.read_csv(\"cd_vinyl_products_with_sample_queries.csv\")"
   ]
  },
  {
   "cell_type": "code",
   "execution_count": 4,
   "metadata": {},
   "outputs": [
    {
     "data": {
      "text/html": [
       "<div>\n",
       "<style scoped>\n",
       "    .dataframe tbody tr th:only-of-type {\n",
       "        vertical-align: middle;\n",
       "    }\n",
       "\n",
       "    .dataframe tbody tr th {\n",
       "        vertical-align: top;\n",
       "    }\n",
       "\n",
       "    .dataframe thead th {\n",
       "        text-align: right;\n",
       "    }\n",
       "</style>\n",
       "<table border=\"1\" class=\"dataframe\">\n",
       "  <thead>\n",
       "    <tr style=\"text-align: right;\">\n",
       "      <th></th>\n",
       "      <th>id</th>\n",
       "      <th>title</th>\n",
       "      <th>description</th>\n",
       "      <th>label</th>\n",
       "      <th>query_1</th>\n",
       "      <th>query_2</th>\n",
       "      <th>query_3</th>\n",
       "      <th>query_4</th>\n",
       "      <th>query_5</th>\n",
       "    </tr>\n",
       "  </thead>\n",
       "  <tbody>\n",
       "    <tr>\n",
       "      <th>0</th>\n",
       "      <td>B00BV9RZSO</td>\n",
       "      <td>Elephant</td>\n",
       "      <td>doulbe 180gm vinyl lp pressing of this 2003 al...</td>\n",
       "      <td>67</td>\n",
       "      <td>\"white stripes vinyl LP 2003\"</td>\n",
       "      <td>\"garage rock revival music\"</td>\n",
       "      <td>\"analog recording equipment bands\"</td>\n",
       "      <td>\"Detroit indie music albums\"</td>\n",
       "      <td>\"raw simplicity music composition\"</td>\n",
       "    </tr>\n",
       "    <tr>\n",
       "      <th>1</th>\n",
       "      <td>B0009ELZAG</td>\n",
       "      <td>The Beach Boys: Pet Sounds</td>\n",
       "      <td>the tracks are 1 wouldnt it be nice 2 you stil...</td>\n",
       "      <td>45</td>\n",
       "      <td>\"Pet Sounds bonus tracks vinyl\"</td>\n",
       "      <td>\"Beach Boys album 1966\"</td>\n",
       "      <td>\"Brian Wilson music compositions\"</td>\n",
       "      <td>\"California pop music LP\"</td>\n",
       "      <td>\"melodic pop rock records\"</td>\n",
       "    </tr>\n",
       "    <tr>\n",
       "      <th>2</th>\n",
       "      <td>B00M889IDM</td>\n",
       "      <td>Eric Clapton &amp; Friends: The Breeze</td>\n",
       "      <td>eric clapton has often stated that jj cale is ...</td>\n",
       "      <td>54</td>\n",
       "      <td>\"Eric Clapton tribute album JJ Cale\"</td>\n",
       "      <td>\"rock history appreciation music\"</td>\n",
       "      <td>\"famous musicians collaborations LP\"</td>\n",
       "      <td>\"JJ Cale covers by artists\"</td>\n",
       "      <td>\"1972 single call me the breeze\"</td>\n",
       "    </tr>\n",
       "    <tr>\n",
       "      <th>3</th>\n",
       "      <td>B00NQKWA6S</td>\n",
       "      <td>The Endless River</td>\n",
       "      <td>2014 release the 15th and final studio album f...</td>\n",
       "      <td>3</td>\n",
       "      <td>\"David Gilmour final studio album\"</td>\n",
       "      <td>\"British rock band unreleased tracks\"</td>\n",
       "      <td>\"Pink Floyd leftovers project\"</td>\n",
       "      <td>\"veteran rock musicians LP\"</td>\n",
       "      <td>\"coproduced by Phil Manzanera\"</td>\n",
       "    </tr>\n",
       "    <tr>\n",
       "      <th>4</th>\n",
       "      <td>B08HGPZ1Q5</td>\n",
       "      <td>American Beauty</td>\n",
       "      <td>the crown jewel of the deads studio output fea...</td>\n",
       "      <td>63</td>\n",
       "      <td>\"Grateful Dead crown jewel LP\"</td>\n",
       "      <td>\"50th-anniversary remastered vinyl\"</td>\n",
       "      <td>\"psychedelic rock classics\"</td>\n",
       "      <td>\"180-gram vinyl reissue\"</td>\n",
       "      <td>\"tracklist box of rain\"</td>\n",
       "    </tr>\n",
       "  </tbody>\n",
       "</table>\n",
       "</div>"
      ],
      "text/plain": [
       "           id                               title  \\\n",
       "0  B00BV9RZSO                            Elephant   \n",
       "1  B0009ELZAG          The Beach Boys: Pet Sounds   \n",
       "2  B00M889IDM  Eric Clapton & Friends: The Breeze   \n",
       "3  B00NQKWA6S                   The Endless River   \n",
       "4  B08HGPZ1Q5                     American Beauty   \n",
       "\n",
       "                                         description  label  \\\n",
       "0  doulbe 180gm vinyl lp pressing of this 2003 al...     67   \n",
       "1  the tracks are 1 wouldnt it be nice 2 you stil...     45   \n",
       "2  eric clapton has often stated that jj cale is ...     54   \n",
       "3  2014 release the 15th and final studio album f...      3   \n",
       "4  the crown jewel of the deads studio output fea...     63   \n",
       "\n",
       "                                 query_1  \\\n",
       "0          \"white stripes vinyl LP 2003\"   \n",
       "1        \"Pet Sounds bonus tracks vinyl\"   \n",
       "2   \"Eric Clapton tribute album JJ Cale\"   \n",
       "3     \"David Gilmour final studio album\"   \n",
       "4         \"Grateful Dead crown jewel LP\"   \n",
       "\n",
       "                                 query_2  \\\n",
       "0            \"garage rock revival music\"   \n",
       "1                \"Beach Boys album 1966\"   \n",
       "2      \"rock history appreciation music\"   \n",
       "3  \"British rock band unreleased tracks\"   \n",
       "4    \"50th-anniversary remastered vinyl\"   \n",
       "\n",
       "                                query_3                       query_4  \\\n",
       "0    \"analog recording equipment bands\"  \"Detroit indie music albums\"   \n",
       "1     \"Brian Wilson music compositions\"     \"California pop music LP\"   \n",
       "2  \"famous musicians collaborations LP\"   \"JJ Cale covers by artists\"   \n",
       "3        \"Pink Floyd leftovers project\"   \"veteran rock musicians LP\"   \n",
       "4           \"psychedelic rock classics\"      \"180-gram vinyl reissue\"   \n",
       "\n",
       "                               query_5  \n",
       "0  \"raw simplicity music composition\"   \n",
       "1          \"melodic pop rock records\"   \n",
       "2    \"1972 single call me the breeze\"   \n",
       "3      \"coproduced by Phil Manzanera\"   \n",
       "4             \"tracklist box of rain\"   "
      ]
     },
     "execution_count": 4,
     "metadata": {},
     "output_type": "execute_result"
    }
   ],
   "source": [
    "df.head()"
   ]
  },
  {
   "cell_type": "code",
   "execution_count": 6,
   "metadata": {},
   "outputs": [],
   "source": [
    "train_dataset, val_dataset = train_test_split(df, test_size=0.2, random_state=3723)\n",
    "train_dataset.reset_index(drop=True, inplace=True)\n",
    "val_dataset.reset_index(drop=True, inplace=True)"
   ]
  },
  {
   "cell_type": "code",
   "execution_count": 7,
   "metadata": {},
   "outputs": [],
   "source": [
    "class QueryEncoder(torch.nn.Module):\n",
    "    def __init__(self, vocab_size, embed_dim, output_embed_dim):\n",
    "        super().__init__()\n",
    "        self.embedding_layer = torch.nn.Embedding(vocab_size, embed_dim)\n",
    "        # use fewer transformer layers for queries since they're shorter\n",
    "        self.encoder = torch.nn.TransformerEncoder(\n",
    "            torch.nn.TransformerEncoderLayer(embed_dim, nhead=8, batch_first=True),\n",
    "            num_layers=2,\n",
    "            norm=torch.nn.LayerNorm([embed_dim]),\n",
    "            enable_nested_tensor=False\n",
    "        )\n",
    "        self.projection = torch.nn.Linear(embed_dim, output_embed_dim)\n",
    "        \n",
    "    def forward(self, tokenizer_output):\n",
    "        # move inputs to the same device as the model\n",
    "        input_ids = tokenizer_output['input_ids'].to(self.embedding_layer.weight.device)\n",
    "        attention_mask = tokenizer_output['attention_mask'].to(self.embedding_layer.weight.device)\n",
    "        \n",
    "        x = self.embedding_layer(input_ids)\n",
    "        x = self.encoder(x, src_key_padding_mask=attention_mask.logical_not())\n",
    "        # use mean pooling instead of CLS token for queries\n",
    "        # this helps capture information from all tokens in short queries\n",
    "        mask_expanded = attention_mask.unsqueeze(-1).expand(x.size())\n",
    "        sum_embeddings = torch.sum(x * mask_expanded, 1)\n",
    "        sum_mask = torch.sum(mask_expanded, 1)\n",
    "        mean_embeddings = sum_embeddings / sum_mask\n",
    "        return self.projection(mean_embeddings)"
   ]
  },
  {
   "cell_type": "code",
   "execution_count": 8,
   "metadata": {},
   "outputs": [],
   "source": [
    "class ProductEncoder(torch.nn.Module):\n",
    "    def __init__(self, vocab_size, embed_dim, output_embed_dim):\n",
    "        super().__init__()\n",
    "        self.embedding_layer = torch.nn.Embedding(vocab_size, embed_dim)\n",
    "        # use more transformer layers for product descriptions since they're longer\n",
    "        self.encoder = torch.nn.TransformerEncoder(\n",
    "            torch.nn.TransformerEncoderLayer(embed_dim, nhead=8, batch_first=True),\n",
    "            num_layers=4,\n",
    "            norm=torch.nn.LayerNorm([embed_dim]),\n",
    "            enable_nested_tensor=False\n",
    "        )\n",
    "        self.projection = torch.nn.Linear(embed_dim, output_embed_dim)\n",
    "        \n",
    "    def forward(self, tokenizer_output):\n",
    "        # move inputs to the same device as the model\n",
    "        input_ids = tokenizer_output['input_ids'].to(self.embedding_layer.weight.device)\n",
    "        attention_mask = tokenizer_output['attention_mask'].to(self.embedding_layer.weight.device)\n",
    "        \n",
    "        x = self.embedding_layer(input_ids)\n",
    "        x = self.encoder(x, src_key_padding_mask=attention_mask.logical_not())\n",
    "        # use CLS token for product descriptions\n",
    "        cls_embed = x[:,0,:]\n",
    "        return self.projection(cls_embed)"
   ]
  },
  {
   "cell_type": "code",
   "execution_count": 9,
   "metadata": {},
   "outputs": [],
   "source": [
    "def batch_hard_negative_sampling(product_ids, cluster_ids, product_embeddings, num_negatives=1):\n",
    "    \"\"\"\n",
    "    Sample hard negatives from the current batch, ensuring negatives come from different clusters.\n",
    "\n",
    "    Args:\n",
    "        product_ids (list): List of product IDs in the batch.\n",
    "        cluster_ids (list): List of corresponding cluster IDs in the batch.\n",
    "        product_embeddings (torch.Tensor): Tensor of product embeddings in the batch [batch_size, embed_dim].\n",
    "        num_negatives (int): Number of negatives per query.\n",
    "\n",
    "    Returns:\n",
    "        neg_embeddings (torch.Tensor): Tensor of hard negative product embeddings [batch_size, num_negatives, embed_dim].\n",
    "    \"\"\"\n",
    "    batch_size = len(product_ids)\n",
    "    neg_samples = []\n",
    "\n",
    "    for i in range(batch_size):\n",
    "        # get current cluster ID\n",
    "        current_cluster = cluster_ids[i]\n",
    "\n",
    "        # find indices of products in the batch from a different cluster\n",
    "        negative_indices = [j for j in range(batch_size) if cluster_ids[j] != current_cluster]\n",
    "\n",
    "        # sample negatives\n",
    "        sampled_negatives = random.sample(negative_indices, num_negatives)\n",
    "        \n",
    "        # store their embeddings\n",
    "        neg_samples.append(product_embeddings[sampled_negatives])\n",
    "\n",
    "    # stack negatives into a tensor [batch_size, num_negatives, embed_dim]\n",
    "    neg_embeddings = torch.stack(neg_samples).to(product_embeddings.device)\n",
    "    \n",
    "    return neg_embeddings"
   ]
  },
  {
   "cell_type": "code",
   "execution_count": 10,
   "metadata": {},
   "outputs": [],
   "source": [
    "def evaluate_model(query_encoder, product_encoder, eval_dataset, tokenizer, query_max_len, product_max_len, k=10, device='cuda'):\n",
    "    \"\"\"\n",
    "    Evaluate the model on the evaluation dataset\n",
    "    \n",
    "    Args:\n",
    "        query_encoder: Query encoder model\n",
    "        product_encoder: Product encoder model\n",
    "        eval_dataset: Evaluation dataset\n",
    "        tokenizer: Tokenizer\n",
    "        query_max_len: Maximum query length\n",
    "        product_max_len: Maximum product description length\n",
    "        k: Number of top results to consider for metrics\n",
    "        device: Device to use for computations\n",
    "    \"\"\"\n",
    "    query_encoder.eval()\n",
    "    product_encoder.eval()\n",
    "    \n",
    "    # create evaluation dataloader\n",
    "    eval_dataloader = torch.utils.data.DataLoader(eval_dataset, batch_size=8, shuffle=False)\n",
    "    \n",
    "    # first pass: encode all products\n",
    "    all_product_ids = []\n",
    "    all_product_embeddings = []\n",
    "    \n",
    "    with torch.no_grad():\n",
    "        for batch_data in tqdm(eval_dataloader, desc=\"Encoding Products\"):\n",
    "            _, product_descs, product_ids, _ = batch_data\n",
    "            \n",
    "            product_tokens = tokenizer(\n",
    "                product_descs, \n",
    "                padding=True, \n",
    "                truncation=True, \n",
    "                return_tensors=\"pt\", \n",
    "                max_length=product_max_len\n",
    "            )\n",
    "            \n",
    "            product_embeddings = product_encoder(product_tokens)\n",
    "            product_embeddings = torch.nn.functional.normalize(product_embeddings, p=2, dim=1)\n",
    "            \n",
    "            all_product_ids.extend(product_ids)\n",
    "            all_product_embeddings.append(product_embeddings.cpu())  # move to CPU to save GPU memory\n",
    "    \n",
    "    # concatenate all product embeddings\n",
    "    all_product_embeddings = torch.cat(all_product_embeddings, dim=0)\n",
    "    \n",
    "    # second pass: evaluate queries\n",
    "    total_queries = 0\n",
    "    hits_at_k = 0\n",
    "    mrr = 0.0  # mean Reciprocal Rank\n",
    "    \n",
    "    with torch.no_grad():\n",
    "        for batch_data in tqdm(eval_dataloader, desc=\"Evaluating Queries\"):\n",
    "            queries, _, product_ids, _ = batch_data\n",
    "            \n",
    "            query_tokens = tokenizer(\n",
    "                queries, \n",
    "                padding=True, \n",
    "                truncation=True, \n",
    "                return_tensors=\"pt\", \n",
    "                max_length=query_max_len\n",
    "            )\n",
    "            \n",
    "            query_embeddings = query_encoder(query_tokens)\n",
    "            query_embeddings = torch.nn.functional.normalize(query_embeddings, p=2, dim=1)\n",
    "            \n",
    "            # move query embeddings to CPU for comparison with all products\n",
    "            query_embeddings_cpu = query_embeddings.cpu()\n",
    "            \n",
    "            # compute similarities with all products\n",
    "            similarities = query_embeddings_cpu @ all_product_embeddings.T\n",
    "            \n",
    "            # get top-k indices\n",
    "            _, top_indices = torch.topk(similarities, k=k, dim=1)\n",
    "            \n",
    "            # convert to list for evaluation\n",
    "            for i, (query_id, true_product_id) in enumerate(zip(range(len(queries)), product_ids)):\n",
    "                total_queries += 1\n",
    "                top_k_product_ids = [all_product_ids[idx] for idx in top_indices[i].tolist()]\n",
    "                \n",
    "                # check if true product is in top-k\n",
    "                if true_product_id in top_k_product_ids:\n",
    "                    hits_at_k += 1\n",
    "                    # calculate reciprocal rank\n",
    "                    rank = top_k_product_ids.index(true_product_id) + 1\n",
    "                    mrr += 1.0 / rank\n",
    "    \n",
    "    # calculate metrics\n",
    "    hits_at_k_rate = hits_at_k / total_queries if total_queries > 0 else 0\n",
    "    mrr = mrr / total_queries if total_queries > 0 else 0\n",
    "    \n",
    "    print(f\"Evaluation Metrics:\")\n",
    "    print(f\"Hits@{k}: {hits_at_k_rate:.4f}\")\n",
    "    print(f\"MRR: {mrr:.4f}\")\n",
    "\n",
    "    return hits_at_k_rate, mrr"
   ]
  },
  {
   "cell_type": "code",
   "execution_count": 11,
   "metadata": {},
   "outputs": [],
   "source": [
    "def in_batch_negative_sampling_loss(query_embeddings, product_embeddings, negative_embeddings, temperature=0.1):\n",
    "    \"\"\"\n",
    "    Compute in-batch negative sampling loss (InfoNCE loss) with hard negatives.\n",
    "\n",
    "    Args:\n",
    "        query_embeddings: Query embeddings [batch_size, embed_dim]\n",
    "        product_embeddings: Product embeddings [batch_size, embed_dim]\n",
    "        negative_embeddings: Hard negative product embeddings [batch_size, embed_dim]\n",
    "        temperature: Temperature parameter for softmax.\n",
    "\n",
    "    Returns:\n",
    "        loss: InfoNCE loss\n",
    "    \"\"\"\n",
    "    batch_size = query_embeddings.shape[0]\n",
    "\n",
    "    # squeeze negative embeddings to remove the unnecessary dimension\n",
    "    negative_embeddings = negative_embeddings.squeeze(1)\n",
    "\n",
    "    # compute similarity scores\n",
    "    positive_sim = (query_embeddings * product_embeddings).sum(dim=1) / temperature\n",
    "    negative_sim = (query_embeddings @ negative_embeddings.T) / temperature  # Hard negatives\n",
    "\n",
    "    # stack positives and negatives\n",
    "    logits = torch.cat([positive_sim.unsqueeze(1), negative_sim], dim=1)\n",
    "\n",
    "    # labels: First column (positive pair) is correct\n",
    "    labels = torch.zeros(batch_size, dtype=torch.long, device=query_embeddings.device)\n",
    "\n",
    "    # compute loss\n",
    "    loss = torch.nn.functional.cross_entropy(logits, labels)\n",
    "\n",
    "    return loss"
   ]
  },
  {
   "cell_type": "code",
   "execution_count": 12,
   "metadata": {},
   "outputs": [],
   "source": [
    "def train_embedding_model(dataset, num_epochs=10, learning_rate=1e-4, eval_dataset=None, patience=10):\n",
    "    device = torch.device('cuda' if torch.cuda.is_available() else 'cpu')\n",
    "    print(f\"Using device: {device}\")\n",
    "\n",
    "    dataset = ProductSearchDataset(dataset)\n",
    "    eval_dataset = ProductSearchDataset(eval_dataset)\n",
    "\n",
    "    embed_size = 512\n",
    "    output_embed_size = 128\n",
    "    query_max_len = 32\n",
    "    product_max_len = 512\n",
    "    batch_size = 8\n",
    "\n",
    "    tokenizer = AutoTokenizer.from_pretrained('bert-base-uncased')\n",
    "\n",
    "    # initialize encoders\n",
    "    query_encoder = QueryEncoder(vocab_size=tokenizer.vocab_size, embed_dim=embed_size, output_embed_dim=output_embed_size).to(device)\n",
    "    product_encoder = ProductEncoder(vocab_size=tokenizer.vocab_size, embed_dim=embed_size, output_embed_dim=output_embed_size).to(device)\n",
    "\n",
    "    dataloader = torch.utils.data.DataLoader(dataset, batch_size=batch_size, shuffle=True)\n",
    "    optimizer = torch.optim.Adam(list(query_encoder.parameters()) + list(product_encoder.parameters()), lr=learning_rate)\n",
    "\n",
    "    scaler = torch.amp.GradScaler(device)\n",
    "    scheduler = torch.optim.lr_scheduler.ReduceLROnPlateau(optimizer, mode='min', factor=0.5, patience=2)\n",
    "\n",
    "    total_steps = len(dataloader) * num_epochs\n",
    "    main_progress_bar = tqdm(total=total_steps, desc=\"Training Progress\", position=0)\n",
    "\n",
    "    best_hits = 0\n",
    "    patience_counter = 0\n",
    "    best_query_encoder_weights = None\n",
    "    best_product_encoder_weights = None\n",
    "\n",
    "    \n",
    "    hits_log = []\n",
    "    mrr_log = []\n",
    "    \n",
    "    for epoch in range(num_epochs):\n",
    "        # early stopping check\n",
    "        if patience_counter == patience:\n",
    "            break\n",
    "        \n",
    "        query_encoder.train()\n",
    "        product_encoder.train()\n",
    "        epoch_loss = []\n",
    "\n",
    "        epoch_desc = f\"Epoch {epoch+1}/{num_epochs}\"\n",
    "        epoch_progress = tqdm(dataloader, desc=epoch_desc, leave=False, position=1)\n",
    "\n",
    "        for batch_idx, batch_data in enumerate(epoch_progress):\n",
    "            queries, product_descs, product_ids, cluster_ids = batch_data\n",
    "\n",
    "            query_tokens = tokenizer(queries, padding=True, truncation=True, return_tensors=\"pt\", max_length=query_max_len).to(device)\n",
    "            product_tokens = tokenizer(product_descs, padding=True, truncation=True, return_tensors=\"pt\", max_length=product_max_len).to(device)\n",
    "\n",
    "            with torch.amp.autocast(device.type):\n",
    "                query_embeddings = query_encoder(query_tokens)\n",
    "                product_embeddings = product_encoder(product_tokens)\n",
    "\n",
    "                query_embeddings = torch.nn.functional.normalize(query_embeddings, p=2, dim=1)\n",
    "                product_embeddings = torch.nn.functional.normalize(product_embeddings, p=2, dim=1)\n",
    "\n",
    "                # get hard negatives from the batch\n",
    "                negative_embeddings = batch_hard_negative_sampling(product_ids, cluster_ids, product_embeddings, num_negatives=1)\n",
    "\n",
    "                loss = in_batch_negative_sampling_loss(query_embeddings, product_embeddings, negative_embeddings)\n",
    "\n",
    "            epoch_loss.append(loss.item())\n",
    "\n",
    "            optimizer.zero_grad()\n",
    "            scaler.scale(loss).backward()\n",
    "            scaler.step(optimizer)\n",
    "            scaler.update()\n",
    "\n",
    "            main_progress_bar.update(1)\n",
    "            epoch_progress.set_postfix({\"loss\": f\"{loss.item():.4f}\"})\n",
    "\n",
    "        avg_loss = np.mean(epoch_loss)\n",
    "        print(f\"\\nEpoch {epoch+1}/{num_epochs}, Average Loss: {avg_loss:.4f}\")\n",
    "\n",
    "        scheduler.step(avg_loss)\n",
    "\n",
    "        if eval_dataset is not None:\n",
    "            print(\"\\nEvaluating model...\")\n",
    "            hits_in_top_k, mrr = evaluate_model(query_encoder, product_encoder, eval_dataset, tokenizer, query_max_len, product_max_len, device=device)\n",
    "            if hits_in_top_k > best_hits:\n",
    "                best_hits = hits_in_top_k\n",
    "                best_query_encoder_weights = query_encoder.state_dict()\n",
    "                best_product_encoder_weights = product_encoder.state_dict()\n",
    "                patience_counter = 0\n",
    "            else:\n",
    "                patience_counter += 1\n",
    "            hits_log.append(hits_in_top_k)\n",
    "            mrr_log.append(mrr)\n",
    "\n",
    "    main_progress_bar.close()\n",
    "\n",
    "    # load the model weights with the best validation hits\n",
    "    query_encoder.load_state_dict(best_query_encoder_weights)\n",
    "    product_encoder.load_state_dict(best_product_encoder_weights)\n",
    "\n",
    "    return query_encoder, product_encoder, hits_log, mrr_log"
   ]
  },
  {
   "cell_type": "code",
   "execution_count": 19,
   "metadata": {},
   "outputs": [
    {
     "name": "stdout",
     "output_type": "stream",
     "text": [
      "Using device: cuda\n"
     ]
    },
    {
     "data": {
      "application/vnd.jupyter.widget-view+json": {
       "model_id": "20d8d700241f4e68af74d8bc6958405e",
       "version_major": 2,
       "version_minor": 0
      },
      "text/plain": [
       "Training Progress:   0%|          | 0/2800 [00:00<?, ?it/s]"
      ]
     },
     "metadata": {},
     "output_type": "display_data"
    },
    {
     "data": {
      "application/vnd.jupyter.widget-view+json": {
       "model_id": "",
       "version_major": 2,
       "version_minor": 0
      },
      "text/plain": [
       "Epoch 1/100:   0%|          | 0/28 [00:00<?, ?it/s]"
      ]
     },
     "metadata": {},
     "output_type": "display_data"
    },
    {
     "name": "stdout",
     "output_type": "stream",
     "text": [
      "\n",
      "Epoch 1/100, Average Loss: 2.2059\n",
      "\n",
      "Evaluating model...\n"
     ]
    },
    {
     "data": {
      "application/vnd.jupyter.widget-view+json": {
       "model_id": "77a403562334443c96c60c466a32718b",
       "version_major": 2,
       "version_minor": 0
      },
      "text/plain": [
       "Encoding Products:   0%|          | 0/7 [00:00<?, ?it/s]"
      ]
     },
     "metadata": {},
     "output_type": "display_data"
    },
    {
     "data": {
      "application/vnd.jupyter.widget-view+json": {
       "model_id": "2b795557283f4b768c62fe4289c658db",
       "version_major": 2,
       "version_minor": 0
      },
      "text/plain": [
       "Evaluating Queries:   0%|          | 0/7 [00:00<?, ?it/s]"
      ]
     },
     "metadata": {},
     "output_type": "display_data"
    },
    {
     "name": "stdout",
     "output_type": "stream",
     "text": [
      "Evaluation Metrics:\n",
      "Hits@10: 0.1964\n",
      "MRR: 0.0919\n"
     ]
    },
    {
     "data": {
      "application/vnd.jupyter.widget-view+json": {
       "model_id": "",
       "version_major": 2,
       "version_minor": 0
      },
      "text/plain": [
       "Epoch 2/100:   0%|          | 0/28 [00:00<?, ?it/s]"
      ]
     },
     "metadata": {},
     "output_type": "display_data"
    },
    {
     "name": "stdout",
     "output_type": "stream",
     "text": [
      "\n",
      "Epoch 2/100, Average Loss: 2.1840\n",
      "\n",
      "Evaluating model...\n"
     ]
    },
    {
     "data": {
      "application/vnd.jupyter.widget-view+json": {
       "model_id": "8612da51f5674a46bd613f6c31b79160",
       "version_major": 2,
       "version_minor": 0
      },
      "text/plain": [
       "Encoding Products:   0%|          | 0/7 [00:00<?, ?it/s]"
      ]
     },
     "metadata": {},
     "output_type": "display_data"
    },
    {
     "data": {
      "application/vnd.jupyter.widget-view+json": {
       "model_id": "63952b109c704971a8e629d5c94a251d",
       "version_major": 2,
       "version_minor": 0
      },
      "text/plain": [
       "Evaluating Queries:   0%|          | 0/7 [00:00<?, ?it/s]"
      ]
     },
     "metadata": {},
     "output_type": "display_data"
    },
    {
     "name": "stdout",
     "output_type": "stream",
     "text": [
      "Evaluation Metrics:\n",
      "Hits@10: 0.2321\n",
      "MRR: 0.0641\n"
     ]
    },
    {
     "data": {
      "application/vnd.jupyter.widget-view+json": {
       "model_id": "",
       "version_major": 2,
       "version_minor": 0
      },
      "text/plain": [
       "Epoch 3/100:   0%|          | 0/28 [00:00<?, ?it/s]"
      ]
     },
     "metadata": {},
     "output_type": "display_data"
    },
    {
     "name": "stdout",
     "output_type": "stream",
     "text": [
      "\n",
      "Epoch 3/100, Average Loss: 2.1831\n",
      "\n",
      "Evaluating model...\n"
     ]
    },
    {
     "data": {
      "application/vnd.jupyter.widget-view+json": {
       "model_id": "4ae283f8f9d04690af4ec8c3559fa433",
       "version_major": 2,
       "version_minor": 0
      },
      "text/plain": [
       "Encoding Products:   0%|          | 0/7 [00:00<?, ?it/s]"
      ]
     },
     "metadata": {},
     "output_type": "display_data"
    },
    {
     "data": {
      "application/vnd.jupyter.widget-view+json": {
       "model_id": "edbfc66a95744c8d95ebeabe63e635c9",
       "version_major": 2,
       "version_minor": 0
      },
      "text/plain": [
       "Evaluating Queries:   0%|          | 0/7 [00:00<?, ?it/s]"
      ]
     },
     "metadata": {},
     "output_type": "display_data"
    },
    {
     "name": "stdout",
     "output_type": "stream",
     "text": [
      "Evaluation Metrics:\n",
      "Hits@10: 0.1964\n",
      "MRR: 0.0627\n"
     ]
    },
    {
     "data": {
      "application/vnd.jupyter.widget-view+json": {
       "model_id": "",
       "version_major": 2,
       "version_minor": 0
      },
      "text/plain": [
       "Epoch 4/100:   0%|          | 0/28 [00:00<?, ?it/s]"
      ]
     },
     "metadata": {},
     "output_type": "display_data"
    },
    {
     "name": "stdout",
     "output_type": "stream",
     "text": [
      "\n",
      "Epoch 4/100, Average Loss: 2.1513\n",
      "\n",
      "Evaluating model...\n"
     ]
    },
    {
     "data": {
      "application/vnd.jupyter.widget-view+json": {
       "model_id": "4e0fb7067b714d0b92210cb5d37c0c28",
       "version_major": 2,
       "version_minor": 0
      },
      "text/plain": [
       "Encoding Products:   0%|          | 0/7 [00:00<?, ?it/s]"
      ]
     },
     "metadata": {},
     "output_type": "display_data"
    },
    {
     "data": {
      "application/vnd.jupyter.widget-view+json": {
       "model_id": "6664ac5ad728441eb68138788831fe7e",
       "version_major": 2,
       "version_minor": 0
      },
      "text/plain": [
       "Evaluating Queries:   0%|          | 0/7 [00:00<?, ?it/s]"
      ]
     },
     "metadata": {},
     "output_type": "display_data"
    },
    {
     "name": "stdout",
     "output_type": "stream",
     "text": [
      "Evaluation Metrics:\n",
      "Hits@10: 0.1964\n",
      "MRR: 0.0485\n"
     ]
    },
    {
     "data": {
      "application/vnd.jupyter.widget-view+json": {
       "model_id": "",
       "version_major": 2,
       "version_minor": 0
      },
      "text/plain": [
       "Epoch 5/100:   0%|          | 0/28 [00:00<?, ?it/s]"
      ]
     },
     "metadata": {},
     "output_type": "display_data"
    },
    {
     "name": "stdout",
     "output_type": "stream",
     "text": [
      "\n",
      "Epoch 5/100, Average Loss: 2.1565\n",
      "\n",
      "Evaluating model...\n"
     ]
    },
    {
     "data": {
      "application/vnd.jupyter.widget-view+json": {
       "model_id": "5f47b10a019c41bdb00307a42036f2a8",
       "version_major": 2,
       "version_minor": 0
      },
      "text/plain": [
       "Encoding Products:   0%|          | 0/7 [00:00<?, ?it/s]"
      ]
     },
     "metadata": {},
     "output_type": "display_data"
    },
    {
     "data": {
      "application/vnd.jupyter.widget-view+json": {
       "model_id": "2e9700b1d98c42ed9ab3fe409cbe6ac0",
       "version_major": 2,
       "version_minor": 0
      },
      "text/plain": [
       "Evaluating Queries:   0%|          | 0/7 [00:00<?, ?it/s]"
      ]
     },
     "metadata": {},
     "output_type": "display_data"
    },
    {
     "name": "stdout",
     "output_type": "stream",
     "text": [
      "Evaluation Metrics:\n",
      "Hits@10: 0.2143\n",
      "MRR: 0.0589\n"
     ]
    },
    {
     "data": {
      "application/vnd.jupyter.widget-view+json": {
       "model_id": "",
       "version_major": 2,
       "version_minor": 0
      },
      "text/plain": [
       "Epoch 6/100:   0%|          | 0/28 [00:00<?, ?it/s]"
      ]
     },
     "metadata": {},
     "output_type": "display_data"
    },
    {
     "name": "stdout",
     "output_type": "stream",
     "text": [
      "\n",
      "Epoch 6/100, Average Loss: 2.1634\n",
      "\n",
      "Evaluating model...\n"
     ]
    },
    {
     "data": {
      "application/vnd.jupyter.widget-view+json": {
       "model_id": "0db1b67ad50945b6a97443818ec305bb",
       "version_major": 2,
       "version_minor": 0
      },
      "text/plain": [
       "Encoding Products:   0%|          | 0/7 [00:00<?, ?it/s]"
      ]
     },
     "metadata": {},
     "output_type": "display_data"
    },
    {
     "data": {
      "application/vnd.jupyter.widget-view+json": {
       "model_id": "e524d3d05b164533868ae9dd002e321c",
       "version_major": 2,
       "version_minor": 0
      },
      "text/plain": [
       "Evaluating Queries:   0%|          | 0/7 [00:00<?, ?it/s]"
      ]
     },
     "metadata": {},
     "output_type": "display_data"
    },
    {
     "name": "stdout",
     "output_type": "stream",
     "text": [
      "Evaluation Metrics:\n",
      "Hits@10: 0.2143\n",
      "MRR: 0.0425\n"
     ]
    },
    {
     "data": {
      "application/vnd.jupyter.widget-view+json": {
       "model_id": "",
       "version_major": 2,
       "version_minor": 0
      },
      "text/plain": [
       "Epoch 7/100:   0%|          | 0/28 [00:00<?, ?it/s]"
      ]
     },
     "metadata": {},
     "output_type": "display_data"
    },
    {
     "name": "stdout",
     "output_type": "stream",
     "text": [
      "\n",
      "Epoch 7/100, Average Loss: 2.1209\n",
      "\n",
      "Evaluating model...\n"
     ]
    },
    {
     "data": {
      "application/vnd.jupyter.widget-view+json": {
       "model_id": "cdf7f2da80f74e9d9d13cb91380c8f19",
       "version_major": 2,
       "version_minor": 0
      },
      "text/plain": [
       "Encoding Products:   0%|          | 0/7 [00:00<?, ?it/s]"
      ]
     },
     "metadata": {},
     "output_type": "display_data"
    },
    {
     "data": {
      "application/vnd.jupyter.widget-view+json": {
       "model_id": "5dd8b1e1cf76467a9b67423a310b614f",
       "version_major": 2,
       "version_minor": 0
      },
      "text/plain": [
       "Evaluating Queries:   0%|          | 0/7 [00:00<?, ?it/s]"
      ]
     },
     "metadata": {},
     "output_type": "display_data"
    },
    {
     "name": "stdout",
     "output_type": "stream",
     "text": [
      "Evaluation Metrics:\n",
      "Hits@10: 0.1786\n",
      "MRR: 0.0736\n"
     ]
    },
    {
     "data": {
      "application/vnd.jupyter.widget-view+json": {
       "model_id": "",
       "version_major": 2,
       "version_minor": 0
      },
      "text/plain": [
       "Epoch 8/100:   0%|          | 0/28 [00:00<?, ?it/s]"
      ]
     },
     "metadata": {},
     "output_type": "display_data"
    },
    {
     "name": "stdout",
     "output_type": "stream",
     "text": [
      "\n",
      "Epoch 8/100, Average Loss: 2.1506\n",
      "\n",
      "Evaluating model...\n"
     ]
    },
    {
     "data": {
      "application/vnd.jupyter.widget-view+json": {
       "model_id": "a62c7530450a4405818edcd83e336872",
       "version_major": 2,
       "version_minor": 0
      },
      "text/plain": [
       "Encoding Products:   0%|          | 0/7 [00:00<?, ?it/s]"
      ]
     },
     "metadata": {},
     "output_type": "display_data"
    },
    {
     "data": {
      "application/vnd.jupyter.widget-view+json": {
       "model_id": "dfb3016ffa2c475985e4c9c6cb532af6",
       "version_major": 2,
       "version_minor": 0
      },
      "text/plain": [
       "Evaluating Queries:   0%|          | 0/7 [00:00<?, ?it/s]"
      ]
     },
     "metadata": {},
     "output_type": "display_data"
    },
    {
     "name": "stdout",
     "output_type": "stream",
     "text": [
      "Evaluation Metrics:\n",
      "Hits@10: 0.1607\n",
      "MRR: 0.0631\n"
     ]
    },
    {
     "data": {
      "application/vnd.jupyter.widget-view+json": {
       "model_id": "",
       "version_major": 2,
       "version_minor": 0
      },
      "text/plain": [
       "Epoch 9/100:   0%|          | 0/28 [00:00<?, ?it/s]"
      ]
     },
     "metadata": {},
     "output_type": "display_data"
    },
    {
     "name": "stdout",
     "output_type": "stream",
     "text": [
      "\n",
      "Epoch 9/100, Average Loss: 2.1197\n",
      "\n",
      "Evaluating model...\n"
     ]
    },
    {
     "data": {
      "application/vnd.jupyter.widget-view+json": {
       "model_id": "702fe4a4919f43008c56afdcc7460fc3",
       "version_major": 2,
       "version_minor": 0
      },
      "text/plain": [
       "Encoding Products:   0%|          | 0/7 [00:00<?, ?it/s]"
      ]
     },
     "metadata": {},
     "output_type": "display_data"
    },
    {
     "data": {
      "application/vnd.jupyter.widget-view+json": {
       "model_id": "0772f6562aea4de4b8aa1443b7e0a71c",
       "version_major": 2,
       "version_minor": 0
      },
      "text/plain": [
       "Evaluating Queries:   0%|          | 0/7 [00:00<?, ?it/s]"
      ]
     },
     "metadata": {},
     "output_type": "display_data"
    },
    {
     "name": "stdout",
     "output_type": "stream",
     "text": [
      "Evaluation Metrics:\n",
      "Hits@10: 0.1964\n",
      "MRR: 0.0431\n"
     ]
    },
    {
     "data": {
      "application/vnd.jupyter.widget-view+json": {
       "model_id": "",
       "version_major": 2,
       "version_minor": 0
      },
      "text/plain": [
       "Epoch 10/100:   0%|          | 0/28 [00:00<?, ?it/s]"
      ]
     },
     "metadata": {},
     "output_type": "display_data"
    },
    {
     "name": "stdout",
     "output_type": "stream",
     "text": [
      "\n",
      "Epoch 10/100, Average Loss: 2.0899\n",
      "\n",
      "Evaluating model...\n"
     ]
    },
    {
     "data": {
      "application/vnd.jupyter.widget-view+json": {
       "model_id": "c6fdac716cd64b559125fdca4b75440d",
       "version_major": 2,
       "version_minor": 0
      },
      "text/plain": [
       "Encoding Products:   0%|          | 0/7 [00:00<?, ?it/s]"
      ]
     },
     "metadata": {},
     "output_type": "display_data"
    },
    {
     "data": {
      "application/vnd.jupyter.widget-view+json": {
       "model_id": "36b44bf7e7d64de8849305690084e4ca",
       "version_major": 2,
       "version_minor": 0
      },
      "text/plain": [
       "Evaluating Queries:   0%|          | 0/7 [00:00<?, ?it/s]"
      ]
     },
     "metadata": {},
     "output_type": "display_data"
    },
    {
     "name": "stdout",
     "output_type": "stream",
     "text": [
      "Evaluation Metrics:\n",
      "Hits@10: 0.2321\n",
      "MRR: 0.1157\n"
     ]
    },
    {
     "data": {
      "application/vnd.jupyter.widget-view+json": {
       "model_id": "",
       "version_major": 2,
       "version_minor": 0
      },
      "text/plain": [
       "Epoch 11/100:   0%|          | 0/28 [00:00<?, ?it/s]"
      ]
     },
     "metadata": {},
     "output_type": "display_data"
    },
    {
     "name": "stdout",
     "output_type": "stream",
     "text": [
      "\n",
      "Epoch 11/100, Average Loss: 2.0715\n",
      "\n",
      "Evaluating model...\n"
     ]
    },
    {
     "data": {
      "application/vnd.jupyter.widget-view+json": {
       "model_id": "60d68620729244e991cee0a8ac750f4b",
       "version_major": 2,
       "version_minor": 0
      },
      "text/plain": [
       "Encoding Products:   0%|          | 0/7 [00:00<?, ?it/s]"
      ]
     },
     "metadata": {},
     "output_type": "display_data"
    },
    {
     "data": {
      "application/vnd.jupyter.widget-view+json": {
       "model_id": "1eb6f5874f8d4724a2f3f44798263ef7",
       "version_major": 2,
       "version_minor": 0
      },
      "text/plain": [
       "Evaluating Queries:   0%|          | 0/7 [00:00<?, ?it/s]"
      ]
     },
     "metadata": {},
     "output_type": "display_data"
    },
    {
     "name": "stdout",
     "output_type": "stream",
     "text": [
      "Evaluation Metrics:\n",
      "Hits@10: 0.1964\n",
      "MRR: 0.0768\n"
     ]
    },
    {
     "data": {
      "application/vnd.jupyter.widget-view+json": {
       "model_id": "",
       "version_major": 2,
       "version_minor": 0
      },
      "text/plain": [
       "Epoch 12/100:   0%|          | 0/28 [00:00<?, ?it/s]"
      ]
     },
     "metadata": {},
     "output_type": "display_data"
    },
    {
     "name": "stdout",
     "output_type": "stream",
     "text": [
      "\n",
      "Epoch 12/100, Average Loss: 2.0409\n",
      "\n",
      "Evaluating model...\n"
     ]
    },
    {
     "data": {
      "application/vnd.jupyter.widget-view+json": {
       "model_id": "acc983a3ae804cdcb9ff47412a57c90d",
       "version_major": 2,
       "version_minor": 0
      },
      "text/plain": [
       "Encoding Products:   0%|          | 0/7 [00:00<?, ?it/s]"
      ]
     },
     "metadata": {},
     "output_type": "display_data"
    },
    {
     "data": {
      "application/vnd.jupyter.widget-view+json": {
       "model_id": "3a16d3b68d93452cb2c4ecbac444abf9",
       "version_major": 2,
       "version_minor": 0
      },
      "text/plain": [
       "Evaluating Queries:   0%|          | 0/7 [00:00<?, ?it/s]"
      ]
     },
     "metadata": {},
     "output_type": "display_data"
    },
    {
     "name": "stdout",
     "output_type": "stream",
     "text": [
      "Evaluation Metrics:\n",
      "Hits@10: 0.2321\n",
      "MRR: 0.1241\n"
     ]
    },
    {
     "data": {
      "application/vnd.jupyter.widget-view+json": {
       "model_id": "",
       "version_major": 2,
       "version_minor": 0
      },
      "text/plain": [
       "Epoch 13/100:   0%|          | 0/28 [00:00<?, ?it/s]"
      ]
     },
     "metadata": {},
     "output_type": "display_data"
    },
    {
     "name": "stdout",
     "output_type": "stream",
     "text": [
      "\n",
      "Epoch 13/100, Average Loss: 2.0145\n",
      "\n",
      "Evaluating model...\n"
     ]
    },
    {
     "data": {
      "application/vnd.jupyter.widget-view+json": {
       "model_id": "56553c5edef14cbdbb913bca19c23acd",
       "version_major": 2,
       "version_minor": 0
      },
      "text/plain": [
       "Encoding Products:   0%|          | 0/7 [00:00<?, ?it/s]"
      ]
     },
     "metadata": {},
     "output_type": "display_data"
    },
    {
     "data": {
      "application/vnd.jupyter.widget-view+json": {
       "model_id": "19ec3e9e30014051a0951ce4f13cf3dd",
       "version_major": 2,
       "version_minor": 0
      },
      "text/plain": [
       "Evaluating Queries:   0%|          | 0/7 [00:00<?, ?it/s]"
      ]
     },
     "metadata": {},
     "output_type": "display_data"
    },
    {
     "name": "stdout",
     "output_type": "stream",
     "text": [
      "Evaluation Metrics:\n",
      "Hits@10: 0.2857\n",
      "MRR: 0.0679\n"
     ]
    },
    {
     "data": {
      "application/vnd.jupyter.widget-view+json": {
       "model_id": "",
       "version_major": 2,
       "version_minor": 0
      },
      "text/plain": [
       "Epoch 14/100:   0%|          | 0/28 [00:00<?, ?it/s]"
      ]
     },
     "metadata": {},
     "output_type": "display_data"
    },
    {
     "name": "stdout",
     "output_type": "stream",
     "text": [
      "\n",
      "Epoch 14/100, Average Loss: 1.9702\n",
      "\n",
      "Evaluating model...\n"
     ]
    },
    {
     "data": {
      "application/vnd.jupyter.widget-view+json": {
       "model_id": "8a1868d92e8f480981c69d571e151ffa",
       "version_major": 2,
       "version_minor": 0
      },
      "text/plain": [
       "Encoding Products:   0%|          | 0/7 [00:00<?, ?it/s]"
      ]
     },
     "metadata": {},
     "output_type": "display_data"
    },
    {
     "data": {
      "application/vnd.jupyter.widget-view+json": {
       "model_id": "96403cbb057146f6a07bda375c715e31",
       "version_major": 2,
       "version_minor": 0
      },
      "text/plain": [
       "Evaluating Queries:   0%|          | 0/7 [00:00<?, ?it/s]"
      ]
     },
     "metadata": {},
     "output_type": "display_data"
    },
    {
     "name": "stdout",
     "output_type": "stream",
     "text": [
      "Evaluation Metrics:\n",
      "Hits@10: 0.2679\n",
      "MRR: 0.0871\n"
     ]
    },
    {
     "data": {
      "application/vnd.jupyter.widget-view+json": {
       "model_id": "",
       "version_major": 2,
       "version_minor": 0
      },
      "text/plain": [
       "Epoch 15/100:   0%|          | 0/28 [00:00<?, ?it/s]"
      ]
     },
     "metadata": {},
     "output_type": "display_data"
    },
    {
     "name": "stdout",
     "output_type": "stream",
     "text": [
      "\n",
      "Epoch 15/100, Average Loss: 1.8232\n",
      "\n",
      "Evaluating model...\n"
     ]
    },
    {
     "data": {
      "application/vnd.jupyter.widget-view+json": {
       "model_id": "809d1f3cfd91422594612917d5170a1b",
       "version_major": 2,
       "version_minor": 0
      },
      "text/plain": [
       "Encoding Products:   0%|          | 0/7 [00:00<?, ?it/s]"
      ]
     },
     "metadata": {},
     "output_type": "display_data"
    },
    {
     "data": {
      "application/vnd.jupyter.widget-view+json": {
       "model_id": "5471205a87bd4caf83487de93ca18cde",
       "version_major": 2,
       "version_minor": 0
      },
      "text/plain": [
       "Evaluating Queries:   0%|          | 0/7 [00:00<?, ?it/s]"
      ]
     },
     "metadata": {},
     "output_type": "display_data"
    },
    {
     "name": "stdout",
     "output_type": "stream",
     "text": [
      "Evaluation Metrics:\n",
      "Hits@10: 0.2321\n",
      "MRR: 0.0877\n"
     ]
    },
    {
     "data": {
      "application/vnd.jupyter.widget-view+json": {
       "model_id": "",
       "version_major": 2,
       "version_minor": 0
      },
      "text/plain": [
       "Epoch 16/100:   0%|          | 0/28 [00:00<?, ?it/s]"
      ]
     },
     "metadata": {},
     "output_type": "display_data"
    },
    {
     "name": "stdout",
     "output_type": "stream",
     "text": [
      "\n",
      "Epoch 16/100, Average Loss: 1.7788\n",
      "\n",
      "Evaluating model...\n"
     ]
    },
    {
     "data": {
      "application/vnd.jupyter.widget-view+json": {
       "model_id": "27102761f6cd4a8fa9e707e5f3ac798b",
       "version_major": 2,
       "version_minor": 0
      },
      "text/plain": [
       "Encoding Products:   0%|          | 0/7 [00:00<?, ?it/s]"
      ]
     },
     "metadata": {},
     "output_type": "display_data"
    },
    {
     "data": {
      "application/vnd.jupyter.widget-view+json": {
       "model_id": "3c000e7f98e341e681bb671e014a417d",
       "version_major": 2,
       "version_minor": 0
      },
      "text/plain": [
       "Evaluating Queries:   0%|          | 0/7 [00:00<?, ?it/s]"
      ]
     },
     "metadata": {},
     "output_type": "display_data"
    },
    {
     "name": "stdout",
     "output_type": "stream",
     "text": [
      "Evaluation Metrics:\n",
      "Hits@10: 0.3750\n",
      "MRR: 0.0888\n"
     ]
    },
    {
     "data": {
      "application/vnd.jupyter.widget-view+json": {
       "model_id": "",
       "version_major": 2,
       "version_minor": 0
      },
      "text/plain": [
       "Epoch 17/100:   0%|          | 0/28 [00:00<?, ?it/s]"
      ]
     },
     "metadata": {},
     "output_type": "display_data"
    },
    {
     "name": "stdout",
     "output_type": "stream",
     "text": [
      "\n",
      "Epoch 17/100, Average Loss: 1.6933\n",
      "\n",
      "Evaluating model...\n"
     ]
    },
    {
     "data": {
      "application/vnd.jupyter.widget-view+json": {
       "model_id": "b5717cc461154520be969419f0f497b7",
       "version_major": 2,
       "version_minor": 0
      },
      "text/plain": [
       "Encoding Products:   0%|          | 0/7 [00:00<?, ?it/s]"
      ]
     },
     "metadata": {},
     "output_type": "display_data"
    },
    {
     "data": {
      "application/vnd.jupyter.widget-view+json": {
       "model_id": "e92ad6fa3810411c8ede93173e173daf",
       "version_major": 2,
       "version_minor": 0
      },
      "text/plain": [
       "Evaluating Queries:   0%|          | 0/7 [00:00<?, ?it/s]"
      ]
     },
     "metadata": {},
     "output_type": "display_data"
    },
    {
     "name": "stdout",
     "output_type": "stream",
     "text": [
      "Evaluation Metrics:\n",
      "Hits@10: 0.2321\n",
      "MRR: 0.1375\n"
     ]
    },
    {
     "data": {
      "application/vnd.jupyter.widget-view+json": {
       "model_id": "",
       "version_major": 2,
       "version_minor": 0
      },
      "text/plain": [
       "Epoch 18/100:   0%|          | 0/28 [00:00<?, ?it/s]"
      ]
     },
     "metadata": {},
     "output_type": "display_data"
    },
    {
     "name": "stdout",
     "output_type": "stream",
     "text": [
      "\n",
      "Epoch 18/100, Average Loss: 1.6724\n",
      "\n",
      "Evaluating model...\n"
     ]
    },
    {
     "data": {
      "application/vnd.jupyter.widget-view+json": {
       "model_id": "b7bcd7dd1e65451ea4b6dad50d631226",
       "version_major": 2,
       "version_minor": 0
      },
      "text/plain": [
       "Encoding Products:   0%|          | 0/7 [00:00<?, ?it/s]"
      ]
     },
     "metadata": {},
     "output_type": "display_data"
    },
    {
     "data": {
      "application/vnd.jupyter.widget-view+json": {
       "model_id": "3794ea87293e4caa9109faa5c9913a80",
       "version_major": 2,
       "version_minor": 0
      },
      "text/plain": [
       "Evaluating Queries:   0%|          | 0/7 [00:00<?, ?it/s]"
      ]
     },
     "metadata": {},
     "output_type": "display_data"
    },
    {
     "name": "stdout",
     "output_type": "stream",
     "text": [
      "Evaluation Metrics:\n",
      "Hits@10: 0.3929\n",
      "MRR: 0.1272\n"
     ]
    },
    {
     "data": {
      "application/vnd.jupyter.widget-view+json": {
       "model_id": "",
       "version_major": 2,
       "version_minor": 0
      },
      "text/plain": [
       "Epoch 19/100:   0%|          | 0/28 [00:00<?, ?it/s]"
      ]
     },
     "metadata": {},
     "output_type": "display_data"
    },
    {
     "name": "stdout",
     "output_type": "stream",
     "text": [
      "\n",
      "Epoch 19/100, Average Loss: 1.6085\n",
      "\n",
      "Evaluating model...\n"
     ]
    },
    {
     "data": {
      "application/vnd.jupyter.widget-view+json": {
       "model_id": "5dd09c4d663a4faab5f49be2e3fbca7f",
       "version_major": 2,
       "version_minor": 0
      },
      "text/plain": [
       "Encoding Products:   0%|          | 0/7 [00:00<?, ?it/s]"
      ]
     },
     "metadata": {},
     "output_type": "display_data"
    },
    {
     "data": {
      "application/vnd.jupyter.widget-view+json": {
       "model_id": "d1a9f5cca64146b895aeedd4e99cd676",
       "version_major": 2,
       "version_minor": 0
      },
      "text/plain": [
       "Evaluating Queries:   0%|          | 0/7 [00:00<?, ?it/s]"
      ]
     },
     "metadata": {},
     "output_type": "display_data"
    },
    {
     "name": "stdout",
     "output_type": "stream",
     "text": [
      "Evaluation Metrics:\n",
      "Hits@10: 0.2679\n",
      "MRR: 0.0958\n"
     ]
    },
    {
     "data": {
      "application/vnd.jupyter.widget-view+json": {
       "model_id": "",
       "version_major": 2,
       "version_minor": 0
      },
      "text/plain": [
       "Epoch 20/100:   0%|          | 0/28 [00:00<?, ?it/s]"
      ]
     },
     "metadata": {},
     "output_type": "display_data"
    },
    {
     "name": "stdout",
     "output_type": "stream",
     "text": [
      "\n",
      "Epoch 20/100, Average Loss: 1.5589\n",
      "\n",
      "Evaluating model...\n"
     ]
    },
    {
     "data": {
      "application/vnd.jupyter.widget-view+json": {
       "model_id": "f877fee1aa80435f90f41f5d6dd89fb2",
       "version_major": 2,
       "version_minor": 0
      },
      "text/plain": [
       "Encoding Products:   0%|          | 0/7 [00:00<?, ?it/s]"
      ]
     },
     "metadata": {},
     "output_type": "display_data"
    },
    {
     "data": {
      "application/vnd.jupyter.widget-view+json": {
       "model_id": "063cf77e9a69411094ba9b72ffc01ae0",
       "version_major": 2,
       "version_minor": 0
      },
      "text/plain": [
       "Evaluating Queries:   0%|          | 0/7 [00:00<?, ?it/s]"
      ]
     },
     "metadata": {},
     "output_type": "display_data"
    },
    {
     "name": "stdout",
     "output_type": "stream",
     "text": [
      "Evaluation Metrics:\n",
      "Hits@10: 0.2857\n",
      "MRR: 0.1285\n"
     ]
    },
    {
     "data": {
      "application/vnd.jupyter.widget-view+json": {
       "model_id": "",
       "version_major": 2,
       "version_minor": 0
      },
      "text/plain": [
       "Epoch 21/100:   0%|          | 0/28 [00:00<?, ?it/s]"
      ]
     },
     "metadata": {},
     "output_type": "display_data"
    },
    {
     "name": "stdout",
     "output_type": "stream",
     "text": [
      "\n",
      "Epoch 21/100, Average Loss: 1.5082\n",
      "\n",
      "Evaluating model...\n"
     ]
    },
    {
     "data": {
      "application/vnd.jupyter.widget-view+json": {
       "model_id": "e0762ccc6b3f4ab1a7a377f13ac34cb0",
       "version_major": 2,
       "version_minor": 0
      },
      "text/plain": [
       "Encoding Products:   0%|          | 0/7 [00:00<?, ?it/s]"
      ]
     },
     "metadata": {},
     "output_type": "display_data"
    },
    {
     "data": {
      "application/vnd.jupyter.widget-view+json": {
       "model_id": "3483b05223754a2e968a95d4438b2158",
       "version_major": 2,
       "version_minor": 0
      },
      "text/plain": [
       "Evaluating Queries:   0%|          | 0/7 [00:00<?, ?it/s]"
      ]
     },
     "metadata": {},
     "output_type": "display_data"
    },
    {
     "name": "stdout",
     "output_type": "stream",
     "text": [
      "Evaluation Metrics:\n",
      "Hits@10: 0.3214\n",
      "MRR: 0.1016\n"
     ]
    },
    {
     "data": {
      "application/vnd.jupyter.widget-view+json": {
       "model_id": "",
       "version_major": 2,
       "version_minor": 0
      },
      "text/plain": [
       "Epoch 22/100:   0%|          | 0/28 [00:00<?, ?it/s]"
      ]
     },
     "metadata": {},
     "output_type": "display_data"
    },
    {
     "name": "stdout",
     "output_type": "stream",
     "text": [
      "\n",
      "Epoch 22/100, Average Loss: 1.3847\n",
      "\n",
      "Evaluating model...\n"
     ]
    },
    {
     "data": {
      "application/vnd.jupyter.widget-view+json": {
       "model_id": "43b438df974540489e86e2a0f8713bf0",
       "version_major": 2,
       "version_minor": 0
      },
      "text/plain": [
       "Encoding Products:   0%|          | 0/7 [00:00<?, ?it/s]"
      ]
     },
     "metadata": {},
     "output_type": "display_data"
    },
    {
     "data": {
      "application/vnd.jupyter.widget-view+json": {
       "model_id": "5984b9d8aeca4ce389c126ce85f733fa",
       "version_major": 2,
       "version_minor": 0
      },
      "text/plain": [
       "Evaluating Queries:   0%|          | 0/7 [00:00<?, ?it/s]"
      ]
     },
     "metadata": {},
     "output_type": "display_data"
    },
    {
     "name": "stdout",
     "output_type": "stream",
     "text": [
      "Evaluation Metrics:\n",
      "Hits@10: 0.3393\n",
      "MRR: 0.0912\n"
     ]
    },
    {
     "data": {
      "application/vnd.jupyter.widget-view+json": {
       "model_id": "",
       "version_major": 2,
       "version_minor": 0
      },
      "text/plain": [
       "Epoch 23/100:   0%|          | 0/28 [00:00<?, ?it/s]"
      ]
     },
     "metadata": {},
     "output_type": "display_data"
    },
    {
     "name": "stdout",
     "output_type": "stream",
     "text": [
      "\n",
      "Epoch 23/100, Average Loss: 1.3631\n",
      "\n",
      "Evaluating model...\n"
     ]
    },
    {
     "data": {
      "application/vnd.jupyter.widget-view+json": {
       "model_id": "ba824fdffa654a4a832d2df530a4d3b4",
       "version_major": 2,
       "version_minor": 0
      },
      "text/plain": [
       "Encoding Products:   0%|          | 0/7 [00:00<?, ?it/s]"
      ]
     },
     "metadata": {},
     "output_type": "display_data"
    },
    {
     "data": {
      "application/vnd.jupyter.widget-view+json": {
       "model_id": "3e19d2857f6c44819c947b3120473f9c",
       "version_major": 2,
       "version_minor": 0
      },
      "text/plain": [
       "Evaluating Queries:   0%|          | 0/7 [00:00<?, ?it/s]"
      ]
     },
     "metadata": {},
     "output_type": "display_data"
    },
    {
     "name": "stdout",
     "output_type": "stream",
     "text": [
      "Evaluation Metrics:\n",
      "Hits@10: 0.3036\n",
      "MRR: 0.0972\n"
     ]
    },
    {
     "data": {
      "application/vnd.jupyter.widget-view+json": {
       "model_id": "",
       "version_major": 2,
       "version_minor": 0
      },
      "text/plain": [
       "Epoch 24/100:   0%|          | 0/28 [00:00<?, ?it/s]"
      ]
     },
     "metadata": {},
     "output_type": "display_data"
    },
    {
     "name": "stdout",
     "output_type": "stream",
     "text": [
      "\n",
      "Epoch 24/100, Average Loss: 1.3857\n",
      "\n",
      "Evaluating model...\n"
     ]
    },
    {
     "data": {
      "application/vnd.jupyter.widget-view+json": {
       "model_id": "a62f8715bf234588b2839f4f2ee82553",
       "version_major": 2,
       "version_minor": 0
      },
      "text/plain": [
       "Encoding Products:   0%|          | 0/7 [00:00<?, ?it/s]"
      ]
     },
     "metadata": {},
     "output_type": "display_data"
    },
    {
     "data": {
      "application/vnd.jupyter.widget-view+json": {
       "model_id": "f746428ccb614518b3481bae841ab0c3",
       "version_major": 2,
       "version_minor": 0
      },
      "text/plain": [
       "Evaluating Queries:   0%|          | 0/7 [00:00<?, ?it/s]"
      ]
     },
     "metadata": {},
     "output_type": "display_data"
    },
    {
     "name": "stdout",
     "output_type": "stream",
     "text": [
      "Evaluation Metrics:\n",
      "Hits@10: 0.2857\n",
      "MRR: 0.1040\n"
     ]
    },
    {
     "data": {
      "application/vnd.jupyter.widget-view+json": {
       "model_id": "",
       "version_major": 2,
       "version_minor": 0
      },
      "text/plain": [
       "Epoch 25/100:   0%|          | 0/28 [00:00<?, ?it/s]"
      ]
     },
     "metadata": {},
     "output_type": "display_data"
    },
    {
     "name": "stdout",
     "output_type": "stream",
     "text": [
      "\n",
      "Epoch 25/100, Average Loss: 1.3435\n",
      "\n",
      "Evaluating model...\n"
     ]
    },
    {
     "data": {
      "application/vnd.jupyter.widget-view+json": {
       "model_id": "318fae69515a46e3af2b5cf0b5c1af00",
       "version_major": 2,
       "version_minor": 0
      },
      "text/plain": [
       "Encoding Products:   0%|          | 0/7 [00:00<?, ?it/s]"
      ]
     },
     "metadata": {},
     "output_type": "display_data"
    },
    {
     "data": {
      "application/vnd.jupyter.widget-view+json": {
       "model_id": "397d0753afeb4fb7ac05717be5655574",
       "version_major": 2,
       "version_minor": 0
      },
      "text/plain": [
       "Evaluating Queries:   0%|          | 0/7 [00:00<?, ?it/s]"
      ]
     },
     "metadata": {},
     "output_type": "display_data"
    },
    {
     "name": "stdout",
     "output_type": "stream",
     "text": [
      "Evaluation Metrics:\n",
      "Hits@10: 0.3036\n",
      "MRR: 0.1496\n"
     ]
    },
    {
     "data": {
      "application/vnd.jupyter.widget-view+json": {
       "model_id": "",
       "version_major": 2,
       "version_minor": 0
      },
      "text/plain": [
       "Epoch 26/100:   0%|          | 0/28 [00:00<?, ?it/s]"
      ]
     },
     "metadata": {},
     "output_type": "display_data"
    },
    {
     "name": "stdout",
     "output_type": "stream",
     "text": [
      "\n",
      "Epoch 26/100, Average Loss: 1.3072\n",
      "\n",
      "Evaluating model...\n"
     ]
    },
    {
     "data": {
      "application/vnd.jupyter.widget-view+json": {
       "model_id": "3ca7b1b836fd41d69071b8b7a22cb917",
       "version_major": 2,
       "version_minor": 0
      },
      "text/plain": [
       "Encoding Products:   0%|          | 0/7 [00:00<?, ?it/s]"
      ]
     },
     "metadata": {},
     "output_type": "display_data"
    },
    {
     "data": {
      "application/vnd.jupyter.widget-view+json": {
       "model_id": "4051895ef9854108a9224a2f477b81e0",
       "version_major": 2,
       "version_minor": 0
      },
      "text/plain": [
       "Evaluating Queries:   0%|          | 0/7 [00:00<?, ?it/s]"
      ]
     },
     "metadata": {},
     "output_type": "display_data"
    },
    {
     "name": "stdout",
     "output_type": "stream",
     "text": [
      "Evaluation Metrics:\n",
      "Hits@10: 0.3571\n",
      "MRR: 0.1120\n"
     ]
    },
    {
     "data": {
      "application/vnd.jupyter.widget-view+json": {
       "model_id": "",
       "version_major": 2,
       "version_minor": 0
      },
      "text/plain": [
       "Epoch 27/100:   0%|          | 0/28 [00:00<?, ?it/s]"
      ]
     },
     "metadata": {},
     "output_type": "display_data"
    },
    {
     "name": "stdout",
     "output_type": "stream",
     "text": [
      "\n",
      "Epoch 27/100, Average Loss: 1.2696\n",
      "\n",
      "Evaluating model...\n"
     ]
    },
    {
     "data": {
      "application/vnd.jupyter.widget-view+json": {
       "model_id": "2e8d6b4663a742909d068b9a38f88448",
       "version_major": 2,
       "version_minor": 0
      },
      "text/plain": [
       "Encoding Products:   0%|          | 0/7 [00:00<?, ?it/s]"
      ]
     },
     "metadata": {},
     "output_type": "display_data"
    },
    {
     "data": {
      "application/vnd.jupyter.widget-view+json": {
       "model_id": "b33f652a64e74a65a1299e52a0bb373f",
       "version_major": 2,
       "version_minor": 0
      },
      "text/plain": [
       "Evaluating Queries:   0%|          | 0/7 [00:00<?, ?it/s]"
      ]
     },
     "metadata": {},
     "output_type": "display_data"
    },
    {
     "name": "stdout",
     "output_type": "stream",
     "text": [
      "Evaluation Metrics:\n",
      "Hits@10: 0.3750\n",
      "MRR: 0.1299\n"
     ]
    },
    {
     "data": {
      "application/vnd.jupyter.widget-view+json": {
       "model_id": "",
       "version_major": 2,
       "version_minor": 0
      },
      "text/plain": [
       "Epoch 28/100:   0%|          | 0/28 [00:00<?, ?it/s]"
      ]
     },
     "metadata": {},
     "output_type": "display_data"
    },
    {
     "name": "stdout",
     "output_type": "stream",
     "text": [
      "\n",
      "Epoch 28/100, Average Loss: 1.1790\n",
      "\n",
      "Evaluating model...\n"
     ]
    },
    {
     "data": {
      "application/vnd.jupyter.widget-view+json": {
       "model_id": "471e2289d6074e62bccd623bdfd29ff4",
       "version_major": 2,
       "version_minor": 0
      },
      "text/plain": [
       "Encoding Products:   0%|          | 0/7 [00:00<?, ?it/s]"
      ]
     },
     "metadata": {},
     "output_type": "display_data"
    },
    {
     "data": {
      "application/vnd.jupyter.widget-view+json": {
       "model_id": "0aa98c8fbcc04007bda8bfb23dc2eb43",
       "version_major": 2,
       "version_minor": 0
      },
      "text/plain": [
       "Evaluating Queries:   0%|          | 0/7 [00:00<?, ?it/s]"
      ]
     },
     "metadata": {},
     "output_type": "display_data"
    },
    {
     "name": "stdout",
     "output_type": "stream",
     "text": [
      "Evaluation Metrics:\n",
      "Hits@10: 0.3393\n",
      "MRR: 0.1591\n"
     ]
    },
    {
     "data": {
      "application/vnd.jupyter.widget-view+json": {
       "model_id": "",
       "version_major": 2,
       "version_minor": 0
      },
      "text/plain": [
       "Epoch 29/100:   0%|          | 0/28 [00:00<?, ?it/s]"
      ]
     },
     "metadata": {},
     "output_type": "display_data"
    },
    {
     "name": "stdout",
     "output_type": "stream",
     "text": [
      "\n",
      "Epoch 29/100, Average Loss: 1.1732\n",
      "\n",
      "Evaluating model...\n"
     ]
    },
    {
     "data": {
      "application/vnd.jupyter.widget-view+json": {
       "model_id": "f4ab0e5a430047acb9c4baad65cf2d01",
       "version_major": 2,
       "version_minor": 0
      },
      "text/plain": [
       "Encoding Products:   0%|          | 0/7 [00:00<?, ?it/s]"
      ]
     },
     "metadata": {},
     "output_type": "display_data"
    },
    {
     "data": {
      "application/vnd.jupyter.widget-view+json": {
       "model_id": "ab6a8ce56f1d41f2be5dd250e16c55e1",
       "version_major": 2,
       "version_minor": 0
      },
      "text/plain": [
       "Evaluating Queries:   0%|          | 0/7 [00:00<?, ?it/s]"
      ]
     },
     "metadata": {},
     "output_type": "display_data"
    },
    {
     "name": "stdout",
     "output_type": "stream",
     "text": [
      "Evaluation Metrics:\n",
      "Hits@10: 0.2857\n",
      "MRR: 0.1130\n"
     ]
    },
    {
     "data": {
      "application/vnd.jupyter.widget-view+json": {
       "model_id": "",
       "version_major": 2,
       "version_minor": 0
      },
      "text/plain": [
       "Epoch 30/100:   0%|          | 0/28 [00:00<?, ?it/s]"
      ]
     },
     "metadata": {},
     "output_type": "display_data"
    },
    {
     "name": "stdout",
     "output_type": "stream",
     "text": [
      "\n",
      "Epoch 30/100, Average Loss: 1.1972\n",
      "\n",
      "Evaluating model...\n"
     ]
    },
    {
     "data": {
      "application/vnd.jupyter.widget-view+json": {
       "model_id": "ce138b21c32d40958d6ca22a6a24f670",
       "version_major": 2,
       "version_minor": 0
      },
      "text/plain": [
       "Encoding Products:   0%|          | 0/7 [00:00<?, ?it/s]"
      ]
     },
     "metadata": {},
     "output_type": "display_data"
    },
    {
     "data": {
      "application/vnd.jupyter.widget-view+json": {
       "model_id": "2ca25a5427db4beea69acb4ec4c17660",
       "version_major": 2,
       "version_minor": 0
      },
      "text/plain": [
       "Evaluating Queries:   0%|          | 0/7 [00:00<?, ?it/s]"
      ]
     },
     "metadata": {},
     "output_type": "display_data"
    },
    {
     "name": "stdout",
     "output_type": "stream",
     "text": [
      "Evaluation Metrics:\n",
      "Hits@10: 0.3571\n",
      "MRR: 0.1424\n"
     ]
    },
    {
     "data": {
      "application/vnd.jupyter.widget-view+json": {
       "model_id": "",
       "version_major": 2,
       "version_minor": 0
      },
      "text/plain": [
       "Epoch 31/100:   0%|          | 0/28 [00:00<?, ?it/s]"
      ]
     },
     "metadata": {},
     "output_type": "display_data"
    },
    {
     "name": "stdout",
     "output_type": "stream",
     "text": [
      "\n",
      "Epoch 31/100, Average Loss: 1.2482\n",
      "\n",
      "Evaluating model...\n"
     ]
    },
    {
     "data": {
      "application/vnd.jupyter.widget-view+json": {
       "model_id": "4c0dbab46d8f47e9b6af2ce2dd876286",
       "version_major": 2,
       "version_minor": 0
      },
      "text/plain": [
       "Encoding Products:   0%|          | 0/7 [00:00<?, ?it/s]"
      ]
     },
     "metadata": {},
     "output_type": "display_data"
    },
    {
     "data": {
      "application/vnd.jupyter.widget-view+json": {
       "model_id": "a4f034afd3f940219afdcf4796d939de",
       "version_major": 2,
       "version_minor": 0
      },
      "text/plain": [
       "Evaluating Queries:   0%|          | 0/7 [00:00<?, ?it/s]"
      ]
     },
     "metadata": {},
     "output_type": "display_data"
    },
    {
     "name": "stdout",
     "output_type": "stream",
     "text": [
      "Evaluation Metrics:\n",
      "Hits@10: 0.3929\n",
      "MRR: 0.1275\n"
     ]
    },
    {
     "data": {
      "application/vnd.jupyter.widget-view+json": {
       "model_id": "",
       "version_major": 2,
       "version_minor": 0
      },
      "text/plain": [
       "Epoch 32/100:   0%|          | 0/28 [00:00<?, ?it/s]"
      ]
     },
     "metadata": {},
     "output_type": "display_data"
    },
    {
     "name": "stdout",
     "output_type": "stream",
     "text": [
      "\n",
      "Epoch 32/100, Average Loss: 1.1675\n",
      "\n",
      "Evaluating model...\n"
     ]
    },
    {
     "data": {
      "application/vnd.jupyter.widget-view+json": {
       "model_id": "6dd43345da4d457581f448d7b5ffe794",
       "version_major": 2,
       "version_minor": 0
      },
      "text/plain": [
       "Encoding Products:   0%|          | 0/7 [00:00<?, ?it/s]"
      ]
     },
     "metadata": {},
     "output_type": "display_data"
    },
    {
     "data": {
      "application/vnd.jupyter.widget-view+json": {
       "model_id": "78f5061f749a4daeb872843a24cfe664",
       "version_major": 2,
       "version_minor": 0
      },
      "text/plain": [
       "Evaluating Queries:   0%|          | 0/7 [00:00<?, ?it/s]"
      ]
     },
     "metadata": {},
     "output_type": "display_data"
    },
    {
     "name": "stdout",
     "output_type": "stream",
     "text": [
      "Evaluation Metrics:\n",
      "Hits@10: 0.3393\n",
      "MRR: 0.1202\n"
     ]
    },
    {
     "data": {
      "application/vnd.jupyter.widget-view+json": {
       "model_id": "",
       "version_major": 2,
       "version_minor": 0
      },
      "text/plain": [
       "Epoch 33/100:   0%|          | 0/28 [00:00<?, ?it/s]"
      ]
     },
     "metadata": {},
     "output_type": "display_data"
    },
    {
     "name": "stdout",
     "output_type": "stream",
     "text": [
      "\n",
      "Epoch 33/100, Average Loss: 1.1152\n",
      "\n",
      "Evaluating model...\n"
     ]
    },
    {
     "data": {
      "application/vnd.jupyter.widget-view+json": {
       "model_id": "4f333583ebc84632b1d8726dc8836dc9",
       "version_major": 2,
       "version_minor": 0
      },
      "text/plain": [
       "Encoding Products:   0%|          | 0/7 [00:00<?, ?it/s]"
      ]
     },
     "metadata": {},
     "output_type": "display_data"
    },
    {
     "data": {
      "application/vnd.jupyter.widget-view+json": {
       "model_id": "99ee7e4fc61041b69939cf984656ea1f",
       "version_major": 2,
       "version_minor": 0
      },
      "text/plain": [
       "Evaluating Queries:   0%|          | 0/7 [00:00<?, ?it/s]"
      ]
     },
     "metadata": {},
     "output_type": "display_data"
    },
    {
     "name": "stdout",
     "output_type": "stream",
     "text": [
      "Evaluation Metrics:\n",
      "Hits@10: 0.3571\n",
      "MRR: 0.1675\n"
     ]
    },
    {
     "data": {
      "application/vnd.jupyter.widget-view+json": {
       "model_id": "",
       "version_major": 2,
       "version_minor": 0
      },
      "text/plain": [
       "Epoch 34/100:   0%|          | 0/28 [00:00<?, ?it/s]"
      ]
     },
     "metadata": {},
     "output_type": "display_data"
    },
    {
     "name": "stdout",
     "output_type": "stream",
     "text": [
      "\n",
      "Epoch 34/100, Average Loss: 1.1671\n",
      "\n",
      "Evaluating model...\n"
     ]
    },
    {
     "data": {
      "application/vnd.jupyter.widget-view+json": {
       "model_id": "70bf5892e634483da03a717299e33fd0",
       "version_major": 2,
       "version_minor": 0
      },
      "text/plain": [
       "Encoding Products:   0%|          | 0/7 [00:00<?, ?it/s]"
      ]
     },
     "metadata": {},
     "output_type": "display_data"
    },
    {
     "data": {
      "application/vnd.jupyter.widget-view+json": {
       "model_id": "0500bd927b4044cfb96aed78ed3fc06c",
       "version_major": 2,
       "version_minor": 0
      },
      "text/plain": [
       "Evaluating Queries:   0%|          | 0/7 [00:00<?, ?it/s]"
      ]
     },
     "metadata": {},
     "output_type": "display_data"
    },
    {
     "name": "stdout",
     "output_type": "stream",
     "text": [
      "Evaluation Metrics:\n",
      "Hits@10: 0.3393\n",
      "MRR: 0.1693\n"
     ]
    },
    {
     "data": {
      "application/vnd.jupyter.widget-view+json": {
       "model_id": "",
       "version_major": 2,
       "version_minor": 0
      },
      "text/plain": [
       "Epoch 35/100:   0%|          | 0/28 [00:00<?, ?it/s]"
      ]
     },
     "metadata": {},
     "output_type": "display_data"
    },
    {
     "name": "stdout",
     "output_type": "stream",
     "text": [
      "\n",
      "Epoch 35/100, Average Loss: 1.0631\n",
      "\n",
      "Evaluating model...\n"
     ]
    },
    {
     "data": {
      "application/vnd.jupyter.widget-view+json": {
       "model_id": "427523180a184e3b8c0fd2fd71fe9473",
       "version_major": 2,
       "version_minor": 0
      },
      "text/plain": [
       "Encoding Products:   0%|          | 0/7 [00:00<?, ?it/s]"
      ]
     },
     "metadata": {},
     "output_type": "display_data"
    },
    {
     "data": {
      "application/vnd.jupyter.widget-view+json": {
       "model_id": "916948410dc94ea9b1bf455434a01970",
       "version_major": 2,
       "version_minor": 0
      },
      "text/plain": [
       "Evaluating Queries:   0%|          | 0/7 [00:00<?, ?it/s]"
      ]
     },
     "metadata": {},
     "output_type": "display_data"
    },
    {
     "name": "stdout",
     "output_type": "stream",
     "text": [
      "Evaluation Metrics:\n",
      "Hits@10: 0.3036\n",
      "MRR: 0.0919\n"
     ]
    },
    {
     "data": {
      "application/vnd.jupyter.widget-view+json": {
       "model_id": "",
       "version_major": 2,
       "version_minor": 0
      },
      "text/plain": [
       "Epoch 36/100:   0%|          | 0/28 [00:00<?, ?it/s]"
      ]
     },
     "metadata": {},
     "output_type": "display_data"
    },
    {
     "name": "stdout",
     "output_type": "stream",
     "text": [
      "\n",
      "Epoch 36/100, Average Loss: 1.1101\n",
      "\n",
      "Evaluating model...\n"
     ]
    },
    {
     "data": {
      "application/vnd.jupyter.widget-view+json": {
       "model_id": "77645146657247ee87a8f796812fd837",
       "version_major": 2,
       "version_minor": 0
      },
      "text/plain": [
       "Encoding Products:   0%|          | 0/7 [00:00<?, ?it/s]"
      ]
     },
     "metadata": {},
     "output_type": "display_data"
    },
    {
     "data": {
      "application/vnd.jupyter.widget-view+json": {
       "model_id": "7a0ffd5c5bdf45b4bb2198b4a73b2db8",
       "version_major": 2,
       "version_minor": 0
      },
      "text/plain": [
       "Evaluating Queries:   0%|          | 0/7 [00:00<?, ?it/s]"
      ]
     },
     "metadata": {},
     "output_type": "display_data"
    },
    {
     "name": "stdout",
     "output_type": "stream",
     "text": [
      "Evaluation Metrics:\n",
      "Hits@10: 0.4107\n",
      "MRR: 0.1680\n"
     ]
    },
    {
     "data": {
      "application/vnd.jupyter.widget-view+json": {
       "model_id": "",
       "version_major": 2,
       "version_minor": 0
      },
      "text/plain": [
       "Epoch 37/100:   0%|          | 0/28 [00:00<?, ?it/s]"
      ]
     },
     "metadata": {},
     "output_type": "display_data"
    },
    {
     "name": "stdout",
     "output_type": "stream",
     "text": [
      "\n",
      "Epoch 37/100, Average Loss: 1.1125\n",
      "\n",
      "Evaluating model...\n"
     ]
    },
    {
     "data": {
      "application/vnd.jupyter.widget-view+json": {
       "model_id": "f9fd07824e524d74a8ca7b8feeae1226",
       "version_major": 2,
       "version_minor": 0
      },
      "text/plain": [
       "Encoding Products:   0%|          | 0/7 [00:00<?, ?it/s]"
      ]
     },
     "metadata": {},
     "output_type": "display_data"
    },
    {
     "data": {
      "application/vnd.jupyter.widget-view+json": {
       "model_id": "244609dea2a64241924b1b680715b21f",
       "version_major": 2,
       "version_minor": 0
      },
      "text/plain": [
       "Evaluating Queries:   0%|          | 0/7 [00:00<?, ?it/s]"
      ]
     },
     "metadata": {},
     "output_type": "display_data"
    },
    {
     "name": "stdout",
     "output_type": "stream",
     "text": [
      "Evaluation Metrics:\n",
      "Hits@10: 0.3750\n",
      "MRR: 0.1526\n"
     ]
    },
    {
     "data": {
      "application/vnd.jupyter.widget-view+json": {
       "model_id": "",
       "version_major": 2,
       "version_minor": 0
      },
      "text/plain": [
       "Epoch 38/100:   0%|          | 0/28 [00:00<?, ?it/s]"
      ]
     },
     "metadata": {},
     "output_type": "display_data"
    },
    {
     "name": "stdout",
     "output_type": "stream",
     "text": [
      "\n",
      "Epoch 38/100, Average Loss: 1.0298\n",
      "\n",
      "Evaluating model...\n"
     ]
    },
    {
     "data": {
      "application/vnd.jupyter.widget-view+json": {
       "model_id": "8553eb4b92704f0f828adae1e6b513dc",
       "version_major": 2,
       "version_minor": 0
      },
      "text/plain": [
       "Encoding Products:   0%|          | 0/7 [00:00<?, ?it/s]"
      ]
     },
     "metadata": {},
     "output_type": "display_data"
    },
    {
     "data": {
      "application/vnd.jupyter.widget-view+json": {
       "model_id": "9825e089fdf34f92915938b78742654e",
       "version_major": 2,
       "version_minor": 0
      },
      "text/plain": [
       "Evaluating Queries:   0%|          | 0/7 [00:00<?, ?it/s]"
      ]
     },
     "metadata": {},
     "output_type": "display_data"
    },
    {
     "name": "stdout",
     "output_type": "stream",
     "text": [
      "Evaluation Metrics:\n",
      "Hits@10: 0.2857\n",
      "MRR: 0.0981\n"
     ]
    },
    {
     "data": {
      "application/vnd.jupyter.widget-view+json": {
       "model_id": "",
       "version_major": 2,
       "version_minor": 0
      },
      "text/plain": [
       "Epoch 39/100:   0%|          | 0/28 [00:00<?, ?it/s]"
      ]
     },
     "metadata": {},
     "output_type": "display_data"
    },
    {
     "name": "stdout",
     "output_type": "stream",
     "text": [
      "\n",
      "Epoch 39/100, Average Loss: 1.0656\n",
      "\n",
      "Evaluating model...\n"
     ]
    },
    {
     "data": {
      "application/vnd.jupyter.widget-view+json": {
       "model_id": "23d485856d4f4709bf98198a2fa7968a",
       "version_major": 2,
       "version_minor": 0
      },
      "text/plain": [
       "Encoding Products:   0%|          | 0/7 [00:00<?, ?it/s]"
      ]
     },
     "metadata": {},
     "output_type": "display_data"
    },
    {
     "data": {
      "application/vnd.jupyter.widget-view+json": {
       "model_id": "efa58e66969c4afaae731942de009646",
       "version_major": 2,
       "version_minor": 0
      },
      "text/plain": [
       "Evaluating Queries:   0%|          | 0/7 [00:00<?, ?it/s]"
      ]
     },
     "metadata": {},
     "output_type": "display_data"
    },
    {
     "name": "stdout",
     "output_type": "stream",
     "text": [
      "Evaluation Metrics:\n",
      "Hits@10: 0.3214\n",
      "MRR: 0.1746\n"
     ]
    },
    {
     "data": {
      "application/vnd.jupyter.widget-view+json": {
       "model_id": "",
       "version_major": 2,
       "version_minor": 0
      },
      "text/plain": [
       "Epoch 40/100:   0%|          | 0/28 [00:00<?, ?it/s]"
      ]
     },
     "metadata": {},
     "output_type": "display_data"
    },
    {
     "name": "stdout",
     "output_type": "stream",
     "text": [
      "\n",
      "Epoch 40/100, Average Loss: 0.9736\n",
      "\n",
      "Evaluating model...\n"
     ]
    },
    {
     "data": {
      "application/vnd.jupyter.widget-view+json": {
       "model_id": "23bf058923774344aa009233b259efed",
       "version_major": 2,
       "version_minor": 0
      },
      "text/plain": [
       "Encoding Products:   0%|          | 0/7 [00:00<?, ?it/s]"
      ]
     },
     "metadata": {},
     "output_type": "display_data"
    },
    {
     "data": {
      "application/vnd.jupyter.widget-view+json": {
       "model_id": "220d9a21f2ee48fea3ea4512fce50774",
       "version_major": 2,
       "version_minor": 0
      },
      "text/plain": [
       "Evaluating Queries:   0%|          | 0/7 [00:00<?, ?it/s]"
      ]
     },
     "metadata": {},
     "output_type": "display_data"
    },
    {
     "name": "stdout",
     "output_type": "stream",
     "text": [
      "Evaluation Metrics:\n",
      "Hits@10: 0.4643\n",
      "MRR: 0.1905\n"
     ]
    },
    {
     "data": {
      "application/vnd.jupyter.widget-view+json": {
       "model_id": "",
       "version_major": 2,
       "version_minor": 0
      },
      "text/plain": [
       "Epoch 41/100:   0%|          | 0/28 [00:00<?, ?it/s]"
      ]
     },
     "metadata": {},
     "output_type": "display_data"
    },
    {
     "name": "stdout",
     "output_type": "stream",
     "text": [
      "\n",
      "Epoch 41/100, Average Loss: 0.9923\n",
      "\n",
      "Evaluating model...\n"
     ]
    },
    {
     "data": {
      "application/vnd.jupyter.widget-view+json": {
       "model_id": "2672aad67aa044f591f3a91130dfcc71",
       "version_major": 2,
       "version_minor": 0
      },
      "text/plain": [
       "Encoding Products:   0%|          | 0/7 [00:00<?, ?it/s]"
      ]
     },
     "metadata": {},
     "output_type": "display_data"
    },
    {
     "data": {
      "application/vnd.jupyter.widget-view+json": {
       "model_id": "230d6c11e2484bca91383b7fb966b55f",
       "version_major": 2,
       "version_minor": 0
      },
      "text/plain": [
       "Evaluating Queries:   0%|          | 0/7 [00:00<?, ?it/s]"
      ]
     },
     "metadata": {},
     "output_type": "display_data"
    },
    {
     "name": "stdout",
     "output_type": "stream",
     "text": [
      "Evaluation Metrics:\n",
      "Hits@10: 0.3036\n",
      "MRR: 0.1334\n"
     ]
    },
    {
     "data": {
      "application/vnd.jupyter.widget-view+json": {
       "model_id": "",
       "version_major": 2,
       "version_minor": 0
      },
      "text/plain": [
       "Epoch 42/100:   0%|          | 0/28 [00:00<?, ?it/s]"
      ]
     },
     "metadata": {},
     "output_type": "display_data"
    },
    {
     "name": "stdout",
     "output_type": "stream",
     "text": [
      "\n",
      "Epoch 42/100, Average Loss: 0.9240\n",
      "\n",
      "Evaluating model...\n"
     ]
    },
    {
     "data": {
      "application/vnd.jupyter.widget-view+json": {
       "model_id": "dce4928a396f49d2b9031d3a4844b247",
       "version_major": 2,
       "version_minor": 0
      },
      "text/plain": [
       "Encoding Products:   0%|          | 0/7 [00:00<?, ?it/s]"
      ]
     },
     "metadata": {},
     "output_type": "display_data"
    },
    {
     "data": {
      "application/vnd.jupyter.widget-view+json": {
       "model_id": "d6033645058e41938ede3f5fc22f0e6c",
       "version_major": 2,
       "version_minor": 0
      },
      "text/plain": [
       "Evaluating Queries:   0%|          | 0/7 [00:00<?, ?it/s]"
      ]
     },
     "metadata": {},
     "output_type": "display_data"
    },
    {
     "name": "stdout",
     "output_type": "stream",
     "text": [
      "Evaluation Metrics:\n",
      "Hits@10: 0.4107\n",
      "MRR: 0.1402\n"
     ]
    },
    {
     "data": {
      "application/vnd.jupyter.widget-view+json": {
       "model_id": "",
       "version_major": 2,
       "version_minor": 0
      },
      "text/plain": [
       "Epoch 43/100:   0%|          | 0/28 [00:00<?, ?it/s]"
      ]
     },
     "metadata": {},
     "output_type": "display_data"
    },
    {
     "name": "stdout",
     "output_type": "stream",
     "text": [
      "\n",
      "Epoch 43/100, Average Loss: 0.9925\n",
      "\n",
      "Evaluating model...\n"
     ]
    },
    {
     "data": {
      "application/vnd.jupyter.widget-view+json": {
       "model_id": "e2490e1a95a24f7e9bde77b6932ecbff",
       "version_major": 2,
       "version_minor": 0
      },
      "text/plain": [
       "Encoding Products:   0%|          | 0/7 [00:00<?, ?it/s]"
      ]
     },
     "metadata": {},
     "output_type": "display_data"
    },
    {
     "data": {
      "application/vnd.jupyter.widget-view+json": {
       "model_id": "ff396c13e58f437bb4692d885e929205",
       "version_major": 2,
       "version_minor": 0
      },
      "text/plain": [
       "Evaluating Queries:   0%|          | 0/7 [00:00<?, ?it/s]"
      ]
     },
     "metadata": {},
     "output_type": "display_data"
    },
    {
     "name": "stdout",
     "output_type": "stream",
     "text": [
      "Evaluation Metrics:\n",
      "Hits@10: 0.3393\n",
      "MRR: 0.1098\n"
     ]
    },
    {
     "data": {
      "application/vnd.jupyter.widget-view+json": {
       "model_id": "",
       "version_major": 2,
       "version_minor": 0
      },
      "text/plain": [
       "Epoch 44/100:   0%|          | 0/28 [00:00<?, ?it/s]"
      ]
     },
     "metadata": {},
     "output_type": "display_data"
    },
    {
     "name": "stdout",
     "output_type": "stream",
     "text": [
      "\n",
      "Epoch 44/100, Average Loss: 1.0052\n",
      "\n",
      "Evaluating model...\n"
     ]
    },
    {
     "data": {
      "application/vnd.jupyter.widget-view+json": {
       "model_id": "8636f49536b14ae5bd96d64d5e153bcb",
       "version_major": 2,
       "version_minor": 0
      },
      "text/plain": [
       "Encoding Products:   0%|          | 0/7 [00:00<?, ?it/s]"
      ]
     },
     "metadata": {},
     "output_type": "display_data"
    },
    {
     "data": {
      "application/vnd.jupyter.widget-view+json": {
       "model_id": "93a66dae37c1487189536d917d9584e8",
       "version_major": 2,
       "version_minor": 0
      },
      "text/plain": [
       "Evaluating Queries:   0%|          | 0/7 [00:00<?, ?it/s]"
      ]
     },
     "metadata": {},
     "output_type": "display_data"
    },
    {
     "name": "stdout",
     "output_type": "stream",
     "text": [
      "Evaluation Metrics:\n",
      "Hits@10: 0.4107\n",
      "MRR: 0.1825\n"
     ]
    },
    {
     "data": {
      "application/vnd.jupyter.widget-view+json": {
       "model_id": "",
       "version_major": 2,
       "version_minor": 0
      },
      "text/plain": [
       "Epoch 45/100:   0%|          | 0/28 [00:00<?, ?it/s]"
      ]
     },
     "metadata": {},
     "output_type": "display_data"
    },
    {
     "name": "stdout",
     "output_type": "stream",
     "text": [
      "\n",
      "Epoch 45/100, Average Loss: 0.9065\n",
      "\n",
      "Evaluating model...\n"
     ]
    },
    {
     "data": {
      "application/vnd.jupyter.widget-view+json": {
       "model_id": "028066dfaee544448158a14426afb5cf",
       "version_major": 2,
       "version_minor": 0
      },
      "text/plain": [
       "Encoding Products:   0%|          | 0/7 [00:00<?, ?it/s]"
      ]
     },
     "metadata": {},
     "output_type": "display_data"
    },
    {
     "data": {
      "application/vnd.jupyter.widget-view+json": {
       "model_id": "61018585a1f94da390db14d3a58ee070",
       "version_major": 2,
       "version_minor": 0
      },
      "text/plain": [
       "Evaluating Queries:   0%|          | 0/7 [00:00<?, ?it/s]"
      ]
     },
     "metadata": {},
     "output_type": "display_data"
    },
    {
     "name": "stdout",
     "output_type": "stream",
     "text": [
      "Evaluation Metrics:\n",
      "Hits@10: 0.4286\n",
      "MRR: 0.1691\n"
     ]
    },
    {
     "data": {
      "application/vnd.jupyter.widget-view+json": {
       "model_id": "",
       "version_major": 2,
       "version_minor": 0
      },
      "text/plain": [
       "Epoch 46/100:   0%|          | 0/28 [00:00<?, ?it/s]"
      ]
     },
     "metadata": {},
     "output_type": "display_data"
    },
    {
     "name": "stdout",
     "output_type": "stream",
     "text": [
      "\n",
      "Epoch 46/100, Average Loss: 1.0003\n",
      "\n",
      "Evaluating model...\n"
     ]
    },
    {
     "data": {
      "application/vnd.jupyter.widget-view+json": {
       "model_id": "dceffd71c58e40deb985465382227f48",
       "version_major": 2,
       "version_minor": 0
      },
      "text/plain": [
       "Encoding Products:   0%|          | 0/7 [00:00<?, ?it/s]"
      ]
     },
     "metadata": {},
     "output_type": "display_data"
    },
    {
     "data": {
      "application/vnd.jupyter.widget-view+json": {
       "model_id": "3114de9a43e144f38c4f84d593af190b",
       "version_major": 2,
       "version_minor": 0
      },
      "text/plain": [
       "Evaluating Queries:   0%|          | 0/7 [00:00<?, ?it/s]"
      ]
     },
     "metadata": {},
     "output_type": "display_data"
    },
    {
     "name": "stdout",
     "output_type": "stream",
     "text": [
      "Evaluation Metrics:\n",
      "Hits@10: 0.5000\n",
      "MRR: 0.2167\n"
     ]
    },
    {
     "data": {
      "application/vnd.jupyter.widget-view+json": {
       "model_id": "",
       "version_major": 2,
       "version_minor": 0
      },
      "text/plain": [
       "Epoch 47/100:   0%|          | 0/28 [00:00<?, ?it/s]"
      ]
     },
     "metadata": {},
     "output_type": "display_data"
    },
    {
     "name": "stdout",
     "output_type": "stream",
     "text": [
      "\n",
      "Epoch 47/100, Average Loss: 0.9603\n",
      "\n",
      "Evaluating model...\n"
     ]
    },
    {
     "data": {
      "application/vnd.jupyter.widget-view+json": {
       "model_id": "bdd7a93172184f17b6a74462e388677b",
       "version_major": 2,
       "version_minor": 0
      },
      "text/plain": [
       "Encoding Products:   0%|          | 0/7 [00:00<?, ?it/s]"
      ]
     },
     "metadata": {},
     "output_type": "display_data"
    },
    {
     "data": {
      "application/vnd.jupyter.widget-view+json": {
       "model_id": "31957fb577694e4eb503ff2109796ecd",
       "version_major": 2,
       "version_minor": 0
      },
      "text/plain": [
       "Evaluating Queries:   0%|          | 0/7 [00:00<?, ?it/s]"
      ]
     },
     "metadata": {},
     "output_type": "display_data"
    },
    {
     "name": "stdout",
     "output_type": "stream",
     "text": [
      "Evaluation Metrics:\n",
      "Hits@10: 0.4107\n",
      "MRR: 0.1726\n"
     ]
    },
    {
     "data": {
      "application/vnd.jupyter.widget-view+json": {
       "model_id": "",
       "version_major": 2,
       "version_minor": 0
      },
      "text/plain": [
       "Epoch 48/100:   0%|          | 0/28 [00:00<?, ?it/s]"
      ]
     },
     "metadata": {},
     "output_type": "display_data"
    },
    {
     "name": "stdout",
     "output_type": "stream",
     "text": [
      "\n",
      "Epoch 48/100, Average Loss: 0.9045\n",
      "\n",
      "Evaluating model...\n"
     ]
    },
    {
     "data": {
      "application/vnd.jupyter.widget-view+json": {
       "model_id": "ae6e6a97f597434c98073a75c12e7bc2",
       "version_major": 2,
       "version_minor": 0
      },
      "text/plain": [
       "Encoding Products:   0%|          | 0/7 [00:00<?, ?it/s]"
      ]
     },
     "metadata": {},
     "output_type": "display_data"
    },
    {
     "data": {
      "application/vnd.jupyter.widget-view+json": {
       "model_id": "a3629c0bff5e43028c893f5275605fcc",
       "version_major": 2,
       "version_minor": 0
      },
      "text/plain": [
       "Evaluating Queries:   0%|          | 0/7 [00:00<?, ?it/s]"
      ]
     },
     "metadata": {},
     "output_type": "display_data"
    },
    {
     "name": "stdout",
     "output_type": "stream",
     "text": [
      "Evaluation Metrics:\n",
      "Hits@10: 0.4286\n",
      "MRR: 0.1405\n"
     ]
    },
    {
     "data": {
      "application/vnd.jupyter.widget-view+json": {
       "model_id": "",
       "version_major": 2,
       "version_minor": 0
      },
      "text/plain": [
       "Epoch 49/100:   0%|          | 0/28 [00:00<?, ?it/s]"
      ]
     },
     "metadata": {},
     "output_type": "display_data"
    },
    {
     "name": "stdout",
     "output_type": "stream",
     "text": [
      "\n",
      "Epoch 49/100, Average Loss: 0.9094\n",
      "\n",
      "Evaluating model...\n"
     ]
    },
    {
     "data": {
      "application/vnd.jupyter.widget-view+json": {
       "model_id": "9be2a3be4f9b4110a0da3677fb9913b3",
       "version_major": 2,
       "version_minor": 0
      },
      "text/plain": [
       "Encoding Products:   0%|          | 0/7 [00:00<?, ?it/s]"
      ]
     },
     "metadata": {},
     "output_type": "display_data"
    },
    {
     "data": {
      "application/vnd.jupyter.widget-view+json": {
       "model_id": "98f2eb01416f42368a101e0f0f1af7b5",
       "version_major": 2,
       "version_minor": 0
      },
      "text/plain": [
       "Evaluating Queries:   0%|          | 0/7 [00:00<?, ?it/s]"
      ]
     },
     "metadata": {},
     "output_type": "display_data"
    },
    {
     "name": "stdout",
     "output_type": "stream",
     "text": [
      "Evaluation Metrics:\n",
      "Hits@10: 0.4643\n",
      "MRR: 0.1967\n"
     ]
    },
    {
     "data": {
      "application/vnd.jupyter.widget-view+json": {
       "model_id": "",
       "version_major": 2,
       "version_minor": 0
      },
      "text/plain": [
       "Epoch 50/100:   0%|          | 0/28 [00:00<?, ?it/s]"
      ]
     },
     "metadata": {},
     "output_type": "display_data"
    },
    {
     "name": "stdout",
     "output_type": "stream",
     "text": [
      "\n",
      "Epoch 50/100, Average Loss: 0.8912\n",
      "\n",
      "Evaluating model...\n"
     ]
    },
    {
     "data": {
      "application/vnd.jupyter.widget-view+json": {
       "model_id": "d2e3bc58901f453a94445485c835b27f",
       "version_major": 2,
       "version_minor": 0
      },
      "text/plain": [
       "Encoding Products:   0%|          | 0/7 [00:00<?, ?it/s]"
      ]
     },
     "metadata": {},
     "output_type": "display_data"
    },
    {
     "data": {
      "application/vnd.jupyter.widget-view+json": {
       "model_id": "745e8c51795d4184ba78a6384a7bb313",
       "version_major": 2,
       "version_minor": 0
      },
      "text/plain": [
       "Evaluating Queries:   0%|          | 0/7 [00:00<?, ?it/s]"
      ]
     },
     "metadata": {},
     "output_type": "display_data"
    },
    {
     "name": "stdout",
     "output_type": "stream",
     "text": [
      "Evaluation Metrics:\n",
      "Hits@10: 0.3750\n",
      "MRR: 0.1788\n"
     ]
    },
    {
     "data": {
      "application/vnd.jupyter.widget-view+json": {
       "model_id": "",
       "version_major": 2,
       "version_minor": 0
      },
      "text/plain": [
       "Epoch 51/100:   0%|          | 0/28 [00:00<?, ?it/s]"
      ]
     },
     "metadata": {},
     "output_type": "display_data"
    },
    {
     "name": "stdout",
     "output_type": "stream",
     "text": [
      "\n",
      "Epoch 51/100, Average Loss: 0.8536\n",
      "\n",
      "Evaluating model...\n"
     ]
    },
    {
     "data": {
      "application/vnd.jupyter.widget-view+json": {
       "model_id": "911ac88cf56b4b878f0b17bc7acce2d5",
       "version_major": 2,
       "version_minor": 0
      },
      "text/plain": [
       "Encoding Products:   0%|          | 0/7 [00:00<?, ?it/s]"
      ]
     },
     "metadata": {},
     "output_type": "display_data"
    },
    {
     "data": {
      "application/vnd.jupyter.widget-view+json": {
       "model_id": "31f8e39efc5f44959f4047a28fb99360",
       "version_major": 2,
       "version_minor": 0
      },
      "text/plain": [
       "Evaluating Queries:   0%|          | 0/7 [00:00<?, ?it/s]"
      ]
     },
     "metadata": {},
     "output_type": "display_data"
    },
    {
     "name": "stdout",
     "output_type": "stream",
     "text": [
      "Evaluation Metrics:\n",
      "Hits@10: 0.3393\n",
      "MRR: 0.1506\n"
     ]
    },
    {
     "data": {
      "application/vnd.jupyter.widget-view+json": {
       "model_id": "",
       "version_major": 2,
       "version_minor": 0
      },
      "text/plain": [
       "Epoch 52/100:   0%|          | 0/28 [00:00<?, ?it/s]"
      ]
     },
     "metadata": {},
     "output_type": "display_data"
    },
    {
     "name": "stdout",
     "output_type": "stream",
     "text": [
      "\n",
      "Epoch 52/100, Average Loss: 0.9072\n",
      "\n",
      "Evaluating model...\n"
     ]
    },
    {
     "data": {
      "application/vnd.jupyter.widget-view+json": {
       "model_id": "96f753d4dad14bdb88c91cc017d688e4",
       "version_major": 2,
       "version_minor": 0
      },
      "text/plain": [
       "Encoding Products:   0%|          | 0/7 [00:00<?, ?it/s]"
      ]
     },
     "metadata": {},
     "output_type": "display_data"
    },
    {
     "data": {
      "application/vnd.jupyter.widget-view+json": {
       "model_id": "cb66819d4d8845ad995f44095c0c26a9",
       "version_major": 2,
       "version_minor": 0
      },
      "text/plain": [
       "Evaluating Queries:   0%|          | 0/7 [00:00<?, ?it/s]"
      ]
     },
     "metadata": {},
     "output_type": "display_data"
    },
    {
     "name": "stdout",
     "output_type": "stream",
     "text": [
      "Evaluation Metrics:\n",
      "Hits@10: 0.3929\n",
      "MRR: 0.2240\n"
     ]
    },
    {
     "data": {
      "application/vnd.jupyter.widget-view+json": {
       "model_id": "",
       "version_major": 2,
       "version_minor": 0
      },
      "text/plain": [
       "Epoch 53/100:   0%|          | 0/28 [00:00<?, ?it/s]"
      ]
     },
     "metadata": {},
     "output_type": "display_data"
    },
    {
     "name": "stdout",
     "output_type": "stream",
     "text": [
      "\n",
      "Epoch 53/100, Average Loss: 0.8647\n",
      "\n",
      "Evaluating model...\n"
     ]
    },
    {
     "data": {
      "application/vnd.jupyter.widget-view+json": {
       "model_id": "9c404dbf3f7c42e092a04a3d1a57b8aa",
       "version_major": 2,
       "version_minor": 0
      },
      "text/plain": [
       "Encoding Products:   0%|          | 0/7 [00:00<?, ?it/s]"
      ]
     },
     "metadata": {},
     "output_type": "display_data"
    },
    {
     "data": {
      "application/vnd.jupyter.widget-view+json": {
       "model_id": "0fb69d482e244db48ca6e6bb7b44aa13",
       "version_major": 2,
       "version_minor": 0
      },
      "text/plain": [
       "Evaluating Queries:   0%|          | 0/7 [00:00<?, ?it/s]"
      ]
     },
     "metadata": {},
     "output_type": "display_data"
    },
    {
     "name": "stdout",
     "output_type": "stream",
     "text": [
      "Evaluation Metrics:\n",
      "Hits@10: 0.3571\n",
      "MRR: 0.1235\n"
     ]
    },
    {
     "data": {
      "application/vnd.jupyter.widget-view+json": {
       "model_id": "",
       "version_major": 2,
       "version_minor": 0
      },
      "text/plain": [
       "Epoch 54/100:   0%|          | 0/28 [00:00<?, ?it/s]"
      ]
     },
     "metadata": {},
     "output_type": "display_data"
    },
    {
     "name": "stdout",
     "output_type": "stream",
     "text": [
      "\n",
      "Epoch 54/100, Average Loss: 0.8587\n",
      "\n",
      "Evaluating model...\n"
     ]
    },
    {
     "data": {
      "application/vnd.jupyter.widget-view+json": {
       "model_id": "5c5eedd67e8d4a8c94b2fc75a67e603e",
       "version_major": 2,
       "version_minor": 0
      },
      "text/plain": [
       "Encoding Products:   0%|          | 0/7 [00:00<?, ?it/s]"
      ]
     },
     "metadata": {},
     "output_type": "display_data"
    },
    {
     "data": {
      "application/vnd.jupyter.widget-view+json": {
       "model_id": "34b9a61511094a2e98f9fae67717e032",
       "version_major": 2,
       "version_minor": 0
      },
      "text/plain": [
       "Evaluating Queries:   0%|          | 0/7 [00:00<?, ?it/s]"
      ]
     },
     "metadata": {},
     "output_type": "display_data"
    },
    {
     "name": "stdout",
     "output_type": "stream",
     "text": [
      "Evaluation Metrics:\n",
      "Hits@10: 0.3571\n",
      "MRR: 0.1566\n"
     ]
    },
    {
     "data": {
      "application/vnd.jupyter.widget-view+json": {
       "model_id": "",
       "version_major": 2,
       "version_minor": 0
      },
      "text/plain": [
       "Epoch 55/100:   0%|          | 0/28 [00:00<?, ?it/s]"
      ]
     },
     "metadata": {},
     "output_type": "display_data"
    },
    {
     "name": "stdout",
     "output_type": "stream",
     "text": [
      "\n",
      "Epoch 55/100, Average Loss: 0.8658\n",
      "\n",
      "Evaluating model...\n"
     ]
    },
    {
     "data": {
      "application/vnd.jupyter.widget-view+json": {
       "model_id": "b1b08f7543954efb9c82461dd4dabd4d",
       "version_major": 2,
       "version_minor": 0
      },
      "text/plain": [
       "Encoding Products:   0%|          | 0/7 [00:00<?, ?it/s]"
      ]
     },
     "metadata": {},
     "output_type": "display_data"
    },
    {
     "data": {
      "application/vnd.jupyter.widget-view+json": {
       "model_id": "07e00fb76629464dbaf0203d245e781d",
       "version_major": 2,
       "version_minor": 0
      },
      "text/plain": [
       "Evaluating Queries:   0%|          | 0/7 [00:00<?, ?it/s]"
      ]
     },
     "metadata": {},
     "output_type": "display_data"
    },
    {
     "name": "stdout",
     "output_type": "stream",
     "text": [
      "Evaluation Metrics:\n",
      "Hits@10: 0.4286\n",
      "MRR: 0.1861\n"
     ]
    },
    {
     "data": {
      "application/vnd.jupyter.widget-view+json": {
       "model_id": "",
       "version_major": 2,
       "version_minor": 0
      },
      "text/plain": [
       "Epoch 56/100:   0%|          | 0/28 [00:00<?, ?it/s]"
      ]
     },
     "metadata": {},
     "output_type": "display_data"
    },
    {
     "name": "stdout",
     "output_type": "stream",
     "text": [
      "\n",
      "Epoch 56/100, Average Loss: 0.8677\n",
      "\n",
      "Evaluating model...\n"
     ]
    },
    {
     "data": {
      "application/vnd.jupyter.widget-view+json": {
       "model_id": "f1ced1806dca4afbb241261abb79188a",
       "version_major": 2,
       "version_minor": 0
      },
      "text/plain": [
       "Encoding Products:   0%|          | 0/7 [00:00<?, ?it/s]"
      ]
     },
     "metadata": {},
     "output_type": "display_data"
    },
    {
     "data": {
      "application/vnd.jupyter.widget-view+json": {
       "model_id": "3286c495e8cd4d06a194bd439e260b26",
       "version_major": 2,
       "version_minor": 0
      },
      "text/plain": [
       "Evaluating Queries:   0%|          | 0/7 [00:00<?, ?it/s]"
      ]
     },
     "metadata": {},
     "output_type": "display_data"
    },
    {
     "name": "stdout",
     "output_type": "stream",
     "text": [
      "Evaluation Metrics:\n",
      "Hits@10: 0.4286\n",
      "MRR: 0.2025\n"
     ]
    },
    {
     "data": {
      "application/vnd.jupyter.widget-view+json": {
       "model_id": "",
       "version_major": 2,
       "version_minor": 0
      },
      "text/plain": [
       "Epoch 57/100:   0%|          | 0/28 [00:00<?, ?it/s]"
      ]
     },
     "metadata": {},
     "output_type": "display_data"
    },
    {
     "name": "stdout",
     "output_type": "stream",
     "text": [
      "\n",
      "Epoch 57/100, Average Loss: 0.8334\n",
      "\n",
      "Evaluating model...\n"
     ]
    },
    {
     "data": {
      "application/vnd.jupyter.widget-view+json": {
       "model_id": "b8b2ff42876243ac82e96733df7a1f3b",
       "version_major": 2,
       "version_minor": 0
      },
      "text/plain": [
       "Encoding Products:   0%|          | 0/7 [00:00<?, ?it/s]"
      ]
     },
     "metadata": {},
     "output_type": "display_data"
    },
    {
     "data": {
      "application/vnd.jupyter.widget-view+json": {
       "model_id": "40d149c980894dfcae496f3e51b77798",
       "version_major": 2,
       "version_minor": 0
      },
      "text/plain": [
       "Evaluating Queries:   0%|          | 0/7 [00:00<?, ?it/s]"
      ]
     },
     "metadata": {},
     "output_type": "display_data"
    },
    {
     "name": "stdout",
     "output_type": "stream",
     "text": [
      "Evaluation Metrics:\n",
      "Hits@10: 0.4286\n",
      "MRR: 0.1751\n"
     ]
    },
    {
     "data": {
      "application/vnd.jupyter.widget-view+json": {
       "model_id": "",
       "version_major": 2,
       "version_minor": 0
      },
      "text/plain": [
       "Epoch 58/100:   0%|          | 0/28 [00:00<?, ?it/s]"
      ]
     },
     "metadata": {},
     "output_type": "display_data"
    },
    {
     "name": "stdout",
     "output_type": "stream",
     "text": [
      "\n",
      "Epoch 58/100, Average Loss: 0.8381\n",
      "\n",
      "Evaluating model...\n"
     ]
    },
    {
     "data": {
      "application/vnd.jupyter.widget-view+json": {
       "model_id": "aa1cd52f19aa43abb188c46264a7c0bd",
       "version_major": 2,
       "version_minor": 0
      },
      "text/plain": [
       "Encoding Products:   0%|          | 0/7 [00:00<?, ?it/s]"
      ]
     },
     "metadata": {},
     "output_type": "display_data"
    },
    {
     "data": {
      "application/vnd.jupyter.widget-view+json": {
       "model_id": "43107f9218764a20aaf3a1eff1ed1421",
       "version_major": 2,
       "version_minor": 0
      },
      "text/plain": [
       "Evaluating Queries:   0%|          | 0/7 [00:00<?, ?it/s]"
      ]
     },
     "metadata": {},
     "output_type": "display_data"
    },
    {
     "name": "stdout",
     "output_type": "stream",
     "text": [
      "Evaluation Metrics:\n",
      "Hits@10: 0.4464\n",
      "MRR: 0.2006\n"
     ]
    },
    {
     "data": {
      "application/vnd.jupyter.widget-view+json": {
       "model_id": "",
       "version_major": 2,
       "version_minor": 0
      },
      "text/plain": [
       "Epoch 59/100:   0%|          | 0/28 [00:00<?, ?it/s]"
      ]
     },
     "metadata": {},
     "output_type": "display_data"
    },
    {
     "name": "stdout",
     "output_type": "stream",
     "text": [
      "\n",
      "Epoch 59/100, Average Loss: 0.8388\n",
      "\n",
      "Evaluating model...\n"
     ]
    },
    {
     "data": {
      "application/vnd.jupyter.widget-view+json": {
       "model_id": "e937bb42e10a49588346f45b7781911b",
       "version_major": 2,
       "version_minor": 0
      },
      "text/plain": [
       "Encoding Products:   0%|          | 0/7 [00:00<?, ?it/s]"
      ]
     },
     "metadata": {},
     "output_type": "display_data"
    },
    {
     "data": {
      "application/vnd.jupyter.widget-view+json": {
       "model_id": "cef8942c01c346be85e6fac90acb6d99",
       "version_major": 2,
       "version_minor": 0
      },
      "text/plain": [
       "Evaluating Queries:   0%|          | 0/7 [00:00<?, ?it/s]"
      ]
     },
     "metadata": {},
     "output_type": "display_data"
    },
    {
     "name": "stdout",
     "output_type": "stream",
     "text": [
      "Evaluation Metrics:\n",
      "Hits@10: 0.4107\n",
      "MRR: 0.1464\n"
     ]
    },
    {
     "data": {
      "application/vnd.jupyter.widget-view+json": {
       "model_id": "",
       "version_major": 2,
       "version_minor": 0
      },
      "text/plain": [
       "Epoch 60/100:   0%|          | 0/28 [00:00<?, ?it/s]"
      ]
     },
     "metadata": {},
     "output_type": "display_data"
    },
    {
     "name": "stdout",
     "output_type": "stream",
     "text": [
      "\n",
      "Epoch 60/100, Average Loss: 0.8276\n",
      "\n",
      "Evaluating model...\n"
     ]
    },
    {
     "data": {
      "application/vnd.jupyter.widget-view+json": {
       "model_id": "818920728c3b4d3ab103c8a830635345",
       "version_major": 2,
       "version_minor": 0
      },
      "text/plain": [
       "Encoding Products:   0%|          | 0/7 [00:00<?, ?it/s]"
      ]
     },
     "metadata": {},
     "output_type": "display_data"
    },
    {
     "data": {
      "application/vnd.jupyter.widget-view+json": {
       "model_id": "01381c2a34c54e6da88bfd73b9ab98bf",
       "version_major": 2,
       "version_minor": 0
      },
      "text/plain": [
       "Evaluating Queries:   0%|          | 0/7 [00:00<?, ?it/s]"
      ]
     },
     "metadata": {},
     "output_type": "display_data"
    },
    {
     "name": "stdout",
     "output_type": "stream",
     "text": [
      "Evaluation Metrics:\n",
      "Hits@10: 0.4286\n",
      "MRR: 0.1721\n"
     ]
    },
    {
     "data": {
      "application/vnd.jupyter.widget-view+json": {
       "model_id": "",
       "version_major": 2,
       "version_minor": 0
      },
      "text/plain": [
       "Epoch 61/100:   0%|          | 0/28 [00:00<?, ?it/s]"
      ]
     },
     "metadata": {},
     "output_type": "display_data"
    },
    {
     "name": "stdout",
     "output_type": "stream",
     "text": [
      "\n",
      "Epoch 61/100, Average Loss: 0.7938\n",
      "\n",
      "Evaluating model...\n"
     ]
    },
    {
     "data": {
      "application/vnd.jupyter.widget-view+json": {
       "model_id": "285315dfe01f4ecda45bed9be7c29bca",
       "version_major": 2,
       "version_minor": 0
      },
      "text/plain": [
       "Encoding Products:   0%|          | 0/7 [00:00<?, ?it/s]"
      ]
     },
     "metadata": {},
     "output_type": "display_data"
    },
    {
     "data": {
      "application/vnd.jupyter.widget-view+json": {
       "model_id": "9951cad642274187be2a96aaef6e02db",
       "version_major": 2,
       "version_minor": 0
      },
      "text/plain": [
       "Evaluating Queries:   0%|          | 0/7 [00:00<?, ?it/s]"
      ]
     },
     "metadata": {},
     "output_type": "display_data"
    },
    {
     "name": "stdout",
     "output_type": "stream",
     "text": [
      "Evaluation Metrics:\n",
      "Hits@10: 0.4107\n",
      "MRR: 0.1716\n"
     ]
    },
    {
     "data": {
      "application/vnd.jupyter.widget-view+json": {
       "model_id": "",
       "version_major": 2,
       "version_minor": 0
      },
      "text/plain": [
       "Epoch 62/100:   0%|          | 0/28 [00:00<?, ?it/s]"
      ]
     },
     "metadata": {},
     "output_type": "display_data"
    },
    {
     "name": "stdout",
     "output_type": "stream",
     "text": [
      "\n",
      "Epoch 62/100, Average Loss: 0.8739\n",
      "\n",
      "Evaluating model...\n"
     ]
    },
    {
     "data": {
      "application/vnd.jupyter.widget-view+json": {
       "model_id": "479232ae42774ff2a4eb744e998b5510",
       "version_major": 2,
       "version_minor": 0
      },
      "text/plain": [
       "Encoding Products:   0%|          | 0/7 [00:00<?, ?it/s]"
      ]
     },
     "metadata": {},
     "output_type": "display_data"
    },
    {
     "data": {
      "application/vnd.jupyter.widget-view+json": {
       "model_id": "8b04e3dd1e4f4d43af8bec6cd9cb08a9",
       "version_major": 2,
       "version_minor": 0
      },
      "text/plain": [
       "Evaluating Queries:   0%|          | 0/7 [00:00<?, ?it/s]"
      ]
     },
     "metadata": {},
     "output_type": "display_data"
    },
    {
     "name": "stdout",
     "output_type": "stream",
     "text": [
      "Evaluation Metrics:\n",
      "Hits@10: 0.3929\n",
      "MRR: 0.1719\n"
     ]
    },
    {
     "data": {
      "application/vnd.jupyter.widget-view+json": {
       "model_id": "",
       "version_major": 2,
       "version_minor": 0
      },
      "text/plain": [
       "Epoch 63/100:   0%|          | 0/28 [00:00<?, ?it/s]"
      ]
     },
     "metadata": {},
     "output_type": "display_data"
    },
    {
     "name": "stdout",
     "output_type": "stream",
     "text": [
      "\n",
      "Epoch 63/100, Average Loss: 0.8235\n",
      "\n",
      "Evaluating model...\n"
     ]
    },
    {
     "data": {
      "application/vnd.jupyter.widget-view+json": {
       "model_id": "d6428fc42e834e188fdb8a4208095703",
       "version_major": 2,
       "version_minor": 0
      },
      "text/plain": [
       "Encoding Products:   0%|          | 0/7 [00:00<?, ?it/s]"
      ]
     },
     "metadata": {},
     "output_type": "display_data"
    },
    {
     "data": {
      "application/vnd.jupyter.widget-view+json": {
       "model_id": "b0426edf12ec4420ad292c64514a5f65",
       "version_major": 2,
       "version_minor": 0
      },
      "text/plain": [
       "Evaluating Queries:   0%|          | 0/7 [00:00<?, ?it/s]"
      ]
     },
     "metadata": {},
     "output_type": "display_data"
    },
    {
     "name": "stdout",
     "output_type": "stream",
     "text": [
      "Evaluation Metrics:\n",
      "Hits@10: 0.4107\n",
      "MRR: 0.1741\n"
     ]
    },
    {
     "data": {
      "application/vnd.jupyter.widget-view+json": {
       "model_id": "",
       "version_major": 2,
       "version_minor": 0
      },
      "text/plain": [
       "Epoch 64/100:   0%|          | 0/28 [00:00<?, ?it/s]"
      ]
     },
     "metadata": {},
     "output_type": "display_data"
    },
    {
     "name": "stdout",
     "output_type": "stream",
     "text": [
      "\n",
      "Epoch 64/100, Average Loss: 0.8014\n",
      "\n",
      "Evaluating model...\n"
     ]
    },
    {
     "data": {
      "application/vnd.jupyter.widget-view+json": {
       "model_id": "d5424da2ac2642d695a1ccb37b2f7e25",
       "version_major": 2,
       "version_minor": 0
      },
      "text/plain": [
       "Encoding Products:   0%|          | 0/7 [00:00<?, ?it/s]"
      ]
     },
     "metadata": {},
     "output_type": "display_data"
    },
    {
     "data": {
      "application/vnd.jupyter.widget-view+json": {
       "model_id": "e4a81e61dfb1420fa808b299a3c859c5",
       "version_major": 2,
       "version_minor": 0
      },
      "text/plain": [
       "Evaluating Queries:   0%|          | 0/7 [00:00<?, ?it/s]"
      ]
     },
     "metadata": {},
     "output_type": "display_data"
    },
    {
     "name": "stdout",
     "output_type": "stream",
     "text": [
      "Evaluation Metrics:\n",
      "Hits@10: 0.3929\n",
      "MRR: 0.1285\n"
     ]
    },
    {
     "data": {
      "application/vnd.jupyter.widget-view+json": {
       "model_id": "",
       "version_major": 2,
       "version_minor": 0
      },
      "text/plain": [
       "Epoch 65/100:   0%|          | 0/28 [00:00<?, ?it/s]"
      ]
     },
     "metadata": {},
     "output_type": "display_data"
    },
    {
     "name": "stdout",
     "output_type": "stream",
     "text": [
      "\n",
      "Epoch 65/100, Average Loss: 0.8090\n",
      "\n",
      "Evaluating model...\n"
     ]
    },
    {
     "data": {
      "application/vnd.jupyter.widget-view+json": {
       "model_id": "cfb9454213bf48409ccc6e59dcaea872",
       "version_major": 2,
       "version_minor": 0
      },
      "text/plain": [
       "Encoding Products:   0%|          | 0/7 [00:00<?, ?it/s]"
      ]
     },
     "metadata": {},
     "output_type": "display_data"
    },
    {
     "data": {
      "application/vnd.jupyter.widget-view+json": {
       "model_id": "a214e551808c451aae00957a6fb943a1",
       "version_major": 2,
       "version_minor": 0
      },
      "text/plain": [
       "Evaluating Queries:   0%|          | 0/7 [00:00<?, ?it/s]"
      ]
     },
     "metadata": {},
     "output_type": "display_data"
    },
    {
     "name": "stdout",
     "output_type": "stream",
     "text": [
      "Evaluation Metrics:\n",
      "Hits@10: 0.4286\n",
      "MRR: 0.1806\n"
     ]
    },
    {
     "data": {
      "application/vnd.jupyter.widget-view+json": {
       "model_id": "",
       "version_major": 2,
       "version_minor": 0
      },
      "text/plain": [
       "Epoch 66/100:   0%|          | 0/28 [00:00<?, ?it/s]"
      ]
     },
     "metadata": {},
     "output_type": "display_data"
    },
    {
     "name": "stdout",
     "output_type": "stream",
     "text": [
      "\n",
      "Epoch 66/100, Average Loss: 0.7980\n",
      "\n",
      "Evaluating model...\n"
     ]
    },
    {
     "data": {
      "application/vnd.jupyter.widget-view+json": {
       "model_id": "a4efce66fad54c04a06749e770011189",
       "version_major": 2,
       "version_minor": 0
      },
      "text/plain": [
       "Encoding Products:   0%|          | 0/7 [00:00<?, ?it/s]"
      ]
     },
     "metadata": {},
     "output_type": "display_data"
    },
    {
     "data": {
      "application/vnd.jupyter.widget-view+json": {
       "model_id": "ed15a8f822994c9c98763a5aaecf9cb6",
       "version_major": 2,
       "version_minor": 0
      },
      "text/plain": [
       "Evaluating Queries:   0%|          | 0/7 [00:00<?, ?it/s]"
      ]
     },
     "metadata": {},
     "output_type": "display_data"
    },
    {
     "name": "stdout",
     "output_type": "stream",
     "text": [
      "Evaluation Metrics:\n",
      "Hits@10: 0.3929\n",
      "MRR: 0.1888\n"
     ]
    }
   ],
   "source": [
    "query_encoder, product_encoder, hits_in_top_k_history, mrr_history = train_embedding_model(train_dataset, num_epochs=100, learning_rate=1e-5, eval_dataset=val_dataset, patience=20)"
   ]
  },
  {
   "cell_type": "code",
   "execution_count": 20,
   "metadata": {},
   "outputs": [
    {
     "data": {
      "image/png": "[encoded data removed]",
      "text/plain": [
       "<Figure size 640x480 with 1 Axes>"
      ]
     },
     "metadata": {},
     "output_type": "display_data"
    }
   ],
   "source": [
    "plt.plot(hits_in_top_k_history)\n",
    "plt.xlabel(\"Epoch\")\n",
    "plt.ylabel(\"Proportion of Appearances\")\n",
    "plt.title(\"Proportion of Products Appearing in Top 10 Results\")\n",
    "plt.show()"
   ]
  },
  {
   "cell_type": "code",
   "execution_count": 21,
   "metadata": {},
   "outputs": [
    {
     "data": {
      "image/png": "[encoded data removed]",
      "text/plain": [
       "<Figure size 640x480 with 1 Axes>"
      ]
     },
     "metadata": {},
     "output_type": "display_data"
    }
   ],
   "source": [
    "plt.plot(mrr_history)\n",
    "plt.xlabel(\"Epoch\")\n",
    "plt.ylabel(\"MRR\")\n",
    "plt.title(\"Validation Mean Reciprocal Rank\")\n",
    "plt.show()"
   ]
  },
  {
   "cell_type": "code",
   "execution_count": 22,
   "metadata": {},
   "outputs": [],
   "source": [
    "# Save models\n",
    "torch.save(query_encoder.state_dict(), 'data/cd_and_vinyl_products_query_encoder.pt')\n",
    "torch.save(product_encoder.state_dict(), 'data/cd_and_vinyl_products_description_encoder.pt')"
   ]
  }
 ],
 "metadata": {
  "kernelspec": {
   "display_name": "Python 3 (ipykernel)",
   "language": "python",
   "name": "python3"
  },
  "language_info": {
   "codemirror_mode": {
    "name": "ipython",
    "version": 3
   },
   "file_extension": ".py",
   "mimetype": "text/x-python",
   "name": "python",
   "nbconvert_exporter": "python",
   "pygments_lexer": "ipython3",
   "version": "3.10.14"
  }
 },
 "nbformat": 4,
 "nbformat_minor": 4
}
