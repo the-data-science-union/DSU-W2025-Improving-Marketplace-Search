{
 "cells": [
  {
   "cell_type": "code",
   "execution_count": 19,
   "id": "cd411acb-03eb-49aa-816f-9eb6934d6e8c",
   "metadata": {},
   "outputs": [],
   "source": [
    "import numpy as np\n",
    "import pandas as pd\n",
    "import matplotlib.pyplot as plt\n",
    "from sklearn.feature_extraction.text import TfidfVectorizer\n",
    "from sklearn.cluster import KMeans\n",
    "from sentence_transformers import SentenceTransformer\n",
    "from umap import UMAP\n",
    "from bertopic import BERTopic\n",
    "import hdbscan\n",
    "import re\n",
    "import json"
   ]
  },
  {
   "cell_type": "code",
   "execution_count": 2,
   "id": "7cc242b8-9284-4e3c-86b8-dc00c9a1ee6b",
   "metadata": {},
   "outputs": [],
   "source": [
    "class ProductGroupGenerator:\n",
    "    def __init__(self, min_cluster_size=5, max_clusters=75):\n",
    "        self.sentence_model = SentenceTransformer('all-MiniLM-L6-v2')\n",
    "        self.tfidf = TfidfVectorizer(\n",
    "            max_features=1000,\n",
    "            stop_words='english',\n",
    "            ngram_range=(1, 2)\n",
    "        )\n",
    "        self.min_cluster_size = min_cluster_size\n",
    "        self.max_clusters = max_clusters\n",
    "        \n",
    "    def preprocess_text(self, text):\n",
    "        # Convert to lowercase and remove special characters\n",
    "        text = re.sub(r'[^a-zA-Z0-9\\s]', ' ', str(text).lower())\n",
    "        # Remove extra whitespace\n",
    "        text = re.sub(r'\\s+', ' ', text).strip()\n",
    "        return text\n",
    "        \n",
    "    def generate_clusters(self, texts, method='combined', n_clusters=None):\n",
    "        \"\"\"\n",
    "        Generate product clusters using different methods\n",
    "        \n",
    "        Args:\n",
    "            texts: List of product titles/descriptions\n",
    "            method: One of 'tfidf_kmeans', 'bert_topic', or 'combined'\n",
    "            n_clusters: Optional target number of clusters\n",
    "        \"\"\"\n",
    "        if n_clusters is None:\n",
    "            n_clusters = min(len(texts) // self.min_cluster_size, self.max_clusters)\n",
    "            \n",
    "        processed_texts = [self.preprocess_text(text) for text in texts]\n",
    "        \n",
    "        if method == 'tfidf_kmeans':\n",
    "            return self._cluster_tfidf_kmeans(processed_texts, n_clusters)\n",
    "        elif method == 'bert_topic':\n",
    "            return self._cluster_bert_topic(processed_texts)\n",
    "        elif method == 'combined':\n",
    "            return self._cluster_combined(processed_texts, n_clusters)\n",
    "        else:\n",
    "            raise ValueError(\"Invalid clustering method\")\n",
    "    \n",
    "    def _cluster_tfidf_kmeans(self, texts, n_clusters):\n",
    "        # Transform texts to TF-IDF vectors\n",
    "        tfidf_matrix = self.tfidf.fit_transform(texts)\n",
    "        \n",
    "        kmeans = KMeans(n_clusters=n_clusters, random_state=42)\n",
    "        labels = kmeans.fit_predict(tfidf_matrix)\n",
    "        \n",
    "        # Get top terms for each cluster\n",
    "        cluster_terms = {}\n",
    "        feature_names = self.tfidf.get_feature_names_out()\n",
    "        for i in range(n_clusters):\n",
    "            center_indices = kmeans.cluster_centers_[i].argsort()[::-1][:5]\n",
    "            cluster_terms[i] = [feature_names[idx] for idx in center_indices]\n",
    "            \n",
    "        return labels, cluster_terms\n",
    "    \n",
    "    def _cluster_bert_topic(self, texts):\n",
    "        # Create embeddings\n",
    "        embeddings = self.sentence_model.encode(texts)\n",
    "        \n",
    "        # Initialize BERTopic\n",
    "        topic_model = BERTopic(\n",
    "            umap_model=UMAP(n_neighbors=15, n_components=5, min_dist=0.0, metric='cosine'),\n",
    "            hdbscan_model=hdbscan.HDBSCAN(\n",
    "                min_cluster_size=self.min_cluster_size,\n",
    "                min_samples=1,\n",
    "                metric='euclidean',\n",
    "                cluster_selection_method='eom'\n",
    "            ),\n",
    "            verbose=True\n",
    "        )\n",
    "        \n",
    "        # Fit the model and get topics\n",
    "        labels, _ = topic_model.fit_transform(texts, embeddings)\n",
    "        \n",
    "        # Get topic terms\n",
    "        topic_terms = {}\n",
    "        for topic_idx, words in topic_model.get_topics().items():\n",
    "            topic_terms[topic_idx] = [word[0] for word in words[:5]]\n",
    "            \n",
    "        return labels, topic_terms\n",
    "    \n",
    "    def _cluster_combined(self, texts, n_clusters):\n",
    "        # Get clusters from both methods\n",
    "        print(\"CLUSTERING BY KMEANS\")\n",
    "        kmeans_labels, kmeans_terms = self._cluster_tfidf_kmeans(texts, n_clusters)\n",
    "        print(\"CLUSTERING BY BERT\")\n",
    "        bert_labels, bert_terms = self._cluster_bert_topic(texts)\n",
    "        \n",
    "        # Create ensemble clustering\n",
    "        # Convert labels to one-hot encoding\n",
    "        def one_hot_encode(labels):\n",
    "            n_unique = len(np.unique(labels))\n",
    "            return np.eye(n_unique)[labels]\n",
    "        \n",
    "        kmeans_oh = one_hot_encode(kmeans_labels)\n",
    "        bert_oh = one_hot_encode(bert_labels)\n",
    "        \n",
    "        # Concatenate features\n",
    "        combined_features = np.hstack([kmeans_oh, bert_oh])\n",
    "        \n",
    "        # Final clustering on combined features\n",
    "        print(\"CREATING FINAL CLUSTERING COMBINATION\")\n",
    "        final_kmeans = KMeans(n_clusters=n_clusters)\n",
    "        final_labels = final_kmeans.fit_predict(combined_features)\n",
    "        \n",
    "        # Combine terms from both methods for final clusters\n",
    "        final_terms = {}\n",
    "        for i in range(n_clusters):\n",
    "            terms_set = set()\n",
    "            terms_set.update(kmeans_terms.get(i, []))\n",
    "            terms_set.update(bert_terms.get(i, []))\n",
    "            final_terms[i] = list(terms_set)[:5]\n",
    "            \n",
    "        return final_labels, final_terms\n",
    "\n",
    "    def analyze_clusters(self, texts, labels, cluster_terms):\n",
    "        \"\"\"\n",
    "        Analyze cluster quality and characteristics\n",
    "        \"\"\"\n",
    "        cluster_stats = {}\n",
    "        unique_labels = np.unique(labels)\n",
    "        \n",
    "        for label in unique_labels:\n",
    "            cluster_texts = [texts[i] for i in range(len(texts)) if labels[i] == label]\n",
    "            cluster_stats[label] = {\n",
    "                'size': len(cluster_texts),\n",
    "                'terms': cluster_terms.get(label, []),\n",
    "                'sample_products': cluster_texts[:3]  # Show 3 example products\n",
    "            }\n",
    "            \n",
    "        return cluster_stats"
   ]
  },
  {
   "cell_type": "code",
   "execution_count": 3,
   "id": "be193eef-7148-4aca-a5e9-d715e91ca3bb",
   "metadata": {},
   "outputs": [],
   "source": [
    "# Prepare your data\n",
    "products_df = pd.read_csv('data/tools_and_home_improvement_products.csv')\n",
    "texts = products_df['title'] + ' ' + products_df['description']"
   ]
  },
  {
   "cell_type": "code",
   "execution_count": 4,
   "id": "fbd354cd-accd-4968-8746-c2a524d4f145",
   "metadata": {},
   "outputs": [],
   "source": [
    "# Initialize clustering class\n",
    "generator = ProductGroupGenerator(min_cluster_size=100, max_clusters = 100)"
   ]
  },
  {
   "cell_type": "code",
   "execution_count": 5,
   "id": "b81cd68e-dcb3-46ce-a6d6-a8a4fe0f2739",
   "metadata": {},
   "outputs": [
    {
     "name": "stderr",
     "output_type": "stream",
     "text": [
      "2025-02-09 14:19:57,435 - BERTopic - Dimensionality - Fitting the dimensionality reduction algorithm\n",
      "2025-02-09 14:21:00,048 - BERTopic - Dimensionality - Completed ✓\n",
      "2025-02-09 14:21:00,051 - BERTopic - Cluster - Start clustering the reduced embeddings\n",
      "2025-02-09 14:21:02,175 - BERTopic - Cluster - Completed ✓\n",
      "2025-02-09 14:21:02,189 - BERTopic - Representation - Extracting topics from clusters using representation models.\n",
      "2025-02-09 14:21:07,544 - BERTopic - Representation - Completed ✓\n"
     ]
    }
   ],
   "source": [
    "# Run clustering\n",
    "labels, cluster_terms = generator.generate_clusters(texts, method='bert_topic')"
   ]
  },
  {
   "cell_type": "code",
   "execution_count": 6,
   "id": "54d572f8-35b6-4d9a-abe3-70e7abca4c16",
   "metadata": {},
   "outputs": [],
   "source": [
    "# Analyze the clusters\n",
    "cluster_stats = generator.analyze_clusters(texts, labels, cluster_terms)"
   ]
  },
  {
   "cell_type": "code",
   "execution_count": 7,
   "id": "7d1f9b02-85f8-4821-aeec-6a8aca89155e",
   "metadata": {},
   "outputs": [
    {
     "data": {
      "text/plain": [
       "16471"
      ]
     },
     "execution_count": 7,
     "metadata": {},
     "output_type": "execute_result"
    }
   ],
   "source": [
    "# Number of total products\n",
    "products_df.shape[0] "
   ]
  },
  {
   "cell_type": "code",
   "execution_count": 8,
   "id": "6d8c8de1-2078-461c-96c3-cc48126fa1c6",
   "metadata": {},
   "outputs": [
    {
     "data": {
      "text/plain": [
       "59"
      ]
     },
     "execution_count": 8,
     "metadata": {},
     "output_type": "execute_result"
    }
   ],
   "source": [
    "# Number of clusters\n",
    "len(cluster_stats)"
   ]
  },
  {
   "cell_type": "code",
   "execution_count": 9,
   "id": "21789118-4da2-4143-a1f5-e1e7dde292dd",
   "metadata": {},
   "outputs": [
    {
     "name": "stdout",
     "output_type": "stream",
     "text": [
      "Cluster Size: 770\n",
      "Key Terms: saw, blade, cutting, tool, battery\n",
      "\n",
      "Cluster Size: 733\n",
      "Key Terms: bit, set, bits, screwdriver, drill\n",
      "\n",
      "Cluster Size: 526\n",
      "Key Terms: outlet, cord, plug, extension, soldering\n",
      "\n",
      "Cluster Size: 482\n",
      "Key Terms: bulbs, bulb, light, led, incandescent\n",
      "\n",
      "Cluster Size: 422\n",
      "Key Terms: light, sensor, motion, night, closet\n",
      "\n",
      "Cluster Size: 413\n",
      "Key Terms: door, lock, doors, security, entry\n",
      "\n",
      "Cluster Size: 413\n",
      "Key Terms: strip, led, lights, music, rgb\n",
      "\n",
      "Cluster Size: 394\n",
      "Key Terms: peel, stick, wallpaper, wall, decals\n",
      "\n",
      "Cluster Size: 376\n",
      "Key Terms: tape, picture, seal, and, carpet\n",
      "\n",
      "Cluster Size: 363\n",
      "Key Terms: paint, wood, spray, brush, and\n",
      "\n"
     ]
    }
   ],
   "source": [
    "# Sample of group sizes and key terms\n",
    "for i in range(10):\n",
    "    print(f\"Cluster Size: {cluster_stats[i]['size']}\")\n",
    "    print(f\"Key Terms: {', '.join(cluster_stats[i]['terms'])}\\n\")"
   ]
  },
  {
   "cell_type": "code",
   "execution_count": 10,
   "id": "adbf9958-729d-495e-8660-c56dafba11da",
   "metadata": {},
   "outputs": [],
   "source": [
    "num_items = []\n",
    "\n",
    "for cluster in cluster_stats.keys():\n",
    "    num_items.append(cluster_stats[cluster]['size'])"
   ]
  },
  {
   "cell_type": "code",
   "execution_count": 11,
   "id": "78744012-79cf-45a4-bc8f-0183a758520e",
   "metadata": {},
   "outputs": [
    {
     "data": {
      "image/png": "[encoded data removed]",
      "text/plain": [
       "<Figure size 640x480 with 1 Axes>"
      ]
     },
     "metadata": {},
     "output_type": "display_data"
    }
   ],
   "source": [
    "plt.hist(num_items, bins=30, density=True)\n",
    "plt.title(\"Cluster Size Distribution\")\n",
    "plt.xlabel(\"Number of Products in Group\")\n",
    "plt.ylabel(\"Relative Frequency\")\n",
    "plt.show()"
   ]
  },
  {
   "cell_type": "code",
   "execution_count": 12,
   "id": "69d6ce21-66d7-4890-8f01-b047cc41a3c2",
   "metadata": {},
   "outputs": [
    {
     "data": {
      "text/plain": [
       "label\n",
       "-1    2648\n",
       " 0     770\n",
       " 1     733\n",
       " 2     526\n",
       " 3     482\n",
       "Name: count, dtype: int64"
      ]
     },
     "execution_count": 12,
     "metadata": {},
     "output_type": "execute_result"
    }
   ],
   "source": [
    "products_df['label'] = labels\n",
    "products_df['label'].value_counts()[:5]"
   ]
  },
  {
   "cell_type": "code",
   "execution_count": 13,
   "id": "01b72911-6529-45d1-b9ae-5eb1d7407e6b",
   "metadata": {},
   "outputs": [
    {
     "name": "stdout",
     "output_type": "stream",
     "text": [
      "['saw', 'blade', 'cutting', 'tool', 'battery']\n",
      "['bit', 'set', 'bits', 'screwdriver', 'drill']\n",
      "['outlet', 'cord', 'plug', 'extension', 'soldering']\n",
      "['bulbs', 'bulb', 'light', 'led', 'incandescent']\n",
      "['light', 'sensor', 'motion', 'night', 'closet']\n",
      "['door', 'lock', 'doors', 'security', 'entry']\n",
      "['strip', 'led', 'lights', 'music', 'rgb']\n",
      "['peel', 'stick', 'wallpaper', 'wall', 'decals']\n",
      "['tape', 'picture', 'seal', 'and', 'carpet']\n",
      "['paint', 'wood', 'spray', 'brush', 'and']\n",
      "['shower', 'head', 'water', 'pressure', 'handheld']\n",
      "['flashlight', 'rechargeable', 'lumens', 'light', 'led']\n",
      "['solar', 'lights', 'garden', 'outdoor', 'pathway']\n",
      "['lamp', 'table', 'bedside', 'lamps', 'usb']\n",
      "['mask', 'face', 'masks', 'kn95', 'nose']\n",
      "['knife', 'blade', 'multitool', 'pocket', 'blades']\n",
      "['ceiling', 'light', 'fixture', 'vanity', 'mirror']\n",
      "['furniture', 'chair', 'pads', 'leg', 'felt']\n",
      "['klein', 'tools', 'wire', 'tool', 'company']\n",
      "['reading', 'desk', 'lamp', 'light', 'book']\n",
      "['faucet', 'kitchen', 'faucets', 'sink', 'water']\n",
      "['solar', 'string', 'lights', 'outdoor', 'modes']\n",
      "['lights', 'christmas', 'string', 'fairy', 'modes']\n",
      "['storage', 'shelf', 'hooks', 'garage', 'brackets']\n",
      "['smart', 'alexa', 'control', 'hub', 'wifi']\n",
      "['drain', 'sink', 'strainer', 'hair', 'stopper']\n",
      "['water', 'filter', 'filtration', 'filters', 'system']\n",
      "['air', 'filters', 'filter', 'merv', 'vent']\n",
      "['candles', 'flameless', 'candle', 'tea', 'battery']\n",
      "['laser', 'tester', 'voltage', 'test', 'circuit']\n",
      "['gloves', 'glove', 'leather', 'work', 'nitrile']\n",
      "['gal', 'hose', 'vacuum', 'air', 'filter']\n",
      "['ladder', 'bungee', 'straps', 'knee', 'cords']\n",
      "['measuring', 'tape', 'gauge', 'measure', 'contour']\n",
      "['sanding', 'sandpaper', 'grit', 'sander', 'discs']\n",
      "['flood', 'outdoor', 'landscape', 'light', 'lighting']\n",
      "['lamp', 'floor', 'standing', 'living', 'room']\n",
      "['bidet', 'toilet', 'seat', 'bemis', 'sprayer']\n",
      "['night', 'kids', 'light', 'projector', '3d']\n",
      "['solar', 'motion', 'sensor', 'lights', 'outdoor']\n",
      "['lock', 'combination', 'shackle', 'safe', 'padlock']\n",
      "['glasses', 'lens', 'safety', 'goggles', 'antifog']\n",
      "['screen', 'door', 'mesh', 'magnetic', 'window']\n",
      "['string', 'lights', 'bulbs', 'outdoor', 'patio']\n",
      "['face', 'shield', 'hat', 'shields', 'protection']\n",
      "['towel', 'hooks', 'suction', 'bathroom', 'shower']\n",
      "['fan', 'ceiling', 'nutone', 'motor', 'fans']\n",
      "['doorbell', 'chime', 'wireless', 'video', 'door']\n",
      "['thermostat', 'heat', 'temperature', 'torch', 'gun']\n",
      "['headlamp', 'rechargeable', 'head', 'light', 'camping']\n",
      "['garage', 'led', 'light', 'deformable', 'panels']\n",
      "['paper', 'toilet', 'holder', 'bathroom', 'rolls']\n",
      "['salt', 'himalayan', 'lamp', 'doorbell', 'camera']\n",
      "['pliers', 'jaw', 'vise', 'clamp', 'clamps']\n",
      "['smart', 'wifi', 'plug', 'alexa', 'control']\n",
      "['bag', 'apron', 'pockets', 'tool', 'tools']\n",
      "['cabinet', 'knobs', 'drawer', 'hinges', 'pulls']\n",
      "['alarm', 'smoke', 'monoxide', 'fire', 'alarms']\n"
     ]
    }
   ],
   "source": [
    "for i in range(len(cluster_stats)-1):\n",
    "    print(cluster_stats[i]['terms'])"
   ]
  },
  {
   "cell_type": "code",
   "execution_count": 14,
   "id": "c3007093-9e81-49ff-b354-89e9e605337b",
   "metadata": {},
   "outputs": [],
   "source": [
    "cluster_terms = {i: cluster_stats[i]['terms'] for i in range(-1, len(cluster_stats)-1)}"
   ]
  },
  {
   "cell_type": "code",
   "execution_count": 20,
   "id": "90463c42-318b-4b28-acc7-7d727eca1a1b",
   "metadata": {},
   "outputs": [],
   "source": [
    "with open(\"tools_and_home_improvement_key_terms.json\", \"w\") as f:\n",
    "    json.dump(cluster_terms, f)"
   ]
  },
  {
   "cell_type": "code",
   "execution_count": 21,
   "id": "a2ecfad6-e23a-4c6e-92fb-fc6c01229a9b",
   "metadata": {},
   "outputs": [
    {
     "data": {
      "text/html": [
       "<div>\n",
       "<style scoped>\n",
       "    .dataframe tbody tr th:only-of-type {\n",
       "        vertical-align: middle;\n",
       "    }\n",
       "\n",
       "    .dataframe tbody tr th {\n",
       "        vertical-align: top;\n",
       "    }\n",
       "\n",
       "    .dataframe thead th {\n",
       "        text-align: right;\n",
       "    }\n",
       "</style>\n",
       "<table border=\"1\" class=\"dataframe\">\n",
       "  <thead>\n",
       "    <tr style=\"text-align: right;\">\n",
       "      <th></th>\n",
       "      <th>id</th>\n",
       "      <th>title</th>\n",
       "      <th>description</th>\n",
       "      <th>label</th>\n",
       "    </tr>\n",
       "  </thead>\n",
       "  <tbody>\n",
       "    <tr>\n",
       "      <th>0</th>\n",
       "      <td>B09M8J9LQ9</td>\n",
       "      <td>Decute 200LED Christmas String Lights Outdoor ...</td>\n",
       "      <td>Specifications Light Color Multicolored Applic...</td>\n",
       "      <td>22</td>\n",
       "    </tr>\n",
       "    <tr>\n",
       "      <th>1</th>\n",
       "      <td>B0BNZ888C7</td>\n",
       "      <td>Upgrade Hydro Shower Jet Head High Pressure Hy...</td>\n",
       "      <td>HighPressure Filtered Shower Head with 3 Repla...</td>\n",
       "      <td>10</td>\n",
       "    </tr>\n",
       "    <tr>\n",
       "      <th>2</th>\n",
       "      <td>B07TLCQ3NR</td>\n",
       "      <td>1\" Adhesive Furniture Sliders -Furnigear Chair...</td>\n",
       "      <td>Adhesive Furniture Glides SlidersFurnigear Hea...</td>\n",
       "      <td>17</td>\n",
       "    </tr>\n",
       "    <tr>\n",
       "      <th>3</th>\n",
       "      <td>B09HRSKRFB</td>\n",
       "      <td>Sunlite 40455 LED A19 Colored Light Bulb, 3 Wa...</td>\n",
       "      <td>Sunlites colored decorative A19 household ligh...</td>\n",
       "      <td>3</td>\n",
       "    </tr>\n",
       "    <tr>\n",
       "      <th>4</th>\n",
       "      <td>B014AV8FY2</td>\n",
       "      <td>Dixie Belle Paint Company Chalk Finish Furnitu...</td>\n",
       "      <td>CHALK MINERAL PAINT  Amethyst is a rich deep m...</td>\n",
       "      <td>9</td>\n",
       "    </tr>\n",
       "  </tbody>\n",
       "</table>\n",
       "</div>"
      ],
      "text/plain": [
       "           id                                              title  \\\n",
       "0  B09M8J9LQ9  Decute 200LED Christmas String Lights Outdoor ...   \n",
       "1  B0BNZ888C7  Upgrade Hydro Shower Jet Head High Pressure Hy...   \n",
       "2  B07TLCQ3NR  1\" Adhesive Furniture Sliders -Furnigear Chair...   \n",
       "3  B09HRSKRFB  Sunlite 40455 LED A19 Colored Light Bulb, 3 Wa...   \n",
       "4  B014AV8FY2  Dixie Belle Paint Company Chalk Finish Furnitu...   \n",
       "\n",
       "                                         description  label  \n",
       "0  Specifications Light Color Multicolored Applic...     22  \n",
       "1  HighPressure Filtered Shower Head with 3 Repla...     10  \n",
       "2  Adhesive Furniture Glides SlidersFurnigear Hea...     17  \n",
       "3  Sunlites colored decorative A19 household ligh...      3  \n",
       "4  CHALK MINERAL PAINT  Amethyst is a rich deep m...      9  "
      ]
     },
     "execution_count": 21,
     "metadata": {},
     "output_type": "execute_result"
    }
   ],
   "source": [
    "products_df.head()"
   ]
  },
  {
   "cell_type": "code",
   "execution_count": 22,
   "id": "bab169a9-9d95-4974-970c-8afab4b9b8a5",
   "metadata": {},
   "outputs": [],
   "source": [
    "products_df.to_csv(\"data/labeled_tools_and_home_improvement_products.csv\", index=False)"
   ]
  }
 ],
 "metadata": {
  "kernelspec": {
   "display_name": "Python 3 (ipykernel)",
   "language": "python",
   "name": "python3"
  },
  "language_info": {
   "codemirror_mode": {
    "name": "ipython",
    "version": 3
   },
   "file_extension": ".py",
   "mimetype": "text/x-python",
   "name": "python",
   "nbconvert_exporter": "python",
   "pygments_lexer": "ipython3",
   "version": "3.10.14"
  }
 },
 "nbformat": 4,
 "nbformat_minor": 5
}
