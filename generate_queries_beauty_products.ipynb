{
 "cells": [
  {
   "cell_type": "code",
   "execution_count": 1,
   "id": "aa9b79e3-3af5-42d6-94d3-1f70e6568747",
   "metadata": {},
   "outputs": [],
   "source": [
    "import os\n",
    "import re\n",
    "import time\n",
    "import numpy as np\n",
    "import pandas as pd\n",
    "from openai import OpenAI\n",
    "from dotenv import load_dotenv"
   ]
  },
  {
   "cell_type": "code",
   "execution_count": 2,
   "id": "ceae2ba0-f62c-4f0c-89de-f1fad65cec45",
   "metadata": {},
   "outputs": [],
   "source": [
    "products_df = pd.read_csv(\"C:/Users/benja/Desktop/Improving_Mp_Search/labeled_beauty_products.csv\")"
   ]
  },
  {
   "cell_type": "code",
   "execution_count": 3,
   "id": "8be12286-777c-41a0-b8ac-a050c3eace27",
   "metadata": {},
   "outputs": [
    {
     "data": {
      "text/html": [
       "<div>\n",
       "<style scoped>\n",
       "    .dataframe tbody tr th:only-of-type {\n",
       "        vertical-align: middle;\n",
       "    }\n",
       "\n",
       "    .dataframe tbody tr th {\n",
       "        vertical-align: top;\n",
       "    }\n",
       "\n",
       "    .dataframe thead th {\n",
       "        text-align: right;\n",
       "    }\n",
       "</style>\n",
       "<table border=\"1\" class=\"dataframe\">\n",
       "  <thead>\n",
       "    <tr style=\"text-align: right;\">\n",
       "      <th></th>\n",
       "      <th>id</th>\n",
       "      <th>title</th>\n",
       "      <th>description</th>\n",
       "      <th>label</th>\n",
       "    </tr>\n",
       "  </thead>\n",
       "  <tbody>\n",
       "    <tr>\n",
       "      <th>0</th>\n",
       "      <td>B01ALT5MKW</td>\n",
       "      <td>Babo Botanicals Sheer Zinc Continuous Spray Su...</td>\n",
       "      <td>Get the comfort of a lotion sunscreen and the ...</td>\n",
       "      <td>13</td>\n",
       "    </tr>\n",
       "    <tr>\n",
       "      <th>1</th>\n",
       "      <td>B0C5Z7V77F</td>\n",
       "      <td>SUNATORIA Keratin Hair Mask - Professional Tre...</td>\n",
       "      <td>Restorative Hair Mask with Hydrolyzed Keratin ...</td>\n",
       "      <td>0</td>\n",
       "    </tr>\n",
       "    <tr>\n",
       "      <th>2</th>\n",
       "      <td>B0BZJ5LDZ6</td>\n",
       "      <td>[Farewell] Sunny I Tip Hair Extensions Natural...</td>\n",
       "      <td>SpecificationsSunny I tip hair extensions are ...</td>\n",
       "      <td>16</td>\n",
       "    </tr>\n",
       "    <tr>\n",
       "      <th>3</th>\n",
       "      <td>B09MTGTV3G</td>\n",
       "      <td>Vvan Long Straight Hair Ombre Green Straight W...</td>\n",
       "      <td>Basic information 1Hair MaterialHeat Resistant...</td>\n",
       "      <td>2</td>\n",
       "    </tr>\n",
       "    <tr>\n",
       "      <th>4</th>\n",
       "      <td>B0722JDG4Q</td>\n",
       "      <td>Makeup Bag,Leather Double Layer Large Makeup O...</td>\n",
       "      <td>Durable Makeup Bag Travel Accessories for Wome...</td>\n",
       "      <td>47</td>\n",
       "    </tr>\n",
       "  </tbody>\n",
       "</table>\n",
       "</div>"
      ],
      "text/plain": [
       "           id                                              title  \\\n",
       "0  B01ALT5MKW  Babo Botanicals Sheer Zinc Continuous Spray Su...   \n",
       "1  B0C5Z7V77F  SUNATORIA Keratin Hair Mask - Professional Tre...   \n",
       "2  B0BZJ5LDZ6  [Farewell] Sunny I Tip Hair Extensions Natural...   \n",
       "3  B09MTGTV3G  Vvan Long Straight Hair Ombre Green Straight W...   \n",
       "4  B0722JDG4Q  Makeup Bag,Leather Double Layer Large Makeup O...   \n",
       "\n",
       "                                         description  label  \n",
       "0  Get the comfort of a lotion sunscreen and the ...     13  \n",
       "1  Restorative Hair Mask with Hydrolyzed Keratin ...      0  \n",
       "2  SpecificationsSunny I tip hair extensions are ...     16  \n",
       "3  Basic information 1Hair MaterialHeat Resistant...      2  \n",
       "4  Durable Makeup Bag Travel Accessories for Wome...     47  "
      ]
     },
     "execution_count": 3,
     "metadata": {},
     "output_type": "execute_result"
    }
   ],
   "source": [
    "products_df.head()"
   ]
  },
  {
   "cell_type": "code",
   "execution_count": 4,
   "id": "1ef392e8-a353-4d6a-ab20-c2bc605760a7",
   "metadata": {},
   "outputs": [
    {
     "data": {
      "text/html": [
       "<div>\n",
       "<style scoped>\n",
       "    .dataframe tbody tr th:only-of-type {\n",
       "        vertical-align: middle;\n",
       "    }\n",
       "\n",
       "    .dataframe tbody tr th {\n",
       "        vertical-align: top;\n",
       "    }\n",
       "\n",
       "    .dataframe thead th {\n",
       "        text-align: right;\n",
       "    }\n",
       "</style>\n",
       "<table border=\"1\" class=\"dataframe\">\n",
       "  <thead>\n",
       "    <tr style=\"text-align: right;\">\n",
       "      <th></th>\n",
       "      <th>id</th>\n",
       "      <th>title</th>\n",
       "      <th>description</th>\n",
       "      <th>label</th>\n",
       "    </tr>\n",
       "  </thead>\n",
       "  <tbody>\n",
       "    <tr>\n",
       "      <th>0</th>\n",
       "      <td>B07N84MBPB</td>\n",
       "      <td>CLIO Kill Cover Glow Fitting Cushion | Makeup ...</td>\n",
       "      <td>CLEAR BRIGHT RADIANCE ALL DAY LONG Get your gl...</td>\n",
       "      <td>-1</td>\n",
       "    </tr>\n",
       "    <tr>\n",
       "      <th>1</th>\n",
       "      <td>B0BYCBXF5X</td>\n",
       "      <td>Handle Grip Nail Brush, Larbois Nail Brushes H...</td>\n",
       "      <td>New Design Compared with the styles on the mar...</td>\n",
       "      <td>-1</td>\n",
       "    </tr>\n",
       "    <tr>\n",
       "      <th>2</th>\n",
       "      <td>B09XBVZ6BY</td>\n",
       "      <td>Pronto 100% Acetone Gel Nail Polish Remover - ...</td>\n",
       "      <td>PROFESSIONAL NAIL POLISH REMOVER Our acetone 1...</td>\n",
       "      <td>-1</td>\n",
       "    </tr>\n",
       "    <tr>\n",
       "      <th>3</th>\n",
       "      <td>B01N418G6J</td>\n",
       "      <td>Neutrogena Moisturizing Sheer Body Oil-Lotion,...</td>\n",
       "      <td>Product Description Help soften and smooth you...</td>\n",
       "      <td>-1</td>\n",
       "    </tr>\n",
       "    <tr>\n",
       "      <th>4</th>\n",
       "      <td>B00J70GIFA</td>\n",
       "      <td>Andalou Naturals Hyaluronic Dmae Lift Firm Ski...</td>\n",
       "      <td>Andalou Naturals Hyaluronic DMAE lift and firm...</td>\n",
       "      <td>-1</td>\n",
       "    </tr>\n",
       "    <tr>\n",
       "      <th>5</th>\n",
       "      <td>B079THCJHD</td>\n",
       "      <td>BOLDIFY Hair Volumizer and Hair Texture Powder...</td>\n",
       "      <td>Messfree lift fuller finish Flat fine or badly...</td>\n",
       "      <td>0</td>\n",
       "    </tr>\n",
       "    <tr>\n",
       "      <th>6</th>\n",
       "      <td>B07N8LMVQT</td>\n",
       "      <td>Alberto Vo5 Hot Oil Intense Conditioning Treat...</td>\n",
       "      <td>Alberto Vo5 Hot Oil Intense Conditioning Treat...</td>\n",
       "      <td>0</td>\n",
       "    </tr>\n",
       "    <tr>\n",
       "      <th>7</th>\n",
       "      <td>B00N2JN1L6</td>\n",
       "      <td>OKAY | Extra Dark 100% Natural Black Jamaican ...</td>\n",
       "      <td>OKAY Brand Castor Oil seeds are harvested and ...</td>\n",
       "      <td>0</td>\n",
       "    </tr>\n",
       "    <tr>\n",
       "      <th>8</th>\n",
       "      <td>B001UGL84U</td>\n",
       "      <td>Selsun Blue Medicated Anti-dandruff Shampoo wi...</td>\n",
       "      <td>Selsun Blue Medicated Antidandruff Shampoo for...</td>\n",
       "      <td>0</td>\n",
       "    </tr>\n",
       "    <tr>\n",
       "      <th>9</th>\n",
       "      <td>B00H7NKNE6</td>\n",
       "      <td>Foxbrim Naturals Extra Virgin Argan Oil for Ha...</td>\n",
       "      <td>EXTRA VIRGIN COLD PRESSED  FIRST PRESSED ONLY ...</td>\n",
       "      <td>0</td>\n",
       "    </tr>\n",
       "    <tr>\n",
       "      <th>10</th>\n",
       "      <td>B07KS12JDB</td>\n",
       "      <td>Braun Series 3 Old Generation Electric Shaver ...</td>\n",
       "      <td>Product Description Get your shaver back to 10...</td>\n",
       "      <td>1</td>\n",
       "    </tr>\n",
       "    <tr>\n",
       "      <th>11</th>\n",
       "      <td>B00DZ15MU4</td>\n",
       "      <td>Panasonic Ear and Nose Trimmer, Wet/Dry Conven...</td>\n",
       "      <td>Product Description Safely trim and remove nos...</td>\n",
       "      <td>1</td>\n",
       "    </tr>\n",
       "  </tbody>\n",
       "</table>\n",
       "</div>"
      ],
      "text/plain": [
       "            id                                              title  \\\n",
       "0   B07N84MBPB  CLIO Kill Cover Glow Fitting Cushion | Makeup ...   \n",
       "1   B0BYCBXF5X  Handle Grip Nail Brush, Larbois Nail Brushes H...   \n",
       "2   B09XBVZ6BY  Pronto 100% Acetone Gel Nail Polish Remover - ...   \n",
       "3   B01N418G6J  Neutrogena Moisturizing Sheer Body Oil-Lotion,...   \n",
       "4   B00J70GIFA  Andalou Naturals Hyaluronic Dmae Lift Firm Ski...   \n",
       "5   B079THCJHD  BOLDIFY Hair Volumizer and Hair Texture Powder...   \n",
       "6   B07N8LMVQT  Alberto Vo5 Hot Oil Intense Conditioning Treat...   \n",
       "7   B00N2JN1L6  OKAY | Extra Dark 100% Natural Black Jamaican ...   \n",
       "8   B001UGL84U  Selsun Blue Medicated Anti-dandruff Shampoo wi...   \n",
       "9   B00H7NKNE6  Foxbrim Naturals Extra Virgin Argan Oil for Ha...   \n",
       "10  B07KS12JDB  Braun Series 3 Old Generation Electric Shaver ...   \n",
       "11  B00DZ15MU4  Panasonic Ear and Nose Trimmer, Wet/Dry Conven...   \n",
       "\n",
       "                                          description  label  \n",
       "0   CLEAR BRIGHT RADIANCE ALL DAY LONG Get your gl...     -1  \n",
       "1   New Design Compared with the styles on the mar...     -1  \n",
       "2   PROFESSIONAL NAIL POLISH REMOVER Our acetone 1...     -1  \n",
       "3   Product Description Help soften and smooth you...     -1  \n",
       "4   Andalou Naturals Hyaluronic DMAE lift and firm...     -1  \n",
       "5   Messfree lift fuller finish Flat fine or badly...      0  \n",
       "6   Alberto Vo5 Hot Oil Intense Conditioning Treat...      0  \n",
       "7   OKAY Brand Castor Oil seeds are harvested and ...      0  \n",
       "8   Selsun Blue Medicated Antidandruff Shampoo for...      0  \n",
       "9   EXTRA VIRGIN COLD PRESSED  FIRST PRESSED ONLY ...      0  \n",
       "10  Product Description Get your shaver back to 10...      1  \n",
       "11  Product Description Safely trim and remove nos...      1  "
      ]
     },
     "execution_count": 4,
     "metadata": {},
     "output_type": "execute_result"
    }
   ],
   "source": [
    "# We will sample 5 products per group and create sample queries for each of them\n",
    "product_samples = products_df.groupby('label').sample(n=5, random_state=234).reset_index(drop=True)\n",
    "product_samples.head(n=12)"
   ]
  },
  {
   "cell_type": "code",
   "execution_count": 5,
   "id": "b09b6cb3-d3bb-4e99-aa7e-d6aa0bc33593",
   "metadata": {},
   "outputs": [
    {
     "data": {
      "text/html": [
       "<div>\n",
       "<style scoped>\n",
       "    .dataframe tbody tr th:only-of-type {\n",
       "        vertical-align: middle;\n",
       "    }\n",
       "\n",
       "    .dataframe tbody tr th {\n",
       "        vertical-align: top;\n",
       "    }\n",
       "\n",
       "    .dataframe thead th {\n",
       "        text-align: right;\n",
       "    }\n",
       "</style>\n",
       "<table border=\"1\" class=\"dataframe\">\n",
       "  <thead>\n",
       "    <tr style=\"text-align: right;\">\n",
       "      <th></th>\n",
       "      <th>id</th>\n",
       "      <th>title</th>\n",
       "      <th>description</th>\n",
       "      <th>label</th>\n",
       "    </tr>\n",
       "  </thead>\n",
       "  <tbody>\n",
       "    <tr>\n",
       "      <th>0</th>\n",
       "      <td>B0C523T7C5</td>\n",
       "      <td>L’Oréal Paris Paradise Enchanted Scented Eyesh...</td>\n",
       "      <td>LOreal Paris presents the Paradise Enchanted E...</td>\n",
       "      <td>49</td>\n",
       "    </tr>\n",
       "    <tr>\n",
       "      <th>1</th>\n",
       "      <td>B07939KVKK</td>\n",
       "      <td>Viva Naturals Charcoal Face Mask Set (8 Pack) ...</td>\n",
       "      <td>Take your skin care routine to the next level ...</td>\n",
       "      <td>45</td>\n",
       "    </tr>\n",
       "    <tr>\n",
       "      <th>2</th>\n",
       "      <td>B08ZDDGBDP</td>\n",
       "      <td>9 Pcs Satin Hair Scrunchies Soft Elastic Hair ...</td>\n",
       "      <td>Product Information Material satin Size4 in Co...</td>\n",
       "      <td>56</td>\n",
       "    </tr>\n",
       "    <tr>\n",
       "      <th>3</th>\n",
       "      <td>B09577STQ1</td>\n",
       "      <td>RikView Press on Nails Short French Tip Nails ...</td>\n",
       "      <td>RikView We focus on the design and sales of fa...</td>\n",
       "      <td>15</td>\n",
       "    </tr>\n",
       "    <tr>\n",
       "      <th>4</th>\n",
       "      <td>B007GMTJRK</td>\n",
       "      <td>Kevyn Aucoin The Volume Mascara, Black: Precis...</td>\n",
       "      <td>Kevyn Aucoin The Volume Mascara Black A volume...</td>\n",
       "      <td>36</td>\n",
       "    </tr>\n",
       "  </tbody>\n",
       "</table>\n",
       "</div>"
      ],
      "text/plain": [
       "           id                                              title  \\\n",
       "0  B0C523T7C5  L’Oréal Paris Paradise Enchanted Scented Eyesh...   \n",
       "1  B07939KVKK  Viva Naturals Charcoal Face Mask Set (8 Pack) ...   \n",
       "2  B08ZDDGBDP  9 Pcs Satin Hair Scrunchies Soft Elastic Hair ...   \n",
       "3  B09577STQ1  RikView Press on Nails Short French Tip Nails ...   \n",
       "4  B007GMTJRK  Kevyn Aucoin The Volume Mascara, Black: Precis...   \n",
       "\n",
       "                                         description  label  \n",
       "0  LOreal Paris presents the Paradise Enchanted E...     49  \n",
       "1  Take your skin care routine to the next level ...     45  \n",
       "2  Product Information Material satin Size4 in Co...     56  \n",
       "3  RikView We focus on the design and sales of fa...     15  \n",
       "4  Kevyn Aucoin The Volume Mascara Black A volume...     36  "
      ]
     },
     "execution_count": 5,
     "metadata": {},
     "output_type": "execute_result"
    }
   ],
   "source": [
    "# Shuffle the products so that different groups are passed together\n",
    "product_samples = product_samples.sample(frac=1).reset_index(drop=True)\n",
    "product_samples.head()"
   ]
  },
  {
   "cell_type": "code",
   "execution_count": 6,
   "id": "617cb89a-7762-4b3c-a660-e34588011528",
   "metadata": {},
   "outputs": [],
   "source": [
    "load_dotenv()\n",
    "openai_api_key = os.environ['OPENAI_API_KEY']"
   ]
  },
  {
   "cell_type": "code",
   "execution_count": 8,
   "id": "acdcc98f-ba50-46f4-a33e-434671935c3e",
   "metadata": {},
   "outputs": [
    {
     "name": "stderr",
     "output_type": "stream",
     "text": [
      "<>:81: SyntaxWarning: invalid escape sequence '\\d'\n",
      "<>:81: SyntaxWarning: invalid escape sequence '\\d'\n",
      "C:\\Users\\benja\\AppData\\Local\\Temp\\ipykernel_587256\\1957230711.py:81: SyntaxWarning: invalid escape sequence '\\d'\n",
      "  response_list = re.sub(\"Product \\d: \", \"\", response_text).replace('[', '').replace(']', '').split('\\n')\n"
     ]
    }
   ],
   "source": [
    "class QueryGenerator:\n",
    "    def __init__(self, api_key):\n",
    "        \"\"\"Initialize the generator with API key and standard prompts\"\"\"\n",
    "        self.client = OpenAI(api_key=api_key)\n",
    "        \n",
    "        # Store the system and example prompts\n",
    "        self.system_prompt = \"\"\"You are an expert in e-commerce search optimization. Given a product description, generate a list of 5 realistic search queries a customer might use to find the product, even if the customer does not know the exact name of the product they are looking for.\n",
    "\n",
    "        Guidelines:\n",
    "        - Keep queries short (2-10 words)\n",
    "        - Avoid exact repetition of product specs; focus on what a customer would type\n",
    "        - Include a mix of general, descriptive, and feature-focused queries\n",
    "        - Consider different use cases for each product (e.g. baking soda can be used for cooking, cleaning, and removing bad odors).\n",
    "        - Use casual, natural language\n",
    "        - Return ONLY the list of 5 queries enclosed in [] and separated by ',' with no additional text\"\"\"\n",
    "\n",
    "        self.example_prompt = \"\"\"Here are some examples:\n",
    "\n",
    "        Product Description: \"Restorative Hair Mask with Hydrolyzed Keratin for dry damaged hair deeply repairs and conditions hair to restore softness shine and bounce Damaged hair treatment provides restoration and lasting protection from drying out leaving hair fabulously healthy and easy to manage Unique keratin formula  Smooth Forces Hair Mask Contains Vitamin E to help replenish the shine that the hair loses when exposed to harsh chemicals heat and styling products Omega 3 and Omega 9 increase moisture and hair elasticity This keratin treatment at home is perfect for dry damaged brittle and colortreated hair of any texture It can help treat splitends caused by straightening and years of color treatments You can use this keratin hair treatment at home to get salonquality results Sodium Sulfate and Parabenfree this hair treatment is qualitytested to ensure purity The hair masque is a deep hair hydrating conditioner that contains 100 TOP Grade Hydrolyzed Keratin Our hair mask for damaged hair repairing was exclusively designed for companies in the United Kingdom using the best available ingredients It is a keratin complex treatment that delivers the highest possible quality\"\n",
    "        \n",
    "        Queries:\n",
    "        [restorative hair mask, keratin hair mask, hair moisturizer, damaged hair repair, my hair is dry]\n",
    "        \n",
    "        Product Description: \"Developed with dermatologists CeraVe SA Cream for Rough  Bumpy Skin has a unique formula that exfoliates and moisturizes while helping to restore the protective skin barrier Salicylic acid exfoliates and softens to smooth rough skin lactic acid exfoliates to renew skins surface and three essential ceramides 1 3 6II help to restore the protective skin barrier NoncomedogenicFragrancefreeHypoallergenicGentle nonirritating formula Key Ingredients  Salicylic Acid and Lactic Acid  Gently exfoliates to eliminate dead skin cells Vitamin D  Enriched formula MVE Technology  This patented delivery system continually releases moisturizing ingredients for 24hour hydration Ceramides  Essential for healthy skin ceramides help restore and maintain the skins natural barrier Hyaluronic Acid  This ingredient attracts hydration to the skins surface and helps the skin retain moisture Niacinamide Helps calm the skin This product is nonsealed  CERAVE SA CREAM  Body moisturizer that gently exfoliates to help soften and smooth dry scaly or rough and bumpy skin on legs and upper arms Rich velvety texture leaves skin feeling smooth Absorbed quickly and has a nongreasy feel  EXFOLIATE  MOISTURIZE  Salicylic Acid  Lactic Acid to help exfoliate Hyaluronic Acid to help retain skins moisture and Niacinamide to help calm skin SA is a Beta Hydroxy Acid BHA an exfoliator that removes dead skin cells and smooths skin  GENTLE ON SKIN  Suitable for body Fragrance free allergytested and noncomedogenic Can be paired with CeraVe Salicylic Acid Body Wash for Rough and Bumpy Skin to cleanse  exfoliate  3 ESSENTIAL CERAMIDES  Ceramides are found naturally in the skin and make up 50 of the lipids in the skin barrier All CeraVe products are formulated with three essential ceramides 1 3 6II to help restore and maintain the skins natural barrier  DEVELOPED WITH DERMATOLOGISTS  CeraVe Skincare is developed with dermatologists and has products suitable for dry skin sensitive skin oily skin acneprone and more\"\n",
    "        \n",
    "        Queries:\n",
    "        [salicylic acid cream for face, dermatologist approved cream, exfoliating cream, i have rough skin with bumps, i want to restore skin barrier]\n",
    "        \"\"\"\n",
    "\n",
    "    def generate_single(self, product_description):\n",
    "        \"\"\"Generate queries for a single product description\"\"\"\n",
    "        try:\n",
    "            response = self.client.chat.completions.create(\n",
    "                model=\"gpt-3.5-turbo\",\n",
    "                messages=[\n",
    "                    {\"role\": \"system\", \"content\": self.system_prompt},\n",
    "                    {\"role\": \"user\", \"content\": self.example_prompt},\n",
    "                    {\"role\": \"user\", \"content\": f\"Now generate queries for this product description: {product_description}\"}\n",
    "                ],\n",
    "                temperature=0.7,\n",
    "                max_tokens=50\n",
    "            )\n",
    "            \n",
    "            res = response.choices[0].message.content\n",
    "            return res.replace('[', '').replace(']', '').split(', ')\n",
    "            \n",
    "        except Exception as e:\n",
    "            print(f\"Error generating queries: {e}\")\n",
    "            return []\n",
    "\n",
    "    def generate_batch(self, product_descriptions, batch_size: int = 5):\n",
    "        \"\"\"\n",
    "        Generate queries for multiple products efficiently.\n",
    "        Uses batching and includes rate limiting.\n",
    "        \"\"\"\n",
    "        batch_results = []\n",
    "        \n",
    "        # Process in batches\n",
    "        for i in range(0, len(product_descriptions), batch_size):\n",
    "            batch = product_descriptions[i:i + batch_size]\n",
    "            \n",
    "            # Create a single prompt for the batch\n",
    "            batch_prompt = \"Generate queries for each of these products. For each product, start with 'Product X:' where X is the product number:\\n\\n\"\n",
    "            for idx, desc in enumerate(batch, 1):\n",
    "                batch_prompt += f\"Product {idx}: {desc}\\n\\n\"\n",
    "            \n",
    "            try:\n",
    "                response = self.client.chat.completions.create(\n",
    "                    model=\"gpt-3.5-turbo\",\n",
    "                    messages=[\n",
    "                        {\"role\": \"system\", \"content\": self.system_prompt},\n",
    "                        {\"role\": \"user\", \"content\": self.example_prompt},\n",
    "                        {\"role\": \"user\", \"content\": batch_prompt}\n",
    "                    ],\n",
    "                    temperature=0.7,\n",
    "                    max_tokens=50 * len(batch)  # Adjust tokens based on batch size\n",
    "                )\n",
    "                \n",
    "                # Parse the batch response\n",
    "                response_text = response.choices[0].message.content\n",
    "                response_list = re.sub(\"Product \\d: \", \"\", response_text).replace('[', '').replace(']', '').split('\\n')\n",
    "                batch_results.extend([text.split(', ') for text in response_list])\n",
    "                                \n",
    "                # Rate limiting - wait 1 second between batches\n",
    "                if i + batch_size < len(product_descriptions):\n",
    "                    time.sleep(5)\n",
    "                    \n",
    "            except Exception as e:\n",
    "                print(f\"Error processing batch starting at index {i}: {e}\")\n",
    "                continue\n",
    "        \n",
    "        return batch_results"
   ]
  },
  {
   "cell_type": "code",
   "execution_count": 9,
   "id": "d721981d-fe58-4fbf-aeca-759ec5f7495f",
   "metadata": {},
   "outputs": [],
   "source": [
    "generator = QueryGenerator(openai_api_key)"
   ]
  },
  {
   "cell_type": "code",
   "execution_count": 10,
   "id": "18a45845-fe3e-4c3f-ae73-0648bde1a808",
   "metadata": {},
   "outputs": [
    {
     "data": {
      "text/plain": [
       "(340,)"
      ]
     },
     "execution_count": 10,
     "metadata": {},
     "output_type": "execute_result"
    }
   ],
   "source": [
    "# Number of products for which we are generating queries\n",
    "product_samples['description'].shape"
   ]
  },
  {
   "cell_type": "code",
   "execution_count": 11,
   "id": "d02d5bb8-9bd3-490e-afdd-fc30c19244fa",
   "metadata": {},
   "outputs": [],
   "source": [
    "# Create example queries for all descriptions\n",
    "results = generator.generate_batch(product_samples['description'])"
   ]
  },
  {
   "cell_type": "code",
   "execution_count": 12,
   "id": "527427e4-896e-4078-aa13-b743efedede5",
   "metadata": {},
   "outputs": [
    {
     "data": {
      "text/plain": [
       "420"
      ]
     },
     "execution_count": 12,
     "metadata": {},
     "output_type": "execute_result"
    }
   ],
   "source": [
    "len(results)"
   ]
  },
  {
   "cell_type": "markdown",
   "id": "db7cf7bd-348a-4494-887d-e89a0497bdb2",
   "metadata": {},
   "source": [
    "We have more results than products, so let's go ahead and parse through the results so that we correctly extract the right information."
   ]
  },
  {
   "cell_type": "code",
   "execution_count": 14,
   "id": "8daf257b-8980-4aca-919c-9766833f2294",
   "metadata": {},
   "outputs": [
    {
     "data": {
      "text/plain": [
       "[[''],\n",
       " [''],\n",
       " [''],\n",
       " [''],\n",
       " [''],\n",
       " [''],\n",
       " [''],\n",
       " [''],\n",
       " [''],\n",
       " [''],\n",
       " [''],\n",
       " [''],\n",
       " [''],\n",
       " [''],\n",
       " [''],\n",
       " [''],\n",
       " [''],\n",
       " [''],\n",
       " [''],\n",
       " [''],\n",
       " [''],\n",
       " [''],\n",
       " [''],\n",
       " [''],\n",
       " [''],\n",
       " [''],\n",
       " [''],\n",
       " [''],\n",
       " [''],\n",
       " [''],\n",
       " [''],\n",
       " [''],\n",
       " [''],\n",
       " [''],\n",
       " [''],\n",
       " [''],\n",
       " [''],\n",
       " [''],\n",
       " [''],\n",
       " [''],\n",
       " [''],\n",
       " [''],\n",
       " [''],\n",
       " [''],\n",
       " [''],\n",
       " [''],\n",
       " [''],\n",
       " [''],\n",
       " [''],\n",
       " [''],\n",
       " [''],\n",
       " [''],\n",
       " [''],\n",
       " [''],\n",
       " [''],\n",
       " [''],\n",
       " [''],\n",
       " [''],\n",
       " [''],\n",
       " [''],\n",
       " [''],\n",
       " [''],\n",
       " [''],\n",
       " [''],\n",
       " [''],\n",
       " [''],\n",
       " [''],\n",
       " [''],\n",
       " [''],\n",
       " [''],\n",
       " [''],\n",
       " ['']]"
      ]
     },
     "execution_count": 14,
     "metadata": {},
     "output_type": "execute_result"
    }
   ],
   "source": [
    "[result for result in results if len(result[0]) <= 0]"
   ]
  },
  {
   "cell_type": "markdown",
   "id": "c7af9875-8683-4c85-90bf-ded4183736a6",
   "metadata": {},
   "source": [
    "The above results are just empty strings, so we can filter them out"
   ]
  },
  {
   "cell_type": "code",
   "execution_count": 15,
   "id": "f691b77b-b616-4851-8e4f-a058a6949bac",
   "metadata": {},
   "outputs": [
    {
     "data": {
      "text/plain": [
       "348"
      ]
     },
     "execution_count": 15,
     "metadata": {},
     "output_type": "execute_result"
    }
   ],
   "source": [
    "cleaned_results = [result for result in results if len(result[0]) > 0]\n",
    "len(cleaned_results)"
   ]
  },
  {
   "cell_type": "markdown",
   "id": "42ff5d3a-1eef-4b02-9299-515de05e8b6b",
   "metadata": {},
   "source": [
    "We now only have one more result than we need."
   ]
  },
  {
   "cell_type": "code",
   "execution_count": 16,
   "id": "5fd486ca-3356-4127-8176-53e91e2246da",
   "metadata": {},
   "outputs": [
    {
     "data": {
      "text/plain": [
       "array([1, 5])"
      ]
     },
     "execution_count": 16,
     "metadata": {},
     "output_type": "execute_result"
    }
   ],
   "source": [
    "np.unique([len(result) for result in cleaned_results])"
   ]
  },
  {
   "cell_type": "markdown",
   "id": "45c63211-7f17-4b92-9712-72fe6773f788",
   "metadata": {},
   "source": [
    "It looks like we have a variable number of queries in some of the results. Let's examine each of the results that don't have the desired number of queries (5)."
   ]
  },
  {
   "cell_type": "code",
   "execution_count": null,
   "id": "90fcfcd1-316f-4dea-aadd-a98611d4023f",
   "metadata": {},
   "outputs": [
    {
     "data": {
      "text/plain": [
       "[11, 13, 15, 17, 250, 252, 254, 256]"
      ]
     },
     "execution_count": 17,
     "metadata": {},
     "output_type": "execute_result"
    }
   ],
   "source": [
    "# Indices of results that don't have 5 queries\n",
    "inspect_index = [i for i in range(len(cleaned_results)) if len(cleaned_results[i]) != 5]\n",
    "inspect_index"
   ]
  },
  {
   "cell_type": "code",
   "execution_count": 18,
   "id": "761dde27-eb7a-48a0-87b5-377820d5e2fd",
   "metadata": {
    "scrolled": true
   },
   "outputs": [
    {
     "data": {
      "text/plain": [
       "[['        '],\n",
       " ['        '],\n",
       " ['        '],\n",
       " ['        '],\n",
       " ['        '],\n",
       " ['        '],\n",
       " ['        '],\n",
       " ['        ']]"
      ]
     },
     "execution_count": 18,
     "metadata": {},
     "output_type": "execute_result"
    }
   ],
   "source": [
    "[cleaned_results[i] for i in inspect_index]"
   ]
  },
  {
   "cell_type": "code",
   "execution_count": 23,
   "id": "1f9df056-6eab-48ff-85c6-519a7416df52",
   "metadata": {},
   "outputs": [
    {
     "name": "stdout",
     "output_type": "stream",
     "text": [
      "['warm eyeshadow palette', 'fruity scented eye shadow', 'enchanting eye makeup', 'eye shadow with coral tones', 'step by step eye makeup guide']\n",
      "['charcoal face mask set', 'hydrating sheet masks', 'glowy skin face mask', 'dermatologist approved facial masks', 'sheet mask set with essential oils']\n",
      "['satin scrunchies set', 'colorful hair ties', 'gentle hair accessories', 'trendy ponytail holders', 'satin hairbands variety pack']\n",
      "['fashionable fake nails set', 'salon comparable false nails', 'eco-friendly press on nails', 'reusable square nails', 'easy application nail art']\n",
      "['volumizing tubing mascara', 'Kevyn Aucoin mascara', 'mascara for defined lashes', 'tubing mascara with jojoba oil', 'smudge-resistant lash lengthener']\n",
      "['boar bristle hair brush', 'detangling hair brush', 'vented hair brush for blow drying', 'oversized curved hair brush', 'hair brush for all hair types']\n",
      "['self-adhesive eyelashes', 'eyelashes without glue', 'natural looking lashes', 'reusable self-adhesive lashes', 'easy to apply eyelashes']\n",
      "['premium Japanese tattoo inks', 'vegan-friendly tattoo inks', 'bright color tattoo inks', 'Kuro Sumi tattoo ink set', 'tattoo inks made in the USA']\n",
      "['USDA certified organic lip balm', 'long-lasting hydrating lip balm', 'nourishing lip balm for chapped lips', 'organic lip balm for the whole family', 'cruelty-free lip balm']\n",
      "['pure grapeseed oil for skin', 'grapeseed oil for hair', 'light moisturizing oil', 'grapeseed oil for all skin types', 'GMP quality grapeseed oil']\n",
      "['organic castor oil', 'natural moisturizer for hair', 'all skin types oil', 'spot treatment for skin', 'castor oil exfoliant']\n",
      "['        ']\n",
      "['SJP fragrance collection', 'NYC inspired perfume', 'fashion fragrance by SJP', 'Lovely perfume by Sarah Jessica Parker', 'SJP perfume bestseller']\n",
      "['        ']\n",
      "['ZealSea face mask', 'hydrating facial sheet', 'skin care gift set', 'cotton mask cloth', 'essence sheet mask']\n",
      "['        ']\n",
      "['false acrylic nails', 'press-on nails set', 'nail art practice kit', 'fake nails with glue', 'charming nail designs']\n",
      "['        ']\n",
      "['underarm sweat pads', 'sweat stain prevention', 'disposable sweat shields', 'hypoallergenic underarm pads', 'rash-free sweat guards']\n",
      "['hair claw clips', '10 pack hair clips', 'hair accessories for women', 'hair clip for thin hair', 'colorful hair claws']\n"
     ]
    }
   ],
   "source": [
    "for i in range(20):\n",
    "    print(cleaned_results[i])"
   ]
  },
  {
   "cell_type": "markdown",
   "id": "fb99cbc8-d38c-4566-b7cc-5b3b6310242b",
   "metadata": {},
   "source": [
    "All the values in inspect_index are missing? Hence I'll remove them"
   ]
  },
  {
   "cell_type": "code",
   "execution_count": 24,
   "id": "018a70b1",
   "metadata": {},
   "outputs": [],
   "source": [
    "cleaned_results_filtered = [item for i, item in enumerate(cleaned_results) if i not in inspect_index]"
   ]
  },
  {
   "cell_type": "code",
   "execution_count": 25,
   "id": "fec85681-9a5c-4b90-947f-bbd102443ed1",
   "metadata": {},
   "outputs": [
    {
     "name": "stdout",
     "output_type": "stream",
     "text": [
      "Number of results: 340\n",
      "Number of queries per result: [5]\n"
     ]
    }
   ],
   "source": [
    "print(f\"Number of results: {len(cleaned_results_filtered)}\")\n",
    "print(f\"Number of queries per result: {np.unique([len(result) for result in cleaned_results_filtered])}\")"
   ]
  },
  {
   "cell_type": "code",
   "execution_count": 26,
   "id": "54ac8b47-1b01-49c3-bae3-41d27ed10b4c",
   "metadata": {},
   "outputs": [],
   "source": [
    "# Add queries to original products\n",
    "product_samples.loc[:, ['query_1', 'query_2', 'query_3', 'query_4', 'query_5']] = cleaned_results_filtered"
   ]
  },
  {
   "cell_type": "code",
   "execution_count": 27,
   "id": "7ac00e4e-b103-4dd7-b5f5-cf74f77b6da1",
   "metadata": {},
   "outputs": [
    {
     "data": {
      "text/html": [
       "<div>\n",
       "<style scoped>\n",
       "    .dataframe tbody tr th:only-of-type {\n",
       "        vertical-align: middle;\n",
       "    }\n",
       "\n",
       "    .dataframe tbody tr th {\n",
       "        vertical-align: top;\n",
       "    }\n",
       "\n",
       "    .dataframe thead th {\n",
       "        text-align: right;\n",
       "    }\n",
       "</style>\n",
       "<table border=\"1\" class=\"dataframe\">\n",
       "  <thead>\n",
       "    <tr style=\"text-align: right;\">\n",
       "      <th></th>\n",
       "      <th>id</th>\n",
       "      <th>title</th>\n",
       "      <th>description</th>\n",
       "      <th>label</th>\n",
       "      <th>query_1</th>\n",
       "      <th>query_2</th>\n",
       "      <th>query_3</th>\n",
       "      <th>query_4</th>\n",
       "      <th>query_5</th>\n",
       "    </tr>\n",
       "  </thead>\n",
       "  <tbody>\n",
       "    <tr>\n",
       "      <th>0</th>\n",
       "      <td>B0C523T7C5</td>\n",
       "      <td>L’Oréal Paris Paradise Enchanted Scented Eyesh...</td>\n",
       "      <td>LOreal Paris presents the Paradise Enchanted E...</td>\n",
       "      <td>49</td>\n",
       "      <td>warm eyeshadow palette</td>\n",
       "      <td>fruity scented eye shadow</td>\n",
       "      <td>enchanting eye makeup</td>\n",
       "      <td>eye shadow with coral tones</td>\n",
       "      <td>step by step eye makeup guide</td>\n",
       "    </tr>\n",
       "    <tr>\n",
       "      <th>1</th>\n",
       "      <td>B07939KVKK</td>\n",
       "      <td>Viva Naturals Charcoal Face Mask Set (8 Pack) ...</td>\n",
       "      <td>Take your skin care routine to the next level ...</td>\n",
       "      <td>45</td>\n",
       "      <td>charcoal face mask set</td>\n",
       "      <td>hydrating sheet masks</td>\n",
       "      <td>glowy skin face mask</td>\n",
       "      <td>dermatologist approved facial masks</td>\n",
       "      <td>sheet mask set with essential oils</td>\n",
       "    </tr>\n",
       "    <tr>\n",
       "      <th>2</th>\n",
       "      <td>B08ZDDGBDP</td>\n",
       "      <td>9 Pcs Satin Hair Scrunchies Soft Elastic Hair ...</td>\n",
       "      <td>Product Information Material satin Size4 in Co...</td>\n",
       "      <td>56</td>\n",
       "      <td>satin scrunchies set</td>\n",
       "      <td>colorful hair ties</td>\n",
       "      <td>gentle hair accessories</td>\n",
       "      <td>trendy ponytail holders</td>\n",
       "      <td>satin hairbands variety pack</td>\n",
       "    </tr>\n",
       "    <tr>\n",
       "      <th>3</th>\n",
       "      <td>B09577STQ1</td>\n",
       "      <td>RikView Press on Nails Short French Tip Nails ...</td>\n",
       "      <td>RikView We focus on the design and sales of fa...</td>\n",
       "      <td>15</td>\n",
       "      <td>fashionable fake nails set</td>\n",
       "      <td>salon comparable false nails</td>\n",
       "      <td>eco-friendly press on nails</td>\n",
       "      <td>reusable square nails</td>\n",
       "      <td>easy application nail art</td>\n",
       "    </tr>\n",
       "    <tr>\n",
       "      <th>4</th>\n",
       "      <td>B007GMTJRK</td>\n",
       "      <td>Kevyn Aucoin The Volume Mascara, Black: Precis...</td>\n",
       "      <td>Kevyn Aucoin The Volume Mascara Black A volume...</td>\n",
       "      <td>36</td>\n",
       "      <td>volumizing tubing mascara</td>\n",
       "      <td>Kevyn Aucoin mascara</td>\n",
       "      <td>mascara for defined lashes</td>\n",
       "      <td>tubing mascara with jojoba oil</td>\n",
       "      <td>smudge-resistant lash lengthener</td>\n",
       "    </tr>\n",
       "  </tbody>\n",
       "</table>\n",
       "</div>"
      ],
      "text/plain": [
       "           id                                              title  \\\n",
       "0  B0C523T7C5  L’Oréal Paris Paradise Enchanted Scented Eyesh...   \n",
       "1  B07939KVKK  Viva Naturals Charcoal Face Mask Set (8 Pack) ...   \n",
       "2  B08ZDDGBDP  9 Pcs Satin Hair Scrunchies Soft Elastic Hair ...   \n",
       "3  B09577STQ1  RikView Press on Nails Short French Tip Nails ...   \n",
       "4  B007GMTJRK  Kevyn Aucoin The Volume Mascara, Black: Precis...   \n",
       "\n",
       "                                         description  label  \\\n",
       "0  LOreal Paris presents the Paradise Enchanted E...     49   \n",
       "1  Take your skin care routine to the next level ...     45   \n",
       "2  Product Information Material satin Size4 in Co...     56   \n",
       "3  RikView We focus on the design and sales of fa...     15   \n",
       "4  Kevyn Aucoin The Volume Mascara Black A volume...     36   \n",
       "\n",
       "                      query_1                       query_2  \\\n",
       "0      warm eyeshadow palette     fruity scented eye shadow   \n",
       "1      charcoal face mask set         hydrating sheet masks   \n",
       "2        satin scrunchies set            colorful hair ties   \n",
       "3  fashionable fake nails set  salon comparable false nails   \n",
       "4   volumizing tubing mascara          Kevyn Aucoin mascara   \n",
       "\n",
       "                       query_3                              query_4  \\\n",
       "0        enchanting eye makeup          eye shadow with coral tones   \n",
       "1         glowy skin face mask  dermatologist approved facial masks   \n",
       "2      gentle hair accessories              trendy ponytail holders   \n",
       "3  eco-friendly press on nails                reusable square nails   \n",
       "4   mascara for defined lashes       tubing mascara with jojoba oil   \n",
       "\n",
       "                              query_5  \n",
       "0       step by step eye makeup guide  \n",
       "1  sheet mask set with essential oils  \n",
       "2        satin hairbands variety pack  \n",
       "3           easy application nail art  \n",
       "4    smudge-resistant lash lengthener  "
      ]
     },
     "execution_count": 27,
     "metadata": {},
     "output_type": "execute_result"
    }
   ],
   "source": [
    "product_samples.head()"
   ]
  },
  {
   "cell_type": "code",
   "execution_count": 28,
   "id": "d0bcfbe3-31b8-46ee-b048-ec564b71e605",
   "metadata": {},
   "outputs": [],
   "source": [
    "product_samples.to_csv('C:/Users/benja/Desktop/Improving_Mp_Search/beauty_products_with_sample_queries.csv', index=False)"
   ]
  }
 ],
 "metadata": {
  "kernelspec": {
   "display_name": "Python 3",
   "language": "python",
   "name": "python3"
  },
  "language_info": {
   "codemirror_mode": {
    "name": "ipython",
    "version": 3
   },
   "file_extension": ".py",
   "mimetype": "text/x-python",
   "name": "python",
   "nbconvert_exporter": "python",
   "pygments_lexer": "ipython3",
   "version": "3.12.6"
  }
 },
 "nbformat": 4,
 "nbformat_minor": 5
}
