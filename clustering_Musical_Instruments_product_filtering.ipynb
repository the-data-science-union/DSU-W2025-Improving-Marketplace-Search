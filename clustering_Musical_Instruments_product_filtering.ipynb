{
  "nbformat": 4,
  "nbformat_minor": 0,
  "metadata": {
    "colab": {
      "provenance": []
    },
    "kernelspec": {
      "name": "python3",
      "display_name": "Python 3"
    },
    "language_info": {
      "name": "python"
    }
  },
  "cells": [
    {
      "cell_type": "code",
      "execution_count": 20,
      "metadata": {
        "colab": {
          "base_uri": "https://localhost:8080/"
        },
        "id": "YQ6kbRGy9-ky",
        "outputId": "438a0b6c-b4d9-4ee2-ea35-961e25c1636c"
      },
      "outputs": [
        {
          "output_type": "stream",
          "name": "stdout",
          "text": [
            "Requirement already satisfied: UMAP in /usr/local/lib/python3.11/dist-packages (0.1.1)\n",
            "Requirement already satisfied: BERTopic in /usr/local/lib/python3.11/dist-packages (0.16.4)\n",
            "Requirement already satisfied: hdbscan>=0.8.29 in /usr/local/lib/python3.11/dist-packages (from BERTopic) (0.8.40)\n",
            "Requirement already satisfied: numpy>=1.20.0 in /usr/local/lib/python3.11/dist-packages (from BERTopic) (1.26.4)\n",
            "Requirement already satisfied: pandas>=1.1.5 in /usr/local/lib/python3.11/dist-packages (from BERTopic) (2.2.2)\n",
            "Requirement already satisfied: plotly>=4.7.0 in /usr/local/lib/python3.11/dist-packages (from BERTopic) (5.24.1)\n",
            "Requirement already satisfied: scikit-learn>=0.22.2.post1 in /usr/local/lib/python3.11/dist-packages (from BERTopic) (1.6.1)\n",
            "Requirement already satisfied: sentence-transformers>=0.4.1 in /usr/local/lib/python3.11/dist-packages (from BERTopic) (3.4.1)\n",
            "Requirement already satisfied: tqdm>=4.41.1 in /usr/local/lib/python3.11/dist-packages (from BERTopic) (4.67.1)\n",
            "Requirement already satisfied: umap-learn>=0.5.0 in /usr/local/lib/python3.11/dist-packages (from BERTopic) (0.5.7)\n",
            "Requirement already satisfied: scipy>=1.0 in /usr/local/lib/python3.11/dist-packages (from hdbscan>=0.8.29->BERTopic) (1.13.1)\n",
            "Requirement already satisfied: joblib>=1.0 in /usr/local/lib/python3.11/dist-packages (from hdbscan>=0.8.29->BERTopic) (1.4.2)\n",
            "Requirement already satisfied: python-dateutil>=2.8.2 in /usr/local/lib/python3.11/dist-packages (from pandas>=1.1.5->BERTopic) (2.8.2)\n",
            "Requirement already satisfied: pytz>=2020.1 in /usr/local/lib/python3.11/dist-packages (from pandas>=1.1.5->BERTopic) (2025.1)\n",
            "Requirement already satisfied: tzdata>=2022.7 in /usr/local/lib/python3.11/dist-packages (from pandas>=1.1.5->BERTopic) (2025.1)\n",
            "Requirement already satisfied: tenacity>=6.2.0 in /usr/local/lib/python3.11/dist-packages (from plotly>=4.7.0->BERTopic) (9.0.0)\n",
            "Requirement already satisfied: packaging in /usr/local/lib/python3.11/dist-packages (from plotly>=4.7.0->BERTopic) (24.2)\n",
            "Requirement already satisfied: threadpoolctl>=3.1.0 in /usr/local/lib/python3.11/dist-packages (from scikit-learn>=0.22.2.post1->BERTopic) (3.5.0)\n",
            "Requirement already satisfied: transformers<5.0.0,>=4.41.0 in /usr/local/lib/python3.11/dist-packages (from sentence-transformers>=0.4.1->BERTopic) (4.48.2)\n",
            "Requirement already satisfied: torch>=1.11.0 in /usr/local/lib/python3.11/dist-packages (from sentence-transformers>=0.4.1->BERTopic) (2.5.1+cu124)\n",
            "Requirement already satisfied: huggingface-hub>=0.20.0 in /usr/local/lib/python3.11/dist-packages (from sentence-transformers>=0.4.1->BERTopic) (0.28.1)\n",
            "Requirement already satisfied: Pillow in /usr/local/lib/python3.11/dist-packages (from sentence-transformers>=0.4.1->BERTopic) (11.1.0)\n",
            "Requirement already satisfied: numba>=0.51.2 in /usr/local/lib/python3.11/dist-packages (from umap-learn>=0.5.0->BERTopic) (0.61.0)\n",
            "Requirement already satisfied: pynndescent>=0.5 in /usr/local/lib/python3.11/dist-packages (from umap-learn>=0.5.0->BERTopic) (0.5.13)\n",
            "Requirement already satisfied: filelock in /usr/local/lib/python3.11/dist-packages (from huggingface-hub>=0.20.0->sentence-transformers>=0.4.1->BERTopic) (3.17.0)\n",
            "Requirement already satisfied: fsspec>=2023.5.0 in /usr/local/lib/python3.11/dist-packages (from huggingface-hub>=0.20.0->sentence-transformers>=0.4.1->BERTopic) (2024.10.0)\n",
            "Requirement already satisfied: pyyaml>=5.1 in /usr/local/lib/python3.11/dist-packages (from huggingface-hub>=0.20.0->sentence-transformers>=0.4.1->BERTopic) (6.0.2)\n",
            "Requirement already satisfied: requests in /usr/local/lib/python3.11/dist-packages (from huggingface-hub>=0.20.0->sentence-transformers>=0.4.1->BERTopic) (2.32.3)\n",
            "Requirement already satisfied: typing-extensions>=3.7.4.3 in /usr/local/lib/python3.11/dist-packages (from huggingface-hub>=0.20.0->sentence-transformers>=0.4.1->BERTopic) (4.12.2)\n",
            "Requirement already satisfied: llvmlite<0.45,>=0.44.0dev0 in /usr/local/lib/python3.11/dist-packages (from numba>=0.51.2->umap-learn>=0.5.0->BERTopic) (0.44.0)\n",
            "Requirement already satisfied: six>=1.5 in /usr/local/lib/python3.11/dist-packages (from python-dateutil>=2.8.2->pandas>=1.1.5->BERTopic) (1.17.0)\n",
            "Requirement already satisfied: networkx in /usr/local/lib/python3.11/dist-packages (from torch>=1.11.0->sentence-transformers>=0.4.1->BERTopic) (3.4.2)\n",
            "Requirement already satisfied: jinja2 in /usr/local/lib/python3.11/dist-packages (from torch>=1.11.0->sentence-transformers>=0.4.1->BERTopic) (3.1.5)\n",
            "Requirement already satisfied: nvidia-cuda-nvrtc-cu12==12.4.127 in /usr/local/lib/python3.11/dist-packages (from torch>=1.11.0->sentence-transformers>=0.4.1->BERTopic) (12.4.127)\n",
            "Requirement already satisfied: nvidia-cuda-runtime-cu12==12.4.127 in /usr/local/lib/python3.11/dist-packages (from torch>=1.11.0->sentence-transformers>=0.4.1->BERTopic) (12.4.127)\n",
            "Requirement already satisfied: nvidia-cuda-cupti-cu12==12.4.127 in /usr/local/lib/python3.11/dist-packages (from torch>=1.11.0->sentence-transformers>=0.4.1->BERTopic) (12.4.127)\n",
            "Requirement already satisfied: nvidia-cudnn-cu12==9.1.0.70 in /usr/local/lib/python3.11/dist-packages (from torch>=1.11.0->sentence-transformers>=0.4.1->BERTopic) (9.1.0.70)\n",
            "Requirement already satisfied: nvidia-cublas-cu12==12.4.5.8 in /usr/local/lib/python3.11/dist-packages (from torch>=1.11.0->sentence-transformers>=0.4.1->BERTopic) (12.4.5.8)\n",
            "Requirement already satisfied: nvidia-cufft-cu12==11.2.1.3 in /usr/local/lib/python3.11/dist-packages (from torch>=1.11.0->sentence-transformers>=0.4.1->BERTopic) (11.2.1.3)\n",
            "Requirement already satisfied: nvidia-curand-cu12==10.3.5.147 in /usr/local/lib/python3.11/dist-packages (from torch>=1.11.0->sentence-transformers>=0.4.1->BERTopic) (10.3.5.147)\n",
            "Requirement already satisfied: nvidia-cusolver-cu12==11.6.1.9 in /usr/local/lib/python3.11/dist-packages (from torch>=1.11.0->sentence-transformers>=0.4.1->BERTopic) (11.6.1.9)\n",
            "Requirement already satisfied: nvidia-cusparse-cu12==12.3.1.170 in /usr/local/lib/python3.11/dist-packages (from torch>=1.11.0->sentence-transformers>=0.4.1->BERTopic) (12.3.1.170)\n",
            "Requirement already satisfied: nvidia-nccl-cu12==2.21.5 in /usr/local/lib/python3.11/dist-packages (from torch>=1.11.0->sentence-transformers>=0.4.1->BERTopic) (2.21.5)\n",
            "Requirement already satisfied: nvidia-nvtx-cu12==12.4.127 in /usr/local/lib/python3.11/dist-packages (from torch>=1.11.0->sentence-transformers>=0.4.1->BERTopic) (12.4.127)\n",
            "Requirement already satisfied: nvidia-nvjitlink-cu12==12.4.127 in /usr/local/lib/python3.11/dist-packages (from torch>=1.11.0->sentence-transformers>=0.4.1->BERTopic) (12.4.127)\n",
            "Requirement already satisfied: triton==3.1.0 in /usr/local/lib/python3.11/dist-packages (from torch>=1.11.0->sentence-transformers>=0.4.1->BERTopic) (3.1.0)\n",
            "Requirement already satisfied: sympy==1.13.1 in /usr/local/lib/python3.11/dist-packages (from torch>=1.11.0->sentence-transformers>=0.4.1->BERTopic) (1.13.1)\n",
            "Requirement already satisfied: mpmath<1.4,>=1.1.0 in /usr/local/lib/python3.11/dist-packages (from sympy==1.13.1->torch>=1.11.0->sentence-transformers>=0.4.1->BERTopic) (1.3.0)\n",
            "Requirement already satisfied: regex!=2019.12.17 in /usr/local/lib/python3.11/dist-packages (from transformers<5.0.0,>=4.41.0->sentence-transformers>=0.4.1->BERTopic) (2024.11.6)\n",
            "Requirement already satisfied: tokenizers<0.22,>=0.21 in /usr/local/lib/python3.11/dist-packages (from transformers<5.0.0,>=4.41.0->sentence-transformers>=0.4.1->BERTopic) (0.21.0)\n",
            "Requirement already satisfied: safetensors>=0.4.1 in /usr/local/lib/python3.11/dist-packages (from transformers<5.0.0,>=4.41.0->sentence-transformers>=0.4.1->BERTopic) (0.5.2)\n",
            "Requirement already satisfied: MarkupSafe>=2.0 in /usr/local/lib/python3.11/dist-packages (from jinja2->torch>=1.11.0->sentence-transformers>=0.4.1->BERTopic) (3.0.2)\n",
            "Requirement already satisfied: charset-normalizer<4,>=2 in /usr/local/lib/python3.11/dist-packages (from requests->huggingface-hub>=0.20.0->sentence-transformers>=0.4.1->BERTopic) (3.4.1)\n",
            "Requirement already satisfied: idna<4,>=2.5 in /usr/local/lib/python3.11/dist-packages (from requests->huggingface-hub>=0.20.0->sentence-transformers>=0.4.1->BERTopic) (3.10)\n",
            "Requirement already satisfied: urllib3<3,>=1.21.1 in /usr/local/lib/python3.11/dist-packages (from requests->huggingface-hub>=0.20.0->sentence-transformers>=0.4.1->BERTopic) (2.3.0)\n",
            "Requirement already satisfied: certifi>=2017.4.17 in /usr/local/lib/python3.11/dist-packages (from requests->huggingface-hub>=0.20.0->sentence-transformers>=0.4.1->BERTopic) (2025.1.31)\n",
            "Drive already mounted at /content/drive; to attempt to forcibly remount, call drive.mount(\"/content/drive\", force_remount=True).\n"
          ]
        }
      ],
      "source": [
        "import numpy as np\n",
        "import pandas as pd\n",
        "import matplotlib.pyplot as plt\n",
        "from sklearn.feature_extraction.text import TfidfVectorizer\n",
        "from sklearn.cluster import KMeans\n",
        "from sentence_transformers import SentenceTransformer\n",
        "!pip install UMAP\n",
        "!pip install BERTopic\n",
        "import re\n",
        "import json\n",
        "from google.colab import drive\n",
        "drive.mount('/content/drive')\n",
        "import os\n",
        "os.chdir('/content/drive/My Drive')"
      ]
    },
    {
      "cell_type": "code",
      "source": [
        "file = 'meta_Musical_Instruments.jsonl.gz'\n",
        "\n",
        "products = []\n",
        "\n",
        "with open(file, 'r') as fp:\n",
        "    for line in fp:\n",
        "        products.append(json.loads(line.strip()))"
      ],
      "metadata": {
        "id": "dvNmBCGf-dvt"
      },
      "execution_count": 21,
      "outputs": []
    },
    {
      "cell_type": "code",
      "source": [
        "# Subset all of the info to only include relevant fields\n",
        "relevant_fields = ['title', 'rating_number', 'features', 'description']\n",
        "products = [{field:product[field] for field in relevant_fields} for product in products]\n",
        "\n",
        "# Combine features and description and remove unusual characters such as emojis.\n",
        "for product in products:\n",
        "    product['combined_description'] = re.sub(r'[^a-zA-Z0-9\\s]', '', ' '.join(product['description'] + product['features'])).strip()"
      ],
      "metadata": {
        "id": "-bZpWBJqAQEJ"
      },
      "execution_count": 22,
      "outputs": []
    },
    {
      "cell_type": "code",
      "source": [
        "num_ratings = []\n",
        "\n",
        "for product in products:\n",
        "    num_ratings.append(product['rating_number'])\n",
        "\n",
        "num_ratings = np.array(num_ratings)"
      ],
      "metadata": {
        "id": "cyicjbEJAULY"
      },
      "execution_count": 23,
      "outputs": []
    },
    {
      "cell_type": "code",
      "source": [
        "plt.hist(num_ratings, bins=10)\n",
        "plt.title('Distribution of Product Number of Ratings')\n",
        "plt.xlabel('Number of Ratings')\n",
        "plt.ylabel('Frequency')\n",
        "plt.show()"
      ],
      "metadata": {
        "colab": {
          "base_uri": "https://localhost:8080/",
          "height": 472
        },
        "id": "jEHE5om2AWWc",
        "outputId": "ea67095c-7c32-4330-8eb9-903b9d496100"
      },
      "execution_count": 24,
      "outputs": [
        {
          "output_type": "display_data",
          "data": {
            "text/plain": [
              "<Figure size 640x480 with 1 Axes>"
            ],
            "image/png": "[encoded data removed]"
          },
          "metadata": {}
        }
      ]
    },
    {
      "cell_type": "code",
      "source": [
        "# Top 2000 products by number of ratings have at least this many\n",
        "sorted(num_ratings)[-20000]"
      ],
      "metadata": {
        "colab": {
          "base_uri": "https://localhost:8080/"
        },
        "id": "dEOgA-DgAz3A",
        "outputId": "5f59b48f-78fd-4807-fc06-2afa79831e58"
      },
      "execution_count": 25,
      "outputs": [
        {
          "output_type": "execute_result",
          "data": {
            "text/plain": [
              "134"
            ]
          },
          "metadata": {},
          "execution_count": 25
        }
      ]
    },
    {
      "cell_type": "code",
      "source": [
        "plt.hist(num_ratings[num_ratings < 1400], bins=100)\n",
        "plt.title('Distribution of Product Number of Ratings (< 1400 Ratings)')\n",
        "plt.xlabel('Number of Ratings')\n",
        "plt.ylabel('Frequency')\n",
        "plt.show()"
      ],
      "metadata": {
        "colab": {
          "base_uri": "https://localhost:8080/",
          "height": 472
        },
        "id": "nf0bO4KgA22a",
        "outputId": "81dfba31-78c2-4915-9f4a-87da46294af9"
      },
      "execution_count": 26,
      "outputs": [
        {
          "output_type": "display_data",
          "data": {
            "text/plain": [
              "<Figure size 640x480 with 1 Axes>"
            ],
            "image/png": "[encoded data removed]"
          },
          "metadata": {}
        }
      ]
    },
    {
      "cell_type": "code",
      "source": [
        "ratings_threshold = 50\n",
        "filtered_products = [product for product in products if product['rating_number'] > ratings_threshold]\n",
        "\n",
        "print(f\"There are now {len(filtered_products)} remaining products.\")\n",
        "lengths = []\n",
        "has_features = 0"
      ],
      "metadata": {
        "colab": {
          "base_uri": "https://localhost:8080/"
        },
        "id": "CHjXlX0CDNKk",
        "outputId": "fa7b8dc7-e7b8-4a38-e879-f0d49fa416f0"
      },
      "execution_count": 27,
      "outputs": [
        {
          "output_type": "stream",
          "name": "stdout",
          "text": [
            "There are now 40931 remaining products.\n"
          ]
        }
      ]
    },
    {
      "cell_type": "code",
      "source": [
        "lengths = []\n",
        "has_features = 0\n",
        "has_description = 0\n",
        "\n",
        "for product in filtered_products:\n",
        "    lengths.append(len(product['combined_description']))\n",
        "    if len(product['features']) > 0:\n",
        "        has_features += 1\n",
        "\n",
        "    if len(product['description']) > 0:\n",
        "        has_description += 1\n",
        "\n",
        "lengths = np.array(lengths)"
      ],
      "metadata": {
        "id": "GyVKQONFDpbX"
      },
      "execution_count": 28,
      "outputs": []
    },
    {
      "cell_type": "code",
      "source": [
        "print(f\"Proportion of products with features: {has_features / len(filtered_products) * 100}\")\n",
        "print(f\"Proportion of products with descriptions: {has_description / len(filtered_products) * 100}\")"
      ],
      "metadata": {
        "colab": {
          "base_uri": "https://localhost:8080/"
        },
        "id": "v4jdIrO9Drff",
        "outputId": "e03851e8-8e4b-4805-e17e-a89927139624"
      },
      "execution_count": 29,
      "outputs": [
        {
          "output_type": "stream",
          "name": "stdout",
          "text": [
            "Proportion of products with features: 92.25770198626958\n",
            "Proportion of products with descriptions: 64.21783000659647\n"
          ]
        }
      ]
    },
    {
      "cell_type": "code",
      "source": [
        "plt.hist(lengths, bins=100)\n",
        "plt.title('Distribution of Product Description and Features Length')\n",
        "plt.xlabel('Character Count')\n",
        "plt.ylabel('Frequency')\n",
        "plt.show()"
      ],
      "metadata": {
        "colab": {
          "base_uri": "https://localhost:8080/",
          "height": 472
        },
        "id": "mfYMlwyYD4uS",
        "outputId": "064e22f4-3d90-4a05-aef9-1d5f35fbc591"
      },
      "execution_count": 30,
      "outputs": [
        {
          "output_type": "display_data",
          "data": {
            "text/plain": [
              "<Figure size 640x480 with 1 Axes>"
            ],
            "image/png": "[encoded data removed]"
          },
          "metadata": {}
        }
      ]
    },
    {
      "cell_type": "code",
      "source": [
        "description_threshold = 950\n",
        "\n",
        "final_products = [product for product in filtered_products if len(product['combined_description']) > description_threshold]\n",
        "\n",
        "print(f\"There are now {len(final_products)} remaining products.\")"
      ],
      "metadata": {
        "colab": {
          "base_uri": "https://localhost:8080/"
        },
        "id": "d5I7FDshEH1g",
        "outputId": "6063023f-abf0-4655-ddf7-b38462cd5509"
      },
      "execution_count": 31,
      "outputs": [
        {
          "output_type": "stream",
          "name": "stdout",
          "text": [
            "There are now 17935 remaining products.\n"
          ]
        }
      ]
    },
    {
      "cell_type": "code",
      "source": [
        "products_df = pd.DataFrame(final_products)\n",
        "products_df.to_csv('musical_instruments.csv', index=False)"
      ],
      "metadata": {
        "id": "D0VyyboKLo3j"
      },
      "execution_count": 32,
      "outputs": []
    },
    {
      "cell_type": "code",
      "source": [
        "class ProductGroupGenerator:\n",
        "    def __init__(self, min_cluster_size=5, max_clusters=75):\n",
        "        self.sentence_model = SentenceTransformer('all-MiniLM-L6-v2')\n",
        "        self.tfidf = TfidfVectorizer(\n",
        "            max_features=1000,\n",
        "            stop_words='english',\n",
        "            ngram_range=(1, 2)\n",
        "        )\n",
        "        self.min_cluster_size = min_cluster_size\n",
        "        self.max_clusters = max_clusters\n",
        "\n",
        "    def preprocess_text(self, text):\n",
        "        # Convert to lowercase and remove special characters\n",
        "        text = re.sub(r'[^a-zA-Z0-9\\s]', ' ', str(text).lower())\n",
        "        # Remove extra whitespace\n",
        "        text = re.sub(r'\\s+', ' ', text).strip()\n",
        "        return text\n",
        "\n",
        "    def generate_clusters(self, texts, method='combined', n_clusters=None):\n",
        "        \"\"\"\n",
        "        Generate product clusters using different methods\n",
        "\n",
        "        Args:\n",
        "            texts: List of product titles/descriptions\n",
        "            method: One of 'tfidf_kmeans', 'bert_topic', or 'combined'\n",
        "            n_clusters: Optional target number of clusters\n",
        "        \"\"\"\n",
        "        if n_clusters is None:\n",
        "            n_clusters = min(len(texts) // self.min_cluster_size, self.max_clusters)\n",
        "\n",
        "        processed_texts = [self.preprocess_text(text) for text in texts]\n",
        "\n",
        "        if method == 'tfidf_kmeans':\n",
        "            return self._cluster_tfidf_kmeans(processed_texts, n_clusters)\n",
        "        elif method == 'bert_topic':\n",
        "            return self._cluster_bert_topic(processed_texts)\n",
        "        elif method == 'combined':\n",
        "            return self._cluster_combined(processed_texts, n_clusters)\n",
        "        else:\n",
        "            raise ValueError(\"Invalid clustering method\")\n",
        "\n",
        "    def _cluster_tfidf_kmeans(self, texts, n_clusters):\n",
        "        # Transform texts to TF-IDF vectors\n",
        "        tfidf_matrix = self.tfidf.fit_transform(texts)\n",
        "\n",
        "        kmeans = KMeans(n_clusters=n_clusters, random_state=42)\n",
        "        labels = kmeans.fit_predict(tfidf_matrix)\n",
        "\n",
        "        # Get top terms for each cluster\n",
        "        cluster_terms = {}\n",
        "        feature_names = self.tfidf.get_feature_names_out()\n",
        "        for i in range(n_clusters):\n",
        "            center_indices = kmeans.cluster_centers_[i].argsort()[::-1][:5]\n",
        "            cluster_terms[i] = [feature_names[idx] for idx in center_indices]\n",
        "\n",
        "        return labels, cluster_terms\n",
        "\n",
        "    def _cluster_bert_topic(self, texts):\n",
        "        # Create embeddings\n",
        "        embeddings = self.sentence_model.encode(texts)\n",
        "\n",
        "        # Initialize BERTopic\n",
        "        topic_model = BERTopic(\n",
        "            umap_model=UMAP(n_neighbors=15, n_components=5, min_dist=0.0, metric='cosine'),\n",
        "            hdbscan_model=hdbscan.HDBSCAN(\n",
        "                min_cluster_size=self.min_cluster_size,\n",
        "                min_samples=1,\n",
        "                metric='euclidean',\n",
        "                cluster_selection_method='eom'\n",
        "            ),\n",
        "            verbose=True\n",
        "        )\n",
        "\n",
        "        # Fit the model and get topics\n",
        "        labels, _ = topic_model.fit_transform(texts, embeddings)\n",
        "\n",
        "        # Get topic terms\n",
        "        topic_terms = {}\n",
        "        for topic_idx, words in topic_model.get_topics().items():\n",
        "            topic_terms[topic_idx] = [word[0] for word in words[:5]]\n",
        "\n",
        "        return labels, topic_terms\n",
        "\n",
        "    def _cluster_combined(self, texts, n_clusters):\n",
        "        # Get clusters from both methods\n",
        "        print(\"CLUSTERING BY KMEANS\")\n",
        "        kmeans_labels, kmeans_terms = self._cluster_tfidf_kmeans(texts, n_clusters)\n",
        "        print(\"CLUSTERING BY BERT\")\n",
        "        bert_labels, bert_terms = self._cluster_bert_topic(texts)\n",
        "\n",
        "        # Create ensemble clustering\n",
        "        # Convert labels to one-hot encoding\n",
        "        def one_hot_encode(labels):\n",
        "            n_unique = len(np.unique(labels))\n",
        "            return np.eye(n_unique)[labels]\n",
        "\n",
        "        kmeans_oh = one_hot_encode(kmeans_labels)\n",
        "        bert_oh = one_hot_encode(bert_labels)\n",
        "\n",
        "        # Concatenate features\n",
        "        combined_features = np.hstack([kmeans_oh, bert_oh])\n",
        "\n",
        "        # Final clustering on combined features\n",
        "        print(\"CREATING FINAL CLUSTERING COMBINATION\")\n",
        "        final_kmeans = KMeans(n_clusters=n_clusters)\n",
        "        final_labels = final_kmeans.fit_predict(combined_features)\n",
        "\n",
        "        # Combine terms from both methods for final clusters\n",
        "        final_terms = {}\n",
        "        for i in range(n_clusters):\n",
        "            terms_set = set()\n",
        "            terms_set.update(kmeans_terms.get(i, []))\n",
        "            terms_set.update(bert_terms.get(i, []))\n",
        "            final_terms[i] = list(terms_set)[:5]\n",
        "\n",
        "        return final_labels, final_terms\n",
        "\n",
        "    def analyze_clusters(self, texts, labels, cluster_terms):\n",
        "        \"\"\"\n",
        "        Analyze cluster quality and characteristics\n",
        "        \"\"\"\n",
        "        cluster_stats = {}\n",
        "        unique_labels = np.unique(labels)\n",
        "\n",
        "        for label in unique_labels:\n",
        "            cluster_texts = [texts[i] for i in range(len(texts)) if labels[i] == label]\n",
        "            cluster_stats[label] = {\n",
        "                'size': len(cluster_texts),\n",
        "                'terms': cluster_terms.get(label, []),\n",
        "                'sample_products': cluster_texts[:3]  # Show 3 example products\n",
        "            }\n",
        "\n",
        "        return cluster_stats"
      ],
      "metadata": {
        "id": "ga68bsqSDC8Y"
      },
      "execution_count": 33,
      "outputs": []
    },
    {
      "cell_type": "code",
      "source": [
        "# Prepare your data\n",
        "products_df = pd.read_csv('musical_instruments.csv')\n",
        "texts = products_df['title'] + ' ' + products_df['description']"
      ],
      "metadata": {
        "id": "6WIPn26zMDpC"
      },
      "execution_count": 34,
      "outputs": []
    },
    {
      "cell_type": "code",
      "source": [
        "# Initialize clustering class\n",
        "generator = ProductGroupGenerator(min_cluster_size=75, max_clusters = 150)"
      ],
      "metadata": {
        "id": "Oq4ENlFTMQwY"
      },
      "execution_count": 19,
      "outputs": []
    },
    {
      "cell_type": "code",
      "source": [
        "from bertopic import BERTopic\n",
        "import hdbscan\n",
        "from umap import UMAP"
      ],
      "metadata": {
        "id": "GAwtmO_jAe1j"
      },
      "execution_count": 36,
      "outputs": []
    },
    {
      "cell_type": "code",
      "source": [
        "# Run clustering\n",
        "labels, cluster_terms = generator.generate_clusters(texts, method='combined')"
      ],
      "metadata": {
        "colab": {
          "base_uri": "https://localhost:8080/"
        },
        "id": "EZfvFV_gMkMY",
        "outputId": "ff3e1b4b-dd26-4805-ae81-caea7c086a88"
      },
      "execution_count": 37,
      "outputs": [
        {
          "output_type": "stream",
          "name": "stdout",
          "text": [
            "CLUSTERING BY KMEANS\n",
            "CLUSTERING BY BERT\n"
          ]
        },
        {
          "output_type": "stream",
          "name": "stderr",
          "text": [
            "2025-02-08 19:47:38,744 - BERTopic - Dimensionality - Fitting the dimensionality reduction algorithm\n",
            "2025-02-08 19:48:26,357 - BERTopic - Dimensionality - Completed ✓\n",
            "2025-02-08 19:48:26,360 - BERTopic - Cluster - Start clustering the reduced embeddings\n",
            "2025-02-08 19:48:35,448 - BERTopic - Cluster - Completed ✓\n",
            "2025-02-08 19:48:35,479 - BERTopic - Representation - Extracting topics from clusters using representation models.\n",
            "2025-02-08 19:48:39,798 - BERTopic - Representation - Completed ✓\n"
          ]
        },
        {
          "output_type": "stream",
          "name": "stdout",
          "text": [
            "CREATING FINAL CLUSTERING COMBINATION\n"
          ]
        }
      ]
    },
    {
      "cell_type": "code",
      "source": [
        "# Analyze the clusters\n",
        "cluster_stats = generator.analyze_clusters(texts, labels, cluster_terms)"
      ],
      "metadata": {
        "id": "7RaTp4CRqaUE"
      },
      "execution_count": 38,
      "outputs": []
    },
    {
      "cell_type": "code",
      "source": [
        "products_df.shape[0]"
      ],
      "metadata": {
        "colab": {
          "base_uri": "https://localhost:8080/"
        },
        "id": "I043P79xIC3v",
        "outputId": "36b16b30-ec66-4488-e85d-47ec9efb9187"
      },
      "execution_count": 39,
      "outputs": [
        {
          "output_type": "execute_result",
          "data": {
            "text/plain": [
              "17935"
            ]
          },
          "metadata": {},
          "execution_count": 39
        }
      ]
    },
    {
      "cell_type": "code",
      "source": [
        "len(cluster_stats)"
      ],
      "metadata": {
        "colab": {
          "base_uri": "https://localhost:8080/"
        },
        "id": "r7EzhLB_IFZb",
        "outputId": "0595bd46-e13b-41f6-9609-951a612a8069"
      },
      "execution_count": 40,
      "outputs": [
        {
          "output_type": "execute_result",
          "data": {
            "text/plain": [
              "150"
            ]
          },
          "metadata": {},
          "execution_count": 40
        }
      ]
    },
    {
      "cell_type": "code",
      "source": [
        "for i in range(10):\n",
        "    print(f\"Cluster Size: {cluster_stats[i]['size']}\")\n",
        "    print(f\"Key Terms: {', '.join(cluster_stats[i]['terms'])}\\n\")"
      ],
      "metadata": {
        "colab": {
          "base_uri": "https://localhost:8080/"
        },
        "id": "DK9cQ5X_IH-6",
        "outputId": "edc1cdd2-f042-4b53-d249-7a64801097b9"
      },
      "execution_count": 41,
      "outputs": [
        {
          "output_type": "stream",
          "name": "stdout",
          "text": [
            "Cluster Size: 73\n",
            "Key Terms: lights, remote control, recording, condenser, cardioid\n",
            "\n",
            "Cluster Size: 1123\n",
            "Key Terms: sound, pro, case, rack, bag\n",
            "\n",
            "Cluster Size: 332\n",
            "Key Terms: width, ukulele, 12, strings, soprano\n",
            "\n",
            "Cluster Size: 163\n",
            "Key Terms: cymbals, drum, pad, guitar stand, stand\n",
            "\n",
            "Cluster Size: 234\n",
            "Key Terms: foam, sound, strings, 12, set\n",
            "\n",
            "Cluster Size: 274\n",
            "Key Terms: lights, musical instruments, lighting, musical, led\n",
            "\n",
            "Cluster Size: 104\n",
            "Key Terms: arm, stand, mic, lavalier microphone, lavalier\n",
            "\n",
            "Cluster Size: 129\n",
            "Key Terms: mount, guitar wall, leather, straps, hanger\n",
            "\n",
            "Cluster Size: 232\n",
            "Key Terms: cables, strings, male, string, bronze\n",
            "\n",
            "Cluster Size: 79\n",
            "Key Terms: ukulele, input, recording, concert, interface\n",
            "\n"
          ]
        }
      ]
    },
    {
      "cell_type": "code",
      "source": [
        "num_items = []\n",
        "\n",
        "for cluster in cluster_stats.keys():\n",
        "    num_items.append(cluster_stats[cluster]['size'])"
      ],
      "metadata": {
        "id": "FWq0PU4iIMJf"
      },
      "execution_count": 42,
      "outputs": []
    },
    {
      "cell_type": "code",
      "source": [
        "plt.hist(num_items, bins=30, density=True)\n",
        "plt.title(\"Cluster Size Distribution\")\n",
        "plt.xlabel(\"Number of Products in Group\")\n",
        "plt.ylabel(\"Relative Frequency\")\n",
        "plt.show()"
      ],
      "metadata": {
        "colab": {
          "base_uri": "https://localhost:8080/",
          "height": 472
        },
        "id": "f1DrmTFzIOcX",
        "outputId": "a268b455-ae14-40de-d4e3-367db6a9379e"
      },
      "execution_count": 43,
      "outputs": [
        {
          "output_type": "display_data",
          "data": {
            "text/plain": [
              "<Figure size 640x480 with 1 Axes>"
            ],
            "image/png": "[encoded data removed]"
          },
          "metadata": {}
        }
      ]
    },
    {
      "cell_type": "code",
      "source": [
        "products_df['label'] = labels\n",
        "products_df['label'].value_counts()[:5]"
      ],
      "metadata": {
        "colab": {
          "base_uri": "https://localhost:8080/",
          "height": 272
        },
        "id": "VeXv3xQ6IQqC",
        "outputId": "7f3a0a85-f23d-4a86-9997-5f632f860bb8"
      },
      "execution_count": 44,
      "outputs": [
        {
          "output_type": "execute_result",
          "data": {
            "text/plain": [
              "label\n",
              "1     1123\n",
              "89     436\n",
              "2      332\n",
              "64     322\n",
              "5      274\n",
              "Name: count, dtype: int64"
            ],
            "text/html": [
              "<div>\n",
              "<style scoped>\n",
              "    .dataframe tbody tr th:only-of-type {\n",
              "        vertical-align: middle;\n",
              "    }\n",
              "\n",
              "    .dataframe tbody tr th {\n",
              "        vertical-align: top;\n",
              "    }\n",
              "\n",
              "    .dataframe thead th {\n",
              "        text-align: right;\n",
              "    }\n",
              "</style>\n",
              "<table border=\"1\" class=\"dataframe\">\n",
              "  <thead>\n",
              "    <tr style=\"text-align: right;\">\n",
              "      <th></th>\n",
              "      <th>count</th>\n",
              "    </tr>\n",
              "    <tr>\n",
              "      <th>label</th>\n",
              "      <th></th>\n",
              "    </tr>\n",
              "  </thead>\n",
              "  <tbody>\n",
              "    <tr>\n",
              "      <th>1</th>\n",
              "      <td>1123</td>\n",
              "    </tr>\n",
              "    <tr>\n",
              "      <th>89</th>\n",
              "      <td>436</td>\n",
              "    </tr>\n",
              "    <tr>\n",
              "      <th>2</th>\n",
              "      <td>332</td>\n",
              "    </tr>\n",
              "    <tr>\n",
              "      <th>64</th>\n",
              "      <td>322</td>\n",
              "    </tr>\n",
              "    <tr>\n",
              "      <th>5</th>\n",
              "      <td>274</td>\n",
              "    </tr>\n",
              "  </tbody>\n",
              "</table>\n",
              "</div><br><label><b>dtype:</b> int64</label>"
            ]
          },
          "metadata": {},
          "execution_count": 44
        }
      ]
    },
    {
      "cell_type": "code",
      "source": [
        "# Largest Group Info\n",
        "cluster_stats[4]"
      ],
      "metadata": {
        "colab": {
          "base_uri": "https://localhost:8080/"
        },
        "id": "K6DyjuKHITrQ",
        "outputId": "878a7a5b-51f0-4d5c-8acf-a9e75d59976e"
      },
      "execution_count": 48,
      "outputs": [
        {
          "output_type": "execute_result",
          "data": {
            "text/plain": [
              "{'size': 234,\n",
              " 'terms': ['foam', 'sound', 'strings', '12', 'set'],\n",
              " 'sample_products': ['BestSounds Guitar Strap for Acoustic, Electric Bass Guitars with Pick Holders for Men Women and Kids [\\'Features:\\', \\'﹣Unique design.The leather ends with 3 Pick Holders, convenient and easy to carry your guitar picks ﹣Comfortable made. Our new stylish guitar strap is made of 100% cotton. ﹣thicker and heavier, more solid compare with other guitar straps. Fine stitching and comfortable to wear ﹣2\" wide so the guitar isn\\\\\\'t so heavy on your shoulder. With this strap, your guitar will not slip off ﹣leather end, top grade cotton material, No fading & washable. ﹣Fully adjustable length from 36.5\" to 61.5\"(93cm-156cm),to fit for man, women and kids.\\', \\'BestSounds brand is committed to give customer an excellent shopping experience ,if you have any questions, please do not hesitate to contact us, We will reply you in 24 hours. In every customer relationship, BestSounds strives to be a trusted partner and seek to achieve 100% in customer satisfaction.\\']',\n",
              "  'Perris Leathers P25XXLS-201 | Soft Suede Guitar Strap - Extra Long Adjustable 44.5\" to 67\" Long, 2.5\" Inch Wide, For Acoustic, Electric & Bass Guitars, Brown [\\'Perris Leathers | soft suede guitar strap – extra long adjustable Length 44. 5\" To 67\" Long, 2. 5”- inch wide. Fits most adult musicians and guitar players. Adjustable Length ensures your instrument rests exactly where you want it. Cool design that can you be used with most guitar types. Men and women of all ages love this unique and comfortable guitar strap. Made in Canada.\\']',\n",
              "  'DiMarzio DD2200BK Shoulder Strap black [\\'Made of ultratough nylon, so you won\\\\\\'t lose your guitar during crash-and-burn solos. Adjustable length, 2\" wide strap. The fabric conforms to your body and adds a new level of comfort, yet it is strong enough to hold over 150 pounds! Nylon ClipLock Quick Release Guitar Straps adjust in length from 43 to 63 inches (109 -160 cm), measured between the strap buttons. DiMarzio ClipLock Quick Release Guitar Straps were the first to feature the heavy-duty plastic clip that allows you to easily change from guitar to guitar with a little fingertip pressure. It is the most secure and unique fastening method available to safeguard your guitar. ClipLock Quick Release Guitar Straps have been used for years by Steve Vai, Joe Satriani, Yngwie Malmsteen, John Petrucci and many other professional musicians. They are the industry standard for strength, security and quality. ClipLock Quick Release Guitar Straps completely replace your strap buttons and attach securely to your guitar with two sturdy bushings and extra-long screws sized to fit the strap bushing screw holes on most electric guitars and basses. All ClipLock straps are 2\" wide.\\']']}"
            ]
          },
          "metadata": {},
          "execution_count": 48
        }
      ]
    }
  ]
}