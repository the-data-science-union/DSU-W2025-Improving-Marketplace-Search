{
 "cells": [
  {
   "cell_type": "code",
   "execution_count": null,
   "id": "137e4b00-9311-460f-846d-286d1bbfca57",
   "metadata": {},
   "outputs": [],
   "source": [
    "import json\n",
    "import re\n",
    "import numpy as np\n",
    "import matplotlib.pyplot as plt"
   ]
  },
  {
   "cell_type": "code",
   "execution_count": null,
   "id": "9ec2d1a6-235a-4027-8fce-8b78e7719312",
   "metadata": {},
   "outputs": [],
   "source": [
    "file = 'YOUR_METADATA_FILE.jsonl'\n",
    "\n",
    "products = []\n",
    "\n",
    "with open(file, 'r') as fp:\n",
    "    for line in fp:\n",
    "        products.append(json.loads(line.strip()))"
   ]
  },
  {
   "cell_type": "code",
   "execution_count": null,
   "id": "66ee525a-a294-4782-99f9-b137b86e81a0",
   "metadata": {},
   "outputs": [],
   "source": [
    "# Subset all of the info to only include relevant fields\n",
    "relevant_fields = ['title', 'rating_number', 'features', 'description']\n",
    "products = [{field:product[field] for field in relevant_fields} for product in products]\n",
    "\n",
    "# Combine features and description and remove unusual characters such as emojis.\n",
    "for product in products:\n",
    "    product['combined_description'] = re.sub(r'[^a-zA-Z0-9\\s]', '', ' '.join(product['description'] + product['features'])).strip()"
   ]
  },
  {
   "cell_type": "code",
   "execution_count": null,
   "id": "9ff8ac64-9367-4b73-86a0-cd671a06c730",
   "metadata": {},
   "outputs": [],
   "source": [
    "# Get the number of ratings for each product\n",
    "num_ratings = []\n",
    "\n",
    "for product in products:\n",
    "    num_ratings.append(product['rating_number'])\n",
    "    \n",
    "num_ratings = np.array(num_ratings)"
   ]
  },
  {
   "cell_type": "code",
   "execution_count": null,
   "id": "774e6295-51d3-48f8-86f2-1b4559df3fda",
   "metadata": {},
   "outputs": [],
   "source": [
    "plt.hist(num_ratings, bins=20)\n",
    "plt.title('Distribution of Product Number of Ratings')\n",
    "plt.xlabel('Number of Ratings')\n",
    "plt.ylabel('Frequency')\n",
    "plt.show()"
   ]
  },
  {
   "cell_type": "markdown",
   "id": "eab322ae-5888-43c3-95b3-b371cb69d8b1",
   "metadata": {},
   "source": [
    "PLEASE CHOOSE YOUR OWN THRESHOLD (MINIMUM NUMBER OF RATINGS) BASED ON THE HISTOGRAM ABOVE. YOU MAY NEED TO CHANGE THE NUMBER OF BINS OR EXCLUDE VALUES ABOVE A CERTAIN NUMBER TO GET A SENSE FOR A GOOD CUTOFF VALUE."
   ]
  },
  {
   "cell_type": "code",
   "execution_count": null,
   "id": "ab93760c-0be1-40dd-a9c4-824562a5d927",
   "metadata": {},
   "outputs": [],
   "source": [
    "ratings_threshold = 1000 # PLEASE CHANGE THIS NUMBER\n",
    "filtered_products = [product for product in products if product['rating_number'] > ratings_threshold]\n",
    "\n",
    "print(f\"There are now {len(filtered_products)} remaining products.\")"
   ]
  },
  {
   "cell_type": "code",
   "execution_count": null,
   "id": "f8acdf68-cd08-4bd8-b152-a92bb3094cdd",
   "metadata": {},
   "outputs": [],
   "source": [
    "lengths = []\n",
    "has_features = 0\n",
    "has_description = 0\n",
    "\n",
    "for product in filtered_products:\n",
    "    lengths.append(len(product['combined_description']))\n",
    "    if len(product['features']) > 0:\n",
    "        has_features += 1\n",
    "    \n",
    "    if len(product['description']) > 0:\n",
    "        has_description += 1\n",
    "        \n",
    "lengths = np.array(lengths)"
   ]
  },
  {
   "cell_type": "code",
   "execution_count": null,
   "id": "e6893596-5ea6-4fe2-8dbc-6068e83bf6c4",
   "metadata": {},
   "outputs": [],
   "source": [
    "print(f\"Proportion of products with features: {has_features / len(filtered_products) * 100}\")\n",
    "print(f\"Proportion of products with descriptions: {has_description / len(filtered_products) * 100}\")"
   ]
  },
  {
   "cell_type": "code",
   "execution_count": null,
   "id": "57b829bd-df48-4b2d-ae01-025a36463641",
   "metadata": {},
   "outputs": [],
   "source": [
    "plt.hist(lengths, bins=20)\n",
    "plt.title('Distribution of Product Description and Features Length')\n",
    "plt.xlabel('Character Count')\n",
    "plt.ylabel('Frequency')\n",
    "plt.show()"
   ]
  },
  {
   "cell_type": "markdown",
   "id": "5534cba4-8664-43c4-b787-a6c67fc58dc4",
   "metadata": {},
   "source": [
    "PLEASE CHOOSE YOUR OWN THRESHOLD (MINIMUM NUMBER OF CHARACTERS) BASED ON THE HISTOGRAM ABOVE. YOU MAY NEED TO CHANGE THE NUMBER OF BINS OR EXCLUDE VALUES ABOVE A CERTAIN NUMBER TO GET A SENSE FOR A GOOD CUTOFF VALUE."
   ]
  },
  {
   "cell_type": "code",
   "execution_count": null,
   "id": "57d13529-7dff-490d-964a-bc012a14bf31",
   "metadata": {},
   "outputs": [],
   "source": [
    "description_threshold = 1000 # PLEASE CHANGE THIS NUMBER\n",
    "\n",
    "final_products = [product for product in filtered_products if len(product['combined_description']) > description_threshold]\n",
    "\n",
    "print(f\"There are now {len(final_products)} remaining products.\")"
   ]
  }
 ],
 "metadata": {
  "kernelspec": {
   "display_name": "Python 3 (ipykernel)",
   "language": "python",
   "name": "python3"
  },
  "language_info": {
   "codemirror_mode": {
    "name": "ipython",
    "version": 3
   },
   "file_extension": ".py",
   "mimetype": "text/x-python",
   "name": "python",
   "nbconvert_exporter": "python",
   "pygments_lexer": "ipython3",
   "version": "3.9.18"
  }
 },
 "nbformat": 4,
 "nbformat_minor": 5
}
