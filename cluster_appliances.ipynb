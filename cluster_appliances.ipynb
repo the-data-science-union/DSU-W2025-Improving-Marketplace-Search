{
 "cells": [
  {
   "cell_type": "code",
   "execution_count": 33,
   "id": "11e22bed-cf5b-4267-96d4-7c635b2a8b40",
   "metadata": {},
   "outputs": [
    {
     "name": "stderr",
     "output_type": "stream",
     "text": [
      "huggingface/tokenizers: The current process just got forked, after parallelism has already been used. Disabling parallelism to avoid deadlocks...\n",
      "To disable this warning, you can either:\n",
      "\t- Avoid using `tokenizers` before the fork if possible\n",
      "\t- Explicitly set the environment variable TOKENIZERS_PARALLELISM=(true | false)\n"
     ]
    },
    {
     "name": "stdout",
     "output_type": "stream",
     "text": [
      "Requirement already satisfied: bertopic in /opt/anaconda3/lib/python3.12/site-packages (0.16.4)\n",
      "Requirement already satisfied: umap-learn in /opt/anaconda3/lib/python3.12/site-packages (0.5.7)\n",
      "Requirement already satisfied: hdbscan in /opt/anaconda3/lib/python3.12/site-packages (0.8.40)\n",
      "Requirement already satisfied: numpy>=1.20.0 in /opt/anaconda3/lib/python3.12/site-packages (from bertopic) (1.26.4)\n",
      "Requirement already satisfied: pandas>=1.1.5 in /opt/anaconda3/lib/python3.12/site-packages (from bertopic) (2.2.2)\n",
      "Requirement already satisfied: plotly>=4.7.0 in /opt/anaconda3/lib/python3.12/site-packages (from bertopic) (5.22.0)\n",
      "Requirement already satisfied: scikit-learn>=0.22.2.post1 in /opt/anaconda3/lib/python3.12/site-packages (from bertopic) (1.4.2)\n",
      "Requirement already satisfied: sentence-transformers>=0.4.1 in /opt/anaconda3/lib/python3.12/site-packages (from bertopic) (3.3.1)\n",
      "Requirement already satisfied: tqdm>=4.41.1 in /opt/anaconda3/lib/python3.12/site-packages (from bertopic) (4.66.4)\n",
      "Requirement already satisfied: scipy>=1.3.1 in /opt/anaconda3/lib/python3.12/site-packages (from umap-learn) (1.13.1)\n",
      "Requirement already satisfied: numba>=0.51.2 in /opt/anaconda3/lib/python3.12/site-packages (from umap-learn) (0.59.1)\n",
      "Requirement already satisfied: pynndescent>=0.5 in /opt/anaconda3/lib/python3.12/site-packages (from umap-learn) (0.5.13)\n",
      "Requirement already satisfied: joblib>=1.0 in /opt/anaconda3/lib/python3.12/site-packages (from hdbscan) (1.4.2)\n",
      "Requirement already satisfied: llvmlite<0.43,>=0.42.0dev0 in /opt/anaconda3/lib/python3.12/site-packages (from numba>=0.51.2->umap-learn) (0.42.0)\n",
      "Requirement already satisfied: python-dateutil>=2.8.2 in /opt/anaconda3/lib/python3.12/site-packages (from pandas>=1.1.5->bertopic) (2.9.0.post0)\n",
      "Requirement already satisfied: pytz>=2020.1 in /opt/anaconda3/lib/python3.12/site-packages (from pandas>=1.1.5->bertopic) (2024.1)\n",
      "Requirement already satisfied: tzdata>=2022.7 in /opt/anaconda3/lib/python3.12/site-packages (from pandas>=1.1.5->bertopic) (2023.3)\n",
      "Requirement already satisfied: tenacity>=6.2.0 in /opt/anaconda3/lib/python3.12/site-packages (from plotly>=4.7.0->bertopic) (8.2.2)\n",
      "Requirement already satisfied: packaging in /opt/anaconda3/lib/python3.12/site-packages (from plotly>=4.7.0->bertopic) (23.2)\n",
      "Requirement already satisfied: threadpoolctl>=2.0.0 in /opt/anaconda3/lib/python3.12/site-packages (from scikit-learn>=0.22.2.post1->bertopic) (2.2.0)\n",
      "Requirement already satisfied: transformers<5.0.0,>=4.41.0 in /opt/anaconda3/lib/python3.12/site-packages (from sentence-transformers>=0.4.1->bertopic) (4.46.3)\n",
      "Requirement already satisfied: torch>=1.11.0 in /opt/anaconda3/lib/python3.12/site-packages (from sentence-transformers>=0.4.1->bertopic) (2.5.1)\n",
      "Requirement already satisfied: huggingface-hub>=0.20.0 in /opt/anaconda3/lib/python3.12/site-packages (from sentence-transformers>=0.4.1->bertopic) (0.26.3)\n",
      "Requirement already satisfied: Pillow in /opt/anaconda3/lib/python3.12/site-packages (from sentence-transformers>=0.4.1->bertopic) (10.3.0)\n",
      "Requirement already satisfied: filelock in /opt/anaconda3/lib/python3.12/site-packages (from huggingface-hub>=0.20.0->sentence-transformers>=0.4.1->bertopic) (3.13.1)\n",
      "Requirement already satisfied: fsspec>=2023.5.0 in /opt/anaconda3/lib/python3.12/site-packages (from huggingface-hub>=0.20.0->sentence-transformers>=0.4.1->bertopic) (2024.3.1)\n",
      "Requirement already satisfied: pyyaml>=5.1 in /opt/anaconda3/lib/python3.12/site-packages (from huggingface-hub>=0.20.0->sentence-transformers>=0.4.1->bertopic) (6.0.1)\n",
      "Requirement already satisfied: requests in /opt/anaconda3/lib/python3.12/site-packages (from huggingface-hub>=0.20.0->sentence-transformers>=0.4.1->bertopic) (2.32.2)\n",
      "Requirement already satisfied: typing-extensions>=3.7.4.3 in /opt/anaconda3/lib/python3.12/site-packages (from huggingface-hub>=0.20.0->sentence-transformers>=0.4.1->bertopic) (4.11.0)\n",
      "Requirement already satisfied: six>=1.5 in /opt/anaconda3/lib/python3.12/site-packages (from python-dateutil>=2.8.2->pandas>=1.1.5->bertopic) (1.16.0)\n",
      "Requirement already satisfied: networkx in /opt/anaconda3/lib/python3.12/site-packages (from torch>=1.11.0->sentence-transformers>=0.4.1->bertopic) (3.2.1)\n",
      "Requirement already satisfied: jinja2 in /opt/anaconda3/lib/python3.12/site-packages (from torch>=1.11.0->sentence-transformers>=0.4.1->bertopic) (3.1.4)\n",
      "Requirement already satisfied: setuptools in /opt/anaconda3/lib/python3.12/site-packages (from torch>=1.11.0->sentence-transformers>=0.4.1->bertopic) (69.5.1)\n",
      "Requirement already satisfied: sympy==1.13.1 in /opt/anaconda3/lib/python3.12/site-packages (from torch>=1.11.0->sentence-transformers>=0.4.1->bertopic) (1.13.1)\n",
      "Requirement already satisfied: mpmath<1.4,>=1.1.0 in /opt/anaconda3/lib/python3.12/site-packages (from sympy==1.13.1->torch>=1.11.0->sentence-transformers>=0.4.1->bertopic) (1.3.0)\n",
      "Requirement already satisfied: regex!=2019.12.17 in /opt/anaconda3/lib/python3.12/site-packages (from transformers<5.0.0,>=4.41.0->sentence-transformers>=0.4.1->bertopic) (2023.10.3)\n",
      "Requirement already satisfied: tokenizers<0.21,>=0.20 in /opt/anaconda3/lib/python3.12/site-packages (from transformers<5.0.0,>=4.41.0->sentence-transformers>=0.4.1->bertopic) (0.20.3)\n",
      "Requirement already satisfied: safetensors>=0.4.1 in /opt/anaconda3/lib/python3.12/site-packages (from transformers<5.0.0,>=4.41.0->sentence-transformers>=0.4.1->bertopic) (0.4.5)\n",
      "Requirement already satisfied: MarkupSafe>=2.0 in /opt/anaconda3/lib/python3.12/site-packages (from jinja2->torch>=1.11.0->sentence-transformers>=0.4.1->bertopic) (2.1.3)\n",
      "Requirement already satisfied: charset-normalizer<4,>=2 in /opt/anaconda3/lib/python3.12/site-packages (from requests->huggingface-hub>=0.20.0->sentence-transformers>=0.4.1->bertopic) (2.0.4)\n",
      "Requirement already satisfied: idna<4,>=2.5 in /opt/anaconda3/lib/python3.12/site-packages (from requests->huggingface-hub>=0.20.0->sentence-transformers>=0.4.1->bertopic) (3.7)\n",
      "Requirement already satisfied: urllib3<3,>=1.21.1 in /opt/anaconda3/lib/python3.12/site-packages (from requests->huggingface-hub>=0.20.0->sentence-transformers>=0.4.1->bertopic) (2.2.2)\n",
      "Requirement already satisfied: certifi>=2017.4.17 in /opt/anaconda3/lib/python3.12/site-packages (from requests->huggingface-hub>=0.20.0->sentence-transformers>=0.4.1->bertopic) (2024.8.30)\n"
     ]
    }
   ],
   "source": [
    "!pip install bertopic umap-learn hdbscan"
   ]
  },
  {
   "cell_type": "code",
   "execution_count": 34,
   "id": "ce998b61-2269-40c8-81f8-28abef286bfc",
   "metadata": {},
   "outputs": [],
   "source": [
    "import numpy as np\n",
    "import pandas as pd\n",
    "import matplotlib.pyplot as plt\n",
    "from sklearn.feature_extraction.text import TfidfVectorizer\n",
    "from sklearn.cluster import KMeans\n",
    "from sentence_transformers import SentenceTransformer\n",
    "from umap import UMAP\n",
    "from bertopic import BERTopic\n",
    "import hdbscan\n",
    "import re\n",
    "import json"
   ]
  },
  {
   "cell_type": "code",
   "execution_count": 35,
   "id": "dde60cd5-0f88-4746-a5d2-bdbc313f835b",
   "metadata": {},
   "outputs": [],
   "source": [
    "class ProductGroupGenerator:\n",
    "    def __init__(self, min_cluster_size=5, max_clusters=75):\n",
    "        self.sentence_model = SentenceTransformer('all-MiniLM-L6-v2')\n",
    "        self.tfidf = TfidfVectorizer(\n",
    "            max_features=1000,\n",
    "            stop_words='english',\n",
    "            ngram_range=(1, 2)\n",
    "        )\n",
    "        self.min_cluster_size = min_cluster_size\n",
    "        self.max_clusters = max_clusters\n",
    "        \n",
    "    def preprocess_text(self, text):\n",
    "        # Convert to lowercase and remove special characters\n",
    "        text = re.sub(r'[^a-zA-Z0-9\\s]', ' ', str(text).lower())\n",
    "        # Remove extra whitespace\n",
    "        text = re.sub(r'\\s+', ' ', text).strip()\n",
    "        return text\n",
    "        \n",
    "    def generate_clusters(self, texts, method='combined', n_clusters=None):\n",
    "        \"\"\"\n",
    "        Generate product clusters using different methods\n",
    "        \n",
    "        Args:\n",
    "            texts: List of product titles/descriptions\n",
    "            method: One of 'tfidf_kmeans', 'bert_topic', or 'combined'\n",
    "            n_clusters: Optional target number of clusters\n",
    "        \"\"\"\n",
    "        if n_clusters is None:\n",
    "            n_clusters = min(len(texts) // self.min_cluster_size, self.max_clusters)\n",
    "            \n",
    "        processed_texts = [self.preprocess_text(text) for text in texts]\n",
    "        \n",
    "        if method == 'tfidf_kmeans':\n",
    "            return self._cluster_tfidf_kmeans(processed_texts, n_clusters)\n",
    "        elif method == 'bert_topic':\n",
    "            return self._cluster_bert_topic(processed_texts)\n",
    "        elif method == 'combined':\n",
    "            return self._cluster_combined(processed_texts, n_clusters)\n",
    "        else:\n",
    "            raise ValueError(\"Invalid clustering method\")\n",
    "    \n",
    "    def _cluster_tfidf_kmeans(self, texts, n_clusters):\n",
    "        # Transform texts to TF-IDF vectors\n",
    "        tfidf_matrix = self.tfidf.fit_transform(texts)\n",
    "        \n",
    "        kmeans = KMeans(n_clusters=n_clusters, random_state=42)\n",
    "        labels = kmeans.fit_predict(tfidf_matrix)\n",
    "        \n",
    "        # Get top terms for each cluster\n",
    "        cluster_terms = {}\n",
    "        feature_names = self.tfidf.get_feature_names_out()\n",
    "        for i in range(n_clusters):\n",
    "            center_indices = kmeans.cluster_centers_[i].argsort()[::-1][:5]\n",
    "            cluster_terms[i] = [feature_names[idx] for idx in center_indices]\n",
    "            \n",
    "        return labels, cluster_terms\n",
    "    \n",
    "    def _cluster_bert_topic(self, texts):\n",
    "        # Create embeddings\n",
    "        embeddings = self.sentence_model.encode(texts)\n",
    "        \n",
    "        # Initialize BERTopic\n",
    "        topic_model = BERTopic(\n",
    "            umap_model=UMAP(n_neighbors=15, n_components=5, min_dist=0.0, metric='cosine'),\n",
    "            hdbscan_model=hdbscan.HDBSCAN(\n",
    "                min_cluster_size=self.min_cluster_size,\n",
    "                min_samples=1,\n",
    "                metric='euclidean',\n",
    "                cluster_selection_method='eom'\n",
    "            ),\n",
    "            verbose=True\n",
    "        )\n",
    "        \n",
    "        # Fit the model and get topics\n",
    "        labels, _ = topic_model.fit_transform(texts, embeddings)\n",
    "        \n",
    "        # Get topic terms\n",
    "        topic_terms = {}\n",
    "        for topic_idx, words in topic_model.get_topics().items():\n",
    "            topic_terms[topic_idx] = [word[0] for word in words[:5]]\n",
    "            \n",
    "        return labels, topic_terms\n",
    "    \n",
    "    def _cluster_combined(self, texts, n_clusters):\n",
    "        # Get clusters from both methods\n",
    "        print(\"CLUSTERING BY KMEANS\")\n",
    "        kmeans_labels, kmeans_terms = self._cluster_tfidf_kmeans(texts, n_clusters)\n",
    "        print(\"CLUSTERING BY BERT\")\n",
    "        bert_labels, bert_terms = self._cluster_bert_topic(texts)\n",
    "        \n",
    "        # Create ensemble clustering\n",
    "        # Convert labels to one-hot encoding\n",
    "        def one_hot_encode(labels):\n",
    "            n_unique = len(np.unique(labels))\n",
    "            return np.eye(n_unique)[labels]\n",
    "        \n",
    "        kmeans_oh = one_hot_encode(kmeans_labels)\n",
    "        bert_oh = one_hot_encode(bert_labels)\n",
    "        \n",
    "        # Concatenate features\n",
    "        combined_features = np.hstack([kmeans_oh, bert_oh])\n",
    "        \n",
    "        # Final clustering on combined features\n",
    "        print(\"CREATING FINAL CLUSTERING COMBINATION\")\n",
    "        final_kmeans = KMeans(n_clusters=n_clusters)\n",
    "        final_labels = final_kmeans.fit_predict(combined_features)\n",
    "        \n",
    "        # Combine terms from both methods for final clusters\n",
    "        final_terms = {}\n",
    "        for i in range(n_clusters):\n",
    "            terms_set = set()\n",
    "            terms_set.update(kmeans_terms.get(i, []))\n",
    "            terms_set.update(bert_terms.get(i, []))\n",
    "            final_terms[i] = list(terms_set)[:5]\n",
    "            \n",
    "        return final_labels, final_terms\n",
    "\n",
    "    def analyze_clusters(self, texts, labels, cluster_terms):\n",
    "        \"\"\"\n",
    "        Analyze cluster quality and characteristics\n",
    "        \"\"\"\n",
    "        cluster_stats = {}\n",
    "        unique_labels = np.unique(labels)\n",
    "        \n",
    "        for label in unique_labels:\n",
    "            cluster_texts = [texts[i] for i in range(len(texts)) if labels[i] == label]\n",
    "            cluster_stats[label] = {\n",
    "                'size': len(cluster_texts),\n",
    "                'terms': cluster_terms.get(label, []),\n",
    "                'sample_products': cluster_texts[:3]  # Show 3 example products\n",
    "            }\n",
    "            \n",
    "        return cluster_stats"
   ]
  },
  {
   "cell_type": "code",
   "execution_count": 36,
   "id": "d5cb0d62-df0d-4d39-8e5d-4f0c358caf53",
   "metadata": {},
   "outputs": [],
   "source": [
    "# Preparing the data\n",
    "products_df = pd.read_csv('data/filtered_appliances.csv')\n",
    "texts = products_df['title'] + ' ' + products_df['description']"
   ]
  },
  {
   "cell_type": "code",
   "execution_count": 37,
   "id": "4b40db1d-556f-4676-95fe-d4270e13db4c",
   "metadata": {},
   "outputs": [],
   "source": [
    "# Initialize clustering class\n",
    "generator = ProductGroupGenerator(min_cluster_size=50, max_clusters = 100)"
   ]
  },
  {
   "cell_type": "code",
   "execution_count": 38,
   "id": "77c91952-31ee-416b-9ff8-c63c5c13e560",
   "metadata": {},
   "outputs": [
    {
     "name": "stderr",
     "output_type": "stream",
     "text": [
      "2025-03-08 12:32:45,133 - BERTopic - Dimensionality - Fitting the dimensionality reduction algorithm\n",
      "2025-03-08 12:32:47,635 - BERTopic - Dimensionality - Completed ✓\n",
      "2025-03-08 12:32:47,642 - BERTopic - Cluster - Start clustering the reduced embeddings\n",
      "2025-03-08 12:32:47,786 - BERTopic - Cluster - Completed ✓\n",
      "2025-03-08 12:32:47,801 - BERTopic - Representation - Extracting topics from clusters using representation models.\n",
      "2025-03-08 12:32:48,374 - BERTopic - Representation - Completed ✓\n"
     ]
    }
   ],
   "source": [
    "# Run clustering\n",
    "labels, cluster_terms = generator.generate_clusters(texts, method='bert_topic')"
   ]
  },
  {
   "cell_type": "code",
   "execution_count": 39,
   "id": "10cef501-6aa3-4d4b-b877-7aaace9c502c",
   "metadata": {},
   "outputs": [],
   "source": [
    "# Analyze the clusters\n",
    "cluster_stats = generator.analyze_clusters(texts, labels, cluster_terms)"
   ]
  },
  {
   "cell_type": "code",
   "execution_count": 40,
   "id": "5644ca09-7f7c-4c78-b889-2b159356c8b5",
   "metadata": {},
   "outputs": [
    {
     "data": {
      "text/plain": [
       "7445"
      ]
     },
     "execution_count": 40,
     "metadata": {},
     "output_type": "execute_result"
    }
   ],
   "source": [
    "# Number of products\n",
    "products_df.shape[0]"
   ]
  },
  {
   "cell_type": "code",
   "execution_count": 41,
   "id": "1b770bda-da53-4dcd-be6c-7d2c998cd8ac",
   "metadata": {},
   "outputs": [
    {
     "data": {
      "text/plain": [
       "50"
      ]
     },
     "execution_count": 41,
     "metadata": {},
     "output_type": "execute_result"
    }
   ],
   "source": [
    "#Number of clusters\n",
    "len(cluster_stats)"
   ]
  },
  {
   "cell_type": "code",
   "execution_count": 42,
   "id": "494e4ca3-cb63-4b65-9fc2-70280be1c24b",
   "metadata": {},
   "outputs": [
    {
     "name": "stdout",
     "output_type": "stream",
     "text": [
      "Cluster Size: 676\n",
      "Key Terms: water, filter, refrigerator, nsf, filtration\n",
      "\n",
      "Cluster Size: 311\n",
      "Key Terms: refrigerator, part, defrost, the, ge\n",
      "\n",
      "Cluster Size: 297\n",
      "Key Terms: ice, maker, cubes, countertop, portable\n",
      "\n",
      "Cluster Size: 291\n",
      "Key Terms: dryer, drum, belt, pulley, kit\n",
      "\n",
      "Cluster Size: 248\n",
      "Key Terms: humidifier, honeywell, humidifiers, wick, air\n",
      "\n",
      "Cluster Size: 222\n",
      "Key Terms: washing, clothes, portable, machine, laundry\n",
      "\n",
      "Cluster Size: 218\n",
      "Key Terms: dryer, thermal, heating, fuse, element\n",
      "\n",
      "Cluster Size: 199\n",
      "Key Terms: keurig, coffee, reusable, cup, cups\n",
      "\n",
      "Cluster Size: 195\n",
      "Key Terms: frigidaire, bin, door, shelf, refrigerator\n",
      "\n",
      "Cluster Size: 163\n",
      "Key Terms: air, filter, refrigerator, lg, fresh\n",
      "\n"
     ]
    }
   ],
   "source": [
    "# Sample of group sizes and key terms\n",
    "for i in range(10):\n",
    "    print(f\"Cluster Size: {cluster_stats[i]['size']}\")\n",
    "    print(f\"Key Terms: {', '.join(cluster_stats[i]['terms'])}\\n\")"
   ]
  },
  {
   "cell_type": "code",
   "execution_count": 43,
   "id": "96e227c9-1e97-4e79-8bab-67cf911879cd",
   "metadata": {},
   "outputs": [],
   "source": [
    "num_items = []\n",
    "\n",
    "for cluster in cluster_stats.keys():\n",
    "    num_items.append(cluster_stats[cluster]['size'])"
   ]
  },
  {
   "cell_type": "code",
   "execution_count": 44,
   "id": "69ddfe0c-0dbd-4467-ab0b-5dc97aca1dcf",
   "metadata": {},
   "outputs": [
    {
     "data": {
      "image/png": "[encoded data removed]",
      "text/plain": [
       "<Figure size 640x480 with 1 Axes>"
      ]
     },
     "metadata": {},
     "output_type": "display_data"
    }
   ],
   "source": [
    "plt.hist(num_items, bins=30, density=True)\n",
    "plt.title(\"Cluster Size Distribution\")\n",
    "plt.xlabel(\"Number of Products in Group\")\n",
    "plt.ylabel(\"Relative Frequency\")\n",
    "plt.show()"
   ]
  },
  {
   "cell_type": "code",
   "execution_count": 55,
   "id": "0f9a6bf0-b795-490e-9578-7074bd1c2ce0",
   "metadata": {},
   "outputs": [
    {
     "data": {
      "text/plain": [
       "{'size': 847,\n",
       " 'terms': ['the', 'and', 'to', 'for', 'in'],\n",
       " 'sample_products': ['K&J 12 Pack Replacement Capresso Charcoal Water Filters - Replaces 4440.90 Coffee Filters Perfect Compatibility  These Capresso replacement filters made by KJ will fit all models listed below see description  Micromesh Material  Ensures the charcoal stays in the filter and does not clog up your Capresso coffee maker KJ is the highest quality of any filter currently sold  Improves Beverage Flavor  Removing impurities calcium chlorine and odors with activated charcoal filters creates the besttasting beverages  EcoFriendly Packaging  We ship your Capresso replacement filters not in a bulky box but with minimal packaging  Ultra FineGrain Charcoal  Finer charcoal granules increase the surface area exposure to water and maximize the effective filtration KJ makes the most effective replacement Capresso water filter on the market',\n",
       "  'GENUINE Whirlpool 8183202 Hinge for Washing Machine Product Description This is a genuine replacement part The model number and name for the following item is Whirlpool 8183202 Hinge for Washing Machine From the Manufacturer Whirlpool 8183202 Hinge for Washing Machine Works with the following models Maytag MHWE300VW13 Maytag MHWE400WJ01 Maytag MHWE400WR01 Maytag MHWE400WW01 Maytag MHWE450WJ01 Maytag MHWE450WR Maytag MHWE450WR01 Maytag MHWE450WW Maytag MHWE450WW01 Maytag MHWE550WJ01 Genuine Replacement Part Works with the following models Maytag MHWE300VW13 Maytag MHWE400WJ01 Maytag MHWE400WR01 Maytag MHWE400WW01 Maytag MHWE450WJ01 Maytag MHWE450WR Maytag MHWE450WR01 Maytag MHWE450WW Maytag MHWE450WW01 Maytag MHWE550WJ01 Genuine replacement part',\n",
       "  'Fuxury 12 Inch Impulse Bag Sealer, Heat Sealer Machine Closer for Cookies, Manual Hot Min Sealing Machine for Poly Bag & Shrink Wrap with 2 Free Repair Kit (Blue) Professional Heat SealerFuxury impulse bag sealer precision electronic control circuit to controls the time and the heat automaticallyThe heat sealer compact size12 inch300mmSeal length 2mm sealing width metal quality and double paint stability and good rust effect Bag sealer equipment includes 2 replacement kits Convenient UseFuxury bag sealer are safe and easy to use The heating element in the impulse sealer will not continue to heat up Once pressure is applied to the sealing arm the heat sealer will quickly seal the material and form a seal The light will turn on when the sealing machine is started and will turn off after the sealing is completed Use the appropriate heat setting for your material Heat sealer bags ensure that your products are sealed waterproof and tamperproof No Warm Uptime RequiredNo warm up or cooldown time neededBag sealer is safe and simple to useand it can be used immediatelyThe heat sealer only heats up when the arm is down and in contact with the material and the baseit can safe your business time and money Adjustable Timer SettingFuxury heat sealer has 8 levels settings of adjustable timer the adjustable timer makes it easy to seal a variety of packagingwhich creates perfect seals for different material and thickness bagsBag sealer transformer internal use of pure copper coil compared to other aluminum transformer pure copper transformer reduce the loss of heat and work plastic bag sealer more lasting Quality GuaranteeFuxury committed to providing customers with an excellent shopping experienceWe will replace or return for a refund if you are not satisfied with our heat sealer If you have any problems with our product please contact with us first we will solve it for you within 24 hours']}"
      ]
     },
     "execution_count": 55,
     "metadata": {},
     "output_type": "execute_result"
    }
   ],
   "source": [
    "# Largest Group Info\n",
    "cluster_stats[-1]"
   ]
  },
  {
   "cell_type": "code",
   "execution_count": 57,
   "id": "7ff3190c-ba38-4d13-96b1-b2d2d1c736db",
   "metadata": {},
   "outputs": [
    {
     "name": "stdout",
     "output_type": "stream",
     "text": [
      "['water', 'filter', 'refrigerator', 'nsf', 'filtration']\n",
      "['refrigerator', 'part', 'defrost', 'the', 'ge']\n",
      "['ice', 'maker', 'cubes', 'countertop', 'portable']\n",
      "['dryer', 'drum', 'belt', 'pulley', 'kit']\n",
      "['humidifier', 'honeywell', 'humidifiers', 'wick', 'air']\n",
      "['washing', 'clothes', 'portable', 'machine', 'laundry']\n",
      "['dryer', 'thermal', 'heating', 'fuse', 'element']\n",
      "['keurig', 'coffee', 'reusable', 'cup', 'cups']\n",
      "['frigidaire', 'bin', 'door', 'shelf', 'refrigerator']\n",
      "['air', 'filter', 'refrigerator', 'lg', 'fresh']\n",
      "['lint', 'dryer', 'screen', 'filter', 'lg']\n",
      "['stove', 'covers', 'gas', 'burner', 'stovetop']\n",
      "['milk', 'pitcher', 'frothing', 'latte', 'art']\n",
      "['bake', 'oven', 'element', 'ge', 'appliances']\n",
      "['freezer', 'beverage', 'door', 'temperature', 'wine']\n",
      "['egg', 'eggs', 'storage', 'container', 'holder']\n",
      "['agitator', 'washer', 'whirlpool', 'kit', 'hub']\n",
      "['hose', 'hoses', 'drain', 'supply', 'braided']\n",
      "['knob', 'knobs', 'stove', 'range', 'control']\n",
      "['coffee', 'brew', 'pour', 'cold', 'over']\n",
      "['door', 'switch', 'lid', 'washer', 'lock']\n",
      "['handle', 'covers', 'pads', 'handles', 'kitchen']\n",
      "['broan', 'hood', 'range', 'grease', 'nutone']\n",
      "['pump', 'drain', 'washer', 'motor', 'part']\n",
      "['cover', 'machine', 'magnet', 'washer', 'magnetic']\n",
      "['dishwasher', 'mounting', 'bracket', 'door', 'gasket']\n",
      "['charcoal', 'coffee', 'filters', 'water', 'krups']\n",
      "['hood', 'range', 'kitchen', 'cfm', 'cooking']\n",
      "['capsule', 'coffee', 'nespresso', 'vertuoline', 'capsules']\n",
      "['rack', 'dishwasher', 'adjuster', 'wheels', 'upper']\n",
      "['drip', 'pans', 'pan', 'burner', 'chrome']\n",
      "['coffee', 'filter', 'filters', 'reusable', 'permanent']\n",
      "['samsung', 'refrigerator', 'door', 'spring', 'handle']\n",
      "['dishwasher', 'silverware', 'basket', 'arm', 'spray']\n",
      "['coffee', 'paper', 'filters', 'cup', 'cone']\n",
      "['humidity', 'temperature', 'thermometer', 'hygrometer', 'digital']\n",
      "['cooktop', 'gas', 'cooking', 'burner', 'burners']\n",
      "['duct', 'vent', 'dryer', 'hose', 'aluminum']\n",
      "['samsung', 'heating', 'dryer', 'element', 'dc4700019a']\n",
      "['knob', 'timer', 'ge', 'appliances', 'genuine']\n",
      "['element', 'burner', 'surface', 'range', 'electric']\n",
      "['gap', 'counter', 'silicone', 'stove', 'cover']\n",
      "['valve', 'inlet', 'water', 'whirlpool', 'washer']\n",
      "['lg', 'oem', 'washing', 'assembly', 'manufactured']\n",
      "['fan', 'evaporator', 'motor', 'frigidaire', 'refrigerator']\n",
      "['water', 'filter', 'certified', 'chlorine', 'watersentinel']\n",
      "['vent', 'cover', 'louvered', 'dryer', 'outdoor']\n",
      "['base', 'stand', 'wheels', 'adjustable', 'washing']\n",
      "['igniter', 'oven', 'burner', 'gas', 'ignitor']\n"
     ]
    }
   ],
   "source": [
    "for i in range(len(cluster_stats)-1):\n",
    "    print(cluster_stats[i]['terms'])"
   ]
  },
  {
   "cell_type": "code",
   "execution_count": 59,
   "id": "de575c0e-75ff-4bed-8c61-97313b1d0a5a",
   "metadata": {},
   "outputs": [
    {
     "data": {
      "text/plain": [
       "label\n",
       "-1    847\n",
       " 0    676\n",
       " 1    311\n",
       " 2    297\n",
       " 3    291\n",
       "Name: count, dtype: int64"
      ]
     },
     "execution_count": 59,
     "metadata": {},
     "output_type": "execute_result"
    }
   ],
   "source": [
    "products_df['label'] = labels\n",
    "products_df['label'].value_counts()[:5]"
   ]
  },
  {
   "cell_type": "code",
   "execution_count": 61,
   "id": "5c4c1d7e-9b60-4f12-bf39-dcebff797608",
   "metadata": {},
   "outputs": [],
   "source": [
    "cluster_terms = {i: cluster_stats[i]['terms'] for i in range(-1, len(cluster_stats)-1)}"
   ]
  },
  {
   "cell_type": "code",
   "execution_count": 63,
   "id": "f4b89f0f-ac77-4a05-aa69-5e336394f9cb",
   "metadata": {},
   "outputs": [],
   "source": [
    "with open(\"appliances_key_terms.json\", \"w\") as f:\n",
    "    json.dump(cluster_terms, f)"
   ]
  },
  {
   "cell_type": "code",
   "execution_count": 65,
   "id": "9fad555d-a692-4111-af8c-ed2a92584647",
   "metadata": {},
   "outputs": [
    {
     "data": {
      "text/html": [
       "<div>\n",
       "<style scoped>\n",
       "    .dataframe tbody tr th:only-of-type {\n",
       "        vertical-align: middle;\n",
       "    }\n",
       "\n",
       "    .dataframe tbody tr th {\n",
       "        vertical-align: top;\n",
       "    }\n",
       "\n",
       "    .dataframe thead th {\n",
       "        text-align: right;\n",
       "    }\n",
       "</style>\n",
       "<table border=\"1\" class=\"dataframe\">\n",
       "  <thead>\n",
       "    <tr style=\"text-align: right;\">\n",
       "      <th></th>\n",
       "      <th>id</th>\n",
       "      <th>title</th>\n",
       "      <th>description</th>\n",
       "      <th>label</th>\n",
       "    </tr>\n",
       "  </thead>\n",
       "  <tbody>\n",
       "    <tr>\n",
       "      <th>0</th>\n",
       "      <td>B07W42P978</td>\n",
       "      <td>WD12X10327 Rack Roller and stud assembly Kit (...</td>\n",
       "      <td>PARTS NUMBERThe WD12X10327 dishwasher top rack...</td>\n",
       "      <td>29</td>\n",
       "    </tr>\n",
       "    <tr>\n",
       "      <th>1</th>\n",
       "      <td>B083Q6Y54F</td>\n",
       "      <td>G.a HOMEFAVOR Cold Brew Coffee Infuser 64oz (2...</td>\n",
       "      <td>COMPLETE COLD BREW SYSTEM The Cold Brew Kit is...</td>\n",
       "      <td>19</td>\n",
       "    </tr>\n",
       "    <tr>\n",
       "      <th>2</th>\n",
       "      <td>B00KAS9ZMG</td>\n",
       "      <td>3-pack OnePurify Water Filter Replacement Cart...</td>\n",
       "      <td>This OnePurify refrigerator water filter conta...</td>\n",
       "      <td>0</td>\n",
       "    </tr>\n",
       "    <tr>\n",
       "      <th>3</th>\n",
       "      <td>B01AQHSNSM</td>\n",
       "      <td>SAMSUNG DA97-11092B Genuine OEM Ice Maker Asse...</td>\n",
       "      <td>This high quality Genuine OEM Samsung Ice Make...</td>\n",
       "      <td>32</td>\n",
       "    </tr>\n",
       "    <tr>\n",
       "      <th>4</th>\n",
       "      <td>B0BWCL9WCH</td>\n",
       "      <td>PARTY BARGAINS 600 Paper Coffee Filters - Whit...</td>\n",
       "      <td>PARTY BARGAINS Disposable Coffee Filters  Sing...</td>\n",
       "      <td>7</td>\n",
       "    </tr>\n",
       "  </tbody>\n",
       "</table>\n",
       "</div>"
      ],
      "text/plain": [
       "           id                                              title  \\\n",
       "0  B07W42P978  WD12X10327 Rack Roller and stud assembly Kit (...   \n",
       "1  B083Q6Y54F  G.a HOMEFAVOR Cold Brew Coffee Infuser 64oz (2...   \n",
       "2  B00KAS9ZMG  3-pack OnePurify Water Filter Replacement Cart...   \n",
       "3  B01AQHSNSM  SAMSUNG DA97-11092B Genuine OEM Ice Maker Asse...   \n",
       "4  B0BWCL9WCH  PARTY BARGAINS 600 Paper Coffee Filters - Whit...   \n",
       "\n",
       "                                         description  label  \n",
       "0  PARTS NUMBERThe WD12X10327 dishwasher top rack...     29  \n",
       "1  COMPLETE COLD BREW SYSTEM The Cold Brew Kit is...     19  \n",
       "2  This OnePurify refrigerator water filter conta...      0  \n",
       "3  This high quality Genuine OEM Samsung Ice Make...     32  \n",
       "4  PARTY BARGAINS Disposable Coffee Filters  Sing...      7  "
      ]
     },
     "execution_count": 65,
     "metadata": {},
     "output_type": "execute_result"
    }
   ],
   "source": [
    "products_df.head()"
   ]
  },
  {
   "cell_type": "code",
   "execution_count": 67,
   "id": "a212fd06-96ac-4c4f-91c0-5b7b7e94a0f0",
   "metadata": {},
   "outputs": [],
   "source": [
    "products_df.to_csv(\"data/labeled_appliances.csv\", index=False)"
   ]
  },
  {
   "cell_type": "code",
   "execution_count": null,
   "id": "3f4f47c3-9359-4f3c-8cca-1e0b07679611",
   "metadata": {},
   "outputs": [],
   "source": []
  }
 ],
 "metadata": {
  "kernelspec": {
   "display_name": "Python 3 (ipykernel)",
   "language": "python",
   "name": "python3"
  },
  "language_info": {
   "codemirror_mode": {
    "name": "ipython",
    "version": 3
   },
   "file_extension": ".py",
   "mimetype": "text/x-python",
   "name": "python",
   "nbconvert_exporter": "python",
   "pygments_lexer": "ipython3",
   "version": "3.12.4"
  }
 },
 "nbformat": 4,
 "nbformat_minor": 5
}
