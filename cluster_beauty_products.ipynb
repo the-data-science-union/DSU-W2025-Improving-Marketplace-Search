{
 "cells": [
  {
   "cell_type": "code",
   "execution_count": 1,
   "id": "cd411acb-03eb-49aa-816f-9eb6934d6e8c",
   "metadata": {},
   "outputs": [],
   "source": [
    "import numpy as np\n",
    "import pandas as pd\n",
    "import matplotlib.pyplot as plt\n",
    "from sklearn.feature_extraction.text import TfidfVectorizer\n",
    "from sklearn.cluster import KMeans\n",
    "from sentence_transformers import SentenceTransformer\n",
    "from umap import UMAP\n",
    "from bertopic import BERTopic\n",
    "import hdbscan\n",
    "import re\n",
    "import json"
   ]
  },
  {
   "cell_type": "code",
   "execution_count": 4,
   "id": "7cc242b8-9284-4e3c-86b8-dc00c9a1ee6b",
   "metadata": {},
   "outputs": [],
   "source": [
    "class ProductGroupGenerator:\n",
    "    def __init__(self, min_cluster_size=5, max_clusters=75):\n",
    "        self.sentence_model = SentenceTransformer('all-MiniLM-L6-v2')\n",
    "        self.tfidf = TfidfVectorizer(\n",
    "            max_features=1000,\n",
    "            stop_words='english',\n",
    "            ngram_range=(1, 2)\n",
    "        )\n",
    "        self.min_cluster_size = min_cluster_size\n",
    "        self.max_clusters = max_clusters\n",
    "        \n",
    "    def preprocess_text(self, text):\n",
    "        # Convert to lowercase and remove special characters\n",
    "        text = re.sub(r'[^a-zA-Z0-9\\s]', ' ', str(text).lower())\n",
    "        # Remove extra whitespace\n",
    "        text = re.sub(r'\\s+', ' ', text).strip()\n",
    "        return text\n",
    "        \n",
    "    def generate_clusters(self, texts, method='combined', n_clusters=None):\n",
    "        \"\"\"\n",
    "        Generate product clusters using different methods\n",
    "        \n",
    "        Args:\n",
    "            texts: List of product titles/descriptions\n",
    "            method: One of 'tfidf_kmeans', 'bert_topic', or 'combined'\n",
    "            n_clusters: Optional target number of clusters\n",
    "        \"\"\"\n",
    "        if n_clusters is None:\n",
    "            n_clusters = min(len(texts) // self.min_cluster_size, self.max_clusters)\n",
    "            \n",
    "        processed_texts = [self.preprocess_text(text) for text in texts]\n",
    "        \n",
    "        if method == 'tfidf_kmeans':\n",
    "            return self._cluster_tfidf_kmeans(processed_texts, n_clusters)\n",
    "        elif method == 'bert_topic':\n",
    "            return self._cluster_bert_topic(processed_texts)\n",
    "        elif method == 'combined':\n",
    "            return self._cluster_combined(processed_texts, n_clusters)\n",
    "        else:\n",
    "            raise ValueError(\"Invalid clustering method\")\n",
    "    \n",
    "    def _cluster_tfidf_kmeans(self, texts, n_clusters):\n",
    "        # Transform texts to TF-IDF vectors\n",
    "        tfidf_matrix = self.tfidf.fit_transform(texts)\n",
    "        \n",
    "        kmeans = KMeans(n_clusters=n_clusters, random_state=42)\n",
    "        labels = kmeans.fit_predict(tfidf_matrix)\n",
    "        \n",
    "        # Get top terms for each cluster\n",
    "        cluster_terms = {}\n",
    "        feature_names = self.tfidf.get_feature_names_out()\n",
    "        for i in range(n_clusters):\n",
    "            center_indices = kmeans.cluster_centers_[i].argsort()[::-1][:5]\n",
    "            cluster_terms[i] = [feature_names[idx] for idx in center_indices]\n",
    "            \n",
    "        return labels, cluster_terms\n",
    "    \n",
    "    def _cluster_bert_topic(self, texts):\n",
    "        # Create embeddings\n",
    "        embeddings = self.sentence_model.encode(texts)\n",
    "        \n",
    "        # Initialize BERTopic\n",
    "        topic_model = BERTopic(\n",
    "            umap_model=UMAP(n_neighbors=15, n_components=5, min_dist=0.0, metric='cosine'),\n",
    "            hdbscan_model=hdbscan.HDBSCAN(\n",
    "                min_cluster_size=self.min_cluster_size,\n",
    "                min_samples=1,\n",
    "                metric='euclidean',\n",
    "                cluster_selection_method='eom'\n",
    "            ),\n",
    "            verbose=True\n",
    "        )\n",
    "        \n",
    "        # Fit the model and get topics\n",
    "        labels, _ = topic_model.fit_transform(texts, embeddings)\n",
    "        \n",
    "        # Get topic terms\n",
    "        topic_terms = {}\n",
    "        for topic_idx, words in topic_model.get_topics().items():\n",
    "            topic_terms[topic_idx] = [word[0] for word in words[:5]]\n",
    "            \n",
    "        return labels, topic_terms\n",
    "    \n",
    "    def _cluster_combined(self, texts, n_clusters):\n",
    "        # Get clusters from both methods\n",
    "        print(\"CLUSTERING BY KMEANS\")\n",
    "        kmeans_labels, kmeans_terms = self._cluster_tfidf_kmeans(texts, n_clusters)\n",
    "        print(\"CLUSTERING BY BERT\")\n",
    "        bert_labels, bert_terms = self._cluster_bert_topic(texts)\n",
    "        \n",
    "        # Create ensemble clustering\n",
    "        # Convert labels to one-hot encoding\n",
    "        def one_hot_encode(labels):\n",
    "            n_unique = len(np.unique(labels))\n",
    "            return np.eye(n_unique)[labels]\n",
    "        \n",
    "        kmeans_oh = one_hot_encode(kmeans_labels)\n",
    "        bert_oh = one_hot_encode(bert_labels)\n",
    "        \n",
    "        # Concatenate features\n",
    "        combined_features = np.hstack([kmeans_oh, bert_oh])\n",
    "        \n",
    "        # Final clustering on combined features\n",
    "        print(\"CREATING FINAL CLUSTERING COMBINATION\")\n",
    "        final_kmeans = KMeans(n_clusters=n_clusters)\n",
    "        final_labels = final_kmeans.fit_predict(combined_features)\n",
    "        \n",
    "        # Combine terms from both methods for final clusters\n",
    "        final_terms = {}\n",
    "        for i in range(n_clusters):\n",
    "            terms_set = set()\n",
    "            terms_set.update(kmeans_terms.get(i, []))\n",
    "            terms_set.update(bert_terms.get(i, []))\n",
    "            final_terms[i] = list(terms_set)[:5]\n",
    "            \n",
    "        return final_labels, final_terms\n",
    "\n",
    "    def analyze_clusters(self, texts, labels, cluster_terms):\n",
    "        \"\"\"\n",
    "        Analyze cluster quality and characteristics\n",
    "        \"\"\"\n",
    "        cluster_stats = {}\n",
    "        unique_labels = np.unique(labels)\n",
    "        \n",
    "        for label in unique_labels:\n",
    "            cluster_texts = [texts[i] for i in range(len(texts)) if labels[i] == label]\n",
    "            cluster_stats[label] = {\n",
    "                'size': len(cluster_texts),\n",
    "                'terms': cluster_terms.get(label, []),\n",
    "                'sample_products': cluster_texts[:3]  # Show 3 example products\n",
    "            }\n",
    "            \n",
    "        return cluster_stats"
   ]
  },
  {
   "cell_type": "code",
   "execution_count": 5,
   "id": "be193eef-7148-4aca-a5e9-d715e91ca3bb",
   "metadata": {},
   "outputs": [],
   "source": [
    "# Prepare your data\n",
    "products_df = pd.read_csv(\"C:/Users/benja/Desktop/Improving_Mp_Search/beauty_and_personal_care_filtered.csv\")\n",
    "texts = products_df['title'] + ' ' + products_df['description']"
   ]
  },
  {
   "cell_type": "code",
   "execution_count": 6,
   "id": "fbd354cd-accd-4968-8746-c2a524d4f145",
   "metadata": {},
   "outputs": [],
   "source": [
    "# Initialize clustering class\n",
    "generator = ProductGroupGenerator(min_cluster_size=100, max_clusters = 100)"
   ]
  },
  {
   "cell_type": "code",
   "execution_count": 7,
   "id": "b81cd68e-dcb3-46ce-a6d6-a8a4fe0f2739",
   "metadata": {},
   "outputs": [
    {
     "name": "stderr",
     "output_type": "stream",
     "text": [
      "2025-03-01 14:28:16,008 - BERTopic - Dimensionality - Fitting the dimensionality reduction algorithm\n",
      "2025-03-01 14:28:35,511 - BERTopic - Dimensionality - Completed ✓\n",
      "2025-03-01 14:28:35,522 - BERTopic - Cluster - Start clustering the reduced embeddings\n",
      "2025-03-01 14:28:37,461 - BERTopic - Cluster - Completed ✓\n",
      "2025-03-01 14:28:37,473 - BERTopic - Representation - Extracting topics from clusters using representation models.\n",
      "2025-03-01 14:28:41,538 - BERTopic - Representation - Completed ✓\n"
     ]
    }
   ],
   "source": [
    "# Run clustering\n",
    "labels, cluster_terms = generator.generate_clusters(texts, method='bert_topic')"
   ]
  },
  {
   "cell_type": "code",
   "execution_count": 8,
   "id": "54d572f8-35b6-4d9a-abe3-70e7abca4c16",
   "metadata": {},
   "outputs": [],
   "source": [
    "# Analyze the clusters\n",
    "cluster_stats = generator.analyze_clusters(texts, labels, cluster_terms)"
   ]
  },
  {
   "cell_type": "code",
   "execution_count": 9,
   "id": "7d1f9b02-85f8-4821-aeec-6a8aca89155e",
   "metadata": {},
   "outputs": [
    {
     "data": {
      "text/plain": [
       "18274"
      ]
     },
     "execution_count": 9,
     "metadata": {},
     "output_type": "execute_result"
    }
   ],
   "source": [
    "# Number of total products\n",
    "products_df.shape[0] "
   ]
  },
  {
   "cell_type": "code",
   "execution_count": 10,
   "id": "6d8c8de1-2078-461c-96c3-cc48126fa1c6",
   "metadata": {},
   "outputs": [
    {
     "data": {
      "text/plain": [
       "68"
      ]
     },
     "execution_count": 10,
     "metadata": {},
     "output_type": "execute_result"
    }
   ],
   "source": [
    "# Number of clusters\n",
    "len(cluster_stats)"
   ]
  },
  {
   "cell_type": "code",
   "execution_count": 11,
   "id": "21789118-4da2-4143-a1f5-e1e7dde292dd",
   "metadata": {},
   "outputs": [
    {
     "name": "stdout",
     "output_type": "stream",
     "text": [
      "Cluster Size: 1789\n",
      "Key Terms: hair, shampoo, conditioner, and, oil\n",
      "\n",
      "Cluster Size: 823\n",
      "Key Terms: trimmer, shaver, blades, blade, electric\n",
      "\n",
      "Cluster Size: 492\n",
      "Key Terms: wig, wigs, lace, human, front\n",
      "\n",
      "Cluster Size: 365\n",
      "Key Terms: makeup, brush, brushes, sponge, foundation\n",
      "\n",
      "Cluster Size: 354\n",
      "Key Terms: iron, curling, heat, straightener, ceramic\n",
      "\n",
      "Cluster Size: 346\n",
      "Key Terms: polish, gel, nail, coat, lamp\n",
      "\n",
      "Cluster Size: 344\n",
      "Key Terms: serum, skin, vitamin, hyaluronic, acid\n",
      "\n",
      "Cluster Size: 327\n",
      "Key Terms: nail, art, glitter, rhinestones, stickers\n",
      "\n",
      "Cluster Size: 320\n",
      "Key Terms: clips, hair, bun, claw, pins\n",
      "\n",
      "Cluster Size: 306\n",
      "Key Terms: foundation, makeup, coverage, concealer, skin\n",
      "\n"
     ]
    }
   ],
   "source": [
    "# Sample of group sizes and key terms\n",
    "for i in range(10):\n",
    "    print(f\"Cluster Size: {cluster_stats[i]['size']}\")\n",
    "    print(f\"Key Terms: {', '.join(cluster_stats[i]['terms'])}\\n\")"
   ]
  },
  {
   "cell_type": "code",
   "execution_count": 12,
   "id": "adbf9958-729d-495e-8660-c56dafba11da",
   "metadata": {},
   "outputs": [],
   "source": [
    "num_items = []\n",
    "\n",
    "for cluster in cluster_stats.keys():\n",
    "    num_items.append(cluster_stats[cluster]['size'])"
   ]
  },
  {
   "cell_type": "code",
   "execution_count": 13,
   "id": "78744012-79cf-45a4-bc8f-0183a758520e",
   "metadata": {},
   "outputs": [
    {
     "data": {
      "image/png": "[encoded data removed]",
      "text/plain": [
       "<Figure size 640x480 with 1 Axes>"
      ]
     },
     "metadata": {},
     "output_type": "display_data"
    }
   ],
   "source": [
    "plt.hist(num_items, bins=30, density=True)\n",
    "plt.title(\"Cluster Size Distribution\")\n",
    "plt.xlabel(\"Number of Products in Group\")\n",
    "plt.ylabel(\"Relative Frequency\")\n",
    "plt.show()"
   ]
  },
  {
   "cell_type": "code",
   "execution_count": 14,
   "id": "69d6ce21-66d7-4890-8f01-b047cc41a3c2",
   "metadata": {},
   "outputs": [
    {
     "data": {
      "text/plain": [
       "label\n",
       "-1    3302\n",
       " 0    1789\n",
       " 1     823\n",
       " 2     492\n",
       " 3     365\n",
       "Name: count, dtype: int64"
      ]
     },
     "execution_count": 14,
     "metadata": {},
     "output_type": "execute_result"
    }
   ],
   "source": [
    "products_df['label'] = labels\n",
    "products_df['label'].value_counts()[:5]"
   ]
  },
  {
   "cell_type": "code",
   "execution_count": 15,
   "id": "01b72911-6529-45d1-b9ae-5eb1d7407e6b",
   "metadata": {},
   "outputs": [
    {
     "name": "stdout",
     "output_type": "stream",
     "text": [
      "['hair', 'shampoo', 'conditioner', 'and', 'oil']\n",
      "['trimmer', 'shaver', 'blades', 'blade', 'electric']\n",
      "['wig', 'wigs', 'lace', 'human', 'front']\n",
      "['makeup', 'brush', 'brushes', 'sponge', 'foundation']\n",
      "['iron', 'curling', 'heat', 'straightener', 'ceramic']\n",
      "['polish', 'gel', 'nail', 'coat', 'lamp']\n",
      "['serum', 'skin', 'vitamin', 'hyaluronic', 'acid']\n",
      "['nail', 'art', 'glitter', 'rhinestones', 'stickers']\n",
      "['clips', 'hair', 'bun', 'claw', 'pins']\n",
      "['foundation', 'makeup', 'coverage', 'concealer', 'skin']\n",
      "['mirror', 'makeup', 'magnification', 'lighted', 'vanity']\n",
      "['soap', 'bar', 'body', 'wash', 'hand']\n",
      "['acne', 'skin', 'acid', 'face', 'salicylic']\n",
      "['sunscreen', 'spf', 'sun', 'protection', 'spectrum']\n",
      "['deodorant', 'antiperspirant', 'odor', 'protection', 'sweat']\n",
      "['nails', 'nail', 'tips', 'fake', 'false']\n",
      "['extensions', 'ponytail', 'hair', 'clip', 'extension']\n",
      "['headbands', 'headband', 'head', 'women', 'bands']\n",
      "['foot', 'feet', 'socks', 'cracked', 'mask']\n",
      "['notes', 'fragrance', 'perfume', 'scent', 'eau']\n",
      "['foot', 'feet', 'callus', 'file', 'pillow']\n",
      "['brush', 'hair', 'detangling', 'bristles', 'boar']\n",
      "['clippers', 'toenail', 'nail', 'ingrown', 'clipper']\n",
      "['nivea', 'shaving', 'shave', 'skin', 'lotion']\n",
      "['powder', 'dip', 'acrylic', 'nail', 'dipping']\n",
      "['tattoo', 'tattoos', 'temporary', 'ink', 'sheets']\n",
      "['razor', 'blades', 'shave', 'razors', 'blade']\n",
      "['wax', 'waxing', 'removal', 'strips', 'warmer']\n",
      "['brush', 'silicone', 'scrubber', 'cleansing', 'body']\n",
      "['bath', 'bombs', 'gift', 'bomb', 'spa']\n",
      "['eyebrow', 'brow', 'brows', 'eyebrows', 'pencil']\n",
      "['lip', 'lips', 'balm', 'balms', 'chapped']\n",
      "['drill', 'bits', 'nail', 'electric', 'bit']\n",
      "['bottles', 'bottle', 'travel', 'spray', 'glass']\n",
      "['eye', 'circles', 'under', 'eyes', 'dark']\n",
      "['files', 'nail', 'file', 'cuticle', 'nails']\n",
      "['mascara', 'lashes', 'lash', 'volume', 'serum']\n",
      "['roller', 'blackhead', 'vacuum', 'jade', 'suction']\n",
      "['beard', 'growth', 'oil', 'comb', 'balm']\n",
      "['bag', 'toiletry', 'travel', 'zipper', 'toiletries']\n",
      "['gel', 'nail', 'poly', 'extension', 'builder']\n",
      "['gloves', 'loofah', 'mitt', 'exfoliating', 'shower']\n",
      "['lash', 'eyelash', 'lashes', 'glue', 'adhesive']\n",
      "['oil', 'castor', 'organic', 'skin', 'pure']\n",
      "['satin', 'bonnet', 'sleep', 'mask', 'silk']\n",
      "['mask', 'clay', 'skin', 'masks', 'tea']\n",
      "['organizer', 'storage', 'drawers', 'makeup', 'cosmetics']\n",
      "['bag', 'makeup', 'cosmetic', 'travel', 'case']\n",
      "['wipes', 'makeup', 'cleansing', 'cleanser', 'skin']\n",
      "['eyeshadow', 'palette', 'makeup', 'eye', 'shadow']\n",
      "['ceramides', 'skin', 'barrier', 'cerave', 'skins']\n",
      "['magnetic', 'eyelashes', 'eyeliner', 'lashes', 'pairs']\n",
      "['lashes', 'eyelashes', 'mink', 'false', 'fluffy']\n",
      "['ties', 'hair', 'bands', 'elastic', 'ponytail']\n",
      "['dryer', 'diffuser', 'hair', 'ionic', 'dryers']\n",
      "['scissors', 'cutting', 'shears', 'hair', 'scissor']\n",
      "['scrunchies', 'hair', 'ties', 'velvet', 'satin']\n",
      "['lipstick', 'lip', 'matte', 'lips', 'gloss']\n",
      "['nyx', 'makeup', 'lip', 'primer', 'professional']\n",
      "['tan', 'tanning', 'sunless', 'self', 'tanner']\n",
      "['crochet', 'locs', 'twist', 'braids', 'braiding']\n",
      "['eyeliner', 'eye', 'pencil', 'liquid', 'eyes']\n",
      "['wahl', 'blade', 'clipper', 'professional', '5star']\n",
      "['skin', 'lotion', 'body', 'butter', 'shea']\n",
      "['butter', 'shea', 'cocoa', 'stretch', 'skin']\n",
      "['lamp', 'uv', 'nail', 'curing', 'led']\n",
      "['eyelash', 'lash', 'curler', 'fan', 'extension']\n"
     ]
    }
   ],
   "source": [
    "for i in range(len(cluster_stats)-1):\n",
    "    print(cluster_stats[i]['terms'])"
   ]
  },
  {
   "cell_type": "code",
   "execution_count": 16,
   "id": "c3007093-9e81-49ff-b354-89e9e605337b",
   "metadata": {},
   "outputs": [],
   "source": [
    "cluster_terms = {i: cluster_stats[i]['terms'] for i in range(-1, len(cluster_stats)-1)}"
   ]
  },
  {
   "cell_type": "code",
   "execution_count": 17,
   "id": "90463c42-318b-4b28-acc7-7d727eca1a1b",
   "metadata": {},
   "outputs": [],
   "source": [
    "with open(\"C:/Users/benja/Desktop/Improving_Mp_Search/beauty_and_personal_care_key_terms.json\", \"w\") as f:\n",
    "    json.dump(cluster_terms, f)"
   ]
  },
  {
   "cell_type": "code",
   "execution_count": 18,
   "id": "a2ecfad6-e23a-4c6e-92fb-fc6c01229a9b",
   "metadata": {},
   "outputs": [
    {
     "data": {
      "text/html": [
       "<div>\n",
       "<style scoped>\n",
       "    .dataframe tbody tr th:only-of-type {\n",
       "        vertical-align: middle;\n",
       "    }\n",
       "\n",
       "    .dataframe tbody tr th {\n",
       "        vertical-align: top;\n",
       "    }\n",
       "\n",
       "    .dataframe thead th {\n",
       "        text-align: right;\n",
       "    }\n",
       "</style>\n",
       "<table border=\"1\" class=\"dataframe\">\n",
       "  <thead>\n",
       "    <tr style=\"text-align: right;\">\n",
       "      <th></th>\n",
       "      <th>id</th>\n",
       "      <th>title</th>\n",
       "      <th>description</th>\n",
       "      <th>label</th>\n",
       "    </tr>\n",
       "  </thead>\n",
       "  <tbody>\n",
       "    <tr>\n",
       "      <th>0</th>\n",
       "      <td>B01ALT5MKW</td>\n",
       "      <td>Babo Botanicals Sheer Zinc Continuous Spray Su...</td>\n",
       "      <td>Get the comfort of a lotion sunscreen and the ...</td>\n",
       "      <td>13</td>\n",
       "    </tr>\n",
       "    <tr>\n",
       "      <th>1</th>\n",
       "      <td>B0C5Z7V77F</td>\n",
       "      <td>SUNATORIA Keratin Hair Mask - Professional Tre...</td>\n",
       "      <td>Restorative Hair Mask with Hydrolyzed Keratin ...</td>\n",
       "      <td>0</td>\n",
       "    </tr>\n",
       "    <tr>\n",
       "      <th>2</th>\n",
       "      <td>B0BZJ5LDZ6</td>\n",
       "      <td>[Farewell] Sunny I Tip Hair Extensions Natural...</td>\n",
       "      <td>SpecificationsSunny I tip hair extensions are ...</td>\n",
       "      <td>16</td>\n",
       "    </tr>\n",
       "    <tr>\n",
       "      <th>3</th>\n",
       "      <td>B09MTGTV3G</td>\n",
       "      <td>Vvan Long Straight Hair Ombre Green Straight W...</td>\n",
       "      <td>Basic information 1Hair MaterialHeat Resistant...</td>\n",
       "      <td>2</td>\n",
       "    </tr>\n",
       "    <tr>\n",
       "      <th>4</th>\n",
       "      <td>B0722JDG4Q</td>\n",
       "      <td>Makeup Bag,Leather Double Layer Large Makeup O...</td>\n",
       "      <td>Durable Makeup Bag Travel Accessories for Wome...</td>\n",
       "      <td>47</td>\n",
       "    </tr>\n",
       "  </tbody>\n",
       "</table>\n",
       "</div>"
      ],
      "text/plain": [
       "           id                                              title  \\\n",
       "0  B01ALT5MKW  Babo Botanicals Sheer Zinc Continuous Spray Su...   \n",
       "1  B0C5Z7V77F  SUNATORIA Keratin Hair Mask - Professional Tre...   \n",
       "2  B0BZJ5LDZ6  [Farewell] Sunny I Tip Hair Extensions Natural...   \n",
       "3  B09MTGTV3G  Vvan Long Straight Hair Ombre Green Straight W...   \n",
       "4  B0722JDG4Q  Makeup Bag,Leather Double Layer Large Makeup O...   \n",
       "\n",
       "                                         description  label  \n",
       "0  Get the comfort of a lotion sunscreen and the ...     13  \n",
       "1  Restorative Hair Mask with Hydrolyzed Keratin ...      0  \n",
       "2  SpecificationsSunny I tip hair extensions are ...     16  \n",
       "3  Basic information 1Hair MaterialHeat Resistant...      2  \n",
       "4  Durable Makeup Bag Travel Accessories for Wome...     47  "
      ]
     },
     "execution_count": 18,
     "metadata": {},
     "output_type": "execute_result"
    }
   ],
   "source": [
    "products_df.head()"
   ]
  },
  {
   "cell_type": "code",
   "execution_count": 20,
   "id": "bab169a9-9d95-4974-970c-8afab4b9b8a5",
   "metadata": {},
   "outputs": [],
   "source": [
    "products_df.to_csv(\"C:/Users/benja/Desktop/Improving_Mp_Search/labeled_beauty_and_personal_care_products.csv\", index=False)"
   ]
  }
 ],
 "metadata": {
  "kernelspec": {
   "display_name": "Python 3",
   "language": "python",
   "name": "python3"
  },
  "language_info": {
   "codemirror_mode": {
    "name": "ipython",
    "version": 3
   },
   "file_extension": ".py",
   "mimetype": "text/x-python",
   "name": "python",
   "nbconvert_exporter": "python",
   "pygments_lexer": "ipython3",
   "version": "3.12.6"
  }
 },
 "nbformat": 4,
 "nbformat_minor": 5
}
